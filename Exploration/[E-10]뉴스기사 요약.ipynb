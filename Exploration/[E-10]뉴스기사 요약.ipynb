{
  "nbformat": 4,
  "nbformat_minor": 0,
  "metadata": {
    "colab": {
      "name": "[E-10]뉴스기사 요약.ipynb",
      "provenance": [],
      "toc_visible": true,
      "authorship_tag": "ABX9TyNcYF84IMQUoxdD9vnxyru0",
      "include_colab_link": true
    },
    "kernelspec": {
      "name": "python3",
      "display_name": "Python 3"
    },
    "language_info": {
      "name": "python"
    }
  },
  "cells": [
    {
      "cell_type": "markdown",
      "metadata": {
        "id": "view-in-github",
        "colab_type": "text"
      },
      "source": [
        "<a href=\"https://colab.research.google.com/github/Beatriz-Yun/AIFFEL_LMS/blob/main/Exploration/%5BE-10%5D%EB%89%B4%EC%8A%A4%EA%B8%B0%EC%82%AC%20%EC%9A%94%EC%95%BD.ipynb\" target=\"_parent\"><img src=\"https://colab.research.google.com/assets/colab-badge.svg\" alt=\"Open In Colab\"/></a>"
      ]
    },
    {
      "cell_type": "markdown",
      "metadata": {
        "id": "s4fxo-OdFOi6"
      },
      "source": [
        "# Step 1. 데이터 수집하기\n",
        "데이터는 아래 링크에 있는 뉴스 기사 데이터(news_summary_more.csv)를 사용한다.\n",
        "- [sunnysai12345/News_Summary](https://github.com/sunnysai12345/News_Summary)\n",
        "\n",
        "<br>\n",
        "\n",
        "urllib.request를 이용하여 깃허브링크를 통해 파일을 다운받을 수 있다."
      ]
    },
    {
      "cell_type": "code",
      "metadata": {
        "id": "SzA7B06GxgxJ"
      },
      "source": [
        "import pandas as pd\n",
        "import urllib.request\n",
        "\n",
        "urllib.request.urlretrieve(\"https://raw.githubusercontent.com/sunnysai12345/News_Summary/master/news_summary_more.csv\", filename=\"news_summary_more.csv\")\n",
        "data = pd.read_csv('news_summary_more.csv', encoding='iso-8859-1')"
      ],
      "execution_count": null,
      "outputs": []
    },
    {
      "cell_type": "markdown",
      "metadata": {
        "id": "uXo3zmPAFuKa"
      },
      "source": [
        "데이터를 살펴보면, 기사의 본문에 해당되는 text와 headlines 두 가지 열로 구성되어져 있다.\n",
        "\n",
        "- 추상적 요약을 하는 경우에는 text를 본문, **headlines를 이미 요약된 데이터로 삼아서** 모델을 학습할 수 있다.\n",
        "- 추출적 요약을 하는 경우에는 오직 text열만을 사용한다."
      ]
    },
    {
      "cell_type": "code",
      "metadata": {
        "colab": {
          "base_uri": "https://localhost:8080/",
          "height": 362
        },
        "id": "6Yp49ixmFpuv",
        "outputId": "5f5e19df-3742-47dc-b812-cdfe2a17f370"
      },
      "source": [
        "data.sample(10)"
      ],
      "execution_count": null,
      "outputs": [
        {
          "output_type": "execute_result",
          "data": {
            "text/html": [
              "<div>\n",
              "<style scoped>\n",
              "    .dataframe tbody tr th:only-of-type {\n",
              "        vertical-align: middle;\n",
              "    }\n",
              "\n",
              "    .dataframe tbody tr th {\n",
              "        vertical-align: top;\n",
              "    }\n",
              "\n",
              "    .dataframe thead th {\n",
              "        text-align: right;\n",
              "    }\n",
              "</style>\n",
              "<table border=\"1\" class=\"dataframe\">\n",
              "  <thead>\n",
              "    <tr style=\"text-align: right;\">\n",
              "      <th></th>\n",
              "      <th>headlines</th>\n",
              "      <th>text</th>\n",
              "    </tr>\n",
              "  </thead>\n",
              "  <tbody>\n",
              "    <tr>\n",
              "      <th>23915</th>\n",
              "      <td>Taxpayers will pay Ã¢ÂÂ¹1 lakh crore to PM's ...</td>\n",
              "      <td>Taking a dig at PM Narendra Modi, Congress pre...</td>\n",
              "    </tr>\n",
              "    <tr>\n",
              "      <th>62179</th>\n",
              "      <td>Gossip Girl actor Ed Westwick accused of rape ...</td>\n",
              "      <td>Actor Ed Westwick, known for portraying Chuck ...</td>\n",
              "    </tr>\n",
              "    <tr>\n",
              "      <th>21028</th>\n",
              "      <td>Prayers with everyone in Kerala: Eng limited-o...</td>\n",
              "      <td>England's limited-overs captain Eoin Morgan tw...</td>\n",
              "    </tr>\n",
              "    <tr>\n",
              "      <th>78647</th>\n",
              "      <td>Namastey Canada is not Namastey London's seque...</td>\n",
              "      <td>Filmmaker Vipul Shah has said that the upcomin...</td>\n",
              "    </tr>\n",
              "    <tr>\n",
              "      <th>35011</th>\n",
              "      <td>Couple gets McDonald's burgers for Ã¢ÂÂ¹66,00...</td>\n",
              "      <td>An Australian couple ordered 300 McDonald's ch...</td>\n",
              "    </tr>\n",
              "    <tr>\n",
              "      <th>17721</th>\n",
              "      <td>This is the revival of Test cricket: Kohli on ...</td>\n",
              "      <td>After losing the five-match Test series agains...</td>\n",
              "    </tr>\n",
              "    <tr>\n",
              "      <th>6802</th>\n",
              "      <td>Meat delivery startup Licious raises $25 mn in...</td>\n",
              "      <td>Bengaluru-based fresh meat and seafood deliver...</td>\n",
              "    </tr>\n",
              "    <tr>\n",
              "      <th>88417</th>\n",
              "      <td>SBI's net profit rises by 122% in March quarter</td>\n",
              "      <td>State Bank of India on Friday said its net pro...</td>\n",
              "    </tr>\n",
              "    <tr>\n",
              "      <th>67318</th>\n",
              "      <td>Barack Obama visits Invictus Games with Prince...</td>\n",
              "      <td>Former American President Barack Obama watched...</td>\n",
              "    </tr>\n",
              "    <tr>\n",
              "      <th>30116</th>\n",
              "      <td>MS Dhoni's intuition is rare in cricket: CSK's...</td>\n",
              "      <td>Chennai Super Kings all-rounder Shane Watson h...</td>\n",
              "    </tr>\n",
              "  </tbody>\n",
              "</table>\n",
              "</div>"
            ],
            "text/plain": [
              "                                               headlines                                               text\n",
              "23915  Taxpayers will pay Ã¢ÂÂ¹1 lakh crore to PM's ...  Taking a dig at PM Narendra Modi, Congress pre...\n",
              "62179  Gossip Girl actor Ed Westwick accused of rape ...  Actor Ed Westwick, known for portraying Chuck ...\n",
              "21028  Prayers with everyone in Kerala: Eng limited-o...  England's limited-overs captain Eoin Morgan tw...\n",
              "78647  Namastey Canada is not Namastey London's seque...  Filmmaker Vipul Shah has said that the upcomin...\n",
              "35011  Couple gets McDonald's burgers for Ã¢ÂÂ¹66,00...  An Australian couple ordered 300 McDonald's ch...\n",
              "17721  This is the revival of Test cricket: Kohli on ...  After losing the five-match Test series agains...\n",
              "6802   Meat delivery startup Licious raises $25 mn in...  Bengaluru-based fresh meat and seafood deliver...\n",
              "88417    SBI's net profit rises by 122% in March quarter  State Bank of India on Friday said its net pro...\n",
              "67318  Barack Obama visits Invictus Games with Prince...  Former American President Barack Obama watched...\n",
              "30116  MS Dhoni's intuition is rare in cricket: CSK's...  Chennai Super Kings all-rounder Shane Watson h..."
            ]
          },
          "metadata": {},
          "execution_count": 3
        }
      ]
    },
    {
      "cell_type": "markdown",
      "metadata": {
        "id": "fWA1jYgEF53j"
      },
      "source": [
        "# Step 2. 데이터 전처리하기 (추상적 요약)\n",
        "텍스트를 정규화 또는 정제해 보세요. 만약, 불용어 제거를 선택한다면 상대적으로 길이가 짧은 요약 데이터에 대해서도 불용어를 제거하는 것이 좋을지 고민해 보세요."
      ]
    },
    {
      "cell_type": "markdown",
      "metadata": {
        "id": "K-DRd044F8-0"
      },
      "source": [
        "# Step 3. 어텐션 메커니즘 사용하기 (추상적 요약)\n",
        "일반적인 seq2seq보다는 어텐션 메커니즘을 사용한 seq2seq를 사용하는 것이 더 나은 성능을 얻을 수 있어요. 실습 내용을 참고하여 어텐션 메커니즘을 사용한 seq2seq를 설계해 보세요."
      ]
    },
    {
      "cell_type": "markdown",
      "metadata": {
        "id": "0Ke8AgYOGCYC"
      },
      "source": [
        "# Step 4. 실제 결과와 요약문 비교하기 (추상적 요약)\n",
        "원래의 요약문(headlines 열)과 학습을 통해 얻은 추상적 요약의 결과를 비교해 보세요."
      ]
    },
    {
      "cell_type": "markdown",
      "metadata": {
        "id": "crQzeqS9GF2t"
      },
      "source": [
        "# Step 5. Summa을 이용해서 추출적 요약해보기\n",
        "추상적 요약은 추출적 요약과는 달리 문장의 표현력을 다양하게 가져갈 수 있지만, 추출적 요약에 비해서 난이도가 높아요. 반대로 말하면 추출적 요약은 추상적 요약에 비해 난이도가 낮고 기존 문장에서 문장을 꺼내오는 것이므로 잘못된 요약이 나올 가능성이 낮아요.\n",
        "\n",
        "Summa의 summarize를 사용하여 추출적 요약을 해보세요."
      ]
    },
    {
      "cell_type": "markdown",
      "metadata": {
        "id": "nq-EhOzcGKl6"
      },
      "source": [
        "# 루브릭\n",
        "**평가문항과 상세기준**\n",
        "\n",
        "1.Abstractive 모델 구성을 위한 텍스트 전처리 단계가 체계적으로 진행되었다.\n",
        "- 분석단계, 정제단계, 정규화와 불용어 제거, 데이터셋 분리, 인코딩 과정이 빠짐없이 체계적으로 진행되었다.\n",
        "\n",
        "2.텍스트 요약모델이 성공적으로 학습되었음을 확인하였다.\n",
        "- 모델학습이 안정적으로 수렴되었음을 그래프를 통해 확인하였으며, 실제 요약문과 유사한 요약문장을 얻을 수 있었다.\n",
        "\n",
        "3.Extractive 요약을 시도해 보고 Abstractive 요약 결과과 함께 비교해 보았다.\n",
        "- 두 요약 결과를 문법완성도 측면과 핵심단어 포함 측면으로 나누어 비교분석 결과를 제시하였다."
      ]
    },
    {
      "cell_type": "code",
      "metadata": {
        "id": "OPzWyp4kFtUn"
      },
      "source": [
        ""
      ],
      "execution_count": null,
      "outputs": []
    }
  ]
}