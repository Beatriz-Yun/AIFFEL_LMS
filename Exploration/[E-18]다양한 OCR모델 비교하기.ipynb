{
 "cells": [
  {
   "cell_type": "markdown",
   "id": "color-hopkins",
   "metadata": {},
   "source": [
    "# Step1. 검증용 데이터셋 준비"
   ]
  },
  {
   "cell_type": "markdown",
   "id": "divine-crystal",
   "metadata": {},
   "source": [
    "# Step2. Google OCR API, keras-ocr, Tesseract로 테스트 진행"
   ]
  },
  {
   "cell_type": "markdown",
   "id": "peripheral-atlantic",
   "metadata": {},
   "source": [
    "# Step3. 테스트 결과 정리"
   ]
  },
  {
   "cell_type": "markdown",
   "id": "ignored-advisory",
   "metadata": {},
   "source": [
    "# Step4. 결과 분석과 결론 제시"
   ]
  },
  {
   "cell_type": "code",
   "execution_count": null,
   "id": "renewable-vegetation",
   "metadata": {},
   "outputs": [],
   "source": []
  },
  {
   "cell_type": "code",
   "execution_count": null,
   "id": "signed-mileage",
   "metadata": {},
   "outputs": [],
   "source": []
  },
  {
   "cell_type": "markdown",
   "id": "interested-offset",
   "metadata": {},
   "source": [
    "# 루브릭\n",
    "1.OCR을 활용하여 구현하려는 서비스의 기획이 타당한가?\n",
    "- 목표로 하는 서비스가 OCR를 적용 가능하며, OCR을 활용했을 때 더욱 유용해진다.\n",
    "\n",
    "2.모델 평가기준이 명확하고 체계적으로 세워졌는가?\n",
    "- 평가 기준에 부합하는 테스트 데이터의 특징이 무엇인지 명확하게 제시되었다.\n",
    "\n",
    "3.평가기준에 따라 충분한 분량의 테스트가 진행되고 그 결과가 잘 정리되었는가?\n",
    "- 최대 20장까지의 테스트 이미지를 사용해 제시된 평가 기준에 따른 테스트 결과가 잘 정리되어 결론이 도출되었다.\n",
    "\n",
    "# 회고\n",
    "\n"
   ]
  }
 ],
 "metadata": {
  "kernelspec": {
   "display_name": "Python 3",
   "language": "python",
   "name": "python3"
  },
  "language_info": {
   "codemirror_mode": {
    "name": "ipython",
    "version": 3
   },
   "file_extension": ".py",
   "mimetype": "text/x-python",
   "name": "python",
   "nbconvert_exporter": "python",
   "pygments_lexer": "ipython3",
   "version": "3.7.9"
  }
 },
 "nbformat": 4,
 "nbformat_minor": 5
}
