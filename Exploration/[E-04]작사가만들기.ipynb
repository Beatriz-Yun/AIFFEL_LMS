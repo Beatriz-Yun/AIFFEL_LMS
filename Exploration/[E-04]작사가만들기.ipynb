{
  "nbformat": 4,
  "nbformat_minor": 0,
  "metadata": {
    "colab": {
      "name": "[E-04]작사가만들기.ipynb",
      "provenance": [],
      "collapsed_sections": [],
      "authorship_tag": "ABX9TyPgyo7+d6gLhOX/ivFWjC2o",
      "include_colab_link": true
    },
    "kernelspec": {
      "name": "python3",
      "display_name": "Python 3"
    },
    "language_info": {
      "name": "python"
    },
    "accelerator": "GPU"
  },
  "cells": [
    {
      "cell_type": "markdown",
      "metadata": {
        "id": "view-in-github",
        "colab_type": "text"
      },
      "source": [
        "<a href=\"https://colab.research.google.com/github/Beatriz-Yun/AIFFEL_LMS/blob/main/Exploration/%5BE-04%5D%EC%9E%91%EC%82%AC%EA%B0%80%EB%A7%8C%EB%93%A4%EA%B8%B0.ipynb\" target=\"_parent\"><img src=\"https://colab.research.google.com/assets/colab-badge.svg\" alt=\"Open In Colab\"/></a>"
      ]
    },
    {
      "cell_type": "code",
      "metadata": {
        "id": "09SaeOlFxzh3",
        "colab": {
          "base_uri": "https://localhost:8080/"
        },
        "outputId": "a7106c42-db98-4821-8699-f72710933e7a"
      },
      "source": [
        "from google.colab import drive\n",
        "drive.mount('/content/drive')"
      ],
      "execution_count": 11,
      "outputs": [
        {
          "output_type": "stream",
          "text": [
            "Mounted at /content/drive\n"
          ],
          "name": "stdout"
        }
      ]
    },
    {
      "cell_type": "markdown",
      "metadata": {
        "id": "OA2eTtttxufa"
      },
      "source": [
        "# 1) 데이터 전처리"
      ]
    },
    {
      "cell_type": "markdown",
      "metadata": {
        "id": "eQJMenHayaMC"
      },
      "source": [
        "## 1-1. 데이터 읽어오기"
      ]
    },
    {
      "cell_type": "code",
      "metadata": {
        "colab": {
          "base_uri": "https://localhost:8080/"
        },
        "id": "xNhYwFp4uIMe",
        "outputId": "8e8ff6c5-c580-478e-86c6-ddd5c528063e"
      },
      "source": [
        "import glob\n",
        "\n",
        "txt_file_path = '/content/drive/MyDrive/Colab Notebooks/AIFFEL_LMS/data/lyrics/*'\n",
        "\n",
        "txt_list = glob.glob(txt_file_path)\n",
        "\n",
        "raw_corpus = []\n",
        "\n",
        "# 여러개의 txt 파일을 모두 읽어서 한줄씩 raw_corpus 에 담습니다.\n",
        "for txt_file in txt_list:\n",
        "    with open(txt_file, \"r\") as f:\n",
        "        raw = f.read().splitlines()\n",
        "        raw_corpus.extend(raw)\n",
        "\n",
        "print(\"데이터 크기:\", len(raw_corpus))\n",
        "print(\"Examples:\\n\", raw_corpus[:3])"
      ],
      "execution_count": 17,
      "outputs": [
        {
          "output_type": "stream",
          "text": [
            "데이터 크기: 187088\n",
            "Examples:\n",
            " ['Ooh....... New York x2 Grew up in a town that is famous as a place of movie scenes', 'Noise is always loud, there are sirens all around and the streets are mean', \"If I can make it here, I can make it anywhere, that's what they say\"]\n"
          ],
          "name": "stdout"
        }
      ]
    },
    {
      "cell_type": "markdown",
      "metadata": {
        "id": "V6gfpPioyUFc"
      },
      "source": [
        "## 1-2. 데이터 정제"
      ]
    },
    {
      "cell_type": "markdown",
      "metadata": {
        "id": "zdewOIDU4DpT"
      },
      "source": [
        "데이터 확인"
      ]
    },
    {
      "cell_type": "code",
      "metadata": {
        "colab": {
          "base_uri": "https://localhost:8080/"
        },
        "id": "mz2JGOxay98K",
        "outputId": "6065bd5b-6e27-49a3-91cb-c75a45d4d117"
      },
      "source": [
        "for idx, sentence in enumerate(raw_corpus):\n",
        "    # 18만이 넘는 문장을 모두 확인할 수 없기 때문에\n",
        "    # 적당히 500문장마다 텍스트를 확인해준다.\n",
        "    if idx % 5000 != 1:\n",
        "      continue\n",
        "    print(sentence)\n"
      ],
      "execution_count": 20,
      "outputs": [
        {
          "output_type": "stream",
          "text": [
            "Noise is always loud, there are sirens all around and the streets are mean\n",
            "Despacito\n",
            "Should I go back should I go back should I\n",
            "In a quiet town Steady as she goes\n",
            "That I hold close to see your face again With you is where I'd rather be\n",
            "Last time I checked I was still breathin'\n",
            "Without this love that we call ours\n",
            "Driving 'cross the Waynesboro county line\n",
            "Does not concern the bee;\n",
            "\n",
            "We'll just live our lives one day at a time\n",
            "(Shut the fuck)\n",
            "Hey, looking boy, what you say looking boy?\n",
            "I go to T-R-L, look how many hugs I get\n",
            "Like the car with the strap in it\n",
            "Say no more, oh no more,\n",
            "Then do the same at your funeral\n",
            "Yeezy, Yeezy, Yeezy, I feel so accomplished\n",
            "Throwing shit around the whole place screwed up\n",
            "And aint nobody feel my pain\n",
            "'Cause you know that baby I I'm your biggest fan\n",
            "Chorus\n",
            "And I got y'all knuckleheads in loco parentis\n",
            "I heard you masturbate a lot, so y'all keep to yourself\n",
            "Represent your coast\n",
            "Saying That She's Yours Not Mine\n",
            "Or see it on the TV screen\n",
            "Another charlatan to idolize Is this suppression just in my mind? (just in my mind?)\n",
            "And you know my style gettin' ripped, bit off!\n",
            "Triple beam lyrical dream I be that\n",
            "one long ecstatic pure sensation\n",
            "One man but attack like a pack of piranhas like Terracota\n",
            "\n",
            "\n",
            "Have U ever wanted 2 play\n",
            "Uh! Don't try it!\n",
            "What were you thinking [Chorus: Rihanna & Chris Brown]\n",
            "Symphony should be your name\n"
          ],
          "name": "stdout"
        }
      ]
    },
    {
      "cell_type": "markdown",
      "metadata": {
        "id": "bHEdStEJJV6W"
      },
      "source": [
        "대괄호와 대괄호 안의 내용을 제거하고 싶어서 정규표현식을 `r\"\\[[^\\]]+\\]\"`라고 표현하였다.<br>\n",
        "대괄호 안에 포함되는 내용으로 `[^\\]]`로 오른쪽 대괄호를 제외한 모든 문자를 지정했다.<br>\n",
        "그 이유는 바깥범위 괄호 안에  내부의 괄호들이 포함되면 안되기 때문이다.<br><br>\n",
        "올바른 정규표현식을 사용하였는지 확인하기 위해 findall함수의 결과로 저장된 match리스트의 원소를 출력해보았다."
      ]
    },
    {
      "cell_type": "code",
      "metadata": {
        "colab": {
          "base_uri": "https://localhost:8080/"
        },
        "id": "ZKsaNb3V-UcN",
        "outputId": "1170c419-2521-4d51-9845-590bdd6567fc"
      },
      "source": [
        "import re\n",
        "from collections import defaultdict\n",
        "\n",
        "# 가사가 아닌 텍스트가 얼마나 있는지 확인\n",
        "pattern_list = [\"instrumental\", \"chorus\", \"Chorus\", r\"\\[[^\\]]+\\]\"]\n",
        "count = [0, 0, 0, 0]\n",
        "dict_count = defaultdict(int)   # 새로운 키가 들어오면 초기값을 0으로 가진다.\n",
        "\n",
        "for idx, pat in enumerate(pattern_list):\n",
        "  for sentence in raw_corpus:\n",
        "    match = re.findall(pat, sentence)            # match는 찾은 패턴을 모두 담은 리스트\n",
        "    if match:\n",
        "        #print(pat, str(len(match)), 'Found!')   # len(match)는 찾은 패턴의 개수\n",
        "        count[idx]+=1\n",
        "\n",
        "        if idx==3:     # 4번째 패턴(대괄호)이 얼마나 발견되었는지 카운트한다.\n",
        "          count2 += 1\n",
        "          #print(match, end=' ')          # 대괄호 포함, 대괄호 내부에 어떤 내용이 있는지 확인해보자.\n",
        "          dict_count[match[0]] += 1      # 중복값이 많은 것 같아 dict타입을 통해 몇가지 고유한 데이터가 있는지, 몇 개씩 있는지 확인하고 싶었다.\n",
        "      \n",
        "\n",
        "print()\n",
        "print(count)                    # 각 패턴이 몇개씩 발견되었는지 보여준다.\n",
        "print(len(dict_count))          # 총 1534의 패턴이 발견된 것에 비해 고유한 값은 411개가 있다. (즉, 평균적으로 3.7번 반복된다.)\n",
        "print(dict_count.items())\n",
        "print(dict_count['[Chorus]'])   # 정규표현으로 찾은 'Chorus'패턴의 개수와 다르다.\n",
        "print(dict_count['[chorus]'])   # 정규표현으로 찾은 'chorus'패턴의 개수와 다르다."
      ],
      "execution_count": 144,
      "outputs": [
        {
          "output_type": "stream",
          "text": [
            "\n",
            "[5, 39, 685, 1534]\n",
            "411\n",
            "dict_items([('[Chorus]', 306), ('[Chorus: x2]', 25), ('[CHORUS]', 25), ('[Incomprehensible]', 19), ('[Verse 1]', 24), ('[Pre-Chorus]', 12), ('[Verse 2]', 22), ('[Verse 3]', 6), ('[Bridge]', 24), ('[Big Sean]', 1), ('[Justin Bieber]', 4), ('[Drake]', 4), ('[both]', 1), ('[Verse]', 2), ('[Outro]', 9), ('[X5]', 1), ('[X4]', 4), ('[Repeat: x3]', 9), ('[Verse 1: Matt Skiba]', 1), ('[Chorus: Mark Hoppus (Matt Skiba)]', 2), ('[Verse 2: Mark Hoppus]', 1), ('[Bridge: Mark Hoppus and Matt Skiba]', 1), ('[Outro: Mark Hoppus (Matt Skiba)]', 1), ('[Chorus x2:]', 3), ('[Chorus x2]', 3), ('[Clean version:]', 1), ('[Explicit version:]', 1), ('[x2:]', 1), ('[Adele]', 2), ('[Chorus:]', 70), ('[Chorus:Repeat x3]', 1), ('[Fade]', 1), ('[Chorus:Repeat x2]', 5), ('[Repeat: x4]', 10), ('[Repeats]', 5), ('[Repeat to end]', 1), ('[Instrumental]', 5), ('[Verse 1:]', 5), ('[Verse 2:]', 5), ('[Bridge:]', 7), (\"[Je t'aime Aicha et je meurs pour toi]\", 1), ('[Toi, tu es mon âme et ma vie]', 1), (\"[J'èspère de vivre qu'avec toi]\", 1), ('[DJ Khaled]', 3), ('[Trick Daddy]', 2), ('[Trina]', 1), ('[Rick Ross]', 2), ('[Brisco]', 1), ('[Flo-Rida]', 1), ('[Dre]', 1), ('[Kanye West]', 6), ('[Fabolous]', 1), ('[Fat Joe]', 1), ('[Gramma Tala:]', 1), ('[Moana:]', 1), ('[Repeat chorus]', 2), ('[Spoken]', 3), ('[ guitar ]', 2), ('[ steel ]', 1), ('[?]', 35), ('[Britney Spears]', 1), ('[Bridge x2]', 1), ('[Repeat: x2]', 12), ('[REPEAT]', 1), ('[Bob Marley (MC Lyte)]', 1), ('[Bob Marley]', 5), ('[MC Lyte]', 1), ('[Chorus - Rihanna]', 2), ('[Eminem - Verse 1]', 2), ('[Eminem - Verse 2]', 2), ('[Eminem - Verse 3]', 2), ('[Bruno Mars]', 3), ('[Eminem]', 2), ('[Royce Da 5\\'9\"]', 1), ('[Rabbit]', 1), ('[unverified]', 1), ('[EMINEM]', 1), ('[Intro- talking]', 1), ('[Bobby Creek]', 1), ('[Nate Dogg]', 1), ('[Nate Dogg- Chorus]', 2), ('[Obie Trice]', 1), ('[Hook]', 32), ('[Pre-Hook]', 4), ('[Intro: Moodymann]', 1), ('[Hook: Jorja Smith]', 2), ('[Verse: Drake]', 1), ('[Outro: Drake]', 1), ('[Intro]', 7), ('[Intro: Kyla]', 1), ('[Verse 1: Drake]', 1), ('[Hook: Drake]', 3), ('[Bridge: Kyla]', 1), ('[Verse 2: Drake]', 1), ('[Break: Wizkid]', 1), ('[Bridge: Kyla + Wizkid]', 1), ('[Intro: Nai Palm]', 1), ('[Verse 4]', 3), ('[Dirty Money]', 1), ('[End]', 1), ('[Drake - Chorus]', 1), ('[Drake - Verse 1]', 2), ('[Drake - Verse 2]', 1), ('[Woman on phone]', 1), ('[Drake and Woman on phone]', 1), ('[Woman]', 1), ('[Drake on phone]', 1), ('[Kendrick Lamar]', 1), ('[Verse 2 ]', 1), ('[Guitar Solo/Bridge]', 1), ('[Verse 5]', 1), ('[Verse 6]', 1), ('[are]', 1), ('[Kanye]', 7), ('[Part 2]', 2), ('[Kelly Price]', 1), ('[Chance The Rapper]', 1), ('[Katy Perry]', 2), ('[Chorus: Estelle]', 1), ('[Kanye West:]', 1), ('[Estelle:]', 1), ('[Verse 1: Kanye West]', 3), ('[Hook: The Weeknd]', 2), ('[Verse 2: Kanye West]', 2), (\"[Intro: Father's Children]\", 1), ('[Intro: Johnny \"Guitar\" Watson & Junie Morrison]', 1), ('[Hook: Kanye West]', 3), ('[Verse 1: Kendrick Lamar & Kanye West]', 1), ('[Bridge: Larry Graham]', 1), ('[Outro: Junie Morrison]', 1), ('[Hook: Ty Dolla $ign]', 2), ('[Bridge: Ty Dolla $ign]', 2), ('[Verse 2: Post Malone]', 1), ('[Verse 2: Desiigner]', 1), ('[Bridge: Kanye West]', 1), ('[Verse 3: Desiigner]', 1), ('[Dedicated to Irving Layton]', 1), ('[Chorus 2]', 1), ('[Speaking]', 1), ('[Chorus 3]', 1), ('[iTunes Festival Bridge]', 1), ('[laughs]', 1), ('[After-Chorus:]', 1), ('[Verse 1: Lady Gaga]', 1), ('[Pre-Chorus: Lady Gaga]', 1), ('[Chorus: Lady Gaga]', 3), ('[Verse 2: R. Kelly]', 1), ('[Pre-Chorus 2: R. Kelly]', 1), ('[Bridge: Lady Gaga]', 1), ('[Outro until fade: Lady Gaga]', 1), ('[Na-na-na]', 3), ('[fading out]', 1), ('[Ludacris]', 4), ('[$Money Mike$]', 1), ('[Ludacris (Chris Brown)]', 1), ('[Bridge: Sean Garrett]', 1), ('[Sean Garrett]', 1), ('[Chorus: x2 Ludacris & DMX]', 1), ('[Luda]', 5), ('[Hook: Miguel]', 4), ('[Verse 1: Ludacris]', 1), ('[Verse 2: Ludacris]', 1), ('[Bridge: Miguel]', 1), ('[Young Jeezy:]', 1), ('[x2]', 14), ('[Chorus x 2]', 2), ('[Chorus: x4]', 4), ('[Gucci mane]', 1), ('[Ludacris - Verse 1]', 1), ('[Repeat x3]', 3), ('[Chorus: x3]', 1), ('[Chorus:Repeat x4]', 2), ('[Chorus:Repeat x7]', 1), ('[Chorus 1:]', 2), ('[Chorus 2:]', 2), ('[Post-Chorus:]', 1), ('[Post-Chorus]', 1), ('[Missy]', 50), ('[Timbaland]', 7), ('[Repeat: x5]', 2), (\"[Lil' Kim]\", 5), ('[Mya]', 3), ('[Pink]', 2), ('[Christina]', 2), ('[Line played backwards]', 8), ('[Eve]', 2), ('[Chorus: Timbaland]', 1), ('[Chorus: x 2]', 1), ('[Missy (Nicole)]', 4), ('[Big Boi]', 1), ('[Chorus 1: 702]', 1), ('[Chorus 1]', 2), ('[Magoo]', 1), ('[Timberland]', 2), ('[Verse 3: Da Brat]', 1), ('[Jade]', 1), ('[Chorus: Repeat 2X]', 1), ('[Busta Rhymes]', 2), ('[Jay-Z]', 2), ('[Twista]', 1), ('[Ginuwine]', 1), ('[Computer voice]', 1), ('[Craig Mack]', 1), ('[Missy Elliott]', 2), ('[Tweet:]', 6), ('[Missy:]', 6), ('[Redman]', 1), ('[Spoken Intro:]', 1), ('[Refrain]', 42), ('[Spoken:]', 4), ('[fade out]', 2), ('[repeat 7x]', 1), ('[repeat 3x]', 1), ('[VERSE 1]', 3), ('[VERSE 2]', 3), ('[BRIDGE]', 3), ('[VERSE 3]', 2), ('[ad lib to fade]', 2), ('[INTRO]', 1), ('[1st Verse]', 13), ('[2nd Verse]', 12), ('[3rd Verse]', 9), ('[4th Verse]', 3), ('[5th Verse]', 1), ('[6th Verse]', 1), ('[7th Verse]', 1), ('[8th Verse]', 1), ('[Ad-Lib To Fade]', 4), ('[Chant]', 2), ('[Etc.]', 3), ('[Repeat To Fade]', 1), ('[2nd Verse (Patti Austin)]', 1), ('[Bridge (Michael)]', 1), ('[Chant:]', 1), ('[Ad-Lib]', 2), ('[Repeat/Fade-Out]', 1), ('[Chorus (1)]', 1), ('[Chorus (2)]', 1), ('[1st Verse (Michael)]', 1), ('[2nd Verse (Paul)]', 1), ('[Bridge (Paul)]', 1), ('[Michael]', 47), ('[Michael & Paul]', 3), ('[3rd Verse (Paul)]', 1), ('[Paul]', 5), ('[Fade-Out/Repeat]', 1), ('[Verse 3:]', 3), ('[Rap - Vincent Price:]', 1), ('[Into maniacal laugh, in deep echo]', 1), ('[4x]', 9), ('[Chorus 2x]', 3), ('[Chorus 3x]', 1), ('[1st verse]', 1), ('[2nd verse]', 1), ('[3rd verse]', 1), ('[4th verse]', 1), ('[Repeat Chorus - Ad-Lib/Fade-Out]', 2), ('[Background]', 1), (\"[P.Y.T.'S]\", 4), ('[x7]', 2), ('[Stevie]', 7), ('[Both]', 14), ('[Siedah]', 12), ('[Rebbie (spoken)]', 1), ('[Michael (sample)]', 1), ('[Rap Performed By Heavy D]', 1), ('[9x]', 1), ('[Princess Stephanie of Monaco]', 4), ('[Rap]', 1), ('[L. T. B. rap performance]', 1), ('[2x]', 3), ('[Ad Libs Out]', 1), ('[Janet]', 4), ('[News Man]', 1), ('[KGB interrogator (Russian to English translation):]', 1), ('[Rap: The Notorious BIG]', 1), ('[Ad lib fade]', 1), ('[Written by John Lennon]', 1), (\"[Rap: Shaquille O'Neal]\", 1), ('[CHORUS 2x]', 2), ('[RAP]', 2), ('[CHORUS 3x]', 1), ('[RAP ]', 1), ('[CHORUS OUT]', 2), ('[Chorus x3]', 3), ('[Chorus x 3]', 1), ('[AD LIBS]', 1), ('[CHORUS 1]', 2), ('[CHORUS 2]', 2), ('[CHORUS x 3]', 2), ('[CHORUS 3]', 1), ('[Carlos Santana:]', 1), ('[Michael Jackson:]', 6), ('[ROD SERLING INTRO]', 1), ('[ROD SERLING VERSE]', 1), ('[ROD SERLING OUTRO]', 1), ('[Interlude]', 1), ('[Fade out]', 1), ('[x10]', 1), ('[Akon]', 2), ('[Together]', 1), ('[Spoken words:]', 1), ('[in background:]', 2), ('[ad-libs]', 1), ('[12x]', 1), ('[50 Cent]', 1), ('[Michael Jackson]', 1), ('[Laughing]', 1), ('[Pitbull:]', 5), ('[dig it]', 4), ('[Repeat x2]', 1), ('[:Nicki Minaj]', 2), ('[Verse 1: Jason Derulo]', 2), ('[Hook :Jason Derulo]', 2), ('[Verse 2: Jason Derulo]', 2), ('[Hook: Jason Derulo]', 2), ('[Verse 3: Nicki Minaj]', 2), ('[Nicki Minaj]', 1), ('[Speakin:-]', 2), ('[x4]', 4), ('[Verse 2 - Nicki Minaj]', 1), ('[Verse 1: Nicki Minaj]', 1), ('[Verse 2: Lil Kim]', 1), ('[NICKI MINAJ]', 1), ('[X7]', 1), ('[Everything on the current]', 1), ('[X3]', 5), ('[repeat]', 1), ('[Repeat]', 1), ('[chorus]', 2), ('[X6]', 1), ('[Girl]', 1), ('[two times]', 1), ('[fuck me over]', 1), ('[backwards at the end...]', 1), ('[Backwards talking in the background]', 1), ('[Translation in brackets]', 1), ('[U were on the other end of the room/hall]', 1), ('[U were dancing so hard/strong]', 1), ('[I could smell your perfume]', 1), ('[Your smile told me we should talk]', 1), ('[Sex and rest]', 1), (\"[I know U'll like that]\", 1), (\"[U won't resist it/to it]\", 1), (\"[I'll wrap my legs around U]\", 1), (\"[During hours I'll astound U (?)]\", 1), ('[Make love make love]', 1), (\"[We'll meet]\", 1), ('[starvation]', 1), (\"[Translated: The children who lie don't go to paradise]\", 1), ('[Muah muah muah muah muah]', 1), ('[Muah muah muah muah]', 1), ('[repeated to fade]', 3), (\"[Every man I'll injure]\", 1), ('[repeated in the background]', 2), ('[Listen, the soul of this song belongs to God]', 1), ('[song breaks down into a crowd noise...]', 1), ('[sleep]', 1), ('[D]', 1), ('[E]', 1), ('[innocent]', 1), ('[repeated over chorus]', 1), ('[this is sung in a round]', 1), (\"['crush' repeated over and over]\", 1), ('[\"do it\" repeated in the background]', 1), ('[chorus repeated with this sung over it]', 1), ('[verse echoed slightly off time]', 1), ('[crowd noise same as for \"Alphabet Street\"]', 1), (\"[As u watch the slimmies funkin']\", 1), (\"[ooh man, let's give 'em some more good shit]\", 1), ('[(Just how old)]', 1), ('[la chantez]', 2), ('[ French: \"Tonight, sing it\" ]', 1), ('[crucial wait]', 1), ('[Gal]', 1), ('[Note: The high pitched voice]', 1), ('[that responds to his call, when]', 1), ('[slowed down to about 2 rpm,says]', 1), ('[\"Operator, what city please?\"]', 1), ('[Missile..Internal..]', 1), ('[Missile..]', 1), ('[x3]', 5), ('[One 4 all and all 4 one]', 1), ('[x6 in BG]', 1), ('[x4 in BG]', 1), (\"[Feet stompin'!]\", 1), ('[repeat in BG]', 1), ('[Fishbone\\'s \"Lyin\\' Ass Bitch\" sample repeats throughout song]', 1), ('[Intro: Rihanna]', 2), ('[Verse 1: Rihanna]', 3), ('[Chorus: Rihanna & Chris Brown]', 6), ('[Verse 2: Chris Brown]', 2), ('[...]', 2), ('[Bridge: Rihanna & Chris Brown]', 2), ('[Verse 3: Chris Brown]', 2), ('[Narration]', 1), ('[Rihanna]', 1), ('[Verse 1: Beyonce]', 1), ('[Verse 2: Rihanna]', 2), ('[Bridge/Outro: Rihanna]', 1), ('[Hook: Future]', 3), ('[Verse 3: Future]', 1), ('[Hook: Rihanna & Future]', 1), ('[Backing vocals]', 1), ('[Celine Dion]', 8), ('[R Kelly]', 6), ('[Chorus: Celine Dion & R. Kelly]', 2), ('[Chorus: Repeats]', 2), ('[R. Kelly]', 1), ('[Chorus X2]', 1), ('[3x]', 2)])\n",
            "306\n",
            "2\n"
          ],
          "name": "stdout"
        }
      ]
    },
    {
      "cell_type": "markdown",
      "metadata": {
        "id": "OWwZ-qKS69A9"
      },
      "source": [
        "단어는 **공백**을 기준으로 나눌 것이다.<br>\n",
        "그리고 I'm 또는 It'll, It's, 'Cause, We'll과 같이 '와 붙어있는 텍스트는 한 단어로 취급한다.\n",
        "\n",
        "<br>\n",
        "\n",
        "가사 텍스트 데이터를 훑어보고 처리해야겠다고 생각한 부분은 다음과 같다.\n",
        "\n",
        "1. 양쪽 공백제거 및 모두 소문자로 변환\n",
        "2. 문장부호 , ? . ! ¿가 있는 곳은 양옆에 공백을 추가해서 다른 단어와 분리해준다.\n",
        "3. 대괄호[ ]와 그 안에 있는 내용을 공백으로 치환한다. (가사와 상관없는 텍스트가 들어있다. ex) chorus, 가수명 등)\n",
        "4. 'instrumental'을 공백으로 치환한다. (반주중이라는 의미.)\n",
        "5. 특수문자('포함)를 제거한다.\n",
        "6. 공백이 여러 개 있는 부분은 공백 하나로 대체한다.\n",
        "7. 다시 문장의 양쪽 공백을 제거한다.\n",
        "8. 비어있지 않는 문장 앞에는 <start\\>토큰, 뒤에는 <end\\>토큰을 추가해준다.\n",
        "\n",
        "\n",
        "--> 'chorus'나 'Chorus'를 지울까 말까 고민했지만 가사로서 의미가 있을 수도 있기 때문에 대괄호안의 패턴만 지우기로 정했다."
      ]
    },
    {
      "cell_type": "code",
      "metadata": {
        "id": "0H5s40lM63V0"
      },
      "source": [
        "import re\n",
        "\n",
        "def preprocess_sentence(sentence):\n",
        "    sentence = sentence.lower().strip()                        # 1\n",
        "    #print(sentence)\n",
        "    sentence = re.sub(r\"([?.!,¿])\", r\" \\1 \", sentence)        # 2\n",
        "    #print(sentence)\n",
        "    sentence = re.sub(r\"\\[[^\\]]+\\]\", \" \", sentence)            # 3\n",
        "    #print(sentence)\n",
        "    sentence = re.sub(r\"instrumental\", \" \", sentence)          # 4\n",
        "    #print(sentence)\n",
        "    sentence = re.sub(r\"[^a-zA-Z0-9?.!,¿']+\", \" \", sentence)  # 5\n",
        "    #print(sentence)\n",
        "    sentence = re.sub(r'[\" \"]+', \" \", sentence)                # 6\n",
        "    #print(sentence)\n",
        "    sentence = sentence.strip()                                # 7\n",
        "    #print(sentence)\n",
        "\n",
        "    if sentence:\n",
        "      sentence = '<start> ' + sentence + ' <end>'              # 8\n",
        "    return sentence"
      ],
      "execution_count": 31,
      "outputs": []
    },
    {
      "cell_type": "code",
      "metadata": {
        "colab": {
          "base_uri": "https://localhost:8080/"
        },
        "id": "UOMdUcZGN7Hs",
        "outputId": "d4def425-116d-4939-815d-d1f8433f059a"
      },
      "source": [
        "# 문장이 어떻게 필터링되는지 확인 (print문 주석처리 이전)\n",
        "sent = \"This @_is ;;;sample        sentence. ten-year-old? [chorus] -instrumental-- I'll\"\n",
        "print('입력문장->',sent)\n",
        "print(preprocess_sentence(sent))"
      ],
      "execution_count": null,
      "outputs": [
        {
          "output_type": "stream",
          "text": [
            "입력문장-> This @_is ;;;sample        sentence. ten-year-old? [chorus] -instrumental-- I'll\n",
            "this @_is ;;;sample        sentence. ten-year-old? [chorus] -instrumental-- i'll\n",
            "this @_is ;;;sample        sentence .  ten-year-old ?  [chorus] -instrumental-- i'll\n",
            "this @_is ;;;sample        sentence .  ten-year-old ?    -instrumental-- i'll\n",
            "this @_is ;;;sample        sentence .  ten-year-old ?    - -- i'll\n",
            "this is sample sentence . ten year old ? i'll\n",
            "this is sample sentence . ten year old ? i'll\n",
            "this is sample sentence . ten year old ? i'll\n",
            "<start> this is sample sentence . ten year old ? i'll <end>\n"
          ],
          "name": "stdout"
        }
      ]
    },
    {
      "cell_type": "code",
      "metadata": {
        "colab": {
          "base_uri": "https://localhost:8080/"
        },
        "id": "_wiAe1t4QX0w",
        "outputId": "a14d93b9-93ec-45c2-84b3-28331dceff6f"
      },
      "source": [
        "# 여기에 전처리된 문장을 모은다.\n",
        "corpus = []\n",
        "\n",
        "for sentence in raw_corpus:\n",
        "    # 우리가 원하지 않는 문장은 건너뛴다. (공백)\n",
        "    if len(sentence) == 0: continue\n",
        "    \n",
        "    # 전처리함수에 문장을 입력 후 전처리된 문장을 corpus리스트에 추가.\n",
        "    preprocessed_sentence = preprocess_sentence(sentence)   # (print문 주석처리 이후)\n",
        "    \n",
        "    # 토큰이 3개보다 적거나 15개보다 많은 문장은 건너뛴다.\n",
        "    if len(preprocessed_sentence.split(' '))<3 or len(preprocessed_sentence.split(' '))>15: continue\n",
        "\n",
        "    corpus.append(preprocessed_sentence)\n",
        "\n",
        "# 문장 개수\n",
        "print(len(corpus))\n",
        "\n",
        "# 전처리된 문장 10개 확인\n",
        "corpus[:10]"
      ],
      "execution_count": 32,
      "outputs": [
        {
          "output_type": "stream",
          "text": [
            "158241\n"
          ],
          "name": "stdout"
        },
        {
          "output_type": "execute_result",
          "data": {
            "text/plain": [
              "[\"<start> baby , i'm from new york <end>\",\n",
              " '<start> concrete jungle where dreams are made of <end>',\n",
              " \"<start> there's nothing you can't do <end>\",\n",
              " \"<start> now you're in new york <end>\",\n",
              " '<start> these streets will make you feel brand new <end>',\n",
              " '<start> big lights will inspire you <end>',\n",
              " \"<start> baby , i'm from new york <end>\",\n",
              " '<start> concrete jungle where dreams are made of <end>',\n",
              " \"<start> there's nothing you can't do <end>\",\n",
              " \"<start> now you're in new york <end>\"]"
            ]
          },
          "metadata": {
            "tags": []
          },
          "execution_count": 32
        }
      ]
    },
    {
      "cell_type": "markdown",
      "metadata": {
        "id": "JZomqwny_VOP"
      },
      "source": [
        "## 1-3. 토큰화\n",
        "\n",
        "[tf.keras.preprocessing.sequence.pad_sequences함수 설명](https://www.tensorflow.org/api_docs/python/tf/keras/preprocessing/sequence/pad_sequences)"
      ]
    },
    {
      "cell_type": "code",
      "metadata": {
        "colab": {
          "base_uri": "https://localhost:8080/"
        },
        "id": "oQxvb19oQivG",
        "outputId": "44369f46-e8b4-484c-afdc-1d6cd1e26f27"
      },
      "source": [
        "# 텐서플로우의 Tokenizer와 pad_sequences를 사용하여 토큰화한다.\n",
        "import tensorflow as tf\n",
        "\n",
        "# 20000단어를 기억할 수 있는 tokenizer\n",
        "# 20000단어가 있는 사전에 포함되지 않는 단어는 '<unk>'로 바꾼다.\n",
        "def tokenize(corpus):\n",
        "    tokenizer = tf.keras.preprocessing.text.Tokenizer(\n",
        "        num_words=20000, \n",
        "        filters=' ',\n",
        "        oov_token=\"<unk>\"\n",
        "    )\n",
        "    # corpus를 이용해 tokenizer 내부의 단어장을 완성합니다\n",
        "    tokenizer.fit_on_texts(corpus)\n",
        "\n",
        "    # 준비한 tokenizer를 이용해 corpus를 Tensor로 변환합니다\n",
        "    tensor = tokenizer.texts_to_sequences(corpus) \n",
        "\n",
        "    # 입력 데이터의 뒷부분을 0으로 패딩해준다.\n",
        "    tensor = tf.keras.preprocessing.sequence.pad_sequences(tensor, padding='post')\n",
        "    print(tensor.shape)\n",
        "    print(tensor,tokenizer)\n",
        "    return tensor, tokenizer\n",
        "\n",
        "tensor, tokenizer = tokenize(corpus)"
      ],
      "execution_count": 45,
      "outputs": [
        {
          "output_type": "stream",
          "text": [
            "(158241, 15)\n",
            "[[    2    49     4 ...     0     0     0]\n",
            " [    2  2811  2083 ...     0     0     0]\n",
            " [    2   169   179 ...     0     0     0]\n",
            " ...\n",
            " [    2    28    17 ... 18674     3     0]\n",
            " [    2   349    17 ...     3     0     0]\n",
            " [    2    37   130 ...     0     0     0]] <keras_preprocessing.text.Tokenizer object at 0x7faf1a797410>\n"
          ],
          "name": "stdout"
        }
      ]
    },
    {
      "cell_type": "code",
      "metadata": {
        "colab": {
          "base_uri": "https://localhost:8080/"
        },
        "id": "tJGYZv6ORDse",
        "outputId": "650b9e26-4717-47f7-d34e-ac6dae6a74ea"
      },
      "source": [
        "print(tensor[:3, :])"
      ],
      "execution_count": 46,
      "outputs": [
        {
          "output_type": "stream",
          "text": [
            "[[   2   49    4   20   67  153  723    3    0    0    0    0    0    0\n",
            "     0]\n",
            " [   2 2811 2083   97  382   71  225   18    3    0    0    0    0    0\n",
            "     0]\n",
            " [   2  169  179    7   86   44    3    0    0    0    0    0    0    0\n",
            "     0]]\n"
          ],
          "name": "stdout"
        }
      ]
    },
    {
      "cell_type": "code",
      "metadata": {
        "colab": {
          "base_uri": "https://localhost:8080/"
        },
        "id": "Ka4zZISORGdw",
        "outputId": "92eea94d-db83-474e-b872-694ca60b403d"
      },
      "source": [
        "for idx in tokenizer.index_word:\n",
        "    print(idx, \":\", tokenizer.index_word[idx])\n",
        "\n",
        "    if idx >= 20: break"
      ],
      "execution_count": 47,
      "outputs": [
        {
          "output_type": "stream",
          "text": [
            "1 : <unk>\n",
            "2 : <start>\n",
            "3 : <end>\n",
            "4 : ,\n",
            "5 : the\n",
            "6 : i\n",
            "7 : you\n",
            "8 : and\n",
            "9 : a\n",
            "10 : to\n",
            "11 : me\n",
            "12 : my\n",
            "13 : it\n",
            "14 : in\n",
            "15 : that\n",
            "16 : on\n",
            "17 : your\n",
            "18 : of\n",
            "19 : .\n",
            "20 : i'm\n"
          ],
          "name": "stdout"
        }
      ]
    },
    {
      "cell_type": "markdown",
      "metadata": {
        "id": "LQwaa59Fylyy"
      },
      "source": [
        "## 1-4. 훈련 데이터셋과 평가 데이터셋 분리\n",
        "\n",
        "총 데이터의 20% 를 평가 데이터셋으로 사용한다."
      ]
    },
    {
      "cell_type": "code",
      "metadata": {
        "id": "DL7_79ury8Qk"
      },
      "source": [
        "from sklearn.model_selection import train_test_split\n",
        "\n",
        "src_input = tensor[:, :-1]   # 처음~마지막-1\n",
        "tgt_input = tensor[:, 1:]    # 처음+1~마지막\n",
        "\n",
        "enc_train, enc_val, dec_train, dec_val = train_test_split(src_input, tgt_input, test_size=0.2, random_state=55)"
      ],
      "execution_count": 48,
      "outputs": []
    },
    {
      "cell_type": "markdown",
      "metadata": {
        "id": "roRw6-PO-39I"
      },
      "source": [
        "데이터셋에서 랜덤으로 선택된 80%만큼의 훈련데이터셋의 크기이다."
      ]
    },
    {
      "cell_type": "code",
      "metadata": {
        "id": "ZI-zkp1Zy_b9",
        "colab": {
          "base_uri": "https://localhost:8080/"
        },
        "outputId": "4821fa45-89f6-40c8-ac13-5672d7ec0a27"
      },
      "source": [
        "print(\"Source Train:\", enc_train.shape)\n",
        "print(\"Target Train:\", dec_train.shape)"
      ],
      "execution_count": 49,
      "outputs": [
        {
          "output_type": "stream",
          "text": [
            "Source Train: (126592, 14)\n",
            "Target Train: (126592, 14)\n"
          ],
          "name": "stdout"
        }
      ]
    },
    {
      "cell_type": "markdown",
      "metadata": {
        "id": "m9bMNJaQ_hA9"
      },
      "source": [
        "데이터셋 객체 생성"
      ]
    },
    {
      "cell_type": "code",
      "metadata": {
        "colab": {
          "base_uri": "https://localhost:8080/"
        },
        "id": "H3NjKwypTEXk",
        "outputId": "0d35c48d-402c-42bc-c478-57242cce1975"
      },
      "source": [
        "BUFFER_SIZE = len(src_input)   # source sentence 수\n",
        "BATCH_SIZE = 256               # 한 번 학습할 데이터 수\n",
        "steps_per_epoch = len(src_input) // BATCH_SIZE\n",
        "\n",
        "# VOCAB_SIZE: 벡터화한 단어 개수\n",
        "# --> tokenizer가 구축한 단어사전 내 20000개와 여기 포함되지 않은 0:<pad>를 포함하여 총 20001개이다.\n",
        "VOCAB_SIZE = tokenizer.num_words + 1   \n",
        "\n",
        "# 준비한 데이터 소스로부터 데이터셋을 만듭니다\n",
        "\n",
        "dataset = tf.data.Dataset.from_tensor_slices((src_input, tgt_input))\n",
        "dataset = dataset.shuffle(BUFFER_SIZE)\n",
        "dataset = dataset.batch(BATCH_SIZE, drop_remainder=True)   # 데이터셋을 배치크기씩 나눈다.\n",
        "                                                           # drop_remainder=True는 배치크기보다 작은 그룹을 버린다.\n",
        "dataset"
      ],
      "execution_count": 50,
      "outputs": [
        {
          "output_type": "execute_result",
          "data": {
            "text/plain": [
              "<BatchDataset shapes: ((256, 14), (256, 14)), types: (tf.int32, tf.int32)>"
            ]
          },
          "metadata": {
            "tags": []
          },
          "execution_count": 50
        }
      ]
    },
    {
      "cell_type": "markdown",
      "metadata": {
        "id": "meZpPAwAzB6u"
      },
      "source": [
        "# 2) 모델 구성\n",
        "\n",
        "임베딩함수 원형:<br>\n",
        "tf.keras.layers.Embedding(\n",
        "    **input_dim, output_dim,** embeddings_initializer='uniform',\n",
        "    embeddings_regularizer=None, activity_regularizer=None,\n",
        "    embeddings_constraint=None, mask_zero=False, input_length=None, **kwargs\n",
        ")\n",
        "- vacab_size는 input_dim, embedding_size는 output_dim이다.\n",
        "- [참고) 공식문서](https://www.tensorflow.org/api_docs/python/tf/keras/layers/Embedding)"
      ]
    },
    {
      "cell_type": "code",
      "metadata": {
        "id": "znhQPbq1S0VY"
      },
      "source": [
        "import tensorflow as tf\n",
        "\n",
        "class TextGenerator(tf.keras.Model):\n",
        "  # embedding_size는 word vector의 차원수이다.\n",
        "  # hidden_size는 LSTM레이어의 hidden state의 차원수이다.\n",
        "    def __init__(self, vocab_size, embedding_size, hidden_size):\n",
        "        super().__init__()\n",
        "        \n",
        "        self.embedding = tf.keras.layers.Embedding(vocab_size, embedding_size)\n",
        "        self.rnn_1 = tf.keras.layers.LSTM(hidden_size, return_sequences=True)\n",
        "        self.rnn_2 = tf.keras.layers.LSTM(hidden_size, return_sequences=True)\n",
        "        self.linear = tf.keras.layers.Dense(vocab_size)\n",
        "        \n",
        "    def call(self, x):\n",
        "        out = self.embedding(x)\n",
        "        out = self.rnn_1(out)\n",
        "        out = self.rnn_2(out)\n",
        "        out = self.linear(out)\n",
        "        \n",
        "        return out\n",
        "    \n",
        "embedding_size = 256\n",
        "hidden_size = 1024\n",
        "model = TextGenerator(tokenizer.num_words + 1, embedding_size , hidden_size)"
      ],
      "execution_count": 51,
      "outputs": []
    },
    {
      "cell_type": "code",
      "metadata": {
        "colab": {
          "base_uri": "https://localhost:8080/"
        },
        "id": "uWSktWZvS582",
        "outputId": "af5ffe6b-d6b1-442a-d05a-85b54996c789"
      },
      "source": [
        "# 데이터셋에서 데이터 한 배치만 불러온다.\n",
        "for src_sample, tgt_sample in dataset.take(1): break\n",
        "\n",
        "# 한 배치만 불러온 데이터를 모델에 넣어보자.\n",
        "model(src_sample)"
      ],
      "execution_count": 52,
      "outputs": [
        {
          "output_type": "execute_result",
          "data": {
            "text/plain": [
              "<tf.Tensor: shape=(256, 14, 20001), dtype=float32, numpy=\n",
              "array([[[-3.44408145e-05, -5.84209665e-05,  1.15623343e-05, ...,\n",
              "         -8.28510238e-05, -1.77241367e-04, -3.74066040e-05],\n",
              "        [-1.29350781e-04,  6.24055610e-06, -1.88207152e-04, ...,\n",
              "         -2.09484831e-04, -2.21459035e-04,  1.07923966e-04],\n",
              "        [-1.97173184e-04,  1.97598521e-04, -2.60885427e-04, ...,\n",
              "         -3.32754105e-04, -3.11866723e-04,  2.46382842e-04],\n",
              "        ...,\n",
              "        [ 4.25484555e-04, -1.90563238e-04, -4.41034674e-04, ...,\n",
              "         -7.11990520e-04, -4.61622985e-04, -2.88437353e-04],\n",
              "        [ 2.07282050e-04, -4.79477370e-04, -4.76158777e-04, ...,\n",
              "         -5.90488198e-04, -5.11380029e-04, -5.95187419e-04],\n",
              "        [-2.26919601e-05, -7.31857610e-04, -4.80441173e-04, ...,\n",
              "         -4.73272026e-04, -5.89812233e-04, -8.70058546e-04]],\n",
              "\n",
              "       [[-3.44408145e-05, -5.84209665e-05,  1.15623343e-05, ...,\n",
              "         -8.28510238e-05, -1.77241367e-04, -3.74066040e-05],\n",
              "        [ 1.70633703e-05, -1.61141637e-04, -2.95395103e-06, ...,\n",
              "         -1.20703757e-04, -1.85322075e-04,  2.55068171e-05],\n",
              "        [ 2.63619062e-04, -2.31257742e-04, -2.71458703e-05, ...,\n",
              "         -1.60524025e-04, -2.94479105e-04, -7.35562207e-05],\n",
              "        ...,\n",
              "        [-1.27462947e-04, -1.84794317e-03, -7.18675728e-04, ...,\n",
              "         -2.21565133e-04, -9.34185635e-04, -1.24792219e-03],\n",
              "        [-3.07289825e-04, -1.86796358e-03, -6.84433267e-04, ...,\n",
              "         -1.96476700e-04, -1.00708776e-03, -1.39302353e-03],\n",
              "        [-4.53065819e-04, -1.86348893e-03, -6.33546035e-04, ...,\n",
              "         -1.82898846e-04, -1.04104204e-03, -1.51566241e-03]],\n",
              "\n",
              "       [[-3.44408145e-05, -5.84209665e-05,  1.15623343e-05, ...,\n",
              "         -8.28510238e-05, -1.77241367e-04, -3.74066040e-05],\n",
              "        [-6.52426752e-05, -2.98242434e-04,  1.46294507e-04, ...,\n",
              "         -1.35517999e-04, -4.52550768e-04, -1.26690487e-04],\n",
              "        [-1.21853183e-04, -3.15287092e-04,  2.39646164e-04, ...,\n",
              "         -3.97955999e-04, -6.13918062e-04, -1.14443646e-04],\n",
              "        ...,\n",
              "        [-7.30838568e-04, -4.84785618e-04, -8.79798783e-04, ...,\n",
              "         -4.62864089e-04, -1.15675350e-04,  4.29423613e-04],\n",
              "        [-1.00576563e-03, -6.43658859e-04, -1.00565958e-03, ...,\n",
              "         -3.65101150e-04, -2.12368628e-04,  1.87213329e-04],\n",
              "        [-1.21655210e-03, -8.01449351e-04, -1.06497714e-03, ...,\n",
              "         -2.54246668e-04, -3.62465711e-04, -1.22601181e-04]],\n",
              "\n",
              "       ...,\n",
              "\n",
              "       [[-3.44408145e-05, -5.84209665e-05,  1.15623343e-05, ...,\n",
              "         -8.28510238e-05, -1.77241367e-04, -3.74066040e-05],\n",
              "        [-9.01431049e-05, -1.03418592e-04, -7.84291915e-05, ...,\n",
              "         -6.14411838e-05, -5.35645755e-04,  3.23331660e-05],\n",
              "        [-3.83384264e-04, -1.27147068e-04, -2.71073106e-04, ...,\n",
              "         -1.41467768e-04, -6.71345799e-04,  4.30183245e-05],\n",
              "        ...,\n",
              "        [ 2.26279481e-05, -2.96528946e-04,  1.93846092e-04, ...,\n",
              "          7.27424995e-05, -6.44439890e-04, -1.37446856e-03],\n",
              "        [-1.08613611e-04, -5.16236469e-04,  1.35821028e-04, ...,\n",
              "          1.05273015e-04, -7.25525781e-04, -1.62505463e-03],\n",
              "        [-2.37807151e-04, -7.28068524e-04,  7.85513112e-05, ...,\n",
              "          1.10491528e-04, -7.95048196e-04, -1.81845983e-03]],\n",
              "\n",
              "       [[-3.44408145e-05, -5.84209665e-05,  1.15623343e-05, ...,\n",
              "         -8.28510238e-05, -1.77241367e-04, -3.74066040e-05],\n",
              "        [-7.53428903e-05, -4.02069090e-05, -2.34777763e-05, ...,\n",
              "          1.08729095e-04, -2.03555232e-04,  1.61804849e-06],\n",
              "        [-3.50427144e-04,  6.04407114e-06, -3.95893803e-05, ...,\n",
              "          1.89546045e-04, -5.41586523e-05, -3.10780597e-05],\n",
              "        ...,\n",
              "        [-9.29489557e-04, -1.37854822e-03, -5.08687750e-04, ...,\n",
              "          1.01235943e-04, -3.10942472e-04, -1.01053691e-03],\n",
              "        [-9.58165736e-04, -1.46023103e-03, -4.56866721e-04, ...,\n",
              "          8.34809834e-05, -3.69373534e-04, -1.15746039e-03],\n",
              "        [-9.70099936e-04, -1.51611818e-03, -3.98521923e-04, ...,\n",
              "          5.82701286e-05, -3.92447517e-04, -1.28270767e-03]],\n",
              "\n",
              "       [[-3.44408145e-05, -5.84209665e-05,  1.15623343e-05, ...,\n",
              "         -8.28510238e-05, -1.77241367e-04, -3.74066040e-05],\n",
              "        [ 6.22432126e-05,  6.27263435e-05,  1.47045439e-05, ...,\n",
              "         -1.03606311e-04, -4.35188063e-04, -2.98459374e-04],\n",
              "        [ 1.79919225e-04,  1.37034978e-04,  1.82437987e-04, ...,\n",
              "         -3.22102933e-05, -5.43144590e-04, -4.18307987e-04],\n",
              "        ...,\n",
              "        [-5.80887310e-04, -1.19904266e-03, -2.65788025e-04, ...,\n",
              "          1.94885593e-04, -5.62925357e-04, -1.04157964e-03],\n",
              "        [-6.53072086e-04, -1.29278761e-03, -2.42688926e-04, ...,\n",
              "          1.66228201e-04, -6.26982248e-04, -1.19275076e-03],\n",
              "        [-7.06029881e-04, -1.36541727e-03, -2.16132306e-04, ...,\n",
              "          1.29755732e-04, -6.59005425e-04, -1.32235896e-03]]],\n",
              "      dtype=float32)>"
            ]
          },
          "metadata": {
            "tags": []
          },
          "execution_count": 52
        }
      ]
    },
    {
      "cell_type": "code",
      "metadata": {
        "colab": {
          "base_uri": "https://localhost:8080/"
        },
        "id": "84VCDYe3TR89",
        "outputId": "be7b506b-38e8-4862-a6ee-46ee27295b11"
      },
      "source": [
        "model.summary()"
      ],
      "execution_count": 53,
      "outputs": [
        {
          "output_type": "stream",
          "text": [
            "Model: \"text_generator_5\"\n",
            "_________________________________________________________________\n",
            "Layer (type)                 Output Shape              Param #   \n",
            "=================================================================\n",
            "embedding_5 (Embedding)      multiple                  5120256   \n",
            "_________________________________________________________________\n",
            "lstm_10 (LSTM)               multiple                  5246976   \n",
            "_________________________________________________________________\n",
            "lstm_11 (LSTM)               multiple                  8392704   \n",
            "_________________________________________________________________\n",
            "dense_5 (Dense)              multiple                  20501025  \n",
            "=================================================================\n",
            "Total params: 39,260,961\n",
            "Trainable params: 39,260,961\n",
            "Non-trainable params: 0\n",
            "_________________________________________________________________\n"
          ],
          "name": "stdout"
        }
      ]
    },
    {
      "cell_type": "markdown",
      "metadata": {
        "id": "jcQIrTBmHsKP"
      },
      "source": [
        "# 3) 모델 학습"
      ]
    },
    {
      "cell_type": "markdown",
      "metadata": {
        "id": "sp8aGhos8fNY"
      },
      "source": [
        "tensorflow가 GPU를 잘 사용하고 있는지 확인\n",
        "- tf.config.list_physical_devices('GPU')로도 확인가능한 것 같다."
      ]
    },
    {
      "cell_type": "code",
      "metadata": {
        "colab": {
          "base_uri": "https://localhost:8080/"
        },
        "id": "wjgmTQhzVNBV",
        "outputId": "21f6d921-d2e9-41b7-f286-28e8f6d5152d"
      },
      "source": [
        "tf.test.is_gpu_available()"
      ],
      "execution_count": 54,
      "outputs": [
        {
          "output_type": "execute_result",
          "data": {
            "text/plain": [
              "True"
            ]
          },
          "metadata": {
            "tags": []
          },
          "execution_count": 54
        }
      ]
    },
    {
      "cell_type": "markdown",
      "metadata": {
        "id": "feKcjnZ_9rRo"
      },
      "source": [
        "이번 프로젝트 조건!\n",
        "- 모델의 Embedding Size와 Hidden Size를 조절하며 **10 Epoch 안에 val_loss 값을 2.2 수준**으로 줄일 수 있는 모델을 설계하세요! (Loss는 아래 제시된 Loss 함수를 그대로 사용!)"
      ]
    },
    {
      "cell_type": "code",
      "metadata": {
        "colab": {
          "base_uri": "https://localhost:8080/"
        },
        "id": "U4BKT8ZcTVK2",
        "outputId": "3b7b5f0b-2965-4968-da20-562ac64069c1"
      },
      "source": [
        "optimizer = tf.keras.optimizers.Adam()\n",
        "#Loss\n",
        "loss = tf.keras.losses.SparseCategoricalCrossentropy(\n",
        "    from_logits=True, reduction='none')\n",
        "\n",
        "model.compile(loss=loss, optimizer=optimizer)\n",
        "history = model.fit(dataset, epochs=10, validation_data = (enc_val, dec_val))"
      ],
      "execution_count": 57,
      "outputs": [
        {
          "output_type": "stream",
          "text": [
            "Epoch 1/10\n",
            "618/618 [==============================] - 290s 464ms/step - loss: 3.5400 - val_loss: 3.1564\n",
            "Epoch 2/10\n",
            "618/618 [==============================] - 287s 465ms/step - loss: 3.0999 - val_loss: 2.9753\n",
            "Epoch 3/10\n",
            "618/618 [==============================] - 286s 462ms/step - loss: 2.9416 - val_loss: 2.8253\n",
            "Epoch 4/10\n",
            "618/618 [==============================] - 286s 462ms/step - loss: 2.8117 - val_loss: 2.7044\n",
            "Epoch 5/10\n",
            "618/618 [==============================] - 288s 466ms/step - loss: 2.7006 - val_loss: 2.5999\n",
            "Epoch 6/10\n",
            "618/618 [==============================] - 289s 467ms/step - loss: 2.6017 - val_loss: 2.5062\n",
            "Epoch 7/10\n",
            "618/618 [==============================] - 288s 466ms/step - loss: 2.5106 - val_loss: 2.4160\n",
            "Epoch 8/10\n",
            "618/618 [==============================] - 288s 466ms/step - loss: 2.4274 - val_loss: 2.3382\n",
            "Epoch 9/10\n",
            "618/618 [==============================] - 288s 466ms/step - loss: 2.3503 - val_loss: 2.2624\n",
            "Epoch 10/10\n",
            "618/618 [==============================] - 288s 466ms/step - loss: 2.2785 - val_loss: 2.1932\n"
          ],
          "name": "stdout"
        }
      ]
    },
    {
      "cell_type": "markdown",
      "metadata": {
        "id": "09Mua8UIMdIm"
      },
      "source": [
        "**model.fit()은 히스토리 객체를 반환**한다.\n",
        "이 객체는 학습이력(history) 정보를 담고 있다.\n",
        "- 매 epoch 마다의 훈련 손실값 (loss)\n",
        "- 매 epoch 마다의 훈련 정확도 (acc)\n",
        "- 매 epoch 마다의 검증 손실값 (val_loss)\n",
        "- 매 epoch 마다의 검증 정확도 (val_acc)"
      ]
    },
    {
      "cell_type": "code",
      "metadata": {
        "colab": {
          "base_uri": "https://localhost:8080/"
        },
        "id": "Kwd3vg5kL_u5",
        "outputId": "e70eafaa-d06b-48f9-d5b9-b4522aca9364"
      },
      "source": [
        "history.history['val_loss']"
      ],
      "execution_count": 75,
      "outputs": [
        {
          "output_type": "execute_result",
          "data": {
            "text/plain": [
              "[3.1564061641693115,\n",
              " 2.9753198623657227,\n",
              " 2.825295925140381,\n",
              " 2.704441785812378,\n",
              " 2.5998620986938477,\n",
              " 2.5062427520751953,\n",
              " 2.4159767627716064,\n",
              " 2.3382177352905273,\n",
              " 2.262406826019287,\n",
              " 2.1932497024536133]"
            ]
          },
          "metadata": {
            "tags": []
          },
          "execution_count": 75
        }
      ]
    },
    {
      "cell_type": "markdown",
      "metadata": {
        "id": "4AUjEtXAMk2u"
      },
      "source": [
        "이 객체를 이용하면 loss를 그래프로 표현하여 학습 추세를 확인할 수 있다."
      ]
    },
    {
      "cell_type": "code",
      "metadata": {
        "colab": {
          "base_uri": "https://localhost:8080/",
          "height": 283
        },
        "id": "aOHyEJ0oMr87",
        "outputId": "ff266f92-bea6-4639-924c-2a975161f8f4"
      },
      "source": [
        "import matplotlib.pyplot as plt\n",
        "\n",
        "fig, loss_ax = plt.subplots()\n",
        "acc_ax = loss_ax.twinx()\n",
        "\n",
        "loss_ax.plot(history.history['loss'], 'y', marker='*', label='train loss')\n",
        "loss_ax.plot(history.history['val_loss'], 'r', marker='^', label='val loss')\n",
        "loss_ax.set_xlabel('epoch')\n",
        "loss_ax.set_ylabel('loss')\n",
        "loss_ax.legend(loc='best')\n",
        "\n",
        "plt.grid(True)\n",
        "plt.show()"
      ],
      "execution_count": 80,
      "outputs": [
        {
          "output_type": "display_data",
          "data": {
            "image/png": "[encoded data removed]",
            "text/plain": [
              "<Figure size 432x288 with 2 Axes>"
            ]
          },
          "metadata": {
            "tags": [],
            "needs_background": "light"
          }
        }
      ]
    },
    {
      "cell_type": "markdown",
      "metadata": {
        "id": "FycGvVH8HpHF"
      },
      "source": [
        "# 4) 모델 평가\n",
        "학습된 모델로 텍스트 생성해보기<br>\n",
        "다양한 입력텍스트를 넣어보자."
      ]
    },
    {
      "cell_type": "code",
      "metadata": {
        "id": "quCIhe4WyQLM"
      },
      "source": [
        "def generate_text(model, tokenizer, init_sentence=\"<start>\", max_len=20):\n",
        "    # 테스트를 위해서 입력받은 init_sentence도 텐서로 변환합니다\n",
        "    test_input = tokenizer.texts_to_sequences([init_sentence])\n",
        "    test_tensor = tf.convert_to_tensor(test_input, dtype=tf.int64)\n",
        "    end_token = tokenizer.word_index[\"<end>\"]\n",
        "\n",
        "    # 단어 하나씩 예측해 문장을 만듭니다\n",
        "    #    1. 입력받은 문장의 텐서를 입력합니다\n",
        "    #    2. 예측된 값 중 가장 높은 확률인 word index를 뽑아냅니다\n",
        "    #    3. 2에서 예측된 word index를 문장 뒤에 붙입니다\n",
        "    #    4. 모델이 <end>를 예측했거나, max_len에 도달했다면 문장 생성을 마칩니다\n",
        "    while True:\n",
        "        # 1\n",
        "        predict = model(test_tensor) \n",
        "        # 2\n",
        "        predict_word = tf.argmax(tf.nn.softmax(predict, axis=-1), axis=-1)[:, -1] \n",
        "        # 3 \n",
        "        test_tensor = tf.concat([test_tensor, tf.expand_dims(predict_word, axis=0)], axis=-1)\n",
        "        # 4\n",
        "        if predict_word.numpy()[0] == end_token: break\n",
        "        if test_tensor.shape[1] >= max_len: break\n",
        "\n",
        "    generated = \"\"\n",
        "    # tokenizer를 이용해 word index를 단어로 하나씩 변환합니다 \n",
        "    for word_index in test_tensor[0].numpy():\n",
        "        generated += tokenizer.index_word[word_index] + \" \"\n",
        "\n",
        "    return generated"
      ],
      "execution_count": 59,
      "outputs": []
    },
    {
      "cell_type": "markdown",
      "metadata": {
        "id": "WYleBBcTN4_Y"
      },
      "source": [
        "|입력|생성된 텍스트|\n",
        "|------|--------|\n",
        "|<start\\> i love|<start\\> i love you , i love you <end\\>|\n",
        "|<start\\> I|<start\\> i don't know what to do <end\\>|\n",
        "|<start\\> babe|<start\\> babe , yeah , yeah , yeah <end\\>|\n",
        "|<start\\> why|<start\\> why you wanna be with me <end\\>|\n",
        "|<start\\> what are you|<start\\> what are you waiting for ? <end\\> |\n",
        "|<start\\> are you|<start\\> are you ready ? <end\\> |\n",
        "|<start\\> summer night|<start\\> summer night , happy birthday , happy birthday woo , shake ! <end\\> |\n",
        "|<start\\> over the|<start\\> over the sun , the <unk\\> <end\\> |\n",
        "|<start\\> will you|<start\\> will you still love me ? <end\\> |\n",
        "|<start\\> feeling|<start\\> feeling like a rocket <end\\> |\n",
        "|<start\\> i'm|<start\\> i'm a survivor <end\\> |\n",
        "|<start\\> loving|<start\\> loving you , you , you , you , you , you , you , you , you , you <end\\> |\n",
        "|<start\\> don't|<start\\> don't you know that i love you <end\\> |\n",
        "|<start\\> teddy|<start\\> teddy say she was a hooligan for me <end\\> |\n",
        "|<start\\> Jessy|<start\\> <unk\\> , <unk\\> , <unk\\> , <end\\> |"
      ]
    },
    {
      "cell_type": "code",
      "metadata": {
        "colab": {
          "base_uri": "https://localhost:8080/",
          "height": 35
        },
        "id": "rbjJ8vOYJRdj",
        "outputId": "7e02ca96-25a7-4e97-ee80-b4260e69922d"
      },
      "source": [
        "generate_text(model, tokenizer, init_sentence=\"<start> i love\", max_len=20)"
      ],
      "execution_count": 61,
      "outputs": [
        {
          "output_type": "execute_result",
          "data": {
            "application/vnd.google.colaboratory.intrinsic+json": {
              "type": "string"
            },
            "text/plain": [
              "'<start> i love you , i love you <end> '"
            ]
          },
          "metadata": {
            "tags": []
          },
          "execution_count": 61
        }
      ]
    },
    {
      "cell_type": "code",
      "metadata": {
        "colab": {
          "base_uri": "https://localhost:8080/",
          "height": 35
        },
        "id": "Gbi2ZqOJtcSx",
        "outputId": "7a85aca1-f2ea-44d7-e24d-4b711b5e819d"
      },
      "source": [
        "generate_text(model, tokenizer, init_sentence=\"<start> I\", max_len=20)"
      ],
      "execution_count": 67,
      "outputs": [
        {
          "output_type": "execute_result",
          "data": {
            "application/vnd.google.colaboratory.intrinsic+json": {
              "type": "string"
            },
            "text/plain": [
              "\"<start> i don't know what to do <end> \""
            ]
          },
          "metadata": {
            "tags": []
          },
          "execution_count": 67
        }
      ]
    },
    {
      "cell_type": "code",
      "metadata": {
        "colab": {
          "base_uri": "https://localhost:8080/",
          "height": 35
        },
        "id": "cv3B-AFoLDdt",
        "outputId": "ca1fa7c9-25f0-44bd-9356-0dc95f48a390"
      },
      "source": [
        "generate_text(model, tokenizer, init_sentence=\"<start> love\", max_len=100)"
      ],
      "execution_count": 65,
      "outputs": [
        {
          "output_type": "execute_result",
          "data": {
            "application/vnd.google.colaboratory.intrinsic+json": {
              "type": "string"
            },
            "text/plain": [
              "'<start> love is a beautiful thing <end> '"
            ]
          },
          "metadata": {
            "tags": []
          },
          "execution_count": 65
        }
      ]
    },
    {
      "cell_type": "code",
      "metadata": {
        "colab": {
          "base_uri": "https://localhost:8080/",
          "height": 35
        },
        "id": "cnH7k4CfvAZl",
        "outputId": "a028b54b-f06c-4b5b-d55b-90fb6dfb2eeb"
      },
      "source": [
        "generate_text(model, tokenizer, init_sentence=\"<start> babe\", max_len=100)"
      ],
      "execution_count": 70,
      "outputs": [
        {
          "output_type": "execute_result",
          "data": {
            "application/vnd.google.colaboratory.intrinsic+json": {
              "type": "string"
            },
            "text/plain": [
              "'<start> babe , yeah , yeah , yeah <end> '"
            ]
          },
          "metadata": {
            "tags": []
          },
          "execution_count": 70
        }
      ]
    },
    {
      "cell_type": "code",
      "metadata": {
        "colab": {
          "base_uri": "https://localhost:8080/",
          "height": 35
        },
        "id": "aHnZOFb7vgbW",
        "outputId": "6b957603-afe6-4a7b-858a-c5a2ca668d95"
      },
      "source": [
        "generate_text(model, tokenizer, init_sentence=\"<start> why\", max_len=100)"
      ],
      "execution_count": 71,
      "outputs": [
        {
          "output_type": "execute_result",
          "data": {
            "application/vnd.google.colaboratory.intrinsic+json": {
              "type": "string"
            },
            "text/plain": [
              "'<start> why you wanna be with me <end> '"
            ]
          },
          "metadata": {
            "tags": []
          },
          "execution_count": 71
        }
      ]
    },
    {
      "cell_type": "code",
      "metadata": {
        "colab": {
          "base_uri": "https://localhost:8080/",
          "height": 35
        },
        "id": "03dWRJLHwStB",
        "outputId": "8141371f-9a5c-455a-e4a8-c8b9f441763b"
      },
      "source": [
        "generate_text(model, tokenizer, init_sentence=\"<start> what are you\", max_len=100)"
      ],
      "execution_count": 72,
      "outputs": [
        {
          "output_type": "execute_result",
          "data": {
            "application/vnd.google.colaboratory.intrinsic+json": {
              "type": "string"
            },
            "text/plain": [
              "'<start> what are you waiting for ? <end> '"
            ]
          },
          "metadata": {
            "tags": []
          },
          "execution_count": 72
        }
      ]
    },
    {
      "cell_type": "code",
      "metadata": {
        "colab": {
          "base_uri": "https://localhost:8080/",
          "height": 35
        },
        "id": "fGBP3KoRyuZ-",
        "outputId": "7c2ab02d-c23e-49b3-9f61-fffda921a299"
      },
      "source": [
        "generate_text(model, tokenizer, init_sentence=\"<start> are you\", max_len=100)"
      ],
      "execution_count": 81,
      "outputs": [
        {
          "output_type": "execute_result",
          "data": {
            "application/vnd.google.colaboratory.intrinsic+json": {
              "type": "string"
            },
            "text/plain": [
              "'<start> are you ready ? <end> '"
            ]
          },
          "metadata": {
            "tags": []
          },
          "execution_count": 81
        }
      ]
    },
    {
      "cell_type": "code",
      "metadata": {
        "colab": {
          "base_uri": "https://localhost:8080/",
          "height": 35
        },
        "id": "DTHL3VMWy7ts",
        "outputId": "9c0ef4c9-13bf-425e-92a9-6b24abf72273"
      },
      "source": [
        "generate_text(model, tokenizer, init_sentence=\"<start> summer night\", max_len=100)"
      ],
      "execution_count": 83,
      "outputs": [
        {
          "output_type": "execute_result",
          "data": {
            "application/vnd.google.colaboratory.intrinsic+json": {
              "type": "string"
            },
            "text/plain": [
              "'<start> summer night , happy birthday , happy birthday woo , shake ! <end> '"
            ]
          },
          "metadata": {
            "tags": []
          },
          "execution_count": 83
        }
      ]
    },
    {
      "cell_type": "code",
      "metadata": {
        "colab": {
          "base_uri": "https://localhost:8080/",
          "height": 35
        },
        "id": "MqhlFl95zYdq",
        "outputId": "b458b480-dc60-4c53-a9ce-2a61a3e49551"
      },
      "source": [
        "generate_text(model, tokenizer, init_sentence=\"<start> over the\", max_len=100)"
      ],
      "execution_count": 84,
      "outputs": [
        {
          "output_type": "execute_result",
          "data": {
            "application/vnd.google.colaboratory.intrinsic+json": {
              "type": "string"
            },
            "text/plain": [
              "'<start> over the sun , the <unk> <end> '"
            ]
          },
          "metadata": {
            "tags": []
          },
          "execution_count": 84
        }
      ]
    },
    {
      "cell_type": "code",
      "metadata": {
        "colab": {
          "base_uri": "https://localhost:8080/",
          "height": 35
        },
        "id": "vbqKuET2ziCv",
        "outputId": "58283000-9f3e-4f28-dd0f-673f6cb6321e"
      },
      "source": [
        "generate_text(model, tokenizer, init_sentence=\"<start> will you\", max_len=100)"
      ],
      "execution_count": 86,
      "outputs": [
        {
          "output_type": "execute_result",
          "data": {
            "application/vnd.google.colaboratory.intrinsic+json": {
              "type": "string"
            },
            "text/plain": [
              "'<start> will you still love me ? <end> '"
            ]
          },
          "metadata": {
            "tags": []
          },
          "execution_count": 86
        }
      ]
    },
    {
      "cell_type": "code",
      "metadata": {
        "colab": {
          "base_uri": "https://localhost:8080/",
          "height": 35
        },
        "id": "CnxdBRRO0S8K",
        "outputId": "78df6db7-07b8-471f-d8fe-e29264ce49cd"
      },
      "source": [
        "generate_text(model, tokenizer, init_sentence=\"<start> feeling\", max_len=100)"
      ],
      "execution_count": 90,
      "outputs": [
        {
          "output_type": "execute_result",
          "data": {
            "application/vnd.google.colaboratory.intrinsic+json": {
              "type": "string"
            },
            "text/plain": [
              "'<start> feeling like a rocket <end> '"
            ]
          },
          "metadata": {
            "tags": []
          },
          "execution_count": 90
        }
      ]
    },
    {
      "cell_type": "code",
      "metadata": {
        "colab": {
          "base_uri": "https://localhost:8080/",
          "height": 35
        },
        "id": "SunZ0pQ20jm9",
        "outputId": "103188df-d8a6-4f5a-f1b5-fbc32c4c0160"
      },
      "source": [
        "generate_text(model, tokenizer, init_sentence=\"<start> i'm\", max_len=100)"
      ],
      "execution_count": 93,
      "outputs": [
        {
          "output_type": "execute_result",
          "data": {
            "application/vnd.google.colaboratory.intrinsic+json": {
              "type": "string"
            },
            "text/plain": [
              "\"<start> i'm a survivor <end> \""
            ]
          },
          "metadata": {
            "tags": []
          },
          "execution_count": 93
        }
      ]
    },
    {
      "cell_type": "code",
      "metadata": {
        "colab": {
          "base_uri": "https://localhost:8080/",
          "height": 35
        },
        "id": "8VntV7eN2RyN",
        "outputId": "94d963ff-ee92-4ab5-8a7e-8335c07f4a49"
      },
      "source": [
        "generate_text(model, tokenizer, init_sentence=\"<start> loving\", max_len=100)"
      ],
      "execution_count": 94,
      "outputs": [
        {
          "output_type": "execute_result",
          "data": {
            "application/vnd.google.colaboratory.intrinsic+json": {
              "type": "string"
            },
            "text/plain": [
              "'<start> loving you , you , you , you , you , you , you , you , you , you <end> '"
            ]
          },
          "metadata": {
            "tags": []
          },
          "execution_count": 94
        }
      ]
    },
    {
      "cell_type": "code",
      "metadata": {
        "colab": {
          "base_uri": "https://localhost:8080/",
          "height": 35
        },
        "id": "ab05QJ-7P4pa",
        "outputId": "664be150-9309-47c4-c540-497260058ca2"
      },
      "source": [
        "generate_text(model, tokenizer, init_sentence=\"<start> don't\", max_len=20)"
      ],
      "execution_count": 101,
      "outputs": [
        {
          "output_type": "execute_result",
          "data": {
            "application/vnd.google.colaboratory.intrinsic+json": {
              "type": "string"
            },
            "text/plain": [
              "\"<start> don't you know that i love you <end> \""
            ]
          },
          "metadata": {
            "tags": []
          },
          "execution_count": 101
        }
      ]
    },
    {
      "cell_type": "code",
      "metadata": {
        "colab": {
          "base_uri": "https://localhost:8080/",
          "height": 35
        },
        "id": "1EtdvPlzQrM2",
        "outputId": "713f9be5-00fc-43fd-efa2-bc8d88cc7a1b"
      },
      "source": [
        "generate_text(model, tokenizer, init_sentence=\"<start> teddy\", max_len=100)"
      ],
      "execution_count": 120,
      "outputs": [
        {
          "output_type": "execute_result",
          "data": {
            "application/vnd.google.colaboratory.intrinsic+json": {
              "type": "string"
            },
            "text/plain": [
              "'<start> teddy say she was a hooligan for me <end> '"
            ]
          },
          "metadata": {
            "tags": []
          },
          "execution_count": 120
        }
      ]
    },
    {
      "cell_type": "markdown",
      "metadata": {
        "id": "MGwjgbtCSad2"
      },
      "source": [
        "\\<unk>는 단어사전에 없는 토큰을 의미한다."
      ]
    },
    {
      "cell_type": "code",
      "metadata": {
        "colab": {
          "base_uri": "https://localhost:8080/",
          "height": 35
        },
        "id": "jyRBHsrTSLDL",
        "outputId": "1bb76474-9c94-4d91-e33e-652a8dede65a"
      },
      "source": [
        "generate_text(model, tokenizer, init_sentence=\"<start> Jessy\", max_len=100)"
      ],
      "execution_count": 132,
      "outputs": [
        {
          "output_type": "execute_result",
          "data": {
            "application/vnd.google.colaboratory.intrinsic+json": {
              "type": "string"
            },
            "text/plain": [
              "'<start> <unk> , <unk> , <unk> , <end> '"
            ]
          },
          "metadata": {
            "tags": []
          },
          "execution_count": 132
        }
      ]
    },
    {
      "cell_type": "markdown",
      "metadata": {
        "id": "rWyEsZPBRWjo"
      },
      "source": [
        "**<start\\>토큰으로 시작하지 않는 입력을 넣으면 어떻게 될까?**\n",
        "- 자주 쓰이는 단어들로 이루어져 있으면 그럴싸한 텍스트를 생성하는데\n",
        "- 희소한 단어를 입력하면 이상한 단어를 계속 반복한다. (<end\\>토큰이 나타나지 않음)\n",
        "\n",
        "|입력|생성된 텍스트|\n",
        "|------|--------|\n",
        "|take me|take me , baby <end\\>|\n",
        "|while|while i don't know what to do <end\\>|\n",
        "|Jessica|tjessica viagra doves shutter doves shutter doves shutter doves shutter|\n",
        "|Jessy|<unk\\> viagra suffer changin' shutter doves shutter doves shutter doves |"
      ]
    },
    {
      "cell_type": "code",
      "metadata": {
        "colab": {
          "base_uri": "https://localhost:8080/",
          "height": 35
        },
        "id": "WFJAtyMPQF8b",
        "outputId": "c9aefce0-a868-484a-9d48-4f5e2d740573"
      },
      "source": [
        "generate_text(model, tokenizer, init_sentence=\"take me\", max_len=20)"
      ],
      "execution_count": 104,
      "outputs": [
        {
          "output_type": "execute_result",
          "data": {
            "application/vnd.google.colaboratory.intrinsic+json": {
              "type": "string"
            },
            "text/plain": [
              "'take me , baby <end> '"
            ]
          },
          "metadata": {
            "tags": []
          },
          "execution_count": 104
        }
      ]
    },
    {
      "cell_type": "code",
      "metadata": {
        "colab": {
          "base_uri": "https://localhost:8080/",
          "height": 35
        },
        "id": "2893etpePpho",
        "outputId": "b10889c8-2b38-432d-ef6c-9b2f0b359963"
      },
      "source": [
        "generate_text(model, tokenizer, init_sentence=\"while\", max_len=20)"
      ],
      "execution_count": 130,
      "outputs": [
        {
          "output_type": "execute_result",
          "data": {
            "application/vnd.google.colaboratory.intrinsic+json": {
              "type": "string"
            },
            "text/plain": [
              "\"while i don't know what to do <end> \""
            ]
          },
          "metadata": {
            "tags": []
          },
          "execution_count": 130
        }
      ]
    },
    {
      "cell_type": "code",
      "metadata": {
        "colab": {
          "base_uri": "https://localhost:8080/",
          "height": 35
        },
        "id": "uV4nY3UWSVxT",
        "outputId": "189c30a8-f96f-4b99-9226-017ae0fef5c9"
      },
      "source": [
        "generate_text(model, tokenizer, init_sentence=\"Jessica\", max_len=10)"
      ],
      "execution_count": 135,
      "outputs": [
        {
          "output_type": "execute_result",
          "data": {
            "application/vnd.google.colaboratory.intrinsic+json": {
              "type": "string"
            },
            "text/plain": [
              "'jessica viagra doves shutter doves shutter doves shutter doves shutter '"
            ]
          },
          "metadata": {
            "tags": []
          },
          "execution_count": 135
        }
      ]
    },
    {
      "cell_type": "code",
      "metadata": {
        "colab": {
          "base_uri": "https://localhost:8080/",
          "height": 35
        },
        "id": "eo93WFqkRgS_",
        "outputId": "6fa9401a-f34b-45e9-b060-2c4d76518d1a"
      },
      "source": [
        "generate_text(model, tokenizer, init_sentence=\"Jessy\", max_len=10)"
      ],
      "execution_count": 136,
      "outputs": [
        {
          "output_type": "execute_result",
          "data": {
            "application/vnd.google.colaboratory.intrinsic+json": {
              "type": "string"
            },
            "text/plain": [
              "\"<unk> viagra suffer changin' shutter doves shutter doves shutter doves \""
            ]
          },
          "metadata": {
            "tags": []
          },
          "execution_count": 136
        }
      ]
    },
    {
      "cell_type": "markdown",
      "metadata": {
        "id": "8EbzUMbqZYWK"
      },
      "source": [
        "모델 저장"
      ]
    },
    {
      "cell_type": "code",
      "metadata": {
        "colab": {
          "base_uri": "https://localhost:8080/"
        },
        "id": "O_x-oewlY6yB",
        "outputId": "233e7c54-1820-4724-afd7-13148fb5a0bc"
      },
      "source": [
        "model.save('lyrics_final')"
      ],
      "execution_count": 137,
      "outputs": [
        {
          "output_type": "stream",
          "text": [
            "WARNING:absl:Found untraced functions such as lstm_cell_10_layer_call_fn, lstm_cell_10_layer_call_and_return_conditional_losses, lstm_cell_11_layer_call_fn, lstm_cell_11_layer_call_and_return_conditional_losses, lstm_cell_10_layer_call_fn while saving (showing 5 of 10). These functions will not be directly callable after loading.\n"
          ],
          "name": "stderr"
        },
        {
          "output_type": "stream",
          "text": [
            "INFO:tensorflow:Assets written to: lyrics_final/assets\n"
          ],
          "name": "stdout"
        },
        {
          "output_type": "stream",
          "text": [
            "INFO:tensorflow:Assets written to: lyrics_final/assets\n"
          ],
          "name": "stderr"
        }
      ]
    },
    {
      "cell_type": "markdown",
      "metadata": {
        "id": "05269F0gASua"
      },
      "source": [
        "# 회고\n",
        "\n",
        "### 시행착오)\n",
        "- 모델이 학습되면서 출력하는 loss는 training데이터에 대한 loss인데, validation데이터에 대한 loss로 착각했다.\n",
        " - 학습시킬 때 validation loss를 확인하려면 **model.fit의 옵션에 x_val, y_val**을 넣어줘야 한다.\n",
        "- epoch를 예제와 같이 30으로 지정하고 학습했더니 loss(심지어 train loss)가 잘 줄어들어서 거의 완성했다고 생각했다.<br>*(역시 내가 너무 앞서가고 있다고 생각이 들면 뒤를 돌아봐야한다. 아예 다른 길로 가고 있을 수 있으니...)*\n",
        "\n",
        "### 배운점)\n",
        "- tensorflow에 대한 이해도가 낮은 상태로 모델을 학습시키는 코드를 보았을 때 거의 블랙박스처럼 겉핡기로만 보고 있었다는 것을 깨달았다. 덕분에 항상 궁금했던 **history객체**의 역할을 알게 되었고 앞으로 유용하게 쓸 수 있을 것 같다.\n",
        "- history객체를 통해 loss 또는 accuracy를 쉽게 시각화할 수 있다.\n",
        "\n",
        "### 더 알아볼점)\n",
        "- 하지만 아직까지도 <u>학습시키는 모델을 어떻게 저장하고 로드</u>하는지 구현해보지 못했다. 이번 프로젝트에서는 .h5로 저장할 때 오류가 발생했고, weight를 저장하는 방법은 load_weights를 한 후에 generate_text를 수행하는 데 어려움이 있었다.\n",
        " - **callback**이라는 것을 더 알아봐야겠다.\n",
        "- <start\\>토큰으로 시작하는 텍스트를 입력으로 넣었을 때와 그렇지 않은 경우의 결과가 다른 이유, <start\\>토큰으로 입력을 넣으면 결과가 더 잘 나오는 이유 등을 알고 싶다."
      ]
    }
  ]
}