{
  "nbformat": 4,
  "nbformat_minor": 0,
  "metadata": {
    "colab": {
      "name": "[F-13]객체지향프로그래밍.ipynb",
      "provenance": [],
      "collapsed_sections": [],
      "authorship_tag": "ABX9TyPEybeUyfrL4wN+iYSN1xfd",
      "include_colab_link": true
    },
    "kernelspec": {
      "name": "python3",
      "display_name": "Python 3"
    },
    "language_info": {
      "name": "python"
    }
  },
  "cells": [
    {
      "cell_type": "markdown",
      "metadata": {
        "id": "view-in-github",
        "colab_type": "text"
      },
      "source": [
        "<a href=\"https://colab.research.google.com/github/Beatriz-Yun/AIFFEL_LMS/blob/main/Fundamental/%5BF-13%5D%EA%B0%9D%EC%B2%B4%EC%A7%80%ED%96%A5%ED%94%84%EB%A1%9C%EA%B7%B8%EB%9E%98%EB%B0%8D.ipynb\" target=\"_parent\"><img src=\"https://colab.research.google.com/assets/colab-badge.svg\" alt=\"Open In Colab\"/></a>"
      ]
    },
    {
      "cell_type": "markdown",
      "metadata": {
        "id": "EHJOHgyM2ZY7"
      },
      "source": [
        "### 목차\n",
        "1. 객체 지향 프로그래밍\n",
        " -  객체란?\n",
        " -  객체 지향 프로그래밍이란?\n",
        "\n",
        "2. 클래스 기본 문법\n",
        " -  클래스 선언 및 인스턴스화\n",
        " -  클래스 속성과 메소드\n",
        " -  생성자\n",
        " -  클래스 변수와 인스턴스 변수\n",
        "\n",
        "3. 객체 지향 프로그래밍을 하는 이유\n",
        "4. 클래스, 조금 더 알아보기 - 상속\n",
        "5. n면체 주사위 만들기\n",
        " -  기획\n",
        " -  주 프로그램 - main 함수\n",
        " -  FunnyDice 클래스\n",
        " -  FunnyDice 클래스 테스트, get_input 함수\n",
        " -  완성 코드\n",
        "\n"
      ]
    },
    {
      "cell_type": "markdown",
      "metadata": {
        "id": "xe4BnqG32xtN"
      },
      "source": [
        "## 객체 지향 프로그래밍(OOP)\n",
        "\n",
        "**\"파이썬에서 모든 것은 객체(object)다. 그리고 대부분의 객체는 속성(attributes)과 메소드(methods)를 갖는다.\"**\n",
        "- 파이썬에서는 부울(bool), 정수, 실수, 문자열, 배열, 딕셔너리, 함수, 모듈, 프로그램 등 모든 것이 객체이다.\n",
        "- 파이썬에서 정의된 모든 클래스는 Object 클래스를 상속받고 있으며, 이 Object 클래스가 변수할당과 object id 부여를 책임진다.\n",
        "\n",
        "<br>\n",
        "\n",
        "**id()함수**: 프로그램이 돌아가고 있는 동안 객체의 고유값(identity)을 반환하는 파이썬 내장함수."
      ]
    },
    {
      "cell_type": "code",
      "metadata": {
        "colab": {
          "base_uri": "https://localhost:8080/"
        },
        "id": "m-9nvfLy3p3f",
        "outputId": "2a2f0b09-ce27-41ef-8c3a-f3799f49ed44"
      },
      "source": [
        "var = 4\n",
        "\n",
        "print(id(var), id(4)) #id 값은 pc마다 다르다.\n",
        "                      # 4를 할당한 변수의 id와 4의 id가 같다. 둘이 같은 객체를 가리킨다."
      ],
      "execution_count": null,
      "outputs": [
        {
          "output_type": "stream",
          "text": [
            "94391404903008 94391404903008\n"
          ],
          "name": "stdout"
        }
      ]
    },
    {
      "cell_type": "markdown",
      "metadata": {
        "id": "g9fM_tVW4XNl"
      },
      "source": [
        "얕은 복사: **원본 객체의 주소를 복사.** 원본데이터는 그대로 두고, 참조하는 데이터의 id만 복사한다.\n",
        "- copy.copy() <br>\n",
        "\n",
        "깊은 복사: **원본 객체의 값을 복사.** 동일한 데이터가 생긴다.\n",
        "- copy.deepcopy()\n",
        "\n",
        "[파이썬 공식 문서: copy() 모듈](https://docs.python.org/3/library/copy.html)"
      ]
    },
    {
      "cell_type": "markdown",
      "metadata": {
        "id": "1jCgFBQb8hkK"
      },
      "source": [
        "## 클래스 기본 문법"
      ]
    },
    {
      "cell_type": "code",
      "metadata": {
        "colab": {
          "base_uri": "https://localhost:8080/"
        },
        "id": "eSbP_vQx345Y",
        "outputId": "bd51d99f-c5e2-4580-fb53-69ccd213417c"
      },
      "source": [
        "class Car:\n",
        "    pass\n",
        "\n",
        "# 클래스를 선언할 때 소괄호를 쓰는 것도 가능하다.\n",
        "# class Car():\n",
        "#     pass\n",
        "\n",
        "#id(Car)는 여러번 호출해도 같은 값이 얻어집니다. \n",
        "print(id(Car))\n",
        "print(id(Car))\n",
        "\n",
        "#id(Car())는 Car()가 호출될 때마다 다른 값이 얻어집니다. \n",
        "print(id(Car()))\n",
        "print(id(Car()))\n",
        "\n",
        "print(type(Car))       # 클래스 자체\n",
        "print(type(Car()))     # 클래스로 생성한 객체\n",
        "\n",
        "a = Car()              # 객체를 할당 (인스턴스화)\n",
        "print(type(a))"
      ],
      "execution_count": null,
      "outputs": [
        {
          "output_type": "stream",
          "text": [
            "94391469880032\n",
            "94391469880032\n",
            "140054433543184\n",
            "140054433545360\n",
            "<class 'type'>\n",
            "<class '__main__.Car'>\n",
            "<class '__main__.Car'>\n"
          ],
          "name": "stdout"
        }
      ]
    },
    {
      "cell_type": "markdown",
      "metadata": {
        "id": "Fd5wnqg7985R"
      },
      "source": [
        "클래스의 속성은 상태(state)를 표현한다.\n",
        "- 속성은 **변수**로 나타낸다.\n",
        "\n",
        "클래스의 메소드는 동작(behavior)을 표현합니다.\n",
        "- 메소드는 **def 키워드**로 나타냅니다."
      ]
    },
    {
      "cell_type": "code",
      "metadata": {
        "id": "0u8WTtW6-Lf7"
      },
      "source": [
        "class Car:\n",
        "    # 속성\n",
        "    color = 'red'\n",
        "    category = 'sports car'\n",
        "     \n",
        "    # 메소드\n",
        "    def drive(self):\n",
        "       '''\n",
        "       주행 메소드\n",
        "       '''\n",
        "       print(\"I'm driving\")\n",
        "\n",
        "    def accel(self, speed_up, current_speed=10):\n",
        "        '''\n",
        "        가속 메소드\n",
        "        :param speed_up: 현재속도\n",
        "        :param current_speed: 가속\n",
        "        :type speed_up: string\n",
        "        :type current_speed: string\n",
        "        '''\n",
        "        self.speed_up = speed_up\n",
        "        self.current_speed = current_speed + speed_up\n",
        "        print(\"speed up\", self.speed_up, \"driving at\", self.current_speed)"
      ],
      "execution_count": null,
      "outputs": []
    },
    {
      "cell_type": "code",
      "metadata": {
        "colab": {
          "base_uri": "https://localhost:8080/"
        },
        "id": "Fkb2r24i-wzY",
        "outputId": "dee4938f-67d7-4058-97e8-661d4785edbd"
      },
      "source": [
        "mycar = Car()\n",
        "\n",
        "# 속성 호출\n",
        "print(mycar.color)\n",
        "\n",
        "# 메소드 호출 (self인자 명시적으로 전달할 필요 없음)\n",
        "mycar.drive()\n",
        "mycar.accel(5)"
      ],
      "execution_count": null,
      "outputs": [
        {
          "output_type": "stream",
          "text": [
            "red\n",
            "I'm driving\n",
            "speed up 5 driving at 15\n"
          ],
          "name": "stdout"
        }
      ]
    },
    {
      "cell_type": "markdown",
      "metadata": {
        "id": "XAgc4FE3_e3X"
      },
      "source": [
        "**파이썬 내부적으로 (인터프리터에서) 선언된 객체 자신을 가리키는 self인자를 사용한다.**<br>\n",
        "따라서 아래 코드는 서로 똑같이 동작한다."
      ]
    },
    {
      "cell_type": "code",
      "metadata": {
        "colab": {
          "base_uri": "https://localhost:8080/"
        },
        "id": "_GkiST23_egG",
        "outputId": "71f94b4d-2ca4-46d6-c491-bbad1fe5a2b8"
      },
      "source": [
        "mycar.drive()      # 객체.메소드()\n",
        "\n",
        "Car.drive(mycar)   # 클래스.메소드(객체명)"
      ],
      "execution_count": null,
      "outputs": [
        {
          "output_type": "stream",
          "text": [
            "I'm driving\n",
            "I'm driving\n"
          ],
          "name": "stdout"
        }
      ]
    },
    {
      "cell_type": "markdown",
      "metadata": {
        "id": "uVIjjrdyBDMd"
      },
      "source": [
        "**단, 클래스의 메소드를 선언할 때 self인자를 생략하면 오류가 발생한다!!**<br>\n",
        "또한 메소드에서 객체의 속성을 사용할 때(정의 또는 호출) **self.속성**으로 작성해야 한다!"
      ]
    },
    {
      "cell_type": "code",
      "metadata": {
        "colab": {
          "base_uri": "https://localhost:8080/",
          "height": 362
        },
        "id": "TM7uhOI-BEXv",
        "outputId": "8d54abbb-a47b-49f9-c822-058ed1dfbfd2"
      },
      "source": [
        "class Test2:\n",
        "    def run1(self, a):\n",
        "        self.a = float(a) * 10    # self.a로 인해 a라는 클래스 속성이 생성됨.\n",
        "        print(self.a)\n",
        "\n",
        "    def run2(self, b):\n",
        "        b = float(b) + 10\n",
        "        print(self.b)             # b라는 클래스 속성이 없기 때문에 오류가 발생함.\n",
        "        \n",
        "t = Test2()    # 인스턴스화\n",
        "\n",
        "t.run1(1)\n",
        "print(t.a)\n",
        "t.run2(1)"
      ],
      "execution_count": null,
      "outputs": [
        {
          "output_type": "stream",
          "text": [
            "10.0\n",
            "10.0\n"
          ],
          "name": "stdout"
        },
        {
          "output_type": "error",
          "ename": "AttributeError",
          "evalue": "ignored",
          "traceback": [
            "\u001b[0;31m---------------------------------------------------------------------------\u001b[0m",
            "\u001b[0;31mAttributeError\u001b[0m                            Traceback (most recent call last)",
            "\u001b[0;32m<ipython-input-15-08d61cb94992>\u001b[0m in \u001b[0;36m<module>\u001b[0;34m()\u001b[0m\n\u001b[1;32m     12\u001b[0m \u001b[0mt\u001b[0m\u001b[0;34m.\u001b[0m\u001b[0mrun1\u001b[0m\u001b[0;34m(\u001b[0m\u001b[0;36m1\u001b[0m\u001b[0;34m)\u001b[0m\u001b[0;34m\u001b[0m\u001b[0;34m\u001b[0m\u001b[0m\n\u001b[1;32m     13\u001b[0m \u001b[0mprint\u001b[0m\u001b[0;34m(\u001b[0m\u001b[0mt\u001b[0m\u001b[0;34m.\u001b[0m\u001b[0ma\u001b[0m\u001b[0;34m)\u001b[0m\u001b[0;34m\u001b[0m\u001b[0;34m\u001b[0m\u001b[0m\n\u001b[0;32m---> 14\u001b[0;31m \u001b[0mt\u001b[0m\u001b[0;34m.\u001b[0m\u001b[0mrun2\u001b[0m\u001b[0;34m(\u001b[0m\u001b[0;36m1\u001b[0m\u001b[0;34m)\u001b[0m\u001b[0;34m\u001b[0m\u001b[0;34m\u001b[0m\u001b[0m\n\u001b[0m",
            "\u001b[0;32m<ipython-input-15-08d61cb94992>\u001b[0m in \u001b[0;36mrun2\u001b[0;34m(self, b)\u001b[0m\n\u001b[1;32m      6\u001b[0m     \u001b[0;32mdef\u001b[0m \u001b[0mrun2\u001b[0m\u001b[0;34m(\u001b[0m\u001b[0mself\u001b[0m\u001b[0;34m,\u001b[0m \u001b[0mb\u001b[0m\u001b[0;34m)\u001b[0m\u001b[0;34m:\u001b[0m\u001b[0;34m\u001b[0m\u001b[0;34m\u001b[0m\u001b[0m\n\u001b[1;32m      7\u001b[0m         \u001b[0mb\u001b[0m \u001b[0;34m=\u001b[0m \u001b[0mfloat\u001b[0m\u001b[0;34m(\u001b[0m\u001b[0mb\u001b[0m\u001b[0;34m)\u001b[0m \u001b[0;34m+\u001b[0m \u001b[0;36m10\u001b[0m\u001b[0;34m\u001b[0m\u001b[0;34m\u001b[0m\u001b[0m\n\u001b[0;32m----> 8\u001b[0;31m         \u001b[0mprint\u001b[0m\u001b[0;34m(\u001b[0m\u001b[0mself\u001b[0m\u001b[0;34m.\u001b[0m\u001b[0mb\u001b[0m\u001b[0;34m)\u001b[0m             \u001b[0;31m# b라는 클래스 속성이 없기 때문에 오류가 발생함.\u001b[0m\u001b[0;34m\u001b[0m\u001b[0;34m\u001b[0m\u001b[0m\n\u001b[0m\u001b[1;32m      9\u001b[0m \u001b[0;34m\u001b[0m\u001b[0m\n\u001b[1;32m     10\u001b[0m \u001b[0mt\u001b[0m \u001b[0;34m=\u001b[0m \u001b[0mTest2\u001b[0m\u001b[0;34m(\u001b[0m\u001b[0;34m)\u001b[0m    \u001b[0;31m# 인스턴스화\u001b[0m\u001b[0;34m\u001b[0m\u001b[0;34m\u001b[0m\u001b[0m\n",
            "\u001b[0;31mAttributeError\u001b[0m: 'Test2' object has no attribute 'b'"
          ]
        }
      ]
    },
    {
      "cell_type": "markdown",
      "metadata": {
        "id": "zJh3cXhFCrh0"
      },
      "source": [
        "**생성자 \\_\\_init\\_\\_**\n",
        "- 객체를 생성할 때 객체의 속성값을 사용자가 초기화할 수 있도록 해주는 함수.\n",
        "\n",
        "<br>\n",
        "\n",
        "이처럼 앞뒤에 언더바(_)가 2개씩 있는 메소드를 **'매직 메소드'**라고 한다.\n",
        "<br>\n",
        "[A Guide to Python's Magic Methods](https://rszalski.github.io/magicmethods/)\n"
      ]
    },
    {
      "cell_type": "code",
      "metadata": {
        "id": "zenBu7_tDk00"
      },
      "source": [
        "class Car2:\n",
        "    def __init__(self, color, category):    # Car1클래스에서 __init__함수를 추가함\n",
        "        self.color = color\n",
        "        self.category = category\n",
        "\n",
        "    def drive(self):\n",
        "        print(\"I'm driving\")\n",
        "\n",
        "    def accel(self, speed_up, current_speed=10):\n",
        "        self.speed_up = speed_up\n",
        "        self.current_speed = current_speed + self.speed_up\n",
        "        print(\"speed up\", self.speed_up, \"driving at\", self.current_speed)"
      ],
      "execution_count": null,
      "outputs": []
    },
    {
      "cell_type": "code",
      "metadata": {
        "colab": {
          "base_uri": "https://localhost:8080/"
        },
        "id": "_DGip5MMDtQu",
        "outputId": "1cd09f97-6f02-4115-cab8-e6b384efdcda"
      },
      "source": [
        "#인스턴스 객체 선언\n",
        "car1 = Car()\n",
        "car2 = Car2('yellow', 'sedan')\n",
        "\n",
        "print(car1.color, ',', car1.category)\n",
        "print(car2.color, ',', car2.category)"
      ],
      "execution_count": null,
      "outputs": [
        {
          "output_type": "stream",
          "text": [
            "red , sports car\n",
            "yellow , sedan\n"
          ],
          "name": "stdout"
        }
      ]
    },
    {
      "cell_type": "code",
      "metadata": {
        "id": "JkYVYPxGEF9O"
      },
      "source": [
        "class Car2:\n",
        "    def __init__(self, color='red', category='sprots car'):   # 키워드인자로 속성값의 디폴트값을 지정해 줄 수 있다.\n",
        "        self.color = color\n",
        "        self.category = category"
      ],
      "execution_count": null,
      "outputs": []
    },
    {
      "cell_type": "markdown",
      "metadata": {
        "id": "cxa8K-Q6Dw5G"
      },
      "source": [
        "**클래스 변수**\n",
        "- 클래스에 바로 선언된 속성\n",
        "- 클래스에 의해 생성된 **모든 객체에서 같은 값**을 조회할 때 사용 가능\n",
        "\n",
        "**인스턴스 변수**\n",
        "- **self를 사용**해 선언된 변수\n",
        "- 객체가 인스턴스화될 때마다 새로운 값이 할당되며, 서로 다른 객체 간에는 **값을 공유할 수 없다.**\n",
        "- 객체 단위로 변경되는 변수"
      ]
    },
    {
      "cell_type": "code",
      "metadata": {
        "colab": {
          "base_uri": "https://localhost:8080/"
        },
        "id": "d76KCd7nHH9Z",
        "outputId": "ab9e9582-b780-4eb6-bbaf-7941ed7ce800"
      },
      "source": [
        "class Car:\n",
        "    Manufacture = \"India\"          # 클래스 변수\n",
        "\n",
        "    def __init__(self, color, category='sedan'):\n",
        "        self.color = color         # 인스턴스 변수\n",
        "        self.category = category\n",
        "\n",
        "car1 = Car('red','sports car')\n",
        "car2 = Car('white')\n",
        "print(car1.Manufacture, car1.color, car1.category)\n",
        "print(car2.Manufacture, car2.color, car2.category)"
      ],
      "execution_count": null,
      "outputs": [
        {
          "output_type": "stream",
          "text": [
            "India red sports car\n",
            "India white sedan\n"
          ],
          "name": "stdout"
        }
      ]
    },
    {
      "cell_type": "markdown",
      "metadata": {
        "id": "nZf_Ac09Ht_i"
      },
      "source": [
        "## 객체 지향 프로그래밍을 하는 이유\n",
        "\n",
        "1.추상화(abstraction)\n",
        "- 컴퓨터 과학에서 추상화는 복잡한 자료, 모듈, 시스템 등으로부터 핵심적인 개념 또는 기능을 간추려 내는 것을 말한다.\n",
        "- ex) Car 클래스의 기능이 추상화되어 있기 때문에 Car를 상속하여 Bus, Truck 등을 만들어도 Car의 기능을 이어 받아 사용할 수 있다.\n",
        "\n",
        "2.캡슐화(encapsulation)\n",
        "- 객체의 속성(data fields)과 행위(메서드, methods)를 하나로 묶는다.\n",
        "- 실제 구현 내용 일부를 외부에 감추어 은닉한다. (-> 모듈, 패키지, 라이브러리)\n",
        "- ex) 각 기능은 캡슐화하여 함수로 제공하기 때문에 자동차 클래스를 만들어 사용하는 사람은 내부 구현이나 변수에 대해서는 알지 못해도 필요한 함수를 호출하는 것만으로 손쉽게 해당 기능을 사용할 수 있다."
      ]
    },
    {
      "cell_type": "markdown",
      "metadata": {
        "id": "rzIEn1ktJBXF"
      },
      "source": [
        "## 클래스 상속\n",
        "\n",
        "자식 클래스: 상속받은 클래스\n",
        "\n",
        "부모 클래스: 기존 클래스"
      ]
    },
    {
      "cell_type": "code",
      "metadata": {
        "colab": {
          "base_uri": "https://localhost:8080/"
        },
        "id": "aLrhamL1JGs4",
        "outputId": "68b8fd80-8c1f-498a-b0b0-51c375476f6c"
      },
      "source": [
        "class Car:\n",
        "    Manufacture = \"India\"\n",
        "\n",
        "    def __init__(self, color='red', category='sedan'):\n",
        "        self.color = color\n",
        "        self.category = category\n",
        "\n",
        "    def drive(self):\n",
        "        print(\"I'm driving\")\n",
        "\n",
        "    def accel(self, speed_up, current_speed=10):\n",
        "        self.speed_up = speed_up\n",
        "        self.current_speed = current_speed + self.speed_up\n",
        "        print(\"speed up\", self.speed_up, \"driving at\", self.current_speed)\n",
        "\n",
        "class NewCar(Car):    # Car클래스를 상속한다. (부모클래스: Car)\n",
        "    pass\n",
        "\n",
        "car = NewCar()\n",
        "car.drive()           # 부모클래스의 기능을 사용할 수 있다.\n",
        "car.accel(10)"
      ],
      "execution_count": null,
      "outputs": [
        {
          "output_type": "stream",
          "text": [
            "I'm driving\n",
            "speed up 10 driving at 20\n"
          ],
          "name": "stdout"
        }
      ]
    },
    {
      "cell_type": "markdown",
      "metadata": {
        "id": "Yi4qD4PMOtmb"
      },
      "source": [
        "**메소드 오버라이딩(overriding)**\n",
        "= 메소드 재정의<br>\n",
        ": 부모 클래스에 있는 메소드를 다시 정의하는 것. (메소드명, 인자 동일)"
      ]
    },
    {
      "cell_type": "code",
      "metadata": {
        "colab": {
          "base_uri": "https://localhost:8080/"
        },
        "id": "dsB8sTfxKtE0",
        "outputId": "82e87096-5899-407a-fb4b-393aac71857a"
      },
      "source": [
        "class NewCar(Car):\n",
        "    maker = 'Porsche'                                   # 속성을 추가해서 사용 가능\n",
        "    def fly(self):\n",
        "        print(\"I'm flying!! This is the new car!!\")     # 메소드를 추가해서 사용 가능\n",
        "    def drive(self):\n",
        "        print(\"I'm driving and can fly\")                # 메소드 오버라이딩\n",
        "car = NewCar()\n",
        "print(car.maker)\n",
        "car.fly()\n",
        "car.drive()        # 자식클래스에서 오버라이딩 된 함수대로 동작한다."
      ],
      "execution_count": null,
      "outputs": [
        {
          "output_type": "stream",
          "text": [
            "Porsche\n",
            "I'm flying!! This is the new car!!\n",
            "I'm driving and can fly\n"
          ],
          "name": "stdout"
        }
      ]
    },
    {
      "cell_type": "markdown",
      "metadata": {
        "id": "tBRmATmyVQu5"
      },
      "source": [
        "**super():** 자식클래스에서 부모클래스의 메소드를 호출하는 파이썬 내장함수"
      ]
    },
    {
      "cell_type": "code",
      "metadata": {
        "colab": {
          "base_uri": "https://localhost:8080/"
        },
        "id": "l5bgxTZIV5Yj",
        "outputId": "858ab8a6-ad45-45a6-fcc4-6864aa9e882d"
      },
      "source": [
        "class Car:\n",
        "    Manufacture = \"India\"\n",
        "\n",
        "    def __init__(self, color='red', category='sedan'):\n",
        "        self.color = color \n",
        "        self.category = '2020Y '+ category\n",
        "\n",
        "\n",
        "class NewCar(Car):\n",
        "    def __init__(self, color, category, maker):\n",
        "        super().__init__(color, category)               # super()사용해서 상속받은 속성 초기화\n",
        "        self.maker = maker\n",
        "\n",
        "newcar = NewCar('red','sports car', 'Kia')\n",
        "print(newcar.category)"
      ],
      "execution_count": null,
      "outputs": [
        {
          "output_type": "stream",
          "text": [
            "2020Y sports car\n"
          ],
          "name": "stdout"
        }
      ]
    },
    {
      "cell_type": "markdown",
      "metadata": {
        "id": "E0KcC-utWGMh"
      },
      "source": [
        "## 실습) n면체 주사위 만들기\n",
        "\n",
        "**기능**\n",
        "- 주사위의 면의 개수 n을 입력할 수 있다.\n",
        "- 주사위를 던지면 1~n 눈의 수 중에서 랜덤으로 값을 출력한다.\n",
        "\n",
        "클래스명: Funnydice\n",
        "\n",
        "속성:\n",
        "\n",
        "메소드:\n"
      ]
    }
  ]
}