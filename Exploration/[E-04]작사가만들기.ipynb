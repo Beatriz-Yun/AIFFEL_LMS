{
  "nbformat": 4,
  "nbformat_minor": 0,
  "metadata": {
    "colab": {
      "name": "[E-04]작사가만들기.ipynb",
      "provenance": [],
      "collapsed_sections": [],
      "authorship_tag": "ABX9TyNucH7WUSEE6/MJk683VDFE",
      "include_colab_link": true
    },
    "kernelspec": {
      "name": "python3",
      "display_name": "Python 3"
    },
    "language_info": {
      "name": "python"
    },
    "accelerator": "GPU"
  },
  "cells": [
    {
      "cell_type": "markdown",
      "metadata": {
        "id": "view-in-github",
        "colab_type": "text"
      },
      "source": [
        "<a href=\"https://colab.research.google.com/github/Beatriz-Yun/AIFFEL_LMS/blob/main/Exploration/%5BE-04%5D%EC%9E%91%EC%82%AC%EA%B0%80%EB%A7%8C%EB%93%A4%EA%B8%B0.ipynb\" target=\"_parent\"><img src=\"https://colab.research.google.com/assets/colab-badge.svg\" alt=\"Open In Colab\"/></a>"
      ]
    },
    {
      "cell_type": "code",
      "metadata": {
        "id": "09SaeOlFxzh3",
        "colab": {
          "base_uri": "https://localhost:8080/"
        },
        "outputId": "664ca6fd-aea1-4e4a-c039-e89cacf9bd68"
      },
      "source": [
        "from google.colab import drive\n",
        "drive.mount('/content/drive')"
      ],
      "execution_count": null,
      "outputs": [
        {
          "output_type": "stream",
          "text": [
            "Mounted at /content/drive\n"
          ],
          "name": "stdout"
        }
      ]
    },
    {
      "cell_type": "markdown",
      "metadata": {
        "id": "OA2eTtttxufa"
      },
      "source": [
        "# 1) 데이터 전처리"
      ]
    },
    {
      "cell_type": "markdown",
      "metadata": {
        "id": "eQJMenHayaMC"
      },
      "source": [
        "## 1-1. 데이터 읽어오기"
      ]
    },
    {
      "cell_type": "code",
      "metadata": {
        "colab": {
          "base_uri": "https://localhost:8080/"
        },
        "id": "xNhYwFp4uIMe",
        "outputId": "653c1dbf-becf-47fd-abc9-a44b41376c79"
      },
      "source": [
        "import glob\n",
        "\n",
        "txt_file_path = '/content/drive/MyDrive/Colab Notebooks/AIFFEL_LMS/data/lyrics/*'\n",
        "\n",
        "txt_list = glob.glob(txt_file_path)\n",
        "\n",
        "raw_corpus = []\n",
        "\n",
        "# 여러개의 txt 파일을 모두 읽어서 한줄씩 raw_corpus 에 담습니다.\n",
        "for txt_file in txt_list:\n",
        "    with open(txt_file, \"r\") as f:\n",
        "        raw = f.read().splitlines()\n",
        "        raw_corpus.extend(raw)\n",
        "\n",
        "print(\"데이터 크기:\", len(raw_corpus))\n",
        "print(\"Examples:\\n\", raw_corpus[:3])"
      ],
      "execution_count": null,
      "outputs": [
        {
          "output_type": "stream",
          "text": [
            "데이터 크기: 187088\n",
            "Examples:\n",
            " ['Ooh....... New York x2 Grew up in a town that is famous as a place of movie scenes', 'Noise is always loud, there are sirens all around and the streets are mean', \"If I can make it here, I can make it anywhere, that's what they say\"]\n"
          ],
          "name": "stdout"
        }
      ]
    },
    {
      "cell_type": "markdown",
      "metadata": {
        "id": "V6gfpPioyUFc"
      },
      "source": [
        "## 1-2. 데이터 정제"
      ]
    },
    {
      "cell_type": "markdown",
      "metadata": {
        "id": "zdewOIDU4DpT"
      },
      "source": [
        "데이터 확인"
      ]
    },
    {
      "cell_type": "code",
      "metadata": {
        "colab": {
          "base_uri": "https://localhost:8080/"
        },
        "id": "mz2JGOxay98K",
        "outputId": "477c07f4-7ee4-4941-8246-275ceedb4365"
      },
      "source": [
        "for idx, sentence in enumerate(raw_corpus):\n",
        "    # 18만이 넘는 문장을 모두 확인할 수 없기 때문에\n",
        "    # 적당히 500문장마다 텍스트를 확인해준다.\n",
        "    if idx % 500 != 1:\n",
        "      continue\n",
        "    print(sentence)\n",
        "\n",
        "    "
      ],
      "execution_count": null,
      "outputs": [
        {
          "output_type": "stream",
          "text": [
            "Noise is always loud, there are sirens all around and the streets are mean\n",
            "Will you ever know? You could buy me diamonds\n",
            "Baby, I'm from [Chorus]\n",
            "Say you want me, say you want me\n",
            "That it will only get better\n",
            "It may not be easy\n",
            "With lovers and friends I still can recall\n",
            "Love you, love you\n",
            "Changing my life with a wave of her hand\n",
            "Carry That Weight a long time\n",
            "Despacito\n",
            "And I'm fast enough to run across the sea (oh) 'Cause there's just no turnin' back\n",
            "Cause this life's too long\n",
            "We'll move out of the shelter\n",
            "Uh-oh, I'm grateful for your existence\n",
            "From here my dear\n",
            "You smile I smile\n",
            "We listened to The Smiths and The Violent Femmes\n",
            "Sleep arm-in-arm in the stairwell\n",
            "But not enough to slow you down I feel like the moon\n",
            "Should I go back should I go back should I\n",
            "'Cause you're the only thing I feel Someday\n",
            "But to walk away, I have no capacity He walks away\n",
            "Just to see that smile\n",
            "You know that I'm no good Upstairs in bed with my ex-boy\n",
            "She just stopped singing Ava was the morning, now she's gone\n",
            "My God, this reminds me\n",
            "I miss my mother, I miss it when\n",
            "Well, it burned while I cried\n",
            "Your love drives me crazy, it's hard to understand just why\n",
            "In a quiet town Steady as she goes\n",
            "Ohh-er-him\n",
            "March\n",
            "Right above our heads While we're asleep\n",
            "You be good to me\n",
            "Please, please, won't you stay with me forever? Please take my love, that's all I have to give\n",
            "Can't you see You're everything I hoped for\n",
            "I'm so guilty, guilty\n",
            "Todo lo que tengo es esta foto en un marco\n",
            "If you're ready, like I'm ready Cause it's a beautiful night,\n",
            "That I hold close to see your face again With you is where I'd rather be\n",
            "I know exactly what is on your mind (straight up)\n",
            "That place we went the last time, the last time Tu-ru-tu don't you never look back\n",
            "Is it you? (is it you?) is it me? (is it me?)\n",
            "Ooh girl you got that fire\n",
            "I'm the one, yeah, I'm the one\n",
            "Mouth talkin' dirty but my lips so clean\n",
            "I'm on my way-ay-ay-ay,\n",
            "Fame and fortune, bitches, Porsches, sources with designer thing\n",
            "Got my niggas workin', I\n",
            "Last time I checked I was still breathin'\n",
            "Told my bitch I love you 'fore I knew you\n",
            "When it come to these bitches, it ain't the same chase\n",
            "If I stand next to lights, then I'm camouflaged\n",
            "I'm on (come on!)\n",
            "And everything I got they wanna take it, oh\n",
            "Welfare Department they wouldn’t give him no clothes\n",
            "Unborn and unnamed\n",
            "You’ll never be greater than yourself”\n",
            "May your feet always be swift\n",
            "Without this love that we call ours\n",
            "When it’s you who must keep it satisfied\n",
            "I’ll remember you\n",
            "\n",
            "Well, the rifleman’s stalking the sick and the lame\n",
            "Sugar Baby, get on down the road\n",
            "I rode with him in a taxi once\n",
            "\n",
            "Now all them things that seemed so important\n",
            "Everybody's got a hungry heart I see you walking, baby, down the street\n",
            "Driving 'cross the Waynesboro county line\n",
            "And no matter where you sleep tonight or how far you run\n",
            "Mama, she's home in the window, waitin' up for us\n",
            "For whether we are white or copper skinned\n",
            "Aa-aa-aah, a-aa-aah\n",
            "And bid your cares goodbye You can fly\n",
            "On nights like this with the moon above\n",
            "do it again it'll soon clear\n",
            "I could have touched!\n",
            "\n",
            "Does not concern the bee;\n",
            "For an approving God.\n",
            "To know if any human eyes were near\n",
            "\n",
            "They say that He can heal;\n",
            "That spices fly\n",
            "\n",
            "Humming the quaintest lullaby\n",
            "Was physiognomy.\n",
            "\n",
            "\n",
            "\n",
            "\n",
            "\n",
            "   By an auroral stain,\n",
            "'T is then we sigh for houses,\n",
            "UNWARNED.\n",
            "   Which are out of sight?\n",
            "An' the tide's gonna turn and it's all gonna roll your way Workin' 9 to 5, what a way to make a livin'\n",
            "Somehow you justify mistakes, try to find some better way\n",
            "We'll just live our lives one day at a time\n",
            "She said they've moved Him in the night\n",
            "Taste of your lips\n",
            "No wonder there's panic in the industry\n",
            "Turn it up,and burn down the house,yeah,house\n",
            "Keep it moving higher, and higher\n",
            "These other just wanna be me\n",
            "They keep watchin, keep watchin'\n",
            "I start purring like a machine\n",
            "All you had to do was yell and I'd be there for you Here I am, so try to forgive me\n",
            "(Shut the fuck)\n",
            "It's coming down\n",
            "Been wasting all my time Trying to make you smile\n",
            "She'll hang the baskets on the walls\n",
            "We see it in Mount Zion\n",
            "I shot the sheriff\n",
            "Lord, forgive me for not goin' back\n",
            "(In Jamaica) Get things together, right yow!\n",
            "Why we can have\n",
            "You do not like\n",
            "Hey, looking boy, what you say looking boy?\n",
            "He's so stacked that he knows, when he goes back to his mobile home, that's when its\n",
            "I starting to feel distant again\n",
            "My girlfriend's jealous 'cause I talk about you 24/7\n",
            "You take my breathe away\n",
            "Let's get it started (go ahead shake that butt)\n",
            "So you could try to justify the way you treated me Ma?\n",
            "You do what we say and we'll do what we wanna do We're fuckin' up your city and we're fuckin' up your program\n",
            "With 5'9 [unverified] to hold this bitch down\n",
            "This is poison, the boys and girls who do not know\n",
            "I go to T-R-L, look how many hugs I get\n",
            "All the shit I should be hung for, and probably killed for saying\n",
            "Two minutes ago we was all jokin' and smilin'\n",
            "'Cause why care when I'm awesome?)\n",
            "Oh yeah, very long time\n",
            "I should prolly sign to Hit-Boy cause I got all the hits, boy\n",
            "Please, think before you come for the great one\n",
            "On a Tuesday\n",
            "And I'm the one to blame\n",
            "And right after texting, told her I'm faded\n",
            "Like the car with the strap in it\n",
            "I'm just feelin' sorry for who ever gotta sweep up\n",
            "I'm still awake I gotta shine this year\n",
            "Devil in a dress, Platinum Channel\n",
            "Lord knows, I'm a voodoo chile\n",
            "It's like a little more than enough\n",
            "and the sea is straight ahead, straight up ahead Well it's too bad that our friends, can't be with us today\n",
            "And then they blame our mistakes on god.\n",
            "I'm gonna need it yeah,\n",
            "There can never, never, never be any secret,\n",
            "Say no more, oh no more,\n",
            "Yes and I've got to love every man she's ever had, yeah. If I found a man who could put me down the way you do\n",
            "I wanna fuck you hard on the sink\n",
            "Uh she love different kinds of sex now\n",
            "With a baby Louis Vuitton under her underarm\n",
            "And I was almost famous now everybody love Kanye\n",
            "Cause even if he gave me the rock its giveandgo\n",
            "Alessandra Ambrosio Anja Rubik\n",
            "How many niggas with me up and in the aisle\n",
            "And wakin up with a slight cough\n",
            "Then do the same at your funeral\n",
            "Whats best of all people screaming like a festival\n",
            "It wouldnt make me not feel so sick\n",
            "Cause when the Jesus pieces cant bring me peace\n",
            "You get to flirtin play her just perfect\n",
            "Since O.J. had isotoners\n",
            "But he just can't seem to get Kanye fresh\n",
            "But I'm not too good at that shit\n",
            "I won't go, I won't go\n",
            "She had hair so long that it looked like weave\n",
            "Yeezy, Yeezy, Yeezy, I feel so accomplished\n",
            "I feel it...\n",
            "And promises of someday make his dreams\n",
            "Scramblin' down in the street\n",
            "It's been dirty for dirty\n",
            "We'll wink at total strangers passing in\n",
            "And began to see through a glass darkly Where, as a child, I saw it face to face\n",
            "While I'm traveling home alone\n",
            "Thats that Dont touch anything in the store\n",
            "Yeezy Yeezy Yeezy this is pure luxury\n",
            "Throwing shit around the whole place screwed up\n",
            "And make em straighten up their hat\n",
            "She gave that old nigga a ulcer\n",
            "Couldnt get a job so since he couldnt get work\n",
            "On one of them bad nights yall have a bad fight\n",
            "Oooh that shit gotta hurt\n",
            "Sometimes the best advice is no advice\n",
            "Everybody know I got it if you want it then get at it\n",
            "Green means paper dream team caper\n",
            "And Im feeling like Mike at his Baddest\n",
            "And aint nobody feel my pain\n",
            "The little things I could get in my big lunchbox\n",
            "And I'll meet you further on up the road. Further on up the road\n",
            "Called a peacemaker but I never knew why\n",
            "Hallelujah\n",
            "And lie beside me, baby\n",
            "If you're squeezed for information,\n",
            "There's truth that lives\n",
            "I wish there was a treaty\n",
            "Try to say the grace I came so far for beauty\n",
            "'Cause you know that baby I I'm your biggest fan\n",
            "Damn, you were in my sex dreams (don't stop the party)\n",
            "Mistaken for love, it wasn't love\n",
            "I don't speak your, I won't speak your Jesús Cristo (la-la-la-la-la-la-la) Ah ah ah ah ah America Americano, ah ah ah ah ah America Americano\n",
            "I'm aimin' for full control of this love (Of this love)\n",
            "We could, we could, belong together (artpop)\n",
            "(I'm a rich bitch, I'm the upper class)\n",
            "But now its Weezy F Baby dont forget the F Baby\n",
            "An it damn sure aint gon miss you\n",
            "Im smoking that Bill Bixby nigga\n",
            "Chorus\n",
            "You know we aint fucking if you not thick\n",
            "Ill be there to let you\n",
            "Big bad wolf yes I just blow it down\n",
            "Fuck em good fuck em long fuck em hard fuck who fuck em all yea\n",
            "gave up them narcotics Im a changed man\n",
            "Bitch Im the God I should be rapping in a turban\n",
            "And she know it and she know it\n",
            "Toaster tooly fck around and pop ya\n",
            "My niXga Chaz Ortiz in this bitch with me\n",
            "And I got y'all knuckleheads in loco parentis\n",
            "How they perceive you You, you, you I'm erasing myself from the narrative\n",
            "And I been thankin' of bustin' you\n",
            "Me and my homies, so drop that\n",
            "Works in the mornin, but she'll party all night\n",
            "Get out the booth and let me tell yall the truth\n",
            "Down below we firing up the barbecue grills\n",
            "Ran out of liquor\n",
            "If men sleep around we some players but for women\n",
            "So, dont be quick to judge, shorty bad as f-ck\n",
            "I heard you masturbate a lot, so y'all keep to yourself\n",
            "In court I never show up, like Austin Powers fa-zha\n",
            "It don't run in our blood\n",
            "What about the kid? It's time the kid got free Be a part of the love club\n",
            "Not in the swing of things yet Riding around on the bikes, we're still sane\n",
            "Yo Missy talk big, I'm so grande\n",
            "People you don't know\n",
            "Thirsty, baby bring it over here\n",
            "Let's take it to perfection\n",
            "Put my shit on wax, watch it blaze like May\n",
            "Represent your coast\n",
            "Make me not love you\n",
            "And everybody needs some love When you're feeling bad\n",
            "You would think there's fucking ten of me\n",
            "And I know why'all niggas know\n",
            "And naw I ain't done rappin' so shut the hell up Keep it simple every time I flow\n",
            "People make the world go 'round\n",
            "Born to be wild\n",
            "Master of the rhythm beat ohh\n",
            "\n",
            "Saying That She's Yours Not Mine\n",
            "(Fill you with the sweetest love)\n",
            "You're doin' wrong\n",
            "[Stevie]\n",
            "I Want To Go Too Far\n",
            "(I give you my heart)\n",
            "She's Driving Me Wild\n",
            "And It Doesn't Seem To Matter\n",
            "Throw Away My Time\n",
            "What about Abraham\n",
            "Or see it on the TV screen\n",
            "\n",
            "I don’t know what I’m gonna do I can’t stop lovin’ you\n",
            "He's working day and night, thinks he'll make her happy\n",
            "Wherever you may be\n",
            "...it won't be long 'til we make vows, I bet ya\n",
            "Tschada dada dada daa (Wooh, Wooh, Wooh)\n",
            "Donne-moi ton corps et ton âme\n",
            "It's hard to say it\n",
            "I guess I'd rather be alone\n",
            "Another charlatan to idolize Is this suppression just in my mind? (just in my mind?)\n",
            "And how it's so bad, it's so bad, it's so bad, it's so bad It's too bad it's too bad\n",
            "And now you got to wonder\n",
            "And try and stick me in the ground\n",
            "For all the wrong reasons Well, you know my friends\n",
            "I do\n",
            "On the zip code Love myself\n",
            "I'd rather be deal than cool\n",
            "Nothing really bothers her\n",
            "Let's go get away\n",
            "And you know my style gettin' ripped, bit off!\n",
            "Damn, this one for the books, man!\n",
            "My chick bad\n",
            "Say \"I look so good tonight\"\n",
            "I wanna do it like you like, like\n",
            "Niggas love me so much they be sendin' me gifts\n",
            "She's A Very Freaky Girl Don't Bring Her To Mamma\n",
            "Bom bodi bom bode bode bom bom\n",
            "Of our sex in the lounge\n",
            "And party and bullshit\n",
            "Triple beam lyrical dream I be that\n",
            "All the ladies if you hear me\n",
            "Spark these bitches interest\n",
            "Extra probably fuck a robbery\n",
            "Gimme the loot gimme the loot\n",
            "Mwa may you rest in peace\n",
            "After Big Poppa fuck ALL of Junior MAFIA\n",
            "Im just trying to be all I can be\n",
            "Means to get ya back I aint gon try\n",
            "Where we are not human, we're not human.\n",
            "one long ecstatic pure sensation\n",
            "And I shall dwell in the house of the Lord forever.\n",
            "Where the pure air recognized\n",
            "the ashes rain\n",
            "but when it rains\n",
            "Puff Daddy Biggie Smalls Junior MAFIA represent baby baby Uh Uh uh uh cmon Hah sicka than your average\n",
            "Lick it say its yummy then fuck your man\n",
            "You got ta call me Francis MH White\n",
            "Everything I write better nationalize Im into gettin money twistin hunnies\n",
            "another day another struggle\n",
            "One man but attack like a pack of piranhas like Terracota\n",
            "to pay us a little visit and check us out\n",
            "The gats by your liver your upper lip quiver\n",
            "I wanna see all yall niXgaz DIE On the road to riches and diamond rings\n",
            "Why blow up my spot cause we both got hot\n",
            "Harder harder push harder\n",
            "\n",
            "\n",
            "\n",
            "    Jerry and James and John!\n",
            "\n",
            "\n",
            "    The queen was in the parlour,\n",
            "\n",
            "      With a gay lady.\n",
            "    But killed the mice in his father's barn!\n",
            "But I'll repeat myself at the risk of being crude\n",
            "All come to look for America\n",
            "Now mistress Brown, she lives in the USA\n",
            "What's wrong sweet boy what's wrong?\n",
            "\n",
            "\n",
            "Got to party up\n",
            "That's right (Party)\n",
            "\n",
            "\n",
            "\n",
            "(Bobby on the drum - ah!)\n",
            "(come on)\n",
            "It's gonna be a beautiful night, oh\n",
            "Have U ever wanted 2 play\n",
            "The electric chair\n",
            "Let's do it, BATMAN\n",
            "Shall we give in 2 our biggest fears? (the love machine) (Are u afraid?)\n",
            "Thunder\n",
            "\n",
            "Baby knows what 2 do\n",
            "\n",
            "What makes a man wanna curse and swear? (A double A double arrogance)\n",
            "Slow down (grind)\n",
            "Uh! Don't try it!\n",
            "\n",
            "Huh, can U dig it?\n",
            "Oh baby, how'd U get your legs 2 do that?\n",
            "Rollin rollin rollin rollin rollin how many more shots until you're rollin\n",
            "We found love in a hopeless place We found love in a hopeless place\n",
            "Time to giddy up\n",
            "Your hands around my waist just let the music play\n",
            "Please don't call me on my bluff\n",
            "This time, please someone come and rescue me\n",
            "What were you thinking [Chorus: Rihanna & Chris Brown]\n",
            "I remember when I used to make you laugh\n",
            "Broken hearts make it rain\n",
            "I'm talking to you after it's too late\n",
            "- instrumental --\n",
            "Down is the new up\n",
            "And life was nothing but an awful song\n",
            "I hollered help 'cause I was lost\n",
            "Nothing but happy people (yeah, yeah yeah, yeah)\n",
            "(She's the only woman in the world for me) Never thought that love could be so kind\n",
            "Symphony should be your name\n",
            "And valleys roamed\n",
            "It seems like I done walked for miles\n",
            "We thought that nothing could solve them\n",
            "Wanna hear you echo (echo) oley oley oley oley oley I can see my destination\n"
          ],
          "name": "stdout"
        }
      ]
    },
    {
      "cell_type": "markdown",
      "metadata": {
        "id": "bHEdStEJJV6W"
      },
      "source": [
        "대괄호와 대괄호 안의 내용을 제거하고 싶어서 정규표현식을 `r\"\\[[^\\]]+\\]\"`라고 표현하였다.<br>\n",
        "대괄호 안에 포함되는 내용으로 `[^\\]]`로 오른쪽 대괄호를 제외한 모든 문자를 지정했다.<br>\n",
        "그 이유는 바깥범위 괄호 안에  내부의 괄호들이 포함되면 안되기 때문이다.<br><br>\n",
        "올바른 정규표현식을 사용하였는지 확인하기 위해 findall함수의 결과로 저장된 match리스트의 원소를 출력해보았다."
      ]
    },
    {
      "cell_type": "code",
      "metadata": {
        "colab": {
          "base_uri": "https://localhost:8080/"
        },
        "id": "ZKsaNb3V-UcN",
        "outputId": "d947574e-394d-43c2-c8e8-2bfdcd23696e"
      },
      "source": [
        "import re\n",
        "\n",
        "# 가사가 아닌 텍스트가 얼마나 있는지 확인\n",
        "pattern_list = [\"instrumental\", \"chorus\", \"Chorus\", r\"\\[[^\\]]+\\]\"]\n",
        "count = [0, 0, 0, 0]\n",
        "count2 = 0\n",
        "for idx, pat in enumerate(pattern_list):\n",
        "  for sentence in raw_corpus:\n",
        "    match = re.findall(pat, sentence)\n",
        "    if match:\n",
        "        #print(pat, str(len(match)), 'Found!')\n",
        "        count[idx]+=1\n",
        "    # else:\n",
        "    #     print('Not Found!')\n",
        "    if idx==3 and match!=[]:\n",
        "      count2+=1\n",
        "      print(match, end=' ')\n",
        "\n",
        "print()\n",
        "print(count)    # 각 패턴이 얼마나 발견되었는지 보여준다.\n",
        "print(count2)   # count2는 대괄호안에 내용이 있는 패턴을 잘 찾아내었는지 count1[3]과 비교하기 위해 사용했다."
      ],
      "execution_count": null,
      "outputs": [
        {
          "output_type": "stream",
          "text": [
            "['[Chorus]'] ['[Chorus: x2]'] ['[Chorus]'] ['[Chorus: x2]'] ['[Chorus]'] ['[CHORUS]'] ['[CHORUS]'] ['[Chorus]'] ['[Chorus: x2]'] ['[Chorus]'] ['[Incomprehensible]'] ['[Chorus]'] ['[Chorus: x2]'] ['[Chorus]'] ['[Chorus: x2]'] ['[Chorus]'] ['[Chorus]'] ['[Chorus]'] ['[Chorus]'] ['[Chorus]'] ['[Chorus]'] ['[Chorus]'] ['[Chorus]'] ['[Verse 1]'] ['[Pre-Chorus]'] ['[Chorus]'] ['[Verse 2]'] ['[Pre-Chorus]'] ['[Chorus]'] ['[Verse 3]'] ['[Chorus]'] ['[Chorus]'] ['[Verse 1]'] ['[Chorus]'] ['[Verse 2]'] ['[Chorus]'] ['[Verse 1]'] ['[Chorus]'] ['[Verse 2]'] ['[Bridge]'] ['[Big Sean]'] ['[Chorus]'] ['[Verse 1]'] ['[Pre-Chorus]'] ['[Chorus]'] ['[Verse 2]'] ['[Pre-Chorus]'] ['[Chorus]'] ['[Verse 3]'] ['[Chorus]'] ['[Chorus]'] ['[Verse 1]'] ['[Chorus]'] ['[Verse 2]'] ['[Chorus]'] ['[Justin Bieber]'] ['[Justin Bieber]'] ['[Drake]'] ['[Justin Bieber]'] ['[Drake]'] ['[Justin Bieber]'] ['[both]'] ['[Drake]'] ['[Verse]'] ['[Pre-Chorus]'] ['[Chorus]'] ['[Verse]'] ['[Pre-Chorus]'] ['[Chorus]'] ['[Outro]'] ['[X5]'] ['[X4]'] ['[X4]', '[X5]'] ['[X4]'] ['[Repeat: x3]'] ['[Verse 1: Matt Skiba]'] ['[Chorus: Mark Hoppus (Matt Skiba)]'] ['[Verse 2: Mark Hoppus]'] ['[Chorus: Mark Hoppus (Matt Skiba)]'] ['[Bridge: Mark Hoppus and Matt Skiba]'] ['[Outro: Mark Hoppus (Matt Skiba)]'] ['[Chorus]'] ['[Chorus]'] ['[Chorus x2:]'] ['[Chorus]'] ['[Chorus x2]'] ['[Clean version:]'] ['[Explicit version:]'] ['[Verse 1]'] ['[Pre-Chorus]'] ['[Chorus]'] ['[Verse 2]'] ['[Pre-Chorus]'] ['[Chorus]'] ['[Bridge]'] ['[Chorus]'] ['[Outro]'] ['[x2:]'] ['[Adele]'] ['[Adele]'] ['[Chorus]'] ['[Chorus]'] ['[Chorus]'] ['[Chorus]', '[Chorus]'] ['[Chorus:]'] ['[Incomprehensible]'] ['[Incomprehensible]'] ['[Incomprehensible]'] ['[Incomprehensible]'] ['[Incomprehensible]'] ['[Incomprehensible]'] ['[Chorus]'] ['[Chorus]'] ['[Incomprehensible]'] ['[Repeat: x3]'] ['[Chorus]'] ['[Chorus]'] ['[Chorus]'] ['[Chorus:Repeat x3]'] ['[Fade]'] ['[Chorus]'] ['[Chorus]'] ['[Chorus]'] ['[Chorus:Repeat x2]'] ['[Repeat: x4]'] ['[Repeats]'] ['[Chorus:]'] ['[Chorus:]'] ['[Chorus]'] ['[Chorus]'] ['[Chorus]'] ['[Chorus:Repeat x2]'] ['[Repeat to end]'] ['[Incomprehensible]'] ['[Incomprehensible]'] ['[Incomprehensible]'] ['[Incomprehensible]'] ['[Incomprehensible]'] ['[Incomprehensible]'] ['[Incomprehensible]'] ['[Incomprehensible]'] ['[Chorus]'] ['[Chorus]'] ['[Chorus:Repeat x2]'] ['[Chorus]'] ['[Verse 1]'] ['[Chorus]'] ['[Verse 2]'] ['[Chorus]'] ['[Instrumental]'] ['[Verse 1:]'] ['[Chorus:]'] ['[Verse 2:]'] ['[Chorus:]'] ['[Bridge:]'] ['[Chorus:]'] [\"[Je t'aime Aicha et je meurs pour toi]\"] ['[Toi, tu es mon âme et ma vie]'] [\"[J'èspère de vivre qu'avec toi]\"] ['[Chorus]'] ['[Chorus]'] ['[Chorus]'] ['[Chorus]'] ['[Chorus]'] ['[Chorus]'] ['[Chorus]'] ['[DJ Khaled]'] ['[Trick Daddy]'] ['[DJ Khaled]'] ['[Trick Daddy]'] ['[Chorus]'] ['[Trina]'] ['[Rick Ross]'] ['[DJ Khaled]'] ['[Brisco]'] ['[Flo-Rida]'] ['[Chorus]', '[C-Ride]'] ['[Dre]'] ['[Chorus]'] ['[Repeat: x4]'] ['[Chorus]'] ['[Kanye West]'] ['[Chorus]', '[Kanye West]'] ['[Chorus]', '[Repeat: x4]'] ['[Chorus]'] ['[Fabolous]'] ['[Chorus]'] ['[Rick Ross]'] ['[Chorus]', '[Flo-Rida]'] ['[Fat Joe]'] ['[Chorus]'] ['[Chorus]'] ['[Chorus]'] ['[Chorus]'] ['[Chorus]'] ['[Chorus:]'] ['[Chorus:]'] ['[Chorus:]'] ['[Chorus:]'] ['[Repeat: x4]'] ['[Chorus]'] ['[Kanye West]'] ['[Chorus]', '[Kanye West]'] ['[Chorus]', '[Repeat: x4]'] ['[Chorus]'] ['[Verse 1]'] ['[Chorus]'] ['[Verse 2]'] ['[Chorus]'] ['[Chorus]'] ['[Chorus]'] ['[Chorus]'] ['[Chorus]'] ['[Verse 1]'] ['[Chorus]'] ['[Verse 2]'] ['[Chorus]'] ['[Chorus]'] ['[Gramma Tala:]'] ['[Moana:]'] ['[Chorus]'] ['[Chorus]'] ['[Chorus]'] ['[Chorus:]'] ['[Repeat chorus]'] ['[Repeat chorus]'] ['[Spoken]'] ['[Chorus:]'] ['[Chorus]'] ['[Chorus]'] ['[ guitar ]'] ['[ steel ]'] ['[?]'] ['[Chorus]'] ['[Britney Spears]'] ['[Chorus]'] ['[Verse 1]'] ['[Chorus]'] ['[Verse 2]'] ['[Bridge]'] ['[Chorus]'] ['[Chorus]'] ['[Chorus]'] ['[Chorus:]'] ['[Chorus]', '[Bridge]'] ['[Bridge x2]'] ['[Chorus x2]'] ['[Chorus]'] ['[Chorus: x2]'] ['[Instrumental]'] ['[Repeat: x2]'] ['[Repeat: x2]'] ['[Repeat: x3]'] ['[REPEAT]'] ['[Incomprehensible]'] ['[Bob Marley (MC Lyte)]'] ['[Bob Marley]'] ['[Bob Marley]'] ['[MC Lyte]'] ['[Bob Marley]'] ['[Bob Marley]'] ['[Repeats]'] ['[Repeats]', '[MC Lyte]'] ['[Repeat: x2]'] ['[Bob Marley]'] ['[Repeats]'] ['[Repeats]'] ['[Chorus - Rihanna]'] ['[Eminem - Verse 1]'] ['[Chorus]'] ['[Eminem - Verse 2]'] ['[Chorus]'] ['[Eminem - Verse 3]'] ['[Bridge]'] ['[Chorus - Rihanna]'] ['[Eminem - Verse 1]'] ['[Chorus]'] ['[Eminem - Verse 2]'] ['[Chorus]'] ['[Eminem - Verse 3]'] ['[Bridge]'] ['[Bruno Mars]'] ['[Eminem]'] ['[Bruno Mars]'] ['[Royce Da 5\\'9\"]'] ['[Bruno Mars]'] ['[Rabbit]'] ['[unverified]'] ['[Chorus]'] ['[EMINEM]'] ['[Chorus]'] ['[Intro- talking]'] ['[Bobby Creek]'] ['[Nate Dogg]'] ['[Nate Dogg- Chorus]'] ['[Eminem]'] ['[Obie Trice]'] ['[Nate Dogg- Chorus]'] ['[Chorus]'] ['[Chorus]'] ['[Chorus]'] ['[Chorus]'] ['[Chorus]'] ['[Hook]'] ['[Verse 1]'] ['[Pre-Hook]'] ['[Hook]'] ['[Verse 2]'] ['[Pre-Hook]'] ['[Hook]'] ['[Outro]'] ['[Intro: Moodymann]'] ['[Verse 1]'] ['[Chorus]'] ['[Verse 2]'] ['[Chorus]'] ['[Outro]'] ['[Hook: Jorja Smith]'] ['[Verse: Drake]'] ['[Hook: Jorja Smith]'] ['[Outro: Drake]'] ['[Intro]'] ['[Verse 1]'] ['[Hook]'] ['[Verse 2]'] ['[Hook]'] ['[Verse 1]'] ['[Pre-Hook]'] ['[Hook]'] ['[Verse 2]'] ['[Pre-Hook]'] ['[Hook]'] ['[Outro]'] ['[Intro: Kyla]'] ['[Verse 1: Drake]'] ['[Hook: Drake]'] ['[Bridge: Kyla]'] ['[Verse 2: Drake]'] ['[Hook: Drake]'] ['[Break: Wizkid]'] ['[Bridge: Kyla + Wizkid]'] ['[Hook: Drake]'] ['[Intro: Nai Palm]'] ['[Verse 1]'] ['[Hook]'] ['[Verse 2]'] ['[Hook]'] ['[Verse 3]'] ['[Hook]'] ['[Verse 4]'] ['[Outro]'] ['[Dirty Money]'] ['[Chorus]'] ['[Chorus]'] ['[Chorus]', '[Drake]'] ['[Chorus]'] ['[End]'] ['[Drake - Chorus]'] ['[Hook]'] ['[Drake - Verse 1]'] ['[Hook]'] ['[Drake - Verse 2]'] ['[Hook]'] ['[Woman on phone]'] ['[Drake - Verse 1]'] ['[Drake and Woman on phone]'] ['[Drake]'] ['[Woman]'] ['[Drake on phone]'] ['[Kendrick Lamar]'] ['[Intro]'] ['[Verse 1]'] ['[Verse 2 ]'] ['[Verse 3]'] ['[Guitar Solo/Bridge]'] ['[Verse 4]'] ['[Verse 5]'] ['[Verse 6]'] ['[Outro]'] ['[are]'] ['[Instrumental]'] ['[Intro]'] ['[Verse 1]'] ['[Hook]'] ['[Verse 2]'] ['[Hook]'] ['[Bridge]'] ['[?]'] ['[?]'] ['[?]', '[Outro]'] ['[Intro]'] ['[Verse 1]'] ['[Hook]'] ['[Verse 2]'] ['[Hook]'] ['[Bridge]'] ['[?]'] ['[?]'] ['[?]', '[Outro]'] ['[Kanye]'] ['[Part 2]'] ['[Kanye]'] ['[?]', '[?]'] ['[?]', '[?]'] ['[Kelly Price]'] ['[Chance The Rapper]'] ['[Kanye West]'] ['[Katy Perry]'] ['[Kanye West]'] ['[Katy Perry]'] ['[Kanye]'] ['[Kanye West]'] ['[Chorus: Estelle]'] ['[Chorus:]'] ['[Chorus:]'] ['[Kanye West:]'] ['[Estelle:]'] ['[Chorus:]'] ['[Verse 1: Kanye West]'] ['[Hook: The Weeknd]'] ['[Verse 2: Kanye West]'] ['[Hook: The Weeknd]'] [\"[Intro: Father's Children]\"] ['[Hook]'] ['[Verse 1]'] ['[Kanye]'] ['[Part 2]'] ['[Intro: Johnny \"Guitar\" Watson & Junie Morrison]'] ['[Hook: Kanye West]'] ['[Verse 1: Kendrick Lamar & Kanye West]'] ['[Hook: Kanye West]'] ['[Verse 2: Kanye West]'] ['[Bridge: Larry Graham]'] ['[Hook: Kanye West]'] ['[Outro: Junie Morrison]'] ['[Kanye West]'] ['[Kanye]'] ['[?]'] ['[?]'] ['[?]'] ['[?]'] ['[?]'] ['[Intro]'] ['[Hook: Ty Dolla $ign]'] ['[Bridge: Ty Dolla $ign]'] ['[Verse 1: Kanye West]'] ['[Bridge: Ty Dolla $ign]'] ['[Hook: Ty Dolla $ign]'] ['[Verse 2: Post Malone]'] ['[Bridge]'] ['[Outro]'] ['[Kanye]'] ['[Kanye]'] ['[Verse 1: Kanye West]'] ['[Verse 2: Desiigner]'] ['[Bridge: Kanye West]'] ['[Verse 3: Desiigner]'] ['[Chorus]'] ['[Chorus]'] ['[Chorus]'] ['[Chorus]'] ['[Chorus]'] ['[Chorus]'] ['[Chorus]'] ['[Chorus]'] ['[Chorus: x2]'] ['[Chorus]'] ['[Repeat: x4]'] ['[ guitar ]'] ['[Dedicated to Irving Layton]'] ['[Verse 1]'] ['[Pre-Chorus]'] ['[Chorus]'] ['[Verse 2]'] ['[Pre-Chorus]'] ['[Chorus 2]'] ['[Bridge]'] ['[Speaking]'] ['[Chorus 3]'] ['[iTunes Festival Bridge]'] ['[laughs]'] ['[After-Chorus:]'] ['[Verse 1: Lady Gaga]'] ['[Pre-Chorus: Lady Gaga]'] ['[Chorus: Lady Gaga]'] ['[Verse 2: R. Kelly]'] ['[Pre-Chorus 2: R. Kelly]'] ['[Chorus: Lady Gaga]'] ['[Bridge: Lady Gaga]'] ['[Chorus: Lady Gaga]'] ['[Outro until fade: Lady Gaga]'] ['[Verse 1]'] ['[Chorus]'] ['[Verse 2]'] ['[Chorus]'] ['[Bridge]'] ['[Chorus]'] ['[Outro]'] ['[Chorus]'] ['[Chorus]'] ['[Chorus]'] ['[Chorus]'] ['[Chorus]'] ['[Chorus]'] ['[Chorus]'] ['[Chorus]'] ['[Na-na-na]'] ['[Na-na-na]'] ['[Na-na-na]'] ['[Chorus]'] ['[Chorus]'] ['[Chorus]'] ['[Chorus: x2]'] ['[Chorus: x2]'] ['[Chorus]'] ['[Chorus]'] ['[Verse 1]'] ['[Chorus]'] ['[Verse 2]'] ['[Chorus]', '[Verse 3]'] ['[Chorus]'] ['[Chorus: x2]'] ['[Chorus: x2]'] ['[Chorus: x2]'] ['[Chorus: x2]'] ['[Chorus]'] ['[Chorus]'] ['[Chorus]'] ['[Chorus]'] ['[Chorus]'] ['[Chorus]'] ['[Chorus]'] ['[Chorus]'] ['[fading out]'] ['[Chorus]'] ['[Ludacris]'] ['[Chorus]', '[Ludacris]'] ['[Chorus]', '[Ludacris]'] ['[Chorus]', '[Ludacris]'] ['[$Money Mike$]'] ['[Ludacris (Chris Brown)]'] ['[Chorus]'] ['[Bridge: Sean Garrett]'] ['[Chorus]', '[Bridge]', '[Verse 1: Ludacris]'] ['[Sean Garrett]'] ['[Chorus]', '[Bridge]', '[Chorus]', '[Ludacris]'] ['[Bridge]', '[Verse 2: Ludacris]'] ['[Chorus]', '[Bridge]', '[Ludacris]'] ['[Chorus]', '[Bridge]', '[Ludacris]'] ['[Chorus]', '[Bridge]'] ['[Chorus]', '[Bridge]', '[Ludacris]'] ['[Ludacris]'] ['[Chorus: x2 Ludacris & DMX]'] ['[Ludacris]'] ['[Chorus]', '[Ludacris]'] ['[Chorus]', '[Ludacris]'] ['[Chorus: x2]'] ['[Chorus:]'] ['[Chorus:]'] ['[Chorus:]'] ['[Repeat: x3]'] ['[Luda]', '[Repeat: x3]'] ['[Luda]'] ['[Repeat: x3]'] ['[Luda]'] ['[Repeat: x3]'] ['[Luda]'] ['[Repeat: x3]'] ['[Luda]'] ['[Chorus]'] ['[Chorus]'] ['[Chorus]'] ['[Chorus]', '[Intro: Miguel]'] ['[Hook: Miguel]'] ['[Verse 1: Ludacris]'] ['[Hook: Miguel]'] ['[Verse 2: Ludacris]'] ['[Hook: Miguel]'] ['[Bridge: Miguel]'] ['[Hook: Miguel]'] ['[Young Jeezy:]'] ['[x2]', '[Ludacris:]'] ['[Chorus x 2]'] ['[Chorus: x2]'] ['[Chorus: x4]'] ['[Chorus]'] ['[Chorus]'] ['[Chorus]'] ['[Chorus: x2]'] ['[Gucci mane]'] ['[Ludacris - Verse 1]'] ['[Hook]', '[Gucci Mane]'] ['[Hook]', '[Ludacris]'] ['[Hook]'] ['[Ludacris]'] ['[Repeat x3]', '[Lil Wayne]'] ['[Repeat x3]', '[Ludacris]'] ['[Repeat x3]'] ['[Chorus: x3]'] ['[Chorus: x4]'] ['[Chorus: x4]'] ['[Chorus: x4]'] ['[Chorus:Repeat x4]'] ['[Chorus:Repeat x4]'] ['[Chorus:Repeat x7]'] ['[Chorus]'] ['[Chorus]'] ['[Chorus]'] ['[Verse 1:]'] ['[Chorus 1:]'] ['[Verse 2:]'] ['[Chorus 2:]'] ['[Post-Chorus:]'] ['[Bridge:]'] ['[Chorus 1:]'] ['[Post-Chorus]'] ['[Missy]'] ['[Missy]'] ['[Timbaland]'] ['[Missy]'] ['[Missy]'] ['[Repeat: x5]'] ['[Repeat: x3]'] ['[Repeat: x2]'] [\"[Lil' Kim]\"] ['[Mya]'] ['[Chorus]'] [\"[Lil' Kim]\"] ['[Mya]'] [\"[Lil' Kim]\"] ['[Pink]'] ['[Chorus]'] [\"[Lil' Kim]\"] ['[Christina]'] ['[Pink]'] ['[Mya]'] ['[Christina]'] ['[Chorus]'] ['[Missy]'] ['[Line played backwards]'] ['[Line played backwards]'] ['[Line played backwards]'] ['[Line played backwards]'] ['[Line played backwards]'] ['[Line played backwards]'] ['[Line played backwards]'] ['[Line played backwards]'] ['[Incomprehensible]'] ['[Missy]'] ['[Missy]'] ['[Missy]'] ['[Hook]'] ['[Missy]'] ['[Hook]', '[Missy]'] ['[Eve]'] ['[Hook]'] ['[Timbaland]'] ['[Chorus: Timbaland]'] ['[Missy]'] ['[Chorus]', '[Timbaland]'] ['[Missy]'] ['[Chorus: x 2]', '[Missy]'] ['[Missy]'] ['[Timbaland]'] ['[Missy]'] ['[Missy]'] ['[Repeat: x5]'] ['[Repeat: x3]'] ['[Chorus:]'] ['[Chorus]'] ['[Chorus]'] ['[Chorus:]'] ['[Chorus]'] ['[Chorus]', '[Repeat: x2]'] ['[Missy]'] ['[Missy (Nicole)]'] ['[Missy]'] ['[Missy (Nicole)]'] ['[Missy (Nicole)]'] ['[Missy (Nicole)]'] ['[Missy]'] ['[Big Boi]'] ['[Chorus:]'] ['[Chorus:]'] ['[Chorus:]'] ['[Repeat: x2]'] ['[Timbaland]'] ['[Missy]'] ['[Chorus 1: 702]'] ['[Missy]'] ['[Chorus 1]'] ['[Chorus 1]', '[Timbaland]'] ['[Magoo]'] ['[Timberland]'] ['[Missy]'] ['[Chorus]'] ['[Missy]'] ['[Chorus]'] ['[Verse 3: Da Brat]'] ['[Timbaland]'] ['[Jade]'] ['[Timbaland]'] ['[Missy]'] ['[Missy]'] ['[Missy]'] ['[Hook]'] ['[Missy]'] ['[Hook]', '[Missy]'] ['[Eve]'] ['[Hook]'] [\"[Lil' Kim]\"] ['[Missy]'] ['[Missy]'] ['[Missy]'] ['[Chorus:]'] ['[Chorus:]'] ['[Chorus:]'] ['[Chorus: Repeat 2X]'] ['[Chorus:]'] ['[Missy]'] ['[Timberland]'] ['[Missy]'] ['[Chorus]'] ['[Missy]'] ['[Chorus]'] ['[Chorus]', '[Music plays a little]', '[Chorus]', '[Music fades until end]'] ['[Missy]'] ['[Busta Rhymes]'] ['[Chorus]'] ['[Missy]'] ['[Busta Rhymes]'] ['[Chorus:]'] ['[Chorus: x2]', '[Jay-Z]'] ['[Missy]'] ['[Jay-Z]'] ['[Missy]'] ['[Jay-Z]'] ['[Missy]'] ['[Twista]'] ['[Missy]'] ['[Chorus:]'] ['[Chorus]'] ['[Chorus: x2]', '[Chorus: x2]'] ['[Missy]'] ['[Ginuwine]'] ['[Missy]'] ['[Computer voice]'] ['[Missy]'] ['[Chorus:]'] ['[Chorus]'] ['[Chorus]'] ['[Chorus:]'] ['[Chorus]'] ['[Chorus]'] ['[Chorus]'] ['[Missy]'] ['[Craig Mack]'] ['[Missy]'] ['[Chorus]'] ['[Chorus:]'] ['[Chorus:]'] ['[Repeat: x2]'] ['[Chorus:]'] ['[Missy Elliott]'] ['[Chorus]'] ['[Missy Elliott]'] ['[Bridge:]'] ['[Chorus]'] ['[Bridge]'] ['[Missy]'] ['[Tweet:]'] ['[Missy:]'] ['[Tweet:]'] ['[Missy:]'] ['[Tweet:]'] ['[Missy:]'] ['[Missy]'] ['[Chorus:]'] ['[Missy]'] ['[Chorus]', '[Timbaland]'] ['[Missy]'] ['[Chorus]', '[Missy]'] ['[Timbaland]'] ['[Missy]'] ['[Redman]'] ['[Missy]'] ['[Chorus: x2]'] ['[Missy]'] ['[Chorus]', '[Method Man]'] ['[Chorus]', '[Missy]'] ['[Missy]'] ['[Tweet:]'] ['[Missy:]'] ['[Tweet:]'] ['[Missy:]'] ['[Tweet:]'] ['[Missy:]'] ['[Spoken Intro:]'] ['[Chorus:]'] ['[Bridge:]'] ['[Chorus:]'] ['[Chorus:]'] ['[Chorus:]'] ['[Bridge:]'] ['[Chorus:]'] ['[Refrain]'] ['[Refrain]'] ['[Refrain]'] ['[Refrain]'] ['[Chorus:]'] ['[Chorus]'] ['[Chorus]'] ['[Spoken:]'] ['[Spoken:]'] ['[Spoken:]'] ['[Chorus:]'] ['[Chorus]'] ['[Chorus:]'] ['[Refrain]'] ['[Refrain]'] ['[Instrumental]'] ['[Refrain]'] ['[Refrain]'] ['[Refrain]'] ['[Refrain]'] ['[Refrain]'] ['[Refrain]'] ['[Refrain]'] ['[Refrain]'] ['[Refrain]'] ['[Refrain]'] ['[Refrain]'] ['[Refrain]'] ['[Refrain]'] ['[Refrain]'] ['[Refrain]'] ['[Refrain]'] ['[Refrain]'] ['[Refrain]'] ['[Refrain]'] ['[fade out]'] ['[fade out]'] ['[repeat 7x]'] ['[repeat 3x]'] ['[Refrain]'] ['[Refrain]'] ['[Refrain]'] ['[Instrumental]'] ['[VERSE 1]'] ['[VERSE 2]'] ['[BRIDGE]'] ['[VERSE 3]'] ['[ad lib to fade]'] ['[INTRO]'] ['[VERSE 1]'] ['[CHORUS]'] ['[BRIDGE]'] ['[VERSE 2]'] ['[CHORUS]'] ['[ad lib to fade]'] ['[Refrain]'] ['[Refrain]'] ['[Refrain]'] ['[x2]'] ['[Spoken:]'] ['[1st Verse]'] ['[Chorus]'] ['[2nd Verse]'] ['[Chorus]'] ['[Bridge]'] ['[Refrain]'] ['[Chorus]'] ['[Chorus]'] ['[1st Verse]'] ['[2nd Verse]'] ['[3rd Verse]'] ['[Refrain]'] ['[Chorus]'] ['[4th Verse]'] ['[5th Verse]'] ['[6th Verse]'] ['[Refrain]'] ['[Chorus]'] ['[7th Verse]'] ['[8th Verse]'] ['[Refrain]'] ['[Chorus]'] ['[Ad-Lib To Fade]'] ['[Intro]'] ['[Chorus]'] ['[1st Verse]'] ['[Bridge]'] ['[Chorus]'] ['[2nd Verse]'] ['[Bridge]'] ['[Chorus]'] ['[Chant]'] ['[Chorus]'] ['[Chant]'] ['[Ad-Lib To Fade]'] ['[1st Verse]'] ['[Chorus]'] ['[2nd Verse]'] ['[Chorus]'] ['[Bridge]'] ['[3rd Verse]'] ['[Chorus]'] ['[Chorus]'] ['[1st Verse]'] ['[2nd Verse]'] ['[Chorus]'] ['[Etc.]'] ['[3rd Verse]'] ['[Chorus]'] ['[Etc.]'] ['[Chorus]'] ['[Etc.]'] ['[Ad-Lib To Fade]'] ['[1st Verse]'] ['[2nd Verse]'] ['[Bridge]'] ['[3rd Verse]'] ['[1st Verse]'] ['[2nd Verse]'] ['[Chorus]'] ['[Chorus]'] ['[3rd Verse]'] ['[4th Verse]'] ['[Chorus]'] ['[Chorus]'] ['[Repeat To Fade]'] ['[1st Verse]'] ['[Bridge]'] ['[Chorus]'] ['[2nd Verse (Patti Austin)]'] ['[Bridge (Michael)]'] ['[Chorus]'] ['[Chorus]'] ['[1st Verse]'] ['[Refrain]'] ['[Chorus]'] ['[2nd Verse]'] ['[Refrain]'] ['[Chorus]'] ['[Bridge]'] ['[3rd Verse]'] ['[Refrain]'] ['[Chorus]'] ['[Refrain]'] ['[Chorus]'] ['[Chant:]'] ['[Ad-Lib To Fade]'] ['[Chorus]'] ['[1st Verse]'] ['[Chorus]'] ['[2nd Verse]'] ['[Chorus]'] ['[3rd Verse]'] ['[Chorus]'] ['[Ad-Lib]'] ['[Chorus]'] ['[Ad-Lib]'] ['[Repeat/Fade-Out]'] ['[1st Verse]'] ['[Chorus (1)]'] ['[2nd Verse]'] ['[Chorus (2)]'] ['[Bridge]'] ['[3rd Verse]'] ['[Chorus]'] ['[Chorus]'] ['[Chorus]'] ['[1st Verse (Michael)]'] ['[Chorus]'] ['[2nd Verse (Paul)]'] ['[Chorus]'] ['[Bridge (Paul)]'] ['[Michael]'] ['[Michael & Paul]'] ['[Michael]'] ['[3rd Verse (Paul)]'] ['[Michael]'] ['[Michael & Paul]'] ['[Paul]'] ['[Michael]'] ['[Paul]'] ['[Michael]'] ['[Paul]'] ['[Michael]'] ['[Paul]'] ['[Michael]'] ['[Paul]'] ['[Michael & Paul]'] ['[Fade-Out/Repeat]'] ['[Verse 1:]'] ['[Chorus:]'] ['[Verse 2:]'] ['[Chorus:]'] ['[Bridge:]'] ['[Verse 3:]'] ['[Chorus:]'] ['[Rap - Vincent Price:]'] ['[Into maniacal laugh, in deep echo]'] ['[Chorus]'] ['[4x]'] ['[Chorus 2x]'] ['[Chorus 3x]'] ['[1st verse]'] ['[2nd verse]'] ['[Bridge]'] ['[Chorus]'] ['[3rd verse]'] ['[4th verse]'] ['[Bridge]'] ['[Chorus]'] ['[1st Verse]'] ['[2nd Verse]'] ['[Chorus]'] ['[3rd Verse]'] ['[Chorus]'] ['[4th Verse]'] ['[Chorus]'] ['[Repeat Chorus - Ad-Lib/Fade-Out]'] ['[1st Verse]'] ['[Chorus]'] ['[Background]'] ['[2nd Verse]'] ['[Chorus]'] ['[Michael]'] [\"[P.Y.T.'S]\"] ['[Michael]'] [\"[P.Y.T.'S]\"] ['[Michael]'] [\"[P.Y.T.'S]\"] ['[Michael]'] [\"[P.Y.T.'S]\"] ['[Michael]'] ['[Chorus]'] ['[Repeat Chorus - Ad-Lib/Fade-Out]'] ['[x7]'] ['[Stevie]'] ['[Michael]'] ['[Stevie]'] ['[Michael]'] ['[Stevie]'] ['[Michael]'] ['[Stevie]'] ['[Michael]'] ['[Both]'] ['[Stevie]'] ['[Michael]'] ['[Stevie]'] ['[Michael]'] ['[Stevie]'] ['[Michael]'] ['[Michael]'] ['[Siedah]'] ['[Michael]'] ['[Siedah]'] ['[Michael]'] ['[Both]'] ['[Siedah]'] ['[Michael]'] ['[Siedah]'] ['[Michael]'] ['[Siedah]'] ['[Michael]'] ['[Siedah]'] ['[Both]'] ['[Michael]'] ['[Siedah]'] ['[Michael]'] ['[Siedah]'] ['[Michael]'] ['[Both]'] ['[Siedah]'] ['[Michael]'] ['[Both]'] ['[Siedah]'] ['[Both]'] ['[Siedah]'] ['[Michael]'] ['[Siedah]'] ['[Both]'] ['[Michael]'] ['[Both]'] ['[Michael]'] ['[Both]'] ['[Both]'] ['[Rebbie (spoken)]'] ['[Michael (sample)]'] ['[Rap Performed By Heavy D]'] ['[Michael]'] ['[9x]'] ['[Princess Stephanie of Monaco]'] ['[Michael]'] ['[Princess Stephanie of Monaco]'] ['[Michael]'] ['[Princess Stephanie of Monaco]'] ['[Michael]'] ['[Princess Stephanie of Monaco]'] ['[Michael]'] ['[Rap]'] ['[L. T. B. rap performance]'] ['[Michael]'] ['[2x]'] ['[Spoken]'] ['[Ad Libs Out]'] ['[Michael]'] ['[Janet]'] ['[Michael]'] ['[Both]'] ['[Michael]'] ['[Janet]'] ['[Michael]'] ['[Both]'] ['[Janet]'] ['[Michael]'] ['[News Man]'] ['[Michael]'] ['[Janet]'] ['[Both]'] ['[2x]'] ['[2x]'] ['[KGB interrogator (Russian to English translation):]'] ['[Rap: The Notorious BIG]'] ['[Michael]'] ['[Ad lib fade]'] ['[Verse 1:]'] ['[Chorus:]'] ['[Verse 2:]'] ['[Chorus:]'] ['[Verse 3:]'] ['[Written by John Lennon]'] [\"[Rap: Shaquille O'Neal]\"] ['[Michael]'] ['[CHORUS]'] ['[CHORUS 2x]'] ['[RAP]'] ['[CHORUS 3x]'] ['[CHORUS]'] ['[CHORUS 2x]'] ['[RAP ]'] ['[CHORUS OUT]'] ['[Chorus:]'] ['[Chorus]'] ['[RAP]'] ['[Chorus x3]'] ['[Chorus]'] ['[Chorus x 2]'] ['[Chorus x 3]'] ['[CHORUS]'] ['[CHORUS]'] ['[CHORUS]'] ['[CHORUS]'] ['[Chorus]'] ['[Chorus]'] ['[Chorus]'] ['[CHORUS]'] ['[CHORUS]'] ['[AD LIBS]'] ['[CHORUS OUT]'] ['[Chorus:]'] ['[Chorus]'] ['[CHORUS 1]'] ['[CHORUS 2]'] ['[CHORUS]'] ['[CHORUS]'] ['[CHORUS x 3]'] ['[Verse 1]'] ['[Verse 2]'] ['[Chorus:]'] ['[Verse 3]'] ['[Verse 4]'] ['[Chorus]'] ['[Chorus x3]'] ['[CHORUS 1]'] ['[CHORUS 2]'] ['[CHORUS 3]'] ['[Chorus]'] ['[Chorus]'] ['[Chorus]'] ['[Carlos Santana:]'] ['[Michael Jackson:]'] ['[ROD SERLING INTRO]'] ['[CHORUS]'] ['[CHORUS]'] ['[ROD SERLING VERSE]'] ['[CHORUS x 3]'] ['[ROD SERLING OUTRO]'] ['[Interlude]'] ['[Fade out]'] ['[VERSE 1]'] ['[CHORUS]'] ['[VERSE 2]'] ['[CHORUS]'] ['[BRIDGE]'] ['[VERSE 3]'] ['[CHORUS]'] ['[Chorus:]'] ['[Chorus]'] ['[Chorus 2x]'] ['[CHORUS]'] ['[CHORUS]'] ['[CHORUS]'] ['[x10]'] ['[Akon]'] ['[Michael]'] ['[Both]'] ['[Akon]'] ['[Together]'] ['[Bridge]'] ['[Spoken words:]'] ['[Chorus:]'] ['[Chorus:]'] ['[Chorus:]'] ['[in background:]'] ['[ad-libs]'] ['[Verse 1:]'] ['[Chorus:]'] ['[Verse 2:]'] ['[Chorus 2:]'] ['[Verse 3:]'] ['[Chorus:]'] ['[12x]'] ['[50 Cent]'] ['[Michael Jackson]'] ['[Chorus:]'] ['[Chorus x2:]'] ['[Chorus x2:]'] ['[x2]'] ['[Chorus:]'] ['[Chorus:]'] ['[Chorus:]'] ['[Chorus x2]'] ['[x2]'] ['[x2]'] ['[?]'] ['[Laughing]'] ['[Pitbull:]'] ['[Michael Jackson:]'] ['[Pitbull:]'] ['[Michael Jackson:]'] ['[Pitbull:]'] ['[Michael Jackson:]'] ['[Pitbull:]'] ['[Michael Jackson:]'] ['[Pitbull:]'] ['[Michael Jackson:]'] ['[CHORUS]'] ['[CHORUS]'] ['[CHORUS]'] ['[dig it]'] ['[dig it]'] ['[dig it]'] ['[dig it]'] ['[Chorus:]'] ['[Chorus:Repeat x2]'] ['[Chorus]'] ['[Incomprehensible]'] ['[Repeat x2]'] ['[:Nicki Minaj]'] ['[Verse 1: Jason Derulo]'] ['[Hook :Jason Derulo]'] ['[Verse 2: Jason Derulo]'] ['[Hook: Jason Derulo]'] ['[Verse 3: Nicki Minaj]'] ['[Nicki Minaj]'] ['[:Nicki Minaj]'] ['[Verse 1: Jason Derulo]'] ['[Hook :Jason Derulo]'] ['[Verse 2: Jason Derulo]'] ['[Hook: Jason Derulo]'] ['[Verse 3: Nicki Minaj]'] ['[Speakin:-]'] ['[Speakin:-]'] ['[x4]'] ['[Verse 2 - Nicki Minaj]'] ['[Chorus]'] ['[Chorus: x2]'] ['[Chorus: x2]'] ['[Chorus: x2]'] ['[Chorus]'] ['[Chorus]', '[Nicki Minaj:]'] ['[Chorus:]'] ['[Verse 1: Nicki Minaj]'] ['[Chorus:]'] ['[Verse 2: Lil Kim]'] ['[Chorus:]'] ['[Hook]'] ['[Chorus:]'] ['[x2]'] ['[Chorus:]'] ['[x2]'] ['[Chorus]'] ['[Chorus]'] ['[Chorus]'] ['[NICKI MINAJ]'] ['[X7]'] ['[Everything on the current]'] ['[X3]'] ['[X3]'] ['[?]'] ['[?]'] ['[?]'] ['[?]'] ['[?]'] ['[?]'] ['[?]'] ['[?]'] ['[?]'] ['[?]'] ['[?]'] ['[?]'] ['[repeat]'] ['[Spoken]'] ['[?]'] ['[Repeat]'] ['[in background:]'] ['[?]'] ['[chorus]'] ['[chorus]'] ['[?]'] ['[?]'] ['[?]'] ['[?]'] ['[?]'] ['[Refrain]'] ['[Refrain]'] ['[Refrain]'] ['[X6]'] ['[X3]'] ['[X3]'] ['[X3]'] ['[?]'] ['[X4]'] ['[Girl]'] ['[two times]'] ['[fuck me over]'] ['[backwards at the end...]'] ['[Backwards talking in the background]'] ['[Translation in brackets]'] ['[U were on the other end of the room/hall]'] ['[U were dancing so hard/strong]'] ['[I could smell your perfume]'] ['[Your smile told me we should talk]'] ['[Sex and rest]'] [\"[I know U'll like that]\"] [\"[U won't resist it/to it]\"] [\"[I'll wrap my legs around U]\"] [\"[During hours I'll astound U (?)]\"] ['[Make love make love]'] [\"[We'll meet]\"] ['[starvation]'] [\"[Translated: The children who lie don't go to paradise]\"] ['[Muah muah muah muah muah]'] ['[Muah muah muah muah]'] ['[repeated to fade]'] ['[repeated to fade]'] ['[repeated to fade]'] [\"[Every man I'll injure]\"] ['[repeated in the background]'] ['[repeated in the background]'] ['[Listen, the soul of this song belongs to God]'] ['[song breaks down into a crowd noise...]'] ['[sleep]'] ['[D]'] ['[E]'] ['[innocent]'] ['[repeated over chorus]'] ['[this is sung in a round]'] ['[Chorus:]'] ['[Chorus]'] ['[Chorus 2x]'] [\"['crush' repeated over and over]\"] ['[\"do it\" repeated in the background]'] ['[chorus repeated with this sung over it]'] ['[verse echoed slightly off time]'] ['[crowd noise same as for \"Alphabet Street\"]'] [\"[As u watch the slimmies funkin']\"] [\"[ooh man, let's give 'em some more good shit]\"] ['[(Just how old)]'] ['[la chantez]'] ['[la chantez]'] ['[ French: \"Tonight, sing it\" ]'] ['[crucial wait]'] ['[Gal]'] ['[Note: The high pitched voice]'] ['[that responds to his call, when]'] ['[slowed down to about 2 rpm,says]'] ['[\"Operator, what city please?\"]'] ['[x2]'] ['[Missile..Internal..]'] ['[Missile..]'] ['[x2]'] ['[x3]'] ['[x4]'] ['[One 4 all and all 4 one]'] ['[x6 in BG]'] ['[x2]'] ['[x4 in BG]'] [\"[Feet stompin'!]\"] ['[x3]'] ['[x4]'] ['[x2]'] ['[x2]'] ['[x7]'] ['[x4]'] ['[x3]'] ['[x3]'] ['[repeat in BG]'] ['[Fishbone\\'s \"Lyin\\' Ass Bitch\" sample repeats throughout song]'] ['[x2]'] ['[x2]'] ['[x3]'] ['[Intro: Rihanna]'] ['[Verse 1: Rihanna]'] ['[Chorus: Rihanna & Chris Brown]'] ['[Verse 2: Chris Brown]'] ['[...]'] ['[Chorus: Rihanna & Chris Brown]'] ['[Bridge: Rihanna & Chris Brown]'] ['[Verse 3: Chris Brown]'] ['[Chorus: Rihanna & Chris Brown]'] ['[Narration]'] ['[Rihanna]'] ['[Verse 1: Beyonce]'] ['[Pre-Chorus]'] ['[Chorus]'] ['[Verse 2: Rihanna]'] ['[Pre-Chorus]'] ['[Chorus]'] ['[Bridge/Outro: Rihanna]'] ['[Hook: Future]'] ['[Verse 1: Rihanna]'] ['[Hook: Future]'] ['[Verse 2: Rihanna]'] ['[Hook: Future]'] ['[Verse 3: Future]'] ['[Hook: Rihanna & Future]'] ['[Intro: Rihanna]'] ['[Verse 1: Rihanna]'] ['[Chorus: Rihanna & Chris Brown]'] ['[Verse 2: Chris Brown]'] ['[...]'] ['[Chorus: Rihanna & Chris Brown]'] ['[Bridge: Rihanna & Chris Brown]'] ['[Verse 3: Chris Brown]'] ['[Chorus: Rihanna & Chris Brown]'] ['[Backing vocals]'] ['[Chorus]'] ['[Chorus]'] ['[Chorus]'] ['[Chorus]'] ['[Bridge:]'] ['[Chorus:]'] ['[Bridge]', '[Chorus]'] ['[Chorus x3]'] ['[Celine Dion]'] ['[R Kelly]'] ['[Chorus: Celine Dion & R. Kelly]'] ['[R Kelly]'] ['[Celine Dion]'] ['[Chorus]', '[R Kelly]'] ['[Celine Dion]'] ['[R Kelly]'] ['[Celine Dion]'] ['[Chorus: Repeats]'] ['[Chorus]'] ['[Chorus:Repeat x2]'] ['[R. Kelly]'] ['[Chorus]'] ['[Chorus]'] ['[Chorus]', '[Verse 3]'] ['[Chorus]', '[Big Tigger]'] ['[Chorus: x2]'] ['[Chorus]'] ['[Chorus]'] ['[Chorus]'] ['[Chorus]'] ['[Chorus X2]'] ['[Celine Dion]'] ['[R Kelly]'] ['[Chorus: Celine Dion & R. Kelly]'] ['[R Kelly]'] ['[Celine Dion]'] ['[Chorus]', '[R Kelly]'] ['[Celine Dion]'] ['[R Kelly]'] ['[Celine Dion]'] ['[Chorus: Repeats]', '[Chorus]'] ['[Chorus: x2]'] ['[Chorus: x2]'] ['[Chorus]'] ['[Chorus]'] ['[Chorus]'] ['[Repeat: x4]'] ['[Repeat: x4]'] ['[Repeat: x4]'] ['[Repeat: x4]'] ['[Repeat: x4]'] ['[Repeat: x4]'] ['[4x]'] ['[3x]'] ['[4x]'] ['[4x]'] ['[4x]'] ['[Chorus]'] ['[Chorus]'] ['[Chorus]'] ['[Repeat: x2]'] ['[Repeat: x2]'] ['[Repeat: x2]'] ['[Repeat: x2]'] ['[Repeat: x2]'] ['[Repeat: x2]'] ['[Intro]'] ['[Hook]'] ['[Verse 1]'] ['[Hook]'] ['[Verse 2]'] ['[Hook]'] ['[Verse 3]'] ['[Hook]'] ['[4x]'] ['[3x]'] ['[4x]'] ['[4x]'] ['[4x]'] ['[Chorus]'] ['[Chorus]'] ['[Chorus]'] ['[Chorus]'] ['[Chorus]'] \n",
            "[5, 39, 685, 1534]\n",
            "1534\n"
          ],
          "name": "stdout"
        }
      ]
    },
    {
      "cell_type": "markdown",
      "metadata": {
        "id": "OWwZ-qKS69A9"
      },
      "source": [
        "단어는 **공백**을 기준으로 나눌 것이다.<br>\n",
        "그리고 I'm 또는 It'll, It's, 'Cause, We'll과 같이 '와 붙어있는 텍스트는 한 단어로 취급한다.\n",
        "\n",
        "<br>\n",
        "\n",
        "가사 텍스트 데이터를 훑어보고 처리해야겠다고 생각한 부분은 다음과 같다.\n",
        "\n",
        "1. 양쪽 공백제거 및 모두 소문자로 변환\n",
        "2. 문장부호 , ? . ! ¿가 있는 곳은 양옆에 공백을 추가해서 다른 단어와 분리해준다.\n",
        "3. 대괄호[ ]와 그 안에 있는 내용을 공백으로 치환한다. (가사와 상관없는 텍스트가 들어있다. ex) chorus, 가수명 등)\n",
        "4. 'instrumental'을 공백으로 치환한다. (반주중이라는 의미.)\n",
        "5. 특수문자('포함)를 제거한다.\n",
        "6. 공백이 여러 개 있는 부분은 공백 하나로 대체한다.\n",
        "7. 다시 문장의 양쪽 공백을 제거한다.\n",
        "8. 비어있지 않는 문장 앞에는 <start\\>토큰, 뒤에는 <end\\>토큰을 추가해준다."
      ]
    },
    {
      "cell_type": "code",
      "metadata": {
        "id": "0H5s40lM63V0"
      },
      "source": [
        "import re\n",
        "\n",
        "def preprocess_sentence(sentence):\n",
        "    sentence = sentence.lower().strip()                        # 1\n",
        "    #print(sentence)\n",
        "    sentence = re.sub(r\"([?.!,¿])\", r\" \\1 \", sentence)        # 2\n",
        "    #print(sentence)\n",
        "    sentence = re.sub(r\"\\[[^\\]]+\\]\", \" \", sentence)            # 3\n",
        "    #print(sentence)\n",
        "    sentence = re.sub(r\"instrumental\", \" \", sentence)          # 4\n",
        "    #print(sentence)\n",
        "    sentence = re.sub(r\"[^a-zA-Z0-9?.!,¿']+\", \" \", sentence)  # 5\n",
        "    #print(sentence)\n",
        "    sentence = re.sub(r'[\" \"]+', \" \", sentence)                # 6\n",
        "    #print(sentence)\n",
        "    sentence = sentence.strip()                                # 7\n",
        "    #print(sentence)\n",
        "\n",
        "    if sentence:\n",
        "      sentence = '<start> ' + sentence + ' <end>'              # 8\n",
        "    return sentence"
      ],
      "execution_count": null,
      "outputs": []
    },
    {
      "cell_type": "code",
      "metadata": {
        "colab": {
          "base_uri": "https://localhost:8080/"
        },
        "id": "UOMdUcZGN7Hs",
        "outputId": "d4def425-116d-4939-815d-d1f8433f059a"
      },
      "source": [
        "# 문장이 어떻게 필터링되는지 확인 (print문 주석처리 이전)\n",
        "sent = \"This @_is ;;;sample        sentence. ten-year-old? [chorus] -instrumental-- I'll\"\n",
        "print('입력문장->',sent)\n",
        "print(preprocess_sentence(sent))"
      ],
      "execution_count": null,
      "outputs": [
        {
          "output_type": "stream",
          "text": [
            "입력문장-> This @_is ;;;sample        sentence. ten-year-old? [chorus] -instrumental-- I'll\n",
            "this @_is ;;;sample        sentence. ten-year-old? [chorus] -instrumental-- i'll\n",
            "this @_is ;;;sample        sentence .  ten-year-old ?  [chorus] -instrumental-- i'll\n",
            "this @_is ;;;sample        sentence .  ten-year-old ?    -instrumental-- i'll\n",
            "this @_is ;;;sample        sentence .  ten-year-old ?    - -- i'll\n",
            "this is sample sentence . ten year old ? i'll\n",
            "this is sample sentence . ten year old ? i'll\n",
            "this is sample sentence . ten year old ? i'll\n",
            "<start> this is sample sentence . ten year old ? i'll <end>\n"
          ],
          "name": "stdout"
        }
      ]
    },
    {
      "cell_type": "code",
      "metadata": {
        "colab": {
          "base_uri": "https://localhost:8080/"
        },
        "id": "_wiAe1t4QX0w",
        "outputId": "04959efa-cd4c-4ad2-da4b-416211fad9cd"
      },
      "source": [
        "# 여기에 전처리된 문장을 모은다.\n",
        "corpus = []\n",
        "\n",
        "for sentence in raw_corpus:\n",
        "    # 우리가 원하지 않는 문장은 건너뛴다. (공백)\n",
        "    if len(sentence) == 0: continue\n",
        "    \n",
        "    # 전처리함수에 문장을 입력 후 전처리된 문장을 corpus리스트에 추가.\n",
        "    preprocessed_sentence = preprocess_sentence(sentence)   # (print문 주석처리 이후)\n",
        "    \n",
        "    # 토큰이 15개보다 많은 문장은 건너뛴다.\n",
        "    if len(preprocessed_sentence.split(' '))>15: continue\n",
        "\n",
        "    # 전처리함수의 결과로 None 또는 빈문자열일 수 있다.\n",
        "    if preprocessed_sentence.split(' '):\n",
        "      corpus.append(preprocessed_sentence)\n",
        "\n",
        "# 문장 개수\n",
        "print(len(corpus))\n",
        "\n",
        "# 전처리된 문장 10개 확인\n",
        "corpus[:10]"
      ],
      "execution_count": null,
      "outputs": [
        {
          "output_type": "stream",
          "text": [
            "158821\n"
          ],
          "name": "stdout"
        },
        {
          "output_type": "execute_result",
          "data": {
            "text/plain": [
              "[\"<start> baby , i'm from new york <end>\",\n",
              " '<start> concrete jungle where dreams are made of <end>',\n",
              " \"<start> there's nothing you can't do <end>\",\n",
              " \"<start> now you're in new york <end>\",\n",
              " '<start> these streets will make you feel brand new <end>',\n",
              " '<start> big lights will inspire you <end>',\n",
              " \"<start> baby , i'm from new york <end>\",\n",
              " '<start> concrete jungle where dreams are made of <end>',\n",
              " \"<start> there's nothing you can't do <end>\",\n",
              " \"<start> now you're in new york <end>\"]"
            ]
          },
          "metadata": {
            "tags": []
          },
          "execution_count": 61
        }
      ]
    },
    {
      "cell_type": "markdown",
      "metadata": {
        "id": "JZomqwny_VOP"
      },
      "source": [
        "## 1-3. 토큰화\n",
        "\n",
        "[tf.keras.preprocessing.sequence.pad_sequences함수 설명](https://www.tensorflow.org/api_docs/python/tf/keras/preprocessing/sequence/pad_sequences)"
      ]
    },
    {
      "cell_type": "code",
      "metadata": {
        "colab": {
          "base_uri": "https://localhost:8080/"
        },
        "id": "oQxvb19oQivG",
        "outputId": "5ae7b8b9-4b88-4b80-d89b-e47f4a08503e"
      },
      "source": [
        "# 텐서플로우의 Tokenizer와 pad_sequences를 사용하여 토큰화한다.\n",
        "import tensorflow as tf\n",
        "\n",
        "# 15000단어를 기억할 수 있는 tokenizer\n",
        "# 15000단어가 있는 사전에 포함되지 않는 단어는 '<unk>'로 바꾼다.\n",
        "def tokenize(corpus):\n",
        "    tokenizer = tf.keras.preprocessing.text.Tokenizer(\n",
        "        num_words=15000, \n",
        "        filters=' ',\n",
        "        oov_token=\"<unk>\"\n",
        "    )\n",
        "    # corpus를 이용해 tokenizer 내부의 단어장을 완성합니다\n",
        "    tokenizer.fit_on_texts(corpus)\n",
        "\n",
        "    # 준비한 tokenizer를 이용해 corpus를 Tensor로 변환합니다\n",
        "    tensor = tokenizer.texts_to_sequences(corpus) \n",
        "\n",
        "    # 입력 데이터의 뒷부분을 0으로 패딩해준다.\n",
        "    tensor = tf.keras.preprocessing.sequence.pad_sequences(tensor, padding='post')\n",
        "    print(tensor.shape)\n",
        "    print(tensor,tokenizer)\n",
        "    return tensor, tokenizer\n",
        "\n",
        "tensor, tokenizer = tokenize(corpus)"
      ],
      "execution_count": null,
      "outputs": [
        {
          "output_type": "stream",
          "text": [
            "(158821, 15)\n",
            "[[   2   49    4 ...    0    0    0]\n",
            " [   2 2811 2083 ...    0    0    0]\n",
            " [   2  169  179 ...    0    0    0]\n",
            " ...\n",
            " [   2   28   17 ...    1    3    0]\n",
            " [   2  349   17 ...    3    0    0]\n",
            " [   2   37  130 ...    0    0    0]] <keras_preprocessing.text.Tokenizer object at 0x7f0ad2ad6090>\n"
          ],
          "name": "stdout"
        }
      ]
    },
    {
      "cell_type": "code",
      "metadata": {
        "colab": {
          "base_uri": "https://localhost:8080/"
        },
        "id": "tJGYZv6ORDse",
        "outputId": "51eb124e-b0d6-4614-fb75-9b7c22942ee0"
      },
      "source": [
        "print(tensor[:3, :])"
      ],
      "execution_count": null,
      "outputs": [
        {
          "output_type": "stream",
          "text": [
            "[[   2   49    4   20   67  153  723    3    0    0    0    0    0    0\n",
            "     0]\n",
            " [   2 2811 2083   97  382   71  225   18    3    0    0    0    0    0\n",
            "     0]\n",
            " [   2  169  179    7   86   44    3    0    0    0    0    0    0    0\n",
            "     0]]\n"
          ],
          "name": "stdout"
        }
      ]
    },
    {
      "cell_type": "code",
      "metadata": {
        "colab": {
          "base_uri": "https://localhost:8080/"
        },
        "id": "Ka4zZISORGdw",
        "outputId": "c857cef0-8ad0-4f6d-af91-91d0681d40e0"
      },
      "source": [
        "for idx in tokenizer.index_word:\n",
        "    print(idx, \":\", tokenizer.index_word[idx])\n",
        "\n",
        "    if idx >= 50: break"
      ],
      "execution_count": null,
      "outputs": [
        {
          "output_type": "stream",
          "text": [
            "1 : <unk>\n",
            "2 : <start>\n",
            "3 : <end>\n",
            "4 : ,\n",
            "5 : the\n",
            "6 : i\n",
            "7 : you\n",
            "8 : and\n",
            "9 : a\n",
            "10 : to\n",
            "11 : me\n",
            "12 : my\n",
            "13 : it\n",
            "14 : in\n",
            "15 : that\n",
            "16 : on\n",
            "17 : your\n",
            "18 : of\n",
            "19 : .\n",
            "20 : i'm\n",
            "21 : like\n",
            "22 : is\n",
            "23 : all\n",
            "24 : we\n",
            "25 : be\n",
            "26 : for\n",
            "27 : up\n",
            "28 : with\n",
            "29 : so\n",
            "30 : but\n",
            "31 : just\n",
            "32 : know\n",
            "33 : love\n",
            "34 : don't\n",
            "35 : got\n",
            "36 : no\n",
            "37 : this\n",
            "38 : get\n",
            "39 : what\n",
            "40 : they\n",
            "41 : when\n",
            "42 : ?\n",
            "43 : oh\n",
            "44 : do\n",
            "45 : yeah\n",
            "46 : she\n",
            "47 : now\n",
            "48 : if\n",
            "49 : baby\n",
            "50 : was\n"
          ],
          "name": "stdout"
        }
      ]
    },
    {
      "cell_type": "markdown",
      "metadata": {
        "id": "LQwaa59Fylyy"
      },
      "source": [
        "## 1-4. 훈련 데이터셋과 평가 데이터셋 분리\n",
        "\n",
        "총 데이터의 20% 를 평가 데이터셋으로 사용한다."
      ]
    },
    {
      "cell_type": "code",
      "metadata": {
        "id": "DL7_79ury8Qk"
      },
      "source": [
        "from sklearn.model_selection import train_test_split\n",
        "\n",
        "src_input = tensor[:, :-1]   # 처음~마지막-1\n",
        "tgt_input = tensor[:, 1:]    # 처음+1~마지막\n",
        "\n",
        "enc_train, enc_val, dec_train, dec_val = train_test_split(src_input, tgt_input, test_size=0.2, random_state=55)"
      ],
      "execution_count": null,
      "outputs": []
    },
    {
      "cell_type": "markdown",
      "metadata": {
        "id": "roRw6-PO-39I"
      },
      "source": [
        "데이터셋에서 랜덤으로 선택된 80%만큼의 훈련데이터셋의 크기이다."
      ]
    },
    {
      "cell_type": "code",
      "metadata": {
        "id": "ZI-zkp1Zy_b9",
        "colab": {
          "base_uri": "https://localhost:8080/"
        },
        "outputId": "8449d670-d051-4181-e066-465a4ecf0390"
      },
      "source": [
        "print(\"Source Train:\", enc_train.shape)\n",
        "print(\"Target Train:\", dec_train.shape)"
      ],
      "execution_count": null,
      "outputs": [
        {
          "output_type": "stream",
          "text": [
            "Source Train: (127056, 14)\n",
            "Target Train: (127056, 14)\n"
          ],
          "name": "stdout"
        }
      ]
    },
    {
      "cell_type": "markdown",
      "metadata": {
        "id": "m9bMNJaQ_hA9"
      },
      "source": [
        "데이터셋 객체 생성"
      ]
    },
    {
      "cell_type": "code",
      "metadata": {
        "colab": {
          "base_uri": "https://localhost:8080/"
        },
        "id": "H3NjKwypTEXk",
        "outputId": "7618ee8f-19ca-4add-c068-afe58e27a7ef"
      },
      "source": [
        "BUFFER_SIZE = len(src_input)   # source sentence 수\n",
        "BATCH_SIZE = 256               # 한 번 학습할 데이터 수\n",
        "steps_per_epoch = len(src_input) // BATCH_SIZE\n",
        "\n",
        "# VOCAB_SIZE: 벡터화한 단어 개수\n",
        "# tokenizer가 구축한 단어사전 내 7000개와, 여기 포함되지 않은 0:<pad>를 포함하여 7001개\n",
        "VOCAB_SIZE = tokenizer.num_words + 1   \n",
        "\n",
        "# 준비한 데이터 소스로부터 데이터셋을 만듭니다\n",
        "\n",
        "dataset = tf.data.Dataset.from_tensor_slices((src_input, tgt_input))\n",
        "dataset = dataset.shuffle(BUFFER_SIZE)\n",
        "dataset = dataset.batch(BATCH_SIZE, drop_remainder=True)   # 데이터셋을 배치크기씩 나눈다.\n",
        "                                                           # drop_remainder=True는 배치크기보다 작은 그룹을 버린다.\n",
        "dataset"
      ],
      "execution_count": null,
      "outputs": [
        {
          "output_type": "execute_result",
          "data": {
            "text/plain": [
              "<BatchDataset shapes: ((256, 14), (256, 14)), types: (tf.int32, tf.int32)>"
            ]
          },
          "metadata": {
            "tags": []
          },
          "execution_count": 68
        }
      ]
    },
    {
      "cell_type": "markdown",
      "metadata": {
        "id": "meZpPAwAzB6u"
      },
      "source": [
        "# 2) 모델 구성"
      ]
    },
    {
      "cell_type": "code",
      "metadata": {
        "id": "znhQPbq1S0VY"
      },
      "source": [
        "class TextGenerator(tf.keras.Model):\n",
        "  # embedding_size는 word vector의 차원수이다.\n",
        "  # hidden_size는 LSTM레이어의 hidden state의 차원수이다.\n",
        "    def __init__(self, vocab_size, embedding_size, hidden_size):\n",
        "        super().__init__()\n",
        "        \n",
        "        self.embedding = tf.keras.layers.Embedding(vocab_size, embedding_size)\n",
        "        self.rnn_1 = tf.keras.layers.LSTM(hidden_size, return_sequences=True)\n",
        "        self.rnn_2 = tf.keras.layers.LSTM(hidden_size, return_sequences=True)\n",
        "        self.linear = tf.keras.layers.Dense(vocab_size)\n",
        "        \n",
        "    def call(self, x):\n",
        "        out = self.embedding(x)\n",
        "        out = self.rnn_1(out)\n",
        "        out = self.rnn_2(out)\n",
        "        out = self.linear(out)\n",
        "        \n",
        "        return out\n",
        "    \n",
        "embedding_size = 256\n",
        "hidden_size = 1024\n",
        "model = TextGenerator(tokenizer.num_words + 1, embedding_size , hidden_size)"
      ],
      "execution_count": null,
      "outputs": []
    },
    {
      "cell_type": "code",
      "metadata": {
        "colab": {
          "base_uri": "https://localhost:8080/"
        },
        "id": "uWSktWZvS582",
        "outputId": "4584db22-f015-42b9-ef70-118cc1f35b08"
      },
      "source": [
        "# 데이터셋에서 데이터 한 배치만 불러온다.\n",
        "for src_sample, tgt_sample in dataset.take(1): break\n",
        "\n",
        "# 한 배치만 불러온 데이터를 모델에 넣어보자.\n",
        "model(src_sample)"
      ],
      "execution_count": null,
      "outputs": [
        {
          "output_type": "execute_result",
          "data": {
            "text/plain": [
              "<tf.Tensor: shape=(256, 14, 15001), dtype=float32, numpy=\n",
              "array([[[-6.42370578e-05, -1.07015854e-04, -1.02676262e-04, ...,\n",
              "          4.13059242e-05,  7.91815619e-05,  1.91425934e-05],\n",
              "        [-1.22327721e-04, -3.48854112e-04, -1.16599804e-04, ...,\n",
              "          2.28152610e-04,  9.19055019e-05,  2.68659351e-04],\n",
              "        [-3.91875888e-04, -7.53951259e-04, -3.39158250e-05, ...,\n",
              "          3.74744122e-04,  4.09074331e-04,  2.37443950e-04],\n",
              "        ...,\n",
              "        [ 1.23066886e-03,  2.74594495e-04, -6.68036751e-04, ...,\n",
              "          4.13758942e-04, -2.88598298e-04,  6.43533422e-04],\n",
              "        [ 1.45023246e-03,  3.42591055e-04, -7.21704739e-04, ...,\n",
              "          5.29327022e-04, -4.84824472e-04,  6.97431562e-04],\n",
              "        [ 1.64344627e-03,  3.79976380e-04, -7.79801980e-04, ...,\n",
              "          6.50570262e-04, -6.61915401e-04,  7.21280347e-04]],\n",
              "\n",
              "       [[-6.42370578e-05, -1.07015854e-04, -1.02676262e-04, ...,\n",
              "          4.13059242e-05,  7.91815619e-05,  1.91425934e-05],\n",
              "        [-3.05340596e-04, -4.96728171e-04, -7.20138487e-05, ...,\n",
              "         -2.47255230e-04,  3.23174114e-04,  6.52946183e-05],\n",
              "        [-4.95312328e-04, -3.94361065e-04, -1.60130498e-04, ...,\n",
              "         -5.61525994e-05,  2.84416485e-04, -1.46494153e-06],\n",
              "        ...,\n",
              "        [-3.37336533e-04,  2.75274244e-04, -5.20470901e-04, ...,\n",
              "         -9.01234453e-04, -6.78045966e-04,  7.64938231e-05],\n",
              "        [ 1.47792583e-04,  4.03218699e-04, -2.96905579e-04, ...,\n",
              "         -7.53684959e-04, -8.27348791e-04,  8.57355772e-05],\n",
              "        [ 6.47156616e-04,  5.27205470e-04, -1.44042526e-04, ...,\n",
              "         -6.51387963e-04, -9.70949768e-04,  1.29086256e-04]],\n",
              "\n",
              "       [[-6.42370578e-05, -1.07015854e-04, -1.02676262e-04, ...,\n",
              "          4.13059242e-05,  7.91815619e-05,  1.91425934e-05],\n",
              "        [-1.63145742e-04, -6.53888128e-05, -1.42831632e-04, ...,\n",
              "         -6.28348280e-05,  4.70533923e-05,  2.07348683e-04],\n",
              "        [-2.32836028e-04, -4.83057238e-06, -2.08059297e-04, ...,\n",
              "         -2.65120005e-04,  1.54036665e-04,  2.73682963e-04],\n",
              "        ...,\n",
              "        [-7.75967899e-04,  4.15205315e-04,  8.02677732e-06, ...,\n",
              "          8.70105112e-04, -3.60443461e-04,  2.11721519e-04],\n",
              "        [-3.68614012e-04,  4.58017370e-04,  3.91978319e-05, ...,\n",
              "          8.41625268e-04, -4.94372041e-04,  2.86357739e-04],\n",
              "        [ 5.31578444e-05,  4.94007661e-04,  2.54606293e-05, ...,\n",
              "          8.08661047e-04, -6.10329327e-04,  3.55825439e-04]],\n",
              "\n",
              "       ...,\n",
              "\n",
              "       [[-6.42370578e-05, -1.07015854e-04, -1.02676262e-04, ...,\n",
              "          4.13059242e-05,  7.91815619e-05,  1.91425934e-05],\n",
              "        [ 1.35105191e-04, -3.22948967e-04, -1.58583076e-04, ...,\n",
              "          4.47862985e-05,  8.30908612e-05,  1.81398752e-06],\n",
              "        [ 2.65582348e-04, -2.62485351e-04, -3.62984865e-05, ...,\n",
              "          7.97654720e-05,  1.57830757e-04, -6.38588608e-05],\n",
              "        ...,\n",
              "        [ 6.85108011e-04,  7.00726814e-04, -1.42574427e-04, ...,\n",
              "          4.90362116e-04, -4.79294773e-04,  5.00285299e-04],\n",
              "        [ 9.28929832e-04,  6.94800110e-04, -1.63915218e-04, ...,\n",
              "          5.60027140e-04, -6.55740150e-04,  5.46415686e-04],\n",
              "        [ 1.16460188e-03,  6.74514100e-04, -2.08960919e-04, ...,\n",
              "          6.43959618e-04, -8.13649560e-04,  5.65764320e-04]],\n",
              "\n",
              "       [[-6.42370578e-05, -1.07015854e-04, -1.02676262e-04, ...,\n",
              "          4.13059242e-05,  7.91815619e-05,  1.91425934e-05],\n",
              "        [-2.38270397e-04, -3.26031295e-04,  6.50719667e-05, ...,\n",
              "         -3.11361873e-05,  9.46210566e-05,  1.21421348e-04],\n",
              "        [-9.72487469e-05, -4.75371984e-04,  3.16707854e-04, ...,\n",
              "         -1.96237394e-04,  1.77164140e-04,  2.34096238e-04],\n",
              "        ...,\n",
              "        [ 1.62276009e-03, -2.33494298e-04,  5.65456830e-05, ...,\n",
              "          5.65961993e-04, -4.91499144e-04,  4.71798296e-04],\n",
              "        [ 1.83036667e-03, -7.33158085e-05, -6.89886583e-05, ...,\n",
              "          6.56719203e-04, -6.22878491e-04,  4.37442242e-04],\n",
              "        [ 1.99262984e-03,  5.33082639e-05, -2.02196155e-04, ...,\n",
              "          7.55589514e-04, -7.44844845e-04,  4.03296872e-04]],\n",
              "\n",
              "       [[-6.42370578e-05, -1.07015854e-04, -1.02676262e-04, ...,\n",
              "          4.13059242e-05,  7.91815619e-05,  1.91425934e-05],\n",
              "        [-2.90663680e-04, -2.18727699e-04,  1.00373632e-06, ...,\n",
              "          9.76026786e-05,  1.09798166e-04, -1.01723912e-04],\n",
              "        [-4.01586061e-04, -1.73805005e-04, -6.94425762e-05, ...,\n",
              "          5.86512897e-07,  1.73811743e-04, -1.95452012e-04],\n",
              "        ...,\n",
              "        [-7.02513789e-05, -8.67724884e-04,  1.89018174e-04, ...,\n",
              "          2.97830320e-05, -7.58840819e-04, -9.51475158e-06],\n",
              "        [ 3.80246813e-04, -7.68514990e-04,  1.42672856e-04, ...,\n",
              "          1.37869458e-04, -9.76255687e-04,  1.21898229e-04],\n",
              "        [ 7.88074511e-04, -6.44153391e-04,  5.61213128e-05, ...,\n",
              "          2.32748105e-04, -1.15565083e-03,  2.31779821e-04]]],\n",
              "      dtype=float32)>"
            ]
          },
          "metadata": {
            "tags": []
          },
          "execution_count": 70
        }
      ]
    },
    {
      "cell_type": "code",
      "metadata": {
        "colab": {
          "base_uri": "https://localhost:8080/"
        },
        "id": "84VCDYe3TR89",
        "outputId": "6947c346-6f9c-45f6-f48f-6690fb7600e5"
      },
      "source": [
        "model.summary()"
      ],
      "execution_count": null,
      "outputs": [
        {
          "output_type": "stream",
          "text": [
            "Model: \"text_generator_3\"\n",
            "_________________________________________________________________\n",
            "Layer (type)                 Output Shape              Param #   \n",
            "=================================================================\n",
            "embedding_3 (Embedding)      multiple                  3840256   \n",
            "_________________________________________________________________\n",
            "lstm_6 (LSTM)                multiple                  5246976   \n",
            "_________________________________________________________________\n",
            "lstm_7 (LSTM)                multiple                  8392704   \n",
            "_________________________________________________________________\n",
            "dense_3 (Dense)              multiple                  15376025  \n",
            "=================================================================\n",
            "Total params: 32,855,961\n",
            "Trainable params: 32,855,961\n",
            "Non-trainable params: 0\n",
            "_________________________________________________________________\n"
          ],
          "name": "stdout"
        }
      ]
    },
    {
      "cell_type": "code",
      "metadata": {
        "colab": {
          "base_uri": "https://localhost:8080/"
        },
        "id": "wjgmTQhzVNBV",
        "outputId": "af28ab3a-4d9b-4777-da52-452805278871"
      },
      "source": [
        "tf.test.is_gpu_available()"
      ],
      "execution_count": null,
      "outputs": [
        {
          "output_type": "execute_result",
          "data": {
            "text/plain": [
              "True"
            ]
          },
          "metadata": {
            "tags": []
          },
          "execution_count": 72
        }
      ]
    },
    {
      "cell_type": "code",
      "metadata": {
        "colab": {
          "base_uri": "https://localhost:8080/"
        },
        "id": "U4BKT8ZcTVK2",
        "outputId": "076e1d89-2c95-4808-bde4-f8faa0c2215d"
      },
      "source": [
        "optimizer = tf.keras.optimizers.Adam()\n",
        "#Loss\n",
        "loss = tf.keras.losses.SparseCategoricalCrossentropy(\n",
        "    from_logits=True, reduction='none')\n",
        "\n",
        "model.compile(loss=loss, optimizer=optimizer)\n",
        "model.fit(dataset, epochs=30)"
      ],
      "execution_count": null,
      "outputs": [
        {
          "output_type": "stream",
          "text": [
            "Epoch 1/30\n",
            "620/620 [==============================] - 229s 365ms/step - loss: 3.4573\n",
            "Epoch 2/30\n",
            "620/620 [==============================] - 225s 363ms/step - loss: 3.0306\n",
            "Epoch 3/30\n",
            "620/620 [==============================] - 225s 363ms/step - loss: 2.8689\n",
            "Epoch 4/30\n",
            "620/620 [==============================] - 226s 363ms/step - loss: 2.7410\n",
            "Epoch 5/30\n",
            "620/620 [==============================] - 225s 363ms/step - loss: 2.6322\n",
            "Epoch 6/30\n",
            "620/620 [==============================] - 225s 363ms/step - loss: 2.5352\n",
            "Epoch 7/30\n",
            "620/620 [==============================] - 225s 363ms/step - loss: 2.4472\n",
            "Epoch 8/30\n",
            "620/620 [==============================] - 224s 362ms/step - loss: 2.3644\n",
            "Epoch 9/30\n",
            "620/620 [==============================] - 224s 361ms/step - loss: 2.2859\n",
            "Epoch 10/30\n",
            "620/620 [==============================] - 225s 362ms/step - loss: 2.2125\n",
            "Epoch 11/30\n",
            "620/620 [==============================] - 227s 366ms/step - loss: 2.1426\n",
            "Epoch 12/30\n",
            "620/620 [==============================] - 227s 365ms/step - loss: 2.0766\n",
            "Epoch 13/30\n",
            "620/620 [==============================] - 226s 365ms/step - loss: 2.0142\n",
            "Epoch 14/30\n",
            "620/620 [==============================] - 227s 365ms/step - loss: 1.9549\n",
            "Epoch 15/30\n",
            "620/620 [==============================] - 226s 364ms/step - loss: 1.8987\n",
            "Epoch 16/30\n",
            "620/620 [==============================] - 226s 364ms/step - loss: 1.8450\n",
            "Epoch 17/30\n",
            "620/620 [==============================] - 226s 365ms/step - loss: 1.7935\n",
            "Epoch 18/30\n",
            "620/620 [==============================] - 226s 364ms/step - loss: 1.7440\n",
            "Epoch 19/30\n",
            "620/620 [==============================] - 226s 365ms/step - loss: 1.6966\n",
            "Epoch 20/30\n",
            "620/620 [==============================] - 226s 364ms/step - loss: 1.6513\n",
            "Epoch 21/30\n",
            "620/620 [==============================] - 226s 364ms/step - loss: 1.6080\n",
            "Epoch 22/30\n",
            "620/620 [==============================] - 226s 365ms/step - loss: 1.5663\n",
            "Epoch 23/30\n",
            "620/620 [==============================] - 225s 363ms/step - loss: 1.5262\n",
            "Epoch 24/30\n",
            "620/620 [==============================] - 225s 363ms/step - loss: 1.4878\n",
            "Epoch 25/30\n",
            "620/620 [==============================] - 226s 364ms/step - loss: 1.4510\n",
            "Epoch 26/30\n",
            "620/620 [==============================] - 225s 362ms/step - loss: 1.4162\n",
            "Epoch 27/30\n",
            "620/620 [==============================] - 225s 363ms/step - loss: 1.3824\n",
            "Epoch 28/30\n",
            "620/620 [==============================] - 226s 365ms/step - loss: 1.3506\n",
            "Epoch 29/30\n",
            "620/620 [==============================] - 226s 364ms/step - loss: 1.3199\n",
            "Epoch 30/30\n",
            "620/620 [==============================] - 225s 363ms/step - loss: 1.2905\n"
          ],
          "name": "stdout"
        },
        {
          "output_type": "execute_result",
          "data": {
            "text/plain": [
              "<tensorflow.python.keras.callbacks.History at 0x7f0ad175d910>"
            ]
          },
          "metadata": {
            "tags": []
          },
          "execution_count": 73
        }
      ]
    },
    {
      "cell_type": "code",
      "metadata": {
        "colab": {
          "base_uri": "https://localhost:8080/"
        },
        "id": "ynSUH6katGWl",
        "outputId": "7c0219d6-def7-4903-b2df-515c57de0ff7"
      },
      "source": [
        "model.save('lyrics_model2')"
      ],
      "execution_count": null,
      "outputs": [
        {
          "output_type": "stream",
          "text": [
            "WARNING:absl:Found untraced functions such as lstm_cell_6_layer_call_and_return_conditional_losses, lstm_cell_6_layer_call_fn, lstm_cell_7_layer_call_and_return_conditional_losses, lstm_cell_7_layer_call_fn, lstm_cell_6_layer_call_fn while saving (showing 5 of 10). These functions will not be directly callable after loading.\n"
          ],
          "name": "stderr"
        },
        {
          "output_type": "stream",
          "text": [
            "INFO:tensorflow:Assets written to: lyrics_model2/assets\n"
          ],
          "name": "stdout"
        },
        {
          "output_type": "stream",
          "text": [
            "INFO:tensorflow:Assets written to: lyrics_model2/assets\n"
          ],
          "name": "stderr"
        }
      ]
    },
    {
      "cell_type": "code",
      "metadata": {
        "id": "quCIhe4WyQLM"
      },
      "source": [
        "def generate_text(model, tokenizer, init_sentence=\"<start>\", max_len=20):\n",
        "    # 테스트를 위해서 입력받은 init_sentence도 텐서로 변환합니다\n",
        "    test_input = tokenizer.texts_to_sequences([init_sentence])\n",
        "    test_tensor = tf.convert_to_tensor(test_input, dtype=tf.int64)\n",
        "    end_token = tokenizer.word_index[\"<end>\"]\n",
        "\n",
        "    # 단어 하나씩 예측해 문장을 만듭니다\n",
        "    #    1. 입력받은 문장의 텐서를 입력합니다\n",
        "    #    2. 예측된 값 중 가장 높은 확률인 word index를 뽑아냅니다\n",
        "    #    3. 2에서 예측된 word index를 문장 뒤에 붙입니다\n",
        "    #    4. 모델이 <end>를 예측했거나, max_len에 도달했다면 문장 생성을 마칩니다\n",
        "    while True:\n",
        "        # 1\n",
        "        predict = model(test_tensor) \n",
        "        # 2\n",
        "        predict_word = tf.argmax(tf.nn.softmax(predict, axis=-1), axis=-1)[:, -1] \n",
        "        # 3 \n",
        "        test_tensor = tf.concat([test_tensor, tf.expand_dims(predict_word, axis=0)], axis=-1)\n",
        "        # 4\n",
        "        if predict_word.numpy()[0] == end_token: break\n",
        "        if test_tensor.shape[1] >= max_len: break\n",
        "\n",
        "    generated = \"\"\n",
        "    # tokenizer를 이용해 word index를 단어로 하나씩 변환합니다 \n",
        "    for word_index in test_tensor[0].numpy():\n",
        "        generated += tokenizer.index_word[word_index] + \" \"\n",
        "\n",
        "    return generated"
      ],
      "execution_count": null,
      "outputs": []
    },
    {
      "cell_type": "code",
      "metadata": {
        "colab": {
          "base_uri": "https://localhost:8080/",
          "height": 35
        },
        "id": "Gbi2ZqOJtcSx",
        "outputId": "496bdcd4-e60b-4e2f-dff1-4d2e7df0db24"
      },
      "source": [
        "generate_text(model, tokenizer, init_sentence=\"<start> i love\", max_len=20)"
      ],
      "execution_count": null,
      "outputs": [
        {
          "output_type": "execute_result",
          "data": {
            "application/vnd.google.colaboratory.intrinsic+json": {
              "type": "string"
            },
            "text/plain": [
              "'<start> i love you , i love you , <end> '"
            ]
          },
          "metadata": {
            "tags": []
          },
          "execution_count": 75
        }
      ]
    },
    {
      "cell_type": "code",
      "metadata": {
        "colab": {
          "base_uri": "https://localhost:8080/",
          "height": 35
        },
        "id": "qY7xnPTAtgzE",
        "outputId": "60e581db-f838-49dc-8d43-1027ab0f0e7b"
      },
      "source": [
        "generate_text(model, tokenizer, init_sentence=\"<start> kiss you\", max_len=100)"
      ],
      "execution_count": null,
      "outputs": [
        {
          "output_type": "execute_result",
          "data": {
            "application/vnd.google.colaboratory.intrinsic+json": {
              "type": "string"
            },
            "text/plain": [
              "'<start> kiss you taste you all night <end> '"
            ]
          },
          "metadata": {
            "tags": []
          },
          "execution_count": 76
        }
      ]
    },
    {
      "cell_type": "code",
      "metadata": {
        "colab": {
          "base_uri": "https://localhost:8080/",
          "height": 35
        },
        "id": "7NPDhj5Vtp-9",
        "outputId": "e29c305e-d0e8-4757-f6fb-e0e0f596637c"
      },
      "source": [
        "generate_text(model, tokenizer, init_sentence=\"<start> love\", max_len=100)"
      ],
      "execution_count": null,
      "outputs": [
        {
          "output_type": "execute_result",
          "data": {
            "application/vnd.google.colaboratory.intrinsic+json": {
              "type": "string"
            },
            "text/plain": [
              "'<start> love is a beautiful thing <end> '"
            ]
          },
          "metadata": {
            "tags": []
          },
          "execution_count": 77
        }
      ]
    },
    {
      "cell_type": "code",
      "metadata": {
        "colab": {
          "base_uri": "https://localhost:8080/",
          "height": 35
        },
        "id": "G0EWfAmEuFs8",
        "outputId": "486cff00-a592-4d13-993d-7185257f930e"
      },
      "source": [
        "generate_text(model, tokenizer, init_sentence=\"<start> I\", max_len=100)"
      ],
      "execution_count": null,
      "outputs": [
        {
          "output_type": "execute_result",
          "data": {
            "application/vnd.google.colaboratory.intrinsic+json": {
              "type": "string"
            },
            "text/plain": [
              "\"<start> i know that we gon' be alright <end> \""
            ]
          },
          "metadata": {
            "tags": []
          },
          "execution_count": 78
        }
      ]
    },
    {
      "cell_type": "code",
      "metadata": {
        "colab": {
          "base_uri": "https://localhost:8080/",
          "height": 35
        },
        "id": "rmjoREsyupDS",
        "outputId": "43ee741d-e61a-4617-a7c3-58a69e7c672a"
      },
      "source": [
        "generate_text(model, tokenizer, init_sentence=\"<start> American\", max_len=100)"
      ],
      "execution_count": null,
      "outputs": [
        {
          "output_type": "execute_result",
          "data": {
            "application/vnd.google.colaboratory.intrinsic+json": {
              "type": "string"
            },
            "text/plain": [
              "'<start> american idol never seen these dreams <end> '"
            ]
          },
          "metadata": {
            "tags": []
          },
          "execution_count": 80
        }
      ]
    },
    {
      "cell_type": "code",
      "metadata": {
        "colab": {
          "base_uri": "https://localhost:8080/",
          "height": 35
        },
        "id": "pfWlaNEBu1cf",
        "outputId": "925c23d4-21c0-40b4-dee7-03ace6b39139"
      },
      "source": [
        "generate_text(model, tokenizer, init_sentence=\"<start> my\", max_len=100)"
      ],
      "execution_count": null,
      "outputs": [
        {
          "output_type": "execute_result",
          "data": {
            "application/vnd.google.colaboratory.intrinsic+json": {
              "type": "string"
            },
            "text/plain": [
              "\"<start> my name is prince and i am funky you can't stop prince <end> \""
            ]
          },
          "metadata": {
            "tags": []
          },
          "execution_count": 82
        }
      ]
    },
    {
      "cell_type": "code",
      "metadata": {
        "colab": {
          "base_uri": "https://localhost:8080/",
          "height": 35
        },
        "id": "cnH7k4CfvAZl",
        "outputId": "9ef31a77-d1cb-44cb-fffa-8eaa3e401120"
      },
      "source": [
        "generate_text(model, tokenizer, init_sentence=\"<start> babe\", max_len=100)"
      ],
      "execution_count": null,
      "outputs": [
        {
          "output_type": "execute_result",
          "data": {
            "application/vnd.google.colaboratory.intrinsic+json": {
              "type": "string"
            },
            "text/plain": [
              "'<start> babe , i know that you are free <end> '"
            ]
          },
          "metadata": {
            "tags": []
          },
          "execution_count": 84
        }
      ]
    },
    {
      "cell_type": "code",
      "metadata": {
        "colab": {
          "base_uri": "https://localhost:8080/",
          "height": 35
        },
        "id": "aHnZOFb7vgbW",
        "outputId": "f5d72d18-6435-449e-ef68-529ac2df694d"
      },
      "source": [
        "generate_text(model, tokenizer, init_sentence=\"<start> why\", max_len=100)"
      ],
      "execution_count": null,
      "outputs": [
        {
          "output_type": "execute_result",
          "data": {
            "application/vnd.google.colaboratory.intrinsic+json": {
              "type": "string"
            },
            "text/plain": [
              "'<start> why do you love me <end> '"
            ]
          },
          "metadata": {
            "tags": []
          },
          "execution_count": 86
        }
      ]
    },
    {
      "cell_type": "code",
      "metadata": {
        "colab": {
          "base_uri": "https://localhost:8080/",
          "height": 35
        },
        "id": "03dWRJLHwStB",
        "outputId": "fdc12a21-b2db-464e-ed58-11b3b4961061"
      },
      "source": [
        "generate_text(model, tokenizer, init_sentence=\"<start> what are you\", max_len=100)"
      ],
      "execution_count": null,
      "outputs": [
        {
          "output_type": "execute_result",
          "data": {
            "application/vnd.google.colaboratory.intrinsic+json": {
              "type": "string"
            },
            "text/plain": [
              "'<start> what are you , what are you waiting for ? <end> '"
            ]
          },
          "metadata": {
            "tags": []
          },
          "execution_count": 89
        }
      ]
    },
    {
      "cell_type": "markdown",
      "metadata": {
        "id": "MtMHmgqitcfs"
      },
      "source": [
        ""
      ]
    },
    {
      "cell_type": "markdown",
      "metadata": {
        "id": "hJ7o9WPYuK_i"
      },
      "source": [
        ""
      ]
    },
    {
      "cell_type": "code",
      "metadata": {
        "colab": {
          "base_uri": "https://localhost:8080/",
          "height": 35
        },
        "id": "kv2YrcofSrTP",
        "outputId": "4e6ed276-9f19-4ed7-800b-eee6782ff704"
      },
      "source": [
        "generate_text(model, tokenizer, init_sentence=\"<start> i love\", max_len=20)"
      ],
      "execution_count": null,
      "outputs": [
        {
          "output_type": "execute_result",
          "data": {
            "application/vnd.google.colaboratory.intrinsic+json": {
              "type": "string"
            },
            "text/plain": [
              "'<start> i love you <end> '"
            ]
          },
          "metadata": {
            "tags": []
          },
          "execution_count": 25
        }
      ]
    },
    {
      "cell_type": "code",
      "metadata": {
        "colab": {
          "base_uri": "https://localhost:8080/",
          "height": 35
        },
        "id": "gNYSv8Ozyb_7",
        "outputId": "1410a47a-3514-483f-f750-64deebf43fe2"
      },
      "source": [
        "generate_text(model, tokenizer, init_sentence=\"<start> kiss you\", max_len=100)"
      ],
      "execution_count": null,
      "outputs": [
        {
          "output_type": "execute_result",
          "data": {
            "application/vnd.google.colaboratory.intrinsic+json": {
              "type": "string"
            },
            "text/plain": [
              "'<start> kiss you on ya neck and tell ya everything is great <end> '"
            ]
          },
          "metadata": {
            "tags": []
          },
          "execution_count": 26
        }
      ]
    },
    {
      "cell_type": "code",
      "metadata": {
        "colab": {
          "base_uri": "https://localhost:8080/",
          "height": 35
        },
        "id": "IKSQ14NjyhaV",
        "outputId": "a5660857-f270-45ed-a364-33d42e64cc73"
      },
      "source": [
        "generate_text(model, tokenizer, init_sentence=\"<start> kiss you\", max_len=100)"
      ],
      "execution_count": null,
      "outputs": [
        {
          "output_type": "execute_result",
          "data": {
            "application/vnd.google.colaboratory.intrinsic+json": {
              "type": "string"
            },
            "text/plain": [
              "'<start> kiss you on ya neck and tell ya everything is great <end> '"
            ]
          },
          "metadata": {
            "tags": []
          },
          "execution_count": 27
        }
      ]
    },
    {
      "cell_type": "code",
      "metadata": {
        "colab": {
          "base_uri": "https://localhost:8080/",
          "height": 35
        },
        "id": "fGBP3KoRyuZ-",
        "outputId": "fe0ed34a-8ee3-4a9d-f84b-58894e52d06f"
      },
      "source": [
        "generate_text(model, tokenizer, init_sentence=\"<start> are you\", max_len=100)"
      ],
      "execution_count": null,
      "outputs": [
        {
          "output_type": "execute_result",
          "data": {
            "application/vnd.google.colaboratory.intrinsic+json": {
              "type": "string"
            },
            "text/plain": [
              "'<start> are you ready <end> '"
            ]
          },
          "metadata": {
            "tags": []
          },
          "execution_count": 28
        }
      ]
    },
    {
      "cell_type": "code",
      "metadata": {
        "colab": {
          "base_uri": "https://localhost:8080/",
          "height": 35
        },
        "id": "DTHL3VMWy7ts",
        "outputId": "7851d5cb-9448-4a07-e530-2cf5c6ca9731"
      },
      "source": [
        "generate_text(model, tokenizer, init_sentence=\"<start> summer night\", max_len=100)"
      ],
      "execution_count": null,
      "outputs": [
        {
          "output_type": "execute_result",
          "data": {
            "application/vnd.google.colaboratory.intrinsic+json": {
              "type": "string"
            },
            "text/plain": [
              "'<start> summer night , my body s callin for you <end> '"
            ]
          },
          "metadata": {
            "tags": []
          },
          "execution_count": 31
        }
      ]
    },
    {
      "cell_type": "code",
      "metadata": {
        "colab": {
          "base_uri": "https://localhost:8080/",
          "height": 35
        },
        "id": "MqhlFl95zYdq",
        "outputId": "846dca76-ec20-48c9-bc16-a445fecf39e0"
      },
      "source": [
        "generate_text(model, tokenizer, init_sentence=\"<start> over the\", max_len=100)"
      ],
      "execution_count": null,
      "outputs": [
        {
          "output_type": "execute_result",
          "data": {
            "application/vnd.google.colaboratory.intrinsic+json": {
              "type": "string"
            },
            "text/plain": [
              "'<start> over the water to charley <end> '"
            ]
          },
          "metadata": {
            "tags": []
          },
          "execution_count": 32
        }
      ]
    },
    {
      "cell_type": "code",
      "metadata": {
        "colab": {
          "base_uri": "https://localhost:8080/",
          "height": 35
        },
        "id": "aausYXSvzdTN",
        "outputId": "dc8821df-8349-4650-a9eb-62890eb77ad4"
      },
      "source": [
        "generate_text(model, tokenizer, init_sentence=\"<start> cat\", max_len=100)"
      ],
      "execution_count": null,
      "outputs": [
        {
          "output_type": "execute_result",
          "data": {
            "application/vnd.google.colaboratory.intrinsic+json": {
              "type": "string"
            },
            "text/plain": [
              "'<start> cat , we need u 2 rap <end> '"
            ]
          },
          "metadata": {
            "tags": []
          },
          "execution_count": 33
        }
      ]
    },
    {
      "cell_type": "code",
      "metadata": {
        "colab": {
          "base_uri": "https://localhost:8080/",
          "height": 35
        },
        "id": "vbqKuET2ziCv",
        "outputId": "380a0577-2b8c-4119-aa5d-5f1debe7e552"
      },
      "source": [
        "generate_text(model, tokenizer, init_sentence=\"<start> will you\", max_len=100)"
      ],
      "execution_count": null,
      "outputs": [
        {
          "output_type": "execute_result",
          "data": {
            "application/vnd.google.colaboratory.intrinsic+json": {
              "type": "string"
            },
            "text/plain": [
              "'<start> will you still love me tomorrow <end> '"
            ]
          },
          "metadata": {
            "tags": []
          },
          "execution_count": 36
        }
      ]
    },
    {
      "cell_type": "code",
      "metadata": {
        "colab": {
          "base_uri": "https://localhost:8080/",
          "height": 35
        },
        "id": "XAv1lzLVzqtJ",
        "outputId": "ad4fb70f-82cb-4557-e96f-cb0872bacbc3"
      },
      "source": [
        "generate_text(model, tokenizer, init_sentence=\"<start> taxi\", max_len=100)"
      ],
      "execution_count": null,
      "outputs": [
        {
          "output_type": "execute_result",
          "data": {
            "application/vnd.google.colaboratory.intrinsic+json": {
              "type": "string"
            },
            "text/plain": [
              "'<start> taxi ! taxi ! <end> '"
            ]
          },
          "metadata": {
            "tags": []
          },
          "execution_count": 40
        }
      ]
    },
    {
      "cell_type": "code",
      "metadata": {
        "colab": {
          "base_uri": "https://localhost:8080/",
          "height": 35
        },
        "id": "t27UTMtlz0a8",
        "outputId": "dbad58d2-b349-4195-ef1c-27c58a3f03c5"
      },
      "source": [
        "generate_text(model, tokenizer, init_sentence=\"<start> during the\", max_len=100)"
      ],
      "execution_count": null,
      "outputs": [
        {
          "output_type": "execute_result",
          "data": {
            "application/vnd.google.colaboratory.intrinsic+json": {
              "type": "string"
            },
            "text/plain": [
              "'<start> during the days you helped me bag up my nickels <end> '"
            ]
          },
          "metadata": {
            "tags": []
          },
          "execution_count": 41
        }
      ]
    },
    {
      "cell_type": "code",
      "metadata": {
        "colab": {
          "base_uri": "https://localhost:8080/",
          "height": 35
        },
        "id": "6azZCupD0NnW",
        "outputId": "f9c4d9f7-6550-4db3-eb32-8d03ca0636d1"
      },
      "source": [
        "generate_text(model, tokenizer, init_sentence=\"<start> love\", max_len=100)"
      ],
      "execution_count": null,
      "outputs": [
        {
          "output_type": "execute_result",
          "data": {
            "application/vnd.google.colaboratory.intrinsic+json": {
              "type": "string"
            },
            "text/plain": [
              "'<start> love is a feeling <end> '"
            ]
          },
          "metadata": {
            "tags": []
          },
          "execution_count": 42
        }
      ]
    },
    {
      "cell_type": "code",
      "metadata": {
        "colab": {
          "base_uri": "https://localhost:8080/",
          "height": 35
        },
        "id": "CnxdBRRO0S8K",
        "outputId": "58b59a62-d635-4d5a-8b68-26c16838d1e8"
      },
      "source": [
        "generate_text(model, tokenizer, init_sentence=\"<start> feeling\", max_len=100)"
      ],
      "execution_count": null,
      "outputs": [
        {
          "output_type": "execute_result",
          "data": {
            "application/vnd.google.colaboratory.intrinsic+json": {
              "type": "string"
            },
            "text/plain": [
              "'<start> feeling the catastrophe , but she knows she can fly away <end> '"
            ]
          },
          "metadata": {
            "tags": []
          },
          "execution_count": 43
        }
      ]
    },
    {
      "cell_type": "code",
      "metadata": {
        "colab": {
          "base_uri": "https://localhost:8080/",
          "height": 35
        },
        "id": "-_1zyW_b0XWS",
        "outputId": "9425aefd-cad8-4796-b26d-c2a930924706"
      },
      "source": [
        "generate_text(model, tokenizer, init_sentence=\"<start> why\", max_len=100)"
      ],
      "execution_count": null,
      "outputs": [
        {
          "output_type": "execute_result",
          "data": {
            "application/vnd.google.colaboratory.intrinsic+json": {
              "type": "string"
            },
            "text/plain": [
              "'<start> why you wanna get with me <end> '"
            ]
          },
          "metadata": {
            "tags": []
          },
          "execution_count": 45
        }
      ]
    },
    {
      "cell_type": "code",
      "metadata": {
        "colab": {
          "base_uri": "https://localhost:8080/",
          "height": 35
        },
        "id": "SunZ0pQ20jm9",
        "outputId": "8581452a-2931-453b-a991-dbd01aafc33c"
      },
      "source": [
        "generate_text(model, tokenizer, init_sentence=\"<start> I\", max_len=100)"
      ],
      "execution_count": null,
      "outputs": [
        {
          "output_type": "execute_result",
          "data": {
            "application/vnd.google.colaboratory.intrinsic+json": {
              "type": "string"
            },
            "text/plain": [
              "'<start> i m a bad man <end> '"
            ]
          },
          "metadata": {
            "tags": []
          },
          "execution_count": 49
        }
      ]
    },
    {
      "cell_type": "code",
      "metadata": {
        "colab": {
          "base_uri": "https://localhost:8080/",
          "height": 35
        },
        "id": "UZihIAMq2MtU",
        "outputId": "e2398196-1af9-4b98-a9ba-8e307bd2fc65"
      },
      "source": [
        "generate_text(model, tokenizer, init_sentence=\"<start> loving\", max_len=100)"
      ],
      "execution_count": null,
      "outputs": [
        {
          "output_type": "execute_result",
          "data": {
            "application/vnd.google.colaboratory.intrinsic+json": {
              "type": "string"
            },
            "text/plain": [
              "'<start> loving you is more important <end> '"
            ]
          },
          "metadata": {
            "tags": []
          },
          "execution_count": 59
        }
      ]
    },
    {
      "cell_type": "code",
      "metadata": {
        "colab": {
          "base_uri": "https://localhost:8080/",
          "height": 35
        },
        "id": "8VntV7eN2RyN",
        "outputId": "a5506854-9d57-40ff-a80b-75347755aa8c"
      },
      "source": [
        "generate_text(model, tokenizer, init_sentence=\"<start> American\", max_len=100)"
      ],
      "execution_count": null,
      "outputs": [
        {
          "output_type": "execute_result",
          "data": {
            "application/vnd.google.colaboratory.intrinsic+json": {
              "type": "string"
            },
            "text/plain": [
              "'<start> american , american oxygen american oxygen <end> '"
            ]
          },
          "metadata": {
            "tags": []
          },
          "execution_count": 63
        }
      ]
    },
    {
      "cell_type": "code",
      "metadata": {
        "id": "ySKK8hzfuKb6"
      },
      "source": [
        "# from google.colab import files\n",
        "# files.download('lyrics_model1')  # from colab to browser download\n",
        "\n",
        "# from keras.models import load_model\n",
        "# model2 = load_model('lyrics_model1')"
      ],
      "execution_count": null,
      "outputs": []
    },
    {
      "cell_type": "code",
      "metadata": {
        "colab": {
          "base_uri": "https://localhost:8080/",
          "height": 844
        },
        "id": "w_j4tGri071y",
        "outputId": "23b65486-e285-4489-f128-66600f86dcda"
      },
      "source": [
        "generate_text(model2, tokenizer, init_sentence=\"<start> I\", max_len=100)"
      ],
      "execution_count": null,
      "outputs": [
        {
          "output_type": "error",
          "ename": "ValueError",
          "evalue": "ignored",
          "traceback": [
            "\u001b[0;31m---------------------------------------------------------------------------\u001b[0m",
            "\u001b[0;31mValueError\u001b[0m                                Traceback (most recent call last)",
            "\u001b[0;32m<ipython-input-50-54ff86ebdb8d>\u001b[0m in \u001b[0;36m<module>\u001b[0;34m()\u001b[0m\n\u001b[0;32m----> 1\u001b[0;31m \u001b[0mgenerate_text\u001b[0m\u001b[0;34m(\u001b[0m\u001b[0mmodel2\u001b[0m\u001b[0;34m,\u001b[0m \u001b[0mtokenizer\u001b[0m\u001b[0;34m,\u001b[0m \u001b[0minit_sentence\u001b[0m\u001b[0;34m=\u001b[0m\u001b[0;34m\"<start> I\"\u001b[0m\u001b[0;34m,\u001b[0m \u001b[0mmax_len\u001b[0m\u001b[0;34m=\u001b[0m\u001b[0;36m100\u001b[0m\u001b[0;34m)\u001b[0m\u001b[0;34m\u001b[0m\u001b[0;34m\u001b[0m\u001b[0m\n\u001b[0m",
            "\u001b[0;32m<ipython-input-24-417ccd0379ee>\u001b[0m in \u001b[0;36mgenerate_text\u001b[0;34m(model, tokenizer, init_sentence, max_len)\u001b[0m\n\u001b[1;32m     12\u001b[0m     \u001b[0;32mwhile\u001b[0m \u001b[0;32mTrue\u001b[0m\u001b[0;34m:\u001b[0m\u001b[0;34m\u001b[0m\u001b[0;34m\u001b[0m\u001b[0m\n\u001b[1;32m     13\u001b[0m         \u001b[0;31m# 1\u001b[0m\u001b[0;34m\u001b[0m\u001b[0;34m\u001b[0m\u001b[0;34m\u001b[0m\u001b[0m\n\u001b[0;32m---> 14\u001b[0;31m         \u001b[0mpredict\u001b[0m \u001b[0;34m=\u001b[0m \u001b[0mmodel\u001b[0m\u001b[0;34m(\u001b[0m\u001b[0mtest_tensor\u001b[0m\u001b[0;34m)\u001b[0m\u001b[0;34m\u001b[0m\u001b[0;34m\u001b[0m\u001b[0m\n\u001b[0m\u001b[1;32m     15\u001b[0m         \u001b[0;31m# 2\u001b[0m\u001b[0;34m\u001b[0m\u001b[0;34m\u001b[0m\u001b[0;34m\u001b[0m\u001b[0m\n\u001b[1;32m     16\u001b[0m         \u001b[0mpredict_word\u001b[0m \u001b[0;34m=\u001b[0m \u001b[0mtf\u001b[0m\u001b[0;34m.\u001b[0m\u001b[0margmax\u001b[0m\u001b[0;34m(\u001b[0m\u001b[0mtf\u001b[0m\u001b[0;34m.\u001b[0m\u001b[0mnn\u001b[0m\u001b[0;34m.\u001b[0m\u001b[0msoftmax\u001b[0m\u001b[0;34m(\u001b[0m\u001b[0mpredict\u001b[0m\u001b[0;34m,\u001b[0m \u001b[0maxis\u001b[0m\u001b[0;34m=\u001b[0m\u001b[0;34m-\u001b[0m\u001b[0;36m1\u001b[0m\u001b[0;34m)\u001b[0m\u001b[0;34m,\u001b[0m \u001b[0maxis\u001b[0m\u001b[0;34m=\u001b[0m\u001b[0;34m-\u001b[0m\u001b[0;36m1\u001b[0m\u001b[0;34m)\u001b[0m\u001b[0;34m[\u001b[0m\u001b[0;34m:\u001b[0m\u001b[0;34m,\u001b[0m \u001b[0;34m-\u001b[0m\u001b[0;36m1\u001b[0m\u001b[0;34m]\u001b[0m\u001b[0;34m\u001b[0m\u001b[0;34m\u001b[0m\u001b[0m\n",
            "\u001b[0;32m/usr/local/lib/python3.7/dist-packages/keras/engine/base_layer.py\u001b[0m in \u001b[0;36m__call__\u001b[0;34m(self, *args, **kwargs)\u001b[0m\n\u001b[1;32m   1004\u001b[0m         with autocast_variable.enable_auto_cast_variables(\n\u001b[1;32m   1005\u001b[0m             self._compute_dtype_object):\n\u001b[0;32m-> 1006\u001b[0;31m           \u001b[0moutputs\u001b[0m \u001b[0;34m=\u001b[0m \u001b[0mcall_fn\u001b[0m\u001b[0;34m(\u001b[0m\u001b[0minputs\u001b[0m\u001b[0;34m,\u001b[0m \u001b[0;34m*\u001b[0m\u001b[0margs\u001b[0m\u001b[0;34m,\u001b[0m \u001b[0;34m**\u001b[0m\u001b[0mkwargs\u001b[0m\u001b[0;34m)\u001b[0m\u001b[0;34m\u001b[0m\u001b[0;34m\u001b[0m\u001b[0m\n\u001b[0m\u001b[1;32m   1007\u001b[0m \u001b[0;34m\u001b[0m\u001b[0m\n\u001b[1;32m   1008\u001b[0m         \u001b[0;32mif\u001b[0m \u001b[0mself\u001b[0m\u001b[0;34m.\u001b[0m\u001b[0m_activity_regularizer\u001b[0m\u001b[0;34m:\u001b[0m\u001b[0;34m\u001b[0m\u001b[0;34m\u001b[0m\u001b[0m\n",
            "\u001b[0;32m/usr/local/lib/python3.7/dist-packages/keras/saving/saved_model/utils.py\u001b[0m in \u001b[0;36mreturn_outputs_and_add_losses\u001b[0;34m(*args, **kwargs)\u001b[0m\n\u001b[1;32m     66\u001b[0m       \u001b[0margs\u001b[0m \u001b[0;34m=\u001b[0m \u001b[0margs\u001b[0m\u001b[0;34m[\u001b[0m\u001b[0;36m1\u001b[0m\u001b[0;34m:\u001b[0m\u001b[0;34m]\u001b[0m\u001b[0;34m\u001b[0m\u001b[0;34m\u001b[0m\u001b[0m\n\u001b[1;32m     67\u001b[0m \u001b[0;34m\u001b[0m\u001b[0m\n\u001b[0;32m---> 68\u001b[0;31m     \u001b[0moutputs\u001b[0m\u001b[0;34m,\u001b[0m \u001b[0mlosses\u001b[0m \u001b[0;34m=\u001b[0m \u001b[0mfn\u001b[0m\u001b[0;34m(\u001b[0m\u001b[0;34m*\u001b[0m\u001b[0margs\u001b[0m\u001b[0;34m,\u001b[0m \u001b[0;34m**\u001b[0m\u001b[0mkwargs\u001b[0m\u001b[0;34m)\u001b[0m\u001b[0;34m\u001b[0m\u001b[0;34m\u001b[0m\u001b[0m\n\u001b[0m\u001b[1;32m     69\u001b[0m     \u001b[0mlayer\u001b[0m\u001b[0;34m.\u001b[0m\u001b[0madd_loss\u001b[0m\u001b[0;34m(\u001b[0m\u001b[0mlosses\u001b[0m\u001b[0;34m,\u001b[0m \u001b[0minputs\u001b[0m\u001b[0;34m=\u001b[0m\u001b[0;32mTrue\u001b[0m\u001b[0;34m)\u001b[0m\u001b[0;34m\u001b[0m\u001b[0;34m\u001b[0m\u001b[0m\n\u001b[1;32m     70\u001b[0m \u001b[0;34m\u001b[0m\u001b[0m\n",
            "\u001b[0;32m/usr/local/lib/python3.7/dist-packages/keras/saving/saved_model/utils.py\u001b[0m in \u001b[0;36mwrap_with_training_arg\u001b[0;34m(*args, **kwargs)\u001b[0m\n\u001b[1;32m    164\u001b[0m     return control_flow_util.smart_cond(\n\u001b[1;32m    165\u001b[0m         \u001b[0mtraining\u001b[0m\u001b[0;34m,\u001b[0m \u001b[0;32mlambda\u001b[0m\u001b[0;34m:\u001b[0m \u001b[0mreplace_training_and_call\u001b[0m\u001b[0;34m(\u001b[0m\u001b[0;32mTrue\u001b[0m\u001b[0;34m)\u001b[0m\u001b[0;34m,\u001b[0m\u001b[0;34m\u001b[0m\u001b[0;34m\u001b[0m\u001b[0m\n\u001b[0;32m--> 166\u001b[0;31m         lambda: replace_training_and_call(False))\n\u001b[0m\u001b[1;32m    167\u001b[0m \u001b[0;34m\u001b[0m\u001b[0m\n\u001b[1;32m    168\u001b[0m   \u001b[0;31m# Create arg spec for decorated function. If 'training' is not defined in the\u001b[0m\u001b[0;34m\u001b[0m\u001b[0;34m\u001b[0m\u001b[0;34m\u001b[0m\u001b[0m\n",
            "\u001b[0;32m/usr/local/lib/python3.7/dist-packages/keras/utils/control_flow_util.py\u001b[0m in \u001b[0;36msmart_cond\u001b[0;34m(pred, true_fn, false_fn, name)\u001b[0m\n\u001b[1;32m    105\u001b[0m         pred, true_fn=true_fn, false_fn=false_fn, name=name)\n\u001b[1;32m    106\u001b[0m   return smart_module.smart_cond(\n\u001b[0;32m--> 107\u001b[0;31m       pred, true_fn=true_fn, false_fn=false_fn, name=name)\n\u001b[0m\u001b[1;32m    108\u001b[0m \u001b[0;34m\u001b[0m\u001b[0m\n\u001b[1;32m    109\u001b[0m \u001b[0;34m\u001b[0m\u001b[0m\n",
            "\u001b[0;32m/usr/local/lib/python3.7/dist-packages/tensorflow/python/framework/smart_cond.py\u001b[0m in \u001b[0;36msmart_cond\u001b[0;34m(pred, true_fn, false_fn, name)\u001b[0m\n\u001b[1;32m     54\u001b[0m       \u001b[0;32mreturn\u001b[0m \u001b[0mtrue_fn\u001b[0m\u001b[0;34m(\u001b[0m\u001b[0;34m)\u001b[0m\u001b[0;34m\u001b[0m\u001b[0;34m\u001b[0m\u001b[0m\n\u001b[1;32m     55\u001b[0m     \u001b[0;32melse\u001b[0m\u001b[0;34m:\u001b[0m\u001b[0;34m\u001b[0m\u001b[0;34m\u001b[0m\u001b[0m\n\u001b[0;32m---> 56\u001b[0;31m       \u001b[0;32mreturn\u001b[0m \u001b[0mfalse_fn\u001b[0m\u001b[0;34m(\u001b[0m\u001b[0;34m)\u001b[0m\u001b[0;34m\u001b[0m\u001b[0;34m\u001b[0m\u001b[0m\n\u001b[0m\u001b[1;32m     57\u001b[0m   \u001b[0;32melse\u001b[0m\u001b[0;34m:\u001b[0m\u001b[0;34m\u001b[0m\u001b[0;34m\u001b[0m\u001b[0m\n\u001b[1;32m     58\u001b[0m     return control_flow_ops.cond(pred, true_fn=true_fn, false_fn=false_fn,\n",
            "\u001b[0;32m/usr/local/lib/python3.7/dist-packages/keras/saving/saved_model/utils.py\u001b[0m in \u001b[0;36m<lambda>\u001b[0;34m()\u001b[0m\n\u001b[1;32m    164\u001b[0m     return control_flow_util.smart_cond(\n\u001b[1;32m    165\u001b[0m         \u001b[0mtraining\u001b[0m\u001b[0;34m,\u001b[0m \u001b[0;32mlambda\u001b[0m\u001b[0;34m:\u001b[0m \u001b[0mreplace_training_and_call\u001b[0m\u001b[0;34m(\u001b[0m\u001b[0;32mTrue\u001b[0m\u001b[0;34m)\u001b[0m\u001b[0;34m,\u001b[0m\u001b[0;34m\u001b[0m\u001b[0;34m\u001b[0m\u001b[0m\n\u001b[0;32m--> 166\u001b[0;31m         lambda: replace_training_and_call(False))\n\u001b[0m\u001b[1;32m    167\u001b[0m \u001b[0;34m\u001b[0m\u001b[0m\n\u001b[1;32m    168\u001b[0m   \u001b[0;31m# Create arg spec for decorated function. If 'training' is not defined in the\u001b[0m\u001b[0;34m\u001b[0m\u001b[0;34m\u001b[0m\u001b[0;34m\u001b[0m\u001b[0m\n",
            "\u001b[0;32m/usr/local/lib/python3.7/dist-packages/keras/saving/saved_model/utils.py\u001b[0m in \u001b[0;36mreplace_training_and_call\u001b[0;34m(training)\u001b[0m\n\u001b[1;32m    160\u001b[0m     \u001b[0;32mdef\u001b[0m \u001b[0mreplace_training_and_call\u001b[0m\u001b[0;34m(\u001b[0m\u001b[0mtraining\u001b[0m\u001b[0;34m)\u001b[0m\u001b[0;34m:\u001b[0m\u001b[0;34m\u001b[0m\u001b[0;34m\u001b[0m\u001b[0m\n\u001b[1;32m    161\u001b[0m       \u001b[0mset_training_arg\u001b[0m\u001b[0;34m(\u001b[0m\u001b[0mtraining\u001b[0m\u001b[0;34m,\u001b[0m \u001b[0mtraining_arg_index\u001b[0m\u001b[0;34m,\u001b[0m \u001b[0margs\u001b[0m\u001b[0;34m,\u001b[0m \u001b[0mkwargs\u001b[0m\u001b[0;34m)\u001b[0m\u001b[0;34m\u001b[0m\u001b[0;34m\u001b[0m\u001b[0m\n\u001b[0;32m--> 162\u001b[0;31m       \u001b[0;32mreturn\u001b[0m \u001b[0mwrapped_call\u001b[0m\u001b[0;34m(\u001b[0m\u001b[0;34m*\u001b[0m\u001b[0margs\u001b[0m\u001b[0;34m,\u001b[0m \u001b[0;34m**\u001b[0m\u001b[0mkwargs\u001b[0m\u001b[0;34m)\u001b[0m\u001b[0;34m\u001b[0m\u001b[0;34m\u001b[0m\u001b[0m\n\u001b[0m\u001b[1;32m    163\u001b[0m \u001b[0;34m\u001b[0m\u001b[0m\n\u001b[1;32m    164\u001b[0m     return control_flow_util.smart_cond(\n",
            "\u001b[0;32m/usr/local/lib/python3.7/dist-packages/tensorflow/python/eager/def_function.py\u001b[0m in \u001b[0;36m__call__\u001b[0;34m(self, *args, **kwds)\u001b[0m\n\u001b[1;32m    887\u001b[0m \u001b[0;34m\u001b[0m\u001b[0m\n\u001b[1;32m    888\u001b[0m       \u001b[0;32mwith\u001b[0m \u001b[0mOptionalXlaContext\u001b[0m\u001b[0;34m(\u001b[0m\u001b[0mself\u001b[0m\u001b[0;34m.\u001b[0m\u001b[0m_jit_compile\u001b[0m\u001b[0;34m)\u001b[0m\u001b[0;34m:\u001b[0m\u001b[0;34m\u001b[0m\u001b[0;34m\u001b[0m\u001b[0m\n\u001b[0;32m--> 889\u001b[0;31m         \u001b[0mresult\u001b[0m \u001b[0;34m=\u001b[0m \u001b[0mself\u001b[0m\u001b[0;34m.\u001b[0m\u001b[0m_call\u001b[0m\u001b[0;34m(\u001b[0m\u001b[0;34m*\u001b[0m\u001b[0margs\u001b[0m\u001b[0;34m,\u001b[0m \u001b[0;34m**\u001b[0m\u001b[0mkwds\u001b[0m\u001b[0;34m)\u001b[0m\u001b[0;34m\u001b[0m\u001b[0;34m\u001b[0m\u001b[0m\n\u001b[0m\u001b[1;32m    890\u001b[0m \u001b[0;34m\u001b[0m\u001b[0m\n\u001b[1;32m    891\u001b[0m       \u001b[0mnew_tracing_count\u001b[0m \u001b[0;34m=\u001b[0m \u001b[0mself\u001b[0m\u001b[0;34m.\u001b[0m\u001b[0mexperimental_get_tracing_count\u001b[0m\u001b[0;34m(\u001b[0m\u001b[0;34m)\u001b[0m\u001b[0;34m\u001b[0m\u001b[0;34m\u001b[0m\u001b[0m\n",
            "\u001b[0;32m/usr/local/lib/python3.7/dist-packages/tensorflow/python/eager/def_function.py\u001b[0m in \u001b[0;36m_call\u001b[0;34m(self, *args, **kwds)\u001b[0m\n\u001b[1;32m    931\u001b[0m       \u001b[0;31m# This is the first call of __call__, so we have to initialize.\u001b[0m\u001b[0;34m\u001b[0m\u001b[0;34m\u001b[0m\u001b[0;34m\u001b[0m\u001b[0m\n\u001b[1;32m    932\u001b[0m       \u001b[0minitializers\u001b[0m \u001b[0;34m=\u001b[0m \u001b[0;34m[\u001b[0m\u001b[0;34m]\u001b[0m\u001b[0;34m\u001b[0m\u001b[0;34m\u001b[0m\u001b[0m\n\u001b[0;32m--> 933\u001b[0;31m       \u001b[0mself\u001b[0m\u001b[0;34m.\u001b[0m\u001b[0m_initialize\u001b[0m\u001b[0;34m(\u001b[0m\u001b[0margs\u001b[0m\u001b[0;34m,\u001b[0m \u001b[0mkwds\u001b[0m\u001b[0;34m,\u001b[0m \u001b[0madd_initializers_to\u001b[0m\u001b[0;34m=\u001b[0m\u001b[0minitializers\u001b[0m\u001b[0;34m)\u001b[0m\u001b[0;34m\u001b[0m\u001b[0;34m\u001b[0m\u001b[0m\n\u001b[0m\u001b[1;32m    934\u001b[0m     \u001b[0;32mfinally\u001b[0m\u001b[0;34m:\u001b[0m\u001b[0;34m\u001b[0m\u001b[0;34m\u001b[0m\u001b[0m\n\u001b[1;32m    935\u001b[0m       \u001b[0;31m# At this point we know that the initialization is complete (or less\u001b[0m\u001b[0;34m\u001b[0m\u001b[0;34m\u001b[0m\u001b[0;34m\u001b[0m\u001b[0m\n",
            "\u001b[0;32m/usr/local/lib/python3.7/dist-packages/tensorflow/python/eager/def_function.py\u001b[0m in \u001b[0;36m_initialize\u001b[0;34m(self, args, kwds, add_initializers_to)\u001b[0m\n\u001b[1;32m    762\u001b[0m     self._concrete_stateful_fn = (\n\u001b[1;32m    763\u001b[0m         self._stateful_fn._get_concrete_function_internal_garbage_collected(  # pylint: disable=protected-access\n\u001b[0;32m--> 764\u001b[0;31m             *args, **kwds))\n\u001b[0m\u001b[1;32m    765\u001b[0m \u001b[0;34m\u001b[0m\u001b[0m\n\u001b[1;32m    766\u001b[0m     \u001b[0;32mdef\u001b[0m \u001b[0minvalid_creator_scope\u001b[0m\u001b[0;34m(\u001b[0m\u001b[0;34m*\u001b[0m\u001b[0munused_args\u001b[0m\u001b[0;34m,\u001b[0m \u001b[0;34m**\u001b[0m\u001b[0munused_kwds\u001b[0m\u001b[0;34m)\u001b[0m\u001b[0;34m:\u001b[0m\u001b[0;34m\u001b[0m\u001b[0;34m\u001b[0m\u001b[0m\n",
            "\u001b[0;32m/usr/local/lib/python3.7/dist-packages/tensorflow/python/eager/function.py\u001b[0m in \u001b[0;36m_get_concrete_function_internal_garbage_collected\u001b[0;34m(self, *args, **kwargs)\u001b[0m\n\u001b[1;32m   3048\u001b[0m       \u001b[0margs\u001b[0m\u001b[0;34m,\u001b[0m \u001b[0mkwargs\u001b[0m \u001b[0;34m=\u001b[0m \u001b[0;32mNone\u001b[0m\u001b[0;34m,\u001b[0m \u001b[0;32mNone\u001b[0m\u001b[0;34m\u001b[0m\u001b[0;34m\u001b[0m\u001b[0m\n\u001b[1;32m   3049\u001b[0m     \u001b[0;32mwith\u001b[0m \u001b[0mself\u001b[0m\u001b[0;34m.\u001b[0m\u001b[0m_lock\u001b[0m\u001b[0;34m:\u001b[0m\u001b[0;34m\u001b[0m\u001b[0;34m\u001b[0m\u001b[0m\n\u001b[0;32m-> 3050\u001b[0;31m       \u001b[0mgraph_function\u001b[0m\u001b[0;34m,\u001b[0m \u001b[0m_\u001b[0m \u001b[0;34m=\u001b[0m \u001b[0mself\u001b[0m\u001b[0;34m.\u001b[0m\u001b[0m_maybe_define_function\u001b[0m\u001b[0;34m(\u001b[0m\u001b[0margs\u001b[0m\u001b[0;34m,\u001b[0m \u001b[0mkwargs\u001b[0m\u001b[0;34m)\u001b[0m\u001b[0;34m\u001b[0m\u001b[0;34m\u001b[0m\u001b[0m\n\u001b[0m\u001b[1;32m   3051\u001b[0m     \u001b[0;32mreturn\u001b[0m \u001b[0mgraph_function\u001b[0m\u001b[0;34m\u001b[0m\u001b[0;34m\u001b[0m\u001b[0m\n\u001b[1;32m   3052\u001b[0m \u001b[0;34m\u001b[0m\u001b[0m\n",
            "\u001b[0;32m/usr/local/lib/python3.7/dist-packages/tensorflow/python/eager/function.py\u001b[0m in \u001b[0;36m_maybe_define_function\u001b[0;34m(self, args, kwargs)\u001b[0m\n\u001b[1;32m   3442\u001b[0m \u001b[0;34m\u001b[0m\u001b[0m\n\u001b[1;32m   3443\u001b[0m           \u001b[0mself\u001b[0m\u001b[0;34m.\u001b[0m\u001b[0m_function_cache\u001b[0m\u001b[0;34m.\u001b[0m\u001b[0mmissed\u001b[0m\u001b[0;34m.\u001b[0m\u001b[0madd\u001b[0m\u001b[0;34m(\u001b[0m\u001b[0mcall_context_key\u001b[0m\u001b[0;34m)\u001b[0m\u001b[0;34m\u001b[0m\u001b[0;34m\u001b[0m\u001b[0m\n\u001b[0;32m-> 3444\u001b[0;31m           \u001b[0mgraph_function\u001b[0m \u001b[0;34m=\u001b[0m \u001b[0mself\u001b[0m\u001b[0;34m.\u001b[0m\u001b[0m_create_graph_function\u001b[0m\u001b[0;34m(\u001b[0m\u001b[0margs\u001b[0m\u001b[0;34m,\u001b[0m \u001b[0mkwargs\u001b[0m\u001b[0;34m)\u001b[0m\u001b[0;34m\u001b[0m\u001b[0;34m\u001b[0m\u001b[0m\n\u001b[0m\u001b[1;32m   3445\u001b[0m           \u001b[0mself\u001b[0m\u001b[0;34m.\u001b[0m\u001b[0m_function_cache\u001b[0m\u001b[0;34m.\u001b[0m\u001b[0mprimary\u001b[0m\u001b[0;34m[\u001b[0m\u001b[0mcache_key\u001b[0m\u001b[0;34m]\u001b[0m \u001b[0;34m=\u001b[0m \u001b[0mgraph_function\u001b[0m\u001b[0;34m\u001b[0m\u001b[0;34m\u001b[0m\u001b[0m\n\u001b[1;32m   3446\u001b[0m \u001b[0;34m\u001b[0m\u001b[0m\n",
            "\u001b[0;32m/usr/local/lib/python3.7/dist-packages/tensorflow/python/eager/function.py\u001b[0m in \u001b[0;36m_create_graph_function\u001b[0;34m(self, args, kwargs, override_flat_arg_shapes)\u001b[0m\n\u001b[1;32m   3287\u001b[0m             \u001b[0marg_names\u001b[0m\u001b[0;34m=\u001b[0m\u001b[0marg_names\u001b[0m\u001b[0;34m,\u001b[0m\u001b[0;34m\u001b[0m\u001b[0;34m\u001b[0m\u001b[0m\n\u001b[1;32m   3288\u001b[0m             \u001b[0moverride_flat_arg_shapes\u001b[0m\u001b[0;34m=\u001b[0m\u001b[0moverride_flat_arg_shapes\u001b[0m\u001b[0;34m,\u001b[0m\u001b[0;34m\u001b[0m\u001b[0;34m\u001b[0m\u001b[0m\n\u001b[0;32m-> 3289\u001b[0;31m             capture_by_value=self._capture_by_value),\n\u001b[0m\u001b[1;32m   3290\u001b[0m         \u001b[0mself\u001b[0m\u001b[0;34m.\u001b[0m\u001b[0m_function_attributes\u001b[0m\u001b[0;34m,\u001b[0m\u001b[0;34m\u001b[0m\u001b[0;34m\u001b[0m\u001b[0m\n\u001b[1;32m   3291\u001b[0m         \u001b[0mfunction_spec\u001b[0m\u001b[0;34m=\u001b[0m\u001b[0mself\u001b[0m\u001b[0;34m.\u001b[0m\u001b[0mfunction_spec\u001b[0m\u001b[0;34m,\u001b[0m\u001b[0;34m\u001b[0m\u001b[0;34m\u001b[0m\u001b[0m\n",
            "\u001b[0;32m/usr/local/lib/python3.7/dist-packages/tensorflow/python/framework/func_graph.py\u001b[0m in \u001b[0;36mfunc_graph_from_py_func\u001b[0;34m(name, python_func, args, kwargs, signature, func_graph, autograph, autograph_options, add_control_dependencies, arg_names, op_return_value, collections, capture_by_value, override_flat_arg_shapes)\u001b[0m\n\u001b[1;32m    997\u001b[0m         \u001b[0m_\u001b[0m\u001b[0;34m,\u001b[0m \u001b[0moriginal_func\u001b[0m \u001b[0;34m=\u001b[0m \u001b[0mtf_decorator\u001b[0m\u001b[0;34m.\u001b[0m\u001b[0munwrap\u001b[0m\u001b[0;34m(\u001b[0m\u001b[0mpython_func\u001b[0m\u001b[0;34m)\u001b[0m\u001b[0;34m\u001b[0m\u001b[0;34m\u001b[0m\u001b[0m\n\u001b[1;32m    998\u001b[0m \u001b[0;34m\u001b[0m\u001b[0m\n\u001b[0;32m--> 999\u001b[0;31m       \u001b[0mfunc_outputs\u001b[0m \u001b[0;34m=\u001b[0m \u001b[0mpython_func\u001b[0m\u001b[0;34m(\u001b[0m\u001b[0;34m*\u001b[0m\u001b[0mfunc_args\u001b[0m\u001b[0;34m,\u001b[0m \u001b[0;34m**\u001b[0m\u001b[0mfunc_kwargs\u001b[0m\u001b[0;34m)\u001b[0m\u001b[0;34m\u001b[0m\u001b[0;34m\u001b[0m\u001b[0m\n\u001b[0m\u001b[1;32m   1000\u001b[0m \u001b[0;34m\u001b[0m\u001b[0m\n\u001b[1;32m   1001\u001b[0m       \u001b[0;31m# invariant: `func_outputs` contains only Tensors, CompositeTensors,\u001b[0m\u001b[0;34m\u001b[0m\u001b[0;34m\u001b[0m\u001b[0;34m\u001b[0m\u001b[0m\n",
            "\u001b[0;32m/usr/local/lib/python3.7/dist-packages/tensorflow/python/eager/def_function.py\u001b[0m in \u001b[0;36mwrapped_fn\u001b[0;34m(*args, **kwds)\u001b[0m\n\u001b[1;32m    670\u001b[0m         \u001b[0;31m# the function a weak reference to itself to avoid a reference cycle.\u001b[0m\u001b[0;34m\u001b[0m\u001b[0;34m\u001b[0m\u001b[0;34m\u001b[0m\u001b[0m\n\u001b[1;32m    671\u001b[0m         \u001b[0;32mwith\u001b[0m \u001b[0mOptionalXlaContext\u001b[0m\u001b[0;34m(\u001b[0m\u001b[0mcompile_with_xla\u001b[0m\u001b[0;34m)\u001b[0m\u001b[0;34m:\u001b[0m\u001b[0;34m\u001b[0m\u001b[0;34m\u001b[0m\u001b[0m\n\u001b[0;32m--> 672\u001b[0;31m           \u001b[0mout\u001b[0m \u001b[0;34m=\u001b[0m \u001b[0mweak_wrapped_fn\u001b[0m\u001b[0;34m(\u001b[0m\u001b[0;34m)\u001b[0m\u001b[0;34m.\u001b[0m\u001b[0m__wrapped__\u001b[0m\u001b[0;34m(\u001b[0m\u001b[0;34m*\u001b[0m\u001b[0margs\u001b[0m\u001b[0;34m,\u001b[0m \u001b[0;34m**\u001b[0m\u001b[0mkwds\u001b[0m\u001b[0;34m)\u001b[0m\u001b[0;34m\u001b[0m\u001b[0;34m\u001b[0m\u001b[0m\n\u001b[0m\u001b[1;32m    673\u001b[0m         \u001b[0;32mreturn\u001b[0m \u001b[0mout\u001b[0m\u001b[0;34m\u001b[0m\u001b[0;34m\u001b[0m\u001b[0m\n\u001b[1;32m    674\u001b[0m \u001b[0;34m\u001b[0m\u001b[0m\n",
            "\u001b[0;32m/usr/local/lib/python3.7/dist-packages/tensorflow/python/saved_model/function_deserialization.py\u001b[0m in \u001b[0;36mrestored_function_body\u001b[0;34m(*args, **kwargs)\u001b[0m\n\u001b[1;32m    289\u001b[0m         .format(_pretty_format_positional(args), kwargs,\n\u001b[1;32m    290\u001b[0m                 \u001b[0mlen\u001b[0m\u001b[0;34m(\u001b[0m\u001b[0msaved_function\u001b[0m\u001b[0;34m.\u001b[0m\u001b[0mconcrete_functions\u001b[0m\u001b[0;34m)\u001b[0m\u001b[0;34m,\u001b[0m\u001b[0;34m\u001b[0m\u001b[0;34m\u001b[0m\u001b[0m\n\u001b[0;32m--> 291\u001b[0;31m                 \"\\n\\n\".join(signature_descriptions)))\n\u001b[0m\u001b[1;32m    292\u001b[0m \u001b[0;34m\u001b[0m\u001b[0m\n\u001b[1;32m    293\u001b[0m   \u001b[0mconcrete_function_objects\u001b[0m \u001b[0;34m=\u001b[0m \u001b[0;34m[\u001b[0m\u001b[0;34m]\u001b[0m\u001b[0;34m\u001b[0m\u001b[0;34m\u001b[0m\u001b[0m\n",
            "\u001b[0;31mValueError\u001b[0m: Could not find matching function to call loaded from the SavedModel. Got:\n  Positional arguments (2 total):\n    * Tensor(\"x:0\", shape=(1, 2), dtype=int64)\n    * False\n  Keyword arguments: {}\n\nExpected these arguments to match one of the following 4 option(s):\n\nOption 1:\n  Positional arguments (2 total):\n    * TensorSpec(shape=(None, 14), dtype=tf.int32, name='x')\n    * False\n  Keyword arguments: {}\n\nOption 2:\n  Positional arguments (2 total):\n    * TensorSpec(shape=(None, 14), dtype=tf.int32, name='x')\n    * True\n  Keyword arguments: {}\n\nOption 3:\n  Positional arguments (2 total):\n    * TensorSpec(shape=(None, 14), dtype=tf.int32, name='input_1')\n    * False\n  Keyword arguments: {}\n\nOption 4:\n  Positional arguments (2 total):\n    * TensorSpec(shape=(None, 14), dtype=tf.int32, name='input_1')\n    * True\n  Keyword arguments: {}"
          ]
        }
      ]
    },
    {
      "cell_type": "code",
      "metadata": {
        "colab": {
          "base_uri": "https://localhost:8080/"
        },
        "id": "HYwuG_3y1H3T",
        "outputId": "39f79f62-4d8a-4853-ad29-dc32a75e4edf"
      },
      "source": [
        "model2 = TextGenerator(tokenizer.num_words + 1, embedding_size , hidden_size)\n",
        "model2.load_weights('lyrics_weight2')"
      ],
      "execution_count": null,
      "outputs": [
        {
          "output_type": "execute_result",
          "data": {
            "text/plain": [
              "<tensorflow.python.training.tracking.util.CheckpointLoadStatus at 0x7f4ab8ba5890>"
            ]
          },
          "metadata": {
            "tags": []
          },
          "execution_count": 68
        }
      ]
    },
    {
      "cell_type": "code",
      "metadata": {
        "id": "M0qHYiMv3sCZ"
      },
      "source": [
        ""
      ],
      "execution_count": null,
      "outputs": []
    },
    {
      "cell_type": "code",
      "metadata": {
        "colab": {
          "base_uri": "https://localhost:8080/",
          "height": 35
        },
        "id": "vUN6xhcM1VnA",
        "outputId": "731a6b11-80d9-464b-a616-eb30f6eec042"
      },
      "source": [
        "generate_text(model2, tokenizer, init_sentence=\"<start> I\", max_len=100)"
      ],
      "execution_count": null,
      "outputs": [
        {
          "output_type": "execute_result",
          "data": {
            "application/vnd.google.colaboratory.intrinsic+json": {
              "type": "string"
            },
            "text/plain": [
              "'<start> i m a bad man <end> '"
            ]
          },
          "metadata": {
            "tags": []
          },
          "execution_count": 69
        }
      ]
    }
  ]
}