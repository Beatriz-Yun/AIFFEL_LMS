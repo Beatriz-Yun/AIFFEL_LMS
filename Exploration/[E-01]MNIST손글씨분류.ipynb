{
  "nbformat": 4,
  "nbformat_minor": 0,
  "metadata": {
    "colab": {
      "name": "[E-01]MNIST손글씨분류.ipynb",
      "provenance": [],
      "collapsed_sections": [],
      "authorship_tag": "ABX9TyMhE6Z9CunD6BhR6AjlnJ/3",
      "include_colab_link": true
    },
    "kernelspec": {
      "name": "python3",
      "display_name": "Python 3"
    },
    "language_info": {
      "name": "python"
    }
  },
  "cells": [
    {
      "cell_type": "markdown",
      "metadata": {
        "id": "view-in-github",
        "colab_type": "text"
      },
      "source": [
        "<a href=\"https://colab.research.google.com/github/Beatriz-Yun/AIFFEL_LMS/blob/main/Exploration/%5BE-01%5DMNIST%EC%86%90%EA%B8%80%EC%94%A8%EB%B6%84%EB%A5%98.ipynb\" target=\"_parent\"><img src=\"https://colab.research.google.com/assets/colab-badge.svg\" alt=\"Open In Colab\"/></a>"
      ]
    },
    {
      "cell_type": "markdown",
      "metadata": {
        "id": "YMBsOjvOWoby"
      },
      "source": [
        "일반적으로 딥러닝 기술은 **\"데이터 준비 → 딥러닝 네트워크 설계 → 학습 → 테스트(평가)\"**의 순서대로 만들게 된다.\n",
        "\n",
        "<br>\n",
        "\n",
        "---\n",
        "\n",
        "<br>\n",
        "\n",
        "tensorflow의 표준 API인 tf.keras의 Sequential API를 이용하여 숫자 손글씨 인식기를 만들 것이다.<br>\n",
        "MNIST데이터셋은 숫자 손글씨 이미지 데이터베이스이다.\n",
        "이미지의 크기는 28x28이다.<br>\n",
        "총 7만장의 이미지가 있고, 60000장의 training set과 10000장의 test set으로 구성되어 있다.<br>\n",
        "train set은 대략 250명의 손글씨가 들어있다."
      ]
    },
    {
      "cell_type": "code",
      "metadata": {
        "colab": {
          "base_uri": "https://localhost:8080/"
        },
        "id": "vN5r_6MxWHqz",
        "outputId": "62475d84-3a82-48b9-b82b-3f8b01c5fcfb"
      },
      "source": [
        "import tensorflow as tf\n",
        "\n",
        "print(tf.__version__)    # tensorflow 버전"
      ],
      "execution_count": null,
      "outputs": [
        {
          "output_type": "stream",
          "text": [
            "2.5.0\n"
          ],
          "name": "stdout"
        }
      ]
    },
    {
      "cell_type": "markdown",
      "metadata": {
        "id": "bQza_1HfgUEy"
      },
      "source": [
        "## 데이터 준비하기"
      ]
    },
    {
      "cell_type": "markdown",
      "metadata": {
        "id": "wBcGKmm4eK7c"
      },
      "source": [
        "[train/validation/test 데이터셋](https://tykimos.github.io/2017/03/25/Dataset_and_Fit_Talk/)\n",
        "- 머신러닝 학습 과정이 정상적으로 진행되고 있는지, 오버피팅이 발생하고 있지 않은지, 학습을 중단해도 되는지 등을 확인하고 싶을 때 validation set을 사용한다."
      ]
    },
    {
      "cell_type": "code",
      "metadata": {
        "colab": {
          "base_uri": "https://localhost:8080/"
        },
        "id": "YfPnWUc3X8wA",
        "outputId": "d8575ca6-1dfd-4b2a-c32d-daadafdd587b"
      },
      "source": [
        "from tensorflow import keras\n",
        "\n",
        "import numpy as np\n",
        "import matplotlib.pyplot as plt   # 데이터 시각화 라이브러리\n",
        "\n",
        "mnist = keras.datasets.mnist\n",
        "\n",
        "# # keras에서 MNIST데이터 로드. (다운로드하지 않았다면 다운로드까지 자동으로 진행됨)\n",
        "(x_train, y_train), (x_test, y_test) = mnist.load_data()   \n",
        "\n",
        "print(len(x_train))               # train set의 데이터 개수 (6만개)\n",
        "print(len(x_test))                # test set의 데이터 개수 (1만개)\n",
        "\n",
        "print(x_train.shape)              # x_train 배열의 크기 (데이터개수 x 이미지크기(픽셀x픽셀))\n",
        "print(x_test.shape)               # x_test 배열의 크기 (데이터개수 x 이미지크기(픽셀x픽셀))"
      ],
      "execution_count": null,
      "outputs": [
        {
          "output_type": "stream",
          "text": [
            "Downloading data from https://storage.googleapis.com/tensorflow/tf-keras-datasets/mnist.npz\n",
            "11493376/11490434 [==============================] - 0s 0us/step\n",
            "60000\n",
            "10000\n",
            "(60000, 28, 28)\n",
            "(10000, 28, 28)\n"
          ],
          "name": "stdout"
        }
      ]
    },
    {
      "cell_type": "markdown",
      "metadata": {
        "id": "vtWjuFT6cLYF"
      },
      "source": [
        "[matplotlib 공식문서](https://matplotlib.org/2.0.2/gallery.html) <br>\n",
        "[matplotlib.cm에서 choosing colormaps](https://matplotlib.org/stable/tutorials/colors/colormaps.html)"
      ]
    },
    {
      "cell_type": "code",
      "metadata": {
        "colab": {
          "base_uri": "https://localhost:8080/",
          "height": 265
        },
        "id": "fjNpTvGCbC9C",
        "outputId": "9f57b649-67b3-46c4-a840-0244314f30a5"
      },
      "source": [
        "plt.imshow(x_train[0],cmap=plt.cm.binary)    # 첫 번째 이미지. cmap으로 컬러맵 설정. \n",
        "plt.show()"
      ],
      "execution_count": null,
      "outputs": [
        {
          "output_type": "display_data",
          "data": {
            "image/png": "[encoded data removed]",
            "text/plain": [
              "<Figure size 432x288 with 1 Axes>"
            ]
          },
          "metadata": {
            "tags": [],
            "needs_background": "light"
          }
        }
      ]
    },
    {
      "cell_type": "code",
      "metadata": {
        "colab": {
          "base_uri": "https://localhost:8080/"
        },
        "id": "DbehmXiFbL0D",
        "outputId": "37c200ab-3d9b-4fd0-f801-7496290e01e0"
      },
      "source": [
        "print(y_train[0])    # 첫 번째 이미지의 정답레이블"
      ],
      "execution_count": null,
      "outputs": [
        {
          "output_type": "stream",
          "text": [
            "5\n"
          ],
          "name": "stdout"
        }
      ]
    },
    {
      "cell_type": "code",
      "metadata": {
        "colab": {
          "base_uri": "https://localhost:8080/",
          "height": 283
        },
        "id": "oOv7WgNYcuD5",
        "outputId": "ccb09e0e-1506-4d35-b8f4-4a394f280532"
      },
      "source": [
        "# index에 0~59999 지정 가능\n",
        "index=2020     \n",
        "plt.imshow(x_train[index],cmap=plt.cm.binary)\n",
        "plt.show()\n",
        "print( (index+1), '번째 이미지의 숫자는 바로 ',  y_train[index], '입니다.')"
      ],
      "execution_count": null,
      "outputs": [
        {
          "output_type": "display_data",
          "data": {
            "image/png": "[encoded data removed]",
            "text/plain": [
              "<Figure size 432x288 with 1 Axes>"
            ]
          },
          "metadata": {
            "tags": [],
            "needs_background": "light"
          }
        },
        {
          "output_type": "stream",
          "text": [
            "2021 번째 이미지의 숫자는 바로  6 입니다.\n"
          ],
          "name": "stdout"
        }
      ]
    },
    {
      "cell_type": "markdown",
      "metadata": {
        "id": "bDMD5hMpYkFG"
      },
      "source": [
        "숫자 손글씨 이미지의 픽셀 값은 0\\~255사이의 값을 가진다.<br>\n",
        "인공지능 모델을 훈련시키고 사용할 때, 일반적으로 입력을 0~1사이의 값으로 정규화시키는게 좋기 때문에 255.0으로 나누자."
      ]
    },
    {
      "cell_type": "code",
      "metadata": {
        "colab": {
          "base_uri": "https://localhost:8080/"
        },
        "id": "VsRA8I2qff04",
        "outputId": "9e6f929a-24e8-4592-d644-8b1434f3cea5"
      },
      "source": [
        "print('최솟값:',np.min(x_train), ' 최댓값:',np.max(x_train))"
      ],
      "execution_count": null,
      "outputs": [
        {
          "output_type": "stream",
          "text": [
            "최솟값: 0  최댓값: 255\n"
          ],
          "name": "stdout"
        }
      ]
    },
    {
      "cell_type": "code",
      "metadata": {
        "colab": {
          "base_uri": "https://localhost:8080/"
        },
        "id": "ac36GFPWf9gw",
        "outputId": "415a72c3-3387-4b91-8eca-d74dee316f2d"
      },
      "source": [
        "x_train_norm, x_test_norm = x_train / 255.0, x_test / 255.0             # 데이터 0~1값으로 정규화\n",
        "print('최소값:',np.min(x_train_norm), ' 최대값:',np.max(x_train_norm))"
      ],
      "execution_count": null,
      "outputs": [
        {
          "output_type": "stream",
          "text": [
            "최소값: 0.0  최대값: 1.0\n"
          ],
          "name": "stdout"
        }
      ]
    },
    {
      "cell_type": "markdown",
      "metadata": {
        "id": "7ZNcdy4WgNnu"
      },
      "source": [
        "## 딥러닝 네트워크 설계하기\n",
        "\n",
        "tf.keras에서 Sequential API를 사용할 것이다.<br>\n",
        "Sequential API는 개발의 자유도는 많이 떨어지지만, 매우 간단하게 딥러닝 모델을 만들어낼 수 있는 방법이다.\n",
        "\n",
        "<br>\n",
        "\n",
        "---\n",
        "\n",
        "<br>\n",
        "\n",
        "**Conv2D 레이어**의 첫 번째 인자: 사용하는 특징 수 (ex. 16, 32)\n",
        "- 입력 이미지가 다양하거나 복잡해질 경우, 특징 수를 더 늘려주는 것을 고려해 볼 수있다.\n",
        "\n",
        "<br>\n",
        "\n",
        "**Dense 레이어**의 첫 번째 인자: 분류기에 사용되는 뉴런의 수 (ex. 32, 64, 128)\n",
        "- 이 값이 클수록 복잡한 분류기를 만들 수 있다.\n",
        "- 가장 마지막 Dense 레이어의 첫 번째 인자는 예측 레이블을 출력해야 하기 때문에 클래스 수로 지정한다."
      ]
    },
    {
      "cell_type": "code",
      "metadata": {
        "colab": {
          "base_uri": "https://localhost:8080/"
        },
        "id": "mTPaP7z4gQdh",
        "outputId": "9ec93f31-fdd9-4358-d721-b6200c378762"
      },
      "source": [
        "# Sequential API를 사용하여 LeNet이라는 딥러닝 네트워크를 설계\n",
        "model=keras.models.Sequential()\n",
        "model.add(keras.layers.Conv2D(16, (3,3), activation='relu', input_shape=(28,28,1)))\n",
        "model.add(keras.layers.MaxPool2D(2,2))\n",
        "model.add(keras.layers.Conv2D(32, (3,3), activation='relu'))\n",
        "model.add(keras.layers.MaxPooling2D((2,2)))\n",
        "model.add(keras.layers.Flatten())\n",
        "model.add(keras.layers.Dense(32, activation='relu'))\n",
        "model.add(keras.layers.Dense(10, activation='softmax'))\n",
        "\n",
        "print('Model에 추가된 Layer 개수: ', len(model.layers))"
      ],
      "execution_count": null,
      "outputs": [
        {
          "output_type": "stream",
          "text": [
            "Model에 추가된 Layer 개수:  7\n"
          ],
          "name": "stdout"
        }
      ]
    },
    {
      "cell_type": "code",
      "metadata": {
        "colab": {
          "base_uri": "https://localhost:8080/"
        },
        "id": "NPBK5B6Uijbs",
        "outputId": "8b35985d-fd61-49de-878f-fc37dc03d052"
      },
      "source": [
        "# 딥러닝 네트워크 모델 확인\n",
        "model.summary()"
      ],
      "execution_count": null,
      "outputs": [
        {
          "output_type": "stream",
          "text": [
            "Model: \"sequential\"\n",
            "_________________________________________________________________\n",
            "Layer (type)                 Output Shape              Param #   \n",
            "=================================================================\n",
            "conv2d (Conv2D)              (None, 26, 26, 16)        160       \n",
            "_________________________________________________________________\n",
            "max_pooling2d (MaxPooling2D) (None, 13, 13, 16)        0         \n",
            "_________________________________________________________________\n",
            "conv2d_1 (Conv2D)            (None, 11, 11, 32)        4640      \n",
            "_________________________________________________________________\n",
            "max_pooling2d_1 (MaxPooling2 (None, 5, 5, 32)          0         \n",
            "_________________________________________________________________\n",
            "flatten (Flatten)            (None, 800)               0         \n",
            "_________________________________________________________________\n",
            "dense (Dense)                (None, 32)                25632     \n",
            "_________________________________________________________________\n",
            "dense_1 (Dense)              (None, 10)                330       \n",
            "=================================================================\n",
            "Total params: 30,762\n",
            "Trainable params: 30,762\n",
            "Non-trainable params: 0\n",
            "_________________________________________________________________\n"
          ],
          "name": "stdout"
        }
      ]
    },
    {
      "cell_type": "markdown",
      "metadata": {
        "id": "rD9dKT30io6C"
      },
      "source": [
        "## 딥러닝 네트워크 학습시키기\n",
        "\n",
        "딥러닝 네트워크의 입력은 (데이터개수, 이미지크기x, 이미지크기y, 채널수)의 형태를 가진다.<br>\n",
        "네트워크를 설계할 때 input_shape=(28, 28, 1)로 지정했듯이 **채널수가 1이면 흑백이미지**를 의미한다. "
      ]
    },
    {
      "cell_type": "code",
      "metadata": {
        "colab": {
          "base_uri": "https://localhost:8080/"
        },
        "id": "maY4_-cjiriI",
        "outputId": "099336d4-74f9-49a0-c222-c2606cd264df"
      },
      "source": [
        "print(\"Before Reshape - x_train_norm shape: {}\".format(x_train_norm.shape))\n",
        "print(\"Before Reshape - x_test_norm shape: {}\".format(x_test_norm.shape))\n",
        "\n",
        "x_train_reshaped=x_train_norm.reshape( -1, 28, 28, 1)  # 데이터갯수에 -1을 쓰면 reshape시 자동계산됩니다.\n",
        "x_test_reshaped=x_test_norm.reshape( -1, 28, 28, 1)\n",
        "\n",
        "print(\"After Reshape - x_train_reshaped shape: {}\".format(x_train_reshaped.shape))\n",
        "print(\"After Reshape - x_test_reshaped shape: {}\".format(x_test_reshaped.shape))"
      ],
      "execution_count": null,
      "outputs": [
        {
          "output_type": "stream",
          "text": [
            "Before Reshape - x_train_norm shape: (60000, 28, 28)\n",
            "Before Reshape - x_test_norm shape: (10000, 28, 28)\n",
            "After Reshape - x_train_reshaped shape: (60000, 28, 28, 1)\n",
            "After Reshape - x_test_reshaped shape: (10000, 28, 28, 1)\n"
          ],
          "name": "stdout"
        }
      ]
    },
    {
      "cell_type": "markdown",
      "metadata": {
        "id": "cumD5PyzkEKO"
      },
      "source": [
        "epochs=10: 전체 train set 데이터 6만개를 10번 반복 사용해서 학습을 시킨다."
      ]
    },
    {
      "cell_type": "code",
      "metadata": {
        "colab": {
          "base_uri": "https://localhost:8080/"
        },
        "id": "qDYBM5Wkj3vw",
        "outputId": "fd36b377-434c-4a0f-d3ed-8f3445117488"
      },
      "source": [
        "model.compile(optimizer='adam',\n",
        "             loss='sparse_categorical_crossentropy',\n",
        "             metrics=['accuracy'])\n",
        "\n",
        "model.fit(x_train_reshaped, y_train, epochs=10)"
      ],
      "execution_count": null,
      "outputs": [
        {
          "output_type": "stream",
          "text": [
            "Epoch 1/10\n",
            "1875/1875 [==============================] - 36s 2ms/step - loss: 0.1929 - accuracy: 0.9413\n",
            "Epoch 2/10\n",
            "1875/1875 [==============================] - 5s 2ms/step - loss: 0.0581 - accuracy: 0.9822\n",
            "Epoch 3/10\n",
            "1875/1875 [==============================] - 5s 2ms/step - loss: 0.0411 - accuracy: 0.9872\n",
            "Epoch 4/10\n",
            "1875/1875 [==============================] - 5s 2ms/step - loss: 0.0333 - accuracy: 0.9895\n",
            "Epoch 5/10\n",
            "1875/1875 [==============================] - 4s 2ms/step - loss: 0.0278 - accuracy: 0.9912\n",
            "Epoch 6/10\n",
            "1875/1875 [==============================] - 5s 2ms/step - loss: 0.0223 - accuracy: 0.9927\n",
            "Epoch 7/10\n",
            "1875/1875 [==============================] - 4s 2ms/step - loss: 0.0189 - accuracy: 0.9943\n",
            "Epoch 8/10\n",
            "1875/1875 [==============================] - 5s 2ms/step - loss: 0.0167 - accuracy: 0.9943\n",
            "Epoch 9/10\n",
            "1875/1875 [==============================] - 4s 2ms/step - loss: 0.0130 - accuracy: 0.9959\n",
            "Epoch 10/10\n",
            "1875/1875 [==============================] - 5s 2ms/step - loss: 0.0125 - accuracy: 0.9958\n"
          ],
          "name": "stdout"
        },
        {
          "output_type": "execute_result",
          "data": {
            "text/plain": [
              "<tensorflow.python.keras.callbacks.History at 0x7f05501b1e10>"
            ]
          },
          "metadata": {
            "tags": []
          },
          "execution_count": 11
        }
      ]
    },
    {
      "cell_type": "markdown",
      "metadata": {
        "id": "5BoO8R7ekhih"
      },
      "source": [
        "## 딥러닝 네트워크 성능 확인하기\n",
        "\n",
        "test set을 사용하여 성능을 확인한다."
      ]
    },
    {
      "cell_type": "code",
      "metadata": {
        "colab": {
          "base_uri": "https://localhost:8080/"
        },
        "id": "PCR4kYyYkpyx",
        "outputId": "28d2199e-99f3-4298-ff26-76e4851d3827"
      },
      "source": [
        "test_loss, test_accuracy = model.evaluate(x_test_reshaped,y_test, verbose=2)\n",
        "print(\"test_loss: {} \".format(test_loss))\n",
        "print(\"test_accuracy: {}\".format(test_accuracy))"
      ],
      "execution_count": null,
      "outputs": [
        {
          "output_type": "stream",
          "text": [
            "313/313 - 1s - loss: 0.0403 - accuracy: 0.9881\n",
            "test_loss: 0.040256474167108536 \n",
            "test_accuracy: 0.988099992275238\n"
          ],
          "name": "stdout"
        }
      ]
    },
    {
      "cell_type": "code",
      "metadata": {
        "colab": {
          "base_uri": "https://localhost:8080/"
        },
        "id": "wTYqN3Yxkyxn",
        "outputId": "2d814a17-054b-40db-f331-5b315e39818e"
      },
      "source": [
        "predicted_result = model.predict(x_test_reshaped)  # model이 추론한 확률값. \n",
        "predicted_labels = np.argmax(predicted_result, axis=1)\n",
        "\n",
        "idx=0  #1번째 x_test를 살펴보자. \n",
        "print('model.predict() 결과 : ', predicted_result[idx])\n",
        "print('model이 추론한 가장 가능성이 높은 결과 : ', predicted_labels[idx])\n",
        "print('실제 데이터의 라벨 : ', y_test[idx])"
      ],
      "execution_count": null,
      "outputs": [
        {
          "output_type": "stream",
          "text": [
            "model.predict() 결과 :  [3.9797147e-08 6.9254319e-10 7.1476403e-10 3.1223304e-09 2.4323758e-11\n",
            " 2.5785953e-11 2.5212905e-14 1.0000000e+00 1.2021358e-10 1.2863955e-08]\n",
            "model이 추론한 가장 가능성이 높은 결과 :  7\n",
            "실제 데이터의 라벨 :  7\n"
          ],
          "name": "stdout"
        }
      ]
    },
    {
      "cell_type": "code",
      "metadata": {
        "colab": {
          "base_uri": "https://localhost:8080/",
          "height": 265
        },
        "id": "0LyLxyK8k3Zv",
        "outputId": "7f17f01e-396f-4d90-f054-918c374dc20b"
      },
      "source": [
        "plt.imshow(x_test[idx],cmap=plt.cm.binary)\n",
        "plt.show()"
      ],
      "execution_count": null,
      "outputs": [
        {
          "output_type": "display_data",
          "data": {
            "image/png": "[encoded data removed]",
            "text/plain": [
              "<Figure size 432x288 with 1 Axes>"
            ]
          },
          "metadata": {
            "tags": [],
            "needs_background": "light"
          }
        }
      ]
    },
    {
      "cell_type": "code",
      "metadata": {
        "colab": {
          "base_uri": "https://localhost:8080/",
          "height": 1000
        },
        "id": "HmOX5kvGk7R3",
        "outputId": "815e448c-9b81-4117-e6e5-0440e377048f"
      },
      "source": [
        "import random\n",
        "wrong_predict_list=[]\n",
        "for i, _ in enumerate(predicted_labels):\n",
        "    # i번째 test_labels과 y_test이 다른 경우만 모아 봅시다. \n",
        "    if predicted_labels[i] != y_test[i]:\n",
        "        wrong_predict_list.append(i)\n",
        "\n",
        "# wrong_predict_list 에서 랜덤하게 5개만 뽑아봅시다.\n",
        "samples = random.choices(population=wrong_predict_list, k=5)\n",
        "\n",
        "for n in samples:\n",
        "    print(\"예측확률분포: \" + str(predicted_result[n]))\n",
        "    print(\"라벨: \" + str(y_test[n]) + \", 예측결과: \" + str(predicted_labels[n]))\n",
        "    plt.imshow(x_test[n], cmap=plt.cm.binary)\n",
        "    plt.show()"
      ],
      "execution_count": null,
      "outputs": [
        {
          "output_type": "stream",
          "text": [
            "예측확률분포: [4.1241732e-05 4.7992763e-01 3.9707184e-06 8.4394569e-10 1.3460075e-06\n",
            " 1.5273455e-06 5.1647890e-01 2.8401402e-08 3.5454154e-03 6.3536092e-09]\n",
            "라벨: 1, 예측결과: 6\n"
          ],
          "name": "stdout"
        },
        {
          "output_type": "display_data",
          "data": {
            "image/png": "[encoded data removed]",
            "text/plain": [
              "<Figure size 432x288 with 1 Axes>"
            ]
          },
          "metadata": {
            "tags": [],
            "needs_background": "light"
          }
        },
        {
          "output_type": "stream",
          "text": [
            "예측확률분포: [5.7809125e-06 1.4983712e-01 3.2743490e-08 4.9950918e-06 2.2878707e-03\n",
            " 1.6427850e-02 2.3108594e-05 1.4598834e-05 3.0044428e-01 5.3095430e-01]\n",
            "라벨: 1, 예측결과: 9\n"
          ],
          "name": "stdout"
        },
        {
          "output_type": "display_data",
          "data": {
            "image/png": "[encoded data removed]",
            "text/plain": [
              "<Figure size 432x288 with 1 Axes>"
            ]
          },
          "metadata": {
            "tags": [],
            "needs_background": "light"
          }
        },
        {
          "output_type": "stream",
          "text": [
            "예측확률분포: [2.2705362e-04 8.1665013e-03 7.1387160e-01 2.1047967e-03 2.7991662e-02\n",
            " 3.0500458e-05 5.0612427e-05 2.5621396e-03 2.4488793e-01 1.0718086e-04]\n",
            "라벨: 8, 예측결과: 2\n"
          ],
          "name": "stdout"
        },
        {
          "output_type": "display_data",
          "data": {
            "image/png": "[encoded data removed]",
            "text/plain": [
              "<Figure size 432x288 with 1 Axes>"
            ]
          },
          "metadata": {
            "tags": [],
            "needs_background": "light"
          }
        },
        {
          "output_type": "stream",
          "text": [
            "예측확률분포: [1.3329667e-05 9.3592301e-02 1.0933549e-03 1.4271154e-01 8.4582344e-02\n",
            " 6.5863329e-01 1.9047592e-02 3.5539213e-12 3.2630356e-04 2.5060443e-08]\n",
            "라벨: 1, 예측결과: 5\n"
          ],
          "name": "stdout"
        },
        {
          "output_type": "display_data",
          "data": {
            "image/png": "[encoded data removed]",
            "text/plain": [
              "<Figure size 432x288 with 1 Axes>"
            ]
          },
          "metadata": {
            "tags": [],
            "needs_background": "light"
          }
        },
        {
          "output_type": "stream",
          "text": [
            "예측확률분포: [6.4163029e-01 4.7806157e-07 2.8252252e-06 1.8151435e-11 2.8322474e-04\n",
            " 1.2024004e-08 3.5793215e-01 7.6415507e-13 1.5106659e-04 2.9971829e-08]\n",
            "라벨: 6, 예측결과: 0\n"
          ],
          "name": "stdout"
        },
        {
          "output_type": "display_data",
          "data": {
            "image/png": "[encoded data removed]",
            "text/plain": [
              "<Figure size 432x288 with 1 Axes>"
            ]
          },
          "metadata": {
            "tags": [],
            "needs_background": "light"
          }
        }
      ]
    },
    {
      "cell_type": "markdown",
      "metadata": {
        "id": "iePbZ-bFlJgQ"
      },
      "source": [
        "## 성능 개선하기\n",
        "\n",
        "딥러닝 네트워크 구조 자체를 바꾸지 않고, 하이퍼파라미터를 바꿔서 다시 학습시켜 보자.\n",
        "\n",
        "<br>\n",
        "\n",
        "n_channel_1=16<br>\n",
        "n_channel_2=32<br>\n",
        "n_dense=32<br>\n",
        "n_train_epoch=10<br>\n",
        "> test_loss: 0.030280688777565956 <br>\n",
        "test_accuracy: 0.9918000102043152\n",
        "\n",
        "> test_loss: 0.04574832692742348 <br>\n",
        "test_accuracy: 0.9872999787330627\n",
        "\n",
        "<br>\n",
        "\n",
        "n_channel_1=32<br>\n",
        "n_channel_2=64<br>\n",
        "n_dense=32<br>\n",
        "n_train_epoch=10<br>\n",
        "> test_loss: 0.03657081723213196 <br>\n",
        "test_accuracy: 0.9908999800682068\n",
        "\n",
        "<br>\n",
        "\n",
        "n_channel_1=32<br>\n",
        "n_channel_2=64<br>\n",
        "n_dense=64<br>\n",
        "n_train_epoch=10<br>\n",
        "> test_loss: 0.042673829942941666 <br>\n",
        "test_accuracy: 0.9914000034332275\n",
        "\n",
        "\n"
      ]
    },
    {
      "cell_type": "code",
      "metadata": {
        "colab": {
          "base_uri": "https://localhost:8080/"
        },
        "id": "RKCDyDkElWaY",
        "outputId": "c0f4ae57-6f3e-4652-ae31-4383eb29372c"
      },
      "source": [
        "# 바꿔 볼 수 있는 하이퍼파라미터들\n",
        "n_channel_1=16\n",
        "n_channel_2=32\n",
        "n_dense=32\n",
        "n_train_epoch=10\n",
        "\n",
        "model=keras.models.Sequential()\n",
        "model.add(keras.layers.Conv2D(n_channel_1, (3,3), activation='relu', input_shape=(28,28,1)))\n",
        "model.add(keras.layers.MaxPool2D(2,2))\n",
        "model.add(keras.layers.Conv2D(n_channel_2, (3,3), activation='relu'))\n",
        "model.add(keras.layers.MaxPooling2D((2,2)))\n",
        "model.add(keras.layers.Flatten())\n",
        "model.add(keras.layers.Dense(n_dense, activation='relu'))\n",
        "model.add(keras.layers.Dense(10, activation='softmax'))\n",
        "\n",
        "model.summary()\n",
        "model.compile(optimizer='adam',\n",
        "             loss='sparse_categorical_crossentropy',\n",
        "             metrics=['accuracy'])\n",
        "\n",
        "# 모델 훈련\n",
        "model.fit(x_train_reshaped, y_train, epochs=n_train_epoch)\n",
        "\n",
        "# 모델 시험\n",
        "test_loss, test_accuracy = model.evaluate(x_test_reshaped, y_test, verbose=2)\n",
        "print(\"test_loss: {} \".format(test_loss))\n",
        "print(\"test_accuracy: {}\".format(test_accuracy))"
      ],
      "execution_count": null,
      "outputs": [
        {
          "output_type": "stream",
          "text": [
            "Model: \"sequential_1\"\n",
            "_________________________________________________________________\n",
            "Layer (type)                 Output Shape              Param #   \n",
            "=================================================================\n",
            "conv2d_2 (Conv2D)            (None, 26, 26, 16)        160       \n",
            "_________________________________________________________________\n",
            "max_pooling2d_2 (MaxPooling2 (None, 13, 13, 16)        0         \n",
            "_________________________________________________________________\n",
            "conv2d_3 (Conv2D)            (None, 11, 11, 32)        4640      \n",
            "_________________________________________________________________\n",
            "max_pooling2d_3 (MaxPooling2 (None, 5, 5, 32)          0         \n",
            "_________________________________________________________________\n",
            "flatten_1 (Flatten)          (None, 800)               0         \n",
            "_________________________________________________________________\n",
            "dense_2 (Dense)              (None, 32)                25632     \n",
            "_________________________________________________________________\n",
            "dense_3 (Dense)              (None, 10)                330       \n",
            "=================================================================\n",
            "Total params: 30,762\n",
            "Trainable params: 30,762\n",
            "Non-trainable params: 0\n",
            "_________________________________________________________________\n",
            "Epoch 1/10\n",
            "1875/1875 [==============================] - 5s 2ms/step - loss: 0.2084 - accuracy: 0.9363\n",
            "Epoch 2/10\n",
            "1875/1875 [==============================] - 5s 2ms/step - loss: 0.0709 - accuracy: 0.9780\n",
            "Epoch 3/10\n",
            "1875/1875 [==============================] - 5s 2ms/step - loss: 0.0523 - accuracy: 0.9836\n",
            "Epoch 4/10\n",
            "1875/1875 [==============================] - 5s 2ms/step - loss: 0.0410 - accuracy: 0.9875\n",
            "Epoch 5/10\n",
            "1875/1875 [==============================] - 5s 2ms/step - loss: 0.0335 - accuracy: 0.9897\n",
            "Epoch 6/10\n",
            "1875/1875 [==============================] - 5s 2ms/step - loss: 0.0272 - accuracy: 0.9911\n",
            "Epoch 7/10\n",
            "1875/1875 [==============================] - 4s 2ms/step - loss: 0.0223 - accuracy: 0.9926\n",
            "Epoch 8/10\n",
            "1875/1875 [==============================] - 4s 2ms/step - loss: 0.0189 - accuracy: 0.9940\n",
            "Epoch 9/10\n",
            "1875/1875 [==============================] - 5s 2ms/step - loss: 0.0165 - accuracy: 0.9947\n",
            "Epoch 10/10\n",
            "1875/1875 [==============================] - 5s 2ms/step - loss: 0.0140 - accuracy: 0.9956\n",
            "313/313 - 1s - loss: 0.0457 - accuracy: 0.9873\n",
            "test_loss: 0.04574832692742348 \n",
            "test_accuracy: 0.9872999787330627\n"
          ],
          "name": "stdout"
        }
      ]
    }
  ]
}