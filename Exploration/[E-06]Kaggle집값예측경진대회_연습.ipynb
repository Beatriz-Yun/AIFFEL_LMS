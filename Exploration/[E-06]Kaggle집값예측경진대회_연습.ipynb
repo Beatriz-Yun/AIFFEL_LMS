{
  "nbformat": 4,
  "nbformat_minor": 0,
  "metadata": {
    "colab": {
      "name": "[E-06]Kaggle집값예측경진대회_연습.ipynb",
      "provenance": [],
      "collapsed_sections": [],
      "toc_visible": true,
      "mount_file_id": "16YKzm8p4NrdukiL981X0Tl3xZtOdXLvH",
      "authorship_tag": "ABX9TyMMoJoiIrIri2W+F8GZ8AEF",
      "include_colab_link": true
    },
    "kernelspec": {
      "name": "python3",
      "display_name": "Python 3"
    },
    "language_info": {
      "name": "python"
    }
  },
  "cells": [
    {
      "cell_type": "markdown",
      "metadata": {
        "id": "view-in-github",
        "colab_type": "text"
      },
      "source": [
        "<a href=\"https://colab.research.google.com/github/Beatriz-Yun/AIFFEL_LMS/blob/main/Exploration/%5BE-06%5DKaggle%EC%A7%91%EA%B0%92%EC%98%88%EC%B8%A1%EA%B2%BD%EC%A7%84%EB%8C%80%ED%9A%8C_%EC%97%B0%EC%8A%B5.ipynb\" target=\"_parent\"><img src=\"https://colab.research.google.com/assets/colab-badge.svg\" alt=\"Open In Colab\"/></a>"
      ]
    },
    {
      "cell_type": "code",
      "metadata": {
        "colab": {
          "base_uri": "https://localhost:8080/"
        },
        "id": "78RVRIwN5KYd",
        "outputId": "6dd4cfa1-ca8c-40c1-a3aa-7c15d9ef5c74"
      },
      "source": [
        "from google.colab import drive\n",
        "drive.mount('/content/drive')"
      ],
      "execution_count": null,
      "outputs": [
        {
          "output_type": "stream",
          "text": [
            "Mounted at /content/drive\n"
          ],
          "name": "stdout"
        }
      ]
    },
    {
      "cell_type": "markdown",
      "metadata": {
        "id": "eToph-2n-M45"
      },
      "source": [
        "## 학습 목표\n",
        "- 데이터 사이언스 관련 최대 커뮤니티인 캐글의 경진대회에 직접 참여해서 문제를 해결해본다.\n",
        "- 캐글에서 데이터를 내려받는 것으로부터 시작해서, 로컬 서버에서 자유롭게 다루어보며 문제 해결을 위한 고민을 해본다.\n",
        "- 앙상블 기법의 개념과 강점을 이해하고, 여러 모델의 예측 결과를 Averaging 한 최종 결과로 캐글에 제출해본다.\n",
        "- 하이퍼 파라미터 튜닝의 필요성과 의미를 이해하고, Grid Search, Random Search 등의 기법을 알아본다.\n",
        "- Grid Search 기법을 활용해서 직접 하이퍼 파라미터 튜닝 실험을 해보고, 모델의 성능을 최대한 끌어올려본다.\n",
        "\n",
        "<br>\n",
        "\n",
        "---\n",
        "\n",
        "<br>\n",
        "\n",
        "이번 노드에서는 **회귀 모델을 구현**하는 데에 사용하는 **xgboost**와 **lightgbm** 라이브러리와, **결측 데이터를 확인**하는 **missingno** 라이브러리가 필요합니다.<br><br>\n",
        "**pip list | grep 라이브러리명** 명령어를 통해 설치 여부를 확인한다."
      ]
    },
    {
      "cell_type": "code",
      "metadata": {
        "colab": {
          "base_uri": "https://localhost:8080/"
        },
        "id": "1WBtZW039suJ",
        "outputId": "9f5c7205-50fe-46bc-f916-5366a5d0ee53"
      },
      "source": [
        "!pip list | grep xgboost\n",
        "!pip list | grep lightgbm\n",
        "!pip list | grep missingno\n",
        "!pip list | grep scikit-learn"
      ],
      "execution_count": 1,
      "outputs": [
        {
          "output_type": "stream",
          "text": [
            "xgboost                       0.90\n",
            "lightgbm                      2.2.3\n",
            "missingno                     0.5.0\n",
            "scikit-learn                  0.22.2.post1\n"
          ],
          "name": "stdout"
        }
      ]
    },
    {
      "cell_type": "markdown",
      "metadata": {
        "id": "NQcImU51_cEi"
      },
      "source": [
        "실습을 진행할 Kaggle대회 링크<br>\n",
        "--> [Kaggle 코리아와 함께하는 2nd ML 대회 - House Price Prediction](https://www.kaggle.com/c/2019-2nd-ml-month-with-kakr)\n",
        "\n",
        "<br>\n",
        "\n",
        "캐글에는 아주 다양한 경진대회들이 있고, 각 경진대회들은 모두 대회 소개, 데이터셋 소개, 규칙 설명 등 대회에 참가하는 사람들을 위한 세부 내용들로 구성되어 있다.\n",
        "\n",
        "이번 대회의 **평가기준은 RMSE**이다.\n",
        "> RMSE는 Root Mean Squared Error 의 약자이며, 수식은 다음과 같다. $${\\sqrt{ {1 \\over N} \\sum{(y_t - y_{pr})}^2}} $$\n",
        "이는 실제 정답과 예측한 값의 차이의 제곱을 평균한 값의 제곱근이다.\n",
        "\n",
        "이번 대회에서 다루는 문제는 **\"집값\"을 예측하는 문제(회귀문제)**이기 때문에 우리가 예측해야 하는 값과 실제 정답값이 모두 실숫값이다. 따라서 RMSE가 합리적인 평가 척도이다."
      ]
    },
    {
      "cell_type": "markdown",
      "metadata": {
        "id": "Zsf6FNay0YYc"
      },
      "source": [
        "# 1) 데이터 살펴보기\n",
        "\n",
        "**Data fields**\n",
        "1. ID : 집을 구분하는 번호\n",
        "2. date : 집을 구매한 날짜\n",
        "3. price : 집의 가격(Target variable)\n",
        "4. bedrooms : 침실의 수\n",
        "5. bathrooms : 화장실의 수\n",
        "6. sqft_living : 주거 공간의 평방 피트(면적)\n",
        "7. sqft_lot : 부지의 평방 피트(면적)\n",
        "8. floors : 집의 층 수\n",
        "9. waterfront : 집의 전방에 강이 흐르는지 유무 (a.k.a. 리버뷰)\n",
        "10. view : 집이 얼마나 좋아 보이는지의 정도\n",
        "11. condition : 집의 전반적인 상태\n",
        "12. grade : King County grading 시스템 기준으로 매긴 집의 등급\n",
        "13. sqft_above : 지하실을 제외한 평방 피트(면적)\n",
        "14. sqft_basement : 지하실의 평방 피트(면적)\n",
        "15. yr_built : 지어진 년도\n",
        "16. yr_renovated : 집을 재건축한 년도\n",
        "17. zipcode : 우편번호\n",
        "18. lat : 위도\n",
        "19. long : 경도\n",
        "20. sqft_living15 : 2015년 기준 주거 공간의 평방 피트(면적, 집을 재건축했다면, 변화가 있을 수 있음)\n",
        "21. sqft_lot15 : 2015년 기준 부지의 평방 피트(면적, 집을 재건축했다면, 변화가 있을 수 있음)\n",
        "\n",
        "👉 우리가 예측해야 되는 값은 'price'이다."
      ]
    },
    {
      "cell_type": "markdown",
      "metadata": {
        "id": "itvqb_J26mW_"
      },
      "source": [
        "# 2) Baseline 모델 \n",
        "대회에서 baseline은 제공될 수도 안 될 수도 있다.\n",
        "\n",
        "[2019 ML month 2nd baseline 커널](https://www.kaggle.com/kcs93023/2019-ml-month-2nd-baseline) ----> 이 파일을 가져와서 실행해보자."
      ]
    },
    {
      "cell_type": "markdown",
      "metadata": {
        "id": "ekhY5Zc46r-a"
      },
      "source": [
        "## (1) Baseline 셋팅하기"
      ]
    },
    {
      "cell_type": "code",
      "metadata": {
        "id": "FvnR42Rd9UrQ"
      },
      "source": [
        "import matplotlib.pyplot as plt\n",
        "%matplotlib inline\n",
        "%config InlineBackend.figure_format = 'retina'"
      ],
      "execution_count": 2,
      "outputs": []
    },
    {
      "cell_type": "markdown",
      "metadata": {
        "id": "XopNnmha9xhi"
      },
      "source": [
        "## (2) 라이브러리, 데이터 가져오기"
      ]
    },
    {
      "cell_type": "markdown",
      "metadata": {
        "id": "PCj73SNP9-oq"
      },
      "source": [
        "라이브러리 import하기"
      ]
    },
    {
      "cell_type": "code",
      "metadata": {
        "id": "KA4C1r-j9oGz"
      },
      "source": [
        "import warnings\n",
        "warnings.filterwarnings(\"ignore\")\n",
        "\n",
        "import os\n",
        "from os.path import join\n",
        "\n",
        "import pandas as pd\n",
        "import numpy as np\n",
        "\n",
        "import missingno as msno\n",
        "\n",
        "from sklearn.ensemble import GradientBoostingRegressor\n",
        "from sklearn.model_selection import KFold, cross_val_score\n",
        "import xgboost as xgb\n",
        "import lightgbm as lgb\n",
        "\n",
        "import matplotlib.pyplot as plt\n",
        "import seaborn as sns"
      ],
      "execution_count": 3,
      "outputs": []
    },
    {
      "cell_type": "markdown",
      "metadata": {
        "id": "y0GxYCdX-CTl"
      },
      "source": [
        "데이터 가져오기"
      ]
    },
    {
      "cell_type": "code",
      "metadata": {
        "colab": {
          "base_uri": "https://localhost:8080/"
        },
        "id": "7HRZ-34x-Dmq",
        "outputId": "574de2ff-159c-42b5-8d04-a31b9a1be7c1"
      },
      "source": [
        "base_path = '/content/drive/MyDrive/Colab Notebooks/AIFFEL_LMS/data'\n",
        "\n",
        "train_data_path = join(base_path, 'train.csv')\n",
        "sub_data_path = join(base_path, 'test.csv')\n",
        "\n",
        "print(train_data_path)\n",
        "print(sub_data_path)"
      ],
      "execution_count": 107,
      "outputs": [
        {
          "output_type": "stream",
          "text": [
            "/content/drive/MyDrive/Colab Notebooks/AIFFEL_LMS/data/train.csv\n",
            "/content/drive/MyDrive/Colab Notebooks/AIFFEL_LMS/data/test.csv\n"
          ],
          "name": "stdout"
        }
      ]
    },
    {
      "cell_type": "markdown",
      "metadata": {
        "id": "62xOwLEo-avd"
      },
      "source": [
        "## (3) 데이터 이해하기"
      ]
    },
    {
      "cell_type": "markdown",
      "metadata": {
        "id": "ntmDBy_I-gWF"
      },
      "source": [
        "### 데이터 불러오기\n",
        "- data ---> train.csv 파일의 데이터\n",
        "- sub ---> test.csv 파일의 데이터"
      ]
    },
    {
      "cell_type": "code",
      "metadata": {
        "colab": {
          "base_uri": "https://localhost:8080/"
        },
        "id": "e5yO39A6-uC-",
        "outputId": "d51a9119-210a-40ee-8795-5e703827f4b4"
      },
      "source": [
        "data = pd.read_csv(train_data_path)\n",
        "sub = pd.read_csv(sub_data_path)\n",
        "\n",
        "print('train data dim : {}'.format(data.shape))\n",
        "print('sub data dim : {}'.format(sub.shape))"
      ],
      "execution_count": 108,
      "outputs": [
        {
          "output_type": "stream",
          "text": [
            "train data dim : (15035, 21)\n",
            "sub data dim : (6468, 20)\n"
          ],
          "name": "stdout"
        }
      ]
    },
    {
      "cell_type": "code",
      "metadata": {
        "colab": {
          "base_uri": "https://localhost:8080/",
          "height": 439
        },
        "id": "p_dL03LD08Z0",
        "outputId": "4cc97871-0265-4328-c7dd-d608cc186b7c"
      },
      "source": [
        "sub"
      ],
      "execution_count": 109,
      "outputs": [
        {
          "output_type": "execute_result",
          "data": {
            "text/html": [
              "<div>\n",
              "<style scoped>\n",
              "    .dataframe tbody tr th:only-of-type {\n",
              "        vertical-align: middle;\n",
              "    }\n",
              "\n",
              "    .dataframe tbody tr th {\n",
              "        vertical-align: top;\n",
              "    }\n",
              "\n",
              "    .dataframe thead th {\n",
              "        text-align: right;\n",
              "    }\n",
              "</style>\n",
              "<table border=\"1\" class=\"dataframe\">\n",
              "  <thead>\n",
              "    <tr style=\"text-align: right;\">\n",
              "      <th></th>\n",
              "      <th>id</th>\n",
              "      <th>date</th>\n",
              "      <th>bedrooms</th>\n",
              "      <th>bathrooms</th>\n",
              "      <th>sqft_living</th>\n",
              "      <th>sqft_lot</th>\n",
              "      <th>floors</th>\n",
              "      <th>waterfront</th>\n",
              "      <th>view</th>\n",
              "      <th>condition</th>\n",
              "      <th>grade</th>\n",
              "      <th>sqft_above</th>\n",
              "      <th>sqft_basement</th>\n",
              "      <th>yr_built</th>\n",
              "      <th>yr_renovated</th>\n",
              "      <th>zipcode</th>\n",
              "      <th>lat</th>\n",
              "      <th>long</th>\n",
              "      <th>sqft_living15</th>\n",
              "      <th>sqft_lot15</th>\n",
              "    </tr>\n",
              "  </thead>\n",
              "  <tbody>\n",
              "    <tr>\n",
              "      <th>0</th>\n",
              "      <td>15035</td>\n",
              "      <td>20141209T000000</td>\n",
              "      <td>3</td>\n",
              "      <td>2.25</td>\n",
              "      <td>2570</td>\n",
              "      <td>7242</td>\n",
              "      <td>2.0</td>\n",
              "      <td>0</td>\n",
              "      <td>0</td>\n",
              "      <td>3</td>\n",
              "      <td>7</td>\n",
              "      <td>2170</td>\n",
              "      <td>400</td>\n",
              "      <td>1951</td>\n",
              "      <td>1991</td>\n",
              "      <td>98125</td>\n",
              "      <td>47.7210</td>\n",
              "      <td>-122.319</td>\n",
              "      <td>1690</td>\n",
              "      <td>7639</td>\n",
              "    </tr>\n",
              "    <tr>\n",
              "      <th>1</th>\n",
              "      <td>15036</td>\n",
              "      <td>20141209T000000</td>\n",
              "      <td>4</td>\n",
              "      <td>3.00</td>\n",
              "      <td>1960</td>\n",
              "      <td>5000</td>\n",
              "      <td>1.0</td>\n",
              "      <td>0</td>\n",
              "      <td>0</td>\n",
              "      <td>5</td>\n",
              "      <td>7</td>\n",
              "      <td>1050</td>\n",
              "      <td>910</td>\n",
              "      <td>1965</td>\n",
              "      <td>0</td>\n",
              "      <td>98136</td>\n",
              "      <td>47.5208</td>\n",
              "      <td>-122.393</td>\n",
              "      <td>1360</td>\n",
              "      <td>5000</td>\n",
              "    </tr>\n",
              "    <tr>\n",
              "      <th>2</th>\n",
              "      <td>15037</td>\n",
              "      <td>20140512T000000</td>\n",
              "      <td>4</td>\n",
              "      <td>4.50</td>\n",
              "      <td>5420</td>\n",
              "      <td>101930</td>\n",
              "      <td>1.0</td>\n",
              "      <td>0</td>\n",
              "      <td>0</td>\n",
              "      <td>3</td>\n",
              "      <td>11</td>\n",
              "      <td>3890</td>\n",
              "      <td>1530</td>\n",
              "      <td>2001</td>\n",
              "      <td>0</td>\n",
              "      <td>98053</td>\n",
              "      <td>47.6561</td>\n",
              "      <td>-122.005</td>\n",
              "      <td>4760</td>\n",
              "      <td>101930</td>\n",
              "    </tr>\n",
              "    <tr>\n",
              "      <th>3</th>\n",
              "      <td>15038</td>\n",
              "      <td>20150415T000000</td>\n",
              "      <td>3</td>\n",
              "      <td>1.00</td>\n",
              "      <td>1780</td>\n",
              "      <td>7470</td>\n",
              "      <td>1.0</td>\n",
              "      <td>0</td>\n",
              "      <td>0</td>\n",
              "      <td>3</td>\n",
              "      <td>7</td>\n",
              "      <td>1050</td>\n",
              "      <td>730</td>\n",
              "      <td>1960</td>\n",
              "      <td>0</td>\n",
              "      <td>98146</td>\n",
              "      <td>47.5123</td>\n",
              "      <td>-122.337</td>\n",
              "      <td>1780</td>\n",
              "      <td>8113</td>\n",
              "    </tr>\n",
              "    <tr>\n",
              "      <th>4</th>\n",
              "      <td>15039</td>\n",
              "      <td>20150312T000000</td>\n",
              "      <td>3</td>\n",
              "      <td>2.50</td>\n",
              "      <td>1890</td>\n",
              "      <td>6560</td>\n",
              "      <td>2.0</td>\n",
              "      <td>0</td>\n",
              "      <td>0</td>\n",
              "      <td>3</td>\n",
              "      <td>7</td>\n",
              "      <td>1890</td>\n",
              "      <td>0</td>\n",
              "      <td>2003</td>\n",
              "      <td>0</td>\n",
              "      <td>98038</td>\n",
              "      <td>47.3684</td>\n",
              "      <td>-122.031</td>\n",
              "      <td>2390</td>\n",
              "      <td>7570</td>\n",
              "    </tr>\n",
              "    <tr>\n",
              "      <th>...</th>\n",
              "      <td>...</td>\n",
              "      <td>...</td>\n",
              "      <td>...</td>\n",
              "      <td>...</td>\n",
              "      <td>...</td>\n",
              "      <td>...</td>\n",
              "      <td>...</td>\n",
              "      <td>...</td>\n",
              "      <td>...</td>\n",
              "      <td>...</td>\n",
              "      <td>...</td>\n",
              "      <td>...</td>\n",
              "      <td>...</td>\n",
              "      <td>...</td>\n",
              "      <td>...</td>\n",
              "      <td>...</td>\n",
              "      <td>...</td>\n",
              "      <td>...</td>\n",
              "      <td>...</td>\n",
              "      <td>...</td>\n",
              "    </tr>\n",
              "    <tr>\n",
              "      <th>6463</th>\n",
              "      <td>21498</td>\n",
              "      <td>20140626T000000</td>\n",
              "      <td>3</td>\n",
              "      <td>1.75</td>\n",
              "      <td>1500</td>\n",
              "      <td>11968</td>\n",
              "      <td>1.0</td>\n",
              "      <td>0</td>\n",
              "      <td>0</td>\n",
              "      <td>3</td>\n",
              "      <td>6</td>\n",
              "      <td>1500</td>\n",
              "      <td>0</td>\n",
              "      <td>2014</td>\n",
              "      <td>0</td>\n",
              "      <td>98010</td>\n",
              "      <td>47.3095</td>\n",
              "      <td>-122.002</td>\n",
              "      <td>1320</td>\n",
              "      <td>11303</td>\n",
              "    </tr>\n",
              "    <tr>\n",
              "      <th>6464</th>\n",
              "      <td>21499</td>\n",
              "      <td>20150126T000000</td>\n",
              "      <td>3</td>\n",
              "      <td>2.00</td>\n",
              "      <td>1490</td>\n",
              "      <td>1126</td>\n",
              "      <td>3.0</td>\n",
              "      <td>0</td>\n",
              "      <td>0</td>\n",
              "      <td>3</td>\n",
              "      <td>8</td>\n",
              "      <td>1490</td>\n",
              "      <td>0</td>\n",
              "      <td>2014</td>\n",
              "      <td>0</td>\n",
              "      <td>98144</td>\n",
              "      <td>47.5699</td>\n",
              "      <td>-122.288</td>\n",
              "      <td>1400</td>\n",
              "      <td>1230</td>\n",
              "    </tr>\n",
              "    <tr>\n",
              "      <th>6465</th>\n",
              "      <td>21500</td>\n",
              "      <td>20150219T000000</td>\n",
              "      <td>3</td>\n",
              "      <td>2.50</td>\n",
              "      <td>1310</td>\n",
              "      <td>1294</td>\n",
              "      <td>2.0</td>\n",
              "      <td>0</td>\n",
              "      <td>0</td>\n",
              "      <td>3</td>\n",
              "      <td>8</td>\n",
              "      <td>1180</td>\n",
              "      <td>130</td>\n",
              "      <td>2008</td>\n",
              "      <td>0</td>\n",
              "      <td>98116</td>\n",
              "      <td>47.5773</td>\n",
              "      <td>-122.409</td>\n",
              "      <td>1330</td>\n",
              "      <td>1265</td>\n",
              "    </tr>\n",
              "    <tr>\n",
              "      <th>6466</th>\n",
              "      <td>21501</td>\n",
              "      <td>20140623T000000</td>\n",
              "      <td>2</td>\n",
              "      <td>0.75</td>\n",
              "      <td>1020</td>\n",
              "      <td>1350</td>\n",
              "      <td>2.0</td>\n",
              "      <td>0</td>\n",
              "      <td>0</td>\n",
              "      <td>3</td>\n",
              "      <td>7</td>\n",
              "      <td>1020</td>\n",
              "      <td>0</td>\n",
              "      <td>2009</td>\n",
              "      <td>0</td>\n",
              "      <td>98144</td>\n",
              "      <td>47.5944</td>\n",
              "      <td>-122.299</td>\n",
              "      <td>1020</td>\n",
              "      <td>2007</td>\n",
              "    </tr>\n",
              "    <tr>\n",
              "      <th>6467</th>\n",
              "      <td>21502</td>\n",
              "      <td>20150116T000000</td>\n",
              "      <td>3</td>\n",
              "      <td>2.50</td>\n",
              "      <td>1600</td>\n",
              "      <td>2388</td>\n",
              "      <td>2.0</td>\n",
              "      <td>0</td>\n",
              "      <td>0</td>\n",
              "      <td>3</td>\n",
              "      <td>8</td>\n",
              "      <td>1600</td>\n",
              "      <td>0</td>\n",
              "      <td>2004</td>\n",
              "      <td>0</td>\n",
              "      <td>98027</td>\n",
              "      <td>47.5345</td>\n",
              "      <td>-122.069</td>\n",
              "      <td>1410</td>\n",
              "      <td>1287</td>\n",
              "    </tr>\n",
              "  </tbody>\n",
              "</table>\n",
              "<p>6468 rows × 20 columns</p>\n",
              "</div>"
            ],
            "text/plain": [
              "         id             date  bedrooms  ...     long  sqft_living15  sqft_lot15\n",
              "0     15035  20141209T000000         3  ... -122.319           1690        7639\n",
              "1     15036  20141209T000000         4  ... -122.393           1360        5000\n",
              "2     15037  20140512T000000         4  ... -122.005           4760      101930\n",
              "3     15038  20150415T000000         3  ... -122.337           1780        8113\n",
              "4     15039  20150312T000000         3  ... -122.031           2390        7570\n",
              "...     ...              ...       ...  ...      ...            ...         ...\n",
              "6463  21498  20140626T000000         3  ... -122.002           1320       11303\n",
              "6464  21499  20150126T000000         3  ... -122.288           1400        1230\n",
              "6465  21500  20150219T000000         3  ... -122.409           1330        1265\n",
              "6466  21501  20140623T000000         2  ... -122.299           1020        2007\n",
              "6467  21502  20150116T000000         3  ... -122.069           1410        1287\n",
              "\n",
              "[6468 rows x 20 columns]"
            ]
          },
          "metadata": {
            "tags": []
          },
          "execution_count": 109
        }
      ]
    },
    {
      "cell_type": "markdown",
      "metadata": {
        "id": "mUB7HH94-von"
      },
      "source": [
        "### 학습 데이터에서 라벨 제거하기\n",
        "- 이번 문제에서 라벨은 price칼럼이다. -----> 변수 y에 저장 후 칼럼을 제거"
      ]
    },
    {
      "cell_type": "code",
      "metadata": {
        "colab": {
          "base_uri": "https://localhost:8080/"
        },
        "id": "T3J9Rlyo_Lce",
        "outputId": "dfe58b16-e685-44ca-dd70-a2089fa98df5"
      },
      "source": [
        "print(data.columns)\n",
        "\n",
        "y = data['price']\n",
        "\n",
        "#del data['price']   # drop과 같은 동작\n",
        "data.drop(columns='price', inplace=True)\n",
        "\n",
        "print(data.columns)"
      ],
      "execution_count": 110,
      "outputs": [
        {
          "output_type": "stream",
          "text": [
            "Index(['id', 'date', 'price', 'bedrooms', 'bathrooms', 'sqft_living',\n",
            "       'sqft_lot', 'floors', 'waterfront', 'view', 'condition', 'grade',\n",
            "       'sqft_above', 'sqft_basement', 'yr_built', 'yr_renovated', 'zipcode',\n",
            "       'lat', 'long', 'sqft_living15', 'sqft_lot15'],\n",
            "      dtype='object')\n",
            "Index(['id', 'date', 'bedrooms', 'bathrooms', 'sqft_living', 'sqft_lot',\n",
            "       'floors', 'waterfront', 'view', 'condition', 'grade', 'sqft_above',\n",
            "       'sqft_basement', 'yr_built', 'yr_renovated', 'zipcode', 'lat', 'long',\n",
            "       'sqft_living15', 'sqft_lot15'],\n",
            "      dtype='object')\n"
          ],
          "name": "stdout"
        }
      ]
    },
    {
      "cell_type": "markdown",
      "metadata": {
        "id": "bELlys0uAPpA"
      },
      "source": [
        "### 학습 데이터와 테스트 데이터 합치기\n",
        "전체 데이터를 탐색해보기 위해 두 데이터를 합친다.<br>\n",
        "나중에 다시 분리하기 위해 각 데이터의 길이를 저장해놓는다."
      ]
    },
    {
      "cell_type": "code",
      "metadata": {
        "colab": {
          "base_uri": "https://localhost:8080/"
        },
        "id": "ikGBxvweAT-m",
        "outputId": "e3fc302b-6b3d-4962-a99d-19c27dc47605"
      },
      "source": [
        "train_len = len(data)\n",
        "data = pd.concat((data, sub), axis=0)\n",
        "\n",
        "print(len(data))   # train데이터 15035개와 test데이터 6555개를 더한 값과 같다. "
      ],
      "execution_count": 111,
      "outputs": [
        {
          "output_type": "stream",
          "text": [
            "21503\n"
          ],
          "name": "stdout"
        }
      ]
    },
    {
      "cell_type": "code",
      "metadata": {
        "colab": {
          "base_uri": "https://localhost:8080/",
          "height": 379
        },
        "id": "ZSgireQYAcsh",
        "outputId": "91ca74a1-a4a6-4b19-d4a0-055debc15475"
      },
      "source": [
        "data.head(10)"
      ],
      "execution_count": 112,
      "outputs": [
        {
          "output_type": "execute_result",
          "data": {
            "text/html": [
              "<div>\n",
              "<style scoped>\n",
              "    .dataframe tbody tr th:only-of-type {\n",
              "        vertical-align: middle;\n",
              "    }\n",
              "\n",
              "    .dataframe tbody tr th {\n",
              "        vertical-align: top;\n",
              "    }\n",
              "\n",
              "    .dataframe thead th {\n",
              "        text-align: right;\n",
              "    }\n",
              "</style>\n",
              "<table border=\"1\" class=\"dataframe\">\n",
              "  <thead>\n",
              "    <tr style=\"text-align: right;\">\n",
              "      <th></th>\n",
              "      <th>id</th>\n",
              "      <th>date</th>\n",
              "      <th>bedrooms</th>\n",
              "      <th>bathrooms</th>\n",
              "      <th>sqft_living</th>\n",
              "      <th>sqft_lot</th>\n",
              "      <th>floors</th>\n",
              "      <th>waterfront</th>\n",
              "      <th>view</th>\n",
              "      <th>condition</th>\n",
              "      <th>grade</th>\n",
              "      <th>sqft_above</th>\n",
              "      <th>sqft_basement</th>\n",
              "      <th>yr_built</th>\n",
              "      <th>yr_renovated</th>\n",
              "      <th>zipcode</th>\n",
              "      <th>lat</th>\n",
              "      <th>long</th>\n",
              "      <th>sqft_living15</th>\n",
              "      <th>sqft_lot15</th>\n",
              "    </tr>\n",
              "  </thead>\n",
              "  <tbody>\n",
              "    <tr>\n",
              "      <th>0</th>\n",
              "      <td>0</td>\n",
              "      <td>20141013T000000</td>\n",
              "      <td>3</td>\n",
              "      <td>1.00</td>\n",
              "      <td>1180</td>\n",
              "      <td>5650</td>\n",
              "      <td>1.0</td>\n",
              "      <td>0</td>\n",
              "      <td>0</td>\n",
              "      <td>3</td>\n",
              "      <td>7</td>\n",
              "      <td>1180</td>\n",
              "      <td>0</td>\n",
              "      <td>1955</td>\n",
              "      <td>0</td>\n",
              "      <td>98178</td>\n",
              "      <td>47.5112</td>\n",
              "      <td>-122.257</td>\n",
              "      <td>1340</td>\n",
              "      <td>5650</td>\n",
              "    </tr>\n",
              "    <tr>\n",
              "      <th>1</th>\n",
              "      <td>1</td>\n",
              "      <td>20150225T000000</td>\n",
              "      <td>2</td>\n",
              "      <td>1.00</td>\n",
              "      <td>770</td>\n",
              "      <td>10000</td>\n",
              "      <td>1.0</td>\n",
              "      <td>0</td>\n",
              "      <td>0</td>\n",
              "      <td>3</td>\n",
              "      <td>6</td>\n",
              "      <td>770</td>\n",
              "      <td>0</td>\n",
              "      <td>1933</td>\n",
              "      <td>0</td>\n",
              "      <td>98028</td>\n",
              "      <td>47.7379</td>\n",
              "      <td>-122.233</td>\n",
              "      <td>2720</td>\n",
              "      <td>8062</td>\n",
              "    </tr>\n",
              "    <tr>\n",
              "      <th>2</th>\n",
              "      <td>2</td>\n",
              "      <td>20150218T000000</td>\n",
              "      <td>3</td>\n",
              "      <td>2.00</td>\n",
              "      <td>1680</td>\n",
              "      <td>8080</td>\n",
              "      <td>1.0</td>\n",
              "      <td>0</td>\n",
              "      <td>0</td>\n",
              "      <td>3</td>\n",
              "      <td>8</td>\n",
              "      <td>1680</td>\n",
              "      <td>0</td>\n",
              "      <td>1987</td>\n",
              "      <td>0</td>\n",
              "      <td>98074</td>\n",
              "      <td>47.6168</td>\n",
              "      <td>-122.045</td>\n",
              "      <td>1800</td>\n",
              "      <td>7503</td>\n",
              "    </tr>\n",
              "    <tr>\n",
              "      <th>3</th>\n",
              "      <td>3</td>\n",
              "      <td>20140627T000000</td>\n",
              "      <td>3</td>\n",
              "      <td>2.25</td>\n",
              "      <td>1715</td>\n",
              "      <td>6819</td>\n",
              "      <td>2.0</td>\n",
              "      <td>0</td>\n",
              "      <td>0</td>\n",
              "      <td>3</td>\n",
              "      <td>7</td>\n",
              "      <td>1715</td>\n",
              "      <td>0</td>\n",
              "      <td>1995</td>\n",
              "      <td>0</td>\n",
              "      <td>98003</td>\n",
              "      <td>47.3097</td>\n",
              "      <td>-122.327</td>\n",
              "      <td>2238</td>\n",
              "      <td>6819</td>\n",
              "    </tr>\n",
              "    <tr>\n",
              "      <th>4</th>\n",
              "      <td>4</td>\n",
              "      <td>20150115T000000</td>\n",
              "      <td>3</td>\n",
              "      <td>1.50</td>\n",
              "      <td>1060</td>\n",
              "      <td>9711</td>\n",
              "      <td>1.0</td>\n",
              "      <td>0</td>\n",
              "      <td>0</td>\n",
              "      <td>3</td>\n",
              "      <td>7</td>\n",
              "      <td>1060</td>\n",
              "      <td>0</td>\n",
              "      <td>1963</td>\n",
              "      <td>0</td>\n",
              "      <td>98198</td>\n",
              "      <td>47.4095</td>\n",
              "      <td>-122.315</td>\n",
              "      <td>1650</td>\n",
              "      <td>9711</td>\n",
              "    </tr>\n",
              "    <tr>\n",
              "      <th>5</th>\n",
              "      <td>5</td>\n",
              "      <td>20150403T000000</td>\n",
              "      <td>3</td>\n",
              "      <td>2.50</td>\n",
              "      <td>3560</td>\n",
              "      <td>9796</td>\n",
              "      <td>1.0</td>\n",
              "      <td>0</td>\n",
              "      <td>0</td>\n",
              "      <td>3</td>\n",
              "      <td>8</td>\n",
              "      <td>1860</td>\n",
              "      <td>1700</td>\n",
              "      <td>1965</td>\n",
              "      <td>0</td>\n",
              "      <td>98007</td>\n",
              "      <td>47.6007</td>\n",
              "      <td>-122.145</td>\n",
              "      <td>2210</td>\n",
              "      <td>8925</td>\n",
              "    </tr>\n",
              "    <tr>\n",
              "      <th>6</th>\n",
              "      <td>6</td>\n",
              "      <td>20140527T000000</td>\n",
              "      <td>2</td>\n",
              "      <td>1.00</td>\n",
              "      <td>1160</td>\n",
              "      <td>6000</td>\n",
              "      <td>1.0</td>\n",
              "      <td>0</td>\n",
              "      <td>0</td>\n",
              "      <td>4</td>\n",
              "      <td>7</td>\n",
              "      <td>860</td>\n",
              "      <td>300</td>\n",
              "      <td>1942</td>\n",
              "      <td>0</td>\n",
              "      <td>98115</td>\n",
              "      <td>47.6900</td>\n",
              "      <td>-122.292</td>\n",
              "      <td>1330</td>\n",
              "      <td>6000</td>\n",
              "    </tr>\n",
              "    <tr>\n",
              "      <th>7</th>\n",
              "      <td>7</td>\n",
              "      <td>20140528T000000</td>\n",
              "      <td>3</td>\n",
              "      <td>1.00</td>\n",
              "      <td>1430</td>\n",
              "      <td>19901</td>\n",
              "      <td>1.5</td>\n",
              "      <td>0</td>\n",
              "      <td>0</td>\n",
              "      <td>4</td>\n",
              "      <td>7</td>\n",
              "      <td>1430</td>\n",
              "      <td>0</td>\n",
              "      <td>1927</td>\n",
              "      <td>0</td>\n",
              "      <td>98028</td>\n",
              "      <td>47.7558</td>\n",
              "      <td>-122.229</td>\n",
              "      <td>1780</td>\n",
              "      <td>12697</td>\n",
              "    </tr>\n",
              "    <tr>\n",
              "      <th>8</th>\n",
              "      <td>8</td>\n",
              "      <td>20141007T000000</td>\n",
              "      <td>3</td>\n",
              "      <td>1.75</td>\n",
              "      <td>1370</td>\n",
              "      <td>9680</td>\n",
              "      <td>1.0</td>\n",
              "      <td>0</td>\n",
              "      <td>0</td>\n",
              "      <td>4</td>\n",
              "      <td>7</td>\n",
              "      <td>1370</td>\n",
              "      <td>0</td>\n",
              "      <td>1977</td>\n",
              "      <td>0</td>\n",
              "      <td>98074</td>\n",
              "      <td>47.6127</td>\n",
              "      <td>-122.045</td>\n",
              "      <td>1370</td>\n",
              "      <td>10208</td>\n",
              "    </tr>\n",
              "    <tr>\n",
              "      <th>9</th>\n",
              "      <td>9</td>\n",
              "      <td>20150312T000000</td>\n",
              "      <td>5</td>\n",
              "      <td>2.00</td>\n",
              "      <td>1810</td>\n",
              "      <td>4850</td>\n",
              "      <td>1.5</td>\n",
              "      <td>0</td>\n",
              "      <td>0</td>\n",
              "      <td>3</td>\n",
              "      <td>7</td>\n",
              "      <td>1810</td>\n",
              "      <td>0</td>\n",
              "      <td>1900</td>\n",
              "      <td>0</td>\n",
              "      <td>98107</td>\n",
              "      <td>47.6700</td>\n",
              "      <td>-122.394</td>\n",
              "      <td>1360</td>\n",
              "      <td>4850</td>\n",
              "    </tr>\n",
              "  </tbody>\n",
              "</table>\n",
              "</div>"
            ],
            "text/plain": [
              "   id             date  bedrooms  ...     long  sqft_living15  sqft_lot15\n",
              "0   0  20141013T000000         3  ... -122.257           1340        5650\n",
              "1   1  20150225T000000         2  ... -122.233           2720        8062\n",
              "2   2  20150218T000000         3  ... -122.045           1800        7503\n",
              "3   3  20140627T000000         3  ... -122.327           2238        6819\n",
              "4   4  20150115T000000         3  ... -122.315           1650        9711\n",
              "5   5  20150403T000000         3  ... -122.145           2210        8925\n",
              "6   6  20140527T000000         2  ... -122.292           1330        6000\n",
              "7   7  20140528T000000         3  ... -122.229           1780       12697\n",
              "8   8  20141007T000000         3  ... -122.045           1370       10208\n",
              "9   9  20150312T000000         5  ... -122.394           1360        4850\n",
              "\n",
              "[10 rows x 20 columns]"
            ]
          },
          "metadata": {
            "tags": []
          },
          "execution_count": 112
        }
      ]
    },
    {
      "cell_type": "markdown",
      "metadata": {
        "id": "PJA8L6MMAj5d"
      },
      "source": [
        "### 간단한 전처리\n",
        "- 결측치와 전체 데이터의 분포를 확인한다.\n",
        "\n",
        "<br>\n",
        "\n",
        "**1. 결측치 확인**\n",
        "\n",
        "**missingno 라이브러리의 matrix함수**를 사용해서 데이터의 결측 상태를 시각화한다.<br>\n",
        "=> 결측치가 없다."
      ]
    },
    {
      "cell_type": "code",
      "metadata": {
        "colab": {
          "base_uri": "https://localhost:8080/",
          "height": 707
        },
        "id": "OMjpicXxUPPZ",
        "outputId": "df56ab8e-c5a4-4299-963b-c63b96331635"
      },
      "source": [
        "msno.matrix(data)"
      ],
      "execution_count": 113,
      "outputs": [
        {
          "output_type": "execute_result",
          "data": {
            "text/plain": [
              "<matplotlib.axes._subplots.AxesSubplot at 0x7f0125400910>"
            ]
          },
          "metadata": {
            "tags": []
          },
          "execution_count": 113
        },
        {
          "output_type": "display_data",
          "data": {
            "image/png": "[encoded data removed]",
            "text/plain": [
              "<Figure size 1800x720 with 2 Axes>"
            ]
          },
          "metadata": {
            "tags": [],
            "image/png": {
              "width": 1497,
              "height": 672
            },
            "needs_background": "light"
          }
        }
      ]
    },
    {
      "cell_type": "markdown",
      "metadata": {
        "id": "vzmgXvZKVgAF"
      },
      "source": [
        "pandas의 **isnull함수**를 사용해 다시한번 확인한다."
      ]
    },
    {
      "cell_type": "code",
      "metadata": {
        "colab": {
          "base_uri": "https://localhost:8080/"
        },
        "id": "4qi6-O-HVY0_",
        "outputId": "f4474345-5681-4fb2-ed61-88c15984b3b4"
      },
      "source": [
        "for c in data.columns:\n",
        "    print('{} : {}'.format(c, len(data.loc[pd.isnull(data[c]), c].values)))"
      ],
      "execution_count": 114,
      "outputs": [
        {
          "output_type": "stream",
          "text": [
            "id : 0\n",
            "date : 0\n",
            "bedrooms : 0\n",
            "bathrooms : 0\n",
            "sqft_living : 0\n",
            "sqft_lot : 0\n",
            "floors : 0\n",
            "waterfront : 0\n",
            "view : 0\n",
            "condition : 0\n",
            "grade : 0\n",
            "sqft_above : 0\n",
            "sqft_basement : 0\n",
            "yr_built : 0\n",
            "yr_renovated : 0\n",
            "zipcode : 0\n",
            "lat : 0\n",
            "long : 0\n",
            "sqft_living15 : 0\n",
            "sqft_lot15 : 0\n"
          ],
          "name": "stdout"
        }
      ]
    },
    {
      "cell_type": "markdown",
      "metadata": {
        "id": "xFmuIQO_VoxP"
      },
      "source": [
        "**2. id, date 칼럼 처리**\n",
        "- id칼럼은 집값을 예측하는데 도움을 주지 않으므로 제거한다."
      ]
    },
    {
      "cell_type": "code",
      "metadata": {
        "colab": {
          "base_uri": "https://localhost:8080/"
        },
        "id": "RFoA6w8YqT40",
        "outputId": "b1cce709-9501-4411-9806-312084f3da01"
      },
      "source": [
        "sub_id = data['id'][train_len:]   # test데이터의 'id'값 모두 가져오기\n",
        "del data['id']\n",
        "\n",
        "print(data.columns)"
      ],
      "execution_count": 115,
      "outputs": [
        {
          "output_type": "stream",
          "text": [
            "Index(['date', 'bedrooms', 'bathrooms', 'sqft_living', 'sqft_lot', 'floors',\n",
            "       'waterfront', 'view', 'condition', 'grade', 'sqft_above',\n",
            "       'sqft_basement', 'yr_built', 'yr_renovated', 'zipcode', 'lat', 'long',\n",
            "       'sqft_living15', 'sqft_lot15'],\n",
            "      dtype='object')\n"
          ],
          "name": "stdout"
        }
      ]
    },
    {
      "cell_type": "markdown",
      "metadata": {
        "id": "j8PdzBYaq-f6"
      },
      "source": [
        "- date변수는 연월일시간의 값을 가지고 있는데, 연월만 고려하는 범주형 변수로 만든다."
      ]
    },
    {
      "cell_type": "code",
      "metadata": {
        "colab": {
          "base_uri": "https://localhost:8080/",
          "height": 440
        },
        "id": "ZeehuK23Q9lE",
        "outputId": "301fee6c-1e76-481c-e98d-8a6880b3f28e"
      },
      "source": [
        "print(data['date'])\n",
        "data['date'] = data['date'].apply(lambda x : str(x[:6]))    # date칼럼의 값에서 처음 6개 문자(연월일)만 가져온다.\n",
        "\n",
        "data.head()"
      ],
      "execution_count": 116,
      "outputs": [
        {
          "output_type": "stream",
          "text": [
            "0       20141013T000000\n",
            "1       20150225T000000\n",
            "2       20150218T000000\n",
            "3       20140627T000000\n",
            "4       20150115T000000\n",
            "             ...       \n",
            "6463    20140626T000000\n",
            "6464    20150126T000000\n",
            "6465    20150219T000000\n",
            "6466    20140623T000000\n",
            "6467    20150116T000000\n",
            "Name: date, Length: 21503, dtype: object\n"
          ],
          "name": "stdout"
        },
        {
          "output_type": "execute_result",
          "data": {
            "text/html": [
              "<div>\n",
              "<style scoped>\n",
              "    .dataframe tbody tr th:only-of-type {\n",
              "        vertical-align: middle;\n",
              "    }\n",
              "\n",
              "    .dataframe tbody tr th {\n",
              "        vertical-align: top;\n",
              "    }\n",
              "\n",
              "    .dataframe thead th {\n",
              "        text-align: right;\n",
              "    }\n",
              "</style>\n",
              "<table border=\"1\" class=\"dataframe\">\n",
              "  <thead>\n",
              "    <tr style=\"text-align: right;\">\n",
              "      <th></th>\n",
              "      <th>date</th>\n",
              "      <th>bedrooms</th>\n",
              "      <th>bathrooms</th>\n",
              "      <th>sqft_living</th>\n",
              "      <th>sqft_lot</th>\n",
              "      <th>floors</th>\n",
              "      <th>waterfront</th>\n",
              "      <th>view</th>\n",
              "      <th>condition</th>\n",
              "      <th>grade</th>\n",
              "      <th>sqft_above</th>\n",
              "      <th>sqft_basement</th>\n",
              "      <th>yr_built</th>\n",
              "      <th>yr_renovated</th>\n",
              "      <th>zipcode</th>\n",
              "      <th>lat</th>\n",
              "      <th>long</th>\n",
              "      <th>sqft_living15</th>\n",
              "      <th>sqft_lot15</th>\n",
              "    </tr>\n",
              "  </thead>\n",
              "  <tbody>\n",
              "    <tr>\n",
              "      <th>0</th>\n",
              "      <td>201410</td>\n",
              "      <td>3</td>\n",
              "      <td>1.00</td>\n",
              "      <td>1180</td>\n",
              "      <td>5650</td>\n",
              "      <td>1.0</td>\n",
              "      <td>0</td>\n",
              "      <td>0</td>\n",
              "      <td>3</td>\n",
              "      <td>7</td>\n",
              "      <td>1180</td>\n",
              "      <td>0</td>\n",
              "      <td>1955</td>\n",
              "      <td>0</td>\n",
              "      <td>98178</td>\n",
              "      <td>47.5112</td>\n",
              "      <td>-122.257</td>\n",
              "      <td>1340</td>\n",
              "      <td>5650</td>\n",
              "    </tr>\n",
              "    <tr>\n",
              "      <th>1</th>\n",
              "      <td>201502</td>\n",
              "      <td>2</td>\n",
              "      <td>1.00</td>\n",
              "      <td>770</td>\n",
              "      <td>10000</td>\n",
              "      <td>1.0</td>\n",
              "      <td>0</td>\n",
              "      <td>0</td>\n",
              "      <td>3</td>\n",
              "      <td>6</td>\n",
              "      <td>770</td>\n",
              "      <td>0</td>\n",
              "      <td>1933</td>\n",
              "      <td>0</td>\n",
              "      <td>98028</td>\n",
              "      <td>47.7379</td>\n",
              "      <td>-122.233</td>\n",
              "      <td>2720</td>\n",
              "      <td>8062</td>\n",
              "    </tr>\n",
              "    <tr>\n",
              "      <th>2</th>\n",
              "      <td>201502</td>\n",
              "      <td>3</td>\n",
              "      <td>2.00</td>\n",
              "      <td>1680</td>\n",
              "      <td>8080</td>\n",
              "      <td>1.0</td>\n",
              "      <td>0</td>\n",
              "      <td>0</td>\n",
              "      <td>3</td>\n",
              "      <td>8</td>\n",
              "      <td>1680</td>\n",
              "      <td>0</td>\n",
              "      <td>1987</td>\n",
              "      <td>0</td>\n",
              "      <td>98074</td>\n",
              "      <td>47.6168</td>\n",
              "      <td>-122.045</td>\n",
              "      <td>1800</td>\n",
              "      <td>7503</td>\n",
              "    </tr>\n",
              "    <tr>\n",
              "      <th>3</th>\n",
              "      <td>201406</td>\n",
              "      <td>3</td>\n",
              "      <td>2.25</td>\n",
              "      <td>1715</td>\n",
              "      <td>6819</td>\n",
              "      <td>2.0</td>\n",
              "      <td>0</td>\n",
              "      <td>0</td>\n",
              "      <td>3</td>\n",
              "      <td>7</td>\n",
              "      <td>1715</td>\n",
              "      <td>0</td>\n",
              "      <td>1995</td>\n",
              "      <td>0</td>\n",
              "      <td>98003</td>\n",
              "      <td>47.3097</td>\n",
              "      <td>-122.327</td>\n",
              "      <td>2238</td>\n",
              "      <td>6819</td>\n",
              "    </tr>\n",
              "    <tr>\n",
              "      <th>4</th>\n",
              "      <td>201501</td>\n",
              "      <td>3</td>\n",
              "      <td>1.50</td>\n",
              "      <td>1060</td>\n",
              "      <td>9711</td>\n",
              "      <td>1.0</td>\n",
              "      <td>0</td>\n",
              "      <td>0</td>\n",
              "      <td>3</td>\n",
              "      <td>7</td>\n",
              "      <td>1060</td>\n",
              "      <td>0</td>\n",
              "      <td>1963</td>\n",
              "      <td>0</td>\n",
              "      <td>98198</td>\n",
              "      <td>47.4095</td>\n",
              "      <td>-122.315</td>\n",
              "      <td>1650</td>\n",
              "      <td>9711</td>\n",
              "    </tr>\n",
              "  </tbody>\n",
              "</table>\n",
              "</div>"
            ],
            "text/plain": [
              "     date  bedrooms  bathrooms  ...     long  sqft_living15  sqft_lot15\n",
              "0  201410         3       1.00  ... -122.257           1340        5650\n",
              "1  201502         2       1.00  ... -122.233           2720        8062\n",
              "2  201502         3       2.00  ... -122.045           1800        7503\n",
              "3  201406         3       2.25  ... -122.327           2238        6819\n",
              "4  201501         3       1.50  ... -122.315           1650        9711\n",
              "\n",
              "[5 rows x 19 columns]"
            ]
          },
          "metadata": {
            "tags": []
          },
          "execution_count": 116
        }
      ]
    },
    {
      "cell_type": "markdown",
      "metadata": {
        "id": "0jIOxfSUSCLb"
      },
      "source": [
        "### 각 변수들의 분포 확인\n",
        "전체 데이터들의 분포를 확인합니다.<br>\n",
        "특히 너무 치우친 분포를 가지는 컬럼의 경우 모델이 결과를 예측하는 데에 좋지 않은 영향을 미치므로 다듬는 작업을 합니다.<br><br>\n",
        "id 컬럼을 제외한 19개 컬럼에 대해 한 번에 모든 그래프를 그려줍니다.<br>\n",
        "그래프의 종류는 seaborn의 kdeplot을 사용합니다.<br>\n",
        "**kdeplot**은 '이산(discrete) 데이터의 경우에도 부드러운 곡선으로 전체 분포를 확인할 수 있도록 하는 시각화 함수'입니다."
      ]
    },
    {
      "cell_type": "code",
      "metadata": {
        "id": "Q85jDA55GeWh"
      },
      "source": [
        "fig, ax = plt.subplots(9, 2, figsize=(12, 50))\n",
        "\n",
        "# date 변수(count==0인 경우)는 제외하고 분포를 확인한다.\n",
        "count = 1\n",
        "columns = data.columns\n",
        "print(columns)\n",
        "\n",
        "for row in range(9):\n",
        "    for col in range(2):\n",
        "        sns.kdeplot(data[columns[count]], ax=ax[row][col])     # count번째 칼럼에 있는 데이터에 대한 kde그래프를 그린다.\n",
        "        ax[row][col].set_title(columns[count], fontsize=15)\n",
        "        count += 1\n",
        "        if count == 19 :\n",
        "            break"
      ],
      "execution_count": null,
      "outputs": []
    },
    {
      "cell_type": "markdown",
      "metadata": {
        "id": "oD9nB81rSwJf"
      },
      "source": [
        "위 그래프 중에서는 bedrooms, sqft_living, sqft_lot, sqft_above, sqft_basement, sqft_living15, sqft_lot15 변수가 한쪽으로 치우친 경향을 보인다. 이렇게 **한 쪽으로 치우친 분포**의 경우에는 **로그 변환(log-scaling)**을 통해 데이터 분포를 정규분포에 가깝게 만들 수 있다.\n",
        "\n",
        "(의문: 왜 waterfront를 제외하는가? 왜 bedrooms를 포함하는가?)"
      ]
    },
    {
      "cell_type": "code",
      "metadata": {
        "id": "Zmtsm2C4TTua"
      },
      "source": [
        "skew_columns = ['bedrooms', 'sqft_living', 'sqft_lot', 'sqft_above', 'sqft_basement', 'sqft_lot15', 'sqft_living15']\n",
        "\n",
        "for c in skew_columns:\n",
        "    data[c] = np.log1p(data[c].values)   # 로그 변환\n"
      ],
      "execution_count": 118,
      "outputs": []
    },
    {
      "cell_type": "markdown",
      "metadata": {
        "id": "rm5hv6evTfAR"
      },
      "source": [
        "로그 변환 후의 분포"
      ]
    },
    {
      "cell_type": "code",
      "metadata": {
        "colab": {
          "base_uri": "https://localhost:8080/",
          "height": 1000
        },
        "id": "8yz5sVh-Tg60",
        "outputId": "6fd7690b-18f6-4a73-b877-d68d8edaaff8"
      },
      "source": [
        "fig, ax = plt.subplots(4, 2, figsize=(12, 24))\n",
        "\n",
        "count = 0\n",
        "for row in range(4):\n",
        "    for col in range(2):\n",
        "        if count == 7:\n",
        "            break\n",
        "        sns.kdeplot(data[skew_columns[count]], ax=ax[row][col])\n",
        "        ax[row][col].set_title(skew_columns[count], fontsize=15)\n",
        "        count += 1"
      ],
      "execution_count": 119,
      "outputs": [
        {
          "output_type": "display_data",
          "data": {
            "image/png": "[encoded data removed]",
            "text/plain": [
              "<Figure size 864x1728 with 8 Axes>"
            ]
          },
          "metadata": {
            "tags": [],
            "image/png": {
              "width": 728,
              "height": 1367
            },
            "needs_background": "light"
          }
        }
      ]
    },
    {
      "cell_type": "markdown",
      "metadata": {
        "id": "-Z8xb5qhWJoE"
      },
      "source": [
        "### Tip) 왜 로그변환은 분포의 치우침을 줄어들게 만드는 걸까?\n",
        "\n",
        "로그함수의 특징\n",
        "- 0<x<1 범위에서는 기울기가 매우 가파릅니다. 즉, xx의 구간은 (0, 1)로 매우 짧은 반면, yy의 구간은 (−∞, 0)으로 매우 큽니다.\n",
        "- 따라서 0에 가깝게 모여있는 값들이 xx로 입력되면, 그 함수값인 yy 값들은 매우 큰 범위로 벌어지게 됩니다. 즉, 로그 함수는 0에 가까운 값들이 조밀하게 모여있는 입력값을, 넓은 범위로 펼칠 수 있는 특징을 가집니다.\n",
        "- 반면, xx값이 점점 커짐에 따라 로그 함수의 기울기는 급격히 작아집니다. 이는 곧 큰 xx값들에 대해서는 yy값이 크게 차이나지 않게 된다는 뜻이고, 따라서 넓은 범위를 가지는 xx를 비교적 작은 yy값의 구간 내에 모이게 하는 특징을 가집니다.\n",
        "\n",
        "위와 같은 특성 때문에 한 쪽으로 몰려있는 분포에 로그 변환을 취하게 되면 넓게 퍼질 수 있다."
      ]
    },
    {
      "cell_type": "code",
      "metadata": {
        "colab": {
          "base_uri": "https://localhost:8080/",
          "height": 265
        },
        "id": "tNJskPKMWd1R",
        "outputId": "a62f95fe-9fcc-4370-9aa1-55413b4af5a1"
      },
      "source": [
        "xx = np.linspace(0, 10, 500)\n",
        "yy = np.log(xx)   # 로그함수\n",
        "\n",
        "plt.hlines(0, 0, 10)\n",
        "plt.vlines(0, -5, 5)\n",
        "plt.plot(xx, yy, c='r')\n",
        "plt.show()"
      ],
      "execution_count": 120,
      "outputs": [
        {
          "output_type": "display_data",
          "data": {
            "image/png": "[encoded data removed]",
            "text/plain": [
              "<Figure size 432x288 with 1 Axes>"
            ]
          },
          "metadata": {
            "tags": [],
            "image/png": {
              "width": 370,
              "height": 248
            },
            "needs_background": "light"
          }
        }
      ]
    },
    {
      "cell_type": "markdown",
      "metadata": {
        "id": "VF900iL3jNK5"
      },
      "source": [
        "data['price']데이터를 가지고 있는 y의 kde그래프를 그려보면 0쪽으로 많이 치우쳐있는 것을 확인 할 수 있다.\n",
        "\n",
        "이 분포에 로그 변환을 취하면, 0 근처에 몰려있는 데이터들은 넓게 퍼지고, 넓게 퍼져있는 소수의 데이터들은 작은 y값으로 모일 것이다."
      ]
    },
    {
      "cell_type": "code",
      "metadata": {
        "colab": {
          "base_uri": "https://localhost:8080/",
          "height": 289
        },
        "id": "qKWjsQnNi-Uu",
        "outputId": "1df69df6-6b42-4a69-8ded-8aba50f74a6b"
      },
      "source": [
        "sns.kdeplot(y)\n",
        "plt.show()"
      ],
      "execution_count": 121,
      "outputs": [
        {
          "output_type": "display_data",
          "data": {
            "image/png": "[encoded data removed]",
            "text/plain": [
              "<Figure size 432x288 with 1 Axes>"
            ]
          },
          "metadata": {
            "tags": [],
            "image/png": {
              "width": 392,
              "height": 272
            },
            "needs_background": "light"
          }
        }
      ]
    },
    {
      "cell_type": "markdown",
      "metadata": {
        "id": "W10H_XSCkG0w"
      },
      "source": [
        "로그변환을 적용 한 data['price']의 분포를 보면 정규분포 모양에 가까워진 것을 확인할 수 있다."
      ]
    },
    {
      "cell_type": "code",
      "metadata": {
        "colab": {
          "base_uri": "https://localhost:8080/",
          "height": 279
        },
        "id": "a0OCRWxhkOJl",
        "outputId": "30e62403-e56e-498e-fad3-100dd17ae24b"
      },
      "source": [
        "y_log_transformation = np.log1p(y)\n",
        "\n",
        "sns.kdeplot(y_log_transformation)\n",
        "plt.show()"
      ],
      "execution_count": 122,
      "outputs": [
        {
          "output_type": "display_data",
          "data": {
            "image/png": "[encoded data removed]",
            "text/plain": [
              "<Figure size 432x288 with 1 Axes>"
            ]
          },
          "metadata": {
            "tags": [],
            "image/png": {
              "width": 385,
              "height": 262
            },
            "needs_background": "light"
          }
        }
      ]
    },
    {
      "cell_type": "markdown",
      "metadata": {
        "id": "Ml01z2xtkjCv"
      },
      "source": [
        "### 학습 데이터와 테스트 데이터를 다시 분리"
      ]
    },
    {
      "cell_type": "code",
      "metadata": {
        "colab": {
          "base_uri": "https://localhost:8080/"
        },
        "id": "Q5CgefO2kilf",
        "outputId": "ce767dfd-46a2-4f8e-dd5a-f0e9621c3b1c"
      },
      "source": [
        "sub = data.iloc[train_len:, :]\n",
        "x = data.iloc[:train_len, :]\n",
        "\n",
        "print(x.shape)\n",
        "print(sub.shape)"
      ],
      "execution_count": 123,
      "outputs": [
        {
          "output_type": "stream",
          "text": [
            "(15035, 19)\n",
            "(6468, 19)\n"
          ],
          "name": "stdout"
        }
      ]
    },
    {
      "cell_type": "markdown",
      "metadata": {
        "id": "l4OFs3Jdl_KZ"
      },
      "source": [
        "## (4) 모델 설계\n",
        "\n",
        " 여러 가지 모델을 함께 사용해서 결과를 섞는, 블렌딩(blending) 이라는 기법을 활용할 것이다. = '앙상블' 기법\n",
        " > 앙상블(Ensemble) 학습은 여러 개의 학습 알고리즘을 사용하고, 그 예측을 결합함으로써 보다 정확한 최종 예측을 도출하는 기법입니다. 하나의 강한 머신러닝 알고리즘보다 여러 개의 약한 머신러닝 알고리즘이 낫다는 아이디어로부터 시작되었습니다. <br> <br>\n",
        " 앙상블은 강력한 개별 모델 하나보다 약한 여러 개의 모델의 결과를 합치는 것이 낫다는 기본 전제로부터 시작됩니다. <br> => [전제가 성립하는 이유](https://gentlej90.tistory.com/73)\n",
        " \n",
        " [What is Ensemble Learning?](https://subinium.github.io/introduction-to-ensemble-1/#:~:text=%EC%95%99%EC%83%81%EB%B8%94(Ensemble)%20%ED%95%99%EC%8A%B5%EC%9D%80%20%EC%97%AC%EB%9F%AC,%EB%A5%BC%20%EA%B0%80%EC%A7%80%EA%B3%A0%20%EC%9D%B4%ED%95%B4%ED%95%98%EB%A9%B4%20%EC%A2%8B%EC%8A%B5%EB%8B%88%EB%8B%A4.)"
      ]
    },
    {
      "cell_type": "markdown",
      "metadata": {
        "id": "vluo3H7Unwdc"
      },
      "source": [
        "### 1.Average Blending 모델을 만든다\n",
        "여러 가지 모델의 결과를 **산술평균**하여 블렌딩 모델을 만든다.\n",
        "\n",
        "모델은 부스팅 계열인 **gboost, xgboost, lightgbm** 세 가지를 사용한다."
      ]
    },
    {
      "cell_type": "code",
      "metadata": {
        "id": "QYEJRu1klz6k"
      },
      "source": [
        "gboost = GradientBoostingRegressor(random_state=2019)\n",
        "xgboost = xgb.XGBRegressor(random_state=2019)\n",
        "lightgbm = lgb.LGBMRegressor(random_state=2019)\n",
        "\n",
        "models = [{'model':gboost, 'name':'GradientBoosting'}, {'model':xgboost, 'name':'XGBoost'},\n",
        "          {'model':lightgbm, 'name':'LightGBM'}]"
      ],
      "execution_count": 124,
      "outputs": []
    },
    {
      "cell_type": "markdown",
      "metadata": {
        "id": "8o79sB8BoFsm"
      },
      "source": [
        "### 2.Cross Validation(교차 검증)으로 모델의 성능을 평가해보자.\n",
        "cross_val_score() 함수는 회귀모델을 전달할 경우 $R^2$(결정계수)를 반환한다. $R^2$ 값은 1에 가까울수록 모델이 잘 학습되었다는 것을 나타낸다.<br>\n",
        "[Coefficient of Determination(결정계수)](https://newsight.tistory.com/259)\n",
        "\n",
        "<br>\n",
        "\n",
        "아래 코드의 결과를 통해 3개 트리 모델이 모두 훈련 데이터에 대해 괜찮은 성능을 보여준다는 것을 확인할 수 있다."
      ]
    },
    {
      "cell_type": "code",
      "metadata": {
        "colab": {
          "base_uri": "https://localhost:8080/"
        },
        "id": "f22pc4uNl0Bt",
        "outputId": "ca9ea578-267d-40b0-e1d4-70c569fc10d2"
      },
      "source": [
        "def get_cv_score(models):\n",
        "    kfold = KFold(n_splits=5, random_state=2019).get_n_splits(x.values)\n",
        "    for m in models:\n",
        "        CV_score = np.mean(cross_val_score(m['model'], X=x.values, y=y, cv=kfold))\n",
        "        print(f\"Model: {m['name']}, CV score:{CV_score:.4f}\")\n",
        "\n",
        "get_cv_score(models)"
      ],
      "execution_count": 125,
      "outputs": [
        {
          "output_type": "stream",
          "text": [
            "Model: GradientBoosting, CV score:0.8598\n",
            "[03:23:39] WARNING: /workspace/src/objective/regression_obj.cu:152: reg:linear is now deprecated in favor of reg:squarederror.\n",
            "[03:23:39] WARNING: /workspace/src/objective/regression_obj.cu:152: reg:linear is now deprecated in favor of reg:squarederror.\n",
            "[03:23:40] WARNING: /workspace/src/objective/regression_obj.cu:152: reg:linear is now deprecated in favor of reg:squarederror.\n",
            "[03:23:41] WARNING: /workspace/src/objective/regression_obj.cu:152: reg:linear is now deprecated in favor of reg:squarederror.\n",
            "[03:23:42] WARNING: /workspace/src/objective/regression_obj.cu:152: reg:linear is now deprecated in favor of reg:squarederror.\n",
            "Model: XGBoost, CV score:0.8624\n",
            "Model: LightGBM, CV score:0.8819\n"
          ],
          "name": "stdout"
        }
      ]
    },
    {
      "cell_type": "markdown",
      "metadata": {
        "id": "2zaZSu4dph5j"
      },
      "source": [
        "여러 모델을 입력하면 각 모델에 대한 예측 결과를 평균 내어주는 함수 $AveragingBlending$을 작성하여 사용할 것이다."
      ]
    },
    {
      "cell_type": "code",
      "metadata": {
        "colab": {
          "base_uri": "https://localhost:8080/"
        },
        "id": "xQN-eEj5l0IT",
        "outputId": "7b4a1bdb-5b11-4379-8dcc-e0f9482bf0b5"
      },
      "source": [
        "def AveragingBlending(models, x, y, sub_x):\n",
        "    for m in models : \n",
        "        m['model'].fit(x.values, y)\n",
        "    \n",
        "    predictions = np.column_stack([\n",
        "        m['model'].predict(sub_x.values) for m in models\n",
        "    ])\n",
        "    return np.mean(predictions, axis=1)\n",
        "\n",
        "# 예측값 생성\n",
        "y_pred = AveragingBlending(models, x, y, sub)\n",
        "\n",
        "print(len(y_pred))\n",
        "y_pred"
      ],
      "execution_count": 126,
      "outputs": [
        {
          "output_type": "stream",
          "text": [
            "[03:23:49] WARNING: /workspace/src/objective/regression_obj.cu:152: reg:linear is now deprecated in favor of reg:squarederror.\n",
            "6468\n"
          ],
          "name": "stdout"
        },
        {
          "output_type": "execute_result",
          "data": {
            "text/plain": [
              "array([ 562566.39221578,  389660.68147617, 1340643.45409443, ...,\n",
              "        438058.69137012,  345498.01852609,  414241.23776683])"
            ]
          },
          "metadata": {
            "tags": []
          },
          "execution_count": 126
        }
      ]
    },
    {
      "cell_type": "markdown",
      "metadata": {
        "id": "lKX-G9ypqd1g"
      },
      "source": [
        "제출해야 하는 csv파일의 샘플 'sample_submission.csv'파일을 확인해보자."
      ]
    },
    {
      "cell_type": "code",
      "metadata": {
        "colab": {
          "base_uri": "https://localhost:8080/",
          "height": 437
        },
        "id": "sEgH5jj7qVjh",
        "outputId": "b1eb68f6-4284-4cb3-a080-b1dcf7d9b250"
      },
      "source": [
        "data_dir = '/content/drive/MyDrive/Colab Notebooks/AIFFEL_LMS/data'\n",
        "\n",
        "submission_path = join(data_dir, 'sample_submission.csv')\n",
        "submission = pd.read_csv(submission_path)\n",
        "\n",
        "print(submission.shape)\n",
        "submission"
      ],
      "execution_count": 127,
      "outputs": [
        {
          "output_type": "stream",
          "text": [
            "(6468, 2)\n"
          ],
          "name": "stdout"
        },
        {
          "output_type": "execute_result",
          "data": {
            "text/html": [
              "<div>\n",
              "<style scoped>\n",
              "    .dataframe tbody tr th:only-of-type {\n",
              "        vertical-align: middle;\n",
              "    }\n",
              "\n",
              "    .dataframe tbody tr th {\n",
              "        vertical-align: top;\n",
              "    }\n",
              "\n",
              "    .dataframe thead th {\n",
              "        text-align: right;\n",
              "    }\n",
              "</style>\n",
              "<table border=\"1\" class=\"dataframe\">\n",
              "  <thead>\n",
              "    <tr style=\"text-align: right;\">\n",
              "      <th></th>\n",
              "      <th>id</th>\n",
              "      <th>price</th>\n",
              "    </tr>\n",
              "  </thead>\n",
              "  <tbody>\n",
              "    <tr>\n",
              "      <th>0</th>\n",
              "      <td>15035</td>\n",
              "      <td>100000</td>\n",
              "    </tr>\n",
              "    <tr>\n",
              "      <th>1</th>\n",
              "      <td>15036</td>\n",
              "      <td>100000</td>\n",
              "    </tr>\n",
              "    <tr>\n",
              "      <th>2</th>\n",
              "      <td>15037</td>\n",
              "      <td>100000</td>\n",
              "    </tr>\n",
              "    <tr>\n",
              "      <th>3</th>\n",
              "      <td>15038</td>\n",
              "      <td>100000</td>\n",
              "    </tr>\n",
              "    <tr>\n",
              "      <th>4</th>\n",
              "      <td>15039</td>\n",
              "      <td>100000</td>\n",
              "    </tr>\n",
              "    <tr>\n",
              "      <th>...</th>\n",
              "      <td>...</td>\n",
              "      <td>...</td>\n",
              "    </tr>\n",
              "    <tr>\n",
              "      <th>6463</th>\n",
              "      <td>21498</td>\n",
              "      <td>100000</td>\n",
              "    </tr>\n",
              "    <tr>\n",
              "      <th>6464</th>\n",
              "      <td>21499</td>\n",
              "      <td>100000</td>\n",
              "    </tr>\n",
              "    <tr>\n",
              "      <th>6465</th>\n",
              "      <td>21500</td>\n",
              "      <td>100000</td>\n",
              "    </tr>\n",
              "    <tr>\n",
              "      <th>6466</th>\n",
              "      <td>21501</td>\n",
              "      <td>100000</td>\n",
              "    </tr>\n",
              "    <tr>\n",
              "      <th>6467</th>\n",
              "      <td>21502</td>\n",
              "      <td>100000</td>\n",
              "    </tr>\n",
              "  </tbody>\n",
              "</table>\n",
              "<p>6468 rows × 2 columns</p>\n",
              "</div>"
            ],
            "text/plain": [
              "         id   price\n",
              "0     15035  100000\n",
              "1     15036  100000\n",
              "2     15037  100000\n",
              "3     15038  100000\n",
              "4     15039  100000\n",
              "...     ...     ...\n",
              "6463  21498  100000\n",
              "6464  21499  100000\n",
              "6465  21500  100000\n",
              "6466  21501  100000\n",
              "6467  21502  100000\n",
              "\n",
              "[6468 rows x 2 columns]"
            ]
          },
          "metadata": {
            "tags": []
          },
          "execution_count": 127
        }
      ]
    },
    {
      "cell_type": "markdown",
      "metadata": {
        "id": "z31XsvBdr5Hz"
      },
      "source": [
        "위의 결과와 같이 id, price 2개 열로 구성된 DataFrame의 형태로 만들어준다."
      ]
    },
    {
      "cell_type": "code",
      "metadata": {
        "colab": {
          "base_uri": "https://localhost:8080/",
          "height": 204
        },
        "id": "uy-VdblrrUs2",
        "outputId": "08f50456-857e-4144-af20-351882d758d6"
      },
      "source": [
        "result = pd.DataFrame({\n",
        "    'id' : sub_id, \n",
        "    'price' : y_pred\n",
        "})\n",
        "\n",
        "result.head()"
      ],
      "execution_count": 129,
      "outputs": [
        {
          "output_type": "execute_result",
          "data": {
            "text/html": [
              "<div>\n",
              "<style scoped>\n",
              "    .dataframe tbody tr th:only-of-type {\n",
              "        vertical-align: middle;\n",
              "    }\n",
              "\n",
              "    .dataframe tbody tr th {\n",
              "        vertical-align: top;\n",
              "    }\n",
              "\n",
              "    .dataframe thead th {\n",
              "        text-align: right;\n",
              "    }\n",
              "</style>\n",
              "<table border=\"1\" class=\"dataframe\">\n",
              "  <thead>\n",
              "    <tr style=\"text-align: right;\">\n",
              "      <th></th>\n",
              "      <th>id</th>\n",
              "      <th>price</th>\n",
              "    </tr>\n",
              "  </thead>\n",
              "  <tbody>\n",
              "    <tr>\n",
              "      <th>0</th>\n",
              "      <td>15035</td>\n",
              "      <td>5.625664e+05</td>\n",
              "    </tr>\n",
              "    <tr>\n",
              "      <th>1</th>\n",
              "      <td>15036</td>\n",
              "      <td>3.896607e+05</td>\n",
              "    </tr>\n",
              "    <tr>\n",
              "      <th>2</th>\n",
              "      <td>15037</td>\n",
              "      <td>1.340643e+06</td>\n",
              "    </tr>\n",
              "    <tr>\n",
              "      <th>3</th>\n",
              "      <td>15038</td>\n",
              "      <td>3.317573e+05</td>\n",
              "    </tr>\n",
              "    <tr>\n",
              "      <th>4</th>\n",
              "      <td>15039</td>\n",
              "      <td>2.966855e+05</td>\n",
              "    </tr>\n",
              "  </tbody>\n",
              "</table>\n",
              "</div>"
            ],
            "text/plain": [
              "      id         price\n",
              "0  15035  5.625664e+05\n",
              "1  15036  3.896607e+05\n",
              "2  15037  1.340643e+06\n",
              "3  15038  3.317573e+05\n",
              "4  15039  2.966855e+05"
            ]
          },
          "metadata": {
            "tags": []
          },
          "execution_count": 129
        }
      ]
    },
    {
      "cell_type": "markdown",
      "metadata": {
        "id": "Rpf2sBIMsS5J"
      },
      "source": [
        "DataFrame으로 저장한 결과를 csv파일로 저장하여 제출한다."
      ]
    },
    {
      "cell_type": "code",
      "metadata": {
        "colab": {
          "base_uri": "https://localhost:8080/"
        },
        "id": "SIbtDcs8sSef",
        "outputId": "38d6a4c5-8c45-4bb5-867d-1f948cf686a5"
      },
      "source": [
        "my_submission_path = join(data_dir, 'submission.csv')\n",
        "result.to_csv(my_submission_path, index=False)\n",
        "\n",
        "print(my_submission_path)"
      ],
      "execution_count": 130,
      "outputs": [
        {
          "output_type": "stream",
          "text": [
            "/content/drive/MyDrive/Colab Notebooks/AIFFEL_LMS/data/submission.csv\n"
          ],
          "name": "stdout"
        }
      ]
    },
    {
      "cell_type": "markdown",
      "metadata": {
        "id": "kiLamxoNsmK-"
      },
      "source": [
        "## (5) Kaggle에 첫 결과 제출하기\n",
        "[대회 링크](https://www.kaggle.com/c/2019-2nd-ml-month-with-kakr)에서 'Late Submission'으로 csv파일 제출<br>\n",
        "=> Score가 129439.64507이 나온다.\n",
        "\n",
        "<br>\n",
        "\n",
        "대회의 test.csv파일을 사용하면 'Evaluation Exception: Submission must have 6468 rows' 오류가 발생하므로 주의!!!"
      ]
    },
    {
      "cell_type": "markdown",
      "metadata": {
        "id": "9lssCHWjAb5l"
      },
      "source": [
        "# 3) 최적의 모델을 찾아보자 (하이퍼파라미터 튜닝)"
      ]
    },
    {
      "cell_type": "markdown",
      "metadata": {
        "id": "nOwYjsqQGpFO"
      },
      "source": [
        "## (1) 데이터 불러오기 및 전처리 (그대로 진행)"
      ]
    },
    {
      "cell_type": "code",
      "metadata": {
        "colab": {
          "base_uri": "https://localhost:8080/",
          "height": 439
        },
        "id": "6QAOL2Cq33X4",
        "outputId": "26cfe99f-e64a-4339-9cb7-ff446a06a78c"
      },
      "source": [
        "data_dir = '/content/drive/MyDrive/Colab Notebooks/AIFFEL_LMS/data'\n",
        "\n",
        "train_data_path = join(data_dir, 'train.csv')\n",
        "test_data_path = join(data_dir, 'test.csv') \n",
        "\n",
        "train = pd.read_csv(train_data_path)\n",
        "test = pd.read_csv(test_data_path)\n",
        "\n",
        "train"
      ],
      "execution_count": 140,
      "outputs": [
        {
          "output_type": "execute_result",
          "data": {
            "text/html": [
              "<div>\n",
              "<style scoped>\n",
              "    .dataframe tbody tr th:only-of-type {\n",
              "        vertical-align: middle;\n",
              "    }\n",
              "\n",
              "    .dataframe tbody tr th {\n",
              "        vertical-align: top;\n",
              "    }\n",
              "\n",
              "    .dataframe thead th {\n",
              "        text-align: right;\n",
              "    }\n",
              "</style>\n",
              "<table border=\"1\" class=\"dataframe\">\n",
              "  <thead>\n",
              "    <tr style=\"text-align: right;\">\n",
              "      <th></th>\n",
              "      <th>id</th>\n",
              "      <th>date</th>\n",
              "      <th>price</th>\n",
              "      <th>bedrooms</th>\n",
              "      <th>bathrooms</th>\n",
              "      <th>sqft_living</th>\n",
              "      <th>sqft_lot</th>\n",
              "      <th>floors</th>\n",
              "      <th>waterfront</th>\n",
              "      <th>view</th>\n",
              "      <th>condition</th>\n",
              "      <th>grade</th>\n",
              "      <th>sqft_above</th>\n",
              "      <th>sqft_basement</th>\n",
              "      <th>yr_built</th>\n",
              "      <th>yr_renovated</th>\n",
              "      <th>zipcode</th>\n",
              "      <th>lat</th>\n",
              "      <th>long</th>\n",
              "      <th>sqft_living15</th>\n",
              "      <th>sqft_lot15</th>\n",
              "    </tr>\n",
              "  </thead>\n",
              "  <tbody>\n",
              "    <tr>\n",
              "      <th>0</th>\n",
              "      <td>0</td>\n",
              "      <td>20141013T000000</td>\n",
              "      <td>221900.0</td>\n",
              "      <td>3</td>\n",
              "      <td>1.00</td>\n",
              "      <td>1180</td>\n",
              "      <td>5650</td>\n",
              "      <td>1.0</td>\n",
              "      <td>0</td>\n",
              "      <td>0</td>\n",
              "      <td>3</td>\n",
              "      <td>7</td>\n",
              "      <td>1180</td>\n",
              "      <td>0</td>\n",
              "      <td>1955</td>\n",
              "      <td>0</td>\n",
              "      <td>98178</td>\n",
              "      <td>47.5112</td>\n",
              "      <td>-122.257</td>\n",
              "      <td>1340</td>\n",
              "      <td>5650</td>\n",
              "    </tr>\n",
              "    <tr>\n",
              "      <th>1</th>\n",
              "      <td>1</td>\n",
              "      <td>20150225T000000</td>\n",
              "      <td>180000.0</td>\n",
              "      <td>2</td>\n",
              "      <td>1.00</td>\n",
              "      <td>770</td>\n",
              "      <td>10000</td>\n",
              "      <td>1.0</td>\n",
              "      <td>0</td>\n",
              "      <td>0</td>\n",
              "      <td>3</td>\n",
              "      <td>6</td>\n",
              "      <td>770</td>\n",
              "      <td>0</td>\n",
              "      <td>1933</td>\n",
              "      <td>0</td>\n",
              "      <td>98028</td>\n",
              "      <td>47.7379</td>\n",
              "      <td>-122.233</td>\n",
              "      <td>2720</td>\n",
              "      <td>8062</td>\n",
              "    </tr>\n",
              "    <tr>\n",
              "      <th>2</th>\n",
              "      <td>2</td>\n",
              "      <td>20150218T000000</td>\n",
              "      <td>510000.0</td>\n",
              "      <td>3</td>\n",
              "      <td>2.00</td>\n",
              "      <td>1680</td>\n",
              "      <td>8080</td>\n",
              "      <td>1.0</td>\n",
              "      <td>0</td>\n",
              "      <td>0</td>\n",
              "      <td>3</td>\n",
              "      <td>8</td>\n",
              "      <td>1680</td>\n",
              "      <td>0</td>\n",
              "      <td>1987</td>\n",
              "      <td>0</td>\n",
              "      <td>98074</td>\n",
              "      <td>47.6168</td>\n",
              "      <td>-122.045</td>\n",
              "      <td>1800</td>\n",
              "      <td>7503</td>\n",
              "    </tr>\n",
              "    <tr>\n",
              "      <th>3</th>\n",
              "      <td>3</td>\n",
              "      <td>20140627T000000</td>\n",
              "      <td>257500.0</td>\n",
              "      <td>3</td>\n",
              "      <td>2.25</td>\n",
              "      <td>1715</td>\n",
              "      <td>6819</td>\n",
              "      <td>2.0</td>\n",
              "      <td>0</td>\n",
              "      <td>0</td>\n",
              "      <td>3</td>\n",
              "      <td>7</td>\n",
              "      <td>1715</td>\n",
              "      <td>0</td>\n",
              "      <td>1995</td>\n",
              "      <td>0</td>\n",
              "      <td>98003</td>\n",
              "      <td>47.3097</td>\n",
              "      <td>-122.327</td>\n",
              "      <td>2238</td>\n",
              "      <td>6819</td>\n",
              "    </tr>\n",
              "    <tr>\n",
              "      <th>4</th>\n",
              "      <td>4</td>\n",
              "      <td>20150115T000000</td>\n",
              "      <td>291850.0</td>\n",
              "      <td>3</td>\n",
              "      <td>1.50</td>\n",
              "      <td>1060</td>\n",
              "      <td>9711</td>\n",
              "      <td>1.0</td>\n",
              "      <td>0</td>\n",
              "      <td>0</td>\n",
              "      <td>3</td>\n",
              "      <td>7</td>\n",
              "      <td>1060</td>\n",
              "      <td>0</td>\n",
              "      <td>1963</td>\n",
              "      <td>0</td>\n",
              "      <td>98198</td>\n",
              "      <td>47.4095</td>\n",
              "      <td>-122.315</td>\n",
              "      <td>1650</td>\n",
              "      <td>9711</td>\n",
              "    </tr>\n",
              "    <tr>\n",
              "      <th>...</th>\n",
              "      <td>...</td>\n",
              "      <td>...</td>\n",
              "      <td>...</td>\n",
              "      <td>...</td>\n",
              "      <td>...</td>\n",
              "      <td>...</td>\n",
              "      <td>...</td>\n",
              "      <td>...</td>\n",
              "      <td>...</td>\n",
              "      <td>...</td>\n",
              "      <td>...</td>\n",
              "      <td>...</td>\n",
              "      <td>...</td>\n",
              "      <td>...</td>\n",
              "      <td>...</td>\n",
              "      <td>...</td>\n",
              "      <td>...</td>\n",
              "      <td>...</td>\n",
              "      <td>...</td>\n",
              "      <td>...</td>\n",
              "      <td>...</td>\n",
              "    </tr>\n",
              "    <tr>\n",
              "      <th>15030</th>\n",
              "      <td>15030</td>\n",
              "      <td>20141014T000000</td>\n",
              "      <td>610685.0</td>\n",
              "      <td>4</td>\n",
              "      <td>2.50</td>\n",
              "      <td>2520</td>\n",
              "      <td>6023</td>\n",
              "      <td>2.0</td>\n",
              "      <td>0</td>\n",
              "      <td>0</td>\n",
              "      <td>3</td>\n",
              "      <td>9</td>\n",
              "      <td>2520</td>\n",
              "      <td>0</td>\n",
              "      <td>2014</td>\n",
              "      <td>0</td>\n",
              "      <td>98056</td>\n",
              "      <td>47.5137</td>\n",
              "      <td>-122.167</td>\n",
              "      <td>2520</td>\n",
              "      <td>6023</td>\n",
              "    </tr>\n",
              "    <tr>\n",
              "      <th>15031</th>\n",
              "      <td>15031</td>\n",
              "      <td>20150326T000000</td>\n",
              "      <td>1007500.0</td>\n",
              "      <td>4</td>\n",
              "      <td>3.50</td>\n",
              "      <td>3510</td>\n",
              "      <td>7200</td>\n",
              "      <td>2.0</td>\n",
              "      <td>0</td>\n",
              "      <td>0</td>\n",
              "      <td>3</td>\n",
              "      <td>9</td>\n",
              "      <td>2600</td>\n",
              "      <td>910</td>\n",
              "      <td>2009</td>\n",
              "      <td>0</td>\n",
              "      <td>98136</td>\n",
              "      <td>47.5537</td>\n",
              "      <td>-122.398</td>\n",
              "      <td>2050</td>\n",
              "      <td>6200</td>\n",
              "    </tr>\n",
              "    <tr>\n",
              "      <th>15032</th>\n",
              "      <td>15032</td>\n",
              "      <td>20140521T000000</td>\n",
              "      <td>360000.0</td>\n",
              "      <td>3</td>\n",
              "      <td>2.50</td>\n",
              "      <td>1530</td>\n",
              "      <td>1131</td>\n",
              "      <td>3.0</td>\n",
              "      <td>0</td>\n",
              "      <td>0</td>\n",
              "      <td>3</td>\n",
              "      <td>8</td>\n",
              "      <td>1530</td>\n",
              "      <td>0</td>\n",
              "      <td>2009</td>\n",
              "      <td>0</td>\n",
              "      <td>98103</td>\n",
              "      <td>47.6993</td>\n",
              "      <td>-122.346</td>\n",
              "      <td>1530</td>\n",
              "      <td>1509</td>\n",
              "    </tr>\n",
              "    <tr>\n",
              "      <th>15033</th>\n",
              "      <td>15033</td>\n",
              "      <td>20150223T000000</td>\n",
              "      <td>400000.0</td>\n",
              "      <td>4</td>\n",
              "      <td>2.50</td>\n",
              "      <td>2310</td>\n",
              "      <td>5813</td>\n",
              "      <td>2.0</td>\n",
              "      <td>0</td>\n",
              "      <td>0</td>\n",
              "      <td>3</td>\n",
              "      <td>8</td>\n",
              "      <td>2310</td>\n",
              "      <td>0</td>\n",
              "      <td>2014</td>\n",
              "      <td>0</td>\n",
              "      <td>98146</td>\n",
              "      <td>47.5107</td>\n",
              "      <td>-122.362</td>\n",
              "      <td>1830</td>\n",
              "      <td>7200</td>\n",
              "    </tr>\n",
              "    <tr>\n",
              "      <th>15034</th>\n",
              "      <td>15034</td>\n",
              "      <td>20141015T000000</td>\n",
              "      <td>325000.0</td>\n",
              "      <td>2</td>\n",
              "      <td>0.75</td>\n",
              "      <td>1020</td>\n",
              "      <td>1076</td>\n",
              "      <td>2.0</td>\n",
              "      <td>0</td>\n",
              "      <td>0</td>\n",
              "      <td>3</td>\n",
              "      <td>7</td>\n",
              "      <td>1020</td>\n",
              "      <td>0</td>\n",
              "      <td>2008</td>\n",
              "      <td>0</td>\n",
              "      <td>98144</td>\n",
              "      <td>47.5941</td>\n",
              "      <td>-122.299</td>\n",
              "      <td>1020</td>\n",
              "      <td>1357</td>\n",
              "    </tr>\n",
              "  </tbody>\n",
              "</table>\n",
              "<p>15035 rows × 21 columns</p>\n",
              "</div>"
            ],
            "text/plain": [
              "          id             date      price  ...     long  sqft_living15  sqft_lot15\n",
              "0          0  20141013T000000   221900.0  ... -122.257           1340        5650\n",
              "1          1  20150225T000000   180000.0  ... -122.233           2720        8062\n",
              "2          2  20150218T000000   510000.0  ... -122.045           1800        7503\n",
              "3          3  20140627T000000   257500.0  ... -122.327           2238        6819\n",
              "4          4  20150115T000000   291850.0  ... -122.315           1650        9711\n",
              "...      ...              ...        ...  ...      ...            ...         ...\n",
              "15030  15030  20141014T000000   610685.0  ... -122.167           2520        6023\n",
              "15031  15031  20150326T000000  1007500.0  ... -122.398           2050        6200\n",
              "15032  15032  20140521T000000   360000.0  ... -122.346           1530        1509\n",
              "15033  15033  20150223T000000   400000.0  ... -122.362           1830        7200\n",
              "15034  15034  20141015T000000   325000.0  ... -122.299           1020        1357\n",
              "\n",
              "[15035 rows x 21 columns]"
            ]
          },
          "metadata": {
            "tags": []
          },
          "execution_count": 140
        }
      ]
    },
    {
      "cell_type": "markdown",
      "metadata": {
        "id": "cp_CpDT-HI-u"
      },
      "source": [
        "'date'칼럼의 날짜를 연월을 나타내는 int형으로 변환"
      ]
    },
    {
      "cell_type": "code",
      "metadata": {
        "colab": {
          "base_uri": "https://localhost:8080/",
          "height": 439
        },
        "id": "mleHGeNyHExy",
        "outputId": "5563b680-e6d1-4294-871e-06df66284dd9"
      },
      "source": [
        "train['date'] = train['date'].apply(lambda i: i[:6]).astype(int)\n",
        "\n",
        "train"
      ],
      "execution_count": 141,
      "outputs": [
        {
          "output_type": "execute_result",
          "data": {
            "text/html": [
              "<div>\n",
              "<style scoped>\n",
              "    .dataframe tbody tr th:only-of-type {\n",
              "        vertical-align: middle;\n",
              "    }\n",
              "\n",
              "    .dataframe tbody tr th {\n",
              "        vertical-align: top;\n",
              "    }\n",
              "\n",
              "    .dataframe thead th {\n",
              "        text-align: right;\n",
              "    }\n",
              "</style>\n",
              "<table border=\"1\" class=\"dataframe\">\n",
              "  <thead>\n",
              "    <tr style=\"text-align: right;\">\n",
              "      <th></th>\n",
              "      <th>id</th>\n",
              "      <th>date</th>\n",
              "      <th>price</th>\n",
              "      <th>bedrooms</th>\n",
              "      <th>bathrooms</th>\n",
              "      <th>sqft_living</th>\n",
              "      <th>sqft_lot</th>\n",
              "      <th>floors</th>\n",
              "      <th>waterfront</th>\n",
              "      <th>view</th>\n",
              "      <th>condition</th>\n",
              "      <th>grade</th>\n",
              "      <th>sqft_above</th>\n",
              "      <th>sqft_basement</th>\n",
              "      <th>yr_built</th>\n",
              "      <th>yr_renovated</th>\n",
              "      <th>zipcode</th>\n",
              "      <th>lat</th>\n",
              "      <th>long</th>\n",
              "      <th>sqft_living15</th>\n",
              "      <th>sqft_lot15</th>\n",
              "    </tr>\n",
              "  </thead>\n",
              "  <tbody>\n",
              "    <tr>\n",
              "      <th>0</th>\n",
              "      <td>0</td>\n",
              "      <td>201410</td>\n",
              "      <td>221900.0</td>\n",
              "      <td>3</td>\n",
              "      <td>1.00</td>\n",
              "      <td>1180</td>\n",
              "      <td>5650</td>\n",
              "      <td>1.0</td>\n",
              "      <td>0</td>\n",
              "      <td>0</td>\n",
              "      <td>3</td>\n",
              "      <td>7</td>\n",
              "      <td>1180</td>\n",
              "      <td>0</td>\n",
              "      <td>1955</td>\n",
              "      <td>0</td>\n",
              "      <td>98178</td>\n",
              "      <td>47.5112</td>\n",
              "      <td>-122.257</td>\n",
              "      <td>1340</td>\n",
              "      <td>5650</td>\n",
              "    </tr>\n",
              "    <tr>\n",
              "      <th>1</th>\n",
              "      <td>1</td>\n",
              "      <td>201502</td>\n",
              "      <td>180000.0</td>\n",
              "      <td>2</td>\n",
              "      <td>1.00</td>\n",
              "      <td>770</td>\n",
              "      <td>10000</td>\n",
              "      <td>1.0</td>\n",
              "      <td>0</td>\n",
              "      <td>0</td>\n",
              "      <td>3</td>\n",
              "      <td>6</td>\n",
              "      <td>770</td>\n",
              "      <td>0</td>\n",
              "      <td>1933</td>\n",
              "      <td>0</td>\n",
              "      <td>98028</td>\n",
              "      <td>47.7379</td>\n",
              "      <td>-122.233</td>\n",
              "      <td>2720</td>\n",
              "      <td>8062</td>\n",
              "    </tr>\n",
              "    <tr>\n",
              "      <th>2</th>\n",
              "      <td>2</td>\n",
              "      <td>201502</td>\n",
              "      <td>510000.0</td>\n",
              "      <td>3</td>\n",
              "      <td>2.00</td>\n",
              "      <td>1680</td>\n",
              "      <td>8080</td>\n",
              "      <td>1.0</td>\n",
              "      <td>0</td>\n",
              "      <td>0</td>\n",
              "      <td>3</td>\n",
              "      <td>8</td>\n",
              "      <td>1680</td>\n",
              "      <td>0</td>\n",
              "      <td>1987</td>\n",
              "      <td>0</td>\n",
              "      <td>98074</td>\n",
              "      <td>47.6168</td>\n",
              "      <td>-122.045</td>\n",
              "      <td>1800</td>\n",
              "      <td>7503</td>\n",
              "    </tr>\n",
              "    <tr>\n",
              "      <th>3</th>\n",
              "      <td>3</td>\n",
              "      <td>201406</td>\n",
              "      <td>257500.0</td>\n",
              "      <td>3</td>\n",
              "      <td>2.25</td>\n",
              "      <td>1715</td>\n",
              "      <td>6819</td>\n",
              "      <td>2.0</td>\n",
              "      <td>0</td>\n",
              "      <td>0</td>\n",
              "      <td>3</td>\n",
              "      <td>7</td>\n",
              "      <td>1715</td>\n",
              "      <td>0</td>\n",
              "      <td>1995</td>\n",
              "      <td>0</td>\n",
              "      <td>98003</td>\n",
              "      <td>47.3097</td>\n",
              "      <td>-122.327</td>\n",
              "      <td>2238</td>\n",
              "      <td>6819</td>\n",
              "    </tr>\n",
              "    <tr>\n",
              "      <th>4</th>\n",
              "      <td>4</td>\n",
              "      <td>201501</td>\n",
              "      <td>291850.0</td>\n",
              "      <td>3</td>\n",
              "      <td>1.50</td>\n",
              "      <td>1060</td>\n",
              "      <td>9711</td>\n",
              "      <td>1.0</td>\n",
              "      <td>0</td>\n",
              "      <td>0</td>\n",
              "      <td>3</td>\n",
              "      <td>7</td>\n",
              "      <td>1060</td>\n",
              "      <td>0</td>\n",
              "      <td>1963</td>\n",
              "      <td>0</td>\n",
              "      <td>98198</td>\n",
              "      <td>47.4095</td>\n",
              "      <td>-122.315</td>\n",
              "      <td>1650</td>\n",
              "      <td>9711</td>\n",
              "    </tr>\n",
              "    <tr>\n",
              "      <th>...</th>\n",
              "      <td>...</td>\n",
              "      <td>...</td>\n",
              "      <td>...</td>\n",
              "      <td>...</td>\n",
              "      <td>...</td>\n",
              "      <td>...</td>\n",
              "      <td>...</td>\n",
              "      <td>...</td>\n",
              "      <td>...</td>\n",
              "      <td>...</td>\n",
              "      <td>...</td>\n",
              "      <td>...</td>\n",
              "      <td>...</td>\n",
              "      <td>...</td>\n",
              "      <td>...</td>\n",
              "      <td>...</td>\n",
              "      <td>...</td>\n",
              "      <td>...</td>\n",
              "      <td>...</td>\n",
              "      <td>...</td>\n",
              "      <td>...</td>\n",
              "    </tr>\n",
              "    <tr>\n",
              "      <th>15030</th>\n",
              "      <td>15030</td>\n",
              "      <td>201410</td>\n",
              "      <td>610685.0</td>\n",
              "      <td>4</td>\n",
              "      <td>2.50</td>\n",
              "      <td>2520</td>\n",
              "      <td>6023</td>\n",
              "      <td>2.0</td>\n",
              "      <td>0</td>\n",
              "      <td>0</td>\n",
              "      <td>3</td>\n",
              "      <td>9</td>\n",
              "      <td>2520</td>\n",
              "      <td>0</td>\n",
              "      <td>2014</td>\n",
              "      <td>0</td>\n",
              "      <td>98056</td>\n",
              "      <td>47.5137</td>\n",
              "      <td>-122.167</td>\n",
              "      <td>2520</td>\n",
              "      <td>6023</td>\n",
              "    </tr>\n",
              "    <tr>\n",
              "      <th>15031</th>\n",
              "      <td>15031</td>\n",
              "      <td>201503</td>\n",
              "      <td>1007500.0</td>\n",
              "      <td>4</td>\n",
              "      <td>3.50</td>\n",
              "      <td>3510</td>\n",
              "      <td>7200</td>\n",
              "      <td>2.0</td>\n",
              "      <td>0</td>\n",
              "      <td>0</td>\n",
              "      <td>3</td>\n",
              "      <td>9</td>\n",
              "      <td>2600</td>\n",
              "      <td>910</td>\n",
              "      <td>2009</td>\n",
              "      <td>0</td>\n",
              "      <td>98136</td>\n",
              "      <td>47.5537</td>\n",
              "      <td>-122.398</td>\n",
              "      <td>2050</td>\n",
              "      <td>6200</td>\n",
              "    </tr>\n",
              "    <tr>\n",
              "      <th>15032</th>\n",
              "      <td>15032</td>\n",
              "      <td>201405</td>\n",
              "      <td>360000.0</td>\n",
              "      <td>3</td>\n",
              "      <td>2.50</td>\n",
              "      <td>1530</td>\n",
              "      <td>1131</td>\n",
              "      <td>3.0</td>\n",
              "      <td>0</td>\n",
              "      <td>0</td>\n",
              "      <td>3</td>\n",
              "      <td>8</td>\n",
              "      <td>1530</td>\n",
              "      <td>0</td>\n",
              "      <td>2009</td>\n",
              "      <td>0</td>\n",
              "      <td>98103</td>\n",
              "      <td>47.6993</td>\n",
              "      <td>-122.346</td>\n",
              "      <td>1530</td>\n",
              "      <td>1509</td>\n",
              "    </tr>\n",
              "    <tr>\n",
              "      <th>15033</th>\n",
              "      <td>15033</td>\n",
              "      <td>201502</td>\n",
              "      <td>400000.0</td>\n",
              "      <td>4</td>\n",
              "      <td>2.50</td>\n",
              "      <td>2310</td>\n",
              "      <td>5813</td>\n",
              "      <td>2.0</td>\n",
              "      <td>0</td>\n",
              "      <td>0</td>\n",
              "      <td>3</td>\n",
              "      <td>8</td>\n",
              "      <td>2310</td>\n",
              "      <td>0</td>\n",
              "      <td>2014</td>\n",
              "      <td>0</td>\n",
              "      <td>98146</td>\n",
              "      <td>47.5107</td>\n",
              "      <td>-122.362</td>\n",
              "      <td>1830</td>\n",
              "      <td>7200</td>\n",
              "    </tr>\n",
              "    <tr>\n",
              "      <th>15034</th>\n",
              "      <td>15034</td>\n",
              "      <td>201410</td>\n",
              "      <td>325000.0</td>\n",
              "      <td>2</td>\n",
              "      <td>0.75</td>\n",
              "      <td>1020</td>\n",
              "      <td>1076</td>\n",
              "      <td>2.0</td>\n",
              "      <td>0</td>\n",
              "      <td>0</td>\n",
              "      <td>3</td>\n",
              "      <td>7</td>\n",
              "      <td>1020</td>\n",
              "      <td>0</td>\n",
              "      <td>2008</td>\n",
              "      <td>0</td>\n",
              "      <td>98144</td>\n",
              "      <td>47.5941</td>\n",
              "      <td>-122.299</td>\n",
              "      <td>1020</td>\n",
              "      <td>1357</td>\n",
              "    </tr>\n",
              "  </tbody>\n",
              "</table>\n",
              "<p>15035 rows × 21 columns</p>\n",
              "</div>"
            ],
            "text/plain": [
              "          id    date      price  ...     long  sqft_living15  sqft_lot15\n",
              "0          0  201410   221900.0  ... -122.257           1340        5650\n",
              "1          1  201502   180000.0  ... -122.233           2720        8062\n",
              "2          2  201502   510000.0  ... -122.045           1800        7503\n",
              "3          3  201406   257500.0  ... -122.327           2238        6819\n",
              "4          4  201501   291850.0  ... -122.315           1650        9711\n",
              "...      ...     ...        ...  ...      ...            ...         ...\n",
              "15030  15030  201410   610685.0  ... -122.167           2520        6023\n",
              "15031  15031  201503  1007500.0  ... -122.398           2050        6200\n",
              "15032  15032  201405   360000.0  ... -122.346           1530        1509\n",
              "15033  15033  201502   400000.0  ... -122.362           1830        7200\n",
              "15034  15034  201410   325000.0  ... -122.299           1020        1357\n",
              "\n",
              "[15035 rows x 21 columns]"
            ]
          },
          "metadata": {
            "tags": []
          },
          "execution_count": 141
        }
      ]
    },
    {
      "cell_type": "markdown",
      "metadata": {
        "id": "OD5Z3jcXHd0v"
      },
      "source": [
        "가격을 예측해야 하므로 y에 정답 레이블을 저장하고, 원본데이터에서는 제거한다."
      ]
    },
    {
      "cell_type": "code",
      "metadata": {
        "colab": {
          "base_uri": "https://localhost:8080/"
        },
        "id": "5hESDzbPHc6f",
        "outputId": "1cdbe4f3-e161-40cb-9258-5478cc832ea7"
      },
      "source": [
        "y = train['price']\n",
        "del train['price']\n",
        "\n",
        "print(train.columns)\n",
        "y"
      ],
      "execution_count": 142,
      "outputs": [
        {
          "output_type": "stream",
          "text": [
            "Index(['id', 'date', 'bedrooms', 'bathrooms', 'sqft_living', 'sqft_lot',\n",
            "       'floors', 'waterfront', 'view', 'condition', 'grade', 'sqft_above',\n",
            "       'sqft_basement', 'yr_built', 'yr_renovated', 'zipcode', 'lat', 'long',\n",
            "       'sqft_living15', 'sqft_lot15'],\n",
            "      dtype='object')\n"
          ],
          "name": "stdout"
        },
        {
          "output_type": "execute_result",
          "data": {
            "text/plain": [
              "0         221900.0\n",
              "1         180000.0\n",
              "2         510000.0\n",
              "3         257500.0\n",
              "4         291850.0\n",
              "           ...    \n",
              "15030     610685.0\n",
              "15031    1007500.0\n",
              "15032     360000.0\n",
              "15033     400000.0\n",
              "15034     325000.0\n",
              "Name: price, Length: 15035, dtype: float64"
            ]
          },
          "metadata": {
            "tags": []
          },
          "execution_count": 142
        }
      ]
    },
    {
      "cell_type": "markdown",
      "metadata": {
        "id": "bY9LxliuHnVF"
      },
      "source": [
        "추가로 필요없는 'id'칼럼도 제거한다."
      ]
    },
    {
      "cell_type": "code",
      "metadata": {
        "colab": {
          "base_uri": "https://localhost:8080/"
        },
        "id": "RymhBpFbHm1r",
        "outputId": "67b685b5-9a46-4429-f358-33067d7719cf"
      },
      "source": [
        "del train['id']\n",
        "\n",
        "print(train.columns)"
      ],
      "execution_count": 143,
      "outputs": [
        {
          "output_type": "stream",
          "text": [
            "Index(['date', 'bedrooms', 'bathrooms', 'sqft_living', 'sqft_lot', 'floors',\n",
            "       'waterfront', 'view', 'condition', 'grade', 'sqft_above',\n",
            "       'sqft_basement', 'yr_built', 'yr_renovated', 'zipcode', 'lat', 'long',\n",
            "       'sqft_living15', 'sqft_lot15'],\n",
            "      dtype='object')\n"
          ],
          "name": "stdout"
        }
      ]
    },
    {
      "cell_type": "markdown",
      "metadata": {
        "id": "pWNBhpDhHtNg"
      },
      "source": [
        "test데이터에서도 train데이터와 같은 전처리를 한다."
      ]
    },
    {
      "cell_type": "code",
      "metadata": {
        "colab": {
          "base_uri": "https://localhost:8080/"
        },
        "id": "oB00M4psHsqh",
        "outputId": "882fb404-cb69-4e0c-d27d-64ffe8656d3c"
      },
      "source": [
        "test['date'] = test['date'].apply(lambda i: i[:6]).astype(int)\n",
        "\n",
        "del test['id']\n",
        "\n",
        "print(test.columns)"
      ],
      "execution_count": 144,
      "outputs": [
        {
          "output_type": "stream",
          "text": [
            "Index(['date', 'bedrooms', 'bathrooms', 'sqft_living', 'sqft_lot', 'floors',\n",
            "       'waterfront', 'view', 'condition', 'grade', 'sqft_above',\n",
            "       'sqft_basement', 'yr_built', 'yr_renovated', 'zipcode', 'lat', 'long',\n",
            "       'sqft_living15', 'sqft_lot15'],\n",
            "      dtype='object')\n"
          ],
          "name": "stdout"
        }
      ]
    },
    {
      "cell_type": "markdown",
      "metadata": {
        "id": "tNWRSOTxa8g4"
      },
      "source": [
        "### 레이블 데이터 로그변환"
      ]
    },
    {
      "cell_type": "markdown",
      "metadata": {
        "id": "G2Ec2HjBbLs-"
      },
      "source": [
        "레이블 데이터('price'값) 분포확인"
      ]
    },
    {
      "cell_type": "code",
      "metadata": {
        "colab": {
          "base_uri": "https://localhost:8080/",
          "height": 289
        },
        "id": "k-ATTGJw33ak",
        "outputId": "2f5d7f60-bbd2-4db8-ed4f-e719293fc638"
      },
      "source": [
        "sns.kdeplot(y)\n",
        "plt.show()"
      ],
      "execution_count": 145,
      "outputs": [
        {
          "output_type": "display_data",
          "data": {
            "image/png": "[encoded data removed]",
            "text/plain": [
              "<Figure size 432x288 with 1 Axes>"
            ]
          },
          "metadata": {
            "tags": [],
            "image/png": {
              "width": 392,
              "height": 272
            },
            "needs_background": "light"
          }
        }
      ]
    },
    {
      "cell_type": "markdown",
      "metadata": {
        "id": "qiY8I62ubSl0"
      },
      "source": [
        "로그변환 적용"
      ]
    },
    {
      "cell_type": "code",
      "metadata": {
        "colab": {
          "base_uri": "https://localhost:8080/"
        },
        "id": "d0ezrbcP33d5",
        "outputId": "ab720b41-e0be-46d6-9ff2-b4143a9ca49d"
      },
      "source": [
        "y = np.log1p(y)\n",
        "y"
      ],
      "execution_count": 146,
      "outputs": [
        {
          "output_type": "execute_result",
          "data": {
            "text/plain": [
              "0        12.309987\n",
              "1        12.100718\n",
              "2        13.142168\n",
              "3        12.458779\n",
              "4        12.583999\n",
              "           ...    \n",
              "15030    13.322338\n",
              "15031    13.822984\n",
              "15032    12.793862\n",
              "15033    12.899222\n",
              "15034    12.691584\n",
              "Name: price, Length: 15035, dtype: float64"
            ]
          },
          "metadata": {
            "tags": []
          },
          "execution_count": 146
        }
      ]
    },
    {
      "cell_type": "markdown",
      "metadata": {
        "id": "SxBVbcCcbUuN"
      },
      "source": [
        "로그변환 적용한 레이블 데이터의 분포"
      ]
    },
    {
      "cell_type": "code",
      "metadata": {
        "colab": {
          "base_uri": "https://localhost:8080/",
          "height": 279
        },
        "id": "oqN8v7YSbFRW",
        "outputId": "ea003f51-5a02-4504-c56c-cf30e001ac22"
      },
      "source": [
        "sns.kdeplot(y)\n",
        "plt.show()"
      ],
      "execution_count": 147,
      "outputs": [
        {
          "output_type": "display_data",
          "data": {
            "image/png": "[encoded data removed]",
            "text/plain": [
              "<Figure size 432x288 with 1 Axes>"
            ]
          },
          "metadata": {
            "tags": [],
            "image/png": {
              "width": 385,
              "height": 262
            },
            "needs_background": "light"
          }
        }
      ]
    },
    {
      "cell_type": "markdown",
      "metadata": {
        "id": "2S4_z1oOuZSd"
      },
      "source": [
        "### 학습 데이터의 자료형 확인 \n",
        "모두 정수 또는 실수형이므로 모델 학습에 활용할 수 있다."
      ]
    },
    {
      "cell_type": "code",
      "metadata": {
        "colab": {
          "base_uri": "https://localhost:8080/"
        },
        "id": "OJb4L-oRbau_",
        "outputId": "f2d4f314-a0da-4bdc-e4d8-bdf197a21278"
      },
      "source": [
        "train.info()"
      ],
      "execution_count": 148,
      "outputs": [
        {
          "output_type": "stream",
          "text": [
            "<class 'pandas.core.frame.DataFrame'>\n",
            "RangeIndex: 15035 entries, 0 to 15034\n",
            "Data columns (total 19 columns):\n",
            " #   Column         Non-Null Count  Dtype  \n",
            "---  ------         --------------  -----  \n",
            " 0   date           15035 non-null  int64  \n",
            " 1   bedrooms       15035 non-null  int64  \n",
            " 2   bathrooms      15035 non-null  float64\n",
            " 3   sqft_living    15035 non-null  int64  \n",
            " 4   sqft_lot       15035 non-null  int64  \n",
            " 5   floors         15035 non-null  float64\n",
            " 6   waterfront     15035 non-null  int64  \n",
            " 7   view           15035 non-null  int64  \n",
            " 8   condition      15035 non-null  int64  \n",
            " 9   grade          15035 non-null  int64  \n",
            " 10  sqft_above     15035 non-null  int64  \n",
            " 11  sqft_basement  15035 non-null  int64  \n",
            " 12  yr_built       15035 non-null  int64  \n",
            " 13  yr_renovated   15035 non-null  int64  \n",
            " 14  zipcode        15035 non-null  int64  \n",
            " 15  lat            15035 non-null  float64\n",
            " 16  long           15035 non-null  float64\n",
            " 17  sqft_living15  15035 non-null  int64  \n",
            " 18  sqft_lot15     15035 non-null  int64  \n",
            "dtypes: float64(4), int64(15)\n",
            "memory usage: 2.2 MB\n"
          ],
          "name": "stdout"
        }
      ]
    },
    {
      "cell_type": "markdown",
      "metadata": {
        "id": "yuCYOsSgboeX"
      },
      "source": [
        "## (2) 함수로 구현\n",
        "머신러닝 모델을 학습시키고 튜닝을 하다 보면 몇 시간이 훌쩍 지났는지 모를 만큼 실험해볼 것들이 많습니다.<br>\n",
        "보다 다양하고 많은 실험을 하기 위해서는, 그만큼 실험을 위한 도구들이 잘 준비되어 있는 것이 유리하겠죠.\n",
        "\n",
        "따라서 여러 가지 반복되는 작업들은 함수로 먼저 만들어 놓고 많은 실험을 하는 것이 좋습니다. 이제부터 구현해 보겠습니다."
      ]
    },
    {
      "cell_type": "markdown",
      "metadata": {
        "id": "3sj3YAtecRNS"
      },
      "source": [
        "### 1.RMSE 계산\n",
        "데이터셋을 훈련 데이터셋과 검증 데이터셋으로 나누기 위한 **train_test_split**함수와, <br>\n",
        "RMSE 점수를 계산하기 위한 **mean_squared_error**를 가져옵니다."
      ]
    },
    {
      "cell_type": "code",
      "metadata": {
        "id": "53pQAk22ctu2"
      },
      "source": [
        "from sklearn.model_selection import train_test_split\n",
        "from sklearn.metrics import mean_squared_error"
      ],
      "execution_count": 149,
      "outputs": []
    },
    {
      "cell_type": "markdown",
      "metadata": {
        "id": "R8HpSotec0kT"
      },
      "source": [
        "한 가지 주의해야 할 것은, y_test나 y_pred는 위에서 *np.log1p( )*로 변환이 된 값이기 때문에 **원래 데이터의 단위에 맞게 되돌리기 위해** *np.expm1( )*을 추가해야 한다는 점입니다.\n",
        "\n",
        "exp로 다시 변환해서 mean_squared_error를 계산한 값에 *np.sqrt( )*를 취하면 RMSE 값을 얻을 수 있겠죠!\n",
        "\n"
      ]
    },
    {
      "cell_type": "code",
      "metadata": {
        "id": "Odyo6duQczwJ"
      },
      "source": [
        "def rmse(y_test, y_pred):\n",
        "    return np.sqrt(mean_squared_error(np.expm1(y_test), np.expm1(y_pred)))"
      ],
      "execution_count": 150,
      "outputs": []
    },
    {
      "cell_type": "markdown",
      "metadata": {
        "id": "eI28KkO6eGjz"
      },
      "source": [
        "### 2.모델 가져오기"
      ]
    },
    {
      "cell_type": "markdown",
      "metadata": {
        "id": "zXwMvcCLd726"
      },
      "source": [
        "XGBRegressor, LGBMRegressor, GradientBoostingRegressor, RandomForestRegressor 네 가지 모델을 가져오겠습니다."
      ]
    },
    {
      "cell_type": "code",
      "metadata": {
        "id": "reGzpqWfd8cp"
      },
      "source": [
        "from xgboost import XGBRegressor\n",
        "from lightgbm import LGBMRegressor\n",
        "from sklearn.ensemble import GradientBoostingRegressor, RandomForestRegressor"
      ],
      "execution_count": 151,
      "outputs": []
    },
    {
      "cell_type": "markdown",
      "metadata": {
        "id": "Q3nHcA1yfJZg"
      },
      "source": [
        "앞으로 우리는 베이스라인에서부터 시작해서 다양한 실험을 통해 **성능이 개선되는지를 검증**해 보려고 합니다. <br>\n",
        "이때, 어떤 시도가 모델 성능 향상에 긍정적이었는지 여부를 판단하기 위해서는 랜덤적 요소의 변화 때문에 생기는 **불확실성을 제거**해야 합니다. 따라서 아래와 같이 **random_state 값을 특정 값으로 고정**시킬 것입니다."
      ]
    },
    {
      "cell_type": "code",
      "metadata": {
        "id": "2T-M9iKHfU5N"
      },
      "source": [
        "# random_state는 모델초기화나 데이터셋 구성에 사용되는 랜덤 시드값입니다. \n",
        "# random_state=None       # 이게 초기값입니다. 아무것도 지정하지 않고 None을 넘겨주면 모델 내부에서 임의로 선택합니다.  (매번 바뀜)\n",
        "random_state=2020         # 하지만 우리는 이렇게 고정값을 세팅해 두겠습니다. \n",
        "\n",
        "gboost = GradientBoostingRegressor(random_state=random_state)\n",
        "xgboost = XGBRegressor(random_state=random_state)\n",
        "lightgbm = LGBMRegressor(random_state=random_state)\n",
        "rdforest = RandomForestRegressor(random_state=random_state)\n",
        "\n",
        "models = [gboost, xgboost, lightgbm, rdforest]"
      ],
      "execution_count": 152,
      "outputs": []
    },
    {
      "cell_type": "markdown",
      "metadata": {
        "id": "WbCM69bLftux"
      },
      "source": [
        "### Tip) 모델객체의 종류 확인"
      ]
    },
    {
      "cell_type": "code",
      "metadata": {
        "colab": {
          "base_uri": "https://localhost:8080/"
        },
        "id": "95sFo6iifg2_",
        "outputId": "c4b6c491-bdbc-4d93-8dd7-d57d4e163a0a"
      },
      "source": [
        "print(gboost.__class__.__name__)\n",
        "print(xgboost.__class__.__name__)\n",
        "print(lightgbm.__class__.__name__)\n",
        "print(rdforest.__class__.__name__)"
      ],
      "execution_count": 154,
      "outputs": [
        {
          "output_type": "stream",
          "text": [
            "GradientBoostingRegressor\n",
            "XGBRegressor\n",
            "LGBMRegressor\n",
            "RandomForestRegressor\n"
          ],
          "name": "stdout"
        }
      ]
    },
    {
      "cell_type": "markdown",
      "metadata": {
        "id": "yj_RbIpdf9a_"
      },
      "source": [
        "### 3.네 가지 모델에 대한 RMSE값 구하기"
      ]
    },
    {
      "cell_type": "code",
      "metadata": {
        "colab": {
          "base_uri": "https://localhost:8080/"
        },
        "id": "MvwxT-0wf1jT",
        "outputId": "291db8d9-7cdc-4495-d86d-59756cd861e0"
      },
      "source": [
        "df = {}\n",
        "\n",
        "for model in models:\n",
        "    # 모델 이름 획득\n",
        "    model_name = model.__class__.__name__\n",
        "\n",
        "    # train, test 데이터셋 분리 - 여기에도 random_state를 고정합니다. \n",
        "    X_train, X_test, y_train, y_test = train_test_split(train, y, random_state=random_state, test_size=0.2)\n",
        "\n",
        "    # 모델 학습\n",
        "    model.fit(X_train, y_train)\n",
        "    \n",
        "    # 예측\n",
        "    y_pred = model.predict(X_test)\n",
        "\n",
        "    # 예측 결과의 rmse값 저장\n",
        "    df[model_name] = rmse(y_test, y_pred)\n",
        "    \n",
        "    # data frame에 저장\n",
        "    score_df = pd.DataFrame(df, index=['RMSE']).T.sort_values('RMSE', ascending=False)\n",
        "    \n",
        "df"
      ],
      "execution_count": 155,
      "outputs": [
        {
          "output_type": "stream",
          "text": [
            "[05:18:28] WARNING: /workspace/src/objective/regression_obj.cu:152: reg:linear is now deprecated in favor of reg:squarederror.\n"
          ],
          "name": "stdout"
        },
        {
          "output_type": "execute_result",
          "data": {
            "text/plain": [
              "{'GradientBoostingRegressor': 128360.19649691365,\n",
              " 'LGBMRegressor': 111920.36735892233,\n",
              " 'RandomForestRegressor': 125576.03932336495,\n",
              " 'XGBRegressor': 131067.44622809246}"
            ]
          },
          "metadata": {
            "tags": []
          },
          "execution_count": 155
        }
      ]
    },
    {
      "cell_type": "markdown",
      "metadata": {
        "id": "aU99qHrWgLAg"
      },
      "source": [
        "###4.3번 과정을 함수로 구현\n",
        "모델과 데이터셋이 있다면 RMSE 결과값을 반환하는 함수$get\\_scores$를 작성한다."
      ]
    },
    {
      "cell_type": "code",
      "metadata": {
        "id": "k95IsytjgJ1x"
      },
      "source": [
        "def get_scores(models, train, y):\n",
        "    df = {}\n",
        "    \n",
        "    for model in models:\n",
        "        model_name = model.__class__.__name__\n",
        "        \n",
        "        X_train, X_test, y_train, y_test = train_test_split(train, y, random_state=random_state, test_size=0.2)\n",
        "        model.fit(X_train, y_train)\n",
        "        y_pred = model.predict(X_test)\n",
        "        \n",
        "        df[model_name] = rmse(y_test, y_pred)\n",
        "        score_df = pd.DataFrame(df, index=['RMSE']).T.sort_values('RMSE', ascending=False)\n",
        "            \n",
        "    return score_df"
      ],
      "execution_count": 156,
      "outputs": []
    },
    {
      "cell_type": "markdown",
      "metadata": {
        "id": "Q3bWPuIOgyhE"
      },
      "source": [
        "## (3) 그리드 탐색\n",
        "하이퍼 파라미터를 조합해 보는 방법으로 **그리드 탐색**과 **랜덤 탐색**이 있다.\n",
        "\n",
        "<br>\n",
        "\n",
        "**'그리드 탐색'**은 사람이 먼저 **탐색할 하이퍼 파라미터의 값들을 정해두고,** 그 값들로 만들어질 수 있는 모든 조합을 탐색한다. 특정 값에 대한 하이퍼 파라미터 조합을 모두 탐색하고자 할 때 유리하다.\n",
        "\n",
        "**'랜덤 탐색'**은 사람이 **탐색할 하이퍼 파라미터의 공간만 정해두고,** 그 안에서 랜덤으로 조합을 선택해서 탐색하는 방법이다."
      ]
    },
    {
      "cell_type": "markdown",
      "metadata": {
        "id": "Tmk-TEMvhZ96"
      },
      "source": [
        "$sklearn.model\\_selection$ 라이브러리 안에 있는 $GridSearchCV$ 클래스를 활용할 것이다.\n",
        "\n",
        "<br>\n",
        "\n",
        "먼저 $GridSearchCV$에 입력되는 인자들은 다음과 같다.\n",
        "\n",
        "- **param_grid** : 탐색할 파라미터의 종류 (딕셔너리로 입력)\n",
        "- **scoring** : 모델의 성능을 평가할 지표\n",
        "- **cv** : cross validation을 수행하기 위해 train 데이터셋을 나누는 조각의 개수\n",
        "- **verbose** : 그리드 탐색을 진행하면서 진행 과정을 출력해서 보여줄 메세지의 양 (숫자가 클수록 더 많은 메세지를 출력합니다.)\n",
        "- **n_jobs** : 그리드 탐색을 진행하면서 사용할 CPU의 개수"
      ]
    },
    {
      "cell_type": "code",
      "metadata": {
        "id": "OCApDz5lhK97"
      },
      "source": [
        "from sklearn.model_selection import GridSearchCV"
      ],
      "execution_count": 157,
      "outputs": []
    },
    {
      "cell_type": "markdown",
      "metadata": {
        "id": "VAgRHVAyi7w0"
      },
      "source": [
        "param_grid에 탐색할 xgboost 관련 하이퍼 파라미터를 넣어 놓는다."
      ]
    },
    {
      "cell_type": "code",
      "metadata": {
        "id": "aX9XNGUyi4-Y"
      },
      "source": [
        "param_grid = {\n",
        "    'n_estimators': [50, 100],\n",
        "    'max_depth': [1, 10],\n",
        "}"
      ],
      "execution_count": 158,
      "outputs": []
    },
    {
      "cell_type": "markdown",
      "metadata": {
        "id": "pf4b0SFajBFu"
      },
      "source": [
        "LightGBM(lgbm) 모델을 사용해보자."
      ]
    },
    {
      "cell_type": "code",
      "metadata": {
        "id": "X1wLeMo4jAnT"
      },
      "source": [
        "model = LGBMRegressor(random_state=random_state)"
      ],
      "execution_count": 159,
      "outputs": []
    },
    {
      "cell_type": "markdown",
      "metadata": {
        "id": "TsQWtdIEjNjk"
      },
      "source": [
        " $GridSearchCV$(그리드 탐색)를 이용해서 grid_model **모델을 초기화**하고, train과 y 데이터로 모델을 간단히 **학습**시키면<br>\n",
        " param_grid 내의 **모든 하이퍼 파라미터의 조합에 대해 실험이 완료**됩니다."
      ]
    },
    {
      "cell_type": "code",
      "metadata": {
        "colab": {
          "base_uri": "https://localhost:8080/"
        },
        "id": "2IP6H4zTjMMj",
        "outputId": "4230aaf2-7770-42c6-9138-50c1fd831193"
      },
      "source": [
        "grid_model = GridSearchCV(model, param_grid=param_grid, \\\n",
        "                        scoring='neg_mean_squared_error', \\\n",
        "                        cv=5, verbose=1, n_jobs=5)\n",
        "\n",
        "grid_model.fit(train, y)"
      ],
      "execution_count": 160,
      "outputs": [
        {
          "output_type": "stream",
          "text": [
            "Fitting 5 folds for each of 4 candidates, totalling 20 fits\n"
          ],
          "name": "stdout"
        },
        {
          "output_type": "stream",
          "text": [
            "[Parallel(n_jobs=5)]: Using backend LokyBackend with 5 concurrent workers.\n",
            "[Parallel(n_jobs=5)]: Done  20 out of  20 | elapsed:    6.0s finished\n"
          ],
          "name": "stderr"
        },
        {
          "output_type": "execute_result",
          "data": {
            "text/plain": [
              "GridSearchCV(cv=5, error_score=nan,\n",
              "             estimator=LGBMRegressor(boosting_type='gbdt', class_weight=None,\n",
              "                                     colsample_bytree=1.0,\n",
              "                                     importance_type='split', learning_rate=0.1,\n",
              "                                     max_depth=-1, min_child_samples=20,\n",
              "                                     min_child_weight=0.001, min_split_gain=0.0,\n",
              "                                     n_estimators=100, n_jobs=-1, num_leaves=31,\n",
              "                                     objective=None, random_state=2020,\n",
              "                                     reg_alpha=0.0, reg_lambda=0.0, silent=True,\n",
              "                                     subsample=1.0, subsample_for_bin=200000,\n",
              "                                     subsample_freq=0),\n",
              "             iid='deprecated', n_jobs=5,\n",
              "             param_grid={'max_depth': [1, 10], 'n_estimators': [50, 100]},\n",
              "             pre_dispatch='2*n_jobs', refit=True, return_train_score=False,\n",
              "             scoring='neg_mean_squared_error', verbose=1)"
            ]
          },
          "metadata": {
            "tags": []
          },
          "execution_count": 160
        }
      ]
    },
    {
      "cell_type": "markdown",
      "metadata": {
        "id": "6CzsW-3ejvFA"
      },
      "source": [
        "### Q. totalling 20 fits에서 20은 어떻게 계산된 값일까?\n",
        "\n",
        "- 위에서 우리가 입력한 param_grid에 n_estimators 2 가지, max_depth 2 가지를 넣었으므로 가능한 조합은 총 2 × 2 = 4가지이다.\n",
        "- 또한, cross validation은 각 경우마다 5번을 진행하니 4 X 5 = 총 20 fits를 진행하게 된다.\n",
        "- 여기에서 cross validation을 5번 진행하는 이유는, 각 조합에 대해 단 한 번만 실험을 하는 것보다 5번을 진행해서 평균을 취하는 것이 일반화 오차를 추정하는 데에 더 신뢰도가 높기 때문이다. 한 번만 해 보는 것보다는 다섯 번을 해보고 구한 평균값이 더 정확할 것이다."
      ]
    },
    {
      "cell_type": "markdown",
      "metadata": {
        "id": "I4wXv28TkU5C"
      },
      "source": [
        "### 실험에 대한 결과는 모델 객체의 **cv_results_**속성에 저장된다."
      ]
    },
    {
      "cell_type": "code",
      "metadata": {
        "colab": {
          "base_uri": "https://localhost:8080/"
        },
        "id": "D-Vr1Di9kc8t",
        "outputId": "ecf82763-10e8-4f64-dd06-3aa34822fd8e"
      },
      "source": [
        "grid_model.cv_results_"
      ],
      "execution_count": 161,
      "outputs": [
        {
          "output_type": "execute_result",
          "data": {
            "text/plain": [
              "{'mean_fit_time': array([0.26219773, 0.33619695, 0.83156734, 1.3789001 ]),\n",
              " 'mean_score_time': array([0.02311482, 0.02844672, 0.05055881, 0.0656219 ]),\n",
              " 'mean_test_score': array([-0.07339447, -0.05502043, -0.02917734, -0.02702714]),\n",
              " 'param_max_depth': masked_array(data=[1, 1, 10, 10],\n",
              "              mask=[False, False, False, False],\n",
              "        fill_value='?',\n",
              "             dtype=object),\n",
              " 'param_n_estimators': masked_array(data=[50, 100, 50, 100],\n",
              "              mask=[False, False, False, False],\n",
              "        fill_value='?',\n",
              "             dtype=object),\n",
              " 'params': [{'max_depth': 1, 'n_estimators': 50},\n",
              "  {'max_depth': 1, 'n_estimators': 100},\n",
              "  {'max_depth': 10, 'n_estimators': 50},\n",
              "  {'max_depth': 10, 'n_estimators': 100}],\n",
              " 'rank_test_score': array([4, 3, 2, 1], dtype=int32),\n",
              " 'split0_test_score': array([-0.0756974 , -0.05555652, -0.02885847, -0.02665428]),\n",
              " 'split1_test_score': array([-0.07666447, -0.057876  , -0.03041465, -0.02795896]),\n",
              " 'split2_test_score': array([-0.07354904, -0.05546079, -0.03068533, -0.02834112]),\n",
              " 'split3_test_score': array([-0.07510863, -0.05582109, -0.02987609, -0.02774809]),\n",
              " 'split4_test_score': array([-0.06595281, -0.05038773, -0.02605217, -0.02443328]),\n",
              " 'std_fit_time': array([0.01946235, 0.00960787, 0.04935011, 0.03911621]),\n",
              " 'std_score_time': array([0.00696813, 0.00390039, 0.00565216, 0.0253529 ]),\n",
              " 'std_test_score': array([0.00385583, 0.00247946, 0.00168295, 0.00141292])}"
            ]
          },
          "metadata": {
            "tags": []
          },
          "execution_count": 161
        }
      ]
    },
    {
      "cell_type": "markdown",
      "metadata": {
        "id": "2lLOnCfblfKi"
      },
      "source": [
        "cv_results_딕셔너리에서 **'params'는 파라미터 조합**이고, **'mean_test_score'는 각 조합에 대한 테스트 점수**이다."
      ]
    },
    {
      "cell_type": "code",
      "metadata": {
        "colab": {
          "base_uri": "https://localhost:8080/"
        },
        "id": "WUA37kv7khoz",
        "outputId": "3c3f7b7e-4cb4-456b-acd5-4dac0ee0c63d"
      },
      "source": [
        "params = grid_model.cv_results_['params']\n",
        "score = grid_model.cv_results_['mean_test_score']\n",
        "\n",
        "print(params)\n",
        "print(score)"
      ],
      "execution_count": 163,
      "outputs": [
        {
          "output_type": "stream",
          "text": [
            "[{'max_depth': 1, 'n_estimators': 50}, {'max_depth': 1, 'n_estimators': 100}, {'max_depth': 10, 'n_estimators': 50}, {'max_depth': 10, 'n_estimators': 100}]\n",
            "[-0.07339447 -0.05502043 -0.02917734 -0.02702714]\n"
          ],
          "name": "stdout"
        }
      ]
    },
    {
      "cell_type": "markdown",
      "metadata": {
        "id": "yy5z4WzmmFY_"
      },
      "source": [
        "params와 score데이터를 이용하여 하나의 DataFrame으로 만든다.\n",
        "- score가 음수인 이유는 GridSearchCV에서 모델을 초기화할 때 scoring 인자에 **MSE에 음수를 취한 값**인 **'neg_mean_squared_error'**를 입력했기 때문이다.\n",
        "\n",
        "<br>\n",
        "\n",
        "[The scoring parameter](https://scikit-learn.org/stable/modules/model_evaluation.html#scoring-parameter)\n",
        "\n",
        "- 각 점수(scoring)를 세 가지로 분류해 놓았다. (Classification, Clustering, Regression)\n",
        "- 어떤 문제를 푸느냐에 따라 각 상황에 알맞은 점수 체계를 사용할 수 있다."
      ]
    },
    {
      "cell_type": "code",
      "metadata": {
        "colab": {
          "base_uri": "https://localhost:8080/",
          "height": 173
        },
        "id": "RkS2n61vmrC-",
        "outputId": "c31aacf4-7672-4005-dee3-28ad7a25e24a"
      },
      "source": [
        "results = pd.DataFrame(params)\n",
        "results['score'] = score\n",
        "\n",
        "results"
      ],
      "execution_count": 164,
      "outputs": [
        {
          "output_type": "execute_result",
          "data": {
            "text/html": [
              "<div>\n",
              "<style scoped>\n",
              "    .dataframe tbody tr th:only-of-type {\n",
              "        vertical-align: middle;\n",
              "    }\n",
              "\n",
              "    .dataframe tbody tr th {\n",
              "        vertical-align: top;\n",
              "    }\n",
              "\n",
              "    .dataframe thead th {\n",
              "        text-align: right;\n",
              "    }\n",
              "</style>\n",
              "<table border=\"1\" class=\"dataframe\">\n",
              "  <thead>\n",
              "    <tr style=\"text-align: right;\">\n",
              "      <th></th>\n",
              "      <th>max_depth</th>\n",
              "      <th>n_estimators</th>\n",
              "      <th>score</th>\n",
              "    </tr>\n",
              "  </thead>\n",
              "  <tbody>\n",
              "    <tr>\n",
              "      <th>0</th>\n",
              "      <td>1</td>\n",
              "      <td>50</td>\n",
              "      <td>-0.073394</td>\n",
              "    </tr>\n",
              "    <tr>\n",
              "      <th>1</th>\n",
              "      <td>1</td>\n",
              "      <td>100</td>\n",
              "      <td>-0.055020</td>\n",
              "    </tr>\n",
              "    <tr>\n",
              "      <th>2</th>\n",
              "      <td>10</td>\n",
              "      <td>50</td>\n",
              "      <td>-0.029177</td>\n",
              "    </tr>\n",
              "    <tr>\n",
              "      <th>3</th>\n",
              "      <td>10</td>\n",
              "      <td>100</td>\n",
              "      <td>-0.027027</td>\n",
              "    </tr>\n",
              "  </tbody>\n",
              "</table>\n",
              "</div>"
            ],
            "text/plain": [
              "   max_depth  n_estimators     score\n",
              "0          1            50 -0.073394\n",
              "1          1           100 -0.055020\n",
              "2         10            50 -0.029177\n",
              "3         10           100 -0.027027"
            ]
          },
          "metadata": {
            "tags": []
          },
          "execution_count": 164
        }
      ]
    },
    {
      "cell_type": "markdown",
      "metadata": {
        "id": "PAXcm_FhoBmX"
      },
      "source": [
        "score가 음수로 된 MSE이기 때문에 -1을 곱해주고 np.sqrt로 루트 연산을 해서 RMSE점수로 변환한다."
      ]
    },
    {
      "cell_type": "code",
      "metadata": {
        "colab": {
          "base_uri": "https://localhost:8080/",
          "height": 173
        },
        "id": "gBSB0fWjoBBT",
        "outputId": "14aec7f9-0fd8-471e-9223-124e7a40022c"
      },
      "source": [
        "results['RMSE'] = np.sqrt(-1 * results['score'])\n",
        "\n",
        "results"
      ],
      "execution_count": 165,
      "outputs": [
        {
          "output_type": "execute_result",
          "data": {
            "text/html": [
              "<div>\n",
              "<style scoped>\n",
              "    .dataframe tbody tr th:only-of-type {\n",
              "        vertical-align: middle;\n",
              "    }\n",
              "\n",
              "    .dataframe tbody tr th {\n",
              "        vertical-align: top;\n",
              "    }\n",
              "\n",
              "    .dataframe thead th {\n",
              "        text-align: right;\n",
              "    }\n",
              "</style>\n",
              "<table border=\"1\" class=\"dataframe\">\n",
              "  <thead>\n",
              "    <tr style=\"text-align: right;\">\n",
              "      <th></th>\n",
              "      <th>max_depth</th>\n",
              "      <th>n_estimators</th>\n",
              "      <th>score</th>\n",
              "      <th>RMSE</th>\n",
              "    </tr>\n",
              "  </thead>\n",
              "  <tbody>\n",
              "    <tr>\n",
              "      <th>0</th>\n",
              "      <td>1</td>\n",
              "      <td>50</td>\n",
              "      <td>-0.073394</td>\n",
              "      <td>0.270914</td>\n",
              "    </tr>\n",
              "    <tr>\n",
              "      <th>1</th>\n",
              "      <td>1</td>\n",
              "      <td>100</td>\n",
              "      <td>-0.055020</td>\n",
              "      <td>0.234564</td>\n",
              "    </tr>\n",
              "    <tr>\n",
              "      <th>2</th>\n",
              "      <td>10</td>\n",
              "      <td>50</td>\n",
              "      <td>-0.029177</td>\n",
              "      <td>0.170814</td>\n",
              "    </tr>\n",
              "    <tr>\n",
              "      <th>3</th>\n",
              "      <td>10</td>\n",
              "      <td>100</td>\n",
              "      <td>-0.027027</td>\n",
              "      <td>0.164399</td>\n",
              "    </tr>\n",
              "  </tbody>\n",
              "</table>\n",
              "</div>"
            ],
            "text/plain": [
              "   max_depth  n_estimators     score      RMSE\n",
              "0          1            50 -0.073394  0.270914\n",
              "1          1           100 -0.055020  0.234564\n",
              "2         10            50 -0.029177  0.170814\n",
              "3         10           100 -0.027027  0.164399"
            ]
          },
          "metadata": {
            "tags": []
          },
          "execution_count": 165
        }
      ]
    },
    {
      "cell_type": "markdown",
      "metadata": {
        "id": "PT-GXhaLoZbL"
      },
      "source": [
        "### Q. 위에서 구한 RMSE는 10만을 넘는 값이 었는데 왜 값이 많이 다를까?\n",
        "\n",
        "위에서 구한 RMSE는 로그변환 된 price값을 다시 복원해서 계산하였는데, \n",
        "그리드 탐색을 할 때는 np.expm1()으로 복원하는 과정이 없었기 때문에 log 변환된 price 데이터에서 손실함수값을 계산했기 때문이다.\n",
        "\n",
        "\n",
        "따라서 위 데이터 프레임에 나타난 score값은 정확히 말하면 RMSE가 아니라 **RMSLE** (Root Mean Squared Log Error) 이다."
      ]
    },
    {
      "cell_type": "code",
      "metadata": {
        "colab": {
          "base_uri": "https://localhost:8080/",
          "height": 173
        },
        "id": "eNhq5vgdprhF",
        "outputId": "14b58f5d-d0d7-43fd-c9ff-81a1baf438f1"
      },
      "source": [
        "results = results.rename(columns={'RMSE': 'RMSLE'})   # 칼럼명 변경\n",
        "\n",
        "results"
      ],
      "execution_count": 166,
      "outputs": [
        {
          "output_type": "execute_result",
          "data": {
            "text/html": [
              "<div>\n",
              "<style scoped>\n",
              "    .dataframe tbody tr th:only-of-type {\n",
              "        vertical-align: middle;\n",
              "    }\n",
              "\n",
              "    .dataframe tbody tr th {\n",
              "        vertical-align: top;\n",
              "    }\n",
              "\n",
              "    .dataframe thead th {\n",
              "        text-align: right;\n",
              "    }\n",
              "</style>\n",
              "<table border=\"1\" class=\"dataframe\">\n",
              "  <thead>\n",
              "    <tr style=\"text-align: right;\">\n",
              "      <th></th>\n",
              "      <th>max_depth</th>\n",
              "      <th>n_estimators</th>\n",
              "      <th>score</th>\n",
              "      <th>RMSLE</th>\n",
              "    </tr>\n",
              "  </thead>\n",
              "  <tbody>\n",
              "    <tr>\n",
              "      <th>0</th>\n",
              "      <td>1</td>\n",
              "      <td>50</td>\n",
              "      <td>-0.073394</td>\n",
              "      <td>0.270914</td>\n",
              "    </tr>\n",
              "    <tr>\n",
              "      <th>1</th>\n",
              "      <td>1</td>\n",
              "      <td>100</td>\n",
              "      <td>-0.055020</td>\n",
              "      <td>0.234564</td>\n",
              "    </tr>\n",
              "    <tr>\n",
              "      <th>2</th>\n",
              "      <td>10</td>\n",
              "      <td>50</td>\n",
              "      <td>-0.029177</td>\n",
              "      <td>0.170814</td>\n",
              "    </tr>\n",
              "    <tr>\n",
              "      <th>3</th>\n",
              "      <td>10</td>\n",
              "      <td>100</td>\n",
              "      <td>-0.027027</td>\n",
              "      <td>0.164399</td>\n",
              "    </tr>\n",
              "  </tbody>\n",
              "</table>\n",
              "</div>"
            ],
            "text/plain": [
              "   max_depth  n_estimators     score     RMSLE\n",
              "0          1            50 -0.073394  0.270914\n",
              "1          1           100 -0.055020  0.234564\n",
              "2         10            50 -0.029177  0.170814\n",
              "3         10           100 -0.027027  0.164399"
            ]
          },
          "metadata": {
            "tags": []
          },
          "execution_count": 166
        }
      ]
    },
    {
      "cell_type": "markdown",
      "metadata": {
        "id": "nAbjj0ERpz1a"
      },
      "source": [
        "파라미터 조합과 score가 담긴 DataFrame을 **RMSLE가 낮은 순서대로 정렬**한다.\n",
        "- DataFrame의 sort_values메소드 사용"
      ]
    },
    {
      "cell_type": "code",
      "metadata": {
        "colab": {
          "base_uri": "https://localhost:8080/",
          "height": 173
        },
        "id": "5OhWwvt-qA_p",
        "outputId": "4560ab0e-ea0b-422a-8480-2a26faed53e9"
      },
      "source": [
        "results = results.sort_values('RMSLE')\n",
        "\n",
        "results"
      ],
      "execution_count": 167,
      "outputs": [
        {
          "output_type": "execute_result",
          "data": {
            "text/html": [
              "<div>\n",
              "<style scoped>\n",
              "    .dataframe tbody tr th:only-of-type {\n",
              "        vertical-align: middle;\n",
              "    }\n",
              "\n",
              "    .dataframe tbody tr th {\n",
              "        vertical-align: top;\n",
              "    }\n",
              "\n",
              "    .dataframe thead th {\n",
              "        text-align: right;\n",
              "    }\n",
              "</style>\n",
              "<table border=\"1\" class=\"dataframe\">\n",
              "  <thead>\n",
              "    <tr style=\"text-align: right;\">\n",
              "      <th></th>\n",
              "      <th>max_depth</th>\n",
              "      <th>n_estimators</th>\n",
              "      <th>score</th>\n",
              "      <th>RMSLE</th>\n",
              "    </tr>\n",
              "  </thead>\n",
              "  <tbody>\n",
              "    <tr>\n",
              "      <th>3</th>\n",
              "      <td>10</td>\n",
              "      <td>100</td>\n",
              "      <td>-0.027027</td>\n",
              "      <td>0.164399</td>\n",
              "    </tr>\n",
              "    <tr>\n",
              "      <th>2</th>\n",
              "      <td>10</td>\n",
              "      <td>50</td>\n",
              "      <td>-0.029177</td>\n",
              "      <td>0.170814</td>\n",
              "    </tr>\n",
              "    <tr>\n",
              "      <th>1</th>\n",
              "      <td>1</td>\n",
              "      <td>100</td>\n",
              "      <td>-0.055020</td>\n",
              "      <td>0.234564</td>\n",
              "    </tr>\n",
              "    <tr>\n",
              "      <th>0</th>\n",
              "      <td>1</td>\n",
              "      <td>50</td>\n",
              "      <td>-0.073394</td>\n",
              "      <td>0.270914</td>\n",
              "    </tr>\n",
              "  </tbody>\n",
              "</table>\n",
              "</div>"
            ],
            "text/plain": [
              "   max_depth  n_estimators     score     RMSLE\n",
              "3         10           100 -0.027027  0.164399\n",
              "2         10            50 -0.029177  0.170814\n",
              "1          1           100 -0.055020  0.234564\n",
              "0          1            50 -0.073394  0.270914"
            ]
          },
          "metadata": {
            "tags": []
          },
          "execution_count": 167
        }
      ]
    },
    {
      "cell_type": "markdown",
      "metadata": {
        "id": "vFuI6G1vqQOM"
      },
      "source": [
        "### 지금까지의 그리드 탐색 과정을 함수로 작성\n",
        "- 파라미터 조합과 score, RMSLE가 담긴 DataFrame을 반환한다."
      ]
    },
    {
      "cell_type": "code",
      "metadata": {
        "id": "PKSA1IzLqgGL"
      },
      "source": [
        "def my_GridSearch(model, train, y, param_grid, verbose=2, n_jobs=5):\n",
        "    # GridSearchCV 모델로 초기화\n",
        "    grid_model = GridSearchCV(model, param_grid=param_grid, scoring='neg_mean_squared_error', \\\n",
        "                              cv=5, verbose=verbose, n_jobs=n_jobs)\n",
        "    \n",
        "    # 모델 fitting\n",
        "    grid_model.fit(train, y)\n",
        "\n",
        "    # 결과값 저장\n",
        "    params = grid_model.cv_results_['params']\n",
        "    score = grid_model.cv_results_['mean_test_score']\n",
        "    \n",
        "    # 데이터 프레임 생성\n",
        "    results = pd.DataFrame(params)\n",
        "    results['score'] = score\n",
        "    \n",
        "    # RMSLE 값 계산 후 정렬\n",
        "    results['RMSLE'] = np.sqrt(-1 * results['score'])\n",
        "    results = results.sort_values('RMSLE')\n",
        "\n",
        "    return results"
      ],
      "execution_count": 168,
      "outputs": []
    },
    {
      "cell_type": "markdown",
      "metadata": {
        "id": "TG4CVJZjqsWi"
      },
      "source": [
        "## (4) 실험 결과 제출"
      ]
    },
    {
      "cell_type": "markdown",
      "metadata": {
        "id": "XMo0arlmrrx8"
      },
      "source": [
        "### 1.최적의 하이퍼파라미터 조합 찾기 (그리드 탐색)"
      ]
    },
    {
      "cell_type": "code",
      "metadata": {
        "colab": {
          "base_uri": "https://localhost:8080/",
          "height": 227
        },
        "id": "ESqWxQM3q0q_",
        "outputId": "012f20a5-521c-40e1-8276-8c5817c1ef13"
      },
      "source": [
        "# 하이퍼파라미터 값 설정\n",
        "param_grid = {\n",
        "    'n_estimators': [50, 100],\n",
        "    'max_depth': [1, 10],\n",
        "}\n",
        "\n",
        "# 모델 초기화\n",
        "model = LGBMRegressor(random_state=random_state)\n",
        "\n",
        "# 직접 작성한 '그리드 탐색' 함수\n",
        "my_GridSearch(model, train, y, param_grid, verbose=2, n_jobs=5)"
      ],
      "execution_count": 169,
      "outputs": [
        {
          "output_type": "stream",
          "text": [
            "Fitting 5 folds for each of 4 candidates, totalling 20 fits\n"
          ],
          "name": "stdout"
        },
        {
          "output_type": "stream",
          "text": [
            "[Parallel(n_jobs=5)]: Using backend LokyBackend with 5 concurrent workers.\n",
            "[Parallel(n_jobs=5)]: Done  20 out of  20 | elapsed:    5.8s finished\n"
          ],
          "name": "stderr"
        },
        {
          "output_type": "execute_result",
          "data": {
            "text/html": [
              "<div>\n",
              "<style scoped>\n",
              "    .dataframe tbody tr th:only-of-type {\n",
              "        vertical-align: middle;\n",
              "    }\n",
              "\n",
              "    .dataframe tbody tr th {\n",
              "        vertical-align: top;\n",
              "    }\n",
              "\n",
              "    .dataframe thead th {\n",
              "        text-align: right;\n",
              "    }\n",
              "</style>\n",
              "<table border=\"1\" class=\"dataframe\">\n",
              "  <thead>\n",
              "    <tr style=\"text-align: right;\">\n",
              "      <th></th>\n",
              "      <th>max_depth</th>\n",
              "      <th>n_estimators</th>\n",
              "      <th>score</th>\n",
              "      <th>RMSLE</th>\n",
              "    </tr>\n",
              "  </thead>\n",
              "  <tbody>\n",
              "    <tr>\n",
              "      <th>3</th>\n",
              "      <td>10</td>\n",
              "      <td>100</td>\n",
              "      <td>-0.027027</td>\n",
              "      <td>0.164399</td>\n",
              "    </tr>\n",
              "    <tr>\n",
              "      <th>2</th>\n",
              "      <td>10</td>\n",
              "      <td>50</td>\n",
              "      <td>-0.029177</td>\n",
              "      <td>0.170814</td>\n",
              "    </tr>\n",
              "    <tr>\n",
              "      <th>1</th>\n",
              "      <td>1</td>\n",
              "      <td>100</td>\n",
              "      <td>-0.055020</td>\n",
              "      <td>0.234564</td>\n",
              "    </tr>\n",
              "    <tr>\n",
              "      <th>0</th>\n",
              "      <td>1</td>\n",
              "      <td>50</td>\n",
              "      <td>-0.073394</td>\n",
              "      <td>0.270914</td>\n",
              "    </tr>\n",
              "  </tbody>\n",
              "</table>\n",
              "</div>"
            ],
            "text/plain": [
              "   max_depth  n_estimators     score     RMSLE\n",
              "3         10           100 -0.027027  0.164399\n",
              "2         10            50 -0.029177  0.170814\n",
              "1          1           100 -0.055020  0.234564\n",
              "0          1            50 -0.073394  0.270914"
            ]
          },
          "metadata": {
            "tags": []
          },
          "execution_count": 169
        }
      ]
    },
    {
      "cell_type": "markdown",
      "metadata": {
        "id": "wMXjIEb1rxrE"
      },
      "source": [
        "### 2.최적의 하이퍼파라미터로 모델 학습"
      ]
    },
    {
      "cell_type": "markdown",
      "metadata": {
        "id": "YE3732vwrJYh"
      },
      "source": [
        "위 실험을 통해 가장 좋은 조합은 max_depth=10, n_estimators=100 이라는 걸 확인했다.\n",
        "\n",
        "해당 모델로 학습을 해서 예측값인 submission.csv 파일을 만들어서 제출하면 된다."
      ]
    },
    {
      "cell_type": "code",
      "metadata": {
        "colab": {
          "base_uri": "https://localhost:8080/"
        },
        "id": "-O6VGALCrWOr",
        "outputId": "ccfa48ed-fccc-4a38-c3de-2fa6c6ee202b"
      },
      "source": [
        "model = LGBMRegressor(max_depth=10, n_estimators=100, random_state=random_state)\n",
        "\n",
        "model.fit(train, y)\n",
        "\n",
        "prediction = model.predict(test)\n",
        "\n",
        "prediction"
      ],
      "execution_count": 170,
      "outputs": [
        {
          "output_type": "execute_result",
          "data": {
            "text/plain": [
              "array([13.13580793, 13.08051399, 14.11202067, ..., 13.01592878,\n",
              "       12.69894979, 12.96297768])"
            ]
          },
          "metadata": {
            "tags": []
          },
          "execution_count": 170
        }
      ]
    },
    {
      "cell_type": "markdown",
      "metadata": {
        "id": "-oBimxtQray5"
      },
      "source": [
        "예측결과에 np.expm1( )를 씌워서 원래 스케일로 되돌려야 한다. <br>\n",
        "=> RMSLE를 RMSE로 변환."
      ]
    },
    {
      "cell_type": "code",
      "metadata": {
        "colab": {
          "base_uri": "https://localhost:8080/"
        },
        "id": "6jS4W5ewraO5",
        "outputId": "c698f5c6-052f-4596-9060-ca7a93449375"
      },
      "source": [
        "prediction = np.expm1(prediction)\n",
        "\n",
        "prediction"
      ],
      "execution_count": 171,
      "outputs": [
        {
          "output_type": "execute_result",
          "data": {
            "text/plain": [
              "array([ 506766.66784595,  479506.10405112, 1345155.15609376, ...,\n",
              "        449515.92243642,  327402.87855805,  426332.71354302])"
            ]
          },
          "metadata": {
            "tags": []
          },
          "execution_count": 171
        }
      ]
    },
    {
      "cell_type": "markdown",
      "metadata": {
        "id": "jmnu-he5sEFH"
      },
      "source": [
        "### 3.예측결과를 csv파일로 저장"
      ]
    },
    {
      "cell_type": "code",
      "metadata": {
        "colab": {
          "base_uri": "https://localhost:8080/",
          "height": 204
        },
        "id": "N6lFsUsyrqW8",
        "outputId": "940e074b-f1fe-42a3-d215-d793145f0e15"
      },
      "source": [
        "data_dir = '/content/drive/MyDrive/Colab Notebooks/AIFFEL_LMS/data'\n",
        "\n",
        "submission_path = join(data_dir, 'sample_submission.csv')\n",
        "submission = pd.read_csv(submission_path)\n",
        "\n",
        "submission.head()"
      ],
      "execution_count": 172,
      "outputs": [
        {
          "output_type": "execute_result",
          "data": {
            "text/html": [
              "<div>\n",
              "<style scoped>\n",
              "    .dataframe tbody tr th:only-of-type {\n",
              "        vertical-align: middle;\n",
              "    }\n",
              "\n",
              "    .dataframe tbody tr th {\n",
              "        vertical-align: top;\n",
              "    }\n",
              "\n",
              "    .dataframe thead th {\n",
              "        text-align: right;\n",
              "    }\n",
              "</style>\n",
              "<table border=\"1\" class=\"dataframe\">\n",
              "  <thead>\n",
              "    <tr style=\"text-align: right;\">\n",
              "      <th></th>\n",
              "      <th>id</th>\n",
              "      <th>price</th>\n",
              "    </tr>\n",
              "  </thead>\n",
              "  <tbody>\n",
              "    <tr>\n",
              "      <th>0</th>\n",
              "      <td>15035</td>\n",
              "      <td>100000</td>\n",
              "    </tr>\n",
              "    <tr>\n",
              "      <th>1</th>\n",
              "      <td>15036</td>\n",
              "      <td>100000</td>\n",
              "    </tr>\n",
              "    <tr>\n",
              "      <th>2</th>\n",
              "      <td>15037</td>\n",
              "      <td>100000</td>\n",
              "    </tr>\n",
              "    <tr>\n",
              "      <th>3</th>\n",
              "      <td>15038</td>\n",
              "      <td>100000</td>\n",
              "    </tr>\n",
              "    <tr>\n",
              "      <th>4</th>\n",
              "      <td>15039</td>\n",
              "      <td>100000</td>\n",
              "    </tr>\n",
              "  </tbody>\n",
              "</table>\n",
              "</div>"
            ],
            "text/plain": [
              "      id   price\n",
              "0  15035  100000\n",
              "1  15036  100000\n",
              "2  15037  100000\n",
              "3  15038  100000\n",
              "4  15039  100000"
            ]
          },
          "metadata": {
            "tags": []
          },
          "execution_count": 172
        }
      ]
    },
    {
      "cell_type": "code",
      "metadata": {
        "colab": {
          "base_uri": "https://localhost:8080/"
        },
        "id": "xEY_AqTrsOmK",
        "outputId": "cb96c89d-b1a7-480a-8540-40aec881bf27"
      },
      "source": [
        "submission_csv_path = '{}/submission_{}_RMSLE_{}.csv'.format(data_dir, 'lgbm', '0.164399')    # 저장할 파일명\n",
        "submission.to_csv(submission_csv_path, index=False)    # csv파일로 저장\n",
        "\n",
        "print(submission_csv_path)"
      ],
      "execution_count": 173,
      "outputs": [
        {
          "output_type": "stream",
          "text": [
            "/content/drive/MyDrive/Colab Notebooks/AIFFEL_LMS/data/submission_lgbm_RMSLE_0.164399.csv\n"
          ],
          "name": "stdout"
        }
      ]
    },
    {
      "cell_type": "markdown",
      "metadata": {
        "id": "qeydLzvBslLI"
      },
      "source": [
        "### 4.위 과정(모델 학습~csv파일저장)을 함수로 구현"
      ]
    },
    {
      "cell_type": "code",
      "metadata": {
        "id": "T6Nd_x9NsfRx"
      },
      "source": [
        "\"\"\"\n",
        "1. 모델을 `train`, `y`로 학습시킵니다.\n",
        "2. `test`에 대해 예측합니다.\n",
        "3. 예측값을 `np.expm1`으로 변환하고, `submission_model_name_RMSLE_100000.csv` 형태의 `csv` 파일을 저장합니다.\n",
        "\"\"\"\n",
        "\n",
        "def save_submission(model, train, y, test, model_name, rmsle=None):\n",
        "    model.fit(train, y)\n",
        "    prediction = model.predict(test)\n",
        "    prediction = np.expm1(prediction)\n",
        "    data_dir = '/content/drive/MyDrive/Colab Notebooks/AIFFEL_LMS/data'\n",
        "    submission_path = join(data_dir, 'sample_submission.csv')\n",
        "    submission = pd.read_csv(submission_path)\n",
        "    submission['price'] = prediction\n",
        "    submission_csv_path = '{}/submission_{}_RMSLE_{}.csv'.format(data_dir, model_name, rmsle)\n",
        "    submission.to_csv(submission_csv_path, index=False)\n",
        "    print('{} saved!'.format(submission_csv_path))"
      ],
      "execution_count": 175,
      "outputs": []
    },
    {
      "cell_type": "markdown",
      "metadata": {
        "id": "yXnS4GjWtBdU"
      },
      "source": [
        "작성한 함수를 사용해서 한 번에 csv파일로 저장해보자."
      ]
    },
    {
      "cell_type": "code",
      "metadata": {
        "colab": {
          "base_uri": "https://localhost:8080/"
        },
        "id": "LEa9W23OtAfZ",
        "outputId": "f660225f-332d-4f54-8a7e-c9ab07dfce9f"
      },
      "source": [
        "save_submission(model, train, y, test, 'lgbm', rmsle='0.0168')"
      ],
      "execution_count": 176,
      "outputs": [
        {
          "output_type": "stream",
          "text": [
            "/content/drive/MyDrive/Colab Notebooks/AIFFEL_LMS/data/submission_lgbm_RMSLE_0.0168.csv saved!\n"
          ],
          "name": "stdout"
        }
      ]
    }
  ]
}