{
  "nbformat": 4,
  "nbformat_minor": 5,
  "metadata": {
    "kernelspec": {
      "display_name": "Python 3",
      "language": "python",
      "name": "python3"
    },
    "language_info": {
      "codemirror_mode": {
        "name": "ipython",
        "version": 3
      },
      "file_extension": ".py",
      "mimetype": "text/x-python",
      "name": "python",
      "nbconvert_exporter": "python",
      "pygments_lexer": "ipython3",
      "version": "3.7.9"
    },
    "colab": {
      "name": "[E-07]영화리뷰 텍스트 감성분석하기.ipynb",
      "provenance": [],
      "collapsed_sections": [
        "included-uganda",
        "vanilla-cooperation",
        "orange-wisdom",
        "underlying-income",
        "worthy-missile",
        "restricted-transformation",
        "magnetic-landscape",
        "adult-doctrine",
        "defensive-occasions",
        "coated-spider",
        "modified-stylus",
        "integral-rough",
        "green-morocco",
        "super-forwarding",
        "accessible-animation"
      ],
      "include_colab_link": true
    }
  },
  "cells": [
    {
      "cell_type": "markdown",
      "metadata": {
        "id": "view-in-github",
        "colab_type": "text"
      },
      "source": [
        "<a href=\"https://colab.research.google.com/github/Beatriz-Yun/AIFFEL_LMS/blob/main/Exploration/%5BE-07%5D%EC%98%81%ED%99%94%EB%A6%AC%EB%B7%B0_%ED%85%8D%EC%8A%A4%ED%8A%B8_%EA%B0%90%EC%84%B1%EB%B6%84%EC%84%9D%ED%95%98%EA%B8%B0.ipynb\" target=\"_parent\"><img src=\"https://colab.research.google.com/assets/colab-badge.svg\" alt=\"Open In Colab\"/></a>"
      ]
    },
    {
      "cell_type": "markdown",
      "metadata": {
        "id": "productive-ontario"
      },
      "source": [
        "데이터셋) [Naver sentiment movie corpus](https://github.com/e9t/nsmc)"
      ],
      "id": "productive-ontario"
    },
    {
      "cell_type": "markdown",
      "metadata": {
        "id": "timely-thinking"
      },
      "source": [
        "# 1) 데이터 준비와 확인"
      ],
      "id": "timely-thinking"
    },
    {
      "cell_type": "code",
      "metadata": {
        "scrolled": false,
        "id": "loose-paint",
        "outputId": "7d5f050f-5305-4841-ed70-0ad4d012d2e2"
      },
      "source": [
        "#!ln -s ~/data/*.txt ~/aiffel/sentiment_classification/data"
      ],
      "id": "loose-paint",
      "execution_count": null,
      "outputs": [
        {
          "output_type": "stream",
          "text": [
            "ln: failed to create symbolic link '/aiffel/aiffel/sentiment_classification/data/ratings_test.txt': File exists\r\n",
            "ln: failed to create symbolic link '/aiffel/aiffel/sentiment_classification/data/ratings_train.txt': File exists\r\n"
          ],
          "name": "stdout"
        }
      ]
    },
    {
      "cell_type": "code",
      "metadata": {
        "id": "premium-funeral"
      },
      "source": [
        "import pandas as pd\n",
        "import urllib.request\n",
        "%matplotlib inline\n",
        "import matplotlib.pyplot as plt\n",
        "import re\n",
        "from konlpy.tag import Okt\n",
        "from tensorflow import keras\n",
        "from tensorflow.keras.preprocessing.text import Tokenizer\n",
        "import numpy as np\n",
        "from tensorflow.keras.preprocessing.sequence import pad_sequences\n",
        "from collections import Counter\n",
        "\n",
        "# 데이터를 읽어봅시다. \n",
        "train_data = pd.read_table('~/aiffel/sentiment_classification/data/ratings_train.txt')\n",
        "test_data = pd.read_table('~/aiffel/sentiment_classification/data/ratings_test.txt')"
      ],
      "id": "premium-funeral",
      "execution_count": null,
      "outputs": []
    },
    {
      "cell_type": "markdown",
      "metadata": {
        "id": "expected-columbia"
      },
      "source": [
        "- id: 유저아이디\n",
        "- document: 리뷰 텍스트\n",
        "- label: 긍정/부정 여부 (긍정=1, 부정=0)"
      ],
      "id": "expected-columbia"
    },
    {
      "cell_type": "code",
      "metadata": {
        "scrolled": false,
        "id": "velvet-cooling",
        "outputId": "34b74fb4-9428-4c0d-8873-192d4b86b8a7"
      },
      "source": [
        "display(train_data)    # 15만개\n",
        "display(test_data)     # 5만개"
      ],
      "id": "velvet-cooling",
      "execution_count": null,
      "outputs": [
        {
          "output_type": "display_data",
          "data": {
            "text/html": [
              "<div>\n",
              "<style scoped>\n",
              "    .dataframe tbody tr th:only-of-type {\n",
              "        vertical-align: middle;\n",
              "    }\n",
              "\n",
              "    .dataframe tbody tr th {\n",
              "        vertical-align: top;\n",
              "    }\n",
              "\n",
              "    .dataframe thead th {\n",
              "        text-align: right;\n",
              "    }\n",
              "</style>\n",
              "<table border=\"1\" class=\"dataframe\">\n",
              "  <thead>\n",
              "    <tr style=\"text-align: right;\">\n",
              "      <th></th>\n",
              "      <th>id</th>\n",
              "      <th>document</th>\n",
              "      <th>label</th>\n",
              "    </tr>\n",
              "  </thead>\n",
              "  <tbody>\n",
              "    <tr>\n",
              "      <th>0</th>\n",
              "      <td>9976970</td>\n",
              "      <td>아 더빙.. 진짜 짜증나네요 목소리</td>\n",
              "      <td>0</td>\n",
              "    </tr>\n",
              "    <tr>\n",
              "      <th>1</th>\n",
              "      <td>3819312</td>\n",
              "      <td>흠...포스터보고 초딩영화줄....오버연기조차 가볍지 않구나</td>\n",
              "      <td>1</td>\n",
              "    </tr>\n",
              "    <tr>\n",
              "      <th>2</th>\n",
              "      <td>10265843</td>\n",
              "      <td>너무재밓었다그래서보는것을추천한다</td>\n",
              "      <td>0</td>\n",
              "    </tr>\n",
              "    <tr>\n",
              "      <th>3</th>\n",
              "      <td>9045019</td>\n",
              "      <td>교도소 이야기구먼 ..솔직히 재미는 없다..평점 조정</td>\n",
              "      <td>0</td>\n",
              "    </tr>\n",
              "    <tr>\n",
              "      <th>4</th>\n",
              "      <td>6483659</td>\n",
              "      <td>사이몬페그의 익살스런 연기가 돋보였던 영화!스파이더맨에서 늙어보이기만 했던 커스틴 ...</td>\n",
              "      <td>1</td>\n",
              "    </tr>\n",
              "    <tr>\n",
              "      <th>...</th>\n",
              "      <td>...</td>\n",
              "      <td>...</td>\n",
              "      <td>...</td>\n",
              "    </tr>\n",
              "    <tr>\n",
              "      <th>149995</th>\n",
              "      <td>6222902</td>\n",
              "      <td>인간이 문제지.. 소는 뭔죄인가..</td>\n",
              "      <td>0</td>\n",
              "    </tr>\n",
              "    <tr>\n",
              "      <th>149996</th>\n",
              "      <td>8549745</td>\n",
              "      <td>평점이 너무 낮아서...</td>\n",
              "      <td>1</td>\n",
              "    </tr>\n",
              "    <tr>\n",
              "      <th>149997</th>\n",
              "      <td>9311800</td>\n",
              "      <td>이게 뭐요? 한국인은 거들먹거리고 필리핀 혼혈은 착하다?</td>\n",
              "      <td>0</td>\n",
              "    </tr>\n",
              "    <tr>\n",
              "      <th>149998</th>\n",
              "      <td>2376369</td>\n",
              "      <td>청춘 영화의 최고봉.방황과 우울했던 날들의 자화상</td>\n",
              "      <td>1</td>\n",
              "    </tr>\n",
              "    <tr>\n",
              "      <th>149999</th>\n",
              "      <td>9619869</td>\n",
              "      <td>한국 영화 최초로 수간하는 내용이 담긴 영화</td>\n",
              "      <td>0</td>\n",
              "    </tr>\n",
              "  </tbody>\n",
              "</table>\n",
              "<p>150000 rows × 3 columns</p>\n",
              "</div>"
            ],
            "text/plain": [
              "              id                                           document  label\n",
              "0        9976970                                아 더빙.. 진짜 짜증나네요 목소리      0\n",
              "1        3819312                  흠...포스터보고 초딩영화줄....오버연기조차 가볍지 않구나      1\n",
              "2       10265843                                  너무재밓었다그래서보는것을추천한다      0\n",
              "3        9045019                      교도소 이야기구먼 ..솔직히 재미는 없다..평점 조정      0\n",
              "4        6483659  사이몬페그의 익살스런 연기가 돋보였던 영화!스파이더맨에서 늙어보이기만 했던 커스틴 ...      1\n",
              "...          ...                                                ...    ...\n",
              "149995   6222902                                인간이 문제지.. 소는 뭔죄인가..      0\n",
              "149996   8549745                                      평점이 너무 낮아서...      1\n",
              "149997   9311800                    이게 뭐요? 한국인은 거들먹거리고 필리핀 혼혈은 착하다?      0\n",
              "149998   2376369                        청춘 영화의 최고봉.방황과 우울했던 날들의 자화상      1\n",
              "149999   9619869                           한국 영화 최초로 수간하는 내용이 담긴 영화      0\n",
              "\n",
              "[150000 rows x 3 columns]"
            ]
          },
          "metadata": {
            "tags": []
          }
        },
        {
          "output_type": "display_data",
          "data": {
            "text/html": [
              "<div>\n",
              "<style scoped>\n",
              "    .dataframe tbody tr th:only-of-type {\n",
              "        vertical-align: middle;\n",
              "    }\n",
              "\n",
              "    .dataframe tbody tr th {\n",
              "        vertical-align: top;\n",
              "    }\n",
              "\n",
              "    .dataframe thead th {\n",
              "        text-align: right;\n",
              "    }\n",
              "</style>\n",
              "<table border=\"1\" class=\"dataframe\">\n",
              "  <thead>\n",
              "    <tr style=\"text-align: right;\">\n",
              "      <th></th>\n",
              "      <th>id</th>\n",
              "      <th>document</th>\n",
              "      <th>label</th>\n",
              "    </tr>\n",
              "  </thead>\n",
              "  <tbody>\n",
              "    <tr>\n",
              "      <th>0</th>\n",
              "      <td>6270596</td>\n",
              "      <td>굳 ㅋ</td>\n",
              "      <td>1</td>\n",
              "    </tr>\n",
              "    <tr>\n",
              "      <th>1</th>\n",
              "      <td>9274899</td>\n",
              "      <td>GDNTOPCLASSINTHECLUB</td>\n",
              "      <td>0</td>\n",
              "    </tr>\n",
              "    <tr>\n",
              "      <th>2</th>\n",
              "      <td>8544678</td>\n",
              "      <td>뭐야 이 평점들은.... 나쁘진 않지만 10점 짜리는 더더욱 아니잖아</td>\n",
              "      <td>0</td>\n",
              "    </tr>\n",
              "    <tr>\n",
              "      <th>3</th>\n",
              "      <td>6825595</td>\n",
              "      <td>지루하지는 않은데 완전 막장임... 돈주고 보기에는....</td>\n",
              "      <td>0</td>\n",
              "    </tr>\n",
              "    <tr>\n",
              "      <th>4</th>\n",
              "      <td>6723715</td>\n",
              "      <td>3D만 아니었어도 별 다섯 개 줬을텐데.. 왜 3D로 나와서 제 심기를 불편하게 하죠??</td>\n",
              "      <td>0</td>\n",
              "    </tr>\n",
              "    <tr>\n",
              "      <th>...</th>\n",
              "      <td>...</td>\n",
              "      <td>...</td>\n",
              "      <td>...</td>\n",
              "    </tr>\n",
              "    <tr>\n",
              "      <th>49995</th>\n",
              "      <td>4608761</td>\n",
              "      <td>오랜만에 평점 로긴했네ㅋㅋ 킹왕짱 쌈뽕한 영화를 만났습니다 강렬하게 육쾌함</td>\n",
              "      <td>1</td>\n",
              "    </tr>\n",
              "    <tr>\n",
              "      <th>49996</th>\n",
              "      <td>5308387</td>\n",
              "      <td>의지 박약들이나 하는거다 탈영은 일단 주인공 김대희 닮았고 이등병 찐따 OOOO</td>\n",
              "      <td>0</td>\n",
              "    </tr>\n",
              "    <tr>\n",
              "      <th>49997</th>\n",
              "      <td>9072549</td>\n",
              "      <td>그림도 좋고 완성도도 높았지만... 보는 내내 불안하게 만든다</td>\n",
              "      <td>0</td>\n",
              "    </tr>\n",
              "    <tr>\n",
              "      <th>49998</th>\n",
              "      <td>5802125</td>\n",
              "      <td>절대 봐서는 안 될 영화.. 재미도 없고 기분만 잡치고.. 한 세트장에서 다 해먹네</td>\n",
              "      <td>0</td>\n",
              "    </tr>\n",
              "    <tr>\n",
              "      <th>49999</th>\n",
              "      <td>6070594</td>\n",
              "      <td>마무리는 또 왜이래</td>\n",
              "      <td>0</td>\n",
              "    </tr>\n",
              "  </tbody>\n",
              "</table>\n",
              "<p>50000 rows × 3 columns</p>\n",
              "</div>"
            ],
            "text/plain": [
              "            id                                           document  label\n",
              "0      6270596                                                굳 ㅋ      1\n",
              "1      9274899                               GDNTOPCLASSINTHECLUB      0\n",
              "2      8544678             뭐야 이 평점들은.... 나쁘진 않지만 10점 짜리는 더더욱 아니잖아      0\n",
              "3      6825595                   지루하지는 않은데 완전 막장임... 돈주고 보기에는....      0\n",
              "4      6723715  3D만 아니었어도 별 다섯 개 줬을텐데.. 왜 3D로 나와서 제 심기를 불편하게 하죠??      0\n",
              "...        ...                                                ...    ...\n",
              "49995  4608761          오랜만에 평점 로긴했네ㅋㅋ 킹왕짱 쌈뽕한 영화를 만났습니다 강렬하게 육쾌함      1\n",
              "49996  5308387       의지 박약들이나 하는거다 탈영은 일단 주인공 김대희 닮았고 이등병 찐따 OOOO      0\n",
              "49997  9072549                 그림도 좋고 완성도도 높았지만... 보는 내내 불안하게 만든다      0\n",
              "49998  5802125     절대 봐서는 안 될 영화.. 재미도 없고 기분만 잡치고.. 한 세트장에서 다 해먹네      0\n",
              "49999  6070594                                         마무리는 또 왜이래      0\n",
              "\n",
              "[50000 rows x 3 columns]"
            ]
          },
          "metadata": {
            "tags": []
          }
        }
      ]
    },
    {
      "cell_type": "markdown",
      "metadata": {
        "id": "accredited-concern"
      },
      "source": [
        "긍정/부정 레이블 분포"
      ],
      "id": "accredited-concern"
    },
    {
      "cell_type": "code",
      "metadata": {
        "id": "homeless-publication",
        "outputId": "1991f04a-3977-438a-cc63-8837aac569fc"
      },
      "source": [
        "train_data['label'].value_counts().plot(kind = 'bar')"
      ],
      "id": "homeless-publication",
      "execution_count": null,
      "outputs": [
        {
          "output_type": "execute_result",
          "data": {
            "text/plain": [
              "<AxesSubplot:>"
            ]
          },
          "metadata": {
            "tags": []
          },
          "execution_count": 22
        },
        {
          "output_type": "display_data",
          "data": {
            "image/png": "[encoded data removed]",
            "text/plain": [
              "<Figure size 432x288 with 1 Axes>"
            ]
          },
          "metadata": {
            "tags": [],
            "needs_background": "light"
          }
        }
      ]
    },
    {
      "cell_type": "markdown",
      "metadata": {
        "id": "insured-interface"
      },
      "source": [
        "# 2) 데이터로더 구성\n",
        "imdb.data_loader()와 동일하게 동작하는 data_loader를 만든다.\n",
        "다음과 같은 동작을 수행한다.\n",
        "- 데이터의 중복 제거\n",
        "- NaN 결측치 제거\n",
        "- 한국어 토크나이저로 토큰화\n",
        "- 불용어(Stopwords) 제거\n",
        "- 사전word_to_index 구성\n",
        "- 텍스트 스트링을 사전 인덱스 스트링으로 변환\n",
        "- X_train, y_train, X_test, y_test, word_to_index 리턴"
      ],
      "id": "insured-interface"
    },
    {
      "cell_type": "markdown",
      "metadata": {
        "id": "spiritual-turtle"
      },
      "source": [
        "다른 형태소 분석기도 고려해보았지만, 너무 오래걸린다.<br>\n",
        "속도가 압도적으로 제일빠른 Mecab이 적합하다."
      ],
      "id": "spiritual-turtle"
    },
    {
      "cell_type": "code",
      "metadata": {
        "id": "liked-indian",
        "outputId": "a1ac4d95-f4f8-4f40-d0fe-242a8def17aa"
      },
      "source": [
        "import re\n",
        "from konlpy.tag import Mecab\n",
        "tokenizer = Mecab()\n",
        "stopwords = ['의','가','이','은','들','는','과','도','를','으로','자','에','와','한','하다', '이다']\n",
        "\n",
        "def load_data(train_data, test_data, num_words=10000):\n",
        "    # 1) 특수기호 및 공백 제거\n",
        "    train_data['document'] = train_data['document'].str.replace(r\"[^ㄱ-ㅎㅏ-ㅣ가-힣 ]\",\"\")\n",
        "    #re.sub(r'[^ㄱ-ㅎㅏ-ㅣ가-힣 ]', '', train_data['document'])\n",
        "    \n",
        "    train_data['document'] = train_data['document'].str.replace('^ +', \"\")\n",
        "    train_data['document'].replace('', np.nan, inplace=True)\n",
        "    \n",
        "    # 2) 중복 및 결측치 제거\n",
        "    train_data.drop_duplicates(subset=['document'], inplace=True)    # subset에 중복데이터를 처리할 칼럼명을 전달\n",
        "    train_data = train_data.dropna(how = 'any')    # NaN이 있으면 제거\n",
        "    test_data.drop_duplicates(subset=['document'], inplace=True)\n",
        "    test_data = test_data.dropna(how = 'any') \n",
        "    \n",
        "    # 3) 토큰화 및 불용어 제거\n",
        "    X_train = []\n",
        "    for sentence in train_data['document']:\n",
        "        temp_X = tokenizer.morphs(sentence) # 토큰화\n",
        "        temp_X = [word for word in temp_X if not word in stopwords] # 불용어 제거\n",
        "        X_train.append(temp_X)\n",
        "\n",
        "    X_test = []\n",
        "    for sentence in test_data['document']:\n",
        "        temp_X = tokenizer.morphs(sentence) # 토큰화\n",
        "        temp_X = [word for word in temp_X if not word in stopwords] # 불용어 제거\n",
        "        X_test.append(temp_X)\n",
        "    \n",
        "    # 4) 단어사전 구성\n",
        "    words = np.concatenate(X_train).tolist() # 단어들을 리스트로 저장\n",
        "    counter = Counter(words)\n",
        "    counter = counter.most_common(num_words-4)   # count기준 상위 num_words-4개의 단어로 축소\n",
        "    #print(counter)\n",
        "    vocab = ['', '', '', ''] + [key for key, _ in counter]    # 리스트 5번째부터 토큰화한 단어가 count 큰 순으로 저장됨\n",
        "    #print(vocab)\n",
        "    word_to_index = {word:index for index, word in enumerate(vocab)}    # 키: 단어, 값: 인덱스(3~num_words-1)\n",
        "    #print(word_to_index)\n",
        "    \n",
        "    # 5) 텍스트 문자열을 사전인덱스 문자열로 변환\n",
        "    def wordlist_to_indexlist(wordlist):\n",
        "        # 키==단어이면 단어의 인덱스, 해당하는 단어가 없으면 3\n",
        "        return [word_to_index[word] if word in word_to_index else word_to_index[''] for word in wordlist]\n",
        "    \n",
        "    # X_train 또는 X_test의 모든 원소에 wordlist_to_indexlist함수를 적용시킨 결과들을 리스트로 저장\n",
        "    # X_train과 X_test는 각 문장에 있는 모든 단어가 담긴 이중리스트였으므로\n",
        "    # 원래 단어가 있던 곳에 해당하는 인덱스가 들어간 이중리스트가 된다.\n",
        "    X_train = list(map(wordlist_to_indexlist, X_train))\n",
        "    X_test = list(map(wordlist_to_indexlist, X_test))\n",
        "        \n",
        "    return X_train, np.array(list(train_data['label'])), X_test, np.array(list(test_data['label'])), word_to_index\n",
        "\n",
        "vocab_size = 30000\n",
        "X_train, y_train, X_test, y_test, word_to_index = load_data(train_data, test_data, num_words=vocab_size) "
      ],
      "id": "liked-indian",
      "execution_count": null,
      "outputs": [
        {
          "output_type": "stream",
          "text": [
            "/opt/conda/lib/python3.7/site-packages/ipykernel_launcher.py:8: FutureWarning: The default value of regex will change from True to False in a future version.\n",
            "  \n",
            "/opt/conda/lib/python3.7/site-packages/ipykernel_launcher.py:11: FutureWarning: The default value of regex will change from True to False in a future version.\n",
            "  # This is added back by InteractiveShellApp.init_path()\n"
          ],
          "name": "stderr"
        }
      ]
    },
    {
      "cell_type": "markdown",
      "metadata": {
        "id": "cleared-accommodation"
      },
      "source": [
        "train 데이터"
      ],
      "id": "cleared-accommodation"
    },
    {
      "cell_type": "code",
      "metadata": {
        "id": "combined-brain",
        "outputId": "c5cca0ac-44e1-4203-cee6-5f715222ba36"
      },
      "source": [
        "print(X_train[:10])\n",
        "print(y_train[:10])"
      ],
      "id": "combined-brain",
      "execution_count": null,
      "outputs": [
        {
          "output_type": "stream",
          "text": [
            "[[27, 68, 894, 33, 216, 15, 28, 701], [997, 483, 494, 639, 4, 112, 1556, 47, 867, 950, 11, 38, 366], [19, 194, 28635], [8034, 145, 4134, 280, 88, 13, 5, 52, 3329], [21628, 8491, 1052, 47, 2701, 55, 4, 2623, 34, 1119, 29, 325, 36, 17, 35, 55, 15312, 21629, 395, 2878, 1677, 5], [628, 21630, 17796, 427, 173, 1465, 663, 1593, 672, 46, 28636, 4, 62, 2169, 120, 723], [239, 352, 8, 356, 1921, 51, 11, 782, 5], [235, 1360, 135, 5, 393, 710, 10358, 15313, 47, 1435, 271, 94, 234, 23, 889, 24, 323, 611, 503, 478, 549, 5, 3168, 8492, 17, 1385, 1385, 67, 284, 13, 5, 47, 97, 7, 70, 17, 28637, 37], [118, 13, 18, 88, 12, 271, 22, 43, 4], [58, 615, 52, 227, 708, 535, 83, 17, 480, 1405, 599, 691, 75, 17, 19, 15314, 12, 15]]\n",
            "[0 1 0 0 1 0 0 0 1 1]\n"
          ],
          "name": "stdout"
        }
      ]
    },
    {
      "cell_type": "code",
      "metadata": {
        "id": "acute-academy",
        "outputId": "13fa073f-0d97-400e-95ab-595d5ce948ee"
      },
      "source": [
        "len(X_train)"
      ],
      "id": "acute-academy",
      "execution_count": null,
      "outputs": [
        {
          "output_type": "execute_result",
          "data": {
            "text/plain": [
              "143620"
            ]
          },
          "metadata": {
            "tags": []
          },
          "execution_count": 25
        }
      ]
    },
    {
      "cell_type": "markdown",
      "metadata": {
        "id": "grand-today"
      },
      "source": [
        "test 데이터"
      ],
      "id": "grand-today"
    },
    {
      "cell_type": "code",
      "metadata": {
        "id": "infrared-variation",
        "outputId": "b06b6e0e-24e6-4bd0-a628-933d541ededa"
      },
      "source": [
        "print(X_test[:10])\n",
        "print(y_test[:10])"
      ],
      "id": "infrared-variation",
      "execution_count": null,
      "outputs": [
        {
          "output_type": "stream",
          "text": [
            "[[805, 130], [3], [81, 111, 52, 3, 3, 898, 316, 38, 30, 3, 40, 600, 3401, 65, 865], [90, 7, 11, 38, 218, 127, 330, 123, 3, 3, 140, 50, 6, 9, 36, 3, 3], [3, 3, 17, 65, 16, 432, 235, 2013, 120, 522, 8, 548, 3, 3, 58, 3, 3, 24, 595, 329, 19691, 794, 7, 10, 7, 278, 3, 3], [223, 50, 148, 3, 53, 223, 4], [580, 99], [1046, 423, 573, 34, 13046, 64, 4707, 1592, 13, 1469, 4089, 173, 3, 5619, 2804, 10, 188], [524, 1231, 43, 637, 4, 221, 7, 6, 82, 13, 26, 2849, 461, 5, 116, 114, 48, 22, 43, 2821, 221, 3, 3, 27, 1334, 5, 16571, 32, 4, 119, 3, 467, 1509, 301, 5], [2801, 1371, 585, 10809, 779, 3017, 3842, 3, 3, 256, 70, 310, 11, 38, 37, 3, 3]]\n",
            "[1 0 0 0 0 1 0 0 0 1]\n"
          ],
          "name": "stdout"
        }
      ]
    },
    {
      "cell_type": "code",
      "metadata": {
        "id": "unnecessary-verse",
        "outputId": "4ee38383-7372-4da6-80df-619ff9aedc43"
      },
      "source": [
        "len(X_test)"
      ],
      "id": "unnecessary-verse",
      "execution_count": null,
      "outputs": [
        {
          "output_type": "execute_result",
          "data": {
            "text/plain": [
              "49157"
            ]
          },
          "metadata": {
            "tags": []
          },
          "execution_count": 27
        }
      ]
    },
    {
      "cell_type": "markdown",
      "metadata": {
        "id": "likely-print"
      },
      "source": [
        "# 3) 모델 구성을 위한 데이터 분석 및 가공\n",
        "- 데이터셋 내 문장 길이 분포\n",
        "- 적절한 최대 문장 길이 지정\n",
        "- keras.preprocessing.sequence.pad_sequences 을 활용한 패딩 추가"
      ],
      "id": "likely-print"
    },
    {
      "cell_type": "markdown",
      "metadata": {
        "id": "warming-incident"
      },
      "source": [
        "키: 인덱스, 값: 단어로 가지는 딕셔너리"
      ],
      "id": "warming-incident"
    },
    {
      "cell_type": "code",
      "metadata": {
        "id": "careful-seeking",
        "outputId": "66b0186d-3856-4eaf-91cd-c29af1db2d2f"
      },
      "source": [
        "index_to_word = {index:word for word, index in word_to_index.items()}\n",
        "index_to_word"
      ],
      "id": "careful-seeking",
      "execution_count": null,
      "outputs": [
        {
          "output_type": "execute_result",
          "data": {
            "text/plain": [
              "{3: '',\n",
              " 4: '영화',\n",
              " 5: '다',\n",
              " 6: '고',\n",
              " 7: '하',\n",
              " 8: '을',\n",
              " 9: '보',\n",
              " 10: '게',\n",
              " 11: '지',\n",
              " 12: '있',\n",
              " 13: '없',\n",
              " 14: '좋',\n",
              " 15: '나',\n",
              " 16: '었',\n",
              " 17: '만',\n",
              " 18: '는데',\n",
              " 19: '너무',\n",
              " 20: '봤',\n",
              " 21: '적',\n",
              " 22: '안',\n",
              " 23: '정말',\n",
              " 24: '로',\n",
              " 25: '것',\n",
              " 26: '음',\n",
              " 27: '아',\n",
              " 28: '네요',\n",
              " 29: '어',\n",
              " 30: '지만',\n",
              " 31: '재밌',\n",
              " 32: '같',\n",
              " 33: '진짜',\n",
              " 34: '에서',\n",
              " 35: '했',\n",
              " 36: '기',\n",
              " 37: '네',\n",
              " 38: '않',\n",
              " 39: '거',\n",
              " 40: '점',\n",
              " 41: '았',\n",
              " 42: '수',\n",
              " 43: '되',\n",
              " 44: '면',\n",
              " 45: 'ㅋㅋ',\n",
              " 46: '인',\n",
              " 47: '연기',\n",
              " 48: '말',\n",
              " 49: '잘',\n",
              " 50: '주',\n",
              " 51: '내',\n",
              " 52: '평점',\n",
              " 53: '최고',\n",
              " 54: '이런',\n",
              " 55: '던',\n",
              " 56: '어요',\n",
              " 57: '할',\n",
              " 58: '왜',\n",
              " 59: '겠',\n",
              " 60: '스토리',\n",
              " 61: '해',\n",
              " 62: 'ㅋㅋㅋ',\n",
              " 63: '습니다',\n",
              " 64: '듯',\n",
              " 65: '아니',\n",
              " 66: '생각',\n",
              " 67: '드라마',\n",
              " 68: '더',\n",
              " 69: '그',\n",
              " 70: '사람',\n",
              " 71: '싶',\n",
              " 72: '때',\n",
              " 73: '감동',\n",
              " 74: '배우',\n",
              " 75: '함',\n",
              " 76: '본',\n",
              " 77: '까지',\n",
              " 78: '좀',\n",
              " 79: '알',\n",
              " 80: '만들',\n",
              " 81: '뭐',\n",
              " 82: '내용',\n",
              " 83: '볼',\n",
              " 84: '보다',\n",
              " 85: '감독',\n",
              " 86: '라',\n",
              " 87: '그냥',\n",
              " 88: '재미',\n",
              " 89: '시간',\n",
              " 90: '지루',\n",
              " 91: '중',\n",
              " 92: '재미있',\n",
              " 93: '였',\n",
              " 94: '년',\n",
              " 95: '잼',\n",
              " 96: '사랑',\n",
              " 97: '못',\n",
              " 98: '냐',\n",
              " 99: '쓰레기',\n",
              " 100: '재미없',\n",
              " 101: '서',\n",
              " 102: '라고',\n",
              " 103: '니',\n",
              " 104: '면서',\n",
              " 105: '다시',\n",
              " 106: '번',\n",
              " 107: '나오',\n",
              " 108: '하나',\n",
              " 109: '작품',\n",
              " 110: '이거',\n",
              " 111: '야',\n",
              " 112: '줄',\n",
              " 113: '해서',\n",
              " 114: '남',\n",
              " 115: '마지막',\n",
              " 116: '끝',\n",
              " 117: '정도',\n",
              " 118: '액션',\n",
              " 119: '이건',\n",
              " 120: '개',\n",
              " 121: '건',\n",
              " 122: '기대',\n",
              " 123: '임',\n",
              " 124: '다는',\n",
              " 125: '라는',\n",
              " 126: '입니다',\n",
              " 127: '완전',\n",
              " 128: '참',\n",
              " 129: '많',\n",
              " 130: 'ㅋ',\n",
              " 131: '처음',\n",
              " 132: '장면',\n",
              " 133: '다가',\n",
              " 134: '으면',\n",
              " 135: '아깝',\n",
              " 136: '모르',\n",
              " 137: '지금',\n",
              " 138: '이렇게',\n",
              " 139: '분',\n",
              " 140: '돈',\n",
              " 141: 'ㅠㅠ',\n",
              " 142: '성',\n",
              " 143: '이게',\n",
              " 144: '느낌',\n",
              " 145: '이야기',\n",
              " 146: '일',\n",
              " 147: '최악',\n",
              " 148: '된',\n",
              " 149: '시',\n",
              " 150: '봐도',\n",
              " 151: '님',\n",
              " 152: '어서',\n",
              " 153: '애',\n",
              " 154: '편',\n",
              " 155: '다고',\n",
              " 156: '넘',\n",
              " 157: '인데',\n",
              " 158: '이해',\n",
              " 159: '전',\n",
              " 160: '걸',\n",
              " 161: '그리고',\n",
              " 162: '명작',\n",
              " 163: '난',\n",
              " 164: '여자',\n",
              " 165: '또',\n",
              " 166: '역시',\n",
              " 167: '별로',\n",
              " 168: '한국',\n",
              " 169: '이상',\n",
              " 170: '는지',\n",
              " 171: '많이',\n",
              " 172: '에게',\n",
              " 173: '부터',\n",
              " 174: '주인공',\n",
              " 175: '받',\n",
              " 176: '합니다',\n",
              " 177: '대',\n",
              " 178: '두',\n",
              " 179: '우리',\n",
              " 180: '만든',\n",
              " 181: '길',\n",
              " 182: '살',\n",
              " 183: '엔',\n",
              " 184: '기억',\n",
              " 185: '괜찮',\n",
              " 186: '요',\n",
              " 187: '연출',\n",
              " 188: '한다',\n",
              " 189: 'ㅡㅡ',\n",
              " 190: '때문',\n",
              " 191: 'ㅎㅎ',\n",
              " 192: '저',\n",
              " 193: '이나',\n",
              " 194: '재',\n",
              " 195: '꼭',\n",
              " 196: '며',\n",
              " 197: '랑',\n",
              " 198: '현실',\n",
              " 199: '긴',\n",
              " 200: '무슨',\n",
              " 201: '내내',\n",
              " 202: '죽',\n",
              " 203: '결말',\n",
              " 204: '남자',\n",
              " 205: '전개',\n",
              " 206: '마음',\n",
              " 207: '세요',\n",
              " 208: '소재',\n",
              " 209: '속',\n",
              " 210: '공포',\n",
              " 211: '데',\n",
              " 212: '아서',\n",
              " 213: '다른',\n",
              " 214: '씨',\n",
              " 215: '인생',\n",
              " 216: '짜증',\n",
              " 217: '뿐',\n",
              " 218: '은데',\n",
              " 219: '아이',\n",
              " 220: '가장',\n",
              " 221: '유치',\n",
              " 222: '아요',\n",
              " 223: '음악',\n",
              " 224: '짱',\n",
              " 225: '필요',\n",
              " 226: '일본',\n",
              " 227: '낮',\n",
              " 228: '오',\n",
              " 229: '반전',\n",
              " 230: '수준',\n",
              " 231: '웃',\n",
              " 232: '매력',\n",
              " 233: '다니',\n",
              " 234: '인지',\n",
              " 235: '별',\n",
              " 236: '맞',\n",
              " 237: '가슴',\n",
              " 238: '없이',\n",
              " 239: '원작',\n",
              " 240: '인간',\n",
              " 241: 'ㄷ',\n",
              " 242: '높',\n",
              " 243: '밋',\n",
              " 244: '굿',\n",
              " 245: '만드',\n",
              " 246: '눈물',\n",
              " 247: '급',\n",
              " 248: '보여',\n",
              " 249: '준',\n",
              " 250: '찍',\n",
              " 251: '인가',\n",
              " 252: '코미디',\n",
              " 253: '노',\n",
              " 254: '신',\n",
              " 255: '용',\n",
              " 256: '모든',\n",
              " 257: '화',\n",
              " 258: '마',\n",
              " 259: '아직',\n",
              " 260: '추천',\n",
              " 261: '아닌',\n",
              " 262: '처럼',\n",
              " 263: '쓰',\n",
              " 264: '눈',\n",
              " 265: '자체',\n",
              " 266: '울',\n",
              " 267: '몰입',\n",
              " 268: '란',\n",
              " 269: '대박',\n",
              " 270: '스럽',\n",
              " 271: '몇',\n",
              " 272: '을까',\n",
              " 273: '대한',\n",
              " 274: '실망',\n",
              " 275: '는다',\n",
              " 276: '여',\n",
              " 277: '그런',\n",
              " 278: '죠',\n",
              " 279: '캐릭터',\n",
              " 280: '솔직히',\n",
              " 281: '아주',\n",
              " 282: '모두',\n",
              " 283: '전혀',\n",
              " 284: '가족',\n",
              " 285: '여운',\n",
              " 286: '건지',\n",
              " 287: '연기력',\n",
              " 288: '될',\n",
              " 289: '다면',\n",
              " 290: '뭔가',\n",
              " 291: '그래도',\n",
              " 292: '후',\n",
              " 293: '나라',\n",
              " 294: '시리즈',\n",
              " 295: 'ㅎ',\n",
              " 296: '근데',\n",
              " 297: '표현',\n",
              " 298: '모습',\n",
              " 299: '계속',\n",
              " 300: '공감',\n",
              " 301: '작',\n",
              " 302: '먹',\n",
              " 303: '제목',\n",
              " 304: '비',\n",
              " 305: '이랑',\n",
              " 306: '극장',\n",
              " 307: '치',\n",
              " 308: '이걸',\n",
              " 309: '부분',\n",
              " 310: '그렇',\n",
              " 311: '대사',\n",
              " 312: '바',\n",
              " 313: '대단',\n",
              " 314: '어디',\n",
              " 315: '개봉',\n",
              " 316: '진',\n",
              " 317: '된다',\n",
              " 318: '아쉽',\n",
              " 319: '작가',\n",
              " 320: '기분',\n",
              " 321: '진심',\n",
              " 322: '구',\n",
              " 323: '해도',\n",
              " 324: '놓',\n",
              " 325: '보이',\n",
              " 326: '봐야',\n",
              " 327: '타임',\n",
              " 328: '웃기',\n",
              " 329: '제',\n",
              " 330: '막장',\n",
              " 331: '삶',\n",
              " 332: '물',\n",
              " 333: '친구',\n",
              " 334: '이제',\n",
              " 335: '잔잔',\n",
              " 336: '조금',\n",
              " 337: '억지',\n",
              " 338: '가지',\n",
              " 339: 'ㅠ',\n",
              " 340: '영상',\n",
              " 341: '찾',\n",
              " 342: '라도',\n",
              " 343: '씬',\n",
              " 344: '요즘',\n",
              " 345: '딱',\n",
              " 346: '같이',\n",
              " 347: '스릴러',\n",
              " 348: '믿',\n",
              " 349: '싫',\n",
              " 350: '나왔',\n",
              " 351: '중간',\n",
              " 352: '긴장감',\n",
              " 353: '아까운',\n",
              " 354: '어떻게',\n",
              " 355: '개인',\n",
              " 356: '제대로',\n",
              " 357: '부족',\n",
              " 358: '이유',\n",
              " 359: '점수',\n",
              " 360: '노래',\n",
              " 361: '만큼',\n",
              " 362: '라면',\n",
              " 363: 'ㅜㅜ',\n",
              " 364: '시작',\n",
              " 365: '잇',\n",
              " 366: '구나',\n",
              " 367: '한테',\n",
              " 368: '특히',\n",
              " 369: '려고',\n",
              " 370: '날',\n",
              " 371: '제일',\n",
              " 372: '아름다운',\n",
              " 373: '시대',\n",
              " 374: '니까',\n",
              " 375: '엔딩',\n",
              " 376: '당시',\n",
              " 377: '나름',\n",
              " 378: '무섭',\n",
              " 379: '오랜만',\n",
              " 380: '나온',\n",
              " 381: '봐',\n",
              " 382: '사',\n",
              " 383: '팬',\n",
              " 384: '해요',\n",
              " 385: '차라리',\n",
              " 386: '세상',\n",
              " 387: '이것',\n",
              " 388: '절대',\n",
              " 389: '못하',\n",
              " 390: '감',\n",
              " 391: '의미',\n",
              " 392: '봄',\n",
              " 393: '욕',\n",
              " 394: '훌륭',\n",
              " 395: '너무나',\n",
              " 396: '드',\n",
              " 397: '됨',\n",
              " 398: '빼',\n",
              " 399: '느끼',\n",
              " 400: '해야',\n",
              " 401: '강추',\n",
              " 402: '따뜻',\n",
              " 403: '명',\n",
              " 404: '글',\n",
              " 405: '뻔',\n",
              " 406: '도대체',\n",
              " 407: '마다',\n",
              " 408: '어야',\n",
              " 409: '답답',\n",
              " 410: '전쟁',\n",
              " 411: '던데',\n",
              " 412: '놈',\n",
              " 413: '무엇',\n",
              " 414: '설정',\n",
              " 415: '만화',\n",
              " 416: '감정',\n",
              " 417: '흥미',\n",
              " 418: '준다',\n",
              " 419: '그저',\n",
              " 420: '수작',\n",
              " 421: '행복',\n",
              " 422: '신선',\n",
              " 423: '미국',\n",
              " 424: '앞',\n",
              " 425: '허접',\n",
              " 426: '형',\n",
              " 427: '세',\n",
              " 428: '시절',\n",
              " 429: '관객',\n",
              " 430: '사실',\n",
              " 431: '배경',\n",
              " 432: '어도',\n",
              " 433: '초반',\n",
              " 434: '답',\n",
              " 435: '웃음',\n",
              " 436: '엄청',\n",
              " 437: '자신',\n",
              " 438: '더라',\n",
              " 439: '질',\n",
              " 440: '추억',\n",
              " 441: '캐스팅',\n",
              " 442: '군',\n",
              " 443: '라니',\n",
              " 444: '멋있',\n",
              " 445: '정신',\n",
              " 446: '시나리오',\n",
              " 447: '어색',\n",
              " 448: '첨',\n",
              " 449: '머',\n",
              " 450: '밖에',\n",
              " 451: '분위기',\n",
              " 452: '슬프',\n",
              " 453: '소름',\n",
              " 454: '힘들',\n",
              " 455: '오늘',\n",
              " 456: '멋진',\n",
              " 457: '봐서',\n",
              " 458: '간',\n",
              " 459: '집',\n",
              " 460: '구성',\n",
              " 461: '잡',\n",
              " 462: '어이없',\n",
              " 463: '엄마',\n",
              " 464: '함께',\n",
              " 465: '위해',\n",
              " 466: '잊',\n",
              " 467: '류',\n",
              " 468: '이딴',\n",
              " 469: '졸작',\n",
              " 470: '문제',\n",
              " 471: '유쾌',\n",
              " 472: '등',\n",
              " 473: '결국',\n",
              " 474: '소리',\n",
              " 475: '스러운',\n",
              " 476: '킬링',\n",
              " 477: '걍',\n",
              " 478: '낫',\n",
              " 479: '뭘',\n",
              " 480: '한데',\n",
              " 481: '뭔',\n",
              " 482: '역사',\n",
              " 483: '포스터',\n",
              " 484: '제발',\n",
              " 485: '아무리',\n",
              " 486: '코믹',\n",
              " 487: '어떤',\n",
              " 488: '얼마나',\n",
              " 489: '맘',\n",
              " 490: '애니메이션',\n",
              " 491: '완벽',\n",
              " 492: '러',\n",
              " 493: '주연',\n",
              " 494: '보고',\n",
              " 495: '후회',\n",
              " 496: '버리',\n",
              " 497: '뻔한',\n",
              " 498: '어릴',\n",
              " 499: '진부',\n",
              " 500: '나올',\n",
              " 501: '나요',\n",
              " 502: '출연',\n",
              " 503: '보단',\n",
              " 504: '큰',\n",
              " 505: '책',\n",
              " 506: '됐',\n",
              " 507: '영화관',\n",
              " 508: '더니',\n",
              " 509: '밖',\n",
              " 510: '둘',\n",
              " 511: '개연',\n",
              " 512: '장난',\n",
              " 513: 'ㅅ',\n",
              " 514: '충격',\n",
              " 515: '여기',\n",
              " 516: '극',\n",
              " 517: '난다',\n",
              " 518: '평가',\n",
              " 519: '잔인',\n",
              " 520: '얘기',\n",
              " 521: '아름답',\n",
              " 522: '줬',\n",
              " 523: '예술',\n",
              " 524: '갈수록',\n",
              " 525: '매우',\n",
              " 526: '든',\n",
              " 527: '위한',\n",
              " 528: '불',\n",
              " 529: '꺼',\n",
              " 530: '이후',\n",
              " 531: '이리',\n",
              " 532: '자기',\n",
              " 533: '읽',\n",
              " 534: '얼굴',\n",
              " 535: '꽤',\n",
              " 536: '반',\n",
              " 537: '옛날',\n",
              " 538: '깊',\n",
              " 539: '점대',\n",
              " 540: '티비',\n",
              " 541: '이쁘',\n",
              " 542: '원',\n",
              " 543: '시청',\n",
              " 544: '못한',\n",
              " 545: '불쌍',\n",
              " 546: '순수',\n",
              " 547: '별점',\n",
              " 548: '텐데',\n",
              " 549: '겟',\n",
              " 550: '으나',\n",
              " 551: '봐라',\n",
              " 552: '언제',\n",
              " 553: '비디오',\n",
              " 554: '배',\n",
              " 555: '건가',\n",
              " 556: '장르',\n",
              " 557: '낭비',\n",
              " 558: '머리',\n",
              " 559: '라서',\n",
              " 560: '엇',\n",
              " 561: '그래서',\n",
              " 562: '주제',\n",
              " 563: '다음',\n",
              " 564: '생각나',\n",
              " 565: '다운',\n",
              " 566: '다큐',\n",
              " 567: '궁금',\n",
              " 568: '아님',\n",
              " 569: '존나',\n",
              " 570: '그렇게',\n",
              " 571: '하지만',\n",
              " 572: '시키',\n",
              " 573: '애니',\n",
              " 574: '예전',\n",
              " 575: '누구',\n",
              " 576: '아무',\n",
              " 577: '그만',\n",
              " 578: '미친',\n",
              " 579: '미',\n",
              " 580: '진정',\n",
              " 581: '크',\n",
              " 582: '인상',\n",
              " 583: '상황',\n",
              " 584: '그러',\n",
              " 585: '뒤',\n",
              " 586: '스릴',\n",
              " 587: '이름',\n",
              " 588: '감사',\n",
              " 589: '오래',\n",
              " 590: '집중',\n",
              " 591: '본다',\n",
              " 592: '어느',\n",
              " 593: '시즌',\n",
              " 594: '약간',\n",
              " 595: '나와서',\n",
              " 596: '로맨스',\n",
              " 597: '방송',\n",
              " 598: '그나마',\n",
              " 599: '식',\n",
              " 600: '짜리',\n",
              " 601: '났',\n",
              " 602: '소설',\n",
              " 603: '까',\n",
              " 604: '그대로',\n",
              " 605: '마세요',\n",
              " 606: '여주인공',\n",
              " 607: '인물',\n",
              " 608: '떨어지',\n",
              " 609: '걸작',\n",
              " 610: '훨씬',\n",
              " 611: '그것',\n",
              " 612: '힘',\n",
              " 613: '동안',\n",
              " 614: '몰',\n",
              " 615: '케',\n",
              " 616: '죽이',\n",
              " 617: '꿈',\n",
              " 618: '너',\n",
              " 619: '대체',\n",
              " 620: '실화',\n",
              " 621: '사회',\n",
              " 622: '평',\n",
              " 623: '짓',\n",
              " 624: '해라',\n",
              " 625: '누가',\n",
              " 626: '전체',\n",
              " 627: '비슷',\n",
              " 628: '막',\n",
              " 629: '발연기',\n",
              " 630: '엉성',\n",
              " 631: '에요',\n",
              " 632: '만점',\n",
              " 633: '왔',\n",
              " 634: '입',\n",
              " 635: '귀엽',\n",
              " 636: '끝나',\n",
              " 637: '중국',\n",
              " 638: '햇',\n",
              " 639: '초딩',\n",
              " 640: '여주',\n",
              " 641: '비교',\n",
              " 642: '세계',\n",
              " 643: '여배우',\n",
              " 644: '영상미',\n",
              " 645: '감성',\n",
              " 646: '네이버',\n",
              " 647: '는가',\n",
              " 648: '구만',\n",
              " 649: '느껴',\n",
              " 650: '단',\n",
              " 651: '상',\n",
              " 652: '순간',\n",
              " 653: 'ㅎㅎㅎ',\n",
              " 654: '나이',\n",
              " 655: '려는',\n",
              " 656: '대해',\n",
              " 657: '무',\n",
              " 658: '첫',\n",
              " 659: '쯤',\n",
              " 660: '어렸',\n",
              " 661: '망',\n",
              " 662: '판',\n",
              " 663: '학교',\n",
              " 664: '꿀',\n",
              " 665: '갔',\n",
              " 666: '어설픈',\n",
              " 667: '돋',\n",
              " 668: '회',\n",
              " 669: '셨',\n",
              " 670: '아야',\n",
              " 671: '느낄',\n",
              " 672: '생',\n",
              " 673: '혼자',\n",
              " 674: '아들',\n",
              " 675: '더럽',\n",
              " 676: '어린',\n",
              " 677: '가능',\n",
              " 678: '타',\n",
              " 679: '졸',\n",
              " 680: '성룡',\n",
              " 681: '바로',\n",
              " 682: '교훈',\n",
              " 683: '멋지',\n",
              " 684: '잘못',\n",
              " 685: '한마디',\n",
              " 686: '나가',\n",
              " 687: '맛',\n",
              " 688: '당신',\n",
              " 689: '끌',\n",
              " 690: '딸',\n",
              " 691: '화려',\n",
              " 692: '길래',\n",
              " 693: '티',\n",
              " 694: '판타지',\n",
              " 695: '땜',\n",
              " 696: '달',\n",
              " 697: '맨',\n",
              " 698: '잠',\n",
              " 699: '빨리',\n",
              " 700: '거의',\n",
              " 701: '목소리',\n",
              " 702: '든다',\n",
              " 703: '똥',\n",
              " 704: '삼류',\n",
              " 705: '듣',\n",
              " 706: '전부',\n",
              " 707: '봤었',\n",
              " 708: '건데',\n",
              " 709: '독특',\n",
              " 710: '나온다',\n",
              " 711: '다르',\n",
              " 712: '한번',\n",
              " 713: '어른',\n",
              " 714: '질질',\n",
              " 715: '지루함',\n",
              " 716: 'ㅉㅉ',\n",
              " 717: '률',\n",
              " 718: '상당히',\n",
              " 719: '가치',\n",
              " 720: '씩',\n",
              " 721: '넣',\n",
              " 722: '아버지',\n",
              " 723: '아까움',\n",
              " 724: '차',\n",
              " 725: '줄거리',\n",
              " 726: '스타일',\n",
              " 727: '평론가',\n",
              " 728: '대로',\n",
              " 729: '영',\n",
              " 730: '다만',\n",
              " 731: '여러',\n",
              " 732: '갑자기',\n",
              " 733: '이번',\n",
              " 734: '의도',\n",
              " 735: '그러나',\n",
              " 736: '저런',\n",
              " 737: 'ㅂ',\n",
              " 738: '군요',\n",
              " 739: '존',\n",
              " 740: '허무',\n",
              " 741: '밑',\n",
              " 742: '존재',\n",
              " 743: '초',\n",
              " 744: '위',\n",
              " 745: '에선',\n",
              " 746: '너무너무',\n",
              " 747: '째',\n",
              " 748: '예상',\n",
              " 749: '으면서',\n",
              " 750: '성우',\n",
              " 751: '버린',\n",
              " 752: '각본',\n",
              " 753: '이러',\n",
              " 754: '그녀',\n",
              " 755: '화면',\n",
              " 756: '당',\n",
              " 757: 'ㄱ',\n",
              " 758: '비해',\n",
              " 759: '점점',\n",
              " 760: '떠나',\n",
              " 761: '자연',\n",
              " 762: '뻔하',\n",
              " 763: '굉장히',\n",
              " 764: '만나',\n",
              " 765: '담',\n",
              " 766: '평범',\n",
              " 767: '슬픈',\n",
              " 768: '그런지',\n",
              " 769: '예쁘',\n",
              " 770: '복수',\n",
              " 771: '단순',\n",
              " 772: '중요',\n",
              " 773: '낸',\n",
              " 774: '갖',\n",
              " 775: '댓글',\n",
              " 776: '극장판',\n",
              " 777: '돼',\n",
              " 778: '줌',\n",
              " 779: '새로운',\n",
              " 780: '제작',\n",
              " 781: '피',\n",
              " 782: '못했',\n",
              " 783: '앗',\n",
              " 784: '일단',\n",
              " 785: '만족',\n",
              " 786: '쉽',\n",
              " 787: '선택',\n",
              " 788: '한편',\n",
              " 789: '쓴',\n",
              " 790: '버렸',\n",
              " 791: '아빠',\n",
              " 792: '관람',\n",
              " 793: '요소',\n",
              " 794: '불편',\n",
              " 795: '항상',\n",
              " 796: '스',\n",
              " 797: '지나',\n",
              " 798: '거기',\n",
              " 799: '한다는',\n",
              " 800: '나옴',\n",
              " 801: '연출력',\n",
              " 802: '그때',\n",
              " 803: '탄탄',\n",
              " 804: '롭',\n",
              " 805: '굳',\n",
              " 806: '에로',\n",
              " 807: '잃',\n",
              " 808: '려',\n",
              " 809: '흥행',\n",
              " 810: '물론',\n",
              " 811: '부',\n",
              " 812: '거나',\n",
              " 813: '한심',\n",
              " 814: '역대',\n",
              " 815: '편집',\n",
              " 816: '예요',\n",
              " 817: '따라',\n",
              " 818: '관계',\n",
              " 819: '산',\n",
              " 820: '전형',\n",
              " 821: '삼',\n",
              " 822: '짧',\n",
              " 823: '진행',\n",
              " 824: '아닌가',\n",
              " 825: '충분히',\n",
              " 826: '멜',\n",
              " 827: '법',\n",
              " 828: '총',\n",
              " 829: '에겐',\n",
              " 830: '던가',\n",
              " 831: '조',\n",
              " 832: '안타깝',\n",
              " 833: '따',\n",
              " 834: '이하',\n",
              " 835: '식상',\n",
              " 836: '자꾸',\n",
              " 837: '도록',\n",
              " 838: '게임',\n",
              " 839: '미안',\n",
              " 840: '훈훈',\n",
              " 841: '아까워',\n",
              " 842: '곳',\n",
              " 843: '원래',\n",
              " 844: '그게',\n",
              " 845: '구요',\n",
              " 846: '김',\n",
              " 847: '자극',\n",
              " 848: '몰랐',\n",
              " 849: '화이팅',\n",
              " 850: '몸',\n",
              " 851: '손',\n",
              " 852: '어쩔',\n",
              " 853: '풀',\n",
              " 854: '사건',\n",
              " 855: '똑같',\n",
              " 856: '설명',\n",
              " 857: '어울리',\n",
              " 858: '팔',\n",
              " 859: '나쁜',\n",
              " 860: '뭔지',\n",
              " 861: '그래픽',\n",
              " 862: '노력',\n",
              " 863: '귀신',\n",
              " 864: '짐',\n",
              " 865: '잖아',\n",
              " 866: '도저히',\n",
              " 867: '조차',\n",
              " 868: '상상',\n",
              " 869: '과거',\n",
              " 870: '됬',\n",
              " 871: '간다',\n",
              " 872: '닿',\n",
              " 873: '장',\n",
              " 874: '개그',\n",
              " 875: '황당',\n",
              " 876: '프랑스',\n",
              " 877: '아프',\n",
              " 878: '무조건',\n",
              " 879: '홍콩',\n",
              " 880: '죽음',\n",
              " 881: '듬',\n",
              " 882: '코메디',\n",
              " 883: '취향',\n",
              " 884: '중반',\n",
              " 885: '속편',\n",
              " 886: '새끼',\n",
              " 887: '했었',\n",
              " 888: '미치',\n",
              " 889: '발',\n",
              " 890: '빠져',\n",
              " 891: '프로',\n",
              " 892: '소중',\n",
              " 893: '빠',\n",
              " 894: '빙',\n",
              " 895: '짱짱',\n",
              " 896: '역',\n",
              " 897: 'ㅜ',\n",
              " 898: '나쁘',\n",
              " 899: '무비',\n",
              " 900: '간만에',\n",
              " 901: '좋아하',\n",
              " 902: '더빙',\n",
              " 903: '아쉬운',\n",
              " 904: '멋',\n",
              " 905: '넘치',\n",
              " 906: '병맛',\n",
              " 907: '상영',\n",
              " 908: '진지',\n",
              " 909: '빠지',\n",
              " 910: '더욱',\n",
              " 911: '참신',\n",
              " 912: '쳐',\n",
              " 913: '끝내',\n",
              " 914: '무서운',\n",
              " 915: '특유',\n",
              " 916: '유명',\n",
              " 917: '척',\n",
              " 918: '심리',\n",
              " 919: '결혼',\n",
              " 920: '엄청난',\n",
              " 921: '괜히',\n",
              " 922: '숨',\n",
              " 923: '오히려',\n",
              " 924: '예고편',\n",
              " 925: '전설',\n",
              " 926: '짜',\n",
              " 927: '또한',\n",
              " 928: '고자',\n",
              " 929: '후반부',\n",
              " 930: '틀',\n",
              " 931: '아저씨',\n",
              " 932: '심하',\n",
              " 933: '바보',\n",
              " 934: '왕',\n",
              " 935: '연기자',\n",
              " 936: '헐',\n",
              " 937: '촬영',\n",
              " 938: '리',\n",
              " 939: '아도',\n",
              " 940: '천재',\n",
              " 941: '소녀',\n",
              " 942: '느꼈',\n",
              " 943: '그리',\n",
              " 944: '로맨틱',\n",
              " 945: '조연',\n",
              " 946: '최근',\n",
              " 947: '희망',\n",
              " 948: '으니',\n",
              " 949: '억지로',\n",
              " 950: '가볍',\n",
              " 951: '이란',\n",
              " 952: '비추',\n",
              " 953: '는구나',\n",
              " 954: 'ㄴ',\n",
              " 955: '마무리',\n",
              " 956: '표정',\n",
              " 957: '쩔',\n",
              " 958: '현재',\n",
              " 959: '전편',\n",
              " 960: '아무것',\n",
              " 961: '온',\n",
              " 962: '힘든',\n",
              " 963: '로서',\n",
              " 964: '부모',\n",
              " 965: '어라',\n",
              " 966: '이야',\n",
              " 967: '던지',\n",
              " 968: '동화',\n",
              " 969: '순',\n",
              " 970: '아쉬움',\n",
              " 971: '대작',\n",
              " 972: '서로',\n",
              " 973: '진실',\n",
              " 974: '점주',\n",
              " 975: '즐겁',\n",
              " 976: '저질',\n",
              " 977: '노출',\n",
              " 978: '빨',\n",
              " 979: '대한민국',\n",
              " 980: '메세지',\n",
              " 981: '우연히',\n",
              " 982: '적당',\n",
              " 983: '그림',\n",
              " 984: '묘사',\n",
              " 985: '여성',\n",
              " 986: '이미',\n",
              " 987: '그런데',\n",
              " 988: '땐',\n",
              " 989: '지난',\n",
              " 990: '엉망',\n",
              " 991: '이래',\n",
              " 992: '경찰',\n",
              " 993: '그닥',\n",
              " 994: '프로그램',\n",
              " 995: '살인',\n",
              " 996: '오빠',\n",
              " 997: '흠',\n",
              " 998: '남기',\n",
              " 999: '쩌',\n",
              " 1000: '유머',\n",
              " 1001: '십',\n",
              " 1002: '돌',\n",
              " ...}"
            ]
          },
          "metadata": {
            "tags": []
          },
          "execution_count": 13
        }
      ]
    },
    {
      "cell_type": "code",
      "metadata": {
        "id": "concerned-durham"
      },
      "source": [
        "# 문장 1개를 활용할 딕셔너리와 함께 주면, 단어 인덱스 리스트 벡터로 변환해 주는 함수입니다. \n",
        "# 단, 모든 문장은 <BOS>로 시작하는 것으로 합니다. \n",
        "def get_encoded_sentence(sentence, word_to_index):\n",
        "    return [word_to_index['<BOS>']]+[word_to_index[word] if word in word_to_index else word_to_index['<UNK>'] for word in sentence.split()]\n",
        "\n",
        "# 여러 개의 문장 리스트를 한꺼번에 단어 인덱스 리스트 벡터로 encode해 주는 함수입니다. \n",
        "def get_encoded_sentences(sentences, word_to_index):\n",
        "    return [get_encoded_sentence(sentence, word_to_index) for sentence in sentences]\n",
        "\n",
        "# 숫자 벡터로 encode된 문장을 원래대로 decode하는 함수입니다. \n",
        "def get_decoded_sentence(encoded_sentence, index_to_word):\n",
        "    return ' '.join(index_to_word[index] if index in index_to_word else '<UNK>' for index in encoded_sentence[1:])  #[1:]를 통해 <BOS>를 제외\n",
        "\n",
        "# 여러 개의 숫자 벡터로 encode된 문장을 한꺼번에 원래대로 decode하는 함수입니다. \n",
        "def get_decoded_sentences(encoded_sentences, index_to_word):\n",
        "    return [get_decoded_sentence(encoded_sentence, index_to_word) for encoded_sentence in encoded_sentences]"
      ],
      "id": "concerned-durham",
      "execution_count": null,
      "outputs": []
    },
    {
      "cell_type": "code",
      "metadata": {
        "id": "trained-candle",
        "outputId": "2059790f-e834-4d35-aedb-79ce79a3112f"
      },
      "source": [
        "print(X_train[0])  # 1번째 리뷰데이터\n",
        "print('라벨: ', y_train[0])  # 1번째 리뷰데이터의 라벨\n",
        "print('1번째 리뷰 문장 길이: ', len(X_train[0]))\n",
        "print('2번째 리뷰 문장 길이: ', len(X_train[1]))"
      ],
      "id": "trained-candle",
      "execution_count": null,
      "outputs": [
        {
          "output_type": "stream",
          "text": [
            "[27, 68, 894, 33, 216, 15, 28, 701]\n",
            "라벨:  0\n",
            "1번째 리뷰 문장 길이:  8\n",
            "2번째 리뷰 문장 길이:  13\n"
          ],
          "name": "stdout"
        }
      ]
    },
    {
      "cell_type": "code",
      "metadata": {
        "id": "international-legislature",
        "outputId": "1481a3e4-d786-49f6-d013-fae4815ac2e0"
      },
      "source": [
        "# 처음 몇 개 인덱스는 사전에 정의되어 있습니다\n",
        "word_to_index[\"<PAD>\"] = 0\n",
        "word_to_index[\"<BOS>\"] = 1\n",
        "word_to_index[\"<UNK>\"] = 2  # unknown\n",
        "word_to_index[\"<UNUSED>\"] = 3\n",
        "\n",
        "index_to_word[0] = \"<PAD>\"\n",
        "index_to_word[1] = \"<BOS>\"\n",
        "index_to_word[2] = \"<UNK>\"\n",
        "index_to_word[3] = \"<UNUSED>\"\n",
        "\n",
        "index_to_word = {index:word for word, index in word_to_index.items()}\n",
        "\n",
        "print(index_to_word[0])\n",
        "print(index_to_word[1])     # '<BOS>' 가 출력됩니다. \n",
        "print(index_to_word[2])\n",
        "print(index_to_word[3])\n",
        "#print(index_to_word)"
      ],
      "id": "international-legislature",
      "execution_count": null,
      "outputs": [
        {
          "output_type": "stream",
          "text": [
            "<PAD>\n",
            "<BOS>\n",
            "<UNK>\n",
            "<UNUSED>\n"
          ],
          "name": "stdout"
        }
      ]
    },
    {
      "cell_type": "code",
      "metadata": {
        "id": "fatty-sandwich",
        "outputId": "b792c333-a4a8-44c9-fc84-206562d4de51"
      },
      "source": [
        "print(get_decoded_sentence(X_train[0], index_to_word))\n",
        "print('라벨: ', y_train[0])  # 1번째 리뷰데이터의 라벨"
      ],
      "id": "fatty-sandwich",
      "execution_count": null,
      "outputs": [
        {
          "output_type": "stream",
          "text": [
            "더 빙 진짜 짜증 나 네요 목소리\n",
            "라벨:  0\n"
          ],
          "name": "stdout"
        }
      ]
    },
    {
      "cell_type": "markdown",
      "metadata": {
        "id": "included-uganda"
      },
      "source": [
        "### 데이터셋 내 문장 길이 분포"
      ],
      "id": "included-uganda"
    },
    {
      "cell_type": "code",
      "metadata": {
        "id": "impossible-tyler",
        "outputId": "78092d46-38b9-4198-e3b3-f778b406563d"
      },
      "source": [
        "print('리뷰의 최대 길이 :',max(len(l) for l in X_train))\n",
        "print('리뷰의 평균 길이 :',sum(map(len, X_train))/len(X_train))\n",
        "plt.hist([len(s) for s in X_train], bins=50)\n",
        "plt.xlabel('length of samples')\n",
        "plt.ylabel('number of samples')\n",
        "plt.show()"
      ],
      "id": "impossible-tyler",
      "execution_count": null,
      "outputs": [
        {
          "output_type": "stream",
          "text": [
            "리뷰의 최대 길이 : 83\n",
            "리뷰의 평균 길이 : 14.020554240356496\n"
          ],
          "name": "stdout"
        },
        {
          "output_type": "display_data",
          "data": {
            "image/png": "[encoded data removed]",
            "text/plain": [
              "<Figure size 432x288 with 1 Axes>"
            ]
          },
          "metadata": {
            "tags": [],
            "needs_background": "light"
          }
        }
      ]
    },
    {
      "cell_type": "markdown",
      "metadata": {
        "id": "vanilla-cooperation"
      },
      "source": [
        "### 최대 문장 길이 지정"
      ],
      "id": "vanilla-cooperation"
    },
    {
      "cell_type": "code",
      "metadata": {
        "id": "continued-criminal",
        "outputId": "90b9b68b-06ee-4f0d-e154-86a80fcbed9e"
      },
      "source": [
        "total_data_text = list(X_train) + list(X_test)\n",
        "# 텍스트데이터 문장길이의 리스트를 생성한 후\n",
        "num_tokens = [len(tokens) for tokens in total_data_text]\n",
        "num_tokens = np.array(num_tokens)\n",
        "# 문장길이의 평균값, 최대값, 표준편차를 계산해 본다. \n",
        "print('문장길이 평균 : ', np.mean(num_tokens))\n",
        "print('문장길이 최대 : ', np.max(num_tokens))\n",
        "print('문장길이 표준편차 : ', np.std(num_tokens))\n",
        "\n",
        "# 예를들어, 최대 길이를 (평균 + 2*표준편차)로 한다면,  \n",
        "max_tokens = np.mean(num_tokens) + 2 * np.std(num_tokens)\n",
        "maxlen = int(max_tokens)\n",
        "print('pad_sequences maxlen : ', maxlen)\n",
        "print('전체 문장의 {}가 maxlen 설정값 이내에 포함됩니다. '.format(np.sum(num_tokens < max_tokens) / len(num_tokens)))"
      ],
      "id": "continued-criminal",
      "execution_count": null,
      "outputs": [
        {
          "output_type": "stream",
          "text": [
            "문장길이 평균 :  14.528138730242716\n",
            "문장길이 최대 :  105\n",
            "문장길이 표준편차 :  11.921158321890513\n",
            "pad_sequences maxlen :  38\n",
            "전체 문장의 0.9352204879212769가 maxlen 설정값 이내에 포함됩니다. \n"
          ],
          "name": "stdout"
        }
      ]
    },
    {
      "cell_type": "markdown",
      "metadata": {
        "id": "orange-wisdom"
      },
      "source": [
        "### 패딩 추가\n",
        "padding을 'post'와 'pre'로 모두 해본 결과, 그나마 'post'가 더 나았다."
      ],
      "id": "orange-wisdom"
    },
    {
      "cell_type": "code",
      "metadata": {
        "id": "abstract-palmer",
        "outputId": "57b06278-c6c1-4789-fefc-409cf0f512b8"
      },
      "source": [
        "X_train = keras.preprocessing.sequence.pad_sequences(X_train,\n",
        "                                                        value=word_to_index[\"<PAD>\"],\n",
        "                                                        padding='post', # 혹은 'pre'\n",
        "                                                        maxlen=maxlen)\n",
        "X_test = keras.preprocessing.sequence.pad_sequences(X_test,\n",
        "                                                       value=word_to_index[\"<PAD>\"],\n",
        "                                                       padding='post', # 혹은 'pre'\n",
        "                                                       maxlen=maxlen)\n",
        "\n",
        "print(X_train.shape)"
      ],
      "id": "abstract-palmer",
      "execution_count": null,
      "outputs": [
        {
          "output_type": "stream",
          "text": [
            "(143620, 38)\n"
          ],
          "name": "stdout"
        }
      ]
    },
    {
      "cell_type": "markdown",
      "metadata": {
        "id": "perceived-egypt"
      },
      "source": [
        "# 4) 모델 구성 및 validation set 구성\n",
        "\n",
        "모델을 3가지 이상 다양하게 구성하여 실험해보기"
      ],
      "id": "perceived-egypt"
    },
    {
      "cell_type": "markdown",
      "metadata": {
        "id": "advised-processing"
      },
      "source": [
        "## validation 데이터셋 구성"
      ],
      "id": "advised-processing"
    },
    {
      "cell_type": "code",
      "metadata": {
        "id": "ahead-orlando",
        "outputId": "2befd9cf-0b6e-48b3-b526-d8fd2db68e95"
      },
      "source": [
        "# validation set 40000건 분리 (약30%)\n",
        "x_val = X_train[:40000]   \n",
        "y_val = y_train[:40000]\n",
        "\n",
        "# validation set을 제외한 나머지 약 11만건\n",
        "partial_x_train = X_train[40000:]  \n",
        "partial_y_train = y_train[40000:]\n",
        "\n",
        "print(partial_x_train.shape)\n",
        "print(partial_y_train.shape)"
      ],
      "id": "ahead-orlando",
      "execution_count": null,
      "outputs": [
        {
          "output_type": "stream",
          "text": [
            "(103620, 38)\n",
            "(103620,)\n"
          ],
          "name": "stdout"
        }
      ]
    },
    {
      "cell_type": "markdown",
      "metadata": {
        "id": "charitable-marketplace"
      },
      "source": [
        "## 1) LSTM (차원=128)"
      ],
      "id": "charitable-marketplace"
    },
    {
      "cell_type": "code",
      "metadata": {
        "id": "cordless-liability",
        "outputId": "b2c7ec4a-c473-4adc-81c3-30a9cff3f171"
      },
      "source": [
        "word_vector_dim = 200  # 워드 벡터의 차원 수 (변경 가능한 하이퍼파라미터)\n",
        "\n",
        "from keras.layers.core import Dropout\n",
        "\n",
        "model = keras.Sequential()\n",
        "model.add(keras.layers.Embedding(vocab_size, word_vector_dim, input_shape=(None,)))\n",
        "model.add(keras.layers.LSTM(128))   # LSTM레이어. LSTM state 벡터의 차원수는 128로 함. (변경 가능)\n",
        "# model.add(Dropout(0.2))\n",
        "# model.add(keras.layers.Dense(8, activation='relu'))\n",
        "model.add(Dropout(0.2))  # 드롭아웃 추가. 비율은 20%\n",
        "model.add(keras.layers.Dense(1, activation='sigmoid'))  # 최종 출력은 긍정/부정을 나타내는 1차원데이터이다.\n",
        "\n",
        "model.summary()"
      ],
      "id": "cordless-liability",
      "execution_count": null,
      "outputs": [
        {
          "output_type": "stream",
          "text": [
            "Model: \"sequential_1\"\n",
            "_________________________________________________________________\n",
            "Layer (type)                 Output Shape              Param #   \n",
            "=================================================================\n",
            "embedding_1 (Embedding)      (None, None, 200)         6000000   \n",
            "_________________________________________________________________\n",
            "lstm_1 (LSTM)                (None, 128)               168448    \n",
            "_________________________________________________________________\n",
            "dropout (Dropout)            (None, 128)               0         \n",
            "_________________________________________________________________\n",
            "dense_1 (Dense)              (None, 1)                 129       \n",
            "=================================================================\n",
            "Total params: 6,168,577\n",
            "Trainable params: 6,168,577\n",
            "Non-trainable params: 0\n",
            "_________________________________________________________________\n"
          ],
          "name": "stdout"
        }
      ]
    },
    {
      "cell_type": "markdown",
      "metadata": {
        "id": "underlying-income"
      },
      "source": [
        "## 2) 1-D CNN: GlobalMaxPooling1D()레이어만 사용"
      ],
      "id": "underlying-income"
    },
    {
      "cell_type": "code",
      "metadata": {
        "id": "roman-bidding",
        "outputId": "cc173b5b-0c87-4fd5-c4c6-565b4bc4e145"
      },
      "source": [
        "word_vector_dim = 200   # 단어 하나를 표현하는 임베딩 벡터의 차원 수\n",
        "\n",
        "model2 = keras.Sequential()\n",
        "model2.add(keras.layers.Embedding(vocab_size, word_vector_dim, input_shape=(None,)))\n",
        "model2.add(keras.layers.GlobalMaxPooling1D())\n",
        "model2.add(keras.layers.Dense(8, activation='relu'))\n",
        "model2.add(keras.layers.Dense(1, activation='sigmoid'))  # 최종 출력은 긍정/부정을 나타내는 1dim 입니다.\n",
        "\n",
        "model2.summary()"
      ],
      "id": "roman-bidding",
      "execution_count": null,
      "outputs": [
        {
          "output_type": "stream",
          "text": [
            "Model: \"sequential_7\"\n",
            "_________________________________________________________________\n",
            "Layer (type)                 Output Shape              Param #   \n",
            "=================================================================\n",
            "embedding_7 (Embedding)      (None, None, 200)         6000000   \n",
            "_________________________________________________________________\n",
            "global_max_pooling1d_5 (Glob (None, 200)               0         \n",
            "_________________________________________________________________\n",
            "dense_12 (Dense)             (None, 8)                 1608      \n",
            "_________________________________________________________________\n",
            "dense_13 (Dense)             (None, 1)                 9         \n",
            "=================================================================\n",
            "Total params: 6,001,617\n",
            "Trainable params: 6,001,617\n",
            "Non-trainable params: 0\n",
            "_________________________________________________________________\n"
          ],
          "name": "stdout"
        }
      ]
    },
    {
      "cell_type": "markdown",
      "metadata": {
        "id": "worthy-missile"
      },
      "source": [
        "## 3) GRU (Gated Reccurent Unit)\n",
        "GRU도 LSTM과 같은 RNN(순환신경망)으로, 기존 LSTM의 구조를 조금 더 간단하게 개선한 모델이다.\n",
        "\n",
        "[참고](https://blog.naver.com/winddori2002/221992543837)"
      ],
      "id": "worthy-missile"
    },
    {
      "cell_type": "code",
      "metadata": {
        "id": "sporting-break"
      },
      "source": [
        "from tensorflow.keras.layers import GRU\n",
        "word_vector_dim = 200   # 단어 하나를 표현하는 임베딩 벡터의 차원 수\n",
        "\n",
        "model3 = keras.Sequential()\n",
        "model3.add(keras.layers.Embedding(vocab_size, word_vector_dim))\n",
        "model3.add(GRU(128))\n",
        "model3.add(keras.layers.Dense(1, activation='sigmoid'))"
      ],
      "id": "sporting-break",
      "execution_count": null,
      "outputs": []
    },
    {
      "cell_type": "markdown",
      "metadata": {
        "id": "desirable-photography"
      },
      "source": [
        "# 5) 모델 훈련\n",
        "[Keras - EarlyStopping 주의사항](https://m.blog.naver.com/PostView.naver?isHttpsRedirect=true&blogId=cjh226&logNo=221468928164)"
      ],
      "id": "desirable-photography"
    },
    {
      "cell_type": "code",
      "metadata": {
        "id": "increasing-thickness"
      },
      "source": [
        "# 오버피팅 방지 및 checkpoint저장\n",
        "callbacks = [keras.callbacks.EarlyStopping(monitor='val_loss',\n",
        "                                           patience=5),\n",
        "             keras.callbacks.ModelCheckpoint(filepath='best_model.h5',\n",
        "                                             monitor='val_loss',\n",
        "                                             save_best_only=True)]"
      ],
      "id": "increasing-thickness",
      "execution_count": null,
      "outputs": []
    },
    {
      "cell_type": "markdown",
      "metadata": {
        "id": "restricted-transformation"
      },
      "source": [
        "## 모델1\n",
        "LSTM레이어를 사용한 모델로 여러 파라미터와 조건을 변경해보며 훈련시켜봤지만, 계속 val_accuracy가 감소한다. 같은 이유로 아래 학습에서 early stop을 한 것이다."
      ],
      "id": "restricted-transformation"
    },
    {
      "cell_type": "code",
      "metadata": {
        "id": "otherwise-disability",
        "outputId": "2db0c870-b72e-4c29-df4c-18ead4b827f5"
      },
      "source": [
        "model.compile(optimizer='adam',\n",
        "              loss='binary_crossentropy',\n",
        "              metrics=['accuracy'])\n",
        "              \n",
        "epochs=15  # 몇 epoch를 훈련하면 좋을지 결과를 보면서 바꾸어 봅시다. \n",
        "\n",
        "\n",
        "history = model.fit(partial_x_train,\n",
        "                    partial_y_train,\n",
        "                    epochs=epochs,\n",
        "                    batch_size=128,\n",
        "                    validation_data=(x_val, y_val),\n",
        "                    callbacks=callbacks,\n",
        "                    verbose=1)"
      ],
      "id": "otherwise-disability",
      "execution_count": null,
      "outputs": [
        {
          "output_type": "stream",
          "text": [
            "Epoch 1/15\n",
            "810/810 [==============================] - 29s 33ms/step - loss: 0.5180 - accuracy: 0.7060 - val_loss: 0.3462 - val_accuracy: 0.8475\n",
            "Epoch 2/15\n",
            "810/810 [==============================] - 26s 32ms/step - loss: 0.2882 - accuracy: 0.8802 - val_loss: 0.3401 - val_accuracy: 0.8518\n",
            "Epoch 3/15\n",
            "810/810 [==============================] - 23s 28ms/step - loss: 0.2296 - accuracy: 0.9081 - val_loss: 0.3673 - val_accuracy: 0.8502\n",
            "Epoch 4/15\n",
            "810/810 [==============================] - 25s 31ms/step - loss: 0.1805 - accuracy: 0.9318 - val_loss: 0.3835 - val_accuracy: 0.8485\n",
            "Epoch 5/15\n",
            "810/810 [==============================] - 23s 28ms/step - loss: 0.1456 - accuracy: 0.9451 - val_loss: 0.4602 - val_accuracy: 0.8471\n",
            "Epoch 6/15\n",
            "810/810 [==============================] - 25s 31ms/step - loss: 0.1228 - accuracy: 0.9536 - val_loss: 0.5142 - val_accuracy: 0.8406\n",
            "Epoch 7/15\n",
            "810/810 [==============================] - 23s 28ms/step - loss: 0.1020 - accuracy: 0.9623 - val_loss: 0.5867 - val_accuracy: 0.8431\n"
          ],
          "name": "stdout"
        }
      ]
    },
    {
      "cell_type": "code",
      "metadata": {
        "id": "announced-armenia",
        "outputId": "7a3b3e94-1352-4cc4-c191-3edcb3a7d595"
      },
      "source": [
        "results = model.evaluate(X_test,  y_test, verbose=2)\n",
        "\n",
        "print(results)"
      ],
      "id": "announced-armenia",
      "execution_count": null,
      "outputs": [
        {
          "output_type": "stream",
          "text": [
            "1537/1537 - 6s - loss: 0.6053 - accuracy: 0.8311\n",
            "[0.60526043176651, 0.8310718536376953]\n"
          ],
          "name": "stdout"
        }
      ]
    },
    {
      "cell_type": "markdown",
      "metadata": {
        "id": "magnetic-landscape"
      },
      "source": [
        "## 모델2\n",
        "LSTM모델에 비해선 정확도가 어느정도 개선되는 모습을 보였으나, 이 모델 역시 결국 정확도가 다시 낮아져서 early stop되었다. 이전 모델과 하이퍼파라미터의 차이점은 optimizer를 adam에서 rmsprop으로 변경했다는 것이다."
      ],
      "id": "magnetic-landscape"
    },
    {
      "cell_type": "code",
      "metadata": {
        "id": "sought-hopkins",
        "outputId": "faa7862b-c7b3-4ca8-d010-15c23efaec3f"
      },
      "source": [
        "model2.compile(optimizer='rmsprop', loss='binary_crossentropy', metrics=['accuracy'])\n",
        "\n",
        "              \n",
        "epochs=15  # 하이퍼파라미터\n",
        "\n",
        "\n",
        "history2 = model2.fit(partial_x_train,\n",
        "                    partial_y_train,\n",
        "                    epochs=epochs,\n",
        "                    batch_size=128,\n",
        "                    validation_data=(x_val, y_val),\n",
        "                    callbacks=callbacks,\n",
        "                    verbose=1)"
      ],
      "id": "sought-hopkins",
      "execution_count": null,
      "outputs": [
        {
          "output_type": "stream",
          "text": [
            "Epoch 1/15\n",
            "810/810 [==============================] - 10s 12ms/step - loss: 0.4989 - accuracy: 0.7774 - val_loss: 0.3598 - val_accuracy: 0.8385\n",
            "Epoch 2/15\n",
            "810/810 [==============================] - 9s 12ms/step - loss: 0.3371 - accuracy: 0.8558 - val_loss: 0.3505 - val_accuracy: 0.8458\n",
            "Epoch 3/15\n",
            "810/810 [==============================] - 10s 12ms/step - loss: 0.3165 - accuracy: 0.8674 - val_loss: 0.3478 - val_accuracy: 0.8479\n",
            "Epoch 4/15\n",
            "810/810 [==============================] - 9s 12ms/step - loss: 0.3056 - accuracy: 0.8735 - val_loss: 0.3492 - val_accuracy: 0.8484\n",
            "Epoch 5/15\n",
            "810/810 [==============================] - 9s 12ms/step - loss: 0.2950 - accuracy: 0.8790 - val_loss: 0.3493 - val_accuracy: 0.8498\n",
            "Epoch 6/15\n",
            "810/810 [==============================] - 10s 12ms/step - loss: 0.2860 - accuracy: 0.8832 - val_loss: 0.3498 - val_accuracy: 0.8503\n",
            "Epoch 7/15\n",
            "810/810 [==============================] - 9s 12ms/step - loss: 0.2810 - accuracy: 0.8861 - val_loss: 0.3495 - val_accuracy: 0.8500\n",
            "Epoch 8/15\n",
            "810/810 [==============================] - 9s 12ms/step - loss: 0.2737 - accuracy: 0.8902 - val_loss: 0.3511 - val_accuracy: 0.8504\n"
          ],
          "name": "stdout"
        }
      ]
    },
    {
      "cell_type": "code",
      "metadata": {
        "id": "behind-french",
        "outputId": "1d4db532-4b08-4b1b-fe50-080d8d2e415d"
      },
      "source": [
        "results = model2.evaluate(X_test,  y_test, verbose=2)\n",
        "\n",
        "print(results)"
      ],
      "id": "behind-french",
      "execution_count": null,
      "outputs": [
        {
          "output_type": "stream",
          "text": [
            "1537/1537 - 2s - loss: 0.3632 - accuracy: 0.8408\n",
            "[0.36318179965019226, 0.8408365249633789]\n"
          ],
          "name": "stdout"
        }
      ]
    },
    {
      "cell_type": "markdown",
      "metadata": {
        "id": "empirical-campus"
      },
      "source": [
        "모델 정의하는 코드를 다시 실행후, 다른 하이퍼파라미터로 학습시켜보자.\n",
        "- batch_size 축소"
      ],
      "id": "empirical-campus"
    },
    {
      "cell_type": "code",
      "metadata": {
        "id": "damaged-namibia",
        "outputId": "af132f8b-a121-4550-e2b7-648dbc3d5953"
      },
      "source": [
        "model2.compile(optimizer='rmsprop', loss='binary_crossentropy', metrics=['accuracy'])\n",
        "\n",
        "              \n",
        "epochs=15  # 하이퍼파라미터\n",
        "\n",
        "\n",
        "history2 = model2.fit(partial_x_train,\n",
        "                    partial_y_train,\n",
        "                    epochs=epochs,\n",
        "                    batch_size=64,\n",
        "                    validation_data=(x_val, y_val),\n",
        "                    callbacks=callbacks,\n",
        "                    verbose=1)"
      ],
      "id": "damaged-namibia",
      "execution_count": null,
      "outputs": [
        {
          "output_type": "stream",
          "text": [
            "Epoch 1/15\n",
            "1620/1620 [==============================] - 18s 11ms/step - loss: 0.4828 - accuracy: 0.7794 - val_loss: 0.3679 - val_accuracy: 0.8349\n",
            "Epoch 2/15\n",
            "1620/1620 [==============================] - 17s 11ms/step - loss: 0.3526 - accuracy: 0.8474 - val_loss: 0.3609 - val_accuracy: 0.8397\n",
            "Epoch 3/15\n",
            "1620/1620 [==============================] - 17s 11ms/step - loss: 0.3343 - accuracy: 0.8569 - val_loss: 0.3552 - val_accuracy: 0.8432\n",
            "Epoch 4/15\n",
            "1620/1620 [==============================] - 17s 11ms/step - loss: 0.3212 - accuracy: 0.8651 - val_loss: 0.3556 - val_accuracy: 0.8440\n",
            "Epoch 5/15\n",
            "1620/1620 [==============================] - 17s 11ms/step - loss: 0.3082 - accuracy: 0.8714 - val_loss: 0.3544 - val_accuracy: 0.8462\n",
            "Epoch 6/15\n",
            "1620/1620 [==============================] - 18s 11ms/step - loss: 0.2984 - accuracy: 0.8782 - val_loss: 0.3538 - val_accuracy: 0.8450\n",
            "Epoch 7/15\n",
            "1620/1620 [==============================] - 17s 11ms/step - loss: 0.2904 - accuracy: 0.8816 - val_loss: 0.3580 - val_accuracy: 0.8453\n",
            "Epoch 8/15\n",
            "1620/1620 [==============================] - 17s 11ms/step - loss: 0.2831 - accuracy: 0.8863 - val_loss: 0.3544 - val_accuracy: 0.8468\n",
            "Epoch 9/15\n",
            "1620/1620 [==============================] - 17s 11ms/step - loss: 0.2788 - accuracy: 0.8890 - val_loss: 0.3793 - val_accuracy: 0.8368\n",
            "Epoch 10/15\n",
            "1620/1620 [==============================] - 17s 11ms/step - loss: 0.2721 - accuracy: 0.8915 - val_loss: 0.3583 - val_accuracy: 0.8461\n",
            "Epoch 11/15\n",
            "1620/1620 [==============================] - 17s 11ms/step - loss: 0.2664 - accuracy: 0.8946 - val_loss: 0.3582 - val_accuracy: 0.8471\n"
          ],
          "name": "stdout"
        }
      ]
    },
    {
      "cell_type": "code",
      "metadata": {
        "id": "former-papua",
        "outputId": "f487f162-a7ed-4dee-bf12-0c7b64133067"
      },
      "source": [
        "results = model2.evaluate(X_test,  y_test, verbose=2)\n",
        "\n",
        "print(results)"
      ],
      "id": "former-papua",
      "execution_count": null,
      "outputs": [
        {
          "output_type": "stream",
          "text": [
            "1537/1537 - 3s - loss: 0.3742 - accuracy: 0.8371\n",
            "[0.3741576373577118, 0.837073028087616]\n"
          ],
          "name": "stdout"
        }
      ]
    },
    {
      "cell_type": "markdown",
      "metadata": {
        "id": "reliable-munich"
      },
      "source": [
        "LSTM모델과 같은 최적화함수 adam를 사용해보자.\n",
        "- optimizer 변경\n",
        "- epochs 증가\n",
        "- early stop의 patience 증가"
      ],
      "id": "reliable-munich"
    },
    {
      "cell_type": "code",
      "metadata": {
        "id": "alert-fiber"
      },
      "source": [
        "# 오버피팅 방지 및 checkpoint저장\n",
        "callbacks = [keras.callbacks.EarlyStopping(monitor='val_loss',\n",
        "                                           patience=7),\n",
        "             keras.callbacks.ModelCheckpoint(filepath='best_model.h5',\n",
        "                                             monitor='val_loss',\n",
        "                                             save_best_only=True)]"
      ],
      "id": "alert-fiber",
      "execution_count": null,
      "outputs": []
    },
    {
      "cell_type": "code",
      "metadata": {
        "id": "seeing-silly",
        "outputId": "2d5d52b8-5786-4675-8e87-a1db3247e932"
      },
      "source": [
        "model2.compile(optimizer='adam', loss='binary_crossentropy', metrics=['accuracy'])\n",
        "\n",
        "              \n",
        "epochs=20  # 하이퍼파라미터\n",
        "\n",
        "\n",
        "history2 = model2.fit(partial_x_train,\n",
        "                    partial_y_train,\n",
        "                    epochs=epochs,\n",
        "                    batch_size=128,\n",
        "                    validation_data=(x_val, y_val),\n",
        "                    callbacks=callbacks,\n",
        "                    verbose=1)"
      ],
      "id": "seeing-silly",
      "execution_count": null,
      "outputs": [
        {
          "output_type": "stream",
          "text": [
            "Epoch 1/20\n",
            "810/810 [==============================] - 19s 23ms/step - loss: 0.4976 - accuracy: 0.7728 - val_loss: 0.3488 - val_accuracy: 0.8459\n",
            "Epoch 2/20\n",
            "810/810 [==============================] - 18s 22ms/step - loss: 0.2830 - accuracy: 0.8835 - val_loss: 0.3491 - val_accuracy: 0.8494\n",
            "Epoch 3/20\n",
            "810/810 [==============================] - 18s 23ms/step - loss: 0.2106 - accuracy: 0.9203 - val_loss: 0.3755 - val_accuracy: 0.8489\n",
            "Epoch 4/20\n",
            "810/810 [==============================] - 18s 22ms/step - loss: 0.1409 - accuracy: 0.9519 - val_loss: 0.4196 - val_accuracy: 0.8432\n",
            "Epoch 5/20\n",
            "810/810 [==============================] - 19s 23ms/step - loss: 0.0866 - accuracy: 0.9739 - val_loss: 0.4893 - val_accuracy: 0.8364\n",
            "Epoch 6/20\n",
            "810/810 [==============================] - 18s 23ms/step - loss: 0.0516 - accuracy: 0.9856 - val_loss: 0.5584 - val_accuracy: 0.8380\n",
            "Epoch 7/20\n",
            "810/810 [==============================] - 18s 23ms/step - loss: 0.0297 - accuracy: 0.9925 - val_loss: 0.6367 - val_accuracy: 0.8344\n",
            "Epoch 8/20\n",
            "810/810 [==============================] - 18s 23ms/step - loss: 0.0169 - accuracy: 0.9960 - val_loss: 0.7102 - val_accuracy: 0.8303\n"
          ],
          "name": "stdout"
        }
      ]
    },
    {
      "cell_type": "code",
      "metadata": {
        "id": "black-strap",
        "outputId": "e13c2d8d-0bf5-4ab7-b770-9c80ed6d77e7"
      },
      "source": [
        "results = model2.evaluate(X_test,  y_test, verbose=2)\n",
        "\n",
        "print(results)"
      ],
      "id": "black-strap",
      "execution_count": null,
      "outputs": [
        {
          "output_type": "stream",
          "text": [
            "1537/1537 - 2s - loss: 0.7116 - accuracy: 0.8233\n",
            "[0.7115940451622009, 0.8232805132865906]\n"
          ],
          "name": "stdout"
        }
      ]
    },
    {
      "cell_type": "markdown",
      "metadata": {
        "id": "adult-doctrine"
      },
      "source": [
        "## 모델3"
      ],
      "id": "adult-doctrine"
    },
    {
      "cell_type": "code",
      "metadata": {
        "id": "faced-career"
      },
      "source": [
        "# 오버피팅 방지 및 checkpoint저장\n",
        "callbacks = [keras.callbacks.EarlyStopping(monitor='val_loss',\n",
        "                                           patience=5),\n",
        "             keras.callbacks.ModelCheckpoint(filepath='best_model.h5',\n",
        "                                             monitor='val_loss',\n",
        "                                             save_best_only=True)]"
      ],
      "id": "faced-career",
      "execution_count": null,
      "outputs": []
    },
    {
      "cell_type": "code",
      "metadata": {
        "id": "italic-fleet"
      },
      "source": [
        "# 오버피팅 방지 및 checkpoint저장\n",
        "callbacks = [keras.callbacks.EarlyStopping(monitor='val_loss',\n",
        "                                           patience=5),\n",
        "             keras.callbacks.ModelCheckpoint(filepath='best_model3.h5',\n",
        "                                             monitor='val_loss',\n",
        "                                             save_best_only=True)]"
      ],
      "id": "italic-fleet",
      "execution_count": null,
      "outputs": []
    },
    {
      "cell_type": "code",
      "metadata": {
        "id": "unknown-kansas",
        "outputId": "fe0f0d60-3470-4eb4-ee99-bdb0efe9480b"
      },
      "source": [
        "model3.compile(optimizer='rmsprop', loss='binary_crossentropy', metrics=['accuracy'])\n",
        "\n",
        "              \n",
        "epochs=15  # 하이퍼파라미터\n",
        "\n",
        "\n",
        "history3 = model3.fit(partial_x_train,\n",
        "                    partial_y_train,\n",
        "                    epochs=epochs,\n",
        "                    batch_size=128,\n",
        "                    validation_data=(x_val, y_val),\n",
        "                    callbacks=callbacks,\n",
        "                    verbose=1)"
      ],
      "id": "unknown-kansas",
      "execution_count": null,
      "outputs": [
        {
          "output_type": "stream",
          "text": [
            "Epoch 1/15\n",
            "810/810 [==============================] - 20s 23ms/step - loss: 0.5933 - accuracy: 0.6266 - val_loss: 0.3522 - val_accuracy: 0.8449\n",
            "Epoch 2/15\n",
            "810/810 [==============================] - 17s 21ms/step - loss: 0.3266 - accuracy: 0.8606 - val_loss: 0.3307 - val_accuracy: 0.8535\n",
            "Epoch 3/15\n",
            "810/810 [==============================] - 16s 20ms/step - loss: 0.2904 - accuracy: 0.8796 - val_loss: 0.3275 - val_accuracy: 0.8592\n",
            "Epoch 4/15\n",
            "810/810 [==============================] - 15s 19ms/step - loss: 0.2610 - accuracy: 0.8930 - val_loss: 0.3228 - val_accuracy: 0.8640\n",
            "Epoch 5/15\n",
            "810/810 [==============================] - 17s 21ms/step - loss: 0.2368 - accuracy: 0.9063 - val_loss: 0.3216 - val_accuracy: 0.8591\n",
            "Epoch 6/15\n",
            "810/810 [==============================] - 16s 19ms/step - loss: 0.2149 - accuracy: 0.9157 - val_loss: 0.3294 - val_accuracy: 0.8609\n",
            "Epoch 7/15\n",
            "810/810 [==============================] - 16s 19ms/step - loss: 0.1961 - accuracy: 0.9235 - val_loss: 0.3434 - val_accuracy: 0.8580\n",
            "Epoch 8/15\n",
            "810/810 [==============================] - 17s 20ms/step - loss: 0.1799 - accuracy: 0.9306 - val_loss: 0.3466 - val_accuracy: 0.8555\n",
            "Epoch 9/15\n",
            "810/810 [==============================] - 16s 20ms/step - loss: 0.1619 - accuracy: 0.9385 - val_loss: 0.3800 - val_accuracy: 0.8489\n",
            "Epoch 10/15\n",
            "810/810 [==============================] - 16s 19ms/step - loss: 0.1436 - accuracy: 0.9463 - val_loss: 0.3839 - val_accuracy: 0.8460\n"
          ],
          "name": "stdout"
        }
      ]
    },
    {
      "cell_type": "code",
      "metadata": {
        "id": "norwegian-majority",
        "outputId": "45bba0a2-47ab-4c6a-90d4-3e017ebe87e3"
      },
      "source": [
        "results = model3.evaluate(X_test,  y_test, verbose=2)\n",
        "\n",
        "print(results)"
      ],
      "id": "norwegian-majority",
      "execution_count": null,
      "outputs": [
        {
          "output_type": "stream",
          "text": [
            "1537/1537 - 6s - loss: 0.3930 - accuracy: 0.8392\n",
            "[0.3930344879627228, 0.8392497301101685]\n"
          ],
          "name": "stdout"
        }
      ]
    },
    {
      "cell_type": "markdown",
      "metadata": {
        "id": "recognized-cancer"
      },
      "source": [
        "임베딩 벡터 차원과 batch_size를 축소해보았다."
      ],
      "id": "recognized-cancer"
    },
    {
      "cell_type": "code",
      "metadata": {
        "id": "northern-production"
      },
      "source": [
        "from tensorflow.keras.layers import GRU\n",
        "word_vector_dim = 100   # 단어 하나를 표현하는 임베딩 벡터의 차원 수\n",
        "\n",
        "model3 = keras.Sequential()\n",
        "model3.add(keras.layers.Embedding(vocab_size, word_vector_dim))\n",
        "model3.add(GRU(128))\n",
        "model3.add(keras.layers.Dense(1, activation='sigmoid'))"
      ],
      "id": "northern-production",
      "execution_count": null,
      "outputs": []
    },
    {
      "cell_type": "code",
      "metadata": {
        "id": "third-cloud",
        "outputId": "2beebb79-1b93-41c4-f572-d0d4836bc388"
      },
      "source": [
        "model3.compile(optimizer='rmsprop', loss='binary_crossentropy', metrics=['accuracy'])\n",
        "\n",
        "              \n",
        "epochs=15  # 하이퍼파라미터\n",
        "\n",
        "\n",
        "history3 = model3.fit(partial_x_train,\n",
        "                    partial_y_train,\n",
        "                    epochs=epochs,\n",
        "                    batch_size=64,\n",
        "                    validation_data=(x_val, y_val),\n",
        "                    callbacks=callbacks,\n",
        "                    verbose=1)"
      ],
      "id": "third-cloud",
      "execution_count": null,
      "outputs": [
        {
          "output_type": "stream",
          "text": [
            "Epoch 1/15\n",
            "1620/1620 [==============================] - 28s 16ms/step - loss: 0.5702 - accuracy: 0.6511 - val_loss: 0.3680 - val_accuracy: 0.8350\n",
            "Epoch 2/15\n",
            "1620/1620 [==============================] - 26s 16ms/step - loss: 0.3273 - accuracy: 0.8588 - val_loss: 0.3366 - val_accuracy: 0.8533\n",
            "Epoch 3/15\n",
            "1620/1620 [==============================] - 26s 16ms/step - loss: 0.3024 - accuracy: 0.8715 - val_loss: 0.3434 - val_accuracy: 0.8497\n",
            "Epoch 4/15\n",
            "1620/1620 [==============================] - 26s 16ms/step - loss: 0.2762 - accuracy: 0.8858 - val_loss: 0.3268 - val_accuracy: 0.8594\n",
            "Epoch 5/15\n",
            "1620/1620 [==============================] - 26s 16ms/step - loss: 0.2562 - accuracy: 0.8962 - val_loss: 0.3229 - val_accuracy: 0.8606\n",
            "Epoch 6/15\n",
            "1620/1620 [==============================] - 26s 16ms/step - loss: 0.2311 - accuracy: 0.9084 - val_loss: 0.3509 - val_accuracy: 0.8555\n",
            "Epoch 7/15\n",
            "1620/1620 [==============================] - 26s 16ms/step - loss: 0.2199 - accuracy: 0.9136 - val_loss: 0.3430 - val_accuracy: 0.8543\n",
            "Epoch 8/15\n",
            "1620/1620 [==============================] - 26s 16ms/step - loss: 0.1993 - accuracy: 0.9224 - val_loss: 0.3573 - val_accuracy: 0.8530\n",
            "Epoch 9/15\n",
            "1620/1620 [==============================] - 26s 16ms/step - loss: 0.1848 - accuracy: 0.9293 - val_loss: 0.3666 - val_accuracy: 0.8521\n",
            "Epoch 10/15\n",
            "1620/1620 [==============================] - 26s 16ms/step - loss: 0.1719 - accuracy: 0.9334 - val_loss: 0.3780 - val_accuracy: 0.8510\n"
          ],
          "name": "stdout"
        }
      ]
    },
    {
      "cell_type": "code",
      "metadata": {
        "id": "looking-effects",
        "outputId": "e99d5eb5-bb53-43da-9014-d998aa80585d"
      },
      "source": [
        "results = model3.evaluate(X_test,  y_test, verbose=2)\n",
        "\n",
        "print(results)"
      ],
      "id": "looking-effects",
      "execution_count": null,
      "outputs": [
        {
          "output_type": "stream",
          "text": [
            "1537/1537 - 6s - loss: 0.3922 - accuracy: 0.8452\n",
            "[0.3921714127063751, 0.8452102541923523]\n"
          ],
          "name": "stdout"
        }
      ]
    },
    {
      "cell_type": "markdown",
      "metadata": {
        "id": "defensive-occasions"
      },
      "source": [
        "## 모델3 개선\n",
        "위의 시도 중 가장 좋은 성능을 보였던 모델에 overfitting을 방지하는 여러 시도를 적용해보자."
      ],
      "id": "defensive-occasions"
    },
    {
      "cell_type": "markdown",
      "metadata": {
        "id": "coated-spider"
      },
      "source": [
        "### 모델 다시 정의"
      ],
      "id": "coated-spider"
    },
    {
      "cell_type": "code",
      "metadata": {
        "id": "applicable-egyptian"
      },
      "source": [
        "from tensorflow.keras.layers import GRU\n",
        "word_vector_dim = 100   # 단어 하나를 표현하는 임베딩 벡터의 차원 수\n",
        "\n",
        "model3 = keras.Sequential()\n",
        "model3.add(keras.layers.Embedding(vocab_size, word_vector_dim))\n",
        "model3.add(GRU(128))\n",
        "model.add(Dropout(0.2))  # 드롭아웃 추가. 비율은 20%\n",
        "model3.add(keras.layers.Dense(1, activation='sigmoid'))"
      ],
      "id": "applicable-egyptian",
      "execution_count": null,
      "outputs": []
    },
    {
      "cell_type": "markdown",
      "metadata": {
        "id": "modified-stylus"
      },
      "source": [
        "### 모델 학습 및 평가"
      ],
      "id": "modified-stylus"
    },
    {
      "cell_type": "code",
      "metadata": {
        "id": "yellow-prediction",
        "outputId": "53a056d8-2419-48e3-da23-46fbbf8c759d"
      },
      "source": [
        "model3.compile(optimizer='rmsprop', loss='binary_crossentropy', metrics=['accuracy'])\n",
        "\n",
        "              \n",
        "epochs=15  # 하이퍼파라미터\n",
        "\n",
        "\n",
        "history3 = model3.fit(partial_x_train,\n",
        "                    partial_y_train,\n",
        "                    epochs=epochs,\n",
        "                    batch_size=64,\n",
        "                    validation_data=(x_val, y_val),\n",
        "                    callbacks=callbacks,\n",
        "                    verbose=1)"
      ],
      "id": "yellow-prediction",
      "execution_count": null,
      "outputs": [
        {
          "output_type": "stream",
          "text": [
            "Epoch 1/15\n",
            "1620/1620 [==============================] - 28s 16ms/step - loss: 0.5833 - accuracy: 0.6353 - val_loss: 0.3523 - val_accuracy: 0.8453\n",
            "Epoch 2/15\n",
            "1620/1620 [==============================] - 26s 16ms/step - loss: 0.3333 - accuracy: 0.8574 - val_loss: 0.3330 - val_accuracy: 0.8551\n",
            "Epoch 3/15\n",
            "1620/1620 [==============================] - 26s 16ms/step - loss: 0.2998 - accuracy: 0.8726 - val_loss: 0.3252 - val_accuracy: 0.8561\n",
            "Epoch 4/15\n",
            "1620/1620 [==============================] - 26s 16ms/step - loss: 0.2773 - accuracy: 0.8873 - val_loss: 0.3259 - val_accuracy: 0.8602\n",
            "Epoch 5/15\n",
            "1620/1620 [==============================] - 26s 16ms/step - loss: 0.2528 - accuracy: 0.8993 - val_loss: 0.3267 - val_accuracy: 0.8576\n",
            "Epoch 6/15\n",
            "1620/1620 [==============================] - 26s 16ms/step - loss: 0.2345 - accuracy: 0.9071 - val_loss: 0.3290 - val_accuracy: 0.8601\n",
            "Epoch 7/15\n",
            "1620/1620 [==============================] - 26s 16ms/step - loss: 0.2163 - accuracy: 0.9156 - val_loss: 0.3345 - val_accuracy: 0.8587\n",
            "Epoch 8/15\n",
            "1620/1620 [==============================] - 26s 16ms/step - loss: 0.2006 - accuracy: 0.9232 - val_loss: 0.3506 - val_accuracy: 0.8583\n"
          ],
          "name": "stdout"
        }
      ]
    },
    {
      "cell_type": "markdown",
      "metadata": {
        "id": "patent-objective"
      },
      "source": [
        "test데이터에 대한 정확도가 85.09%가 됐다!!"
      ],
      "id": "patent-objective"
    },
    {
      "cell_type": "code",
      "metadata": {
        "id": "korean-yesterday",
        "outputId": "4286db10-99ac-49bb-ce9c-ab311f2d21b3"
      },
      "source": [
        "results = model3.evaluate(X_test,  y_test, verbose=2)\n",
        "\n",
        "print(results)"
      ],
      "id": "korean-yesterday",
      "execution_count": null,
      "outputs": [
        {
          "output_type": "stream",
          "text": [
            "1537/1537 - 6s - loss: 0.3600 - accuracy: 0.8509\n",
            "[0.3599618971347809, 0.850906252861023]\n"
          ],
          "name": "stdout"
        }
      ]
    },
    {
      "cell_type": "markdown",
      "metadata": {
        "id": "hairy-colleague"
      },
      "source": [
        "위 학습에서 validation accuracy가 가장 높을 때의 모델의 test 정확도를 얻을 수 있다.\n",
        "<br>\n",
        "정확도가 85.26%가 나왔다!!"
      ],
      "id": "hairy-colleague"
    },
    {
      "cell_type": "code",
      "metadata": {
        "id": "distinct-breath",
        "outputId": "251d199b-e9f8-4bd3-a17f-b39ffdf67b70"
      },
      "source": [
        "from tensorflow.keras.models import load_model\n",
        "\n",
        "loaded_model = load_model('best_model.h5')\n",
        "print(\"\\n 테스트 정확도: %.4f\" % (loaded_model.evaluate(X_test, y_test)[1]))"
      ],
      "id": "distinct-breath",
      "execution_count": null,
      "outputs": [
        {
          "output_type": "stream",
          "text": [
            "1537/1537 [==============================] - 7s 4ms/step - loss: 0.3323 - accuracy: 0.8526\n",
            "\n",
            " 테스트 정확도: 0.8526\n"
          ],
          "name": "stdout"
        }
      ]
    },
    {
      "cell_type": "markdown",
      "metadata": {
        "id": "fitted-biology"
      },
      "source": [
        "# 6) Loss, Accuracy 그래프 시각화"
      ],
      "id": "fitted-biology"
    },
    {
      "cell_type": "markdown",
      "metadata": {
        "id": "integral-rough"
      },
      "source": [
        "## 모델3 시각화"
      ],
      "id": "integral-rough"
    },
    {
      "cell_type": "code",
      "metadata": {
        "id": "developed-kruger",
        "outputId": "4a725308-e64f-4890-f237-9a24f276b6be"
      },
      "source": [
        "history_dict = history3.history\n",
        "print(history_dict.keys()) # epoch에 따른 그래프를 그려볼 수 있는 항목들"
      ],
      "id": "developed-kruger",
      "execution_count": null,
      "outputs": [
        {
          "output_type": "stream",
          "text": [
            "dict_keys(['loss', 'accuracy', 'val_loss', 'val_accuracy'])\n"
          ],
          "name": "stdout"
        }
      ]
    },
    {
      "cell_type": "code",
      "metadata": {
        "id": "greek-highland",
        "outputId": "2f3693f7-d424-49e5-9f5c-51740d5b526f"
      },
      "source": [
        "acc = history_dict['accuracy']\n",
        "val_acc = history_dict['val_accuracy']\n",
        "loss = history_dict['loss']\n",
        "val_loss = history_dict['val_loss']\n",
        "\n",
        "epochs = range(1, len(acc) + 1)\n",
        "\n",
        "# \"bo\"는 \"파란색 점\"입니다\n",
        "plt.plot(epochs, loss, 'bo', label='Training loss')\n",
        "# b는 \"파란 실선\"입니다\n",
        "plt.plot(epochs, val_loss, 'b', label='Validation loss')\n",
        "plt.title('Training and validation loss')\n",
        "plt.xlabel('Epochs')\n",
        "plt.ylabel('Loss')\n",
        "plt.legend()\n",
        "\n",
        "plt.show()"
      ],
      "id": "greek-highland",
      "execution_count": null,
      "outputs": [
        {
          "output_type": "display_data",
          "data": {
            "image/png": "[encoded data removed]",
            "text/plain": [
              "<Figure size 432x288 with 1 Axes>"
            ]
          },
          "metadata": {
            "tags": [],
            "needs_background": "light"
          }
        }
      ]
    },
    {
      "cell_type": "code",
      "metadata": {
        "scrolled": false,
        "id": "negative-massachusetts",
        "outputId": "9413601e-5ec2-4fc9-c011-30ae122bb777"
      },
      "source": [
        "plt.clf()   # 그림을 초기화합니다\n",
        "## 모델1 시각화\n",
        "plt.plot(epochs, acc, 'bo', label='Training acc')\n",
        "plt.plot(epochs, val_acc, 'b', label='Validation acc')\n",
        "plt.title('Training and validation accuracy')\n",
        "plt.xlabel('Epochs')\n",
        "plt.ylabel('Accuracy')\n",
        "plt.legend()\n",
        "\n",
        "plt.show()"
      ],
      "id": "negative-massachusetts",
      "execution_count": null,
      "outputs": [
        {
          "output_type": "display_data",
          "data": {
            "image/png": "[encoded data removed]",
            "text/plain": [
              "<Figure size 432x288 with 1 Axes>"
            ]
          },
          "metadata": {
            "tags": [],
            "needs_background": "light"
          }
        }
      ]
    },
    {
      "cell_type": "markdown",
      "metadata": {
        "id": "naval-white"
      },
      "source": [
        "# 7) 학습된 Embedding 레이어 분석"
      ],
      "id": "naval-white"
    },
    {
      "cell_type": "code",
      "metadata": {
        "id": "careful-vacation",
        "outputId": "6b991010-3baf-4786-a026-affb80972d43"
      },
      "source": [
        "from tensorflow.keras.models import load_model\n",
        "\n",
        "loaded_model = load_model('best_model.h5')\n",
        "print(\"\\n 테스트 정확도: %.4f\" % (loaded_model.evaluate(X_test, y_test)[1]))"
      ],
      "id": "careful-vacation",
      "execution_count": null,
      "outputs": [
        {
          "output_type": "stream",
          "text": [
            "1537/1537 [==============================] - 8s 4ms/step - loss: 0.3323 - accuracy: 0.8526\n",
            "\n",
            " 테스트 정확도: 0.8526\n"
          ],
          "name": "stdout"
        }
      ]
    },
    {
      "cell_type": "markdown",
      "metadata": {
        "id": "limited-petroleum"
      },
      "source": [
        "하이퍼파라미터인 단어사전의 크기와 임베딩벡터의 크기가 출력된다."
      ],
      "id": "limited-petroleum"
    },
    {
      "cell_type": "code",
      "metadata": {
        "id": "weighted-biodiversity",
        "outputId": "5695cfc6-1b64-424e-8d90-3273792a8db1"
      },
      "source": [
        "embedding_layer = loaded_model.layers[0]\n",
        "weights = embedding_layer.get_weights()[0]\n",
        "print(weights.shape)    # shape: (vocab_size, embedding_dim)"
      ],
      "id": "weighted-biodiversity",
      "execution_count": null,
      "outputs": [
        {
          "output_type": "stream",
          "text": [
            "(30000, 200)\n"
          ],
          "name": "stdout"
        }
      ]
    },
    {
      "cell_type": "code",
      "metadata": {
        "id": "molecular-commodity"
      },
      "source": [
        "import os\n",
        "\n",
        "vocab_size = weights.shape[0]\n",
        "word_vector_dim = weights.shape[1]\n",
        "\n",
        "# 학습한 Embedding 파라미터를 파일에 써서 저장합니다. \n",
        "word2vec_file_path = os.getenv('HOME')+'/aiffel/sentiment_classification/data/word2vec.txt'\n",
        "f = open(word2vec_file_path, 'w')\n",
        "f.write('{} {}\\n'.format(vocab_size-4, word_vector_dim))  # 몇개의 벡터를 얼마 사이즈로 기재할지 타이틀을 씁니다.\n",
        "\n",
        "# 단어 개수(에서 특수문자 4개는 제외하고)만큼의 워드 벡터를 파일에 기록합니다. \n",
        "vectors = loaded_model.get_weights()[0]\n",
        "for i in range(4,vocab_size):\n",
        "    f.write('{} {}\\n'.format(index_to_word[i], ' '.join(map(str, list(vectors[i, :])))))\n",
        "f.close()"
      ],
      "id": "molecular-commodity",
      "execution_count": null,
      "outputs": []
    },
    {
      "cell_type": "code",
      "metadata": {
        "id": "motivated-profession",
        "outputId": "e620894f-ecb4-4cfa-a476-ff0fce4ecfb9"
      },
      "source": [
        "from gensim.models.keyedvectors import Word2VecKeyedVectors\n",
        "\n",
        "# 저장한 워드 벡터 다시 로드\n",
        "word_vectors = Word2VecKeyedVectors.load_word2vec_format(word2vec_file_path, binary=False)\n",
        "vector = word_vectors['영화']\n",
        "vector"
      ],
      "id": "motivated-profession",
      "execution_count": null,
      "outputs": [
        {
          "output_type": "stream",
          "text": [
            "/opt/conda/lib/python3.7/site-packages/gensim/similarities/__init__.py:15: UserWarning: The gensim.similarities.levenshtein submodule is disabled, because the optional Levenshtein package <https://pypi.org/project/python-Levenshtein/> is unavailable. Install Levenhstein (e.g. `pip install python-Levenshtein`) to suppress this warning.\n",
            "  warnings.warn(msg)\n"
          ],
          "name": "stderr"
        },
        {
          "output_type": "execute_result",
          "data": {
            "text/plain": [
              "array([ 0.06273343, -0.03714864,  0.12566248, -0.13122623,  0.01573539,\n",
              "       -0.08134139, -0.01717613,  0.03749147, -0.05054217,  0.10172823,\n",
              "        0.0765738 ,  0.0232986 ,  0.00337438, -0.04466147, -0.06476343,\n",
              "        0.05054558, -0.13922153,  0.01926111, -0.02169083, -0.11171102,\n",
              "       -0.0448129 ,  0.06877495,  0.08024184,  0.03578325, -0.11934278,\n",
              "        0.15652752, -0.07322665,  0.03000994,  0.0307332 , -0.10137568,\n",
              "       -0.0278828 , -0.04644597, -0.13185091,  0.01239819, -0.09217574,\n",
              "        0.08648977,  0.03903863,  0.08637027,  0.06404179, -0.07436452,\n",
              "       -0.049509  ,  0.00937774,  0.00789992, -0.00192053, -0.06893154,\n",
              "        0.05033013,  0.07289831, -0.084117  ,  0.07574928,  0.04470564,\n",
              "        0.02019019,  0.04615608,  0.00459643, -0.06636658, -0.03241711,\n",
              "       -0.08955351, -0.01299446,  0.00854466, -0.01421991,  0.01847629,\n",
              "       -0.06882796, -0.02002726,  0.07109302, -0.03634397, -0.03022568,\n",
              "       -0.02729651, -0.06466671,  0.18260902,  0.02061302, -0.10421111,\n",
              "        0.047059  ,  0.11593762,  0.01269882, -0.05429039,  0.16983205,\n",
              "       -0.10772537,  0.06819895,  0.04744833,  0.07398096, -0.07742187,\n",
              "       -0.028689  ,  0.05050619,  0.05518219, -0.02657962,  0.14172886,\n",
              "       -0.03238179, -0.06852088, -0.08874495, -0.17660508,  0.07003088,\n",
              "       -0.08903473,  0.07082926,  0.07754183, -0.02197612,  0.04692206,\n",
              "        0.06581376, -0.0793102 ,  0.02680453,  0.00721255, -0.04684867,\n",
              "        0.01458522,  0.0365064 , -0.09441382,  0.08381703,  0.10415813,\n",
              "        0.06389659, -0.10145064, -0.05448148, -0.12763077,  0.03976008,\n",
              "       -0.00139088, -0.07824532, -0.06025626,  0.12608281,  0.07038795,\n",
              "        0.05162591, -0.07306033, -0.020219  , -0.03940879, -0.04301011,\n",
              "        0.06837536, -0.02050665, -0.16567789,  0.00960977,  0.01602202,\n",
              "       -0.14423873,  0.02397676,  0.133372  ,  0.05935516, -0.1319159 ,\n",
              "        0.03985409,  0.01020178, -0.17665906, -0.10602584,  0.09588789,\n",
              "       -0.1006846 ,  0.08748892, -0.00377483, -0.04995133, -0.0447771 ,\n",
              "       -0.04065958,  0.07880194,  0.16939759, -0.07047159, -0.19411407,\n",
              "       -0.04163925,  0.07099293, -0.04033006,  0.15495221,  0.05481989,\n",
              "        0.05180446, -0.05441364, -0.06035657, -0.1617413 , -0.1140053 ,\n",
              "        0.0431471 , -0.01850948, -0.08823961,  0.02735455, -0.07849888,\n",
              "       -0.10960071, -0.0535619 , -0.03444441,  0.04414243, -0.07808125,\n",
              "        0.01688504, -0.01324874,  0.10194802,  0.05831214, -0.07276674,\n",
              "       -0.12566036,  0.0673259 ,  0.04173315, -0.06036986,  0.03688518,\n",
              "       -0.13095005,  0.08305582,  0.06069948, -0.03312282, -0.03599187,\n",
              "        0.01604503, -0.13194162, -0.05506008, -0.14066388,  0.02926226,\n",
              "        0.23122633, -0.06384805, -0.08079463, -0.00593105,  0.05371234,\n",
              "        0.07159685, -0.08939202, -0.04160888, -0.02038332, -0.12142938,\n",
              "        0.05647518,  0.00688844, -0.03497098, -0.01152647,  0.12650156],\n",
              "      dtype=float32)"
            ]
          },
          "metadata": {
            "tags": []
          },
          "execution_count": 31
        }
      ]
    },
    {
      "cell_type": "markdown",
      "metadata": {
        "id": "graduate-allowance"
      },
      "source": [
        "gensime의 Word2VecKeyedVectors는 한국어에 대해서는 제대로 된 결과를 도출하지 못한다."
      ],
      "id": "graduate-allowance"
    },
    {
      "cell_type": "code",
      "metadata": {
        "id": "thrown-showcase",
        "outputId": "1e355595-34b7-40bb-ff8d-7b238bfe3f2f"
      },
      "source": [
        "keys = []\n",
        "for key, distance in word_vectors.similar_by_word('영화'):\n",
        "    print(key)\n",
        "    keys.append(word_to_index[key])"
      ],
      "id": "thrown-showcase",
      "execution_count": null,
      "outputs": [
        {
          "output_type": "stream",
          "text": [
            "는다\n",
            "닷\n",
            "잖아\n",
            "ㅇㅇ\n",
            "향연\n",
            "봄\n",
            "엇다\n",
            "고\n",
            "이래\n",
            "스러워\n"
          ],
          "name": "stdout"
        }
      ]
    },
    {
      "cell_type": "code",
      "metadata": {
        "id": "virtual-theology",
        "outputId": "7c596676-1ff8-4523-d288-38f6035242a7"
      },
      "source": [
        "from sklearn.manifold import TSNE\n",
        "\n",
        "tsne = TSNE(n_components=2)\n",
        "y = tsne.fit_transform(weights)\n",
        "y.shape"
      ],
      "id": "virtual-theology",
      "execution_count": null,
      "outputs": [
        {
          "output_type": "execute_result",
          "data": {
            "text/plain": [
              "(30000, 2)"
            ]
          },
          "metadata": {
            "tags": []
          },
          "execution_count": 35
        }
      ]
    },
    {
      "cell_type": "code",
      "metadata": {
        "id": "sporting-radius",
        "outputId": "e85105de-1719-4761-fd04-1d3280777fee"
      },
      "source": [
        "plt.scatter(y[:,0], y[:,1])\n",
        "for idx, key in enumerate(keys):            \n",
        "    if idx == 0:\n",
        "        plt.scatter(y[key,0], y[key,1], marker='s', c='black')\n",
        "        continue\n",
        "    plt.scatter(y[key,0], y[key,1], marker='x', c='r')"
      ],
      "id": "sporting-radius",
      "execution_count": null,
      "outputs": [
        {
          "output_type": "display_data",
          "data": {
            "image/png": "[encoded data removed]",
            "text/plain": [
              "<Figure size 432x288 with 1 Axes>"
            ]
          },
          "metadata": {
            "tags": [],
            "needs_background": "light"
          }
        }
      ]
    },
    {
      "cell_type": "markdown",
      "metadata": {
        "id": "elect-intensity"
      },
      "source": [
        "# 8) 한국어 Word2Vec 임베딩 활용하여 성능개선"
      ],
      "id": "elect-intensity"
    },
    {
      "cell_type": "markdown",
      "metadata": {
        "id": "green-morocco"
      },
      "source": [
        "## 한국어 Word2Vec 임베딩 활용하기\n",
        "[Pre-trained word vectors of 30+ languages\n",
        "](https://github.com/Kyubyong/wordvectors)"
      ],
      "id": "green-morocco"
    },
    {
      "cell_type": "code",
      "metadata": {
        "id": "human-landing"
      },
      "source": [
        "import gensim\n",
        "import os\n",
        "\n",
        "word2vec_path = os.getenv('HOME')+'/aiffel/sentiment_classification/data/ko.bin'\n",
        "word2vec = gensim.models.Word2Vec.load(word2vec_path)"
      ],
      "id": "human-landing",
      "execution_count": null,
      "outputs": []
    },
    {
      "cell_type": "code",
      "metadata": {
        "id": "listed-nothing",
        "outputId": "765dfa9e-ed96-40de-9d12-ec2445fc9d22"
      },
      "source": [
        "word2vec.wv.most_similar('영화')"
      ],
      "id": "listed-nothing",
      "execution_count": null,
      "outputs": [
        {
          "output_type": "execute_result",
          "data": {
            "text/plain": [
              "[('다큐멘터리', 0.7265259027481079),\n",
              " ('영화사', 0.715214192867279),\n",
              " ('드라마', 0.705294132232666),\n",
              " ('뮤지컬', 0.6947016716003418),\n",
              " ('코미디', 0.69093257188797),\n",
              " ('영화인', 0.6702202558517456),\n",
              " ('서부극', 0.6571458578109741),\n",
              " ('스릴러', 0.6533164978027344),\n",
              " ('로맨스', 0.6428799629211426),\n",
              " ('애니메이션', 0.6425570249557495)]"
            ]
          },
          "metadata": {
            "tags": []
          },
          "execution_count": 8
        }
      ]
    },
    {
      "cell_type": "code",
      "metadata": {
        "id": "backed-lying",
        "outputId": "75b01bb5-980b-41a2-97d4-4df1b4131294"
      },
      "source": [
        "embedding_matrix = np.random.rand(vocab_size, word_vector_dim)\n",
        "\n",
        "# embedding_matrix에 Word2Vec 워드 벡터를 단어 하나씩마다 차례차례 카피한다.\n",
        "for i in range(4,vocab_size):\n",
        "    if index_to_word[i] in word2vec:\n",
        "        embedding_matrix[i] = word2vec[index_to_word[i]]"
      ],
      "id": "backed-lying",
      "execution_count": null,
      "outputs": [
        {
          "output_type": "stream",
          "text": [
            "/opt/conda/lib/python3.7/site-packages/ipykernel_launcher.py:5: DeprecationWarning: Call to deprecated `__contains__` (Method will be removed in 4.0.0, use self.wv.__contains__() instead).\n",
            "  \"\"\"\n",
            "/opt/conda/lib/python3.7/site-packages/ipykernel_launcher.py:6: DeprecationWarning: Call to deprecated `__getitem__` (Method will be removed in 4.0.0, use self.wv.__getitem__() instead).\n",
            "  \n"
          ],
          "name": "stderr"
        }
      ]
    },
    {
      "cell_type": "code",
      "metadata": {
        "id": "alike-conflict",
        "outputId": "fd20dd62-59f3-425d-d385-a0556f73a738"
      },
      "source": [
        "from tensorflow.keras.layers import GRU\n",
        "from keras.layers.core import Dropout\n",
        "from tensorflow.keras.initializers import Constant\n",
        "\n",
        "# 모델 구성\n",
        "model4 = keras.Sequential()\n",
        "model4.add(keras.layers.Embedding(vocab_size, \n",
        "                                 word_vector_dim, \n",
        "                                 embeddings_initializer=Constant(embedding_matrix),  # 카피한 임베딩을 여기서 활용\n",
        "                                 input_length=maxlen, \n",
        "                                 trainable=True))   # trainable을 True로 주면 Fine-tuning\n",
        "model4.add(GRU(128))\n",
        "model4.add(Dropout(0.2))  # 드롭아웃 추가. 비율은 20%\n",
        "model4.add(keras.layers.Dense(1, activation='sigmoid'))\n",
        "\n",
        "model4.summary()"
      ],
      "id": "alike-conflict",
      "execution_count": null,
      "outputs": [
        {
          "output_type": "stream",
          "text": [
            "Model: \"sequential_5\"\n",
            "_________________________________________________________________\n",
            "Layer (type)                 Output Shape              Param #   \n",
            "=================================================================\n",
            "embedding_5 (Embedding)      (None, 38, 200)           6000000   \n",
            "_________________________________________________________________\n",
            "gru_2 (GRU)                  (None, 128)               126720    \n",
            "_________________________________________________________________\n",
            "dropout_1 (Dropout)          (None, 128)               0         \n",
            "_________________________________________________________________\n",
            "dense_1 (Dense)              (None, 1)                 129       \n",
            "=================================================================\n",
            "Total params: 6,126,849\n",
            "Trainable params: 6,126,849\n",
            "Non-trainable params: 0\n",
            "_________________________________________________________________\n"
          ],
          "name": "stdout"
        }
      ]
    },
    {
      "cell_type": "code",
      "metadata": {
        "id": "flying-characteristic"
      },
      "source": [
        "# 오버피팅 방지 및 checkpoint저장\n",
        "callbacks = [keras.callbacks.EarlyStopping(monitor='val_loss',\n",
        "                                           patience=5),\n",
        "             keras.callbacks.ModelCheckpoint(filepath='best_model4.h5',\n",
        "                                             monitor='val_loss',\n",
        "                                             save_best_only=True)]"
      ],
      "id": "flying-characteristic",
      "execution_count": null,
      "outputs": []
    },
    {
      "cell_type": "code",
      "metadata": {
        "id": "stupid-worcester",
        "outputId": "fc996a56-d6d3-48bb-bb25-8ef66362617d"
      },
      "source": [
        "# 학습의 진행\n",
        "model4.compile(optimizer='rmsprop',\n",
        "              loss='binary_crossentropy',\n",
        "              metrics=['accuracy'])\n",
        "              \n",
        "epochs=15  # 몇 epoch를 훈련하면 좋을지 결과를 보면서 바꾸어 봅시다. \n",
        "\n",
        "history = model4.fit(partial_x_train,\n",
        "                    partial_y_train,\n",
        "                    epochs=epochs,\n",
        "                    batch_size=128,\n",
        "                    validation_data=(x_val, y_val),\n",
        "                    verbose=1,\n",
        "                    callbacks=callbacks)"
      ],
      "id": "stupid-worcester",
      "execution_count": null,
      "outputs": [
        {
          "output_type": "stream",
          "text": [
            "Epoch 1/15\n",
            "810/810 [==============================] - 20s 23ms/step - loss: 0.6195 - accuracy: 0.6428 - val_loss: 0.3866 - val_accuracy: 0.8260\n",
            "Epoch 2/15\n",
            "810/810 [==============================] - 18s 23ms/step - loss: 0.3643 - accuracy: 0.8403 - val_loss: 0.3447 - val_accuracy: 0.8493\n",
            "Epoch 3/15\n",
            "810/810 [==============================] - 17s 20ms/step - loss: 0.3030 - accuracy: 0.8716 - val_loss: 0.3245 - val_accuracy: 0.8604\n",
            "Epoch 4/15\n",
            "810/810 [==============================] - 18s 22ms/step - loss: 0.2669 - accuracy: 0.8907 - val_loss: 0.3210 - val_accuracy: 0.8633\n",
            "Epoch 5/15\n",
            "810/810 [==============================] - 16s 20ms/step - loss: 0.2330 - accuracy: 0.9069 - val_loss: 0.3309 - val_accuracy: 0.8614\n",
            "Epoch 6/15\n",
            "810/810 [==============================] - 17s 21ms/step - loss: 0.2023 - accuracy: 0.9208 - val_loss: 0.3294 - val_accuracy: 0.8624\n",
            "Epoch 7/15\n",
            "810/810 [==============================] - 16s 20ms/step - loss: 0.1752 - accuracy: 0.9332 - val_loss: 0.3586 - val_accuracy: 0.8602\n",
            "Epoch 8/15\n",
            "810/810 [==============================] - 16s 19ms/step - loss: 0.1460 - accuracy: 0.9474 - val_loss: 0.3916 - val_accuracy: 0.8555\n",
            "Epoch 9/15\n",
            "810/810 [==============================] - 17s 21ms/step - loss: 0.1216 - accuracy: 0.9572 - val_loss: 0.4490 - val_accuracy: 0.8540\n"
          ],
          "name": "stdout"
        }
      ]
    },
    {
      "cell_type": "code",
      "metadata": {
        "id": "relevant-sport",
        "outputId": "1f27caea-062f-47cb-bef4-2a558d0b3e04"
      },
      "source": [
        "results = model4.evaluate(X_test,  y_test, verbose=2)\n",
        "\n",
        "print(results)"
      ],
      "id": "relevant-sport",
      "execution_count": null,
      "outputs": [
        {
          "output_type": "stream",
          "text": [
            "1537/1537 - 5s - loss: 0.4562 - accuracy: 0.8466\n",
            "[0.4561851918697357, 0.8465732336044312]\n"
          ],
          "name": "stdout"
        }
      ]
    },
    {
      "cell_type": "markdown",
      "metadata": {
        "id": "relative-security"
      },
      "source": [
        "다행히 한국어 word2vec임베딩을 사용하였을 때 정확도가 85.56%로 개선되었다!!"
      ],
      "id": "relative-security"
    },
    {
      "cell_type": "code",
      "metadata": {
        "id": "otherwise-voice",
        "outputId": "400c73f7-3d32-4152-ed2b-de82fd8fb395"
      },
      "source": [
        "loaded_model = load_model('best_model4.h5')\n",
        "print(\"\\n 테스트 정확도: %.4f\" % (loaded_model.evaluate(X_test, y_test)[1]))"
      ],
      "id": "otherwise-voice",
      "execution_count": null,
      "outputs": [
        {
          "output_type": "stream",
          "text": [
            "1537/1537 [==============================] - 6s 4ms/step - loss: 0.3317 - accuracy: 0.8556\n",
            "\n",
            " 테스트 정확도: 0.8556\n"
          ],
          "name": "stdout"
        }
      ]
    },
    {
      "cell_type": "markdown",
      "metadata": {
        "id": "super-forwarding"
      },
      "source": [
        "## Loss, Accuracy 시각화"
      ],
      "id": "super-forwarding"
    },
    {
      "cell_type": "markdown",
      "metadata": {
        "id": "accessible-animation"
      },
      "source": [
        "### 한국어 Word2Vec 임베딩을 활용한 모델4"
      ],
      "id": "accessible-animation"
    },
    {
      "cell_type": "code",
      "metadata": {
        "id": "round-norfolk",
        "outputId": "08e906a1-9b6f-43c2-83f2-0bf1dd59a4b3"
      },
      "source": [
        "history_dict = history.history\n",
        "print(history_dict.keys()) # epoch에 따른 그래프를 그려볼 수 있는 항목들"
      ],
      "id": "round-norfolk",
      "execution_count": null,
      "outputs": [
        {
          "output_type": "stream",
          "text": [
            "dict_keys(['loss', 'accuracy', 'val_loss', 'val_accuracy'])\n"
          ],
          "name": "stdout"
        }
      ]
    },
    {
      "cell_type": "code",
      "metadata": {
        "id": "beautiful-competition",
        "outputId": "c9710ec7-c084-4229-b281-8ab903c1bbca"
      },
      "source": [
        "acc = history_dict['accuracy']\n",
        "val_acc = history_dict['val_accuracy']\n",
        "loss = history_dict['loss']\n",
        "val_loss = history_dict['val_loss']\n",
        "\n",
        "epochs = range(1, len(acc) + 1)\n",
        "\n",
        "# \"bo\"는 \"파란색 점\"입니다\n",
        "plt.plot(epochs, loss, 'bo', label='Training loss')\n",
        "# b는 \"파란 실선\"입니다\n",
        "plt.plot(epochs, val_loss, 'b', label='Validation loss')\n",
        "plt.title('Training and validation loss')\n",
        "plt.xlabel('Epochs')\n",
        "plt.ylabel('Loss')\n",
        "plt.legend()\n",
        "\n",
        "plt.show()"
      ],
      "id": "beautiful-competition",
      "execution_count": null,
      "outputs": [
        {
          "output_type": "display_data",
          "data": {
            "image/png": "[encoded data removed]",
            "text/plain": [
              "<Figure size 432x288 with 1 Axes>"
            ]
          },
          "metadata": {
            "tags": [],
            "needs_background": "light"
          }
        }
      ]
    },
    {
      "cell_type": "code",
      "metadata": {
        "scrolled": false,
        "id": "extraordinary-young",
        "outputId": "99925b6f-4e93-42ea-a8af-e83990315d16"
      },
      "source": [
        "plt.clf()   # 그림을 초기화합니다\n",
        "## 모델1 시각화\n",
        "plt.plot(epochs, acc, 'bo', label='Training acc')\n",
        "plt.plot(epochs, val_acc, 'b', label='Validation acc')\n",
        "plt.title('Training and validation accuracy')\n",
        "plt.xlabel('Epochs')\n",
        "plt.ylabel('Accuracy')\n",
        "plt.legend()\n",
        "\n",
        "plt.show()"
      ],
      "id": "extraordinary-young",
      "execution_count": null,
      "outputs": [
        {
          "output_type": "display_data",
          "data": {
            "image/png": "[encoded data removed]",
            "text/plain": [
              "<Figure size 432x288 with 1 Axes>"
            ]
          },
          "metadata": {
            "tags": [],
            "needs_background": "light"
          }
        }
      ]
    },
    {
      "cell_type": "markdown",
      "metadata": {
        "id": "adopted-wrestling"
      },
      "source": [
        "# 루브릭\n",
        "\n",
        "1.다양한 방법으로 Text Classification 태스크를 성공적으로 구현하였다.\n",
        "- 상세기준) 3가지 이상의 모델이 성공적으로 시도됨\n",
        "\n",
        "2.gensim을 활용하여 자체학습된 혹은 사전학습된 임베딩 레이어를 분석하였다.\n",
        "- 상세기준) gensim의 유사단어 찾기를 활용하여 자체학습한 임베딩과 사전학습 임베딩을 적절히 분석함\n",
        "\n",
        "3.한국어 Word2Vec을 활용하여 가시적인 성능향상을 달성했다.\n",
        "- 상세기준) 네이버 영화리뷰 데이터 감성분석 정확도를 85% 이상 달성함"
      ],
      "id": "adopted-wrestling"
    },
    {
      "cell_type": "markdown",
      "metadata": {
        "id": "comfortable-charlotte"
      },
      "source": [
        "# 회고\n",
        "\n",
        "이번 문제에서는 overfitting을 어떻게 방지할 것이냐가 모델 성능 개선의 관건이었던 것 같다. 덕분에 Dropout, early stopping 그리고 저번에 해결하지 못한 callbacks도 이제 제대로 이해하고 사용할 수 있게 되었다. callbacks를 통해 학습된 최종 모델이 아니라 학습하면서 가장 성능이 좋았던 것을 기억하는 것이 인상적이었다. 새로운 문장을 입력으로 해서 긍정/부정 분류가 잘 되는지 확인하는 것과 다른 하이퍼파라미터 변경을 통한 모델 성능 차이도 궁금하다."
      ],
      "id": "comfortable-charlotte"
    }
  ]
}