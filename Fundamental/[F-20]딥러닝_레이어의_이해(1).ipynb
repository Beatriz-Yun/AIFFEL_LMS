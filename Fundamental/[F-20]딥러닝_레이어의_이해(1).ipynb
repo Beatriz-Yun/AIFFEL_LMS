{
  "nbformat": 4,
  "nbformat_minor": 0,
  "metadata": {
    "colab": {
      "name": "[F-20]딥러닝 레이어의 이해(1).ipynb",
      "provenance": [],
      "collapsed_sections": [],
      "include_colab_link": true
    },
    "kernelspec": {
      "name": "python3",
      "display_name": "Python 3"
    },
    "language_info": {
      "name": "python"
    },
    "accelerator": "GPU"
  },
  "cells": [
    {
      "cell_type": "markdown",
      "metadata": {
        "id": "view-in-github",
        "colab_type": "text"
      },
      "source": [
        "<a href=\"https://colab.research.google.com/github/Beatriz-Yun/AIFFEL_LMS/blob/main/Fundamental/%5BF-20%5D%EB%94%A5%EB%9F%AC%EB%8B%9D_%EB%A0%88%EC%9D%B4%EC%96%B4%EC%9D%98_%EC%9D%B4%ED%95%B4(1).ipynb\" target=\"_parent\"><img src=\"https://colab.research.google.com/assets/colab-badge.svg\" alt=\"Open In Colab\"/></a>"
      ]
    },
    {
      "cell_type": "markdown",
      "metadata": {
        "id": "RnM2cY1lVstd"
      },
      "source": [
        "## 학습 목표\n",
        "- 레이어의 개념을 이해한다.\n",
        "- 딥러닝 모델 속 각 레이어(Linear, Convolution)의 동작 방식을 이해한다.\n",
        "- 데이터의 특성을 고려한 레이어를 설계하고, 이를 Tensorflow로 정의하는 법을 배운다.\n",
        "\n",
        "\n",
        "\n",
        "---\n",
        "\n",
        "딥러닝은 $y = Wx + by=Wx+b$ 에서 최적의 $W$(Weight)과 $b$를 찾는 과정이다!\n",
        "\n",
        "딥러닝을 이해하는 방법 중 가장 쉬운 방법은 데이터의 형태 변화를 좆는 것이다."
      ]
    },
    {
      "cell_type": "markdown",
      "metadata": {
        "id": "CjrQXYJfYKbU"
      },
      "source": [
        "하나의 물체가 여러 개의 논리적인 객체들로 계층적 구성되어 있는 경우, 이러한 각각의 객체를 하나의 레이어(layer)라 한다.\n",
        "\n",
        "<br>\n",
        "\n",
        "신경망의 Weight라고 하는 것은 사실 layer의 Weight이다.<br>\n",
        "신경망은 레이어들의 각기 다른 Weight가 유기적으로 연결되어 이뤄내는 하나의 결과물이다."
      ]
    },
    {
      "cell_type": "markdown",
      "metadata": {
        "id": "0IW1OFIlV22q"
      },
      "source": [
        "# Linear 레이어"
      ]
    },
    {
      "cell_type": "markdown",
      "metadata": {
        "id": "NBan-eJZZS-7"
      },
      "source": [
        "이제 각각의 레이어가 어떤 특징을 가지며, 어떻게 쓰이면 좋은지 알아보자.\n",
        "\n",
        "<br>\n",
        "\n",
        "Fully Connected Layer, Feedforward Neural Network, Multilayer Perceptrons, Dense Layer 등 다양한 이름으로 불리지만 그 모든 것들은 결국 'Linear 레이어'에 해당한다.\n",
        "\n",
        "<br>\n",
        "\n",
        "'Linear 레이어'는 선형대수학에서 쓰이는 용어 중 **선형 변환(Linear Transform)**과 완전히 동일한 기능을 하는 레이어이다. <br>\n",
        "선형 변환을 활용해 **데이터를 특정 차원으로 변환**하는 기능을 한다.\n",
        "고차원으로 변환한다면 데이터를 더 풍부하게 표현하는 효과가 있고, 저차원으로 변환한다면 데이터를 집약시키는 효과가 있다.\n",
        "\n",
        "[행렬과 선형변환(feat.마인크래프트 스티브) Linear Transformation](https://youtu.be/vVvjYzFBUVk)\n",
        "\n",
        "<br>\n",
        "\n",
        "'Linear 레이어'는 (입력의 차원, 출력의 차원)에 해당하는 Weight를 가지는 특성을 가지고 있다.\n",
        "\n"
      ]
    },
    {
      "cell_type": "code",
      "metadata": {
        "colab": {
          "base_uri": "https://localhost:8080/"
        },
        "id": "OuOXLhjcVmuB",
        "outputId": "d2a1e017-4648-45b5-da5c-c8c5fe93caa1"
      },
      "source": [
        "import tensorflow as tf\n",
        "\n",
        "batch_size = 64\n",
        "boxes = tf.zeros((batch_size, 4, 2))     # Tensorflow는 Batch를 기반으로 동작하기에,\n",
        "                                         # 우리는 사각형 2개 세트를 batch_size개만큼\n",
        "                                         # 만든 후 처리를 하게 됩니다.\n",
        "print(\"1단계 연산 준비:\", boxes.shape)\n",
        "\n",
        "first_linear = tf.keras.layers.Dense(units=1, use_bias=False) \n",
        "# units은 출력 차원 수를 의미합니다.\n",
        "# Weight 행렬 속 실수를 인간의 뇌 속 하나의 뉴런 '유닛' 취급을 하는 거죠!\n",
        "\n",
        "first_out = first_linear(boxes)\n",
        "first_out = tf.squeeze(first_out, axis=-1) # (4, 1)을 (4,)로 변환해줍니다.\n",
        "                                           # (불필요한 차원 축소)\n",
        "\n",
        "print(\"1단계 연산 결과:\", first_out.shape)\n",
        "print(\"1단계 Linear Layer의 Weight 형태:\", first_linear.weights[0].shape)\n",
        "\n",
        "print(\"\\n2단계 연산 준비:\", first_out.shape)\n",
        "\n",
        "second_linear = tf.keras.layers.Dense(units=1, use_bias=False)\n",
        "second_out = second_linear(first_out)\n",
        "second_out = tf.squeeze(second_out, axis=-1)\n",
        "\n",
        "print(\"2단계 연산 결과:\", second_out.shape)\n",
        "print(\"2단계 Linear Layer의 Weight 형태:\", second_linear.weights[0].shape)"
      ],
      "execution_count": 2,
      "outputs": [
        {
          "output_type": "stream",
          "text": [
            "1단계 연산 준비: (64, 4, 2)\n",
            "1단계 연산 결과: (64, 4)\n",
            "1단계 Linear Layer의 Weight 형태: (2, 1)\n",
            "\n",
            "2단계 연산 준비: (64, 4)\n",
            "2단계 연산 결과: (64,)\n",
            "2단계 Linear Layer의 Weight 형태: (4, 1)\n"
          ],
          "name": "stdout"
        }
      ]
    },
    {
      "cell_type": "code",
      "metadata": {
        "colab": {
          "base_uri": "https://localhost:8080/"
        },
        "id": "_5y4FdecczWV",
        "outputId": "3139e2da-d567-4a99-9fb8-6fcbe35c154c"
      },
      "source": [
        "import tensorflow as tf\n",
        "\n",
        "batch_size = 64\n",
        "boxes = tf.zeros((batch_size, 4, 2))\n",
        "\n",
        "print(\"1단계 연산 준비:\", boxes.shape)\n",
        "\n",
        "first_linear = tf.keras.layers.Dense(units=3, use_bias=False)\n",
        "first_out = first_linear(boxes)\n",
        "\n",
        "print(\"1단계 연산 결과:\", first_out.shape)\n",
        "print(\"1단계 Linear Layer의 Weight 형태:\", first_linear.weights[0].shape)\n",
        "\n",
        "print(\"\\n2단계 연산 준비:\", first_out.shape)\n",
        "\n",
        "second_linear = tf.keras.layers.Dense(units=1, use_bias=False)\n",
        "second_out = second_linear(first_out)\n",
        "second_out = tf.squeeze(second_out, axis=-1)\n",
        "\n",
        "print(\"2단계 연산 결과:\", second_out.shape)\n",
        "print(\"2단계 Linear Layer의 Weight 형태:\", second_linear.weights[0].shape)\n",
        "\n",
        "print(\"\\n3단계 연산 준비:\", second_out.shape)\n",
        "\n",
        "third_linear = tf.keras.layers.Dense(units=1, use_bias=False)\n",
        "third_out = third_linear(second_out)\n",
        "third_out = tf.squeeze(third_out, axis=-1)\n",
        "\n",
        "print(\"3단계 연산 결과:\", third_out.shape)\n",
        "print(\"3단계 Linear Layer의 Weight 형태:\", third_linear.weights[0].shape)\n",
        "\n",
        "total_params = \\\n",
        "first_linear.count_params() + \\\n",
        "second_linear.count_params() + \\\n",
        "third_linear.count_params()\n",
        "\n",
        "print(\"총 Parameters:\", total_params)"
      ],
      "execution_count": 3,
      "outputs": [
        {
          "output_type": "stream",
          "text": [
            "1단계 연산 준비: (64, 4, 2)\n",
            "1단계 연산 결과: (64, 4, 3)\n",
            "1단계 Linear Layer의 Weight 형태: (2, 3)\n",
            "\n",
            "2단계 연산 준비: (64, 4, 3)\n",
            "2단계 연산 결과: (64, 4)\n",
            "2단계 Linear Layer의 Weight 형태: (3, 1)\n",
            "\n",
            "3단계 연산 준비: (64, 4)\n",
            "3단계 연산 결과: (64,)\n",
            "3단계 Linear Layer의 Weight 형태: (4, 1)\n",
            "총 Parameters: 13\n"
          ],
          "name": "stdout"
        }
      ]
    },
    {
      "cell_type": "markdown",
      "metadata": {
        "id": "tNbMXm5hfGGF"
      },
      "source": [
        "이런 방법들로 Weight의 형태만 선언해주면 그 파라미터 값을 임의의 실수가 채우고, 수많은 데이터를 거치며 가장 적합한 Weight를 알아서 찾아가는 과정이 바로 훈련(Training)이다. 적합한 파라미터라는 것은 주어진 데이터가 가지는 분포에 따라 결정된다."
      ]
    },
    {
      "cell_type": "markdown",
      "metadata": {
        "id": "8bWTQlAKfffF"
      },
      "source": [
        "편향이 없다면 파라미터를 아무리 돌리고 늘리고 해도 정확하게 근사할 수 없다.\n",
        "\n",
        "단순히 생각해서 원점을 평행이동하는 것만으로도 해결할 수 있기 때문에 실제로 편향은 선형변환된 값에 편향 파라미터 $b$를 더해주는 것으로 표현한다.\n",
        "\n",
        "$Wx$에 단순히 더하기 때문에 편향 값은 형태가 (선형변환 결과 차원, )인 한 줄짜리 Weight로 정의된다."
      ]
    },
    {
      "cell_type": "markdown",
      "metadata": {
        "id": "M6VuvtXngNvB"
      },
      "source": [
        "# Convolution 레이어"
      ]
    },
    {
      "cell_type": "markdown",
      "metadata": {
        "id": "yg74itILgSL8"
      },
      "source": [
        "Convolution 연산이라는 것은 딥러닝 외적으로도 많이 사용되는 개념이다.\n",
        "\n",
        "사진 필터가 Convolution 연산을 활용한 대표적인 예이다.<br>\n",
        "사진을 선명하게 하는 필터, 흐리게 하는 필터 등 다양한 필터들이 Convolution을 위한 행렬로 정의되어 있다\n",
        "[Convolutions](https://aishack.in/tutorials/image-convolution-examples/)\n",
        "\n",
        "<br>\n",
        "\n",
        "Convolution연산을 수행하면, 이미지와 필터가 겹치는 부분의 값을 서로 곱한 후 그 값을 모두 더해서 새로운 이미지의 한 픽셀값이 된다.<br>\n",
        "- 이미지를 필터로 훑을 때, 한 칸씩 이동하며 훑을 수도 있지만, 두 칸, 세 칸씩 이동하며 훑을 수도 있다. 그것을 결정하는 값을 **Stride**라고 칭한다.\n",
        "- Convolution 연산이 입력의 형태를 변형시킨다. **Padding**으로 입력의 테두리에 일정값을 추가해 입력의 형태를 유지한다. 또한 edge의 정보를 더 잘 이용할 수 있다.\n",
        "\n",
        "<br>\n",
        "\n",
        "목적에 도움이 되는 정보는 선명하게, 그렇지 않은 정보는 흐리게 만드는 필터를 훈을 통해 찾아주는 것이 Convolution 레이어가 하는 일이다. 심지어 하나의 필터가 아니라 수십 개의 필터를 중첩한다. 이를 통해 Convolution 레이어가 **(필터의개수 x 필터의가로 x 필터의세로)크기의 Weight**를 갖는다는 사실을 알 수 있다.\n"
      ]
    },
    {
      "cell_type": "code",
      "metadata": {
        "colab": {
          "base_uri": "https://localhost:8080/"
        },
        "id": "81NJAi5ujgtN",
        "outputId": "ec141a57-87df-441e-cd3b-fe3c1122da4c"
      },
      "source": [
        "import tensorflow as tf\n",
        "\n",
        "batch_size = 64\n",
        "pic = tf.zeros((batch_size, 1920, 1080, 3))\n",
        "\n",
        "print(\"입력 이미지 데이터:\", pic.shape)\n",
        "conv_layer = tf.keras.layers.Conv2D(filters=16,\n",
        "                                    kernel_size=(5, 5),\n",
        "                                    strides=5,\n",
        "                                    use_bias=False)\n",
        "conv_out = conv_layer(pic)\n",
        "\n",
        "print(\"\\nConvolution 결과:\", conv_out.shape)\n",
        "print(\"Convolution Layer의 Parameter 수:\", conv_layer.count_params())\n",
        "\n",
        "flatten_out = tf.keras.layers.Flatten()(conv_out)\n",
        "print(\"\\n1차원으로 펼친 데이터:\", flatten_out.shape)\n",
        "\n",
        "linear_layer = tf.keras.layers.Dense(units=1, use_bias=False)\n",
        "linear_out = linear_layer(flatten_out)\n",
        "\n",
        "print(\"\\nLinear 결과:\", linear_out.shape)\n",
        "print(\"Linear Layer의 Parameter 수:\", linear_layer.count_params())"
      ],
      "execution_count": 4,
      "outputs": [
        {
          "output_type": "stream",
          "text": [
            "입력 이미지 데이터: (64, 1920, 1080, 3)\n",
            "\n",
            "Convolution 결과: (64, 384, 216, 16)\n",
            "Convolution Layer의 Parameter 수: 1200\n",
            "\n",
            "1차원으로 펼친 데이터: (64, 1327104)\n",
            "\n",
            "Linear 결과: (64, 1)\n",
            "Linear Layer의 Parameter 수: 1327104\n"
          ],
          "name": "stdout"
        }
      ]
    },
    {
      "cell_type": "markdown",
      "metadata": {
        "id": "j1NMYS2wjjJM"
      },
      "source": [
        "# Pooling 레이어"
      ]
    },
    {
      "cell_type": "markdown",
      "metadata": {
        "id": "TC71Yzssjlqi"
      },
      "source": [
        "이전 스텝에서 우리는 Convolution 레이어가 이미지 입력을 처리할 때 Linear 레이어 대비 훨씬 적은 파라미터로 훨씬 효과적으로 중요한 이미지 피처를 뽑아낼 수 있음을 알 수 있었다.\n",
        "\n",
        "<br>\n",
        "\n",
        "Linear 레이어는 입력 피처 전체가 매 출력에 미치는 영향의 가중치를 모든 입력 피처 사이에 전부 고려한다. 이미지처럼 지역성(Locality) 그 자체가 엄청나게 중요한 정보가 되는 경우, Linear 레이어는 그 중요한 정보가 모두 소실된 채 엄청나게 큰 파라미터 속에서 입력과 출력 사이의 관계 가중치를 찾아내야 하는 어려운 문제를 풀어야 한다.\n",
        "\n",
        "<br>\n",
        "\n",
        "반면 Convolution 레이어는 필터 구조 안에 Locality 정보가 온전히 보존된다. 인접한 픽셀들 사이에서의 패턴만 추출할 수 있다는 것 자체만으로도 불필요한 파라미터 및 연산량을 제거하고 훨씬 정확하고 효율적으로 정보를 집약시킬 수 있게 된다."
      ]
    },
    {
      "cell_type": "markdown",
      "metadata": {
        "id": "9JzNOjXQnk2S"
      },
      "source": [
        "그러나 Convolution 레이어만으로 객체를 판별하기엔 2가지 문제가 있다.\n",
        "\n",
        "1. 이미지 크기에 비해 **필터 크기가 너무 작으면** object detection을 위한 유의미한 정보를 담아낼 수 없다.\n",
        "2. stride로 파라미터를 줄이는 효과는 발생하지만 찾고자 하는 object가 필터 경계선에 걸려서 인식하지 못할 우려가 있다.\n",
        "\n",
        "이 문제를 해결하기 위해 필터 사이즈를 키우게 되면 파라미터 사이즈와 연산량이 커질 뿐 아니라, accuracy도 떨어지게 될 가능성이 높다.\n",
        "- 만약 극단적으로 필터 사이즈를 이미지 사이즈와 동일하게 한다면, Linear레이어와 같아진다.\n",
        "\n",
        "\n",
        "<br>\n",
        "\n",
        "### Receptive Field (수용영역)\n",
        "이 문제를 해결하기 위해선 필터 사이즈가 아니라 receptive field를 크게 해야 한다.<br>\n",
        "신경망의 출력부가 충분한 정보를 얻기 위해 커버하는 **입력 데이터의 receptive field가 충분히 커서 그 안에 detect해야할 object의 특성이 충분히 포함**되어 있어야 정확한 detection이 가능하게 되기 때문이다. <br>\n",
        "어쩌면 receptive field의 크기는 거의 이미지 크기 전체가 되는 경우도 있을 수 있다."
      ]
    },
    {
      "cell_type": "markdown",
      "metadata": {
        "id": "Sj7slnN8pyEy"
      },
      "source": [
        "## Max Pooling 레이어의 효과\n",
        "\n",
        "**1. translational invariance 효과**\n",
        "\n",
        "이미지는 약간의 상하좌우 이동이 생겨도, Max Pooling을 통해 인접한 영역 중 가장 특징이 두드러진 영역 하나를 뽑기 때문에 약간의 시프트 효과에도 동일한 특징을 안정적으로 잡아낼 수 있는 긍정적 효과가 있다. 덕분에 object 위치에 대한 오버피팅을 방지하고 안정적인 특징 추출 효과를 가져온다.\n",
        "\n",
        "<br>\n",
        "\n",
        "**2. 비선형 함수와 동일한 특징 추출 효과**\n",
        "\n",
        "ReLu와 같은 비선형 함수와 마찬가지로 많은 하위 레이어의 연산 결과를 무시하는 효과를 발생시키지만, 그 결과 중요한 피처만을 상위 레이어로 추출해서 올려줌으로써 결과적으로 분류기의 성능을 증진시키는 효과를 가진다.\n",
        "\n",
        "<br>\n",
        "\n",
        "**3. Receptive Field 극대화 효과**\n",
        "\n",
        "Max Pooling이 없이도 Receptive Field를 크게 하려면 Convolutional 레이어를 아주 많이 쌓아야 한다. 그 결과 큰 파라미터 사이즈로 인한 오버피팅, 연산량 증가, Gradient Vanishing 등의 문제를 감수해야 한다. 이런 문제를 효과적으로 해결하는 방법으로 꼽히는 두 가지 중 하나가 Max Pooling 레이어 사용이다. 다른 하나로는 Dilated Convolution이 있습니다.\n",
        "\n",
        "[receptive field(수용영역, 수용장)과 dilated convolution(팽창된 컨볼루션)](https://m.blog.naver.com/sogangori/220952339643)"
      ]
    },
    {
      "cell_type": "markdown",
      "metadata": {
        "id": "9vnD-8zWtv6S"
      },
      "source": [
        "# Deconvolution 레이어\n",
        "Convolution의 결과를 역재생해서 원본 이미지와 최대한 유사한 정보를 복원해 내는 Auto Encoder에 대해 알아보자.\n",
        "\n",
        "우선 MNIST 데이터셋을 입력으로 받아 그대로 복원하는 Auto Encoder를 아래와 같이 만들어 보겠습니다. 순서는 다음과 같습니다.\n",
        "- 패키지 임포트 및 MNIST 데이터셋 로딩\n",
        "- AutoEncoder 모델 구성\n",
        "- AutoEncoder 모델 훈련\n",
        "- AutoEncoder Reconstruction Test"
      ]
    },
    {
      "cell_type": "code",
      "metadata": {
        "colab": {
          "base_uri": "https://localhost:8080/"
        },
        "id": "unvzdIJtjlIk",
        "outputId": "40486cfc-05e0-417b-f43b-1b0c4edbdeef"
      },
      "source": [
        "import numpy as np\n",
        "from tensorflow.python.keras.layers import Input, Dense, Conv2D, MaxPooling2D, UpSampling2D\n",
        "from tensorflow.python.keras.models import Model\n",
        "from tensorflow.python.keras.datasets import mnist\n",
        "import json\n",
        "import matplotlib.pyplot as plt #for plotting\n",
        "\n",
        "# MNIST 데이터 로딩\n",
        "(x_train, _), (x_test, _) = mnist.load_data()    # y_train, y_test는 사용하지 않습니다.\n",
        "\n",
        "x_train = np.expand_dims(x_train, axis=3)\n",
        "x_test = np.expand_dims(x_test, axis=3)\n",
        "\n",
        "x_train = x_train.astype('float32') / 255.\n",
        "x_test = x_test.astype('float32') / 255."
      ],
      "execution_count": 5,
      "outputs": [
        {
          "output_type": "stream",
          "text": [
            "Downloading data from https://storage.googleapis.com/tensorflow/tf-keras-datasets/mnist.npz\n",
            "11493376/11490434 [==============================] - 0s 0us/step\n"
          ],
          "name": "stdout"
        }
      ]
    },
    {
      "cell_type": "markdown",
      "metadata": {
        "id": "2MSQJuI8uL_0"
      },
      "source": [
        "Encoder 레이어에서 주의할 점은 Conv2D 레이어는 shape를 변화시키지 않고 있다는 점입니다.<br>\n",
        "Output shape를 변화시키는 것은 오롯이 MaxPooling2D 레이어의 역할입니다.<br>\n",
        "그래서 Encoder를 통과한 직후의 Output은 4 X 4 의 shape가 되어 있습니다.<br><br>\n",
        "\n",
        "Decoder 레이어를 보면 Conv2D 레이어와 UpSampling2D 레이어를 거쳐 최종적으로 28 X 28 사이즈의 출력이 나옵니다.<br>\n",
        "여기서도 shape를 변화시키는 것은 UpSampling2D 뿐입니다."
      ]
    },
    {
      "cell_type": "code",
      "metadata": {
        "colab": {
          "base_uri": "https://localhost:8080/"
        },
        "id": "jXQwHfvPuHNl",
        "outputId": "676b3ab0-471d-4949-c76a-772e3af4457e"
      },
      "source": [
        "# AutoEncoder 모델 구성 - Input 부분\n",
        "input_shape = x_train.shape[1:]\n",
        "input_img = Input(shape=input_shape)\n",
        "\n",
        "# AutoEncoder 모델 구성 - Encoder 부분\n",
        "encode_conv_layer_1 = Conv2D(16, (3, 3), activation='relu', padding='same')\n",
        "encode_pool_layer_1 = MaxPooling2D((2, 2), padding='same')\n",
        "encode_conv_layer_2 = Conv2D(8, (3, 3), activation='relu', padding='same')\n",
        "encode_pool_layer_2 = MaxPooling2D((2, 2), padding='same')\n",
        "encode_conv_layer_3 = Conv2D(4, (3, 3), activation='relu', padding='same')\n",
        "encode_pool_layer_3 = MaxPooling2D((2, 2), padding='same')\n",
        "\n",
        "encoded = encode_conv_layer_1(input_img)\n",
        "encoded = encode_pool_layer_1(encoded)\n",
        "encoded = encode_conv_layer_2(encoded)\n",
        "encoded = encode_pool_layer_2(encoded)\n",
        "encoded = encode_conv_layer_3(encoded)\n",
        "encoded = encode_pool_layer_3(encoded)\n",
        "\n",
        "# AutoEncoder 모델 구성 - Decoder 부분\n",
        "decode_conv_layer_1 = Conv2D(4, (3, 3), activation='relu', padding='same')\n",
        "decode_upsample_layer_1 = UpSampling2D((2, 2))\n",
        "decode_conv_layer_2 = Conv2D(8, (3, 3), activation='relu', padding='same')\n",
        "decode_upsample_layer_2 = UpSampling2D((2, 2))\n",
        "decode_conv_layer_3 = Conv2D(16, (3, 3), activation='relu')\n",
        "decode_upsample_layer_3 = UpSampling2D((2, 2))\n",
        "decode_conv_layer_4 = Conv2D(1, (3, 3), activation='sigmoid', padding='same')\n",
        "\n",
        "decoded = decode_conv_layer_1(encoded)   # Decoder는 Encoder의 출력을 입력으로 받습니다.\n",
        "decoded = decode_upsample_layer_1(decoded)\n",
        "decoded = decode_conv_layer_2(decoded)\n",
        "decoded = decode_upsample_layer_2(decoded)\n",
        "decoded = decode_conv_layer_3(decoded)\n",
        "decoded = decode_upsample_layer_3(decoded)\n",
        "decoded = decode_conv_layer_4(decoded)\n",
        "\n",
        "# AutoEncoder 모델 정의\n",
        "autoencoder = Model(input_img, decoded)\n",
        "autoencoder.summary()"
      ],
      "execution_count": 6,
      "outputs": [
        {
          "output_type": "stream",
          "text": [
            "Model: \"model\"\n",
            "_________________________________________________________________\n",
            "Layer (type)                 Output Shape              Param #   \n",
            "=================================================================\n",
            "input_1 (InputLayer)         [(None, 28, 28, 1)]       0         \n",
            "_________________________________________________________________\n",
            "conv2d_1 (Conv2D)            (None, 28, 28, 16)        160       \n",
            "_________________________________________________________________\n",
            "max_pooling2d (MaxPooling2D) (None, 14, 14, 16)        0         \n",
            "_________________________________________________________________\n",
            "conv2d_2 (Conv2D)            (None, 14, 14, 8)         1160      \n",
            "_________________________________________________________________\n",
            "max_pooling2d_1 (MaxPooling2 (None, 7, 7, 8)           0         \n",
            "_________________________________________________________________\n",
            "conv2d_3 (Conv2D)            (None, 7, 7, 4)           292       \n",
            "_________________________________________________________________\n",
            "max_pooling2d_2 (MaxPooling2 (None, 4, 4, 4)           0         \n",
            "_________________________________________________________________\n",
            "conv2d_4 (Conv2D)            (None, 4, 4, 4)           148       \n",
            "_________________________________________________________________\n",
            "up_sampling2d (UpSampling2D) (None, 8, 8, 4)           0         \n",
            "_________________________________________________________________\n",
            "conv2d_5 (Conv2D)            (None, 8, 8, 8)           296       \n",
            "_________________________________________________________________\n",
            "up_sampling2d_1 (UpSampling2 (None, 16, 16, 8)         0         \n",
            "_________________________________________________________________\n",
            "conv2d_6 (Conv2D)            (None, 14, 14, 16)        1168      \n",
            "_________________________________________________________________\n",
            "up_sampling2d_2 (UpSampling2 (None, 28, 28, 16)        0         \n",
            "_________________________________________________________________\n",
            "conv2d_7 (Conv2D)            (None, 28, 28, 1)         145       \n",
            "=================================================================\n",
            "Total params: 3,369\n",
            "Trainable params: 3,369\n",
            "Non-trainable params: 0\n",
            "_________________________________________________________________\n"
          ],
          "name": "stdout"
        }
      ]
    },
    {
      "cell_type": "markdown",
      "metadata": {
        "id": "vedt4uV7uovd"
      },
      "source": [
        "AutoEncoder를 훈련시킨다.<br>\n",
        "(y_train이 들어가야 할 자리에 x_train이 들어가 있음을 유의)\n",
        "\n",
        "loss로 주로 분류 모델에서 사용되는 binary_crossentropy를 사용해서 다소 의아할 것입니다. 그러나 모든 dim에서 0~1 사이의 값을 가지는 입력 데이터와 출력 데이터(마지막 출력이 sigmoid로 제어되고 있음에 유의합시다) 사이의 분포가 최대한 유사하기를 바라기 때문에 이 loss는 타당합니다."
      ]
    },
    {
      "cell_type": "code",
      "metadata": {
        "colab": {
          "base_uri": "https://localhost:8080/"
        },
        "id": "TnPfV1e9uWnq",
        "outputId": "6d57c51d-6262-4e47-c667-2036467c7969"
      },
      "source": [
        "autoencoder.compile(optimizer='adadelta', loss='binary_crossentropy')\n",
        "\n",
        "autoencoder.fit(x_train, x_train,\n",
        "                epochs=50,\n",
        "                batch_size=256,\n",
        "                shuffle=True,\n",
        "                validation_data=(x_test, x_test))"
      ],
      "execution_count": 7,
      "outputs": [
        {
          "output_type": "stream",
          "text": [
            "Epoch 1/50\n",
            "235/235 [==============================] - 5s 9ms/step - loss: 0.6706 - val_loss: 0.6684\n",
            "Epoch 2/50\n",
            "235/235 [==============================] - 2s 8ms/step - loss: 0.6655 - val_loss: 0.6624\n",
            "Epoch 3/50\n",
            "235/235 [==============================] - 2s 8ms/step - loss: 0.6586 - val_loss: 0.6544\n",
            "Epoch 4/50\n",
            "235/235 [==============================] - 2s 7ms/step - loss: 0.6491 - val_loss: 0.6435\n",
            "Epoch 5/50\n",
            "235/235 [==============================] - 2s 7ms/step - loss: 0.6363 - val_loss: 0.6287\n",
            "Epoch 6/50\n",
            "235/235 [==============================] - 2s 8ms/step - loss: 0.6191 - val_loss: 0.6091\n",
            "Epoch 7/50\n",
            "235/235 [==============================] - 2s 8ms/step - loss: 0.5968 - val_loss: 0.5847\n",
            "Epoch 8/50\n",
            "235/235 [==============================] - 2s 8ms/step - loss: 0.5708 - val_loss: 0.5586\n",
            "Epoch 9/50\n",
            "235/235 [==============================] - 2s 7ms/step - loss: 0.5462 - val_loss: 0.5375\n",
            "Epoch 10/50\n",
            "235/235 [==============================] - 2s 7ms/step - loss: 0.5287 - val_loss: 0.5248\n",
            "Epoch 11/50\n",
            "235/235 [==============================] - 2s 7ms/step - loss: 0.5187 - val_loss: 0.5179\n",
            "Epoch 12/50\n",
            "235/235 [==============================] - 2s 7ms/step - loss: 0.5127 - val_loss: 0.5132\n",
            "Epoch 13/50\n",
            "235/235 [==============================] - 2s 7ms/step - loss: 0.5082 - val_loss: 0.5090\n",
            "Epoch 14/50\n",
            "235/235 [==============================] - 2s 7ms/step - loss: 0.5040 - val_loss: 0.5050\n",
            "Epoch 15/50\n",
            "235/235 [==============================] - 2s 8ms/step - loss: 0.5000 - val_loss: 0.5010\n",
            "Epoch 16/50\n",
            "235/235 [==============================] - 2s 8ms/step - loss: 0.4959 - val_loss: 0.4969\n",
            "Epoch 17/50\n",
            "235/235 [==============================] - 2s 7ms/step - loss: 0.4918 - val_loss: 0.4926\n",
            "Epoch 18/50\n",
            "235/235 [==============================] - 2s 8ms/step - loss: 0.4873 - val_loss: 0.4879\n",
            "Epoch 19/50\n",
            "235/235 [==============================] - 2s 8ms/step - loss: 0.4823 - val_loss: 0.4826\n",
            "Epoch 20/50\n",
            "235/235 [==============================] - 2s 7ms/step - loss: 0.4767 - val_loss: 0.4768\n",
            "Epoch 21/50\n",
            "235/235 [==============================] - 2s 8ms/step - loss: 0.4711 - val_loss: 0.4716\n",
            "Epoch 22/50\n",
            "235/235 [==============================] - 2s 8ms/step - loss: 0.4663 - val_loss: 0.4670\n",
            "Epoch 23/50\n",
            "235/235 [==============================] - 2s 8ms/step - loss: 0.4618 - val_loss: 0.4625\n",
            "Epoch 24/50\n",
            "235/235 [==============================] - 2s 7ms/step - loss: 0.4573 - val_loss: 0.4579\n",
            "Epoch 25/50\n",
            "235/235 [==============================] - 2s 8ms/step - loss: 0.4529 - val_loss: 0.4537\n",
            "Epoch 26/50\n",
            "235/235 [==============================] - 2s 8ms/step - loss: 0.4487 - val_loss: 0.4495\n",
            "Epoch 27/50\n",
            "235/235 [==============================] - 2s 8ms/step - loss: 0.4446 - val_loss: 0.4453\n",
            "Epoch 28/50\n",
            "235/235 [==============================] - 2s 8ms/step - loss: 0.4402 - val_loss: 0.4408\n",
            "Epoch 29/50\n",
            "235/235 [==============================] - 2s 7ms/step - loss: 0.4356 - val_loss: 0.4360\n",
            "Epoch 30/50\n",
            "235/235 [==============================] - 2s 7ms/step - loss: 0.4307 - val_loss: 0.4309\n",
            "Epoch 31/50\n",
            "235/235 [==============================] - 2s 7ms/step - loss: 0.4255 - val_loss: 0.4254\n",
            "Epoch 32/50\n",
            "235/235 [==============================] - 2s 7ms/step - loss: 0.4198 - val_loss: 0.4194\n",
            "Epoch 33/50\n",
            "235/235 [==============================] - 2s 7ms/step - loss: 0.4137 - val_loss: 0.4130\n",
            "Epoch 34/50\n",
            "235/235 [==============================] - 2s 7ms/step - loss: 0.4072 - val_loss: 0.4062\n",
            "Epoch 35/50\n",
            "235/235 [==============================] - 2s 7ms/step - loss: 0.4003 - val_loss: 0.3991\n",
            "Epoch 36/50\n",
            "235/235 [==============================] - 2s 7ms/step - loss: 0.3932 - val_loss: 0.3917\n",
            "Epoch 37/50\n",
            "235/235 [==============================] - 2s 8ms/step - loss: 0.3857 - val_loss: 0.3838\n",
            "Epoch 38/50\n",
            "235/235 [==============================] - 2s 7ms/step - loss: 0.3778 - val_loss: 0.3755\n",
            "Epoch 39/50\n",
            "235/235 [==============================] - 2s 7ms/step - loss: 0.3695 - val_loss: 0.3669\n",
            "Epoch 40/50\n",
            "235/235 [==============================] - 2s 7ms/step - loss: 0.3608 - val_loss: 0.3580\n",
            "Epoch 41/50\n",
            "235/235 [==============================] - 2s 7ms/step - loss: 0.3521 - val_loss: 0.3490\n",
            "Epoch 42/50\n",
            "235/235 [==============================] - 2s 7ms/step - loss: 0.3434 - val_loss: 0.3404\n",
            "Epoch 43/50\n",
            "235/235 [==============================] - 2s 8ms/step - loss: 0.3352 - val_loss: 0.3323\n",
            "Epoch 44/50\n",
            "235/235 [==============================] - 2s 7ms/step - loss: 0.3276 - val_loss: 0.3251\n",
            "Epoch 45/50\n",
            "235/235 [==============================] - 2s 7ms/step - loss: 0.3209 - val_loss: 0.3187\n",
            "Epoch 46/50\n",
            "235/235 [==============================] - 2s 7ms/step - loss: 0.3151 - val_loss: 0.3132\n",
            "Epoch 47/50\n",
            "235/235 [==============================] - 2s 7ms/step - loss: 0.3101 - val_loss: 0.3086\n",
            "Epoch 48/50\n",
            "235/235 [==============================] - 2s 7ms/step - loss: 0.3059 - val_loss: 0.3047\n",
            "Epoch 49/50\n",
            "235/235 [==============================] - 2s 7ms/step - loss: 0.3023 - val_loss: 0.3014\n",
            "Epoch 50/50\n",
            "235/235 [==============================] - 2s 7ms/step - loss: 0.2993 - val_loss: 0.2986\n"
          ],
          "name": "stdout"
        },
        {
          "output_type": "execute_result",
          "data": {
            "text/plain": [
              "<tensorflow.python.keras.callbacks.History at 0x7f24ee0622d0>"
            ]
          },
          "metadata": {
            "tags": []
          },
          "execution_count": 7
        }
      ]
    },
    {
      "cell_type": "markdown",
      "metadata": {
        "id": "pwGK2I6FvCP7"
      },
      "source": [
        "훈련이 끝난 후, 실제로 우리가 만든 AutoEncoder가 MNIST 이미지를 제대로 생성하는지를 확인해 봅니다. 결과가 썩 만족스럽지는 않습니다. 하지만 동일한 Decoder 네트워크 구조를 가지고도 Variational Autoencoder나 DCGAN 등은 훨씬 훌륭한 이미지를 생성하기 때문에, 이것은 Decoder 네트워크 구조만의 문제는 아닐 것입니다."
      ]
    },
    {
      "cell_type": "code",
      "metadata": {
        "colab": {
          "base_uri": "https://localhost:8080/",
          "height": 256
        },
        "id": "xRLeJDMZuzbV",
        "outputId": "9fc5c624-c56c-4632-d382-7c0cf7597af0"
      },
      "source": [
        "x_test_10 = x_test[:10]       # 테스트 데이터셋에서 10개만 골라서\n",
        "x_test_hat = autoencoder.predict(x_test_10)    # AutoEncoder 모델의 이미지 복원생성\n",
        "x_test_imgs = x_test_10.reshape(-1, 28, 28)\n",
        "x_test_hat_imgs = x_test_hat.reshape(-1, 28, 28)\n",
        "\n",
        "plt.figure(figsize=(12,5))  # 이미지 사이즈 지정\n",
        "for i in range(10):  \n",
        "    # 원본이미지 출력\n",
        "    plt.subplot(2, 10, i+1)\n",
        "    plt.imshow(x_test_imgs[i])\n",
        "    # 생성된 이미지 출력\n",
        "    plt.subplot(2, 10, i+11)\n",
        "    plt.imshow(x_test_hat_imgs[i])"
      ],
      "execution_count": 8,
      "outputs": [
        {
          "output_type": "display_data",
          "data": {
            "image/png": "[encoded data removed]",
            "text/plain": [
              "<Figure size 864x360 with 20 Axes>"
            ]
          },
          "metadata": {
            "tags": [],
            "needs_background": "light"
          }
        }
      ]
    },
    {
      "cell_type": "markdown",
      "metadata": {
        "id": "25AC-nr8vM6h"
      },
      "source": [
        "## Decoder Layers for Reconstruction\n",
        "\n",
        "Decoder에서 이미지 복원을 위해 사용했던 Convolution 레이어는 실은 Encoder에서 사용했던 것과 동일한 레이어였습니다. 크기도 변하지 않은 채 채널 개수만 2배로 늘리고 있는 것입니다. 어쨌거나 Convolution 레이어를 거쳐 정보가 집약되는 것이 아니라 오히려 정보량이 많아지고 있습니다.\n",
        "\n",
        "<br>\n",
        "\n",
        "엄밀히 말해, 이것은 Convolution의 수학적 역연산으로서의 Deconvolution과는 다릅니다. 오히려 정방향의 Convolution 연산을 통해 원본 이미지와 가까운 이미지를 재생해 내는 효과를 구현한 것입니다.\n",
        "\n",
        "하지만 Convolution을 통해 Output shape가 줄어드는 것이 얼마든지 가능하듯, 늘어나는 것도 얼마든지 가능합니다. 단지 우리의 AutoEncoder 구조가 얼마나 정보손실 없이 원본 데이터를 잘 압축하고 있느냐에 따라 Decoder가 뽑아낼 수 있는 최종적인 이미지의 퀄리티가 결정됩니다.\n",
        "\n",
        "<br>\n",
        "\n",
        "하지만 Image Reconstruction을 위해서 일반적으로 많이 사용하는 Transposed Convolution을 방금 활용한 것은 아닙니다. 오히려 방금은 Convolution 레이어를 활용해서 Transposed Convolution를 흉내 낸 것에 불과합니다."
      ]
    },
    {
      "cell_type": "markdown",
      "metadata": {
        "id": "gRuG3nYxvowm"
      },
      "source": [
        "## Upsampling 레이어\n",
        "Max pooling 레이어를 통해 Downsampling을 시도해 왔다면, 이제 Upsampling 레이어를 통해 그 반대 작업을 수행하게 됩니다.\n",
        "\n",
        "크게는 3가지 방법이 있습니다\n",
        "- Nearest Neighbor : 복원해야 할 값을 가까운 값으로 복제한다.\n",
        "- Bed of Nails : 복원해야 할 값을 0으로 처리한다.\n",
        "- Max Unpooling : Max Pooling 때 버린 값을 실은 따로 기억해 두었다가 그 값으로 복원한다.\n",
        "\n",
        "우리는 위에서 파라미터를 별도로 주지 않았으므로 디폴트인 Nearest Neighbor로 복원하였습니다.\n",
        "[Deconvolution](https://analysisbugs.tistory.com/104)"
      ]
    },
    {
      "cell_type": "markdown",
      "metadata": {
        "id": "dfXKkVtkwEHJ"
      },
      "source": [
        "### Transposed Convolution\n",
        "우리는 위에서 Transposed Convolution을 활용하지는 않았습니다. 만약 활용했다면 모델 구조는 아래와 같이 될 것입니다.\n",
        "\n",
        "[Up-sampling with Transposed Convolution](https://zzsza.github.io/data/2018/06/25/upsampling-with-transposed-convolution/)"
      ]
    },
    {
      "cell_type": "code",
      "metadata": {
        "colab": {
          "base_uri": "https://localhost:8080/"
        },
        "id": "BbjSaqpTwWye",
        "outputId": "7f061953-f429-4001-a3cc-ec763d357acd"
      },
      "source": [
        "from tensorflow.python.keras.layers import Conv2DTranspose\n",
        "\n",
        "# Conv2DTranspose를 활용한  AutoEncoder 모델\n",
        "# AutoEncoder 모델 구성 - Input 부분\n",
        "input_shape = x_train.shape[1:]\n",
        "input_img = Input(shape=input_shape)\n",
        "\n",
        "# AutoEncoder 모델 구성 - Encoder 부분\n",
        "encode_conv_layer_1 = Conv2D(16, (3, 3), activation='relu')\n",
        "encode_pool_layer_1 = MaxPooling2D((2, 2))\n",
        "encode_conv_layer_2 = Conv2D(8, (3, 3), activation='relu')\n",
        "encode_pool_layer_2 = MaxPooling2D((2, 2))\n",
        "encode_conv_layer_3 = Conv2D(4, (3, 3), activation='relu')\n",
        "\n",
        "encoded = encode_conv_layer_1(input_img)\n",
        "encoded = encode_pool_layer_1(encoded)\n",
        "encoded = encode_conv_layer_2(encoded)\n",
        "encoded = encode_pool_layer_2(encoded)\n",
        "encoded = encode_conv_layer_3(encoded)\n",
        "\n",
        "# AutoEncoder 모델 구성 - Decoder 부분  - \n",
        "decode_conv_layer_1 = Conv2DTranspose(4, (3, 3), activation='relu', padding='same')\n",
        "decode_upsample_layer_1 = UpSampling2D((2, 2))\n",
        "decode_conv_layer_2 = Conv2DTranspose(8, (3, 3), activation='relu', padding='same')\n",
        "decode_upsample_layer_2 = UpSampling2D((2, 2))\n",
        "decode_conv_layer_3 = Conv2DTranspose(16, (3, 3), activation='relu')\n",
        "decode_upsample_layer_3 = UpSampling2D((2, 2))\n",
        "decode_conv_layer_4 = Conv2DTranspose(1, (3, 3), activation='sigmoid', padding='same')\n",
        "\n",
        "decoded = decode_conv_layer_1(encoded)   # Decoder는 Encoder의 출력을 입력으로 받습니다.\n",
        "decoded = decode_upsample_layer_1(decoded)\n",
        "decoded = decode_conv_layer_2(decoded)\n",
        "decoded = decode_upsample_layer_2(decoded)\n",
        "decoded = decode_conv_layer_3(decoded)\n",
        "decoded = decode_upsample_layer_3(decoded)\n",
        "decoded = decode_conv_layer_4(decoded)\n",
        "\n",
        "# AutoEncoder 모델 정의\n",
        "autoencoder = Model(input_img, decoded)\n",
        "autoencoder.summary()"
      ],
      "execution_count": 9,
      "outputs": [
        {
          "output_type": "stream",
          "text": [
            "Model: \"model_1\"\n",
            "_________________________________________________________________\n",
            "Layer (type)                 Output Shape              Param #   \n",
            "=================================================================\n",
            "input_2 (InputLayer)         [(None, 28, 28, 1)]       0         \n",
            "_________________________________________________________________\n",
            "conv2d_8 (Conv2D)            (None, 26, 26, 16)        160       \n",
            "_________________________________________________________________\n",
            "max_pooling2d_3 (MaxPooling2 (None, 13, 13, 16)        0         \n",
            "_________________________________________________________________\n",
            "conv2d_9 (Conv2D)            (None, 11, 11, 8)         1160      \n",
            "_________________________________________________________________\n",
            "max_pooling2d_4 (MaxPooling2 (None, 5, 5, 8)           0         \n",
            "_________________________________________________________________\n",
            "conv2d_10 (Conv2D)           (None, 3, 3, 4)           292       \n",
            "_________________________________________________________________\n",
            "conv2d_transpose (Conv2DTran (None, 3, 3, 4)           148       \n",
            "_________________________________________________________________\n",
            "up_sampling2d_3 (UpSampling2 (None, 6, 6, 4)           0         \n",
            "_________________________________________________________________\n",
            "conv2d_transpose_1 (Conv2DTr (None, 6, 6, 8)           296       \n",
            "_________________________________________________________________\n",
            "up_sampling2d_4 (UpSampling2 (None, 12, 12, 8)         0         \n",
            "_________________________________________________________________\n",
            "conv2d_transpose_2 (Conv2DTr (None, 14, 14, 16)        1168      \n",
            "_________________________________________________________________\n",
            "up_sampling2d_5 (UpSampling2 (None, 28, 28, 16)        0         \n",
            "_________________________________________________________________\n",
            "conv2d_transpose_3 (Conv2DTr (None, 28, 28, 1)         145       \n",
            "=================================================================\n",
            "Total params: 3,369\n",
            "Trainable params: 3,369\n",
            "Non-trainable params: 0\n",
            "_________________________________________________________________\n"
          ],
          "name": "stdout"
        }
      ]
    }
  ]
}