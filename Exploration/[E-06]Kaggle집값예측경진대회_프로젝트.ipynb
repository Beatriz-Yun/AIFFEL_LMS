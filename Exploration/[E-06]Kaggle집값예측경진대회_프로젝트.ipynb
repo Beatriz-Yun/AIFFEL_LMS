{
  "nbformat": 4,
  "nbformat_minor": 0,
  "metadata": {
    "colab": {
      "name": "[E-06]Kaggle집값예측경진대회_프로젝트.ipynb",
      "provenance": [],
      "collapsed_sections": [],
      "toc_visible": true,
      "include_colab_link": true
    },
    "kernelspec": {
      "name": "python3",
      "display_name": "Python 3"
    },
    "language_info": {
      "name": "python"
    }
  },
  "cells": [
    {
      "cell_type": "markdown",
      "metadata": {
        "id": "view-in-github",
        "colab_type": "text"
      },
      "source": [
        "<a href=\"https://colab.research.google.com/github/Beatriz-Yun/AIFFEL_LMS/blob/main/Exploration/%5BE-06%5DKaggle%EC%A7%91%EA%B0%92%EC%98%88%EC%B8%A1%EA%B2%BD%EC%A7%84%EB%8C%80%ED%9A%8C_%ED%94%84%EB%A1%9C%EC%A0%9D%ED%8A%B8.ipynb\" target=\"_parent\"><img src=\"https://colab.research.google.com/assets/colab-badge.svg\" alt=\"Open In Colab\"/></a>"
      ]
    },
    {
      "cell_type": "markdown",
      "metadata": {
        "id": "ca3daMw9peEA"
      },
      "source": [
        "# [캐글 코리아와 함께하는 2nd ML 대회 - House Price Prediction](https://www.kaggle.com/c/2019-2nd-ml-month-with-kakr/overview)"
      ]
    },
    {
      "cell_type": "markdown",
      "metadata": {
        "id": "KH1gtoUut5zS"
      },
      "source": [
        "모델의 성능을 최대화하기 위해서는 이전에 진행한 하이퍼파라미터 튜닝 뿐아니라<br>\n",
        "**EDA과정을 통한 feature engineering**으로 데이터를 정제하는 것도 매우 중요하다.\n",
        "\n",
        "<br>\n",
        "\n",
        "튜닝은 다양한 최적화 방법론 중 하나라는 것을 알아둬야 한다."
      ]
    },
    {
      "cell_type": "markdown",
      "metadata": {
        "id": "u3aNJKaL6EZx"
      },
      "source": [
        "# 목차 \n",
        "### 1. 데이터 탐색\n",
        "    - 문제 정의\n",
        "    - 변수 설명\n",
        "    - 시각화 \n",
        "    - 이상치 및 결측치 확인\n",
        "    - 유니크 갯수\n",
        "### 2. 데이터 전처리\n",
        "    - 이상치 및 결측치 처리\n",
        "    - 정규화\n",
        "### 3. 변수 생성\n",
        "### 4. 모델링 \n",
        "    - 회귀\n",
        "    - GBM ( LGB/XGB )\n",
        "    - 앙생블 \n",
        "### 5. 잔차분석 \n",
        "\n",
        "<br><br>\n",
        "\n",
        "---\n",
        "\n"
      ]
    },
    {
      "cell_type": "markdown",
      "metadata": {
        "id": "mizIALi56Ecv"
      },
      "source": [
        "# 1.데이터 탐색"
      ]
    },
    {
      "cell_type": "markdown",
      "metadata": {
        "id": "uBtckcEo8iLR"
      },
      "source": [
        "## 1.1 문제 정의 \n",
        "이번 데이터의 목적은 집의 정보를 가지고 가격을 예측하는 회귀문제 입니다. \n",
        "\n",
        "평가로는 RMSE를 사용합니다. "
      ]
    },
    {
      "cell_type": "code",
      "metadata": {
        "id": "ZReyqvfu7L1Q"
      },
      "source": [
        "df_train = pd.read_csv('/content/drive/MyDrive/data/train.csv')\n",
        "df_test  = pd.read_csv('/content/drive/MyDrive/data/test.csv')\n",
        "\n",
        "print(\"train.csv. Shape: \",df_train.shape)\n",
        "print(\"test.csv. Shape: \",df_test.shape)"
      ],
      "execution_count": null,
      "outputs": []
    },
    {
      "cell_type": "markdown",
      "metadata": {
        "id": "G5iE2zeH6Eg1"
      },
      "source": [
        ""
      ]
    },
    {
      "cell_type": "markdown",
      "metadata": {
        "id": "Zsf6FNay0YYc"
      },
      "source": [
        "## 1.2 변수 정의\n",
        "\n",
        "**Data fields**\n",
        "1. ID : 집을 구분하는 번호\n",
        "2. date : 집을 구매한 날짜\n",
        "3. price : 집의 가격(Target variable)\n",
        "4. bedrooms : 침실의 수\n",
        "5. bathrooms : 화장실의 수\n",
        "6. sqft_living : 주거 공간의 평방 피트(면적)\n",
        "7. sqft_lot : 부지의 평방 피트(면적)\n",
        "8. floors : 집의 층 수\n",
        "9. waterfront : 집의 전방에 강이 흐르는지 유무 (a.k.a. 리버뷰)\n",
        "10. view : 집이 얼마나 좋아 보이는지의 정도\n",
        "11. condition : 집의 전반적인 상태\n",
        "12. grade : King County grading 시스템 기준으로 매긴 집의 등급\n",
        "13. sqft_above : 지하실을 제외한 평방 피트(면적)\n",
        "14. sqft_basement : 지하실의 평방 피트(면적)\n",
        "15. yr_built : 지어진 년도\n",
        "16. yr_renovated : 집을 재건축한 년도\n",
        "17. zipcode : 우편번호\n",
        "18. lat : 위도\n",
        "19. long : 경도\n",
        "20. sqft_living15 : 2015년 기준 주거 공간의 평방 피트(면적, 집을 재건축했다면, 변화가 있을 수 있음)\n",
        "21. sqft_lot15 : 2015년 기준 부지의 평방 피트(면적, 집을 재건축했다면, 변화가 있을 수 있음)\n",
        "\n",
        "👉 우리가 예측해야 되는 값은 'price'이다."
      ]
    },
    {
      "cell_type": "markdown",
      "metadata": {
        "id": "63mkv0Qy6Enj"
      },
      "source": [
        "## 1.3 시각화"
      ]
    },
    {
      "cell_type": "markdown",
      "metadata": {
        "id": "Uo-EAUNmGg4B"
      },
      "source": [
        "## 이상치 및 결측치 확인"
      ]
    },
    {
      "cell_type": "markdown",
      "metadata": {
        "id": "t9VlogVqGkMj"
      },
      "source": [
        "# 2.데이터 전처리"
      ]
    },
    {
      "cell_type": "markdown",
      "metadata": {
        "id": "ljKycJWNGnGM"
      },
      "source": [
        "## 2.1 이상치 및 결측치 처리"
      ]
    },
    {
      "cell_type": "markdown",
      "metadata": {
        "id": "ZGdxtwFAGrEU"
      },
      "source": [
        "## 2.2 정규화"
      ]
    },
    {
      "cell_type": "markdown",
      "metadata": {
        "id": "UHvAylMkGt6G"
      },
      "source": [
        "# 3.변수 생성"
      ]
    },
    {
      "cell_type": "markdown",
      "metadata": {
        "id": "zCj88g5LGwQa"
      },
      "source": [
        "#4. 모델링"
      ]
    },
    {
      "cell_type": "markdown",
      "metadata": {
        "id": "cphJP9aMwaMC"
      },
      "source": [
        "## ✓ 튜닝해볼 수 있는 모델 클래스 인자\n",
        "\n",
        "대표적으로 자주 튜닝하는 lightgbm 라이브러리의 인자는 다음과 같다.\n",
        "\n",
        "- max_depth : 의사 결정 나무의 깊이, 정수 사용\n",
        "- learning_rate : 한 스텝에 이동하는 양을 결정하는 파라미터, 보통 0.0001\\~0.1 사이의 실수 사용\n",
        "- n_estimators : 사용하는 개별 모델의 개수, 보통 50~100 이상의 정수 사용\n",
        "- num_leaves : 하나의 LightGBM 트리가 가질 수 있는 최대 잎의 수\n",
        "- boosting_type : 부스팅 방식, gbdt, rf 등의 문자열 입력"
      ]
    },
    {
      "cell_type": "markdown",
      "metadata": {
        "id": "zF9g33_az3cf"
      },
      "source": [
        "# 프로젝트 루브릭 (평가 기준)\n",
        "- 데이터 전처리, 모델학습, 예측의 전체 과정을 거쳐 캐글 submission까지 전과정이 성공적으로 진행되었는가?\n",
        "- 제출된 노트북이 캐글 커널로 사용될 수 있을 만큼 전처리, 학습, 최적화 진행 과정이 체계적으로 기술되었는가?\n",
        "- 다양한 피처 엔지니어링과 하이퍼 파라미터 튜닝 등의 최적화 기법을 통해 캐글 리더보드의 Private score 기준 110000 이하의 점수를 얻었는가?"
      ]
    }
  ]
}