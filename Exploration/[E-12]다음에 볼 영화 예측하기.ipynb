{
 "cells": [
  {
   "cell_type": "markdown",
   "id": "smoking-throw",
   "metadata": {},
   "source": [
    "### Movielens 1M Dataset을 기반으로, Session based Recommendation 시스템을 제작해 보자."
   ]
  },
  {
   "cell_type": "markdown",
   "id": "capital-moore",
   "metadata": {},
   "source": [
    "# 0. 데이터 로드"
   ]
  },
  {
   "cell_type": "code",
   "execution_count": 1,
   "id": "composed-mapping",
   "metadata": {},
   "outputs": [],
   "source": [
    "import datetime as dt\n",
    "from pathlib import Path\n",
    "import os\n",
    "\n",
    "import numpy as np\n",
    "import pandas as pd\n",
    "import warnings\n",
    "warnings.filterwarnings('ignore')"
   ]
  },
  {
   "cell_type": "code",
   "execution_count": 2,
   "id": "democratic-injection",
   "metadata": {},
   "outputs": [
    {
     "data": {
      "text/html": [
       "<div>\n",
       "<style scoped>\n",
       "    .dataframe tbody tr th:only-of-type {\n",
       "        vertical-align: middle;\n",
       "    }\n",
       "\n",
       "    .dataframe tbody tr th {\n",
       "        vertical-align: top;\n",
       "    }\n",
       "\n",
       "    .dataframe thead th {\n",
       "        text-align: right;\n",
       "    }\n",
       "</style>\n",
       "<table border=\"1\" class=\"dataframe\">\n",
       "  <thead>\n",
       "    <tr style=\"text-align: right;\">\n",
       "      <th></th>\n",
       "      <th>UserId</th>\n",
       "      <th>ItemId</th>\n",
       "      <th>Rating</th>\n",
       "      <th>Time</th>\n",
       "    </tr>\n",
       "  </thead>\n",
       "  <tbody>\n",
       "    <tr>\n",
       "      <th>31</th>\n",
       "      <td>1</td>\n",
       "      <td>3186</td>\n",
       "      <td>4</td>\n",
       "      <td>978300019</td>\n",
       "    </tr>\n",
       "    <tr>\n",
       "      <th>22</th>\n",
       "      <td>1</td>\n",
       "      <td>1270</td>\n",
       "      <td>5</td>\n",
       "      <td>978300055</td>\n",
       "    </tr>\n",
       "    <tr>\n",
       "      <th>27</th>\n",
       "      <td>1</td>\n",
       "      <td>1721</td>\n",
       "      <td>4</td>\n",
       "      <td>978300055</td>\n",
       "    </tr>\n",
       "    <tr>\n",
       "      <th>37</th>\n",
       "      <td>1</td>\n",
       "      <td>1022</td>\n",
       "      <td>5</td>\n",
       "      <td>978300055</td>\n",
       "    </tr>\n",
       "    <tr>\n",
       "      <th>24</th>\n",
       "      <td>1</td>\n",
       "      <td>2340</td>\n",
       "      <td>3</td>\n",
       "      <td>978300103</td>\n",
       "    </tr>\n",
       "    <tr>\n",
       "      <th>...</th>\n",
       "      <td>...</td>\n",
       "      <td>...</td>\n",
       "      <td>...</td>\n",
       "      <td>...</td>\n",
       "    </tr>\n",
       "    <tr>\n",
       "      <th>1000019</th>\n",
       "      <td>6040</td>\n",
       "      <td>2917</td>\n",
       "      <td>4</td>\n",
       "      <td>997454429</td>\n",
       "    </tr>\n",
       "    <tr>\n",
       "      <th>999988</th>\n",
       "      <td>6040</td>\n",
       "      <td>1921</td>\n",
       "      <td>4</td>\n",
       "      <td>997454464</td>\n",
       "    </tr>\n",
       "    <tr>\n",
       "      <th>1000172</th>\n",
       "      <td>6040</td>\n",
       "      <td>1784</td>\n",
       "      <td>3</td>\n",
       "      <td>997454464</td>\n",
       "    </tr>\n",
       "    <tr>\n",
       "      <th>1000167</th>\n",
       "      <td>6040</td>\n",
       "      <td>161</td>\n",
       "      <td>3</td>\n",
       "      <td>997454486</td>\n",
       "    </tr>\n",
       "    <tr>\n",
       "      <th>1000042</th>\n",
       "      <td>6040</td>\n",
       "      <td>1221</td>\n",
       "      <td>4</td>\n",
       "      <td>998315055</td>\n",
       "    </tr>\n",
       "  </tbody>\n",
       "</table>\n",
       "<p>1000209 rows × 4 columns</p>\n",
       "</div>"
      ],
      "text/plain": [
       "         UserId  ItemId  Rating       Time\n",
       "31            1    3186       4  978300019\n",
       "22            1    1270       5  978300055\n",
       "27            1    1721       4  978300055\n",
       "37            1    1022       5  978300055\n",
       "24            1    2340       3  978300103\n",
       "...         ...     ...     ...        ...\n",
       "1000019    6040    2917       4  997454429\n",
       "999988     6040    1921       4  997454464\n",
       "1000172    6040    1784       3  997454464\n",
       "1000167    6040     161       3  997454486\n",
       "1000042    6040    1221       4  998315055\n",
       "\n",
       "[1000209 rows x 4 columns]"
      ]
     },
     "execution_count": 2,
     "metadata": {},
     "output_type": "execute_result"
    }
   ],
   "source": [
    "data_path = Path(os.getenv('HOME')+'/aiffel/yoochoose/data/') \n",
    "train_path = data_path / 'ratings.dat'\n",
    "\n",
    "def load_data(data_path: Path, nrows=None):\n",
    "    data = pd.read_csv(data_path, sep='::', header=None, usecols=[0, 1, 2, 3], dtype={0: np.int32, 1: np.int32, 2: np.int32}, nrows=nrows)\n",
    "    data.columns = ['UserId', 'ItemId', 'Rating', 'Time']\n",
    "    return data\n",
    "\n",
    "data = load_data(train_path, None)\n",
    "data.sort_values(['UserId', 'Time'], inplace=True)  # data를 Userid와 시간 순서로 정렬해줍니다.\n",
    "\n",
    "data"
   ]
  },
  {
   "cell_type": "markdown",
   "id": "discrete-physiology",
   "metadata": {},
   "source": [
    "- **UserID가 SessionID 역할**을 해야 한다.\n",
    "\n",
    "- **Rating 정보**가 포함되어 있다. 직전에 봤던 영화가 맘에 들었는지 여부가 비슷한 영화를 더 고르게 하는 것과 상관이 있을 수도 있다. 아울러, Rating이 낮은 데이터를 어떻게 처리할지도 고민해야 한다.\n",
    "\n",
    "- **Time 항목**에는 UTC time 가 포함되어, 1970년 1월 1일부터 경과된 초단위 시간이 기재되어 있다."
   ]
  },
  {
   "cell_type": "markdown",
   "id": "boring-speaking",
   "metadata": {},
   "source": [
    "# Step 1. 데이터의 전처리\n",
    "위와 같이 간단히 구성해 본 데이터셋을 꼼꼼이 살펴보면서 **항목별 기본분석, session length, session time, cleaning 등의 작업**을 진행합니다.<br>\n",
    "특히, 이 데이터셋에서는 Session이 아닌 UserID 단위로 데이터가 생성되어 있으므로, 이를 Session 단위로 어떻게 해석할지에 주의합니다."
   ]
  },
  {
   "cell_type": "code",
   "execution_count": 3,
   "id": "lovely-planet",
   "metadata": {},
   "outputs": [
    {
     "data": {
      "text/plain": [
       "(6040, 3706)"
      ]
     },
     "execution_count": 3,
     "metadata": {},
     "output_type": "execute_result"
    }
   ],
   "source": [
    "data['UserId'].nunique(), data['ItemId'].nunique()"
   ]
  },
  {
   "cell_type": "markdown",
   "id": "liable-communist",
   "metadata": {},
   "source": [
    "- 유저가 약 6000, 아이템은 약 3000개 있다."
   ]
  },
  {
   "cell_type": "markdown",
   "id": "departmental-jacksonville",
   "metadata": {},
   "source": [
    "## SessionId 칼럼 추가\n",
    "유저 아이디로 Session을 취급하면 2년이 지난 데이터도 하나의 session으로 처리하게 되므로<br>\n",
    "같은 유저 아이디의 데이터를 시간을 기준으로 더 쪼갠다."
   ]
  },
  {
   "cell_type": "code",
   "execution_count": 4,
   "id": "above-equipment",
   "metadata": {},
   "outputs": [
    {
     "data": {
      "text/html": [
       "<div>\n",
       "<style scoped>\n",
       "    .dataframe tbody tr th:only-of-type {\n",
       "        vertical-align: middle;\n",
       "    }\n",
       "\n",
       "    .dataframe tbody tr th {\n",
       "        vertical-align: top;\n",
       "    }\n",
       "\n",
       "    .dataframe thead th {\n",
       "        text-align: right;\n",
       "    }\n",
       "</style>\n",
       "<table border=\"1\" class=\"dataframe\">\n",
       "  <thead>\n",
       "    <tr style=\"text-align: right;\">\n",
       "      <th></th>\n",
       "      <th>UserId</th>\n",
       "      <th>ItemId</th>\n",
       "      <th>Rating</th>\n",
       "      <th>Time</th>\n",
       "      <th>Time_diff</th>\n",
       "    </tr>\n",
       "  </thead>\n",
       "  <tbody>\n",
       "    <tr>\n",
       "      <th>31</th>\n",
       "      <td>1</td>\n",
       "      <td>3186</td>\n",
       "      <td>4</td>\n",
       "      <td>978300019</td>\n",
       "      <td>0.0</td>\n",
       "    </tr>\n",
       "    <tr>\n",
       "      <th>22</th>\n",
       "      <td>1</td>\n",
       "      <td>1270</td>\n",
       "      <td>5</td>\n",
       "      <td>978300055</td>\n",
       "      <td>36.0</td>\n",
       "    </tr>\n",
       "    <tr>\n",
       "      <th>27</th>\n",
       "      <td>1</td>\n",
       "      <td>1721</td>\n",
       "      <td>4</td>\n",
       "      <td>978300055</td>\n",
       "      <td>0.0</td>\n",
       "    </tr>\n",
       "    <tr>\n",
       "      <th>37</th>\n",
       "      <td>1</td>\n",
       "      <td>1022</td>\n",
       "      <td>5</td>\n",
       "      <td>978300055</td>\n",
       "      <td>0.0</td>\n",
       "    </tr>\n",
       "    <tr>\n",
       "      <th>24</th>\n",
       "      <td>1</td>\n",
       "      <td>2340</td>\n",
       "      <td>3</td>\n",
       "      <td>978300103</td>\n",
       "      <td>48.0</td>\n",
       "    </tr>\n",
       "    <tr>\n",
       "      <th>...</th>\n",
       "      <td>...</td>\n",
       "      <td>...</td>\n",
       "      <td>...</td>\n",
       "      <td>...</td>\n",
       "      <td>...</td>\n",
       "    </tr>\n",
       "    <tr>\n",
       "      <th>1000019</th>\n",
       "      <td>6040</td>\n",
       "      <td>2917</td>\n",
       "      <td>4</td>\n",
       "      <td>997454429</td>\n",
       "      <td>31.0</td>\n",
       "    </tr>\n",
       "    <tr>\n",
       "      <th>999988</th>\n",
       "      <td>6040</td>\n",
       "      <td>1921</td>\n",
       "      <td>4</td>\n",
       "      <td>997454464</td>\n",
       "      <td>35.0</td>\n",
       "    </tr>\n",
       "    <tr>\n",
       "      <th>1000172</th>\n",
       "      <td>6040</td>\n",
       "      <td>1784</td>\n",
       "      <td>3</td>\n",
       "      <td>997454464</td>\n",
       "      <td>0.0</td>\n",
       "    </tr>\n",
       "    <tr>\n",
       "      <th>1000167</th>\n",
       "      <td>6040</td>\n",
       "      <td>161</td>\n",
       "      <td>3</td>\n",
       "      <td>997454486</td>\n",
       "      <td>22.0</td>\n",
       "    </tr>\n",
       "    <tr>\n",
       "      <th>1000042</th>\n",
       "      <td>6040</td>\n",
       "      <td>1221</td>\n",
       "      <td>4</td>\n",
       "      <td>998315055</td>\n",
       "      <td>860569.0</td>\n",
       "    </tr>\n",
       "  </tbody>\n",
       "</table>\n",
       "<p>1000209 rows × 5 columns</p>\n",
       "</div>"
      ],
      "text/plain": [
       "         UserId  ItemId  Rating       Time  Time_diff\n",
       "31            1    3186       4  978300019        0.0\n",
       "22            1    1270       5  978300055       36.0\n",
       "27            1    1721       4  978300055        0.0\n",
       "37            1    1022       5  978300055        0.0\n",
       "24            1    2340       3  978300103       48.0\n",
       "...         ...     ...     ...        ...        ...\n",
       "1000019    6040    2917       4  997454429       31.0\n",
       "999988     6040    1921       4  997454464       35.0\n",
       "1000172    6040    1784       3  997454464        0.0\n",
       "1000167    6040     161       3  997454486       22.0\n",
       "1000042    6040    1221       4  998315055   860569.0\n",
       "\n",
       "[1000209 rows x 5 columns]"
      ]
     },
     "execution_count": 4,
     "metadata": {},
     "output_type": "execute_result"
    }
   ],
   "source": [
    "data['Time_diff'] = data['Time'].diff().fillna(0)\n",
    "data"
   ]
  },
  {
   "cell_type": "code",
   "execution_count": 5,
   "id": "consecutive-tennis",
   "metadata": {},
   "outputs": [
    {
     "data": {
      "text/html": [
       "<div>\n",
       "<style scoped>\n",
       "    .dataframe tbody tr th:only-of-type {\n",
       "        vertical-align: middle;\n",
       "    }\n",
       "\n",
       "    .dataframe tbody tr th {\n",
       "        vertical-align: top;\n",
       "    }\n",
       "\n",
       "    .dataframe thead th {\n",
       "        text-align: right;\n",
       "    }\n",
       "</style>\n",
       "<table border=\"1\" class=\"dataframe\">\n",
       "  <thead>\n",
       "    <tr style=\"text-align: right;\">\n",
       "      <th></th>\n",
       "      <th>UserId</th>\n",
       "      <th>ItemId</th>\n",
       "      <th>Rating</th>\n",
       "      <th>Time</th>\n",
       "      <th>Time_diff</th>\n",
       "    </tr>\n",
       "  </thead>\n",
       "  <tbody>\n",
       "    <tr>\n",
       "      <th>3</th>\n",
       "      <td>1</td>\n",
       "      <td>3408</td>\n",
       "      <td>4</td>\n",
       "      <td>978300275</td>\n",
       "      <td>103.0</td>\n",
       "    </tr>\n",
       "    <tr>\n",
       "      <th>7</th>\n",
       "      <td>1</td>\n",
       "      <td>2804</td>\n",
       "      <td>5</td>\n",
       "      <td>978300719</td>\n",
       "      <td>444.0</td>\n",
       "    </tr>\n",
       "    <tr>\n",
       "      <th>9</th>\n",
       "      <td>1</td>\n",
       "      <td>919</td>\n",
       "      <td>4</td>\n",
       "      <td>978301368</td>\n",
       "      <td>608.0</td>\n",
       "    </tr>\n",
       "    <tr>\n",
       "      <th>43</th>\n",
       "      <td>1</td>\n",
       "      <td>2692</td>\n",
       "      <td>4</td>\n",
       "      <td>978301570</td>\n",
       "      <td>172.0</td>\n",
       "    </tr>\n",
       "    <tr>\n",
       "      <th>26</th>\n",
       "      <td>1</td>\n",
       "      <td>1097</td>\n",
       "      <td>4</td>\n",
       "      <td>978301953</td>\n",
       "      <td>176.0</td>\n",
       "    </tr>\n",
       "    <tr>\n",
       "      <th>...</th>\n",
       "      <td>...</td>\n",
       "      <td>...</td>\n",
       "      <td>...</td>\n",
       "      <td>...</td>\n",
       "      <td>...</td>\n",
       "    </tr>\n",
       "    <tr>\n",
       "      <th>999975</th>\n",
       "      <td>6040</td>\n",
       "      <td>3182</td>\n",
       "      <td>5</td>\n",
       "      <td>984195682</td>\n",
       "      <td>19366782.0</td>\n",
       "    </tr>\n",
       "    <tr>\n",
       "      <th>999984</th>\n",
       "      <td>6040</td>\n",
       "      <td>2575</td>\n",
       "      <td>4</td>\n",
       "      <td>997453762</td>\n",
       "      <td>13258080.0</td>\n",
       "    </tr>\n",
       "    <tr>\n",
       "      <th>999917</th>\n",
       "      <td>6040</td>\n",
       "      <td>3421</td>\n",
       "      <td>3</td>\n",
       "      <td>997453909</td>\n",
       "      <td>113.0</td>\n",
       "    </tr>\n",
       "    <tr>\n",
       "      <th>1000118</th>\n",
       "      <td>6040</td>\n",
       "      <td>457</td>\n",
       "      <td>4</td>\n",
       "      <td>997454349</td>\n",
       "      <td>137.0</td>\n",
       "    </tr>\n",
       "    <tr>\n",
       "      <th>1000042</th>\n",
       "      <td>6040</td>\n",
       "      <td>1221</td>\n",
       "      <td>4</td>\n",
       "      <td>998315055</td>\n",
       "      <td>860569.0</td>\n",
       "    </tr>\n",
       "  </tbody>\n",
       "</table>\n",
       "<p>65604 rows × 5 columns</p>\n",
       "</div>"
      ],
      "text/plain": [
       "         UserId  ItemId  Rating       Time   Time_diff\n",
       "3             1    3408       4  978300275       103.0\n",
       "7             1    2804       5  978300719       444.0\n",
       "9             1     919       4  978301368       608.0\n",
       "43            1    2692       4  978301570       172.0\n",
       "26            1    1097       4  978301953       176.0\n",
       "...         ...     ...     ...        ...         ...\n",
       "999975     6040    3182       5  984195682  19366782.0\n",
       "999984     6040    2575       4  997453762  13258080.0\n",
       "999917     6040    3421       3  997453909       113.0\n",
       "1000118    6040     457       4  997454349       137.0\n",
       "1000042    6040    1221       4  998315055    860569.0\n",
       "\n",
       "[65604 rows x 5 columns]"
      ]
     },
     "execution_count": 5,
     "metadata": {},
     "output_type": "execute_result"
    }
   ],
   "source": [
    "data[data['Time_diff']>100]"
   ]
  },
  {
   "cell_type": "markdown",
   "id": "treated-lodging",
   "metadata": {},
   "source": [
    "UserId가 바뀌는 부분의 Time_diff는 양수가 될 수도 있지만 음수가 될 수도 있다.(정렬기준이 UserId 다음 Time이기 때문)<br>\n",
    "이는 사실상 0으로 처리해줘야 하지만 크게 상관없는 것 같다."
   ]
  },
  {
   "cell_type": "code",
   "execution_count": 6,
   "id": "applicable-pencil",
   "metadata": {},
   "outputs": [
    {
     "data": {
      "text/html": [
       "<div>\n",
       "<style scoped>\n",
       "    .dataframe tbody tr th:only-of-type {\n",
       "        vertical-align: middle;\n",
       "    }\n",
       "\n",
       "    .dataframe tbody tr th {\n",
       "        vertical-align: top;\n",
       "    }\n",
       "\n",
       "    .dataframe thead th {\n",
       "        text-align: right;\n",
       "    }\n",
       "</style>\n",
       "<table border=\"1\" class=\"dataframe\">\n",
       "  <thead>\n",
       "    <tr style=\"text-align: right;\">\n",
       "      <th></th>\n",
       "      <th>UserId</th>\n",
       "      <th>ItemId</th>\n",
       "      <th>Rating</th>\n",
       "      <th>Time</th>\n",
       "      <th>Time_diff</th>\n",
       "    </tr>\n",
       "  </thead>\n",
       "  <tbody>\n",
       "    <tr>\n",
       "      <th>130</th>\n",
       "      <td>2</td>\n",
       "      <td>1198</td>\n",
       "      <td>4</td>\n",
       "      <td>978298124</td>\n",
       "      <td>-526227.0</td>\n",
       "    </tr>\n",
       "    <tr>\n",
       "      <th>217</th>\n",
       "      <td>3</td>\n",
       "      <td>593</td>\n",
       "      <td>3</td>\n",
       "      <td>978297018</td>\n",
       "      <td>-3156.0</td>\n",
       "    </tr>\n",
       "    <tr>\n",
       "      <th>234</th>\n",
       "      <td>4</td>\n",
       "      <td>1210</td>\n",
       "      <td>3</td>\n",
       "      <td>978293924</td>\n",
       "      <td>-4580.0</td>\n",
       "    </tr>\n",
       "    <tr>\n",
       "      <th>325</th>\n",
       "      <td>5</td>\n",
       "      <td>2717</td>\n",
       "      <td>1</td>\n",
       "      <td>978241072</td>\n",
       "      <td>-53210.0</td>\n",
       "    </tr>\n",
       "    <tr>\n",
       "      <th>461</th>\n",
       "      <td>6</td>\n",
       "      <td>3072</td>\n",
       "      <td>4</td>\n",
       "      <td>978236075</td>\n",
       "      <td>-10510.0</td>\n",
       "    </tr>\n",
       "    <tr>\n",
       "      <th>...</th>\n",
       "      <td>...</td>\n",
       "      <td>...</td>\n",
       "      <td>...</td>\n",
       "      <td>...</td>\n",
       "      <td>...</td>\n",
       "    </tr>\n",
       "    <tr>\n",
       "      <th>999375</th>\n",
       "      <td>6036</td>\n",
       "      <td>1721</td>\n",
       "      <td>4</td>\n",
       "      <td>956709349</td>\n",
       "      <td>-4291.0</td>\n",
       "    </tr>\n",
       "    <tr>\n",
       "      <th>999568</th>\n",
       "      <td>6037</td>\n",
       "      <td>1882</td>\n",
       "      <td>1</td>\n",
       "      <td>956708997</td>\n",
       "      <td>-46199.0</td>\n",
       "    </tr>\n",
       "    <tr>\n",
       "      <th>999726</th>\n",
       "      <td>6038</td>\n",
       "      <td>920</td>\n",
       "      <td>3</td>\n",
       "      <td>956706827</td>\n",
       "      <td>-95013.0</td>\n",
       "    </tr>\n",
       "    <tr>\n",
       "      <th>999794</th>\n",
       "      <td>6039</td>\n",
       "      <td>282</td>\n",
       "      <td>4</td>\n",
       "      <td>956705158</td>\n",
       "      <td>-12046.0</td>\n",
       "    </tr>\n",
       "    <tr>\n",
       "      <th>1000138</th>\n",
       "      <td>6040</td>\n",
       "      <td>858</td>\n",
       "      <td>4</td>\n",
       "      <td>956703932</td>\n",
       "      <td>-54097.0</td>\n",
       "    </tr>\n",
       "  </tbody>\n",
       "</table>\n",
       "<p>6000 rows × 5 columns</p>\n",
       "</div>"
      ],
      "text/plain": [
       "         UserId  ItemId  Rating       Time  Time_diff\n",
       "130           2    1198       4  978298124  -526227.0\n",
       "217           3     593       3  978297018    -3156.0\n",
       "234           4    1210       3  978293924    -4580.0\n",
       "325           5    2717       1  978241072   -53210.0\n",
       "461           6    3072       4  978236075   -10510.0\n",
       "...         ...     ...     ...        ...        ...\n",
       "999375     6036    1721       4  956709349    -4291.0\n",
       "999568     6037    1882       1  956708997   -46199.0\n",
       "999726     6038     920       3  956706827   -95013.0\n",
       "999794     6039     282       4  956705158   -12046.0\n",
       "1000138    6040     858       4  956703932   -54097.0\n",
       "\n",
       "[6000 rows x 5 columns]"
      ]
     },
     "execution_count": 6,
     "metadata": {},
     "output_type": "execute_result"
    }
   ],
   "source": [
    "data[data['Time_diff']<0]"
   ]
  },
  {
   "cell_type": "code",
   "execution_count": 7,
   "id": "moral-consolidation",
   "metadata": {
    "scrolled": true
   },
   "outputs": [
    {
     "data": {
      "text/html": [
       "<div>\n",
       "<style scoped>\n",
       "    .dataframe tbody tr th:only-of-type {\n",
       "        vertical-align: middle;\n",
       "    }\n",
       "\n",
       "    .dataframe tbody tr th {\n",
       "        vertical-align: top;\n",
       "    }\n",
       "\n",
       "    .dataframe thead th {\n",
       "        text-align: right;\n",
       "    }\n",
       "</style>\n",
       "<table border=\"1\" class=\"dataframe\">\n",
       "  <thead>\n",
       "    <tr style=\"text-align: right;\">\n",
       "      <th></th>\n",
       "      <th>UserId</th>\n",
       "      <th>ItemId</th>\n",
       "      <th>Rating</th>\n",
       "      <th>Time</th>\n",
       "      <th>Time_diff</th>\n",
       "      <th>SessionId</th>\n",
       "    </tr>\n",
       "  </thead>\n",
       "  <tbody>\n",
       "    <tr>\n",
       "      <th>31</th>\n",
       "      <td>1</td>\n",
       "      <td>3186</td>\n",
       "      <td>4</td>\n",
       "      <td>978300019</td>\n",
       "      <td>0.0</td>\n",
       "      <td>1</td>\n",
       "    </tr>\n",
       "    <tr>\n",
       "      <th>22</th>\n",
       "      <td>1</td>\n",
       "      <td>1270</td>\n",
       "      <td>5</td>\n",
       "      <td>978300055</td>\n",
       "      <td>36.0</td>\n",
       "      <td>1</td>\n",
       "    </tr>\n",
       "    <tr>\n",
       "      <th>27</th>\n",
       "      <td>1</td>\n",
       "      <td>1721</td>\n",
       "      <td>4</td>\n",
       "      <td>978300055</td>\n",
       "      <td>0.0</td>\n",
       "      <td>1</td>\n",
       "    </tr>\n",
       "    <tr>\n",
       "      <th>37</th>\n",
       "      <td>1</td>\n",
       "      <td>1022</td>\n",
       "      <td>5</td>\n",
       "      <td>978300055</td>\n",
       "      <td>0.0</td>\n",
       "      <td>1</td>\n",
       "    </tr>\n",
       "    <tr>\n",
       "      <th>24</th>\n",
       "      <td>1</td>\n",
       "      <td>2340</td>\n",
       "      <td>3</td>\n",
       "      <td>978300103</td>\n",
       "      <td>48.0</td>\n",
       "      <td>1</td>\n",
       "    </tr>\n",
       "    <tr>\n",
       "      <th>...</th>\n",
       "      <td>...</td>\n",
       "      <td>...</td>\n",
       "      <td>...</td>\n",
       "      <td>...</td>\n",
       "      <td>...</td>\n",
       "      <td>...</td>\n",
       "    </tr>\n",
       "    <tr>\n",
       "      <th>1000019</th>\n",
       "      <td>6040</td>\n",
       "      <td>2917</td>\n",
       "      <td>4</td>\n",
       "      <td>997454429</td>\n",
       "      <td>31.0</td>\n",
       "      <td>66272</td>\n",
       "    </tr>\n",
       "    <tr>\n",
       "      <th>999988</th>\n",
       "      <td>6040</td>\n",
       "      <td>1921</td>\n",
       "      <td>4</td>\n",
       "      <td>997454464</td>\n",
       "      <td>35.0</td>\n",
       "      <td>66272</td>\n",
       "    </tr>\n",
       "    <tr>\n",
       "      <th>1000172</th>\n",
       "      <td>6040</td>\n",
       "      <td>1784</td>\n",
       "      <td>3</td>\n",
       "      <td>997454464</td>\n",
       "      <td>0.0</td>\n",
       "      <td>66272</td>\n",
       "    </tr>\n",
       "    <tr>\n",
       "      <th>1000167</th>\n",
       "      <td>6040</td>\n",
       "      <td>161</td>\n",
       "      <td>3</td>\n",
       "      <td>997454486</td>\n",
       "      <td>22.0</td>\n",
       "      <td>66272</td>\n",
       "    </tr>\n",
       "    <tr>\n",
       "      <th>1000042</th>\n",
       "      <td>6040</td>\n",
       "      <td>1221</td>\n",
       "      <td>4</td>\n",
       "      <td>998315055</td>\n",
       "      <td>860569.0</td>\n",
       "      <td>66273</td>\n",
       "    </tr>\n",
       "  </tbody>\n",
       "</table>\n",
       "<p>1000209 rows × 6 columns</p>\n",
       "</div>"
      ],
      "text/plain": [
       "         UserId  ItemId  Rating       Time  Time_diff  SessionId\n",
       "31            1    3186       4  978300019        0.0          1\n",
       "22            1    1270       5  978300055       36.0          1\n",
       "27            1    1721       4  978300055        0.0          1\n",
       "37            1    1022       5  978300055        0.0          1\n",
       "24            1    2340       3  978300103       48.0          1\n",
       "...         ...     ...     ...        ...        ...        ...\n",
       "1000019    6040    2917       4  997454429       31.0      66272\n",
       "999988     6040    1921       4  997454464       35.0      66272\n",
       "1000172    6040    1784       3  997454464        0.0      66272\n",
       "1000167    6040     161       3  997454486       22.0      66272\n",
       "1000042    6040    1221       4  998315055   860569.0      66273\n",
       "\n",
       "[1000209 rows x 6 columns]"
      ]
     },
     "execution_count": 7,
     "metadata": {},
     "output_type": "execute_result"
    }
   ],
   "source": [
    "session_id = 1\n",
    "def get_session_id(x):\n",
    "    global session_id\n",
    "    if x['Time_diff']>=100:    # Session을 나누는 기준 설정\n",
    "        session_id += 1\n",
    "    return session_id\n",
    "\n",
    "data['SessionId'] = data.apply(get_session_id, axis=1)\n",
    "data"
   ]
  },
  {
   "cell_type": "code",
   "execution_count": 9,
   "id": "lonely-amendment",
   "metadata": {},
   "outputs": [
    {
     "data": {
      "text/plain": [
       "66273"
      ]
     },
     "execution_count": 9,
     "metadata": {},
     "output_type": "execute_result"
    }
   ],
   "source": [
    "data['SessionId'].nunique()"
   ]
  },
  {
   "cell_type": "markdown",
   "id": "substantial-tennessee",
   "metadata": {},
   "source": [
    "## 1.1 Time"
   ]
  },
  {
   "cell_type": "code",
   "execution_count": 10,
   "id": "neither-sweet",
   "metadata": {},
   "outputs": [
    {
     "data": {
      "text/plain": [
       "UserId         int32\n",
       "ItemId         int32\n",
       "Rating         int32\n",
       "Time           int64\n",
       "Time_diff    float64\n",
       "SessionId      int64\n",
       "dtype: object"
      ]
     },
     "execution_count": 10,
     "metadata": {},
     "output_type": "execute_result"
    }
   ],
   "source": [
    "data.dtypes"
   ]
  },
  {
   "cell_type": "code",
   "execution_count": 11,
   "id": "victorian-vault",
   "metadata": {
    "scrolled": false
   },
   "outputs": [
    {
     "data": {
      "text/plain": [
       "31        2000-12-31 22:00:19\n",
       "22        2000-12-31 22:00:55\n",
       "27        2000-12-31 22:00:55\n",
       "37        2000-12-31 22:00:55\n",
       "24        2000-12-31 22:01:43\n",
       "                  ...        \n",
       "1000019   2001-08-10 14:40:29\n",
       "999988    2001-08-10 14:41:04\n",
       "1000172   2001-08-10 14:41:04\n",
       "1000167   2001-08-10 14:41:26\n",
       "1000042   2001-08-20 13:44:15\n",
       "Name: Time, Length: 1000209, dtype: datetime64[ns]"
      ]
     },
     "execution_count": 11,
     "metadata": {},
     "output_type": "execute_result"
    }
   ],
   "source": [
    "import datetime\n",
    "\n",
    "def to_date(x):\n",
    "    date = datetime.datetime.fromtimestamp(x)\n",
    "    date = date.strftime('%Y-%m-%d %H:%M:%S')\n",
    "    return datetime.datetime.strptime(date,\"%Y-%m-%d %H:%M:%S\")    # datetime 형식으로 변환\n",
    "\n",
    "data['Time'] = data['Time'].apply(to_date)\n",
    "data['Time']"
   ]
  },
  {
   "cell_type": "code",
   "execution_count": 12,
   "id": "funded-mirror",
   "metadata": {
    "scrolled": false
   },
   "outputs": [
    {
     "data": {
      "text/html": [
       "<div>\n",
       "<style scoped>\n",
       "    .dataframe tbody tr th:only-of-type {\n",
       "        vertical-align: middle;\n",
       "    }\n",
       "\n",
       "    .dataframe tbody tr th {\n",
       "        vertical-align: top;\n",
       "    }\n",
       "\n",
       "    .dataframe thead th {\n",
       "        text-align: right;\n",
       "    }\n",
       "</style>\n",
       "<table border=\"1\" class=\"dataframe\">\n",
       "  <thead>\n",
       "    <tr style=\"text-align: right;\">\n",
       "      <th></th>\n",
       "      <th>UserId</th>\n",
       "      <th>ItemId</th>\n",
       "      <th>Rating</th>\n",
       "      <th>Time</th>\n",
       "      <th>Time_diff</th>\n",
       "      <th>SessionId</th>\n",
       "    </tr>\n",
       "  </thead>\n",
       "  <tbody>\n",
       "    <tr>\n",
       "      <th>31</th>\n",
       "      <td>1</td>\n",
       "      <td>3186</td>\n",
       "      <td>4</td>\n",
       "      <td>2000-12-31 22:00:19</td>\n",
       "      <td>0.0</td>\n",
       "      <td>1</td>\n",
       "    </tr>\n",
       "    <tr>\n",
       "      <th>22</th>\n",
       "      <td>1</td>\n",
       "      <td>1270</td>\n",
       "      <td>5</td>\n",
       "      <td>2000-12-31 22:00:55</td>\n",
       "      <td>36.0</td>\n",
       "      <td>1</td>\n",
       "    </tr>\n",
       "    <tr>\n",
       "      <th>27</th>\n",
       "      <td>1</td>\n",
       "      <td>1721</td>\n",
       "      <td>4</td>\n",
       "      <td>2000-12-31 22:00:55</td>\n",
       "      <td>0.0</td>\n",
       "      <td>1</td>\n",
       "    </tr>\n",
       "    <tr>\n",
       "      <th>37</th>\n",
       "      <td>1</td>\n",
       "      <td>1022</td>\n",
       "      <td>5</td>\n",
       "      <td>2000-12-31 22:00:55</td>\n",
       "      <td>0.0</td>\n",
       "      <td>1</td>\n",
       "    </tr>\n",
       "    <tr>\n",
       "      <th>24</th>\n",
       "      <td>1</td>\n",
       "      <td>2340</td>\n",
       "      <td>3</td>\n",
       "      <td>2000-12-31 22:01:43</td>\n",
       "      <td>48.0</td>\n",
       "      <td>1</td>\n",
       "    </tr>\n",
       "    <tr>\n",
       "      <th>...</th>\n",
       "      <td>...</td>\n",
       "      <td>...</td>\n",
       "      <td>...</td>\n",
       "      <td>...</td>\n",
       "      <td>...</td>\n",
       "      <td>...</td>\n",
       "    </tr>\n",
       "    <tr>\n",
       "      <th>1000019</th>\n",
       "      <td>6040</td>\n",
       "      <td>2917</td>\n",
       "      <td>4</td>\n",
       "      <td>2001-08-10 14:40:29</td>\n",
       "      <td>31.0</td>\n",
       "      <td>66272</td>\n",
       "    </tr>\n",
       "    <tr>\n",
       "      <th>999988</th>\n",
       "      <td>6040</td>\n",
       "      <td>1921</td>\n",
       "      <td>4</td>\n",
       "      <td>2001-08-10 14:41:04</td>\n",
       "      <td>35.0</td>\n",
       "      <td>66272</td>\n",
       "    </tr>\n",
       "    <tr>\n",
       "      <th>1000172</th>\n",
       "      <td>6040</td>\n",
       "      <td>1784</td>\n",
       "      <td>3</td>\n",
       "      <td>2001-08-10 14:41:04</td>\n",
       "      <td>0.0</td>\n",
       "      <td>66272</td>\n",
       "    </tr>\n",
       "    <tr>\n",
       "      <th>1000167</th>\n",
       "      <td>6040</td>\n",
       "      <td>161</td>\n",
       "      <td>3</td>\n",
       "      <td>2001-08-10 14:41:26</td>\n",
       "      <td>22.0</td>\n",
       "      <td>66272</td>\n",
       "    </tr>\n",
       "    <tr>\n",
       "      <th>1000042</th>\n",
       "      <td>6040</td>\n",
       "      <td>1221</td>\n",
       "      <td>4</td>\n",
       "      <td>2001-08-20 13:44:15</td>\n",
       "      <td>860569.0</td>\n",
       "      <td>66273</td>\n",
       "    </tr>\n",
       "  </tbody>\n",
       "</table>\n",
       "<p>1000209 rows × 6 columns</p>\n",
       "</div>"
      ],
      "text/plain": [
       "         UserId  ItemId  Rating                Time  Time_diff  SessionId\n",
       "31            1    3186       4 2000-12-31 22:00:19        0.0          1\n",
       "22            1    1270       5 2000-12-31 22:00:55       36.0          1\n",
       "27            1    1721       4 2000-12-31 22:00:55        0.0          1\n",
       "37            1    1022       5 2000-12-31 22:00:55        0.0          1\n",
       "24            1    2340       3 2000-12-31 22:01:43       48.0          1\n",
       "...         ...     ...     ...                 ...        ...        ...\n",
       "1000019    6040    2917       4 2001-08-10 14:40:29       31.0      66272\n",
       "999988     6040    1921       4 2001-08-10 14:41:04       35.0      66272\n",
       "1000172    6040    1784       3 2001-08-10 14:41:04        0.0      66272\n",
       "1000167    6040     161       3 2001-08-10 14:41:26       22.0      66272\n",
       "1000042    6040    1221       4 2001-08-20 13:44:15   860569.0      66273\n",
       "\n",
       "[1000209 rows x 6 columns]"
      ]
     },
     "execution_count": 12,
     "metadata": {},
     "output_type": "execute_result"
    }
   ],
   "source": [
    "data"
   ]
  },
  {
   "cell_type": "markdown",
   "id": "adjusted-apparel",
   "metadata": {},
   "source": [
    "## 1.2 Session Length\n",
    "우선 UserId를 기준으로 Session단위를 정하였다."
   ]
  },
  {
   "cell_type": "code",
   "execution_count": 13,
   "id": "polar-classic",
   "metadata": {},
   "outputs": [
    {
     "data": {
      "text/plain": [
       "SessionId\n",
       "1         6\n",
       "2         1\n",
       "3         5\n",
       "4         2\n",
       "5        10\n",
       "         ..\n",
       "66269     1\n",
       "66270     3\n",
       "66271    11\n",
       "66272     7\n",
       "66273     1\n",
       "Length: 66273, dtype: int64"
      ]
     },
     "execution_count": 13,
     "metadata": {},
     "output_type": "execute_result"
    }
   ],
   "source": [
    "session_length = data.groupby('SessionId').size()    # 같은 SessionId를 공유하는 데이터 row의 개수\n",
    "session_length"
   ]
  },
  {
   "cell_type": "markdown",
   "id": "metallic-extraction",
   "metadata": {},
   "source": [
    "### session_length의 통계수치\n",
    "- 중간값, 평균값\n",
    "- 최솟값, 최댓값\n",
    "- 99.9%에 있는 데이터"
   ]
  },
  {
   "cell_type": "code",
   "execution_count": 77,
   "id": "roman-ukraine",
   "metadata": {},
   "outputs": [
    {
     "data": {
      "text/plain": [
       "(4.0, 15.092254764383686)"
      ]
     },
     "execution_count": 77,
     "metadata": {},
     "output_type": "execute_result"
    }
   ],
   "source": [
    "session_length.median(), session_length.mean()"
   ]
  },
  {
   "cell_type": "code",
   "execution_count": 78,
   "id": "cloudy-toddler",
   "metadata": {},
   "outputs": [
    {
     "data": {
      "text/plain": [
       "(1, 1193)"
      ]
     },
     "execution_count": 78,
     "metadata": {},
     "output_type": "execute_result"
    }
   ],
   "source": [
    "session_length.min(), session_length.max()"
   ]
  },
  {
   "cell_type": "code",
   "execution_count": 79,
   "id": "cloudy-imaging",
   "metadata": {},
   "outputs": [
    {
     "data": {
      "text/plain": [
       "383.4560000000056"
      ]
     },
     "execution_count": 79,
     "metadata": {},
     "output_type": "execute_result"
    }
   ],
   "source": [
    "session_length.quantile(0.999)"
   ]
  },
  {
   "cell_type": "markdown",
   "id": "completed-watershed",
   "metadata": {},
   "source": [
    "session길이가 최대인 데이터 중 하나를 살펴보자.\n",
    "- 대강 봐도 0.01초 사이에 여러번의 클릭이 있는 것으로 보인다. (비정상적이라고 판단)"
   ]
  },
  {
   "cell_type": "code",
   "execution_count": 80,
   "id": "freelance-extent",
   "metadata": {},
   "outputs": [
    {
     "data": {
      "text/html": [
       "<div>\n",
       "<style scoped>\n",
       "    .dataframe tbody tr th:only-of-type {\n",
       "        vertical-align: middle;\n",
       "    }\n",
       "\n",
       "    .dataframe tbody tr th {\n",
       "        vertical-align: top;\n",
       "    }\n",
       "\n",
       "    .dataframe thead th {\n",
       "        text-align: right;\n",
       "    }\n",
       "</style>\n",
       "<table border=\"1\" class=\"dataframe\">\n",
       "  <thead>\n",
       "    <tr style=\"text-align: right;\">\n",
       "      <th></th>\n",
       "      <th>UserId</th>\n",
       "      <th>ItemId</th>\n",
       "      <th>Rating</th>\n",
       "      <th>Time</th>\n",
       "      <th>Time_diff</th>\n",
       "      <th>SessionId</th>\n",
       "    </tr>\n",
       "  </thead>\n",
       "  <tbody>\n",
       "    <tr>\n",
       "      <th>637775</th>\n",
       "      <td>3841</td>\n",
       "      <td>1480</td>\n",
       "      <td>3</td>\n",
       "      <td>2000-08-11 11:57:39</td>\n",
       "      <td>79091.0</td>\n",
       "      <td>44453</td>\n",
       "    </tr>\n",
       "    <tr>\n",
       "      <th>637808</th>\n",
       "      <td>3841</td>\n",
       "      <td>969</td>\n",
       "      <td>5</td>\n",
       "      <td>2000-08-11 11:57:39</td>\n",
       "      <td>0.0</td>\n",
       "      <td>44453</td>\n",
       "    </tr>\n",
       "    <tr>\n",
       "      <th>638269</th>\n",
       "      <td>3841</td>\n",
       "      <td>858</td>\n",
       "      <td>5</td>\n",
       "      <td>2000-08-11 11:57:39</td>\n",
       "      <td>0.0</td>\n",
       "      <td>44453</td>\n",
       "    </tr>\n",
       "    <tr>\n",
       "      <th>638716</th>\n",
       "      <td>3841</td>\n",
       "      <td>2019</td>\n",
       "      <td>5</td>\n",
       "      <td>2000-08-11 11:57:39</td>\n",
       "      <td>0.0</td>\n",
       "      <td>44453</td>\n",
       "    </tr>\n",
       "    <tr>\n",
       "      <th>638733</th>\n",
       "      <td>3841</td>\n",
       "      <td>1221</td>\n",
       "      <td>5</td>\n",
       "      <td>2000-08-11 11:57:39</td>\n",
       "      <td>0.0</td>\n",
       "      <td>44453</td>\n",
       "    </tr>\n",
       "    <tr>\n",
       "      <th>...</th>\n",
       "      <td>...</td>\n",
       "      <td>...</td>\n",
       "      <td>...</td>\n",
       "      <td>...</td>\n",
       "      <td>...</td>\n",
       "      <td>...</td>\n",
       "    </tr>\n",
       "    <tr>\n",
       "      <th>638038</th>\n",
       "      <td>3841</td>\n",
       "      <td>3806</td>\n",
       "      <td>5</td>\n",
       "      <td>2000-08-11 14:23:11</td>\n",
       "      <td>0.0</td>\n",
       "      <td>44453</td>\n",
       "    </tr>\n",
       "    <tr>\n",
       "      <th>638243</th>\n",
       "      <td>3841</td>\n",
       "      <td>1379</td>\n",
       "      <td>2</td>\n",
       "      <td>2000-08-11 14:23:11</td>\n",
       "      <td>0.0</td>\n",
       "      <td>44453</td>\n",
       "    </tr>\n",
       "    <tr>\n",
       "      <th>638459</th>\n",
       "      <td>3841</td>\n",
       "      <td>1928</td>\n",
       "      <td>4</td>\n",
       "      <td>2000-08-11 14:23:11</td>\n",
       "      <td>0.0</td>\n",
       "      <td>44453</td>\n",
       "    </tr>\n",
       "    <tr>\n",
       "      <th>638710</th>\n",
       "      <td>3841</td>\n",
       "      <td>2016</td>\n",
       "      <td>3</td>\n",
       "      <td>2000-08-11 14:23:11</td>\n",
       "      <td>0.0</td>\n",
       "      <td>44453</td>\n",
       "    </tr>\n",
       "    <tr>\n",
       "      <th>638112</th>\n",
       "      <td>3841</td>\n",
       "      <td>487</td>\n",
       "      <td>3</td>\n",
       "      <td>2000-08-11 14:23:23</td>\n",
       "      <td>12.0</td>\n",
       "      <td>44453</td>\n",
       "    </tr>\n",
       "  </tbody>\n",
       "</table>\n",
       "<p>1193 rows × 6 columns</p>\n",
       "</div>"
      ],
      "text/plain": [
       "        UserId  ItemId  Rating                Time  Time_diff  SessionId\n",
       "637775    3841    1480       3 2000-08-11 11:57:39    79091.0      44453\n",
       "637808    3841     969       5 2000-08-11 11:57:39        0.0      44453\n",
       "638269    3841     858       5 2000-08-11 11:57:39        0.0      44453\n",
       "638716    3841    2019       5 2000-08-11 11:57:39        0.0      44453\n",
       "638733    3841    1221       5 2000-08-11 11:57:39        0.0      44453\n",
       "...        ...     ...     ...                 ...        ...        ...\n",
       "638038    3841    3806       5 2000-08-11 14:23:11        0.0      44453\n",
       "638243    3841    1379       2 2000-08-11 14:23:11        0.0      44453\n",
       "638459    3841    1928       4 2000-08-11 14:23:11        0.0      44453\n",
       "638710    3841    2016       3 2000-08-11 14:23:11        0.0      44453\n",
       "638112    3841     487       3 2000-08-11 14:23:23       12.0      44453\n",
       "\n",
       "[1193 rows x 6 columns]"
      ]
     },
     "execution_count": 80,
     "metadata": {},
     "output_type": "execute_result"
    }
   ],
   "source": [
    "long_session = session_length[session_length==1193].index[0]\n",
    "data[data['SessionId']==long_session]"
   ]
  },
  {
   "cell_type": "markdown",
   "id": "incorrect-freedom",
   "metadata": {},
   "source": [
    "세션길이가 400이상인 데이터는 비정상적이라고 판단하여 제거해준다."
   ]
  },
  {
   "cell_type": "code",
   "execution_count": 14,
   "id": "selected-legislature",
   "metadata": {},
   "outputs": [
    {
     "data": {
      "text/plain": [
       "56"
      ]
     },
     "execution_count": 14,
     "metadata": {},
     "output_type": "execute_result"
    }
   ],
   "source": [
    "len(session_length[session_length>400])"
   ]
  },
  {
   "cell_type": "markdown",
   "id": "moving-longer",
   "metadata": {},
   "source": [
    "### session length 누적합 시각화"
   ]
  },
  {
   "cell_type": "code",
   "execution_count": 92,
   "id": "absent-nickname",
   "metadata": {},
   "outputs": [
    {
     "data": {
      "text/plain": [
       "1      0.296425\n",
       "2      0.420352\n",
       "3      0.496567\n",
       "4      0.550043\n",
       "5      0.590678\n",
       "         ...   \n",
       "372    0.998914\n",
       "375    0.998929\n",
       "379    0.998944\n",
       "380    0.998959\n",
       "382    0.998989\n",
       "Length: 349, dtype: float64"
      ]
     },
     "execution_count": 92,
     "metadata": {},
     "output_type": "execute_result"
    }
   ],
   "source": [
    "length_count = session_length.groupby(session_length).size()\n",
    "length_percent_cumsum = length_count.cumsum() / length_count.sum()\n",
    "length_percent_cumsum_999 = length_percent_cumsum[length_percent_cumsum < 0.999]\n",
    "\n",
    "length_percent_cumsum_999"
   ]
  },
  {
   "cell_type": "code",
   "execution_count": 93,
   "id": "personal-occasions",
   "metadata": {
    "scrolled": true
   },
   "outputs": [
    {
     "data": {
      "image/png": "[encoded data removed]",
      "text/plain": [
       "<Figure size 1440x720 with 1 Axes>"
      ]
     },
     "metadata": {
      "needs_background": "light"
     },
     "output_type": "display_data"
    }
   ],
   "source": [
    "import matplotlib.pyplot as plt\n",
    "\n",
    "plt.figure(figsize=(20, 10))\n",
    "plt.bar(x=length_percent_cumsum_999.index,\n",
    "        height=length_percent_cumsum_999, color='red')\n",
    "plt.xticks(length_percent_cumsum_999.index)\n",
    "plt.yticks(np.arange(0, 1.01, 0.05))\n",
    "plt.title('Cumsum Percentage Until 0.999', size=20)\n",
    "plt.show()"
   ]
  },
  {
   "cell_type": "markdown",
   "id": "beneficial-earthquake",
   "metadata": {},
   "source": [
    "## 1.3 Rating\n",
    "평점이 3점미만인 데이터는 제거하자."
   ]
  },
  {
   "cell_type": "code",
   "execution_count": 15,
   "id": "peripheral-brighton",
   "metadata": {},
   "outputs": [
    {
     "data": {
      "text/html": [
       "<div>\n",
       "<style scoped>\n",
       "    .dataframe tbody tr th:only-of-type {\n",
       "        vertical-align: middle;\n",
       "    }\n",
       "\n",
       "    .dataframe tbody tr th {\n",
       "        vertical-align: top;\n",
       "    }\n",
       "\n",
       "    .dataframe thead th {\n",
       "        text-align: right;\n",
       "    }\n",
       "</style>\n",
       "<table border=\"1\" class=\"dataframe\">\n",
       "  <thead>\n",
       "    <tr style=\"text-align: right;\">\n",
       "      <th></th>\n",
       "      <th>UserId</th>\n",
       "      <th>ItemId</th>\n",
       "      <th>Rating</th>\n",
       "      <th>Time</th>\n",
       "      <th>Time_diff</th>\n",
       "      <th>SessionId</th>\n",
       "    </tr>\n",
       "  </thead>\n",
       "  <tbody>\n",
       "    <tr>\n",
       "      <th>67</th>\n",
       "      <td>2</td>\n",
       "      <td>1213</td>\n",
       "      <td>2</td>\n",
       "      <td>2000-12-31 21:34:18</td>\n",
       "      <td>24.0</td>\n",
       "      <td>8</td>\n",
       "    </tr>\n",
       "    <tr>\n",
       "      <th>151</th>\n",
       "      <td>2</td>\n",
       "      <td>1090</td>\n",
       "      <td>2</td>\n",
       "      <td>2000-12-31 21:36:20</td>\n",
       "      <td>38.0</td>\n",
       "      <td>8</td>\n",
       "    </tr>\n",
       "    <tr>\n",
       "      <th>174</th>\n",
       "      <td>2</td>\n",
       "      <td>1968</td>\n",
       "      <td>2</td>\n",
       "      <td>2000-12-31 21:41:21</td>\n",
       "      <td>0.0</td>\n",
       "      <td>8</td>\n",
       "    </tr>\n",
       "    <tr>\n",
       "      <th>83</th>\n",
       "      <td>2</td>\n",
       "      <td>902</td>\n",
       "      <td>2</td>\n",
       "      <td>2000-12-31 21:41:45</td>\n",
       "      <td>0.0</td>\n",
       "      <td>8</td>\n",
       "    </tr>\n",
       "    <tr>\n",
       "      <th>114</th>\n",
       "      <td>2</td>\n",
       "      <td>3699</td>\n",
       "      <td>2</td>\n",
       "      <td>2000-12-31 21:46:13</td>\n",
       "      <td>30.0</td>\n",
       "      <td>8</td>\n",
       "    </tr>\n",
       "    <tr>\n",
       "      <th>...</th>\n",
       "      <td>...</td>\n",
       "      <td>...</td>\n",
       "      <td>...</td>\n",
       "      <td>...</td>\n",
       "      <td>...</td>\n",
       "      <td>...</td>\n",
       "    </tr>\n",
       "    <tr>\n",
       "      <th>999892</th>\n",
       "      <td>6040</td>\n",
       "      <td>2402</td>\n",
       "      <td>1</td>\n",
       "      <td>2000-04-26 02:35:57</td>\n",
       "      <td>16.0</td>\n",
       "      <td>66256</td>\n",
       "    </tr>\n",
       "    <tr>\n",
       "      <th>999902</th>\n",
       "      <td>6040</td>\n",
       "      <td>2421</td>\n",
       "      <td>1</td>\n",
       "      <td>2000-04-26 02:36:28</td>\n",
       "      <td>31.0</td>\n",
       "      <td>66256</td>\n",
       "    </tr>\n",
       "    <tr>\n",
       "      <th>999963</th>\n",
       "      <td>6040</td>\n",
       "      <td>2147</td>\n",
       "      <td>2</td>\n",
       "      <td>2000-04-26 02:36:28</td>\n",
       "      <td>0.0</td>\n",
       "      <td>66256</td>\n",
       "    </tr>\n",
       "    <tr>\n",
       "      <th>1000164</th>\n",
       "      <td>6040</td>\n",
       "      <td>154</td>\n",
       "      <td>2</td>\n",
       "      <td>2000-05-07 16:41:18</td>\n",
       "      <td>0.0</td>\n",
       "      <td>66259</td>\n",
       "    </tr>\n",
       "    <tr>\n",
       "      <th>1000124</th>\n",
       "      <td>6040</td>\n",
       "      <td>495</td>\n",
       "      <td>2</td>\n",
       "      <td>2000-07-28 23:59:42</td>\n",
       "      <td>48.0</td>\n",
       "      <td>66267</td>\n",
       "    </tr>\n",
       "  </tbody>\n",
       "</table>\n",
       "<p>163731 rows × 6 columns</p>\n",
       "</div>"
      ],
      "text/plain": [
       "         UserId  ItemId  Rating                Time  Time_diff  SessionId\n",
       "67            2    1213       2 2000-12-31 21:34:18       24.0          8\n",
       "151           2    1090       2 2000-12-31 21:36:20       38.0          8\n",
       "174           2    1968       2 2000-12-31 21:41:21        0.0          8\n",
       "83            2     902       2 2000-12-31 21:41:45        0.0          8\n",
       "114           2    3699       2 2000-12-31 21:46:13       30.0          8\n",
       "...         ...     ...     ...                 ...        ...        ...\n",
       "999892     6040    2402       1 2000-04-26 02:35:57       16.0      66256\n",
       "999902     6040    2421       1 2000-04-26 02:36:28       31.0      66256\n",
       "999963     6040    2147       2 2000-04-26 02:36:28        0.0      66256\n",
       "1000164    6040     154       2 2000-05-07 16:41:18        0.0      66259\n",
       "1000124    6040     495       2 2000-07-28 23:59:42       48.0      66267\n",
       "\n",
       "[163731 rows x 6 columns]"
      ]
     },
     "execution_count": 15,
     "metadata": {},
     "output_type": "execute_result"
    }
   ],
   "source": [
    "data[data['Rating']<3]"
   ]
  },
  {
   "cell_type": "code",
   "execution_count": 16,
   "id": "tropical-burden",
   "metadata": {},
   "outputs": [
    {
     "data": {
      "text/html": [
       "<div>\n",
       "<style scoped>\n",
       "    .dataframe tbody tr th:only-of-type {\n",
       "        vertical-align: middle;\n",
       "    }\n",
       "\n",
       "    .dataframe tbody tr th {\n",
       "        vertical-align: top;\n",
       "    }\n",
       "\n",
       "    .dataframe thead th {\n",
       "        text-align: right;\n",
       "    }\n",
       "</style>\n",
       "<table border=\"1\" class=\"dataframe\">\n",
       "  <thead>\n",
       "    <tr style=\"text-align: right;\">\n",
       "      <th></th>\n",
       "      <th>UserId</th>\n",
       "      <th>ItemId</th>\n",
       "      <th>Rating</th>\n",
       "      <th>Time</th>\n",
       "      <th>Time_diff</th>\n",
       "      <th>SessionId</th>\n",
       "    </tr>\n",
       "  </thead>\n",
       "  <tbody>\n",
       "    <tr>\n",
       "      <th>31</th>\n",
       "      <td>1</td>\n",
       "      <td>3186</td>\n",
       "      <td>4</td>\n",
       "      <td>2000-12-31 22:00:19</td>\n",
       "      <td>0.0</td>\n",
       "      <td>1</td>\n",
       "    </tr>\n",
       "    <tr>\n",
       "      <th>22</th>\n",
       "      <td>1</td>\n",
       "      <td>1270</td>\n",
       "      <td>5</td>\n",
       "      <td>2000-12-31 22:00:55</td>\n",
       "      <td>36.0</td>\n",
       "      <td>1</td>\n",
       "    </tr>\n",
       "    <tr>\n",
       "      <th>27</th>\n",
       "      <td>1</td>\n",
       "      <td>1721</td>\n",
       "      <td>4</td>\n",
       "      <td>2000-12-31 22:00:55</td>\n",
       "      <td>0.0</td>\n",
       "      <td>1</td>\n",
       "    </tr>\n",
       "    <tr>\n",
       "      <th>37</th>\n",
       "      <td>1</td>\n",
       "      <td>1022</td>\n",
       "      <td>5</td>\n",
       "      <td>2000-12-31 22:00:55</td>\n",
       "      <td>0.0</td>\n",
       "      <td>1</td>\n",
       "    </tr>\n",
       "    <tr>\n",
       "      <th>24</th>\n",
       "      <td>1</td>\n",
       "      <td>2340</td>\n",
       "      <td>3</td>\n",
       "      <td>2000-12-31 22:01:43</td>\n",
       "      <td>48.0</td>\n",
       "      <td>1</td>\n",
       "    </tr>\n",
       "    <tr>\n",
       "      <th>...</th>\n",
       "      <td>...</td>\n",
       "      <td>...</td>\n",
       "      <td>...</td>\n",
       "      <td>...</td>\n",
       "      <td>...</td>\n",
       "      <td>...</td>\n",
       "    </tr>\n",
       "    <tr>\n",
       "      <th>1000019</th>\n",
       "      <td>6040</td>\n",
       "      <td>2917</td>\n",
       "      <td>4</td>\n",
       "      <td>2001-08-10 14:40:29</td>\n",
       "      <td>31.0</td>\n",
       "      <td>66272</td>\n",
       "    </tr>\n",
       "    <tr>\n",
       "      <th>999988</th>\n",
       "      <td>6040</td>\n",
       "      <td>1921</td>\n",
       "      <td>4</td>\n",
       "      <td>2001-08-10 14:41:04</td>\n",
       "      <td>35.0</td>\n",
       "      <td>66272</td>\n",
       "    </tr>\n",
       "    <tr>\n",
       "      <th>1000172</th>\n",
       "      <td>6040</td>\n",
       "      <td>1784</td>\n",
       "      <td>3</td>\n",
       "      <td>2001-08-10 14:41:04</td>\n",
       "      <td>0.0</td>\n",
       "      <td>66272</td>\n",
       "    </tr>\n",
       "    <tr>\n",
       "      <th>1000167</th>\n",
       "      <td>6040</td>\n",
       "      <td>161</td>\n",
       "      <td>3</td>\n",
       "      <td>2001-08-10 14:41:26</td>\n",
       "      <td>22.0</td>\n",
       "      <td>66272</td>\n",
       "    </tr>\n",
       "    <tr>\n",
       "      <th>1000042</th>\n",
       "      <td>6040</td>\n",
       "      <td>1221</td>\n",
       "      <td>4</td>\n",
       "      <td>2001-08-20 13:44:15</td>\n",
       "      <td>860569.0</td>\n",
       "      <td>66273</td>\n",
       "    </tr>\n",
       "  </tbody>\n",
       "</table>\n",
       "<p>836478 rows × 6 columns</p>\n",
       "</div>"
      ],
      "text/plain": [
       "         UserId  ItemId  Rating                Time  Time_diff  SessionId\n",
       "31            1    3186       4 2000-12-31 22:00:19        0.0          1\n",
       "22            1    1270       5 2000-12-31 22:00:55       36.0          1\n",
       "27            1    1721       4 2000-12-31 22:00:55        0.0          1\n",
       "37            1    1022       5 2000-12-31 22:00:55        0.0          1\n",
       "24            1    2340       3 2000-12-31 22:01:43       48.0          1\n",
       "...         ...     ...     ...                 ...        ...        ...\n",
       "1000019    6040    2917       4 2001-08-10 14:40:29       31.0      66272\n",
       "999988     6040    1921       4 2001-08-10 14:41:04       35.0      66272\n",
       "1000172    6040    1784       3 2001-08-10 14:41:04        0.0      66272\n",
       "1000167    6040     161       3 2001-08-10 14:41:26       22.0      66272\n",
       "1000042    6040    1221       4 2001-08-20 13:44:15   860569.0      66273\n",
       "\n",
       "[836478 rows x 6 columns]"
      ]
     },
     "execution_count": 16,
     "metadata": {},
     "output_type": "execute_result"
    }
   ],
   "source": [
    "idx = data[data['Rating']<3].index\n",
    "data.drop(idx, inplace=True)\n",
    "\n",
    "data"
   ]
  },
  {
   "cell_type": "markdown",
   "id": "killing-filename",
   "metadata": {},
   "source": [
    "## Data Cleansing\n",
    "- 너무 짧은 세션 제거\n",
    "- 너무 적게 선택된 item 제거"
   ]
  },
  {
   "cell_type": "code",
   "execution_count": 17,
   "id": "dependent-vertex",
   "metadata": {},
   "outputs": [],
   "source": [
    "# short_session을 제거한 다음 unpopular item을 제거하면 다시 길이가 1인 session이 생길 수 있습니다.\n",
    "# 이를 위해 반복문을 통해 지속적으로 제거 합니다.\n",
    "def cleanse_recursive(data: pd.DataFrame, shortest, least_click) -> pd.DataFrame:\n",
    "    while True:\n",
    "        before_len = len(data)\n",
    "        data = cleanse_short_session(data, shortest)\n",
    "        data = cleanse_unpopular_item(data, least_click)\n",
    "        after_len = len(data)\n",
    "        if before_len == after_len:\n",
    "            break\n",
    "    return data\n",
    "\n",
    "\n",
    "def cleanse_short_session(data: pd.DataFrame, shortest):\n",
    "    session_len = data.groupby('SessionId').size()\n",
    "    session_use = session_len[session_len >= shortest].index\n",
    "    data = data[data['SessionId'].isin(session_use)]\n",
    "    return data\n",
    "\n",
    "\n",
    "def cleanse_unpopular_item(data: pd.DataFrame, least_click):\n",
    "    item_popular = data.groupby('ItemId').size()\n",
    "    item_use = item_popular[item_popular >= least_click].index\n",
    "    data = data[data['ItemId'].isin(item_use)]\n",
    "    return data"
   ]
  },
  {
   "cell_type": "code",
   "execution_count": 26,
   "id": "temporal-activation",
   "metadata": {
    "scrolled": true
   },
   "outputs": [
    {
     "data": {
      "text/plain": [
       "Int64Index([   1,    2,    3,    4,    5,    6,    7,    8,    9,   10,\n",
       "            ...\n",
       "            3936, 3937, 3943, 3946, 3947, 3948, 3949, 3950, 3951, 3952],\n",
       "           dtype='int64', name='ItemId', length=2805)"
      ]
     },
     "execution_count": 26,
     "metadata": {},
     "output_type": "execute_result"
    }
   ],
   "source": [
    "item_popular = data.groupby('ItemId').size()\n",
    "item_popular[item_popular >= 20].index"
   ]
  },
  {
   "cell_type": "code",
   "execution_count": 27,
   "id": "younger-scientist",
   "metadata": {},
   "outputs": [
    {
     "data": {
      "text/html": [
       "<div>\n",
       "<style scoped>\n",
       "    .dataframe tbody tr th:only-of-type {\n",
       "        vertical-align: middle;\n",
       "    }\n",
       "\n",
       "    .dataframe tbody tr th {\n",
       "        vertical-align: top;\n",
       "    }\n",
       "\n",
       "    .dataframe thead th {\n",
       "        text-align: right;\n",
       "    }\n",
       "</style>\n",
       "<table border=\"1\" class=\"dataframe\">\n",
       "  <thead>\n",
       "    <tr style=\"text-align: right;\">\n",
       "      <th></th>\n",
       "      <th>UserId</th>\n",
       "      <th>ItemId</th>\n",
       "      <th>Rating</th>\n",
       "      <th>Time</th>\n",
       "      <th>Time_diff</th>\n",
       "      <th>SessionId</th>\n",
       "    </tr>\n",
       "  </thead>\n",
       "  <tbody>\n",
       "    <tr>\n",
       "      <th>31</th>\n",
       "      <td>1</td>\n",
       "      <td>3186</td>\n",
       "      <td>4</td>\n",
       "      <td>2000-12-31 22:00:19</td>\n",
       "      <td>0.0</td>\n",
       "      <td>1</td>\n",
       "    </tr>\n",
       "    <tr>\n",
       "      <th>22</th>\n",
       "      <td>1</td>\n",
       "      <td>1270</td>\n",
       "      <td>5</td>\n",
       "      <td>2000-12-31 22:00:55</td>\n",
       "      <td>36.0</td>\n",
       "      <td>1</td>\n",
       "    </tr>\n",
       "    <tr>\n",
       "      <th>27</th>\n",
       "      <td>1</td>\n",
       "      <td>1721</td>\n",
       "      <td>4</td>\n",
       "      <td>2000-12-31 22:00:55</td>\n",
       "      <td>0.0</td>\n",
       "      <td>1</td>\n",
       "    </tr>\n",
       "    <tr>\n",
       "      <th>37</th>\n",
       "      <td>1</td>\n",
       "      <td>1022</td>\n",
       "      <td>5</td>\n",
       "      <td>2000-12-31 22:00:55</td>\n",
       "      <td>0.0</td>\n",
       "      <td>1</td>\n",
       "    </tr>\n",
       "    <tr>\n",
       "      <th>24</th>\n",
       "      <td>1</td>\n",
       "      <td>2340</td>\n",
       "      <td>3</td>\n",
       "      <td>2000-12-31 22:01:43</td>\n",
       "      <td>48.0</td>\n",
       "      <td>1</td>\n",
       "    </tr>\n",
       "    <tr>\n",
       "      <th>...</th>\n",
       "      <td>...</td>\n",
       "      <td>...</td>\n",
       "      <td>...</td>\n",
       "      <td>...</td>\n",
       "      <td>...</td>\n",
       "      <td>...</td>\n",
       "    </tr>\n",
       "    <tr>\n",
       "      <th>999923</th>\n",
       "      <td>6040</td>\n",
       "      <td>232</td>\n",
       "      <td>5</td>\n",
       "      <td>2001-08-10 14:39:58</td>\n",
       "      <td>31.0</td>\n",
       "      <td>66272</td>\n",
       "    </tr>\n",
       "    <tr>\n",
       "      <th>1000019</th>\n",
       "      <td>6040</td>\n",
       "      <td>2917</td>\n",
       "      <td>4</td>\n",
       "      <td>2001-08-10 14:40:29</td>\n",
       "      <td>31.0</td>\n",
       "      <td>66272</td>\n",
       "    </tr>\n",
       "    <tr>\n",
       "      <th>999988</th>\n",
       "      <td>6040</td>\n",
       "      <td>1921</td>\n",
       "      <td>4</td>\n",
       "      <td>2001-08-10 14:41:04</td>\n",
       "      <td>35.0</td>\n",
       "      <td>66272</td>\n",
       "    </tr>\n",
       "    <tr>\n",
       "      <th>1000172</th>\n",
       "      <td>6040</td>\n",
       "      <td>1784</td>\n",
       "      <td>3</td>\n",
       "      <td>2001-08-10 14:41:04</td>\n",
       "      <td>0.0</td>\n",
       "      <td>66272</td>\n",
       "    </tr>\n",
       "    <tr>\n",
       "      <th>1000167</th>\n",
       "      <td>6040</td>\n",
       "      <td>161</td>\n",
       "      <td>3</td>\n",
       "      <td>2001-08-10 14:41:26</td>\n",
       "      <td>22.0</td>\n",
       "      <td>66272</td>\n",
       "    </tr>\n",
       "  </tbody>\n",
       "</table>\n",
       "<p>788341 rows × 6 columns</p>\n",
       "</div>"
      ],
      "text/plain": [
       "         UserId  ItemId  Rating                Time  Time_diff  SessionId\n",
       "31            1    3186       4 2000-12-31 22:00:19        0.0          1\n",
       "22            1    1270       5 2000-12-31 22:00:55       36.0          1\n",
       "27            1    1721       4 2000-12-31 22:00:55        0.0          1\n",
       "37            1    1022       5 2000-12-31 22:00:55        0.0          1\n",
       "24            1    2340       3 2000-12-31 22:01:43       48.0          1\n",
       "...         ...     ...     ...                 ...        ...        ...\n",
       "999923     6040     232       5 2001-08-10 14:39:58       31.0      66272\n",
       "1000019    6040    2917       4 2001-08-10 14:40:29       31.0      66272\n",
       "999988     6040    1921       4 2001-08-10 14:41:04       35.0      66272\n",
       "1000172    6040    1784       3 2001-08-10 14:41:04        0.0      66272\n",
       "1000167    6040     161       3 2001-08-10 14:41:26       22.0      66272\n",
       "\n",
       "[788341 rows x 6 columns]"
      ]
     },
     "execution_count": 27,
     "metadata": {},
     "output_type": "execute_result"
    }
   ],
   "source": [
    "data = cleanse_recursive(data, shortest=3, least_click=30)\n",
    "data"
   ]
  },
  {
   "cell_type": "markdown",
   "id": "aware-summit",
   "metadata": {},
   "source": [
    "## 1.5 Train/ Valid/ Test split\n",
    "데이터셋 분리"
   ]
  },
  {
   "cell_type": "code",
   "execution_count": 28,
   "id": "centered-programming",
   "metadata": {},
   "outputs": [],
   "source": [
    "def split_by_date(data: pd.DataFrame, n_days: int):\n",
    "    final_time = data['Time'].max()\n",
    "    session_last_time = data.groupby('SessionId')['Time'].max()\n",
    "    session_in_train = session_last_time[session_last_time < final_time - dt.timedelta(n_days)].index\n",
    "    session_in_test = session_last_time[session_last_time >= final_time - dt.timedelta(n_days)].index\n",
    "\n",
    "    before_date = data[data['SessionId'].isin(session_in_train)]\n",
    "    after_date = data[data['SessionId'].isin(session_in_test)]\n",
    "    after_date = after_date[after_date['ItemId'].isin(before_date['ItemId'])]\n",
    "    return before_date, after_date"
   ]
  },
  {
   "cell_type": "code",
   "execution_count": 29,
   "id": "accepted-stopping",
   "metadata": {},
   "outputs": [],
   "source": [
    "tr, test = split_by_date(data, n_days=60)\n",
    "tr, val = split_by_date(tr, n_days=90)"
   ]
  },
  {
   "cell_type": "code",
   "execution_count": 32,
   "id": "geographic-oxford",
   "metadata": {},
   "outputs": [],
   "source": [
    "# data에 대한 정보를 살펴봅니다.\n",
    "def stats_info(data: pd.DataFrame, status: str):\n",
    "    print(f'* {status} Set Stats Info\\n'\n",
    "          f'\\t Events: {len(data)}\\n'\n",
    "          f'\\t Sessions: {data[\"SessionId\"].nunique()}\\n'\n",
    "          f'\\t Items: {data[\"ItemId\"].nunique()}\\n'\n",
    "          f'\\t First Time : {data[\"Time\"].min()}\\n'\n",
    "          f'\\t Last Time : {data[\"Time\"].max()}\\n')"
   ]
  },
  {
   "cell_type": "code",
   "execution_count": 33,
   "id": "pressed-contemporary",
   "metadata": {},
   "outputs": [
    {
     "name": "stdout",
     "output_type": "stream",
     "text": [
      "* train Set Stats Info\n",
      "\t Events: 779068\n",
      "\t Sessions: 34422\n",
      "\t Items: 2510\n",
      "\t First Time : 2000-04-25 23:05:32\n",
      "\t Last Time : 2002-09-30 16:19:28\n",
      "\n",
      "* valid Set Stats Info\n",
      "\t Events: 4476\n",
      "\t Sessions: 327\n",
      "\t Items: 1532\n",
      "\t First Time : 2000-04-27 15:17:08\n",
      "\t Last Time : 2002-12-30 02:26:14\n",
      "\n",
      "* test Set Stats Info\n",
      "\t Events: 4797\n",
      "\t Sessions: 311\n",
      "\t Items: 1549\n",
      "\t First Time : 2000-05-01 05:44:56\n",
      "\t Last Time : 2003-02-28 17:49:50\n",
      "\n"
     ]
    }
   ],
   "source": [
    "stats_info(tr, 'train')\n",
    "stats_info(val, 'valid')\n",
    "stats_info(test, 'test')"
   ]
  },
  {
   "cell_type": "markdown",
   "id": "alternative-paragraph",
   "metadata": {},
   "source": [
    "기간이 뭔가 이상하게 나오는데 예제와 똑같이 했는데 왜 이렇게 되는지 모르겠다.."
   ]
  },
  {
   "cell_type": "code",
   "execution_count": 34,
   "id": "green-herald",
   "metadata": {},
   "outputs": [],
   "source": [
    "# train set에 없는 아이템이 val, test기간에 생길 수 있으므로 train data를 기준으로 인덱싱합니다.\n",
    "id2idx = {item_id : index for index, item_id in enumerate(tr['ItemId'].unique())}\n",
    "\n",
    "def indexing(df, id2idx):\n",
    "    df['item_idx'] = df['ItemId'].map(lambda x: id2idx.get(x, -1))  # id2idx에 없는 아이템은 모르는 값(-1) 처리 해줍니다.\n",
    "    return df\n",
    "\n",
    "tr = indexing(tr, id2idx)\n",
    "val = indexing(val, id2idx)\n",
    "test = indexing(test, id2idx)"
   ]
  },
  {
   "cell_type": "markdown",
   "id": "constitutional-style",
   "metadata": {},
   "source": [
    "분리한 데이터셋을 저장해놓는다."
   ]
  },
  {
   "cell_type": "code",
   "execution_count": 35,
   "id": "fixed-scale",
   "metadata": {},
   "outputs": [],
   "source": [
    "save_path = data_path / 'processed'\n",
    "save_path.mkdir(parents=True, exist_ok=True)\n",
    "\n",
    "tr.to_pickle(save_path / 'train.pkl')\n",
    "val.to_pickle(save_path / 'valid.pkl')\n",
    "test.to_pickle(save_path / 'test.pkl')"
   ]
  },
  {
   "cell_type": "markdown",
   "id": "pleasant-entry",
   "metadata": {},
   "source": [
    "# Step 2. 미니 배치의 구성\n",
    "실습코드 내역을 참고하여 데이터셋과 미니 배치를 구성해 봅시다. Session-Parallel Mini-Batch의 개념에 따라, 학습 속도의 저하가 최소화될 수 있도록 구성합니다."
   ]
  },
  {
   "cell_type": "code",
   "execution_count": 36,
   "id": "educated-dominant",
   "metadata": {},
   "outputs": [],
   "source": [
    "class SessionDataset:\n",
    "    \"\"\"Credit to yhs-968/pyGRU4REC.\"\"\"\n",
    "\n",
    "    def __init__(self, data):\n",
    "        self.df = data\n",
    "        self.click_offsets = self.get_click_offsets()\n",
    "        self.session_idx = np.arange(self.df['UserId'].nunique())  # indexing to SessionId\n",
    "\n",
    "    def get_click_offsets(self):\n",
    "        \"\"\"\n",
    "        Return the indexes of the first click of each session IDs,\n",
    "        \"\"\"\n",
    "        offsets = np.zeros(self.df['UserId'].nunique() + 1, dtype=np.int32)\n",
    "        offsets[1:] = self.df.groupby('UserId').size().cumsum()\n",
    "        return offsets"
   ]
  },
  {
   "cell_type": "code",
   "execution_count": 37,
   "id": "tough-queensland",
   "metadata": {},
   "outputs": [
    {
     "data": {
      "text/html": [
       "<div>\n",
       "<style scoped>\n",
       "    .dataframe tbody tr th:only-of-type {\n",
       "        vertical-align: middle;\n",
       "    }\n",
       "\n",
       "    .dataframe tbody tr th {\n",
       "        vertical-align: top;\n",
       "    }\n",
       "\n",
       "    .dataframe thead th {\n",
       "        text-align: right;\n",
       "    }\n",
       "</style>\n",
       "<table border=\"1\" class=\"dataframe\">\n",
       "  <thead>\n",
       "    <tr style=\"text-align: right;\">\n",
       "      <th></th>\n",
       "      <th>UserId</th>\n",
       "      <th>ItemId</th>\n",
       "      <th>Rating</th>\n",
       "      <th>Time</th>\n",
       "      <th>Time_diff</th>\n",
       "      <th>SessionId</th>\n",
       "      <th>item_idx</th>\n",
       "    </tr>\n",
       "  </thead>\n",
       "  <tbody>\n",
       "    <tr>\n",
       "      <th>31</th>\n",
       "      <td>1</td>\n",
       "      <td>3186</td>\n",
       "      <td>4</td>\n",
       "      <td>2000-12-31 22:00:19</td>\n",
       "      <td>0.0</td>\n",
       "      <td>1</td>\n",
       "      <td>0</td>\n",
       "    </tr>\n",
       "    <tr>\n",
       "      <th>22</th>\n",
       "      <td>1</td>\n",
       "      <td>1270</td>\n",
       "      <td>5</td>\n",
       "      <td>2000-12-31 22:00:55</td>\n",
       "      <td>36.0</td>\n",
       "      <td>1</td>\n",
       "      <td>1</td>\n",
       "    </tr>\n",
       "    <tr>\n",
       "      <th>27</th>\n",
       "      <td>1</td>\n",
       "      <td>1721</td>\n",
       "      <td>4</td>\n",
       "      <td>2000-12-31 22:00:55</td>\n",
       "      <td>0.0</td>\n",
       "      <td>1</td>\n",
       "      <td>2</td>\n",
       "    </tr>\n",
       "    <tr>\n",
       "      <th>37</th>\n",
       "      <td>1</td>\n",
       "      <td>1022</td>\n",
       "      <td>5</td>\n",
       "      <td>2000-12-31 22:00:55</td>\n",
       "      <td>0.0</td>\n",
       "      <td>1</td>\n",
       "      <td>3</td>\n",
       "    </tr>\n",
       "    <tr>\n",
       "      <th>24</th>\n",
       "      <td>1</td>\n",
       "      <td>2340</td>\n",
       "      <td>3</td>\n",
       "      <td>2000-12-31 22:01:43</td>\n",
       "      <td>48.0</td>\n",
       "      <td>1</td>\n",
       "      <td>4</td>\n",
       "    </tr>\n",
       "    <tr>\n",
       "      <th>...</th>\n",
       "      <td>...</td>\n",
       "      <td>...</td>\n",
       "      <td>...</td>\n",
       "      <td>...</td>\n",
       "      <td>...</td>\n",
       "      <td>...</td>\n",
       "      <td>...</td>\n",
       "    </tr>\n",
       "    <tr>\n",
       "      <th>999923</th>\n",
       "      <td>6040</td>\n",
       "      <td>232</td>\n",
       "      <td>5</td>\n",
       "      <td>2001-08-10 14:39:58</td>\n",
       "      <td>31.0</td>\n",
       "      <td>66272</td>\n",
       "      <td>952</td>\n",
       "    </tr>\n",
       "    <tr>\n",
       "      <th>1000019</th>\n",
       "      <td>6040</td>\n",
       "      <td>2917</td>\n",
       "      <td>4</td>\n",
       "      <td>2001-08-10 14:40:29</td>\n",
       "      <td>31.0</td>\n",
       "      <td>66272</td>\n",
       "      <td>1066</td>\n",
       "    </tr>\n",
       "    <tr>\n",
       "      <th>999988</th>\n",
       "      <td>6040</td>\n",
       "      <td>1921</td>\n",
       "      <td>4</td>\n",
       "      <td>2001-08-10 14:41:04</td>\n",
       "      <td>35.0</td>\n",
       "      <td>66272</td>\n",
       "      <td>306</td>\n",
       "    </tr>\n",
       "    <tr>\n",
       "      <th>1000172</th>\n",
       "      <td>6040</td>\n",
       "      <td>1784</td>\n",
       "      <td>3</td>\n",
       "      <td>2001-08-10 14:41:04</td>\n",
       "      <td>0.0</td>\n",
       "      <td>66272</td>\n",
       "      <td>84</td>\n",
       "    </tr>\n",
       "    <tr>\n",
       "      <th>1000167</th>\n",
       "      <td>6040</td>\n",
       "      <td>161</td>\n",
       "      <td>3</td>\n",
       "      <td>2001-08-10 14:41:26</td>\n",
       "      <td>22.0</td>\n",
       "      <td>66272</td>\n",
       "      <td>400</td>\n",
       "    </tr>\n",
       "  </tbody>\n",
       "</table>\n",
       "<p>779068 rows × 7 columns</p>\n",
       "</div>"
      ],
      "text/plain": [
       "         UserId  ItemId  Rating                Time  Time_diff  SessionId  \\\n",
       "31            1    3186       4 2000-12-31 22:00:19        0.0          1   \n",
       "22            1    1270       5 2000-12-31 22:00:55       36.0          1   \n",
       "27            1    1721       4 2000-12-31 22:00:55        0.0          1   \n",
       "37            1    1022       5 2000-12-31 22:00:55        0.0          1   \n",
       "24            1    2340       3 2000-12-31 22:01:43       48.0          1   \n",
       "...         ...     ...     ...                 ...        ...        ...   \n",
       "999923     6040     232       5 2001-08-10 14:39:58       31.0      66272   \n",
       "1000019    6040    2917       4 2001-08-10 14:40:29       31.0      66272   \n",
       "999988     6040    1921       4 2001-08-10 14:41:04       35.0      66272   \n",
       "1000172    6040    1784       3 2001-08-10 14:41:04        0.0      66272   \n",
       "1000167    6040     161       3 2001-08-10 14:41:26       22.0      66272   \n",
       "\n",
       "         item_idx  \n",
       "31              0  \n",
       "22              1  \n",
       "27              2  \n",
       "37              3  \n",
       "24              4  \n",
       "...           ...  \n",
       "999923        952  \n",
       "1000019      1066  \n",
       "999988        306  \n",
       "1000172        84  \n",
       "1000167       400  \n",
       "\n",
       "[779068 rows x 7 columns]"
      ]
     },
     "execution_count": 37,
     "metadata": {},
     "output_type": "execute_result"
    }
   ],
   "source": [
    "tr_dataset = SessionDataset(tr)\n",
    "\n",
    "tr_dataset.df"
   ]
  },
  {
   "cell_type": "code",
   "execution_count": 38,
   "id": "collected-killer",
   "metadata": {},
   "outputs": [
    {
     "data": {
      "text/plain": [
       "array([     0,     50,    165, ..., 778688, 778807, 779068], dtype=int32)"
      ]
     },
     "execution_count": 38,
     "metadata": {},
     "output_type": "execute_result"
    }
   ],
   "source": [
    "tr_dataset.click_offsets"
   ]
  },
  {
   "cell_type": "code",
   "execution_count": 39,
   "id": "vertical-london",
   "metadata": {},
   "outputs": [
    {
     "data": {
      "text/plain": [
       "array([   0,    1,    2, ..., 6018, 6019, 6020])"
      ]
     },
     "execution_count": 39,
     "metadata": {},
     "output_type": "execute_result"
    }
   ],
   "source": [
    "tr_dataset.session_idx"
   ]
  },
  {
   "cell_type": "code",
   "execution_count": 40,
   "id": "convenient-industry",
   "metadata": {},
   "outputs": [],
   "source": [
    "class SessionDataLoader:\n",
    "    \"\"\"Credit to yhs-968/pyGRU4REC.\"\"\"\n",
    "\n",
    "    def __init__(self, dataset: SessionDataset, batch_size=50):\n",
    "        self.dataset = dataset\n",
    "        self.batch_size = batch_size\n",
    "\n",
    "    def __iter__(self):\n",
    "        \"\"\" Returns the iterator for producing session-parallel training mini-batches.\n",
    "        Yields:\n",
    "            input (B,):  Item indices that will be encoded as one-hot vectors later.\n",
    "            target (B,): a Variable that stores the target item indices\n",
    "            masks: Numpy array indicating the positions of the sessions to be terminated\n",
    "        \"\"\"\n",
    "\n",
    "        start, end, mask, last_session, finished = self.initialize()  # initialize 메소드에서 확인해주세요.\n",
    "        \"\"\"\n",
    "        start : Index Where Session Start\n",
    "        end : Index Where Session End\n",
    "        mask : indicator for the sessions to be terminated\n",
    "        \"\"\"\n",
    "\n",
    "        while not finished:\n",
    "            min_len = (end - start).min() - 1  # Shortest Length Among Sessions\n",
    "            for i in range(min_len):\n",
    "                # Build inputs & targets\n",
    "                inp = self.dataset.df['item_idx'].values[start + i]\n",
    "                target = self.dataset.df['item_idx'].values[start + i + 1]\n",
    "                yield inp, target, mask\n",
    "\n",
    "            start, end, mask, last_session, finished = self.update_status(start, end, min_len, last_session, finished)\n",
    "\n",
    "    def initialize(self):\n",
    "        first_iters = np.arange(self.batch_size)    # 첫 배치에 사용할 세션 Index를 가져옵니다.\n",
    "        last_session = self.batch_size - 1          # 마지막으로 다루고 있는 세션 Index를 저장해둡니다.\n",
    "        start = self.dataset.click_offsets[self.dataset.session_idx[first_iters]]       # data 상에서 session이 시작된 위치를 가져옵니다.\n",
    "        end = self.dataset.click_offsets[self.dataset.session_idx[first_iters] + 1]     # session이 끝난 위치 바로 다음 위치를 가져옵니다.\n",
    "        mask = np.array([])       # session의 모든 아이템을 다 돌은 경우 mask에 추가해줄 것입니다.\n",
    "        finished = False         # data를 전부 돌았는지 기록하기 위한 변수입니다.\n",
    "        return start, end, mask, last_session, finished\n",
    "\n",
    "    def update_status(self, start: np.ndarray, end: np.ndarray, min_len: int, last_session: int, finished: bool):  \n",
    "        # 다음 배치 데이터를 생성하기 위해 상태를 update합니다.\n",
    "        \n",
    "        start += min_len   # __iter__에서 min_len 만큼 for문을 돌았으므로 start를 min_len 만큼 더해줍니다.\n",
    "        mask = np.arange(self.batch_size)[(end - start) == 1]  \n",
    "        # end는 다음 세션이 시작되는 위치인데 start와 한 칸 차이난다는 것은 session이 끝났다는 뜻입니다. mask에 기록해줍니다.\n",
    "\n",
    "        for i, idx in enumerate(mask, start=1):  # mask에 추가된 세션 개수만큼 새로운 세션을 돌것입니다.\n",
    "            new_session = last_session + i  \n",
    "            if new_session > self.dataset.session_idx[-1]:  # 만약 새로운 세션이 마지막 세션 index보다 크다면 모든 학습데이터를 돈 것입니다.\n",
    "                finished = True\n",
    "                break\n",
    "            # update the next starting/ending point\n",
    "            start[idx] = self.dataset.click_offsets[self.dataset.session_idx[new_session]]     # 종료된 세션 대신 새로운 세션의 시작점을 기록합니다.\n",
    "            end[idx] = self.dataset.click_offsets[self.dataset.session_idx[new_session] + 1]\n",
    "\n",
    "        last_session += len(mask)  # 마지막 세션의 위치를 기록해둡니다.\n",
    "        return start, end, mask, last_session, finished"
   ]
  },
  {
   "cell_type": "markdown",
   "id": "corporate-sacrifice",
   "metadata": {},
   "source": [
    "# Step 3. 모델 구성\n",
    "이 부분도 실습코드 내역을 참고하여 다양하게 모델 구조를 시도해볼 수 있습니다."
   ]
  },
  {
   "cell_type": "code",
   "execution_count": 41,
   "id": "distinguished-cause",
   "metadata": {},
   "outputs": [],
   "source": [
    "def mrr_k(pred, truth: int, k: int):\n",
    "    indexing = np.where(pred[:k] == truth)[0]\n",
    "    if len(indexing) > 0:\n",
    "        return 1 / (indexing[0] + 1)\n",
    "    else:\n",
    "        return 0\n",
    "\n",
    "\n",
    "def recall_k(pred, truth: int, k: int) -> int:\n",
    "    answer = truth in pred[:k]\n",
    "    return int(answer)"
   ]
  },
  {
   "cell_type": "code",
   "execution_count": 42,
   "id": "collected-sodium",
   "metadata": {},
   "outputs": [],
   "source": [
    "import numpy as np\n",
    "import tensorflow as tf\n",
    "from tensorflow.keras.layers import Input, Dense, Dropout, GRU\n",
    "from tensorflow.keras.losses import categorical_crossentropy\n",
    "from tensorflow.keras.models import Model\n",
    "from tensorflow.keras.optimizers import Adam\n",
    "from tensorflow.keras.utils import to_categorical\n",
    "from tqdm import tqdm"
   ]
  },
  {
   "cell_type": "code",
   "execution_count": 43,
   "id": "compact-surface",
   "metadata": {},
   "outputs": [],
   "source": [
    "def create_model(args):\n",
    "    inputs = Input(batch_shape=(args.batch_size, 1, args.num_items))\n",
    "    gru, _ = GRU(args.hsz, stateful=True, return_state=True, name='GRU')(inputs)\n",
    "    dropout = Dropout(args.drop_rate)(gru)\n",
    "    predictions = Dense(args.num_items, activation='softmax')(dropout)\n",
    "    model = Model(inputs=inputs, outputs=[predictions])\n",
    "    model.compile(loss=categorical_crossentropy, optimizer=Adam(args.lr), metrics=['accuracy'])\n",
    "    model.summary()\n",
    "    return model"
   ]
  },
  {
   "cell_type": "code",
   "execution_count": 44,
   "id": "competitive-timing",
   "metadata": {},
   "outputs": [],
   "source": [
    "class Args:\n",
    "    def __init__(self, tr, val, test, batch_size, hsz, drop_rate, lr, epochs, k):\n",
    "        self.tr = tr\n",
    "        self.val = val\n",
    "        self.test = test\n",
    "        self.num_items = tr['ItemId'].nunique()\n",
    "        self.num_sessions = tr['SessionId'].nunique()\n",
    "        self.batch_size = batch_size\n",
    "        self.hsz = hsz\n",
    "        self.drop_rate = drop_rate\n",
    "        self.lr = lr\n",
    "        self.epochs = epochs\n",
    "        self.k = k\n",
    "\n",
    "# 하이퍼파라미터를 가지고 있는 객체 생성\n",
    "args = Args(tr, val, test, batch_size=32, hsz=50, drop_rate=0.1, lr=0.001, epochs=3, k=20)"
   ]
  },
  {
   "cell_type": "code",
   "execution_count": 39,
   "id": "complex-feelings",
   "metadata": {},
   "outputs": [
    {
     "name": "stdout",
     "output_type": "stream",
     "text": [
      "Model: \"model\"\n",
      "_________________________________________________________________\n",
      "Layer (type)                 Output Shape              Param #   \n",
      "=================================================================\n",
      "input_1 (InputLayer)         [(32, 1, 3696)]           0         \n",
      "_________________________________________________________________\n",
      "GRU (GRU)                    [(32, 50), (32, 50)]      562200    \n",
      "_________________________________________________________________\n",
      "dropout (Dropout)            (32, 50)                  0         \n",
      "_________________________________________________________________\n",
      "dense (Dense)                (32, 3696)                188496    \n",
      "=================================================================\n",
      "Total params: 750,696\n",
      "Trainable params: 750,696\n",
      "Non-trainable params: 0\n",
      "_________________________________________________________________\n"
     ]
    }
   ],
   "source": [
    "model = create_model(args)"
   ]
  },
  {
   "cell_type": "code",
   "execution_count": 48,
   "id": "binding-hostel",
   "metadata": {},
   "outputs": [],
   "source": [
    "# train 셋으로 학습하면서 valid 셋으로 검증합니다.\n",
    "def train_model(model, args):\n",
    "    train_dataset = SessionDataset(args.tr)\n",
    "    train_loader = SessionDataLoader(train_dataset, batch_size=args.batch_size)\n",
    "\n",
    "    for epoch in range(1, args.epochs + 1):\n",
    "        total_step = len(args.tr) - args.tr['SessionId'].nunique()\n",
    "        tr_loader = tqdm(train_loader, total=total_step // args.batch_size, desc='Train', mininterval=1)\n",
    "        for feat, target, mask in tr_loader:\n",
    "            reset_hidden_states(model, mask)  # 종료된 session은 hidden_state를 초기화합니다. 아래 메서드에서 확인해주세요.\n",
    "\n",
    "            input_ohe = to_categorical(feat, num_classes=args.num_items)\n",
    "            input_ohe = np.expand_dims(input_ohe, axis=1)\n",
    "            target_ohe = to_categorical(target, num_classes=args.num_items)\n",
    "\n",
    "            result = model.train_on_batch(input_ohe, target_ohe)\n",
    "            tr_loader.set_postfix(train_loss=result[0], accuracy = result[1])\n",
    "\n",
    "        val_recall, val_mrr = get_metrics(args.val, model, args, args.k)  # valid set에 대해 검증합니다.\n",
    "\n",
    "        print(f\"\\t - Recall@{args.k} epoch {epoch}: {val_recall:3f}\")\n",
    "        print(f\"\\t - MRR@{args.k}    epoch {epoch}: {val_mrr:3f}\\n\")\n",
    "\n",
    "\n",
    "def reset_hidden_states(model, mask):\n",
    "    gru_layer = model.get_layer(name='GRU')  # model에서 gru layer를 가져옵니다.\n",
    "    hidden_states = gru_layer.states[0].numpy()  # gru_layer의 parameter를 가져옵니다.\n",
    "    for elt in mask:  # mask된 인덱스 즉, 종료된 세션의 인덱스를 돌면서\n",
    "        hidden_states[elt, :] = 0  # parameter를 초기화 합니다.\n",
    "    gru_layer.reset_states(states=hidden_states)\n",
    "\n",
    "\n",
    "def get_metrics(data, model, args, k: int):  # valid셋과 test셋을 평가하는 코드입니다. \n",
    "                                             # train과 거의 같지만 mrr, recall을 구하는 라인이 있습니다.\n",
    "    dataset = SessionDataset(data)\n",
    "    loader = SessionDataLoader(dataset, batch_size=args.batch_size)\n",
    "    recall_list, mrr_list = [], []\n",
    "\n",
    "    total_step = len(data) - data['SessionId'].nunique()\n",
    "    for inputs, label, mask in tqdm(loader, total=total_step // args.batch_size, desc='Evaluation', mininterval=1):\n",
    "        reset_hidden_states(model, mask)\n",
    "        input_ohe = to_categorical(inputs, num_classes=args.num_items)\n",
    "        input_ohe = np.expand_dims(input_ohe, axis=1)\n",
    "\n",
    "        pred = model.predict(input_ohe, batch_size=args.batch_size)\n",
    "        pred_arg = tf.argsort(pred, direction='DESCENDING')  # softmax 값이 큰 순서대로 sorting 합니다.\n",
    "\n",
    "        length = len(inputs)\n",
    "        recall_list.extend([recall_k(pred_arg[i], label[i], k) for i in range(length)])\n",
    "        mrr_list.extend([mrr_k(pred_arg[i], label[i], k) for i in range(length)])\n",
    "\n",
    "    recall, mrr = np.mean(recall_list), np.mean(mrr_list)\n",
    "    return recall, mrr"
   ]
  },
  {
   "cell_type": "markdown",
   "id": "healthy-franklin",
   "metadata": {},
   "source": [
    "# Step 4. 모델 학습\n",
    "다양한 하이퍼파라미터를 변경해 보며 검증해 보도록 합니다."
   ]
  },
  {
   "cell_type": "code",
   "execution_count": 41,
   "id": "forced-occupation",
   "metadata": {},
   "outputs": [
    {
     "name": "stderr",
     "output_type": "stream",
     "text": [
      "Train:  99%|█████████▉| 28991/29161 [11:05<00:03, 43.57it/s, accuracy=0, train_loss=5.82]     \n",
      "Evaluation:  89%|████████▉ | 804/903 [02:53<00:21,  4.63it/s]\n",
      "Train:   0%|          | 0/29161 [00:00<?, ?it/s, accuracy=0.0938, train_loss=5.82]"
     ]
    },
    {
     "name": "stdout",
     "output_type": "stream",
     "text": [
      "\t - Recall@20 epoch 1: 0.286342\n",
      "\t - MRR@20    epoch 1: 0.080407\n",
      "\n"
     ]
    },
    {
     "name": "stderr",
     "output_type": "stream",
     "text": [
      "Train:  99%|█████████▉| 28991/29161 [09:33<00:03, 50.55it/s, accuracy=0.0312, train_loss=5.62]\n",
      "Evaluation:  89%|████████▉ | 804/903 [02:51<00:21,  4.69it/s]\n",
      "Train:   0%|          | 0/29161 [00:00<?, ?it/s, accuracy=0.0312, train_loss=5.69]"
     ]
    },
    {
     "name": "stdout",
     "output_type": "stream",
     "text": [
      "\t - Recall@20 epoch 2: 0.322334\n",
      "\t - MRR@20    epoch 2: 0.097345\n",
      "\n"
     ]
    },
    {
     "name": "stderr",
     "output_type": "stream",
     "text": [
      "Train:  99%|█████████▉| 28991/29161 [18:08<00:06, 26.62it/s, accuracy=0, train_loss=5.67]     \n",
      "Evaluation:  89%|████████▉ | 804/903 [03:38<00:26,  3.68it/s]"
     ]
    },
    {
     "name": "stdout",
     "output_type": "stream",
     "text": [
      "\t - Recall@20 epoch 3: 0.332167\n",
      "\t - MRR@20    epoch 3: 0.104171\n",
      "\n"
     ]
    },
    {
     "name": "stderr",
     "output_type": "stream",
     "text": [
      "\n"
     ]
    }
   ],
   "source": [
    "train_model(model, args)"
   ]
  },
  {
   "cell_type": "markdown",
   "id": "healthy-shield",
   "metadata": {},
   "source": [
    "# Step 5. 모델 테스트\n",
    "미리 구성한 테스트셋을 바탕으로 Recall, MRR 을 확인해 봅니다."
   ]
  },
  {
   "cell_type": "code",
   "execution_count": 45,
   "id": "competitive-block",
   "metadata": {},
   "outputs": [
    {
     "name": "stderr",
     "output_type": "stream",
     "text": [
      "Evaluation:  92%|█████████▏| 900/979 [04:06<00:21,  3.66it/s]"
     ]
    },
    {
     "name": "stdout",
     "output_type": "stream",
     "text": [
      "\t - Recall@20: 0.337708\n",
      "\t - MRR@20: 0.103922\n",
      "\n"
     ]
    },
    {
     "name": "stderr",
     "output_type": "stream",
     "text": [
      "\n"
     ]
    }
   ],
   "source": [
    "def test_model(model, args, test):\n",
    "    test_recall, test_mrr = get_metrics(test, model, args, 20)\n",
    "    print(f\"\\t - Recall@{args.k}: {test_recall:3f}\")\n",
    "    print(f\"\\t - MRR@{args.k}: {test_mrr:3f}\\n\")\n",
    "\n",
    "test_model(model, args, test)"
   ]
  },
  {
   "cell_type": "markdown",
   "id": "accurate-banner",
   "metadata": {},
   "source": [
    "# 다양한 시도"
   ]
  },
  {
   "cell_type": "markdown",
   "id": "occasional-refund",
   "metadata": {},
   "source": [
    "## 모델2\n",
    "- 하이퍼파라미터 그대로\n",
    "- Rating 작은 데이터 제거, SessionId생성기준 수정 등 데이터전처리"
   ]
  },
  {
   "cell_type": "code",
   "execution_count": 46,
   "id": "killing-syndication",
   "metadata": {},
   "outputs": [
    {
     "name": "stdout",
     "output_type": "stream",
     "text": [
      "Model: \"model_1\"\n",
      "_________________________________________________________________\n",
      "Layer (type)                 Output Shape              Param #   \n",
      "=================================================================\n",
      "input_2 (InputLayer)         [(32, 1, 2510)]           0         \n",
      "_________________________________________________________________\n",
      "GRU (GRU)                    [(32, 50), (32, 50)]      384300    \n",
      "_________________________________________________________________\n",
      "dropout_1 (Dropout)          (32, 50)                  0         \n",
      "_________________________________________________________________\n",
      "dense_1 (Dense)              (32, 2510)                128010    \n",
      "=================================================================\n",
      "Total params: 512,310\n",
      "Trainable params: 512,310\n",
      "Non-trainable params: 0\n",
      "_________________________________________________________________\n"
     ]
    }
   ],
   "source": [
    "args = Args(tr, val, test, batch_size=32, hsz=50, drop_rate=0.2, lr=0.001, epochs=3, k=20)\n",
    "model2 = create_model(args)"
   ]
  },
  {
   "cell_type": "code",
   "execution_count": 49,
   "id": "satisfied-bullet",
   "metadata": {},
   "outputs": [
    {
     "name": "stderr",
     "output_type": "stream",
     "text": [
      "Train: 24019it [04:52, 82.07it/s, accuracy=0, train_loss=5.3]                                 \n",
      "Evaluation:  67%|██████▋   | 87/129 [00:19<00:09,  4.44it/s]\n",
      "Train:   0%|          | 0/23270 [00:00<?, ?it/s, accuracy=0.0312, train_loss=6.14]"
     ]
    },
    {
     "name": "stdout",
     "output_type": "stream",
     "text": [
      "\t - Recall@20 epoch 1: 0.188578\n",
      "\t - MRR@20    epoch 1: 0.048029\n",
      "\n"
     ]
    },
    {
     "name": "stderr",
     "output_type": "stream",
     "text": [
      "Train: 24019it [04:57, 80.87it/s, accuracy=0.0312, train_loss=5.07]                           \n",
      "Evaluation:  67%|██████▋   | 87/129 [00:18<00:08,  4.72it/s]\n",
      "Train:   0%|          | 0/23270 [00:00<?, ?it/s, accuracy=0.0625, train_loss=5.46]"
     ]
    },
    {
     "name": "stdout",
     "output_type": "stream",
     "text": [
      "\t - Recall@20 epoch 2: 0.216236\n",
      "\t - MRR@20    epoch 2: 0.056244\n",
      "\n"
     ]
    },
    {
     "name": "stderr",
     "output_type": "stream",
     "text": [
      "Train: 24019it [04:40, 85.57it/s, accuracy=0.0625, train_loss=4.83]                           \n",
      "Evaluation:  67%|██████▋   | 87/129 [00:17<00:08,  4.84it/s]"
     ]
    },
    {
     "name": "stdout",
     "output_type": "stream",
     "text": [
      "\t - Recall@20 epoch 3: 0.220187\n",
      "\t - MRR@20    epoch 3: 0.059135\n",
      "\n"
     ]
    },
    {
     "name": "stderr",
     "output_type": "stream",
     "text": [
      "\n"
     ]
    }
   ],
   "source": [
    "train_model(model2, args)"
   ]
  },
  {
   "cell_type": "markdown",
   "id": "perceived-nursery",
   "metadata": {},
   "source": [
    "데이터 전처리로 불필요한 데이터를 제거하니 학습시간이 훨씬 감소했다."
   ]
  },
  {
   "cell_type": "code",
   "execution_count": 51,
   "id": "mobile-alert",
   "metadata": {},
   "outputs": [
    {
     "name": "stderr",
     "output_type": "stream",
     "text": [
      "Evaluation:  59%|█████▉    | 83/140 [00:16<00:11,  4.91it/s]"
     ]
    },
    {
     "name": "stdout",
     "output_type": "stream",
     "text": [
      "\t - Recall@20: 0.280120\n",
      "\t - MRR@20: 0.080248\n",
      "\n"
     ]
    },
    {
     "name": "stderr",
     "output_type": "stream",
     "text": [
      "\n"
     ]
    }
   ],
   "source": [
    "def test_model(model, args, test):\n",
    "    test_recall, test_mrr = get_metrics(test, model, args, 20)\n",
    "    print(f\"\\t - Recall@{args.k}: {test_recall:3f}\")\n",
    "    print(f\"\\t - MRR@{args.k}: {test_mrr:3f}\\n\")\n",
    "\n",
    "test_model(model2, args, test)"
   ]
  },
  {
   "cell_type": "markdown",
   "id": "amended-cheat",
   "metadata": {},
   "source": [
    "Recall이 첫번째 모델에 비해 감소했다. 데이터가 줄어서일까? 아니면 drop_rate를 늘려서 일까?"
   ]
  },
  {
   "cell_type": "markdown",
   "id": "german-dietary",
   "metadata": {},
   "source": [
    "## 모델3\n",
    "- 모델2와 같은 데이터 전처리\n",
    "- 하이퍼파라미터 조정 (epochs, batch_size, k)"
   ]
  },
  {
   "cell_type": "code",
   "execution_count": 52,
   "id": "sensitive-annex",
   "metadata": {},
   "outputs": [
    {
     "name": "stdout",
     "output_type": "stream",
     "text": [
      "Model: \"model_2\"\n",
      "_________________________________________________________________\n",
      "Layer (type)                 Output Shape              Param #   \n",
      "=================================================================\n",
      "input_3 (InputLayer)         [(16, 1, 2510)]           0         \n",
      "_________________________________________________________________\n",
      "GRU (GRU)                    [(16, 50), (16, 50)]      384300    \n",
      "_________________________________________________________________\n",
      "dropout_2 (Dropout)          (16, 50)                  0         \n",
      "_________________________________________________________________\n",
      "dense_2 (Dense)              (16, 2510)                128010    \n",
      "=================================================================\n",
      "Total params: 512,310\n",
      "Trainable params: 512,310\n",
      "Non-trainable params: 0\n",
      "_________________________________________________________________\n"
     ]
    }
   ],
   "source": [
    "args1 = Args(tr, val, test, batch_size=16, hsz=50, drop_rate=0.1, lr=0.001, epochs=5, k=30)\n",
    "model3 = create_model(args1)"
   ]
  },
  {
   "cell_type": "code",
   "execution_count": 53,
   "id": "checked-capacity",
   "metadata": {},
   "outputs": [
    {
     "name": "stderr",
     "output_type": "stream",
     "text": [
      "Train: 48173it [08:00, 100.34it/s, accuracy=0, train_loss=5.4]                                 \n",
      "Evaluation:  80%|███████▉  | 206/259 [00:32<00:08,  6.34it/s]\n",
      "Train:   0%|          | 0/46540 [00:00<?, ?it/s, accuracy=0.125, train_loss=4.86] "
     ]
    },
    {
     "name": "stdout",
     "output_type": "stream",
     "text": [
      "\t - Recall@30 epoch 1: 0.272148\n",
      "\t - MRR@30    epoch 1: 0.058257\n",
      "\n"
     ]
    },
    {
     "name": "stderr",
     "output_type": "stream",
     "text": [
      "Train: 48173it [08:03, 99.71it/s, accuracy=0, train_loss=5.18]                                 \n",
      "Evaluation:  80%|███████▉  | 206/259 [00:31<00:08,  6.52it/s]\n",
      "Train:   0%|          | 0/46540 [00:00<?, ?it/s, accuracy=0.188, train_loss=4.77] "
     ]
    },
    {
     "name": "stdout",
     "output_type": "stream",
     "text": [
      "\t - Recall@30 epoch 2: 0.283677\n",
      "\t - MRR@30    epoch 2: 0.063927\n",
      "\n"
     ]
    },
    {
     "name": "stderr",
     "output_type": "stream",
     "text": [
      "Train: 48173it [07:59, 100.43it/s, accuracy=0, train_loss=5.08]                                \n",
      "Evaluation:  80%|███████▉  | 206/259 [00:31<00:08,  6.52it/s]\n",
      "Train:   0%|          | 0/46540 [00:00<?, ?it/s, accuracy=0, train_loss=5.33]     "
     ]
    },
    {
     "name": "stdout",
     "output_type": "stream",
     "text": [
      "\t - Recall@30 epoch 3: 0.284587\n",
      "\t - MRR@30    epoch 3: 0.064122\n",
      "\n"
     ]
    },
    {
     "name": "stderr",
     "output_type": "stream",
     "text": [
      "Train: 48173it [08:02, 99.76it/s, accuracy=0, train_loss=5.25]                                 \n",
      "Evaluation:  80%|███████▉  | 206/259 [00:31<00:08,  6.51it/s]\n",
      "Train:   0%|          | 0/46540 [00:00<?, ?it/s, accuracy=0.188, train_loss=5.07] "
     ]
    },
    {
     "name": "stdout",
     "output_type": "stream",
     "text": [
      "\t - Recall@30 epoch 4: 0.287318\n",
      "\t - MRR@30    epoch 4: 0.065716\n",
      "\n"
     ]
    },
    {
     "name": "stderr",
     "output_type": "stream",
     "text": [
      "Train: 48173it [08:13, 97.55it/s, accuracy=0.0625, train_loss=5.11]                            \n",
      "Evaluation:  80%|███████▉  | 206/259 [00:31<00:08,  6.44it/s]"
     ]
    },
    {
     "name": "stdout",
     "output_type": "stream",
     "text": [
      "\t - Recall@30 epoch 5: 0.291566\n",
      "\t - MRR@30    epoch 5: 0.066267\n",
      "\n"
     ]
    },
    {
     "name": "stderr",
     "output_type": "stream",
     "text": [
      "\n"
     ]
    }
   ],
   "source": [
    "train_model(model3, args1)"
   ]
  },
  {
   "cell_type": "code",
   "execution_count": 54,
   "id": "organized-stretch",
   "metadata": {},
   "outputs": [
    {
     "name": "stderr",
     "output_type": "stream",
     "text": [
      "Evaluation:  82%|████████▏ | 230/280 [00:27<00:05,  8.47it/s]"
     ]
    },
    {
     "name": "stdout",
     "output_type": "stream",
     "text": [
      "\t - Recall@30: 0.280978\n",
      "\t - MRR@30: 0.081966\n",
      "\n"
     ]
    },
    {
     "name": "stderr",
     "output_type": "stream",
     "text": [
      "\n"
     ]
    }
   ],
   "source": [
    "test_model(model3, args1, test)"
   ]
  },
  {
   "cell_type": "markdown",
   "id": "allied-tomato",
   "metadata": {},
   "source": [
    "학습시간은 너무 오래걸리긴 하지만 epoch은 크게 하는 게 더 효과적인 것 같다.<br>\n",
    "근데 모델3 역시 첫번째 모델에서 거의 모든 데이터로 학습시키긴 것보다 Recall이 낮다."
   ]
  },
  {
   "cell_type": "markdown",
   "id": "prescription-berkeley",
   "metadata": {},
   "source": [
    "# 루브릭\n",
    "\n",
    "1.Movielens 데이터셋을 session based recommendation 관점으로 전처리하는 과정이 체계적으로 진행되었다.\n",
    "- 데이터셋의 면밀한 분석을 토대로 세션단위 정의 과정(길이분석, 시간분석)을 합리적으로 수행한 과정이 기술되었다.\n",
    "\n",
    "2.RNN 기반의 예측 모델이 정상적으로 구성되어 안정적으로 훈련이 진행되었다.\n",
    "- 적절한 epoch만큼의 학습이 진행되는 과정에서 train loss가 안정적으로 감소하고, validation 단계에서의 Recall, MRR이 개선되는 것이 확인된다.\n",
    "\n",
    "3.세션정의, 모델구조, 하이퍼파라미터 등을 변경해서 실험하여 Recall, MRR 등의 변화추이를 관찰하였다.\n",
    "3가지 이상의 변화를 시도하고 그 실험결과를 체계적으로 분석하였다."
   ]
  },
  {
   "cell_type": "markdown",
   "id": "amazing-officer",
   "metadata": {},
   "source": [
    "# 회고\n",
    "\n",
    "SessionId를 지정하는 것이 제일 어려웠다. UTC Time을 datetime형식으로 먼저 변환한 후에 timedelata로 시간의 차이를 구해서 SessionId를 하나씩 더해가는 식으로 구현하려 했으나 해내지 못했다. UserId를 그대로 세션으로 사용하는 것은 몇년간의 데이터를 그대로 뭉뚱그려서 하나의 세션으로 보는 것이기 때문에 UserId를 사용하면 제대로 된 학습이 되지 않을 것이라고 생각했다. 결국 또 형준님의 도움을 받아 SessionId를 UTC Time으로도 구할 수 있다는 인사이트를 얻어서  SessionId칼럼을 생성하는 데 성공했다.\n",
    "\n",
    "<br>\n",
    "\n",
    "중간에 train, test, val 데이터셋을 분리한 후에 확인했을 때 원래는 기간이 딱 분리가 되는게 맞는 것 같은데 뭔가 이상하다. 정렬을 잘못한 탓인지 뭐때문인지 정확이 모르겠다. 근데 그 뒤의 코드들은 문제없이 돌아가는게 학습에 큰 영향이 있는 것 같기도, 중요한 것 같기도.. 긴가민가하다.\n",
    "\n",
    "<br>\n",
    "\n",
    "데이터프레임을 원하는 대로 다루기 위해서는 확실히 다양한 데이터셋을 많이 다뤄보는게 중요한 것 같다. 이번에 DataFrame.Diff메소드를 바로 떠올려서 사용하지 못한게 좀 아쉽다.\n",
    "\n",
    "<br>\n",
    "\n",
    "RNN은 학습시간이 무시못할정도로 매우 오래걸린다. 지금까지 한 프로젝트 중에 처음으로 어떻게 하면 학습시간을 줄일 수 있을까 궁금해졌다. 그래도 데이터 전처리를 좀더 한 후에 학습하니 학습시간이 많이 줄었다."
   ]
  }
 ],
 "metadata": {
  "kernelspec": {
   "display_name": "Python 3",
   "language": "python",
   "name": "python3"
  },
  "language_info": {
   "codemirror_mode": {
    "name": "ipython",
    "version": 3
   },
   "file_extension": ".py",
   "mimetype": "text/x-python",
   "name": "python",
   "nbconvert_exporter": "python",
   "pygments_lexer": "ipython3",
   "version": "3.7.9"
  }
 },
 "nbformat": 4,
 "nbformat_minor": 5
}
