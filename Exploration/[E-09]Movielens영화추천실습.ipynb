{
  "nbformat": 4,
  "nbformat_minor": 5,
  "metadata": {
    "kernelspec": {
      "display_name": "Python 3",
      "language": "python",
      "name": "python3"
    },
    "language_info": {
      "codemirror_mode": {
        "name": "ipython",
        "version": 3
      },
      "file_extension": ".py",
      "mimetype": "text/x-python",
      "name": "python",
      "nbconvert_exporter": "python",
      "pygments_lexer": "ipython3",
      "version": "3.7.9"
    },
    "colab": {
      "name": "[E-09]Movielens영화추천실습.ipynb",
      "provenance": [],
      "collapsed_sections": [
        "developed-defense",
        "indonesian-insulation",
        "mounted-suspension",
        "curious-thriller"
      ],
      "include_colab_link": true
    }
  },
  "cells": [
    {
      "cell_type": "markdown",
      "metadata": {
        "id": "view-in-github",
        "colab_type": "text"
      },
      "source": [
        "<a href=\"https://colab.research.google.com/github/Beatriz-Yun/AIFFEL_LMS/blob/main/Exploration/%5BE-09%5DMovielens%EC%98%81%ED%99%94%EC%B6%94%EC%B2%9C%EC%8B%A4%EC%8A%B5.ipynb\" target=\"_parent\"><img src=\"https://colab.research.google.com/assets/colab-badge.svg\" alt=\"Open In Colab\"/></a>"
      ]
    },
    {
      "cell_type": "markdown",
      "metadata": {
        "id": "angry-backing"
      },
      "source": [
        "# Movielens 영화 추천 실습\n",
        "- 유저가 영화에 대해 평점을 매긴 데이터가 데이터 크기 별로 있습니다. MovieLens 1M Dataset 사용을 권장합니다.\n",
        "- 별점 데이터는 대표적인 explicit 데이터입니다. 하지만 **implicit 데이터로 간주**하고 테스트해볼 수 있습니다.\n",
        "- 별점을 **시청횟수로 해석**해서 생각하겠습니다.\n",
        "- 또한 유저가 3점 미만으로 준 데이터는 선호하지 않는다고 가정하고 제외하겠습니다."
      ],
      "id": "angry-backing"
    },
    {
      "cell_type": "markdown",
      "metadata": {
        "id": "charitable-priest"
      },
      "source": [
        "## 1) 데이터 준비와 전처리\n",
        "Movielens 데이터는 **rating.dat** 안에 이미 인덱싱까지 완료된 **사용자-영화-평점 데이터**가 깔끔하게 정리되어 있습니다."
      ],
      "id": "charitable-priest"
    },
    {
      "cell_type": "code",
      "metadata": {
        "id": "objective-minority",
        "outputId": "70b9fd54-9187-4c3b-eac6-3d1d56765d3c"
      },
      "source": [
        "import pandas as pd\n",
        "import os\n",
        "\n",
        "rating_file_path=os.getenv('HOME') + '/aiffel/recommendata_iu/data/ml-1m/ratings.dat'\n",
        "ratings_cols = ['user_id', 'movie_id', 'rating', 'timestamp']\n",
        "ratings = pd.read_csv(rating_file_path, sep='::', names=ratings_cols, engine='python', encoding = \"ISO-8859-1\")\n",
        "orginal_data_size = len(ratings)    # 원본데이터 길이\n",
        "\n",
        "ratings.head()"
      ],
      "id": "objective-minority",
      "execution_count": null,
      "outputs": [
        {
          "data": {
            "text/html": [
              "<div>\n",
              "<style scoped>\n",
              "    .dataframe tbody tr th:only-of-type {\n",
              "        vertical-align: middle;\n",
              "    }\n",
              "\n",
              "    .dataframe tbody tr th {\n",
              "        vertical-align: top;\n",
              "    }\n",
              "\n",
              "    .dataframe thead th {\n",
              "        text-align: right;\n",
              "    }\n",
              "</style>\n",
              "<table border=\"1\" class=\"dataframe\">\n",
              "  <thead>\n",
              "    <tr style=\"text-align: right;\">\n",
              "      <th></th>\n",
              "      <th>user_id</th>\n",
              "      <th>movie_id</th>\n",
              "      <th>rating</th>\n",
              "      <th>timestamp</th>\n",
              "    </tr>\n",
              "  </thead>\n",
              "  <tbody>\n",
              "    <tr>\n",
              "      <th>0</th>\n",
              "      <td>1</td>\n",
              "      <td>1193</td>\n",
              "      <td>5</td>\n",
              "      <td>978300760</td>\n",
              "    </tr>\n",
              "    <tr>\n",
              "      <th>1</th>\n",
              "      <td>1</td>\n",
              "      <td>661</td>\n",
              "      <td>3</td>\n",
              "      <td>978302109</td>\n",
              "    </tr>\n",
              "    <tr>\n",
              "      <th>2</th>\n",
              "      <td>1</td>\n",
              "      <td>914</td>\n",
              "      <td>3</td>\n",
              "      <td>978301968</td>\n",
              "    </tr>\n",
              "    <tr>\n",
              "      <th>3</th>\n",
              "      <td>1</td>\n",
              "      <td>3408</td>\n",
              "      <td>4</td>\n",
              "      <td>978300275</td>\n",
              "    </tr>\n",
              "    <tr>\n",
              "      <th>4</th>\n",
              "      <td>1</td>\n",
              "      <td>2355</td>\n",
              "      <td>5</td>\n",
              "      <td>978824291</td>\n",
              "    </tr>\n",
              "  </tbody>\n",
              "</table>\n",
              "</div>"
            ],
            "text/plain": [
              "   user_id  movie_id  rating  timestamp\n",
              "0        1      1193       5  978300760\n",
              "1        1       661       3  978302109\n",
              "2        1       914       3  978301968\n",
              "3        1      3408       4  978300275\n",
              "4        1      2355       5  978824291"
            ]
          },
          "execution_count": 1,
          "metadata": {},
          "output_type": "execute_result"
        }
      ]
    },
    {
      "cell_type": "code",
      "metadata": {
        "id": "expressed-wheel",
        "outputId": "5deafef4-a1ce-4752-a8b7-9e44c2eb5ce1"
      },
      "source": [
        "# 3점 이상만 남깁니다.\n",
        "ratings = ratings[ratings['rating']>=3]\n",
        "filtered_data_size = len(ratings)    # 전처리한 데이터 길이\n",
        "\n",
        "print(f'orginal_data_size: {orginal_data_size}, filtered_data_size: {filtered_data_size}')\n",
        "print(f'Ratio of Remaining Data is {filtered_data_size / orginal_data_size:.2%}')"
      ],
      "id": "expressed-wheel",
      "execution_count": null,
      "outputs": [
        {
          "name": "stdout",
          "output_type": "stream",
          "text": [
            "orginal_data_size: 1000209, filtered_data_size: 836478\n",
            "Ratio of Remaining Data is 83.63%\n"
          ]
        }
      ]
    },
    {
      "cell_type": "code",
      "metadata": {
        "id": "southeast-alberta"
      },
      "source": [
        "# rating 컬럼의 이름을 count로 바꿉니다.\n",
        "ratings.rename(columns={'rating':'count'}, inplace=True)"
      ],
      "id": "southeast-alberta",
      "execution_count": null,
      "outputs": []
    },
    {
      "cell_type": "code",
      "metadata": {
        "id": "million-confusion",
        "outputId": "9c785801-7e97-4bc5-ef06-813fb4ede832"
      },
      "source": [
        "ratings['count']"
      ],
      "id": "million-confusion",
      "execution_count": null,
      "outputs": [
        {
          "data": {
            "text/plain": [
              "0          5\n",
              "1          3\n",
              "2          3\n",
              "3          4\n",
              "4          5\n",
              "          ..\n",
              "1000203    3\n",
              "1000205    5\n",
              "1000206    5\n",
              "1000207    4\n",
              "1000208    4\n",
              "Name: count, Length: 836478, dtype: int64"
            ]
          },
          "execution_count": 4,
          "metadata": {},
          "output_type": "execute_result"
        }
      ]
    },
    {
      "cell_type": "code",
      "metadata": {
        "id": "alert-married",
        "outputId": "db3f61ba-8f3c-463d-ba58-c6750a286a4b"
      },
      "source": [
        "# 영화 제목을 보기 위해 메타 데이터를 읽어옵니다.\n",
        "movie_file_path=os.getenv('HOME') + '/aiffel/recommendata_iu/data/ml-1m/movies.dat'\n",
        "cols = ['movie_id', 'title', 'genre'] \n",
        "movies = pd.read_csv(movie_file_path, sep='::', names=cols, engine='python', encoding='ISO-8859-1')\n",
        "\n",
        "movies.head()"
      ],
      "id": "alert-married",
      "execution_count": null,
      "outputs": [
        {
          "data": {
            "text/html": [
              "<div>\n",
              "<style scoped>\n",
              "    .dataframe tbody tr th:only-of-type {\n",
              "        vertical-align: middle;\n",
              "    }\n",
              "\n",
              "    .dataframe tbody tr th {\n",
              "        vertical-align: top;\n",
              "    }\n",
              "\n",
              "    .dataframe thead th {\n",
              "        text-align: right;\n",
              "    }\n",
              "</style>\n",
              "<table border=\"1\" class=\"dataframe\">\n",
              "  <thead>\n",
              "    <tr style=\"text-align: right;\">\n",
              "      <th></th>\n",
              "      <th>movie_id</th>\n",
              "      <th>title</th>\n",
              "      <th>genre</th>\n",
              "    </tr>\n",
              "  </thead>\n",
              "  <tbody>\n",
              "    <tr>\n",
              "      <th>0</th>\n",
              "      <td>1</td>\n",
              "      <td>Toy Story (1995)</td>\n",
              "      <td>Animation|Children's|Comedy</td>\n",
              "    </tr>\n",
              "    <tr>\n",
              "      <th>1</th>\n",
              "      <td>2</td>\n",
              "      <td>Jumanji (1995)</td>\n",
              "      <td>Adventure|Children's|Fantasy</td>\n",
              "    </tr>\n",
              "    <tr>\n",
              "      <th>2</th>\n",
              "      <td>3</td>\n",
              "      <td>Grumpier Old Men (1995)</td>\n",
              "      <td>Comedy|Romance</td>\n",
              "    </tr>\n",
              "    <tr>\n",
              "      <th>3</th>\n",
              "      <td>4</td>\n",
              "      <td>Waiting to Exhale (1995)</td>\n",
              "      <td>Comedy|Drama</td>\n",
              "    </tr>\n",
              "    <tr>\n",
              "      <th>4</th>\n",
              "      <td>5</td>\n",
              "      <td>Father of the Bride Part II (1995)</td>\n",
              "      <td>Comedy</td>\n",
              "    </tr>\n",
              "  </tbody>\n",
              "</table>\n",
              "</div>"
            ],
            "text/plain": [
              "   movie_id                               title                         genre\n",
              "0         1                    Toy Story (1995)   Animation|Children's|Comedy\n",
              "1         2                      Jumanji (1995)  Adventure|Children's|Fantasy\n",
              "2         3             Grumpier Old Men (1995)                Comedy|Romance\n",
              "3         4            Waiting to Exhale (1995)                  Comedy|Drama\n",
              "4         5  Father of the Bride Part II (1995)                        Comedy"
            ]
          },
          "execution_count": 5,
          "metadata": {},
          "output_type": "execute_result"
        }
      ]
    },
    {
      "cell_type": "markdown",
      "metadata": {
        "id": "quality-keyboard"
      },
      "source": [
        "## 2) 데이터 분석\n",
        "- ratings에 있는 유니크한 영화 개수\n",
        "- rating에 있는 유니크한 사용자 수\n",
        "- 가장 인기 있는 영화 30개(인기순)"
      ],
      "id": "quality-keyboard"
    },
    {
      "cell_type": "code",
      "metadata": {
        "id": "floral-large",
        "outputId": "db663ea2-17e7-45f6-e0b5-de3b25c9c686"
      },
      "source": [
        "# 유니크한 영화 개수\n",
        "ratings['movie_id'].nunique()"
      ],
      "id": "floral-large",
      "execution_count": null,
      "outputs": [
        {
          "data": {
            "text/plain": [
              "3628"
            ]
          },
          "execution_count": 6,
          "metadata": {},
          "output_type": "execute_result"
        }
      ]
    },
    {
      "cell_type": "code",
      "metadata": {
        "id": "monthly-barbados",
        "outputId": "c4142c3c-7529-45d4-a308-8dfb7febe553"
      },
      "source": [
        "# 유니크한 사용자 수\n",
        "ratings['user_id'].nunique()"
      ],
      "id": "monthly-barbados",
      "execution_count": null,
      "outputs": [
        {
          "data": {
            "text/plain": [
              "6039"
            ]
          },
          "execution_count": 7,
          "metadata": {},
          "output_type": "execute_result"
        }
      ]
    },
    {
      "cell_type": "code",
      "metadata": {
        "id": "collectible-sarah",
        "outputId": "02171018-e328-400d-bb9b-c104c4905ef4"
      },
      "source": [
        "# 가장 인기 있는 영화 30개\n",
        "movies_count = ratings.groupby('movie_id')['user_id'].count()\n",
        "\n",
        "movies_count.sort_values(ascending=False).head(30)"
      ],
      "id": "collectible-sarah",
      "execution_count": null,
      "outputs": [
        {
          "data": {
            "text/plain": [
              "movie_id\n",
              "2858    3211\n",
              "260     2910\n",
              "1196    2885\n",
              "1210    2716\n",
              "2028    2561\n",
              "589     2509\n",
              "593     2498\n",
              "1198    2473\n",
              "1270    2460\n",
              "2571    2434\n",
              "480     2413\n",
              "2762    2385\n",
              "608     2371\n",
              "110     2314\n",
              "1580    2297\n",
              "527     2257\n",
              "1197    2252\n",
              "2396    2213\n",
              "1617    2210\n",
              "318     2194\n",
              "858     2167\n",
              "1265    2121\n",
              "1097    2102\n",
              "2997    2066\n",
              "2716    2051\n",
              "296     2030\n",
              "356     2022\n",
              "1240    2019\n",
              "1       2000\n",
              "457     1941\n",
              "Name: user_id, dtype: int64"
            ]
          },
          "execution_count": 8,
          "metadata": {},
          "output_type": "execute_result"
        }
      ]
    },
    {
      "cell_type": "markdown",
      "metadata": {
        "id": "usual-professional"
      },
      "source": [
        "## 3) 내가 선호하는 영화를 5가지 골라서 rating에 추가해 줍시다."
      ],
      "id": "usual-professional"
    },
    {
      "cell_type": "code",
      "metadata": {
        "id": "compressed-indonesia",
        "outputId": "2fecbbc5-2f6a-4032-ab45-eb2d63f05bca"
      },
      "source": [
        "# 내가 선호하는 영화 5개\n",
        "my_favorite = ['Little Mermaid, The (1989)' , 'Cinderella (1950)' ,'Sound of Music, The (1965)' ,'Indiana Jones and the Temple of Doom (1984)' ,'Toy Story (1995)']\n",
        "\n",
        "for i in range(5):\n",
        "    temp = movies[movies['title'] == my_favorite[i]]\n",
        "    print(temp)"
      ],
      "id": "compressed-indonesia",
      "execution_count": null,
      "outputs": [
        {
          "name": "stdout",
          "output_type": "stream",
          "text": [
            "      movie_id                       title  \\\n",
            "2012      2081  Little Mermaid, The (1989)   \n",
            "\n",
            "                                            genre  \n",
            "2012  Animation|Children's|Comedy|Musical|Romance  \n",
            "      movie_id              title                         genre\n",
            "1009      1022  Cinderella (1950)  Animation|Children's|Musical\n",
            "      movie_id                       title    genre\n",
            "1022      1035  Sound of Music, The (1965)  Musical\n",
            "      movie_id                                        title             genre\n",
            "2046      2115  Indiana Jones and the Temple of Doom (1984)  Action|Adventure\n",
            "   movie_id             title                        genre\n",
            "0         1  Toy Story (1995)  Animation|Children's|Comedy\n"
          ]
        }
      ]
    },
    {
      "cell_type": "code",
      "metadata": {
        "id": "acute-wallet",
        "outputId": "b321d7a1-52cf-4742-d29c-80b4cf231971"
      },
      "source": [
        "my_favorite = [2081, 1022, 1035, 2115, 1]\n",
        "my_count = [5.0, 4.0, 5.0, 3.0, 4.0]\n",
        "my_movielist = pd.DataFrame({'user_id': ['sehui']*5, 'movie_id': my_favorite, 'count': my_count})\n",
        "\n",
        "if not ratings.isin({'user_id':['sehui']})['user_id'].any():  # user_id에 'sehui'이라는 데이터가 없다면\n",
        "    ratings = ratings.append(my_movielist)                           # 위에 임의로 만든 my_movielist 데이터를 추가해 줍니다. \n",
        "\n",
        "ratings.tail(10)"
      ],
      "id": "acute-wallet",
      "execution_count": null,
      "outputs": [
        {
          "data": {
            "text/html": [
              "<div>\n",
              "<style scoped>\n",
              "    .dataframe tbody tr th:only-of-type {\n",
              "        vertical-align: middle;\n",
              "    }\n",
              "\n",
              "    .dataframe tbody tr th {\n",
              "        vertical-align: top;\n",
              "    }\n",
              "\n",
              "    .dataframe thead th {\n",
              "        text-align: right;\n",
              "    }\n",
              "</style>\n",
              "<table border=\"1\" class=\"dataframe\">\n",
              "  <thead>\n",
              "    <tr style=\"text-align: right;\">\n",
              "      <th></th>\n",
              "      <th>user_id</th>\n",
              "      <th>movie_id</th>\n",
              "      <th>count</th>\n",
              "      <th>timestamp</th>\n",
              "    </tr>\n",
              "  </thead>\n",
              "  <tbody>\n",
              "    <tr>\n",
              "      <th>1000203</th>\n",
              "      <td>6040</td>\n",
              "      <td>1090</td>\n",
              "      <td>3.0</td>\n",
              "      <td>956715518.0</td>\n",
              "    </tr>\n",
              "    <tr>\n",
              "      <th>1000205</th>\n",
              "      <td>6040</td>\n",
              "      <td>1094</td>\n",
              "      <td>5.0</td>\n",
              "      <td>956704887.0</td>\n",
              "    </tr>\n",
              "    <tr>\n",
              "      <th>1000206</th>\n",
              "      <td>6040</td>\n",
              "      <td>562</td>\n",
              "      <td>5.0</td>\n",
              "      <td>956704746.0</td>\n",
              "    </tr>\n",
              "    <tr>\n",
              "      <th>1000207</th>\n",
              "      <td>6040</td>\n",
              "      <td>1096</td>\n",
              "      <td>4.0</td>\n",
              "      <td>956715648.0</td>\n",
              "    </tr>\n",
              "    <tr>\n",
              "      <th>1000208</th>\n",
              "      <td>6040</td>\n",
              "      <td>1097</td>\n",
              "      <td>4.0</td>\n",
              "      <td>956715569.0</td>\n",
              "    </tr>\n",
              "    <tr>\n",
              "      <th>0</th>\n",
              "      <td>sehui</td>\n",
              "      <td>2081</td>\n",
              "      <td>5.0</td>\n",
              "      <td>NaN</td>\n",
              "    </tr>\n",
              "    <tr>\n",
              "      <th>1</th>\n",
              "      <td>sehui</td>\n",
              "      <td>1022</td>\n",
              "      <td>4.0</td>\n",
              "      <td>NaN</td>\n",
              "    </tr>\n",
              "    <tr>\n",
              "      <th>2</th>\n",
              "      <td>sehui</td>\n",
              "      <td>1035</td>\n",
              "      <td>5.0</td>\n",
              "      <td>NaN</td>\n",
              "    </tr>\n",
              "    <tr>\n",
              "      <th>3</th>\n",
              "      <td>sehui</td>\n",
              "      <td>2115</td>\n",
              "      <td>3.0</td>\n",
              "      <td>NaN</td>\n",
              "    </tr>\n",
              "    <tr>\n",
              "      <th>4</th>\n",
              "      <td>sehui</td>\n",
              "      <td>1</td>\n",
              "      <td>4.0</td>\n",
              "      <td>NaN</td>\n",
              "    </tr>\n",
              "  </tbody>\n",
              "</table>\n",
              "</div>"
            ],
            "text/plain": [
              "        user_id  movie_id  count    timestamp\n",
              "1000203    6040      1090    3.0  956715518.0\n",
              "1000205    6040      1094    5.0  956704887.0\n",
              "1000206    6040       562    5.0  956704746.0\n",
              "1000207    6040      1096    4.0  956715648.0\n",
              "1000208    6040      1097    4.0  956715569.0\n",
              "0         sehui      2081    5.0          NaN\n",
              "1         sehui      1022    4.0          NaN\n",
              "2         sehui      1035    5.0          NaN\n",
              "3         sehui      2115    3.0          NaN\n",
              "4         sehui         1    4.0          NaN"
            ]
          },
          "execution_count": 10,
          "metadata": {},
          "output_type": "execute_result"
        }
      ]
    },
    {
      "cell_type": "markdown",
      "metadata": {
        "id": "romance-framing"
      },
      "source": [
        "### 추가적인 전처리 (indexing, 칼럼제거)"
      ],
      "id": "romance-framing"
    },
    {
      "cell_type": "code",
      "metadata": {
        "id": "norwegian-wales"
      },
      "source": [
        "# 고유한 유저, 영화를 찾아내는 코드\n",
        "user_unique = ratings['user_id'].unique()\n",
        "movie_unique = ratings['movie_id'].unique()\n",
        "\n",
        "# 유저, 영화를 indexing 하는 코드\n",
        "user_to_idx = {v:k for k,v in enumerate(user_unique)}\n",
        "movie_to_idx = {v:k for k,v in enumerate(movie_unique)}"
      ],
      "id": "norwegian-wales",
      "execution_count": null,
      "outputs": []
    },
    {
      "cell_type": "code",
      "metadata": {
        "id": "japanese-industry",
        "outputId": "3ce761f4-e9c0-4c11-9807-aa88d3bf3a94"
      },
      "source": [
        "user_unique"
      ],
      "id": "japanese-industry",
      "execution_count": null,
      "outputs": [
        {
          "data": {
            "text/plain": [
              "array([1, 2, 3, ..., 6039, 6040, 'sehui'], dtype=object)"
            ]
          },
          "execution_count": 12,
          "metadata": {},
          "output_type": "execute_result"
        }
      ]
    },
    {
      "cell_type": "markdown",
      "metadata": {
        "id": "civic-aggregate"
      },
      "source": [
        "'sehui'라는 user_id를 추가하기 전에 unique한 user_id 수가 6039였으므로 'sehui'의 index는 6039가 맞다. <br>(index는 0부터 시작)"
      ],
      "id": "civic-aggregate"
    },
    {
      "cell_type": "code",
      "metadata": {
        "id": "alone-wildlife",
        "outputId": "cc3e57f7-7370-4dc4-f6f0-254db0fad683"
      },
      "source": [
        "user_to_idx['sehui']"
      ],
      "id": "alone-wildlife",
      "execution_count": null,
      "outputs": [
        {
          "data": {
            "text/plain": [
              "6039"
            ]
          },
          "execution_count": 13,
          "metadata": {},
          "output_type": "execute_result"
        }
      ]
    },
    {
      "cell_type": "code",
      "metadata": {
        "id": "brutal-provider",
        "outputId": "7bc7f487-72b1-441e-8510-678acd730f6c"
      },
      "source": [
        "# indexing을 통해 데이터 컬럼 내 값을 바꾸는 코드\n",
        "\n",
        "temp_user_data = ratings['user_id'].map(user_to_idx).dropna()\n",
        "if len(temp_user_data) == len(ratings):   # 모든 row가 정상적으로 인덱싱되었다면\n",
        "    print('user_id column indexing OK!!')\n",
        "    ratings['user_id'] = temp_user_data   # data['user_id']을 인덱싱된 Series로 교체해 줍니다. \n",
        "else:\n",
        "    print('user_id column indexing Fail!!')\n",
        "\n",
        "# artist_to_idx을 통해 artist 컬럼도 동일한 방식으로 인덱싱해 줍니다. \n",
        "temp_movie_data = ratings['movie_id'].map(movie_to_idx).dropna()\n",
        "if len(temp_movie_data) == len(ratings):\n",
        "    print('movie_id column indexing OK!!')\n",
        "    ratings['movie_id'] = temp_movie_data\n",
        "else:\n",
        "    print('artist column indexing Fail!!')\n",
        "\n",
        "ratings"
      ],
      "id": "brutal-provider",
      "execution_count": null,
      "outputs": [
        {
          "name": "stdout",
          "output_type": "stream",
          "text": [
            "user_id column indexing OK!!\n",
            "movie_id column indexing OK!!\n"
          ]
        },
        {
          "data": {
            "text/html": [
              "<div>\n",
              "<style scoped>\n",
              "    .dataframe tbody tr th:only-of-type {\n",
              "        vertical-align: middle;\n",
              "    }\n",
              "\n",
              "    .dataframe tbody tr th {\n",
              "        vertical-align: top;\n",
              "    }\n",
              "\n",
              "    .dataframe thead th {\n",
              "        text-align: right;\n",
              "    }\n",
              "</style>\n",
              "<table border=\"1\" class=\"dataframe\">\n",
              "  <thead>\n",
              "    <tr style=\"text-align: right;\">\n",
              "      <th></th>\n",
              "      <th>user_id</th>\n",
              "      <th>movie_id</th>\n",
              "      <th>count</th>\n",
              "      <th>timestamp</th>\n",
              "    </tr>\n",
              "  </thead>\n",
              "  <tbody>\n",
              "    <tr>\n",
              "      <th>0</th>\n",
              "      <td>0</td>\n",
              "      <td>0</td>\n",
              "      <td>5.0</td>\n",
              "      <td>978300760.0</td>\n",
              "    </tr>\n",
              "    <tr>\n",
              "      <th>1</th>\n",
              "      <td>0</td>\n",
              "      <td>1</td>\n",
              "      <td>3.0</td>\n",
              "      <td>978302109.0</td>\n",
              "    </tr>\n",
              "    <tr>\n",
              "      <th>2</th>\n",
              "      <td>0</td>\n",
              "      <td>2</td>\n",
              "      <td>3.0</td>\n",
              "      <td>978301968.0</td>\n",
              "    </tr>\n",
              "    <tr>\n",
              "      <th>3</th>\n",
              "      <td>0</td>\n",
              "      <td>3</td>\n",
              "      <td>4.0</td>\n",
              "      <td>978300275.0</td>\n",
              "    </tr>\n",
              "    <tr>\n",
              "      <th>4</th>\n",
              "      <td>0</td>\n",
              "      <td>4</td>\n",
              "      <td>5.0</td>\n",
              "      <td>978824291.0</td>\n",
              "    </tr>\n",
              "    <tr>\n",
              "      <th>...</th>\n",
              "      <td>...</td>\n",
              "      <td>...</td>\n",
              "      <td>...</td>\n",
              "      <td>...</td>\n",
              "    </tr>\n",
              "    <tr>\n",
              "      <th>0</th>\n",
              "      <td>6039</td>\n",
              "      <td>191</td>\n",
              "      <td>5.0</td>\n",
              "      <td>NaN</td>\n",
              "    </tr>\n",
              "    <tr>\n",
              "      <th>1</th>\n",
              "      <td>6039</td>\n",
              "      <td>37</td>\n",
              "      <td>4.0</td>\n",
              "      <td>NaN</td>\n",
              "    </tr>\n",
              "    <tr>\n",
              "      <th>2</th>\n",
              "      <td>6039</td>\n",
              "      <td>14</td>\n",
              "      <td>5.0</td>\n",
              "      <td>NaN</td>\n",
              "    </tr>\n",
              "    <tr>\n",
              "      <th>3</th>\n",
              "      <td>6039</td>\n",
              "      <td>188</td>\n",
              "      <td>3.0</td>\n",
              "      <td>NaN</td>\n",
              "    </tr>\n",
              "    <tr>\n",
              "      <th>4</th>\n",
              "      <td>6039</td>\n",
              "      <td>40</td>\n",
              "      <td>4.0</td>\n",
              "      <td>NaN</td>\n",
              "    </tr>\n",
              "  </tbody>\n",
              "</table>\n",
              "<p>836483 rows × 4 columns</p>\n",
              "</div>"
            ],
            "text/plain": [
              "    user_id  movie_id  count    timestamp\n",
              "0         0         0    5.0  978300760.0\n",
              "1         0         1    3.0  978302109.0\n",
              "2         0         2    3.0  978301968.0\n",
              "3         0         3    4.0  978300275.0\n",
              "4         0         4    5.0  978824291.0\n",
              "..      ...       ...    ...          ...\n",
              "0      6039       191    5.0          NaN\n",
              "1      6039        37    4.0          NaN\n",
              "2      6039        14    5.0          NaN\n",
              "3      6039       188    3.0          NaN\n",
              "4      6039        40    4.0          NaN\n",
              "\n",
              "[836483 rows x 4 columns]"
            ]
          },
          "execution_count": 14,
          "metadata": {},
          "output_type": "execute_result"
        }
      ]
    },
    {
      "cell_type": "code",
      "metadata": {
        "id": "stock-valuation"
      },
      "source": [
        "ratings.drop(['timestamp'], axis=1, inplace=True)"
      ],
      "id": "stock-valuation",
      "execution_count": null,
      "outputs": []
    },
    {
      "cell_type": "code",
      "metadata": {
        "id": "particular-negative",
        "outputId": "fc74fa29-65b0-49be-df6a-37d607dfc8dc"
      },
      "source": [
        "ratings"
      ],
      "id": "particular-negative",
      "execution_count": null,
      "outputs": [
        {
          "data": {
            "text/html": [
              "<div>\n",
              "<style scoped>\n",
              "    .dataframe tbody tr th:only-of-type {\n",
              "        vertical-align: middle;\n",
              "    }\n",
              "\n",
              "    .dataframe tbody tr th {\n",
              "        vertical-align: top;\n",
              "    }\n",
              "\n",
              "    .dataframe thead th {\n",
              "        text-align: right;\n",
              "    }\n",
              "</style>\n",
              "<table border=\"1\" class=\"dataframe\">\n",
              "  <thead>\n",
              "    <tr style=\"text-align: right;\">\n",
              "      <th></th>\n",
              "      <th>user_id</th>\n",
              "      <th>movie_id</th>\n",
              "      <th>count</th>\n",
              "    </tr>\n",
              "  </thead>\n",
              "  <tbody>\n",
              "    <tr>\n",
              "      <th>0</th>\n",
              "      <td>0</td>\n",
              "      <td>0</td>\n",
              "      <td>5.0</td>\n",
              "    </tr>\n",
              "    <tr>\n",
              "      <th>1</th>\n",
              "      <td>0</td>\n",
              "      <td>1</td>\n",
              "      <td>3.0</td>\n",
              "    </tr>\n",
              "    <tr>\n",
              "      <th>2</th>\n",
              "      <td>0</td>\n",
              "      <td>2</td>\n",
              "      <td>3.0</td>\n",
              "    </tr>\n",
              "    <tr>\n",
              "      <th>3</th>\n",
              "      <td>0</td>\n",
              "      <td>3</td>\n",
              "      <td>4.0</td>\n",
              "    </tr>\n",
              "    <tr>\n",
              "      <th>4</th>\n",
              "      <td>0</td>\n",
              "      <td>4</td>\n",
              "      <td>5.0</td>\n",
              "    </tr>\n",
              "    <tr>\n",
              "      <th>...</th>\n",
              "      <td>...</td>\n",
              "      <td>...</td>\n",
              "      <td>...</td>\n",
              "    </tr>\n",
              "    <tr>\n",
              "      <th>0</th>\n",
              "      <td>6039</td>\n",
              "      <td>191</td>\n",
              "      <td>5.0</td>\n",
              "    </tr>\n",
              "    <tr>\n",
              "      <th>1</th>\n",
              "      <td>6039</td>\n",
              "      <td>37</td>\n",
              "      <td>4.0</td>\n",
              "    </tr>\n",
              "    <tr>\n",
              "      <th>2</th>\n",
              "      <td>6039</td>\n",
              "      <td>14</td>\n",
              "      <td>5.0</td>\n",
              "    </tr>\n",
              "    <tr>\n",
              "      <th>3</th>\n",
              "      <td>6039</td>\n",
              "      <td>188</td>\n",
              "      <td>3.0</td>\n",
              "    </tr>\n",
              "    <tr>\n",
              "      <th>4</th>\n",
              "      <td>6039</td>\n",
              "      <td>40</td>\n",
              "      <td>4.0</td>\n",
              "    </tr>\n",
              "  </tbody>\n",
              "</table>\n",
              "<p>836483 rows × 3 columns</p>\n",
              "</div>"
            ],
            "text/plain": [
              "    user_id  movie_id  count\n",
              "0         0         0    5.0\n",
              "1         0         1    3.0\n",
              "2         0         2    3.0\n",
              "3         0         3    4.0\n",
              "4         0         4    5.0\n",
              "..      ...       ...    ...\n",
              "0      6039       191    5.0\n",
              "1      6039        37    4.0\n",
              "2      6039        14    5.0\n",
              "3      6039       188    3.0\n",
              "4      6039        40    4.0\n",
              "\n",
              "[836483 rows x 3 columns]"
            ]
          },
          "execution_count": 18,
          "metadata": {},
          "output_type": "execute_result"
        }
      ]
    },
    {
      "cell_type": "markdown",
      "metadata": {
        "id": "developed-defense"
      },
      "source": [
        "## 4) CSR matrix를 직접 만들어 봅시다."
      ],
      "id": "developed-defense"
    },
    {
      "cell_type": "code",
      "metadata": {
        "id": "dimensional-perception",
        "outputId": "e64ac562-3fd8-448c-e240-70294c9eff1b"
      },
      "source": [
        "ratings['count']"
      ],
      "id": "dimensional-perception",
      "execution_count": null,
      "outputs": [
        {
          "data": {
            "text/plain": [
              "0    5.0\n",
              "1    3.0\n",
              "2    3.0\n",
              "3    4.0\n",
              "4    5.0\n",
              "    ... \n",
              "0    5.0\n",
              "1    4.0\n",
              "2    5.0\n",
              "3    3.0\n",
              "4    4.0\n",
              "Name: count, Length: 836483, dtype: float64"
            ]
          },
          "execution_count": 25,
          "metadata": {},
          "output_type": "execute_result"
        }
      ]
    },
    {
      "cell_type": "code",
      "metadata": {
        "id": "downtown-affair",
        "outputId": "fc0782d5-6111-489d-eee5-b942c194be60"
      },
      "source": [
        "from scipy.sparse import csr_matrix\n",
        "\n",
        "num_user = ratings['user_id'].nunique()\n",
        "num_movie = ratings['movie_id'].nunique()\n",
        "\n",
        "csr_data = csr_matrix((ratings['count'], (ratings.user_id, ratings.movie_id)), shape= (num_user, num_movie))\n",
        "csr_data"
      ],
      "id": "downtown-affair",
      "execution_count": null,
      "outputs": [
        {
          "data": {
            "text/plain": [
              "<6040x3628 sparse matrix of type '<class 'numpy.float64'>'\n",
              "\twith 836483 stored elements in Compressed Sparse Row format>"
            ]
          },
          "execution_count": 26,
          "metadata": {},
          "output_type": "execute_result"
        }
      ]
    },
    {
      "cell_type": "markdown",
      "metadata": {
        "id": "indonesian-insulation"
      },
      "source": [
        "## 5) als_model = AlternatingLeastSquares 모델을 직접 구성하여 훈련시켜 봅시다."
      ],
      "id": "indonesian-insulation"
    },
    {
      "cell_type": "code",
      "metadata": {
        "id": "wireless-spread"
      },
      "source": [
        "from implicit.als import AlternatingLeastSquares\n",
        "import os\n",
        "import numpy as np\n",
        "\n",
        "# implicit 라이브러리에서 권장하고 있는 설정. 학습내용과 무관.\n",
        "os.environ['OPENBLAS_NUM_THREADS']='1'\n",
        "os.environ['KMP_DUPLICATE_LIB_OK']='True'\n",
        "os.environ['MKL_NUM_THREADS']='1'"
      ],
      "id": "wireless-spread",
      "execution_count": null,
      "outputs": []
    },
    {
      "cell_type": "markdown",
      "metadata": {
        "id": "economic-recruitment"
      },
      "source": [
        "AlternatingLeastSquares 클래스의 \\_\\_init__ 파라미터\n",
        "1. factors : 유저와 아이템의 벡터를 몇 차원으로 할 것인지\n",
        "2. regularization : 과적합을 방지하기 위해 정규화 값을 얼마나 사용할 것인지\n",
        "3. use_gpu : GPU를 사용할 것인지\n",
        "4. iterations : epochs와 같은 의미입니다. 데이터를 몇 번 반복해서 학습할 것인지\n",
        "\n",
        "파라미터 factors와 iterations를 늘릴수록 학습데이터를 잘 학습하게 되지만 overfitting의 우려가 있으니 좋은 값을 찾아야 한다."
      ],
      "id": "economic-recruitment"
    },
    {
      "cell_type": "code",
      "metadata": {
        "id": "sacred-packaging"
      },
      "source": [
        "# Implicit AlternatingLeastSquares 모델의 선언\n",
        "\n",
        "als_model = AlternatingLeastSquares(factors=640, regularization=0.01, use_gpu=False, iterations=30, dtype=np.float64)"
      ],
      "id": "sacred-packaging",
      "execution_count": null,
      "outputs": []
    },
    {
      "cell_type": "code",
      "metadata": {
        "id": "infectious-voltage",
        "outputId": "595a050e-0782-4088-e0ae-163f2a262494"
      },
      "source": [
        "# als 모델은 input으로 (item X user 꼴의 matrix를 받기 때문에 Transpose해줍니다.)\n",
        "csr_data_transpose = csr_data.T\n",
        "csr_data_transpose"
      ],
      "id": "infectious-voltage",
      "execution_count": null,
      "outputs": [
        {
          "data": {
            "text/plain": [
              "<3628x6040 sparse matrix of type '<class 'numpy.float64'>'\n",
              "\twith 836483 stored elements in Compressed Sparse Column format>"
            ]
          },
          "execution_count": 44,
          "metadata": {},
          "output_type": "execute_result"
        }
      ]
    },
    {
      "cell_type": "code",
      "metadata": {
        "id": "processed-denmark",
        "outputId": "5e03d6b9-5cbc-4172-80a1-e9e6ccbf3973"
      },
      "source": [
        "# 모델 훈련\n",
        "als_model.fit(csr_data_transpose)"
      ],
      "id": "processed-denmark",
      "execution_count": null,
      "outputs": [
        {
          "data": {
            "application/vnd.jupyter.widget-view+json": {
              "model_id": "9004feb293f84ea7be66cf18b9f25a5a",
              "version_major": 2,
              "version_minor": 0
            },
            "text/plain": [
              "  0%|          | 0/30 [00:00<?, ?it/s]"
            ]
          },
          "metadata": {},
          "output_type": "display_data"
        }
      ]
    },
    {
      "cell_type": "markdown",
      "metadata": {
        "id": "mounted-suspension"
      },
      "source": [
        "## 6) 내가 선호하는 5가지 영화 중 하나와 그 외의 영화 하나를 골라 훈련된 모델이 예측한 나의 선호도를 파악해 보세요."
      ],
      "id": "mounted-suspension"
    },
    {
      "cell_type": "code",
      "metadata": {
        "id": "legislative-zoning"
      },
      "source": [
        "sehui, little_mermaid = user_to_idx['sehui'], movie_to_idx[2081]\n",
        "sehui_vector, little_mermaid_vector = als_model.user_factors[sehui], als_model.item_factors[little_mermaid]"
      ],
      "id": "legislative-zoning",
      "execution_count": null,
      "outputs": []
    },
    {
      "cell_type": "code",
      "metadata": {
        "id": "domestic-listing",
        "outputId": "0c4400ac-01ff-4cb7-a771-e3db180b67ae"
      },
      "source": [
        "print(sehui_vector.shape)\n",
        "print(little_mermaid_vector.shape)"
      ],
      "id": "domestic-listing",
      "execution_count": null,
      "outputs": [
        {
          "name": "stdout",
          "output_type": "stream",
          "text": [
            "(640,)\n",
            "(640,)\n"
          ]
        }
      ]
    },
    {
      "cell_type": "code",
      "metadata": {
        "id": "settled-satellite",
        "outputId": "b984f9d4-a98b-42b6-b915-8c733f97c3f3"
      },
      "source": [
        "np.dot(sehui_vector, little_mermaid_vector)"
      ],
      "id": "settled-satellite",
      "execution_count": null,
      "outputs": [
        {
          "data": {
            "text/plain": [
              "0.8566565550377852"
            ]
          },
          "execution_count": 48,
          "metadata": {},
          "output_type": "execute_result"
        }
      ]
    },
    {
      "cell_type": "code",
      "metadata": {
        "id": "phantom-hardware",
        "outputId": "e419f657-2ed5-4a18-a3c6-486ac92dfb3b"
      },
      "source": [
        "toystory_vector = als_model.item_factors[movie_to_idx[1]]    # 영화 toystory\n",
        "np.dot(sehui_vector, toystory_vector)"
      ],
      "id": "phantom-hardware",
      "execution_count": null,
      "outputs": [
        {
          "data": {
            "text/plain": [
              "0.9208953678670195"
            ]
          },
          "execution_count": 50,
          "metadata": {},
          "output_type": "execute_result"
        }
      ]
    },
    {
      "cell_type": "code",
      "metadata": {
        "id": "classical-australian",
        "outputId": "b81e91c1-d5e4-4c17-a671-a7ee2f894573"
      },
      "source": [
        "jumanji_vector = als_model.item_factors[movie_to_idx[2]]    # 영화 jumanji\n",
        "np.dot(sehui_vector, jumanji_vector)"
      ],
      "id": "classical-australian",
      "execution_count": null,
      "outputs": [
        {
          "data": {
            "text/plain": [
              "0.017441349059493294"
            ]
          },
          "execution_count": 49,
          "metadata": {},
          "output_type": "execute_result"
        }
      ]
    },
    {
      "cell_type": "markdown",
      "metadata": {
        "id": "curious-thriller"
      },
      "source": [
        "## 7) 내가 좋아하는 영화와 비슷한 영화를 추천받아 봅시다."
      ],
      "id": "curious-thriller"
    },
    {
      "cell_type": "code",
      "metadata": {
        "id": "nuclear-sharing",
        "outputId": "cfb5943e-6d7b-45e5-93d4-4a7b8f9f323b"
      },
      "source": [
        "movie_id = movie_to_idx[2081]    # Little Mermaid, The\n",
        "similar_movie = als_model.similar_items(movie_id, N=15)\n",
        "\n",
        "similar_movie"
      ],
      "id": "nuclear-sharing",
      "execution_count": null,
      "outputs": [
        {
          "data": {
            "text/plain": [
              "[(191, 1.0000000000000002),\n",
              " (3364, 0.3739316296889651),\n",
              " (3209, 0.37157465162804304),\n",
              " (3607, 0.370803311816906),\n",
              " (3498, 0.36944649654995854),\n",
              " (3453, 0.3692509743100145),\n",
              " (3069, 0.36916949475491423),\n",
              " (3550, 0.36906817910525624),\n",
              " (3494, 0.3689556696445093),\n",
              " (3522, 0.3682760401149685),\n",
              " (3609, 0.3669092735599585),\n",
              " (3441, 0.36690818895746247),\n",
              " (3219, 0.36688771058344605),\n",
              " (3215, 0.3667623633626824),\n",
              " (3440, 0.36674275108399984)]"
            ]
          },
          "execution_count": 51,
          "metadata": {},
          "output_type": "execute_result"
        }
      ]
    },
    {
      "cell_type": "code",
      "metadata": {
        "id": "improving-prairie",
        "outputId": "02d7645c-5685-418f-ff95-e8cba90b0ef7"
      },
      "source": [
        "idx_to_movie = {v:k for k,v in movie_to_idx.items()}\n",
        "[idx_to_movie[i[0]] for i in similar_movie]"
      ],
      "id": "improving-prairie",
      "execution_count": null,
      "outputs": [
        {
          "data": {
            "text/plain": [
              "[2081,\n",
              " 1850,\n",
              " 3883,\n",
              " 404,\n",
              " 526,\n",
              " 1878,\n",
              " 1817,\n",
              " 3876,\n",
              " 790,\n",
              " 981,\n",
              " 2486,\n",
              " 1773,\n",
              " 3800,\n",
              " 792,\n",
              " 3119]"
            ]
          },
          "execution_count": 52,
          "metadata": {},
          "output_type": "execute_result"
        }
      ]
    },
    {
      "cell_type": "code",
      "metadata": {
        "id": "shaped-canadian"
      },
      "source": [
        "def get_similar_movie(movie_id: str):\n",
        "    movie_id = movie_to_idx[movie_id]\n",
        "    similar_movie = als_model.similar_items(movie_id, N=15)\n",
        "    similar_movie = [idx_to_movie[i[0]] for i in similar_movie]\n",
        "    return similar_movie"
      ],
      "id": "shaped-canadian",
      "execution_count": null,
      "outputs": []
    },
    {
      "cell_type": "code",
      "metadata": {
        "id": "apart-perspective",
        "outputId": "3c1fb14f-23f3-4c9f-f31b-be6eec966b88"
      },
      "source": [
        "movie_list = get_similar_movie(1)\n",
        "\n",
        "movie_list"
      ],
      "id": "apart-perspective",
      "execution_count": null,
      "outputs": [
        {
          "data": {
            "text/plain": [
              "[1,\n",
              " 106,\n",
              " 1324,\n",
              " 3290,\n",
              " 1843,\n",
              " 2909,\n",
              " 3026,\n",
              " 1868,\n",
              " 3305,\n",
              " 3876,\n",
              " 690,\n",
              " 3482,\n",
              " 776,\n",
              " 657,\n",
              " 3899]"
            ]
          },
          "execution_count": 66,
          "metadata": {},
          "output_type": "execute_result"
        }
      ]
    },
    {
      "cell_type": "code",
      "metadata": {
        "id": "specific-appreciation",
        "outputId": "e5346735-cf49-4805-db48-e956613c4141"
      },
      "source": [
        "movies.loc[movies['movie_id'].isin(movie_list)]"
      ],
      "id": "specific-appreciation",
      "execution_count": null,
      "outputs": [
        {
          "data": {
            "text/html": [
              "<div>\n",
              "<style scoped>\n",
              "    .dataframe tbody tr th:only-of-type {\n",
              "        vertical-align: middle;\n",
              "    }\n",
              "\n",
              "    .dataframe tbody tr th {\n",
              "        vertical-align: top;\n",
              "    }\n",
              "\n",
              "    .dataframe thead th {\n",
              "        text-align: right;\n",
              "    }\n",
              "</style>\n",
              "<table border=\"1\" class=\"dataframe\">\n",
              "  <thead>\n",
              "    <tr style=\"text-align: right;\">\n",
              "      <th></th>\n",
              "      <th>movie_id</th>\n",
              "      <th>title</th>\n",
              "      <th>genre</th>\n",
              "    </tr>\n",
              "  </thead>\n",
              "  <tbody>\n",
              "    <tr>\n",
              "      <th>0</th>\n",
              "      <td>1</td>\n",
              "      <td>Toy Story (1995)</td>\n",
              "      <td>Animation|Children's|Comedy</td>\n",
              "    </tr>\n",
              "    <tr>\n",
              "      <th>104</th>\n",
              "      <td>106</td>\n",
              "      <td>Nobody Loves Me (Keiner liebt mich) (1994)</td>\n",
              "      <td>Comedy|Drama</td>\n",
              "    </tr>\n",
              "    <tr>\n",
              "      <th>651</th>\n",
              "      <td>657</td>\n",
              "      <td>Yankee Zulu (1994)</td>\n",
              "      <td>Comedy|Drama</td>\n",
              "    </tr>\n",
              "    <tr>\n",
              "      <th>681</th>\n",
              "      <td>690</td>\n",
              "      <td>Promise, The (Versprechen, Das) (1994)</td>\n",
              "      <td>Romance</td>\n",
              "    </tr>\n",
              "    <tr>\n",
              "      <th>766</th>\n",
              "      <td>776</td>\n",
              "      <td>Babyfever (1994)</td>\n",
              "      <td>Comedy|Drama</td>\n",
              "    </tr>\n",
              "    <tr>\n",
              "      <th>1304</th>\n",
              "      <td>1324</td>\n",
              "      <td>Amityville: Dollhouse (1996)</td>\n",
              "      <td>Horror</td>\n",
              "    </tr>\n",
              "    <tr>\n",
              "      <th>1774</th>\n",
              "      <td>1843</td>\n",
              "      <td>Slappy and the Stinkers (1998)</td>\n",
              "      <td>Children's|Comedy</td>\n",
              "    </tr>\n",
              "    <tr>\n",
              "      <th>1799</th>\n",
              "      <td>1868</td>\n",
              "      <td>Truce, The (1996)</td>\n",
              "      <td>Drama|War</td>\n",
              "    </tr>\n",
              "    <tr>\n",
              "      <th>2840</th>\n",
              "      <td>2909</td>\n",
              "      <td>Five Wives, Three Secretaries and Me (1998)</td>\n",
              "      <td>Documentary</td>\n",
              "    </tr>\n",
              "    <tr>\n",
              "      <th>2957</th>\n",
              "      <td>3026</td>\n",
              "      <td>Slaughterhouse (1987)</td>\n",
              "      <td>Horror</td>\n",
              "    </tr>\n",
              "    <tr>\n",
              "      <th>3221</th>\n",
              "      <td>3290</td>\n",
              "      <td>Soft Toilet Seats (1999)</td>\n",
              "      <td>Comedy</td>\n",
              "    </tr>\n",
              "    <tr>\n",
              "      <th>3236</th>\n",
              "      <td>3305</td>\n",
              "      <td>Bluebeard (1944)</td>\n",
              "      <td>Film-Noir|Horror</td>\n",
              "    </tr>\n",
              "    <tr>\n",
              "      <th>3413</th>\n",
              "      <td>3482</td>\n",
              "      <td>Price of Glory (2000)</td>\n",
              "      <td>Drama</td>\n",
              "    </tr>\n",
              "    <tr>\n",
              "      <th>3806</th>\n",
              "      <td>3876</td>\n",
              "      <td>Jerry &amp; Tom (1998)</td>\n",
              "      <td>Drama</td>\n",
              "    </tr>\n",
              "    <tr>\n",
              "      <th>3829</th>\n",
              "      <td>3899</td>\n",
              "      <td>Circus (2000)</td>\n",
              "      <td>Comedy</td>\n",
              "    </tr>\n",
              "  </tbody>\n",
              "</table>\n",
              "</div>"
            ],
            "text/plain": [
              "      movie_id                                        title  \\\n",
              "0            1                             Toy Story (1995)   \n",
              "104        106   Nobody Loves Me (Keiner liebt mich) (1994)   \n",
              "651        657                           Yankee Zulu (1994)   \n",
              "681        690       Promise, The (Versprechen, Das) (1994)   \n",
              "766        776                             Babyfever (1994)   \n",
              "1304      1324                 Amityville: Dollhouse (1996)   \n",
              "1774      1843               Slappy and the Stinkers (1998)   \n",
              "1799      1868                            Truce, The (1996)   \n",
              "2840      2909  Five Wives, Three Secretaries and Me (1998)   \n",
              "2957      3026                        Slaughterhouse (1987)   \n",
              "3221      3290                     Soft Toilet Seats (1999)   \n",
              "3236      3305                             Bluebeard (1944)   \n",
              "3413      3482                        Price of Glory (2000)   \n",
              "3806      3876                           Jerry & Tom (1998)   \n",
              "3829      3899                                Circus (2000)   \n",
              "\n",
              "                            genre  \n",
              "0     Animation|Children's|Comedy  \n",
              "104                  Comedy|Drama  \n",
              "651                  Comedy|Drama  \n",
              "681                       Romance  \n",
              "766                  Comedy|Drama  \n",
              "1304                       Horror  \n",
              "1774            Children's|Comedy  \n",
              "1799                    Drama|War  \n",
              "2840                  Documentary  \n",
              "2957                       Horror  \n",
              "3221                       Comedy  \n",
              "3236             Film-Noir|Horror  \n",
              "3413                        Drama  \n",
              "3806                        Drama  \n",
              "3829                       Comedy  "
            ]
          },
          "execution_count": 67,
          "metadata": {},
          "output_type": "execute_result"
        }
      ]
    },
    {
      "cell_type": "markdown",
      "metadata": {
        "id": "piano-sample"
      },
      "source": [
        "## 8) 내가 가장 좋아할 만한 영화들을 추천받아 봅시다."
      ],
      "id": "piano-sample"
    },
    {
      "cell_type": "code",
      "metadata": {
        "id": "miniature-diagram",
        "outputId": "6d0d09c1-ecea-46b8-e7f3-436f59b75609"
      },
      "source": [
        "user = user_to_idx['sehui']\n",
        "\n",
        "# recommend에서는 user*item CSR Matrix를 받습니다.\n",
        "movie_recommended = als_model.recommend(user, csr_data, N=20, filter_already_liked_items=True)\n",
        "movie_recommended"
      ],
      "id": "miniature-diagram",
      "execution_count": null,
      "outputs": [
        {
          "data": {
            "text/plain": [
              "[(572, 0.2979205232876652),\n",
              " (46, 0.25824278552820373),\n",
              " (8, 0.22110959224621005),\n",
              " (551, 0.20170217737563442),\n",
              " (45, 0.1855378775461952),\n",
              " (10, 0.1789025583128658),\n",
              " (172, 0.1700095048655152),\n",
              " (1844, 0.15861138851572917),\n",
              " (360, 0.1549460009995044),\n",
              " (547, 0.15421356524194368),\n",
              " (536, 0.13955492389554702),\n",
              " (548, 0.1234855924748817),\n",
              " (330, 0.12184758023047129),\n",
              " (860, 0.12140908038572898),\n",
              " (119, 0.11695203883660404),\n",
              " (326, 0.11662564615214308),\n",
              " (1537, 0.11333872459760658),\n",
              " (619, 0.11318811761134033),\n",
              " (33, 0.11245816055859273),\n",
              " (685, 0.11224042103831916)]"
            ]
          },
          "execution_count": 68,
          "metadata": {},
          "output_type": "execute_result"
        }
      ]
    },
    {
      "cell_type": "code",
      "metadata": {
        "id": "located-tribe",
        "outputId": "25424a7a-bc80-4c84-9235-c6a048ef1909"
      },
      "source": [
        "movie_list = [idx_to_movie[i[0]] for i in movie_recommended]\n",
        "\n",
        "movie_list"
      ],
      "id": "located-tribe",
      "execution_count": null,
      "outputs": [
        {
          "data": {
            "text/plain": [
              "[2096,\n",
              " 1029,\n",
              " 594,\n",
              " 2087,\n",
              " 1028,\n",
              " 595,\n",
              " 1291,\n",
              " 1951,\n",
              " 1088,\n",
              " 2080,\n",
              " 2078,\n",
              " 1282,\n",
              " 364,\n",
              " 1185,\n",
              " 736,\n",
              " 1101,\n",
              " 3555,\n",
              " 1032,\n",
              " 588,\n",
              " 2529]"
            ]
          },
          "execution_count": 70,
          "metadata": {},
          "output_type": "execute_result"
        }
      ]
    },
    {
      "cell_type": "code",
      "metadata": {
        "id": "played-approach",
        "outputId": "c4c3c3a8-2796-4b8e-e293-649c461a1d72"
      },
      "source": [
        "movies.loc[movies['movie_id'].isin(movie_list)]"
      ],
      "id": "played-approach",
      "execution_count": null,
      "outputs": [
        {
          "data": {
            "text/html": [
              "<div>\n",
              "<style scoped>\n",
              "    .dataframe tbody tr th:only-of-type {\n",
              "        vertical-align: middle;\n",
              "    }\n",
              "\n",
              "    .dataframe tbody tr th {\n",
              "        vertical-align: top;\n",
              "    }\n",
              "\n",
              "    .dataframe thead th {\n",
              "        text-align: right;\n",
              "    }\n",
              "</style>\n",
              "<table border=\"1\" class=\"dataframe\">\n",
              "  <thead>\n",
              "    <tr style=\"text-align: right;\">\n",
              "      <th></th>\n",
              "      <th>movie_id</th>\n",
              "      <th>title</th>\n",
              "      <th>genre</th>\n",
              "    </tr>\n",
              "  </thead>\n",
              "  <tbody>\n",
              "    <tr>\n",
              "      <th>360</th>\n",
              "      <td>364</td>\n",
              "      <td>Lion King, The (1994)</td>\n",
              "      <td>Animation|Children's|Musical</td>\n",
              "    </tr>\n",
              "    <tr>\n",
              "      <th>584</th>\n",
              "      <td>588</td>\n",
              "      <td>Aladdin (1992)</td>\n",
              "      <td>Animation|Children's|Comedy|Musical</td>\n",
              "    </tr>\n",
              "    <tr>\n",
              "      <th>590</th>\n",
              "      <td>594</td>\n",
              "      <td>Snow White and the Seven Dwarfs (1937)</td>\n",
              "      <td>Animation|Children's|Musical</td>\n",
              "    </tr>\n",
              "    <tr>\n",
              "      <th>591</th>\n",
              "      <td>595</td>\n",
              "      <td>Beauty and the Beast (1991)</td>\n",
              "      <td>Animation|Children's|Musical</td>\n",
              "    </tr>\n",
              "    <tr>\n",
              "      <th>727</th>\n",
              "      <td>736</td>\n",
              "      <td>Twister (1996)</td>\n",
              "      <td>Action|Adventure|Romance|Thriller</td>\n",
              "    </tr>\n",
              "    <tr>\n",
              "      <th>1015</th>\n",
              "      <td>1028</td>\n",
              "      <td>Mary Poppins (1964)</td>\n",
              "      <td>Children's|Comedy|Musical</td>\n",
              "    </tr>\n",
              "    <tr>\n",
              "      <th>1016</th>\n",
              "      <td>1029</td>\n",
              "      <td>Dumbo (1941)</td>\n",
              "      <td>Animation|Children's|Musical</td>\n",
              "    </tr>\n",
              "    <tr>\n",
              "      <th>1019</th>\n",
              "      <td>1032</td>\n",
              "      <td>Alice in Wonderland (1951)</td>\n",
              "      <td>Animation|Children's|Musical</td>\n",
              "    </tr>\n",
              "    <tr>\n",
              "      <th>1072</th>\n",
              "      <td>1088</td>\n",
              "      <td>Dirty Dancing (1987)</td>\n",
              "      <td>Musical|Romance</td>\n",
              "    </tr>\n",
              "    <tr>\n",
              "      <th>1085</th>\n",
              "      <td>1101</td>\n",
              "      <td>Top Gun (1986)</td>\n",
              "      <td>Action|Romance</td>\n",
              "    </tr>\n",
              "    <tr>\n",
              "      <th>1168</th>\n",
              "      <td>1185</td>\n",
              "      <td>My Left Foot (1989)</td>\n",
              "      <td>Drama</td>\n",
              "    </tr>\n",
              "    <tr>\n",
              "      <th>1262</th>\n",
              "      <td>1282</td>\n",
              "      <td>Fantasia (1940)</td>\n",
              "      <td>Animation|Children's|Musical</td>\n",
              "    </tr>\n",
              "    <tr>\n",
              "      <th>1271</th>\n",
              "      <td>1291</td>\n",
              "      <td>Indiana Jones and the Last Crusade (1989)</td>\n",
              "      <td>Action|Adventure</td>\n",
              "    </tr>\n",
              "    <tr>\n",
              "      <th>1882</th>\n",
              "      <td>1951</td>\n",
              "      <td>Oliver! (1968)</td>\n",
              "      <td>Musical</td>\n",
              "    </tr>\n",
              "    <tr>\n",
              "      <th>2009</th>\n",
              "      <td>2078</td>\n",
              "      <td>Jungle Book, The (1967)</td>\n",
              "      <td>Animation|Children's|Comedy|Musical</td>\n",
              "    </tr>\n",
              "    <tr>\n",
              "      <th>2011</th>\n",
              "      <td>2080</td>\n",
              "      <td>Lady and the Tramp (1955)</td>\n",
              "      <td>Animation|Children's|Comedy|Musical|Romance</td>\n",
              "    </tr>\n",
              "    <tr>\n",
              "      <th>2018</th>\n",
              "      <td>2087</td>\n",
              "      <td>Peter Pan (1953)</td>\n",
              "      <td>Animation|Children's|Fantasy|Musical</td>\n",
              "    </tr>\n",
              "    <tr>\n",
              "      <th>2027</th>\n",
              "      <td>2096</td>\n",
              "      <td>Sleeping Beauty (1959)</td>\n",
              "      <td>Animation|Children's|Musical</td>\n",
              "    </tr>\n",
              "    <tr>\n",
              "      <th>2460</th>\n",
              "      <td>2529</td>\n",
              "      <td>Planet of the Apes (1968)</td>\n",
              "      <td>Action|Sci-Fi</td>\n",
              "    </tr>\n",
              "    <tr>\n",
              "      <th>3486</th>\n",
              "      <td>3555</td>\n",
              "      <td>U-571 (2000)</td>\n",
              "      <td>Action|Thriller</td>\n",
              "    </tr>\n",
              "  </tbody>\n",
              "</table>\n",
              "</div>"
            ],
            "text/plain": [
              "      movie_id                                      title  \\\n",
              "360        364                      Lion King, The (1994)   \n",
              "584        588                             Aladdin (1992)   \n",
              "590        594     Snow White and the Seven Dwarfs (1937)   \n",
              "591        595                Beauty and the Beast (1991)   \n",
              "727        736                             Twister (1996)   \n",
              "1015      1028                        Mary Poppins (1964)   \n",
              "1016      1029                               Dumbo (1941)   \n",
              "1019      1032                 Alice in Wonderland (1951)   \n",
              "1072      1088                       Dirty Dancing (1987)   \n",
              "1085      1101                             Top Gun (1986)   \n",
              "1168      1185                        My Left Foot (1989)   \n",
              "1262      1282                            Fantasia (1940)   \n",
              "1271      1291  Indiana Jones and the Last Crusade (1989)   \n",
              "1882      1951                             Oliver! (1968)   \n",
              "2009      2078                    Jungle Book, The (1967)   \n",
              "2011      2080                  Lady and the Tramp (1955)   \n",
              "2018      2087                           Peter Pan (1953)   \n",
              "2027      2096                     Sleeping Beauty (1959)   \n",
              "2460      2529                  Planet of the Apes (1968)   \n",
              "3486      3555                               U-571 (2000)   \n",
              "\n",
              "                                            genre  \n",
              "360                  Animation|Children's|Musical  \n",
              "584           Animation|Children's|Comedy|Musical  \n",
              "590                  Animation|Children's|Musical  \n",
              "591                  Animation|Children's|Musical  \n",
              "727             Action|Adventure|Romance|Thriller  \n",
              "1015                    Children's|Comedy|Musical  \n",
              "1016                 Animation|Children's|Musical  \n",
              "1019                 Animation|Children's|Musical  \n",
              "1072                              Musical|Romance  \n",
              "1085                               Action|Romance  \n",
              "1168                                        Drama  \n",
              "1262                 Animation|Children's|Musical  \n",
              "1271                             Action|Adventure  \n",
              "1882                                      Musical  \n",
              "2009          Animation|Children's|Comedy|Musical  \n",
              "2011  Animation|Children's|Comedy|Musical|Romance  \n",
              "2018         Animation|Children's|Fantasy|Musical  \n",
              "2027                 Animation|Children's|Musical  \n",
              "2460                                Action|Sci-Fi  \n",
              "3486                              Action|Thriller  "
            ]
          },
          "execution_count": 71,
          "metadata": {},
          "output_type": "execute_result"
        }
      ]
    },
    {
      "cell_type": "markdown",
      "metadata": {
        "id": "hungry-interim"
      },
      "source": [
        "user데이터가 추천에 기여한 정도 확인"
      ],
      "id": "hungry-interim"
    },
    {
      "cell_type": "code",
      "metadata": {
        "id": "average-arena"
      },
      "source": [
        "movie_idx = movie_to_idx[2096]    # 잠자는 숲속의 미녀\n",
        "explain = als_model.explain(user, csr_data, itemid=movie_idx)"
      ],
      "id": "average-arena",
      "execution_count": null,
      "outputs": []
    },
    {
      "cell_type": "code",
      "metadata": {
        "id": "impossible-competition",
        "outputId": "db371f1b-c706-46fe-d06e-380f1806a850"
      },
      "source": [
        "[(idx_to_movie[i[0]], i[1]) for i in explain[1]]"
      ],
      "id": "impossible-competition",
      "execution_count": null,
      "outputs": [
        {
          "data": {
            "text/plain": [
              "[(1022, 0.24156215586026025),\n",
              " (2081, 0.02634279082136016),\n",
              " (2115, 0.013899383431974058),\n",
              " (1, 0.007557615302793256),\n",
              " (1035, 0.004722663010809339)]"
            ]
          },
          "execution_count": 77,
          "metadata": {},
          "output_type": "execute_result"
        }
      ]
    },
    {
      "cell_type": "code",
      "metadata": {
        "id": "transsexual-louisville",
        "outputId": "ddcdba59-b0ff-417b-dc1b-614d41425224"
      },
      "source": [
        "movie_list = [idx_to_movie[i[0]] for i in explain[1]]\n",
        "movies.loc[movies['movie_id'].isin(movie_list)]"
      ],
      "id": "transsexual-louisville",
      "execution_count": null,
      "outputs": [
        {
          "data": {
            "text/html": [
              "<div>\n",
              "<style scoped>\n",
              "    .dataframe tbody tr th:only-of-type {\n",
              "        vertical-align: middle;\n",
              "    }\n",
              "\n",
              "    .dataframe tbody tr th {\n",
              "        vertical-align: top;\n",
              "    }\n",
              "\n",
              "    .dataframe thead th {\n",
              "        text-align: right;\n",
              "    }\n",
              "</style>\n",
              "<table border=\"1\" class=\"dataframe\">\n",
              "  <thead>\n",
              "    <tr style=\"text-align: right;\">\n",
              "      <th></th>\n",
              "      <th>movie_id</th>\n",
              "      <th>title</th>\n",
              "      <th>genre</th>\n",
              "    </tr>\n",
              "  </thead>\n",
              "  <tbody>\n",
              "    <tr>\n",
              "      <th>0</th>\n",
              "      <td>1</td>\n",
              "      <td>Toy Story (1995)</td>\n",
              "      <td>Animation|Children's|Comedy</td>\n",
              "    </tr>\n",
              "    <tr>\n",
              "      <th>1009</th>\n",
              "      <td>1022</td>\n",
              "      <td>Cinderella (1950)</td>\n",
              "      <td>Animation|Children's|Musical</td>\n",
              "    </tr>\n",
              "    <tr>\n",
              "      <th>1022</th>\n",
              "      <td>1035</td>\n",
              "      <td>Sound of Music, The (1965)</td>\n",
              "      <td>Musical</td>\n",
              "    </tr>\n",
              "    <tr>\n",
              "      <th>2012</th>\n",
              "      <td>2081</td>\n",
              "      <td>Little Mermaid, The (1989)</td>\n",
              "      <td>Animation|Children's|Comedy|Musical|Romance</td>\n",
              "    </tr>\n",
              "    <tr>\n",
              "      <th>2046</th>\n",
              "      <td>2115</td>\n",
              "      <td>Indiana Jones and the Temple of Doom (1984)</td>\n",
              "      <td>Action|Adventure</td>\n",
              "    </tr>\n",
              "  </tbody>\n",
              "</table>\n",
              "</div>"
            ],
            "text/plain": [
              "      movie_id                                        title  \\\n",
              "0            1                             Toy Story (1995)   \n",
              "1009      1022                            Cinderella (1950)   \n",
              "1022      1035                   Sound of Music, The (1965)   \n",
              "2012      2081                   Little Mermaid, The (1989)   \n",
              "2046      2115  Indiana Jones and the Temple of Doom (1984)   \n",
              "\n",
              "                                            genre  \n",
              "0                     Animation|Children's|Comedy  \n",
              "1009                 Animation|Children's|Musical  \n",
              "1022                                      Musical  \n",
              "2012  Animation|Children's|Comedy|Musical|Romance  \n",
              "2046                             Action|Adventure  "
            ]
          },
          "execution_count": 78,
          "metadata": {},
          "output_type": "execute_result"
        }
      ]
    },
    {
      "cell_type": "markdown",
      "metadata": {
        "id": "reliable-denmark"
      },
      "source": [
        "영화 '신데렐라'가 기여한 정도가 가장 크다.\n",
        "- 만화영화\n",
        "- 어린이용\n",
        "- 뮤지컬영화\n",
        "\n",
        "등등 공통점이 많기 때문이라고 생각한다."
      ],
      "id": "reliable-denmark"
    },
    {
      "cell_type": "markdown",
      "metadata": {
        "id": "sweet-china"
      },
      "source": [
        "# 루브릭\n",
        "1.CSR matrix가 정상적으로 만들어졌다.\n",
        "- 사용자와 아이템 개수를 바탕으로 정확한 사이즈로 만들었다.\n",
        "2.MF 모델이 정상적으로 훈련되어 그럴듯한 추천이 이루어졌다.\n",
        "- 사용자와 아이템 벡터 내적수치가 의미있게 형성되었다.\n",
        "3.비슷한 영화 찾기와 유저에게 추천하기의 과정이 정상적으로 진행되었다.\n",
        "- MF모델이 예측한 유저 선호도 및 아이템간 유사도, 기여도가 의미있게 측정되었다."
      ],
      "id": "sweet-china"
    },
    {
      "cell_type": "markdown",
      "metadata": {
        "id": "intensive-merit"
      },
      "source": [
        "# 회고\n",
        "\n",
        "실습을 하면서 깨달은 건데 처음에 movies 데이터프레임을 ratings 데이터프레임과 movie_id를 기준으로 합친 후에 movie_id칼럼을 제거하고 movie_title에 대하여 indexing을 하는 것이 맞았던 것 같다.\n",
        "\n",
        "그리고 평점을 영화를 본 횟수로 여겨서 추천시스템을 구성하는 게 색다른 것 같다. 처음엔 의아했지만 생각해보니 평점과 영화를 본 횟수 둘 다 클수록 선호도가 높다고 여길 수도 있기 때문에 합리적인 추천 기준이라고 생각했다. 하지만 이번에 implicit데이터로 간주한 것과 평점으로 진행했을 때의 구현 방법, 성능 등의 차이가 궁금하다.\n",
        "\n",
        "마지막에 학습한 모델로 유사한 영화를 추천하는데 만화영화에 대한 결과에 무슨 공포영화가 있어서 학습이 잘 안된줄 알았으나, 또 내가 좋아할만한 영화들에 대한 추천은 훨씬 납득가능한 결과여서 신기했고 이러한 결과의 원인도 궁금했다."
      ],
      "id": "intensive-merit"
    }
  ]
}