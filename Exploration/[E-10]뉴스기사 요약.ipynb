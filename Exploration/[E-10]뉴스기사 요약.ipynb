{
  "nbformat": 4,
  "nbformat_minor": 0,
  "metadata": {
    "colab": {
      "name": "[E-10]뉴스기사 요약.ipynb",
      "provenance": [],
      "collapsed_sections": [
        "K-DRd044F8-0",
        "0Ke8AgYOGCYC",
        "nq-EhOzcGKl6",
        "cHqEolAT6Opu"
      ],
      "toc_visible": true,
      "include_colab_link": true
    },
    "kernelspec": {
      "display_name": "Python 3",
      "language": "python",
      "name": "python3"
    },
    "language_info": {
      "codemirror_mode": {
        "name": "ipython",
        "version": 3
      },
      "file_extension": ".py",
      "mimetype": "text/x-python",
      "name": "python",
      "nbconvert_exporter": "python",
      "pygments_lexer": "ipython3",
      "version": "3.7.9"
    }
  },
  "cells": [
    {
      "cell_type": "markdown",
      "metadata": {
        "id": "view-in-github",
        "colab_type": "text"
      },
      "source": [
        "<a href=\"https://colab.research.google.com/github/Beatriz-Yun/AIFFEL_LMS/blob/main/Exploration/%5BE-10%5D%EB%89%B4%EC%8A%A4%EA%B8%B0%EC%82%AC%20%EC%9A%94%EC%95%BD.ipynb\" target=\"_parent\"><img src=\"https://colab.research.google.com/assets/colab-badge.svg\" alt=\"Open In Colab\"/></a>"
      ]
    },
    {
      "cell_type": "markdown",
      "metadata": {
        "id": "s4fxo-OdFOi6"
      },
      "source": [
        "# Step 1. 데이터 수집하기\n",
        "데이터는 아래 링크에 있는 뉴스 기사 데이터(news_summary_more.csv)를 사용한다.\n",
        "- [sunnysai12345/News_Summary](https://github.com/sunnysai12345/News_Summary)\n",
        "\n",
        "<br>\n",
        "\n",
        "urllib.request를 이용하여 깃허브링크를 통해 파일을 다운받을 수 있다."
      ]
    },
    {
      "cell_type": "code",
      "metadata": {
        "id": "Uu9axxWM6OpZ",
        "outputId": "b0655b54-fd23-4fc0-95a5-b4453236af43"
      },
      "source": [
        "import nltk\n",
        "nltk.download('stopwords')\n",
        "\n",
        "import numpy as np\n",
        "import pandas as pd\n",
        "import os\n",
        "import re\n",
        "import matplotlib.pyplot as plt\n",
        "from nltk.corpus import stopwords\n",
        "from bs4 import BeautifulSoup \n",
        "from tensorflow.keras.preprocessing.text import Tokenizer \n",
        "from tensorflow.keras.preprocessing.sequence import pad_sequences\n",
        "import urllib.request"
      ],
      "execution_count": null,
      "outputs": [
        {
          "name": "stderr",
          "output_type": "stream",
          "text": [
            "[nltk_data] Downloading package stopwords to /aiffel/nltk_data...\n",
            "[nltk_data]   Package stopwords is already up-to-date!\n"
          ]
        }
      ]
    },
    {
      "cell_type": "code",
      "metadata": {
        "id": "SzA7B06GxgxJ"
      },
      "source": [
        "import pandas as pd\n",
        "import urllib.request\n",
        "\n",
        "urllib.request.urlretrieve(\"https://raw.githubusercontent.com/sunnysai12345/News_Summary/master/news_summary_more.csv\", filename=\"news_summary_more.csv\")\n",
        "data = pd.read_csv('news_summary_more.csv', encoding='iso-8859-1')"
      ],
      "execution_count": null,
      "outputs": []
    },
    {
      "cell_type": "markdown",
      "metadata": {
        "id": "uXo3zmPAFuKa"
      },
      "source": [
        "데이터를 살펴보면, 기사의 본문에 해당되는 text와 headlines 두 가지 열로 구성되어져 있다.\n",
        "\n",
        "- 추상적 요약을 하는 경우에는 text를 본문, **headlines를 이미 요약된 데이터로 삼아서** 모델을 학습할 수 있다.\n",
        "- 추출적 요약을 하는 경우에는 오직 text열만을 사용한다."
      ]
    },
    {
      "cell_type": "code",
      "metadata": {
        "colab": {
          "base_uri": "https://localhost:8080/",
          "height": 362
        },
        "id": "6Yp49ixmFpuv",
        "scrolled": true,
        "outputId": "5f5e19df-3742-47dc-b812-cdfe2a17f370"
      },
      "source": [
        "data.sample(10)"
      ],
      "execution_count": null,
      "outputs": [
        {
          "data": {
            "text/html": [
              "<div>\n",
              "<style scoped>\n",
              "    .dataframe tbody tr th:only-of-type {\n",
              "        vertical-align: middle;\n",
              "    }\n",
              "\n",
              "    .dataframe tbody tr th {\n",
              "        vertical-align: top;\n",
              "    }\n",
              "\n",
              "    .dataframe thead th {\n",
              "        text-align: right;\n",
              "    }\n",
              "</style>\n",
              "<table border=\"1\" class=\"dataframe\">\n",
              "  <thead>\n",
              "    <tr style=\"text-align: right;\">\n",
              "      <th></th>\n",
              "      <th>headlines</th>\n",
              "      <th>text</th>\n",
              "    </tr>\n",
              "  </thead>\n",
              "  <tbody>\n",
              "    <tr>\n",
              "      <th>12658</th>\n",
              "      <td>Floods in Qatar as almost a year's rain falls ...</td>\n",
              "      <td>Qatar was hit by flash flooding last week as t...</td>\n",
              "    </tr>\n",
              "    <tr>\n",
              "      <th>82863</th>\n",
              "      <td>State of emergency declared in New York subways</td>\n",
              "      <td>New York Governor Andrew Cuomo on Thursday dec...</td>\n",
              "    </tr>\n",
              "    <tr>\n",
              "      <th>76668</th>\n",
              "      <td>CRPF jawans accused of molesting schoolgirls i...</td>\n",
              "      <td>CRPF personnel have been accused of molesting ...</td>\n",
              "    </tr>\n",
              "    <tr>\n",
              "      <th>45981</th>\n",
              "      <td>BJP doesn't care about kids: Cong leader on hi...</td>\n",
              "      <td>Reacting to the hit-and-run case where a BJP l...</td>\n",
              "    </tr>\n",
              "    <tr>\n",
              "      <th>38518</th>\n",
              "      <td>Indian-origin chef fired over \"anti-Islam\" twe...</td>\n",
              "      <td>Dubai's JW Marriott Marquis has fired Michelin...</td>\n",
              "    </tr>\n",
              "    <tr>\n",
              "      <th>24591</th>\n",
              "      <td>Startup makes 'Harry Potter' app to teach codi...</td>\n",
              "      <td>London-headquartered startup Kano has teamed u...</td>\n",
              "    </tr>\n",
              "    <tr>\n",
              "      <th>79468</th>\n",
              "      <td>MEA Spokesman Baglay appointed as Joint Secret...</td>\n",
              "      <td>Ministry of External Affairs Spokesperson Gopa...</td>\n",
              "    </tr>\n",
              "    <tr>\n",
              "      <th>68279</th>\n",
              "      <td>Azerbaijan Prez talks on genocide, daughter ta...</td>\n",
              "      <td>The 33-year-old daughter of Azerbaijan's Presi...</td>\n",
              "    </tr>\n",
              "    <tr>\n",
              "      <th>24150</th>\n",
              "      <td>Dravid's son scores fifty, picks 3 wickets in ...</td>\n",
              "      <td>Former Indian captain Rahul Dravid's son Samit...</td>\n",
              "    </tr>\n",
              "    <tr>\n",
              "      <th>15877</th>\n",
              "      <td>No need to collect data: Supreme Court on SC/S...</td>\n",
              "      <td>The Supreme Court on Wednesday said that there...</td>\n",
              "    </tr>\n",
              "  </tbody>\n",
              "</table>\n",
              "</div>"
            ],
            "text/plain": [
              "                                               headlines  \\\n",
              "12658  Floods in Qatar as almost a year's rain falls ...   \n",
              "82863    State of emergency declared in New York subways   \n",
              "76668  CRPF jawans accused of molesting schoolgirls i...   \n",
              "45981  BJP doesn't care about kids: Cong leader on hi...   \n",
              "38518  Indian-origin chef fired over \"anti-Islam\" twe...   \n",
              "24591  Startup makes 'Harry Potter' app to teach codi...   \n",
              "79468  MEA Spokesman Baglay appointed as Joint Secret...   \n",
              "68279  Azerbaijan Prez talks on genocide, daughter ta...   \n",
              "24150  Dravid's son scores fifty, picks 3 wickets in ...   \n",
              "15877  No need to collect data: Supreme Court on SC/S...   \n",
              "\n",
              "                                                    text  \n",
              "12658  Qatar was hit by flash flooding last week as t...  \n",
              "82863  New York Governor Andrew Cuomo on Thursday dec...  \n",
              "76668  CRPF personnel have been accused of molesting ...  \n",
              "45981  Reacting to the hit-and-run case where a BJP l...  \n",
              "38518  Dubai's JW Marriott Marquis has fired Michelin...  \n",
              "24591  London-headquartered startup Kano has teamed u...  \n",
              "79468  Ministry of External Affairs Spokesperson Gopa...  \n",
              "68279  The 33-year-old daughter of Azerbaijan's Presi...  \n",
              "24150  Former Indian captain Rahul Dravid's son Samit...  \n",
              "15877  The Supreme Court on Wednesday said that there...  "
            ]
          },
          "execution_count": 2,
          "metadata": {},
          "output_type": "execute_result"
        }
      ]
    },
    {
      "cell_type": "markdown",
      "metadata": {
        "id": "fWA1jYgEF53j"
      },
      "source": [
        "# Step 2. 데이터 전처리하기 (추상적 요약)\n",
        "텍스트를 정규화 또는 정제해 보세요. 만약, 불용어 제거를 선택한다면 상대적으로 길이가 짧은 요약 데이터에 대해서도 불용어를 제거하는 것이 좋을지 고민해 보세요."
      ]
    },
    {
      "cell_type": "code",
      "metadata": {
        "id": "WoIi4TXP6Opc",
        "outputId": "efb7856b-df9f-4003-90d2-5876e2cfb8d2"
      },
      "source": [
        "data.rename(columns={'headlines':'Summary', 'text':'Text'}, inplace = True)\n",
        "\n",
        "print('Text 열에서 중복을 배제한 유일한 샘플의 수 :', data['Text'].nunique())\n",
        "print('Summary 열에서 중복을 배제한 유일한 샘플의 수 :', data['Summary'].nunique())"
      ],
      "execution_count": null,
      "outputs": [
        {
          "name": "stdout",
          "output_type": "stream",
          "text": [
            "Text 열에서 중복을 배제한 유일한 샘플의 수 : 98360\n",
            "Summary 열에서 중복을 배제한 유일한 샘플의 수 : 98280\n"
          ]
        }
      ]
    },
    {
      "cell_type": "code",
      "metadata": {
        "id": "_TcmD0946Opc",
        "outputId": "bc9bab6a-145f-48ac-eb8c-48f49bc5c3fa"
      },
      "source": [
        "# inplace=True 를 설정하면 DataFrame 타입 값을 return 하지 않고 data 내부를 직접적으로 바꿉니다\n",
        "data.drop_duplicates(subset = ['Text'], inplace=True)\n",
        "print('전체 샘플수 :', (len(data)))"
      ],
      "execution_count": null,
      "outputs": [
        {
          "name": "stdout",
          "output_type": "stream",
          "text": [
            "전체 샘플수 : 98360\n"
          ]
        }
      ]
    },
    {
      "cell_type": "code",
      "metadata": {
        "id": "UJwIDGQG6Opd",
        "outputId": "1245668a-2d91-4b53-b12b-d8cd9bfd2757"
      },
      "source": [
        "print(data.isnull().sum())    # 결측치 개수 확인"
      ],
      "execution_count": null,
      "outputs": [
        {
          "name": "stdout",
          "output_type": "stream",
          "text": [
            "Summary    0\n",
            "Text       0\n",
            "dtype: int64\n"
          ]
        }
      ]
    },
    {
      "cell_type": "code",
      "metadata": {
        "id": "4cX9H3gt6Opd",
        "outputId": "85d1a0c2-a896-4892-f303-02c8c504c771"
      },
      "source": [
        "# 정규화 사전\n",
        "contractions = {\"ain't\": \"is not\", \"aren't\": \"are not\",\"can't\": \"cannot\", \"'cause\": \"because\", \"could've\": \"could have\", \"couldn't\": \"could not\",\n",
        "                           \"didn't\": \"did not\",  \"doesn't\": \"does not\", \"don't\": \"do not\", \"hadn't\": \"had not\", \"hasn't\": \"has not\", \"haven't\": \"have not\",\n",
        "                           \"he'd\": \"he would\",\"he'll\": \"he will\", \"he's\": \"he is\", \"how'd\": \"how did\", \"how'd'y\": \"how do you\", \"how'll\": \"how will\", \"how's\": \"how is\",\n",
        "                           \"I'd\": \"I would\", \"I'd've\": \"I would have\", \"I'll\": \"I will\", \"I'll've\": \"I will have\",\"I'm\": \"I am\", \"I've\": \"I have\", \"i'd\": \"i would\",\n",
        "                           \"i'd've\": \"i would have\", \"i'll\": \"i will\",  \"i'll've\": \"i will have\",\"i'm\": \"i am\", \"i've\": \"i have\", \"isn't\": \"is not\", \"it'd\": \"it would\",\n",
        "                           \"it'd've\": \"it would have\", \"it'll\": \"it will\", \"it'll've\": \"it will have\",\"it's\": \"it is\", \"let's\": \"let us\", \"ma'am\": \"madam\",\n",
        "                           \"mayn't\": \"may not\", \"might've\": \"might have\",\"mightn't\": \"might not\",\"mightn't've\": \"might not have\", \"must've\": \"must have\",\n",
        "                           \"mustn't\": \"must not\", \"mustn't've\": \"must not have\", \"needn't\": \"need not\", \"needn't've\": \"need not have\",\"o'clock\": \"of the clock\",\n",
        "                           \"oughtn't\": \"ought not\", \"oughtn't've\": \"ought not have\", \"shan't\": \"shall not\", \"sha'n't\": \"shall not\", \"shan't've\": \"shall not have\",\n",
        "                           \"she'd\": \"she would\", \"she'd've\": \"she would have\", \"she'll\": \"she will\", \"she'll've\": \"she will have\", \"she's\": \"she is\",\n",
        "                           \"should've\": \"should have\", \"shouldn't\": \"should not\", \"shouldn't've\": \"should not have\", \"so've\": \"so have\",\"so's\": \"so as\",\n",
        "                           \"this's\": \"this is\",\"that'd\": \"that would\", \"that'd've\": \"that would have\", \"that's\": \"that is\", \"there'd\": \"there would\",\n",
        "                           \"there'd've\": \"there would have\", \"there's\": \"there is\", \"here's\": \"here is\",\"they'd\": \"they would\", \"they'd've\": \"they would have\",\n",
        "                           \"they'll\": \"they will\", \"they'll've\": \"they will have\", \"they're\": \"they are\", \"they've\": \"they have\", \"to've\": \"to have\",\n",
        "                           \"wasn't\": \"was not\", \"we'd\": \"we would\", \"we'd've\": \"we would have\", \"we'll\": \"we will\", \"we'll've\": \"we will have\", \"we're\": \"we are\",\n",
        "                           \"we've\": \"we have\", \"weren't\": \"were not\", \"what'll\": \"what will\", \"what'll've\": \"what will have\", \"what're\": \"what are\",\n",
        "                           \"what's\": \"what is\", \"what've\": \"what have\", \"when's\": \"when is\", \"when've\": \"when have\", \"where'd\": \"where did\", \"where's\": \"where is\",\n",
        "                           \"where've\": \"where have\", \"who'll\": \"who will\", \"who'll've\": \"who will have\", \"who's\": \"who is\", \"who've\": \"who have\",\n",
        "                           \"why's\": \"why is\", \"why've\": \"why have\", \"will've\": \"will have\", \"won't\": \"will not\", \"won't've\": \"will not have\",\n",
        "                           \"would've\": \"would have\", \"wouldn't\": \"would not\", \"wouldn't've\": \"would not have\", \"y'all\": \"you all\",\n",
        "                           \"y'all'd\": \"you all would\",\"y'all'd've\": \"you all would have\",\"y'all're\": \"you all are\",\"y'all've\": \"you all have\",\n",
        "                           \"you'd\": \"you would\", \"you'd've\": \"you would have\", \"you'll\": \"you will\", \"you'll've\": \"you will have\",\n",
        "                           \"you're\": \"you are\", \"you've\": \"you have\"}\n",
        "\n",
        "print(\"정규화 사전의 수: \", len(contractions))"
      ],
      "execution_count": null,
      "outputs": [
        {
          "name": "stdout",
          "output_type": "stream",
          "text": [
            "정규화 사전의 수:  120\n"
          ]
        }
      ]
    },
    {
      "cell_type": "code",
      "metadata": {
        "id": "Cpi1W_876Opf",
        "outputId": "b5440919-a16c-4dfa-b510-8a66bb4f56e1"
      },
      "source": [
        "print('불용어 개수 :', len(stopwords.words('english') ))\n",
        "print(stopwords.words('english'))"
      ],
      "execution_count": null,
      "outputs": [
        {
          "name": "stdout",
          "output_type": "stream",
          "text": [
            "불용어 개수 : 179\n",
            "['i', 'me', 'my', 'myself', 'we', 'our', 'ours', 'ourselves', 'you', \"you're\", \"you've\", \"you'll\", \"you'd\", 'your', 'yours', 'yourself', 'yourselves', 'he', 'him', 'his', 'himself', 'she', \"she's\", 'her', 'hers', 'herself', 'it', \"it's\", 'its', 'itself', 'they', 'them', 'their', 'theirs', 'themselves', 'what', 'which', 'who', 'whom', 'this', 'that', \"that'll\", 'these', 'those', 'am', 'is', 'are', 'was', 'were', 'be', 'been', 'being', 'have', 'has', 'had', 'having', 'do', 'does', 'did', 'doing', 'a', 'an', 'the', 'and', 'but', 'if', 'or', 'because', 'as', 'until', 'while', 'of', 'at', 'by', 'for', 'with', 'about', 'against', 'between', 'into', 'through', 'during', 'before', 'after', 'above', 'below', 'to', 'from', 'up', 'down', 'in', 'out', 'on', 'off', 'over', 'under', 'again', 'further', 'then', 'once', 'here', 'there', 'when', 'where', 'why', 'how', 'all', 'any', 'both', 'each', 'few', 'more', 'most', 'other', 'some', 'such', 'no', 'nor', 'not', 'only', 'own', 'same', 'so', 'than', 'too', 'very', 's', 't', 'can', 'will', 'just', 'don', \"don't\", 'should', \"should've\", 'now', 'd', 'll', 'm', 'o', 're', 've', 'y', 'ain', 'aren', \"aren't\", 'couldn', \"couldn't\", 'didn', \"didn't\", 'doesn', \"doesn't\", 'hadn', \"hadn't\", 'hasn', \"hasn't\", 'haven', \"haven't\", 'isn', \"isn't\", 'ma', 'mightn', \"mightn't\", 'mustn', \"mustn't\", 'needn', \"needn't\", 'shan', \"shan't\", 'shouldn', \"shouldn't\", 'wasn', \"wasn't\", 'weren', \"weren't\", 'won', \"won't\", 'wouldn', \"wouldn't\"]\n"
          ]
        }
      ]
    },
    {
      "cell_type": "code",
      "metadata": {
        "id": "kITYggGW6Opg"
      },
      "source": [
        "# 데이터 전처리 함수\n",
        "def preprocess_sentence(sentence, remove_stopwords=True):\n",
        "    sentence = sentence.lower() # 텍스트 소문자화\n",
        "    sentence = BeautifulSoup(sentence, \"lxml\").text # <br />, <a href = ...> 등의 html 태그 제거\n",
        "    sentence = re.sub(r'\\([^)]*\\)', '', sentence) # 괄호로 닫힌 문자열 (...) 제거 Ex) my husband (and myself!) for => my husband for\n",
        "    sentence = re.sub('\"','', sentence) # 쌍따옴표 \" 제거\n",
        "    sentence = ' '.join([contractions[t] if t in contractions else t for t in sentence.split(\" \")]) # 약어 정규화\n",
        "    sentence = re.sub(r\"'s\\b\",\"\", sentence) # 소유격 제거. Ex) roland's -> roland\n",
        "    sentence = re.sub(\"[^a-zA-Z]\", \" \", sentence) # 영어 외 문자(숫자, 특수문자 등) 공백으로 변환\n",
        "    sentence = re.sub('[m]{2,}', 'mm', sentence) # m이 3개 이상이면 2개로 변경. Ex) ummmmmmm yeah -> umm yeah\n",
        "    \n",
        "    # 불용어 제거 (Text)\n",
        "    if remove_stopwords:\n",
        "        tokens = ' '.join(word for word in sentence.split() if not word in stopwords.words('english') if len(word) > 1)\n",
        "    # 불용어 미제거 (Summary)\n",
        "    else:\n",
        "        tokens = ' '.join(word for word in sentence.split() if len(word) > 1)\n",
        "    return tokens"
      ],
      "execution_count": null,
      "outputs": []
    },
    {
      "cell_type": "code",
      "metadata": {
        "id": "WZLgPfme6Oph",
        "outputId": "e90d2b91-be3f-41dc-fa73-6c71c4254dd8"
      },
      "source": [
        "import multiprocessing as mp\n",
        "mp.cpu_count()"
      ],
      "execution_count": null,
      "outputs": [
        {
          "data": {
            "text/plain": [
              "6"
            ]
          },
          "execution_count": 15,
          "metadata": {},
          "output_type": "execute_result"
        }
      ]
    },
    {
      "cell_type": "code",
      "metadata": {
        "id": "BlcAopAL6Opj",
        "outputId": "60b9b1ed-b0da-43b4-c496-85f6cff76c22"
      },
      "source": [
        "import multiprocessing as mp   # 멀티 프로세싱으로 전처리 속도를 획기적으로 줄여봅시다\n",
        "from multiprocessing import Pool\n",
        "import numpy as np\n",
        "import time\n",
        "from functools import partial  # map을 할 때 함수에 여러 인자를 넣어줄 수 있도록 합니다\n",
        "\n",
        "start = time.time()\n",
        "\n",
        "# num_cores 만큼 쪼개진 데이터를 전처리하여 반환합니다\n",
        "def appendTexts(sentences, remove_stopwords):\n",
        "    texts = []\n",
        "    for s in sentences:\n",
        "        texts += preprocess_sentence(s, remove_stopwords),\n",
        "    return texts\n",
        "\n",
        "def preprocess_data(data, remove_stopwords=True):\n",
        "    start_time = time.time()\n",
        "    num_cores = mp.cpu_count()  # 컴퓨터의 코어 수를 구합니다\n",
        "\n",
        "    text_data_split = np.array_split(data, num_cores)  # 코어 수만큼 데이터를 배분하여 병렬적으로 처리할 수 있게 합니다\n",
        "    pool = Pool(num_cores)\n",
        "\n",
        "    processed_data = np.concatenate(pool.map(partial(appendTexts, remove_stopwords=remove_stopwords), text_data_split))  # 각자 작업한 데이터를 하나로 합쳐줍니다\n",
        "    pool.close()\n",
        "    pool.join()\n",
        "    print(time.time() - start_time, \" seconds\")\n",
        "    return processed_data\n",
        "\n",
        "clean_text = preprocess_data(data['Text'])  # 클라우드 기준으로 3~4분 정도 소요 됩니다\n",
        "print(clean_text)\n",
        "\n",
        "clean_summary = preprocess_data(data['Summary'], remove_stopwords=False) # 클라우드 기준 1분정도 소요됩니다.\n",
        "print(clean_summary)"
      ],
      "execution_count": null,
      "outputs": [
        {
          "name": "stdout",
          "output_type": "stream",
          "text": [
            "181.71606707572937  seconds\n",
            "['saurav kant alumnus upgrad iiit pg program machine learning artificial intelligence sr systems engineer infosys almost years work experience program upgrad degree career support helped transition data scientist tech mahindra salary hike upgrad online power learning powered lakh careers'\n",
            " 'kunal shah credit card bill payment platform cred gave users chance win free food swiggy one year pranav kaushik delhi techie bagged reward spending cred coins users get one cred coin per rupee bill paid used avail rewards brands like ixigo bookmyshow ubereats cult fit'\n",
            " 'new zealand defeated india wickets fourth odi hamilton thursday win first match five match odi series india lost international match rohit sharma captaincy consecutive victories dating back march match witnessed india getting seventh lowest total odi cricket history'\n",
            " ...\n",
            " 'according reports new version science fiction film matrix development michael jordan reportedly play lead role film screenwriter zak penn talks write script film reports added actor keanu reeves starred original film followed two sequels'\n",
            " 'new music video shows rapper snoop dogg aiming toy gun clown character parodying us president donald trump video also shows tv airing news conference headline ronald klump wants deport doggs airing live clown house video remixed version song lavender'\n",
            " 'madhesi morcha alliance seven political parties withdrawn support pm pushpa kamal dahal led nepal government failed meet seven day ultimatum fulfil demands including endorsement revised constitution amendment bill morcha seats parliament despite withdrawal support immediate threat government']\n",
            "5.974462270736694  seconds\n",
            "['upgrad learner switches to career in ml al with salary hike'\n",
            " 'delhi techie wins free food from swiggy for one year on cred'\n",
            " 'new zealand end rohit sharma led india match winning streak' ...\n",
            " 'the matrix film to get reboot reports'\n",
            " 'snoop dogg aims gun at clown dressed as trump in new video'\n",
            " 'madhesi morcha withdraws support to nepalese government']\n"
          ]
        }
      ]
    },
    {
      "cell_type": "code",
      "metadata": {
        "id": "F3Oq-HXz6Opk"
      },
      "source": [
        "data['Text'] = clean_text\n",
        "data['Summary'] = clean_summary\n",
        "\n",
        "# 빈 값을 Null 값으로 변환\n",
        "data.replace('', np.nan, inplace=True)"
      ],
      "execution_count": null,
      "outputs": []
    },
    {
      "cell_type": "code",
      "metadata": {
        "id": "kwimWije6Opk",
        "outputId": "6c673096-c144-4a83-952f-f7e6da8a8c29"
      },
      "source": [
        "data.isnull().sum()"
      ],
      "execution_count": null,
      "outputs": [
        {
          "data": {
            "text/plain": [
              "Summary    0\n",
              "Text       0\n",
              "dtype: int64"
            ]
          },
          "execution_count": 18,
          "metadata": {},
          "output_type": "execute_result"
        }
      ]
    },
    {
      "cell_type": "code",
      "metadata": {
        "id": "yawV5_uN6Opl",
        "outputId": "852b7eca-4949-4477-a88e-1bee00db95da"
      },
      "source": [
        "data.dropna(axis=0, inplace=True)\n",
        "print('전체 샘플수 :', (len(data)))"
      ],
      "execution_count": null,
      "outputs": [
        {
          "name": "stdout",
          "output_type": "stream",
          "text": [
            "전체 샘플수 : 98360\n"
          ]
        }
      ]
    },
    {
      "cell_type": "code",
      "metadata": {
        "id": "ummtcpUW6Opl",
        "outputId": "02eb7272-12df-4fc8-8be2-54cfe1eb7a06"
      },
      "source": [
        "# 길이 분포 출력\n",
        "import matplotlib.pyplot as plt\n",
        "\n",
        "text_len = [len(s.split()) for s in data['Text']]\n",
        "summary_len = [len(s.split()) for s in data['Summary']]\n",
        "\n",
        "print('텍스트의 최소 길이 : {}'.format(np.min(text_len)))\n",
        "print('텍스트의 최대 길이 : {}'.format(np.max(text_len)))\n",
        "print('텍스트의 평균 길이 : {}'.format(np.mean(text_len)))\n",
        "print('요약의 최소 길이 : {}'.format(np.min(summary_len)))\n",
        "print('요약의 최대 길이 : {}'.format(np.max(summary_len)))\n",
        "print('요약의 평균 길이 : {}'.format(np.mean(summary_len)))\n",
        "\n",
        "plt.subplot(1,2,1)\n",
        "plt.boxplot(summary_len)\n",
        "plt.title('Summary')\n",
        "plt.subplot(1,2,2)\n",
        "plt.boxplot(text_len)\n",
        "plt.title('Text')\n",
        "plt.tight_layout()\n",
        "plt.show()\n",
        "\n",
        "plt.title('Summary')\n",
        "plt.hist(summary_len, bins = 40)\n",
        "plt.xlabel('length of samples')\n",
        "plt.ylabel('number of samples')\n",
        "plt.show()\n",
        "\n",
        "plt.title('Text')\n",
        "plt.hist(text_len, bins = 40)\n",
        "plt.xlabel('length of samples')\n",
        "plt.ylabel('number of samples')\n",
        "plt.show()"
      ],
      "execution_count": null,
      "outputs": [
        {
          "name": "stdout",
          "output_type": "stream",
          "text": [
            "텍스트의 최소 길이 : 1\n",
            "텍스트의 최대 길이 : 60\n",
            "텍스트의 평균 길이 : 35.09968483123221\n",
            "요약의 최소 길이 : 1\n",
            "요약의 최대 길이 : 16\n",
            "요약의 평균 길이 : 9.299532330215534\n"
          ]
        },
        {
          "data": {
            "image/png": "[encoded data removed]",
            "text/plain": [
              "<Figure size 432x288 with 2 Axes>"
            ]
          },
          "metadata": {
            "needs_background": "light"
          },
          "output_type": "display_data"
        },
        {
          "data": {
            "image/png": "[encoded data removed]",
            "text/plain": [
              "<Figure size 432x288 with 1 Axes>"
            ]
          },
          "metadata": {
            "needs_background": "light"
          },
          "output_type": "display_data"
        },
        {
          "data": {
            "image/png": "[encoded data removed]",
            "text/plain": [
              "<Figure size 432x288 with 1 Axes>"
            ]
          },
          "metadata": {
            "needs_background": "light"
          },
          "output_type": "display_data"
        }
      ]
    },
    {
      "cell_type": "code",
      "metadata": {
        "id": "OpttWrjf6Opm"
      },
      "source": [
        "def below_threshold_len(max_len, nested_list):\n",
        "  cnt = 0\n",
        "  for s in nested_list:\n",
        "    if(len(s.split()) <= max_len):\n",
        "        cnt = cnt + 1\n",
        "  print('전체 샘플 중 길이가 %s 이하인 샘플의 비율: %s'%(max_len, (cnt / len(nested_list))))"
      ],
      "execution_count": null,
      "outputs": []
    },
    {
      "cell_type": "code",
      "metadata": {
        "id": "sRXgLVTQ6Opn",
        "outputId": "f54a2b94-c7e9-4d59-c1a6-1cdbc02e8547"
      },
      "source": [
        "text_max_len = 50\n",
        "summary_max_len = 8\n",
        "\n",
        "# 이렇게 만든 함수를 Text와 Summary에 적용해 우리가 결정한 임의의 길이가 몇%의 샘플까지 포함하는지 볼 수 있다.\n",
        "below_threshold_len(text_max_len, data['Text'])\n",
        "below_threshold_len(summary_max_len,  data['Summary'])"
      ],
      "execution_count": null,
      "outputs": [
        {
          "name": "stdout",
          "output_type": "stream",
          "text": [
            "전체 샘플 중 길이가 50 이하인 샘플의 비율: 0.9998576657177715\n",
            "전체 샘플 중 길이가 8 이하인 샘플의 비율: 0.2755693371289142\n"
          ]
        }
      ]
    },
    {
      "cell_type": "code",
      "metadata": {
        "id": "7VDDWb0V6Opn",
        "outputId": "0e950d84-389f-414d-be28-a54c5e07b4a0"
      },
      "source": [
        "data = data[data['Text'].apply(lambda x: len(x.split()) <= text_max_len)]\n",
        "data = data[data['Summary'].apply(lambda x: len(x.split()) <= summary_max_len)]\n",
        "print('전체 샘플수 :', (len(data)))"
      ],
      "execution_count": null,
      "outputs": [
        {
          "name": "stdout",
          "output_type": "stream",
          "text": [
            "전체 샘플수 : 27105\n"
          ]
        }
      ]
    },
    {
      "cell_type": "code",
      "metadata": {
        "id": "CaEJQgFt6Opo",
        "outputId": "e9b74314-28bd-4c26-bbd0-0f44b7288869"
      },
      "source": [
        "# 요약 데이터에는 시작 토큰과 종료 토큰을 추가한다.\n",
        "data['decoder_input'] = data['Summary'].apply(lambda x : 'sostoken '+ x)\n",
        "data['decoder_target'] = data['Summary'].apply(lambda x : x + ' eostoken')\n",
        "data.head()"
      ],
      "execution_count": null,
      "outputs": [
        {
          "data": {
            "text/html": [
              "<div>\n",
              "<style scoped>\n",
              "    .dataframe tbody tr th:only-of-type {\n",
              "        vertical-align: middle;\n",
              "    }\n",
              "\n",
              "    .dataframe tbody tr th {\n",
              "        vertical-align: top;\n",
              "    }\n",
              "\n",
              "    .dataframe thead th {\n",
              "        text-align: right;\n",
              "    }\n",
              "</style>\n",
              "<table border=\"1\" class=\"dataframe\">\n",
              "  <thead>\n",
              "    <tr style=\"text-align: right;\">\n",
              "      <th></th>\n",
              "      <th>Summary</th>\n",
              "      <th>Text</th>\n",
              "      <th>decoder_input</th>\n",
              "      <th>decoder_target</th>\n",
              "    </tr>\n",
              "  </thead>\n",
              "  <tbody>\n",
              "    <tr>\n",
              "      <th>19</th>\n",
              "      <td>odisha cm patnaik controls mining mafia union ...</td>\n",
              "      <td>union minister dharmendra pradhan wednesday cl...</td>\n",
              "      <td>sostoken odisha cm patnaik controls mining maf...</td>\n",
              "      <td>odisha cm patnaik controls mining mafia union ...</td>\n",
              "    </tr>\n",
              "    <tr>\n",
              "      <th>21</th>\n",
              "      <td>isro unveils bengaluru centre for manned space...</td>\n",
              "      <td>indian space research organisation wednesday u...</td>\n",
              "      <td>sostoken isro unveils bengaluru centre for man...</td>\n",
              "      <td>isro unveils bengaluru centre for manned space...</td>\n",
              "    </tr>\n",
              "    <tr>\n",
              "      <th>22</th>\n",
              "      <td>killed injured in saudi arabia floods</td>\n",
              "      <td>least people killed others injured saudi arabi...</td>\n",
              "      <td>sostoken killed injured in saudi arabia floods</td>\n",
              "      <td>killed injured in saudi arabia floods eostoken</td>\n",
              "    </tr>\n",
              "    <tr>\n",
              "      <th>29</th>\n",
              "      <td>seat cushions from missing plane carrying foot...</td>\n",
              "      <td>investigators searching lost plane carrying ar...</td>\n",
              "      <td>sostoken seat cushions from missing plane carr...</td>\n",
              "      <td>seat cushions from missing plane carrying foot...</td>\n",
              "    </tr>\n",
              "    <tr>\n",
              "      <th>36</th>\n",
              "      <td>agustawestland scam accused rajiv saxena extra...</td>\n",
              "      <td>agustawestland chopper scam co accused rajiv s...</td>\n",
              "      <td>sostoken agustawestland scam accused rajiv sax...</td>\n",
              "      <td>agustawestland scam accused rajiv saxena extra...</td>\n",
              "    </tr>\n",
              "  </tbody>\n",
              "</table>\n",
              "</div>"
            ],
            "text/plain": [
              "                                              Summary  \\\n",
              "19  odisha cm patnaik controls mining mafia union ...   \n",
              "21  isro unveils bengaluru centre for manned space...   \n",
              "22              killed injured in saudi arabia floods   \n",
              "29  seat cushions from missing plane carrying foot...   \n",
              "36  agustawestland scam accused rajiv saxena extra...   \n",
              "\n",
              "                                                 Text  \\\n",
              "19  union minister dharmendra pradhan wednesday cl...   \n",
              "21  indian space research organisation wednesday u...   \n",
              "22  least people killed others injured saudi arabi...   \n",
              "29  investigators searching lost plane carrying ar...   \n",
              "36  agustawestland chopper scam co accused rajiv s...   \n",
              "\n",
              "                                        decoder_input  \\\n",
              "19  sostoken odisha cm patnaik controls mining maf...   \n",
              "21  sostoken isro unveils bengaluru centre for man...   \n",
              "22     sostoken killed injured in saudi arabia floods   \n",
              "29  sostoken seat cushions from missing plane carr...   \n",
              "36  sostoken agustawestland scam accused rajiv sax...   \n",
              "\n",
              "                                       decoder_target  \n",
              "19  odisha cm patnaik controls mining mafia union ...  \n",
              "21  isro unveils bengaluru centre for manned space...  \n",
              "22     killed injured in saudi arabia floods eostoken  \n",
              "29  seat cushions from missing plane carrying foot...  \n",
              "36  agustawestland scam accused rajiv saxena extra...  "
            ]
          },
          "execution_count": 26,
          "metadata": {},
          "output_type": "execute_result"
        }
      ]
    },
    {
      "cell_type": "code",
      "metadata": {
        "id": "ZXN5T1yN6Opo"
      },
      "source": [
        "encoder_input = np.array(data['Text']) # 인코더의 입력\n",
        "decoder_input = np.array(data['decoder_input']) # 디코더의 입력\n",
        "decoder_target = np.array(data['decoder_target']) # 디코더의 레이블"
      ],
      "execution_count": null,
      "outputs": []
    },
    {
      "cell_type": "code",
      "metadata": {
        "id": "8UGb8xWC6Opo",
        "outputId": "b8967ea7-42c4-4497-9b31-d6c306f7ca28"
      },
      "source": [
        "indices = np.arange(encoder_input.shape[0])\n",
        "np.random.shuffle(indices)\n",
        "print(indices)"
      ],
      "execution_count": null,
      "outputs": [
        {
          "name": "stdout",
          "output_type": "stream",
          "text": [
            "[15606 23777 21262 ...  9105 19174 14357]\n"
          ]
        }
      ]
    },
    {
      "cell_type": "code",
      "metadata": {
        "id": "dSRwkEro6Opo"
      },
      "source": [
        "encoder_input = encoder_input[indices]\n",
        "decoder_input = decoder_input[indices]\n",
        "decoder_target = decoder_target[indices]"
      ],
      "execution_count": null,
      "outputs": []
    },
    {
      "cell_type": "code",
      "metadata": {
        "id": "ocm8asqM6Opp",
        "outputId": "9eb47b5b-20d9-49eb-fb22-9fc611730427"
      },
      "source": [
        "n_of_val = int(len(encoder_input)*0.2)\n",
        "print('테스트 데이터의 수 :', n_of_val)"
      ],
      "execution_count": null,
      "outputs": [
        {
          "name": "stdout",
          "output_type": "stream",
          "text": [
            "테스트 데이터의 수 : 5421\n"
          ]
        }
      ]
    },
    {
      "cell_type": "code",
      "metadata": {
        "id": "dd9pYE2X6Opp",
        "outputId": "efe78085-fd9a-4334-8fdc-40b97c0a2eb9"
      },
      "source": [
        "encoder_input_train = encoder_input[:-n_of_val]\n",
        "decoder_input_train = decoder_input[:-n_of_val]\n",
        "decoder_target_train = decoder_target[:-n_of_val]\n",
        "\n",
        "encoder_input_test = encoder_input[-n_of_val:]\n",
        "decoder_input_test = decoder_input[-n_of_val:]\n",
        "decoder_target_test = decoder_target[-n_of_val:]\n",
        "\n",
        "print('훈련 데이터의 개수 :', len(encoder_input_train))\n",
        "print('훈련 레이블의 개수 :', len(decoder_input_train))\n",
        "print('테스트 데이터의 개수 :', len(encoder_input_test))\n",
        "print('테스트 레이블의 개수 :', len(decoder_input_test))"
      ],
      "execution_count": null,
      "outputs": [
        {
          "name": "stdout",
          "output_type": "stream",
          "text": [
            "훈련 데이터의 개수 : 21684\n",
            "훈련 레이블의 개수 : 21684\n",
            "테스트 데이터의 개수 : 5421\n",
            "테스트 레이블의 개수 : 5421\n"
          ]
        }
      ]
    },
    {
      "cell_type": "code",
      "metadata": {
        "id": "ENIFZK_96Opp"
      },
      "source": [
        "src_tokenizer = Tokenizer() # 토크나이저 정의\n",
        "src_tokenizer.fit_on_texts(encoder_input_train) # 입력된 데이터로부터 단어 집합 생성"
      ],
      "execution_count": null,
      "outputs": []
    },
    {
      "cell_type": "code",
      "metadata": {
        "id": "Nu8Z0-tl6Opq",
        "outputId": "3c2bd436-e98e-4c1d-953f-caf8248aaa9f"
      },
      "source": [
        "threshold = 7\n",
        "total_cnt = len(src_tokenizer.word_index) # 단어의 수\n",
        "rare_cnt = 0 # 등장 빈도수가 threshold보다 작은 단어의 개수를 카운트\n",
        "total_freq = 0 # 훈련 데이터의 전체 단어 빈도수 총 합\n",
        "rare_freq = 0 # 등장 빈도수가 threshold보다 작은 단어의 등장 빈도수의 총 합\n",
        "\n",
        "# 단어와 빈도수의 쌍(pair)을 key와 value로 받는다.\n",
        "for key, value in src_tokenizer.word_counts.items():\n",
        "    total_freq = total_freq + value\n",
        "\n",
        "    # 단어의 등장 빈도수가 threshold보다 작으면\n",
        "    if(value < threshold):\n",
        "        rare_cnt = rare_cnt + 1\n",
        "        rare_freq = rare_freq + value\n",
        "\n",
        "print('단어 집합(vocabulary)의 크기 :', total_cnt)\n",
        "print('등장 빈도가 %s번 이하인 희귀 단어의 수: %s'%(threshold - 1, rare_cnt))\n",
        "print('단어 집합에서 희귀 단어를 제외시킬 경우의 단어 집합의 크기 %s'%(total_cnt - rare_cnt))\n",
        "print(\"단어 집합에서 희귀 단어의 비율:\", (rare_cnt / total_cnt)*100)\n",
        "print(\"전체 등장 빈도에서 희귀 단어 등장 빈도 비율:\", (rare_freq / total_freq)*100)"
      ],
      "execution_count": null,
      "outputs": [
        {
          "name": "stdout",
          "output_type": "stream",
          "text": [
            "단어 집합(vocabulary)의 크기 : 42494\n",
            "등장 빈도가 6번 이하인 희귀 단어의 수: 30764\n",
            "단어 집합에서 희귀 단어를 제외시킬 경우의 단어 집합의 크기 11730\n",
            "단어 집합에서 희귀 단어의 비율: 72.39610297924412\n",
            "전체 등장 빈도에서 희귀 단어 등장 빈도 비율: 8.263020610902688\n"
          ]
        }
      ]
    },
    {
      "cell_type": "code",
      "metadata": {
        "id": "jQkbg5RA6Opq"
      },
      "source": [
        "src_vocab = 10000\n",
        "src_tokenizer = Tokenizer(num_words=src_vocab) # 단어 집합의 크기를 8,000으로 제한\n",
        "src_tokenizer.fit_on_texts(encoder_input_train) # 단어 집합 재생성."
      ],
      "execution_count": null,
      "outputs": []
    },
    {
      "cell_type": "code",
      "metadata": {
        "id": "lOXubNRD6Opq",
        "outputId": "850f13f3-927e-4435-93bd-da3e0bd0555a"
      },
      "source": [
        "# 텍스트 시퀀스를 정수 시퀀스로 변환\n",
        "encoder_input_train = src_tokenizer.texts_to_sequences(encoder_input_train) \n",
        "encoder_input_test = src_tokenizer.texts_to_sequences(encoder_input_test)\n",
        "\n",
        "# 잘 진행되었는지 샘플 출력\n",
        "print(encoder_input_train[:3])"
      ],
      "execution_count": null,
      "outputs": [
        {
          "name": "stdout",
          "output_type": "stream",
          "text": [
            "[[5, 16, 118, 45, 443, 63, 242, 878, 4911, 6492, 5779, 3969, 5249, 144, 1544, 740, 230, 110, 3459, 45, 6493, 690, 4495, 2208, 1841, 9270, 323, 69, 106, 86, 6492, 48, 929, 9937, 4173, 2692, 16], [6225, 53, 1, 98, 28, 23, 2105, 246, 6018, 6225, 1, 565, 5593, 1048, 3396, 52, 337, 267, 48, 6494, 1066, 3779, 135, 936, 2560, 2], [217, 812, 532, 2148, 2209, 164, 4387, 828, 8708, 1703, 5, 812, 195, 1613, 7424, 2280, 1469, 828, 8708, 1, 937, 414, 3142, 1014, 1029, 938, 217, 5780, 1613, 8709, 2877, 217, 812, 513]]\n"
          ]
        }
      ]
    },
    {
      "cell_type": "code",
      "metadata": {
        "id": "W4vKeRrr6Opq"
      },
      "source": [
        "tar_tokenizer = Tokenizer()\n",
        "tar_tokenizer.fit_on_texts(decoder_input_train)"
      ],
      "execution_count": null,
      "outputs": []
    },
    {
      "cell_type": "code",
      "metadata": {
        "id": "fs6Cba3c6Opr",
        "outputId": "c241f222-82ba-44a7-fe3f-3b95151b2e17"
      },
      "source": [
        "threshold = 6\n",
        "total_cnt = len(tar_tokenizer.word_index) # 단어의 수\n",
        "rare_cnt = 0 # 등장 빈도수가 threshold보다 작은 단어의 개수를 카운트\n",
        "total_freq = 0 # 훈련 데이터의 전체 단어 빈도수 총 합\n",
        "rare_freq = 0 # 등장 빈도수가 threshold보다 작은 단어의 등장 빈도수의 총 합\n",
        "\n",
        "# 단어와 빈도수의 쌍(pair)을 key와 value로 받는다.\n",
        "for key, value in tar_tokenizer.word_counts.items():\n",
        "    total_freq = total_freq + value\n",
        "\n",
        "    # 단어의 등장 빈도수가 threshold보다 작으면\n",
        "    if(value < threshold):\n",
        "        rare_cnt = rare_cnt + 1\n",
        "        rare_freq = rare_freq + value\n",
        "\n",
        "print('단어 집합(vocabulary)의 크기 :', total_cnt)\n",
        "print('등장 빈도가 %s번 이하인 희귀 단어의 수: %s'%(threshold - 1, rare_cnt))\n",
        "print('단어 집합에서 희귀 단어를 제외시킬 경우의 단어 집합의 크기 %s'%(total_cnt - rare_cnt))\n",
        "print(\"단어 집합에서 희귀 단어의 비율:\", (rare_cnt / total_cnt)*100)\n",
        "print(\"전체 등장 빈도에서 희귀 단어 등장 빈도 비율:\", (rare_freq / total_freq)*100)"
      ],
      "execution_count": null,
      "outputs": [
        {
          "name": "stdout",
          "output_type": "stream",
          "text": [
            "단어 집합(vocabulary)의 크기 : 18924\n",
            "등장 빈도가 5번 이하인 희귀 단어의 수: 14273\n",
            "단어 집합에서 희귀 단어를 제외시킬 경우의 단어 집합의 크기 4651\n",
            "단어 집합에서 희귀 단어의 비율: 75.42274360600297\n",
            "전체 등장 빈도에서 희귀 단어 등장 빈도 비율: 14.177527487262001\n"
          ]
        }
      ]
    },
    {
      "cell_type": "code",
      "metadata": {
        "id": "47f_zlz16Opr",
        "outputId": "5172d4c1-97f2-4b04-f263-d509e113882c"
      },
      "source": [
        "tar_vocab = 8000\n",
        "tar_tokenizer = Tokenizer(num_words=tar_vocab) \n",
        "tar_tokenizer.fit_on_texts(decoder_input_train)\n",
        "tar_tokenizer.fit_on_texts(decoder_target_train)\n",
        "\n",
        "# 텍스트 시퀀스를 정수 시퀀스로 변환\n",
        "decoder_input_train = tar_tokenizer.texts_to_sequences(decoder_input_train) \n",
        "decoder_target_train = tar_tokenizer.texts_to_sequences(decoder_target_train)\n",
        "decoder_input_test = tar_tokenizer.texts_to_sequences(decoder_input_test)\n",
        "decoder_target_test = tar_tokenizer.texts_to_sequences(decoder_target_test)\n",
        "\n",
        "# 잘 변환되었는지 확인\n",
        "print('input')\n",
        "print(decoder_input_train[:5])\n",
        "print('target')\n",
        "print(decoder_target_train[:5])"
      ],
      "execution_count": null,
      "outputs": [
        {
          "name": "stdout",
          "output_type": "stream",
          "text": [
            "input\n",
            "[[1, 80, 1104, 21, 5387, 5, 2203], [1, 3021, 263, 35, 6, 1637, 221, 3, 8], [1, 1258, 103, 6456, 557, 25, 616, 696], [1, 4121, 516, 315, 1016, 4653, 1458, 3, 697], [1, 2760, 4122, 698, 19, 458, 1553, 763]]\n",
            "target\n",
            "[[80, 1104, 21, 5387, 5, 2203, 2], [3021, 263, 35, 6, 1637, 221, 3, 8, 2], [1258, 103, 6456, 557, 25, 616, 696, 2], [4121, 516, 315, 1016, 4653, 1458, 3, 697, 2], [2760, 4122, 698, 19, 458, 1553, 763, 2]]\n"
          ]
        }
      ]
    },
    {
      "cell_type": "code",
      "metadata": {
        "id": "mxwM9SMI6Opr",
        "outputId": "8087b384-1f37-40df-ff92-93c25fbc926f"
      },
      "source": [
        "drop_train = [index for index, sentence in enumerate(decoder_input_train) if len(sentence) == 1]\n",
        "drop_test = [index for index, sentence in enumerate(decoder_input_test) if len(sentence) == 1]\n",
        "\n",
        "print('삭제할 훈련 데이터의 개수 :', len(drop_train))\n",
        "print('삭제할 테스트 데이터의 개수 :', len(drop_test))\n",
        "\n",
        "encoder_input_train = np.delete(encoder_input_train, drop_train, axis=0)\n",
        "decoder_input_train = np.delete(decoder_input_train, drop_train, axis=0)\n",
        "decoder_target_train = np.delete(decoder_target_train, drop_train, axis=0)\n",
        "\n",
        "encoder_input_test = np.delete(encoder_input_test, drop_test, axis=0)\n",
        "decoder_input_test = np.delete(decoder_input_test, drop_test, axis=0)\n",
        "decoder_target_test = np.delete(decoder_target_test, drop_test, axis=0)\n",
        "\n",
        "print('훈련 데이터의 개수 :', len(encoder_input_train))\n",
        "print('훈련 레이블의 개수 :', len(decoder_input_train))\n",
        "print('테스트 데이터의 개수 :', len(encoder_input_test))\n",
        "print('테스트 레이블의 개수 :', len(decoder_input_test))"
      ],
      "execution_count": null,
      "outputs": [
        {
          "name": "stdout",
          "output_type": "stream",
          "text": [
            "삭제할 훈련 데이터의 개수 : 0\n",
            "삭제할 테스트 데이터의 개수 : 1\n",
            "훈련 데이터의 개수 : 21684\n",
            "훈련 레이블의 개수 : 21684\n",
            "테스트 데이터의 개수 : 5420\n",
            "테스트 레이블의 개수 : 5420\n"
          ]
        }
      ]
    },
    {
      "cell_type": "code",
      "metadata": {
        "id": "0uvwLpNu6Opr"
      },
      "source": [
        "encoder_input_train = pad_sequences(encoder_input_train, maxlen=text_max_len, padding='post')\n",
        "encoder_input_test = pad_sequences(encoder_input_test, maxlen=text_max_len, padding='post')\n",
        "decoder_input_train = pad_sequences(decoder_input_train, maxlen=summary_max_len, padding='post')\n",
        "decoder_target_train = pad_sequences(decoder_target_train, maxlen=summary_max_len, padding='post')\n",
        "decoder_input_test = pad_sequences(decoder_input_test, maxlen=summary_max_len, padding='post')\n",
        "decoder_target_test = pad_sequences(decoder_target_test, maxlen=summary_max_len, padding='post')"
      ],
      "execution_count": null,
      "outputs": []
    },
    {
      "cell_type": "markdown",
      "metadata": {
        "id": "K-DRd044F8-0"
      },
      "source": [
        "# Step 3. 어텐션 메커니즘 사용하기 (추상적 요약)\n",
        "일반적인 seq2seq보다는 어텐션 메커니즘을 사용한 seq2seq를 사용하는 것이 더 나은 성능을 얻을 수 있어요. 실습 내용을 참고하여 어텐션 메커니즘을 사용한 seq2seq를 설계해 보세요."
      ]
    },
    {
      "cell_type": "markdown",
      "metadata": {
        "id": "0Ke8AgYOGCYC"
      },
      "source": [
        "# Step 4. 실제 결과와 요약문 비교하기 (추상적 요약)\n",
        "원래의 요약문(headlines 열)과 학습을 통해 얻은 추상적 요약의 결과를 비교해 보세요."
      ]
    },
    {
      "cell_type": "markdown",
      "metadata": {
        "id": "crQzeqS9GF2t"
      },
      "source": [
        "# Step 5. Summa을 이용해서 추출적 요약해보기\n",
        "추상적 요약은 추출적 요약과는 달리 문장의 표현력을 다양하게 가져갈 수 있지만, 추출적 요약에 비해서 난이도가 높아요. 반대로 말하면 추출적 요약은 추상적 요약에 비해 난이도가 낮고 기존 문장에서 문장을 꺼내오는 것이므로 잘못된 요약이 나올 가능성이 낮아요.\n",
        "\n",
        "Summa의 summarize를 사용하여 추출적 요약을 해보세요."
      ]
    },
    {
      "cell_type": "code",
      "metadata": {
        "id": "-8k-tCy76Ops",
        "outputId": "1ea703d2-ddb0-4e76-cc73-82e6ce4d91fb"
      },
      "source": [
        "!pip list | grep summa"
      ],
      "execution_count": null,
      "outputs": [
        {
          "name": "stdout",
          "output_type": "stream",
          "text": [
            "summa                         1.2.0\n",
            "\u001b[33mWARNING: You are using pip version 20.3.3; however, version 21.2.4 is available.\n",
            "You should consider upgrading via the '/opt/conda/bin/python3.7 -m pip install --upgrade pip' command.\u001b[0m\n"
          ]
        }
      ]
    },
    {
      "cell_type": "code",
      "metadata": {
        "id": "DqqcKhPb6Opt",
        "outputId": "870484b9-cdfc-4a2c-a9f9-dc3f2dd85f35"
      },
      "source": [
        "import requests\n",
        "from summa.summarizer import summarize\n",
        "\n",
        "text = data['Text'].values\n",
        "len(text)"
      ],
      "execution_count": null,
      "outputs": [
        {
          "data": {
            "text/plain": [
              "27105"
            ]
          },
          "execution_count": 62,
          "metadata": {},
          "output_type": "execute_result"
        }
      ]
    },
    {
      "cell_type": "markdown",
      "metadata": {
        "id": "sxhmdtWq6Opt"
      },
      "source": [
        "### summarize 사용해서 요약\n",
        "Summa의 summarize()의 인자로 사용되는 값들에 대해서 알아볼게요.\n",
        "\n",
        "- text (str) : 요약할 텍스트.\n",
        "- ratio (float, optional) – 요약문에서 원본에서 선택되는 문장 비율. 0~1 사이값\n",
        "- words (int or None, optional) – 출력에 포함할 단어 수.\n",
        "만약, ratio와 함께 두 파라미터가 모두 제공되는 경우 ratio는 무시한다.\n",
        "- split (bool, optional) – True면 문장 list / False는 조인(join)된 문자열을 반환\n",
        "\n",
        "Summa의 summarize는 문장 토큰화를 별도로 하지 않더라도 내부적으로 문장 토큰화를 수행해요. 그렇기 때문에 문장 구분이 되어있지 않은 원문을 바로 입력으로 넣을 수 있어요. 비율을 적게 주어서 요약문으로 선택되는 문장의 개수를 줄여볼게요."
      ]
    },
    {
      "cell_type": "code",
      "metadata": {
        "scrolled": true,
        "id": "IscnjcSV6Opt"
      },
      "source": [
        "# 원본 데이터 로드\n",
        "urllib.request.urlretrieve(\"https://raw.githubusercontent.com/sunnysai12345/News_Summary/master/news_summary_more.csv\", filename=\"news_summary_more.csv\")\n",
        "data = pd.read_csv('news_summary_more.csv', encoding='iso-8859-1')\n",
        "\n",
        "sum = []\n",
        "text = data['text'].values\n",
        "\n",
        "for i in range(len(text)):\n",
        "    sum.append(summarize(text[i], ratio=0.5))"
      ],
      "execution_count": null,
      "outputs": []
    },
    {
      "cell_type": "code",
      "metadata": {
        "id": "PFugtsJL6Opu",
        "outputId": "b52f8625-a55c-4543-dc71-cdb13005b64f"
      },
      "source": [
        "print('Text:')\n",
        "print(text[0])\n",
        "print()\n",
        "print('Summary:')\n",
        "print(sum[0])"
      ],
      "execution_count": null,
      "outputs": [
        {
          "name": "stdout",
          "output_type": "stream",
          "text": [
            "Text:\n",
            "Saurav Kant, an alumnus of upGrad and IIIT-B's PG Program in Machine learning and Artificial Intelligence, was a Sr Systems Engineer at Infosys with almost 5 years of work experience. The program and upGrad's 360-degree career support helped him transition to a Data Scientist at Tech Mahindra with 90% salary hike. upGrad's Online Power Learning has powered 3 lakh+ careers.\n",
            "\n",
            "Summary:\n",
            "upGrad's Online Power Learning has powered 3 lakh+ careers.\n"
          ]
        }
      ]
    },
    {
      "cell_type": "markdown",
      "metadata": {
        "id": "nq-EhOzcGKl6"
      },
      "source": [
        "# 루브릭\n",
        "**평가문항과 상세기준**\n",
        "\n",
        "1.Abstractive 모델 구성을 위한 텍스트 전처리 단계가 체계적으로 진행되었다.\n",
        "- 분석단계, 정제단계, 정규화와 불용어 제거, 데이터셋 분리, 인코딩 과정이 빠짐없이 체계적으로 진행되었다.\n",
        "\n",
        "2.텍스트 요약모델이 성공적으로 학습되었음을 확인하였다.\n",
        "- 모델학습이 안정적으로 수렴되었음을 그래프를 통해 확인하였으며, 실제 요약문과 유사한 요약문장을 얻을 수 있었다.\n",
        "\n",
        "3.Extractive 요약을 시도해 보고 Abstractive 요약 결과과 함께 비교해 보았다.\n",
        "- 두 요약 결과를 문법완성도 측면과 핵심단어 포함 측면으로 나누어 비교분석 결과를 제시하였다."
      ]
    },
    {
      "cell_type": "markdown",
      "metadata": {
        "id": "cHqEolAT6Opu"
      },
      "source": [
        "# 회고\n",
        "이전에 추상요약 데이터를 구하는 것이 어려워서 추출요약으로 프로젝트를 진행한 적이 있는데 뉴스의 헤드라인을 target으로 하고 학습해도 좋은 결과가 나온다는 것이 신기했다."
      ]
    }
  ]
}