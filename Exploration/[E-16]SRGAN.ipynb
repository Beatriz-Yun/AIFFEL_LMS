{
 "cells": [
  {
   "cell_type": "markdown",
   "id": "controlled-nevada",
   "metadata": {},
   "source": [
    "# 프로젝트 1 : 직접 고른 이미지로 SRGAN 실험하기"
   ]
  },
  {
   "cell_type": "markdown",
   "id": "stupid-express",
   "metadata": {},
   "source": [
    "이제 여러분이 직접 다른 이미지를 사용해 볼 차례입니다.\n",
    "\n",
    "앞서 사용했던 DIV2K 데이터셋은 bicubic interpolation을 이용해 가로 및 세로 픽셀 수를 1/4로 줄인 저해상도 이미지와 원래 고해상도 이미지 사이에서 학습되었습니다. 이 데이터셋으로 학습된 SRGAN를 이용해 좋은 결과를 얻기 위해서는 위와 같은 과정이 동일하게 진행되는 것이 좋습니다.\n",
    "\n",
    "아래와 같이 두 가지 다른 단계를 거쳐서 직접 고른 이미지에 대해 SRGAN을 적용해 봅시다. 테스트할 이미지를 고를 때, DIV2K 의 학습 데이터셋과 비슷한 종류의 이미지가 좋습니다. 일반적으로 자연, 동물, 건물 등의 이미지가 학습에 사용되었으며, 이와 달리 애니메이션 등의 이미지는 고해상도로 잘 변환되지 않을 수 있습니다.\n",
    "\n",
    "특정 데이터셋에서만 학습되었기 때문에, 일반적으로 좋지 않은 결과가 나올 가능성이 높습니다. 결과와 상관없이 아래 과정만 잘 수행해봅시다."
   ]
  },
  {
   "cell_type": "markdown",
   "id": "governing-boards",
   "metadata": {},
   "source": [
    "## 프로젝트 1-1.\n",
    "\n",
    "(적당히) 높은 해상도를 가진 이미지를 검색해서 한 장 고른 후 저장하고 불러옵니다.\n",
    "불러온 이미지에 bicubic interpolation을 적용해 가로 및 세로 픽셀 수를 1/4로 줄입니다. cv2.resize()를 사용해 봅시다.\n",
    "줄인 저해상도 이미지를 입력으로 SRGAN을 이용해 고해상도 이미지를 생성합니다. 이전에 사용한 apply_srgan 함수를 사용하면 쉽습니다.\n",
    "2.의 이미지에 bicubic interpolation을 적용해 가로 및 세로 픽셀 수를 다시 4배로 늘립니다. 마찬가지로 cv2.resize()를 사용해 봅시다.\n",
    "3개 이미지(4.의 Bicubic의 결과, 3.의 SRGAN의 결과, 1.의 원래 고해상도 이미지)를 나란히 시각화합니다. 각 이미지의 제목에 어떤 방법에 대한 결과인지 표시해 주세요. 이전 시각화에 사용했던 코드를 참고하면 어렵지 않습니다.\n",
    "선택한 이미지를 DIV2K 데이터셋에서 학습된 모델로 Super Resolution했을 때 어떠한 결과가 나왔으며, 왜 이러한 결과가 출력되었는지 설명해 봅시다. (정답은 없습니다)"
   ]
  },
  {
   "cell_type": "markdown",
   "id": "compliant-creativity",
   "metadata": {},
   "source": [
    "## 프로젝트 1-2.\n",
    "\n",
    "(적당히) 낮은 해상도를 가진 이미지를 검색해서 한 장 고른 후 저장하고 불러옵니다.\n",
    "불러온 이미지를 입력으로 SRGAN을 이용해 고해상도 이미지를 생성합니다. 이전에 사용한 apply_srgan 함수를 사용하면 쉽습니다.\n",
    "1.에서 불러온 이미지에 bicubic interpolation을 적용해 가로 및 세로 픽셀 수를 다시 4배로 늘립니다. cv2.resize()를 사용해 봅시다.\n",
    "2개 이미지(3.의 Bicubic의 결과, 2.의 SRGAN의 결과)를 나란히 시각화합니다. 각 이미지의 제목에 어떤 방법에 대한 결과인지 표시해 주세요. 이전 시각화에 사용했던 코드를 참고하면 어렵지 않습니다.\n",
    "선택한 이미지를 DIV2K 데이터셋에서 학습된 모델로 Super Resolution했을 때 어떠한 결과가 나왔으며, 왜 이러한 결과가 출력되었는지 설명해 봅시다. (정답은 없습니다)"
   ]
  },
  {
   "cell_type": "markdown",
   "id": "assigned-consciousness",
   "metadata": {},
   "source": [
    "# 프로젝트 2 : SRGAN을 이용해 고해상도 gif 생성하기"
   ]
  },
  {
   "cell_type": "code",
   "execution_count": null,
   "id": "retained-picnic",
   "metadata": {},
   "outputs": [],
   "source": [
    "!pip install imageio"
   ]
  },
  {
   "cell_type": "markdown",
   "id": "hearing-cooperation",
   "metadata": {},
   "source": [
    "### 1.gif 파일 불러오기\n",
    "\n",
    "아래 주소에 몇 개의 gif 파일이 있습니다. 이 중 하나를 골라 다운 로드하여 아래 과정을 수행합시다. (한 개 이상의 gif 파일에 대해 아래 과정을 수행해야 합니다!)\n",
    "\n",
    "GIF files https://drive.google.com/drive/folders/1OLsa4btdwNUiVJcOJgZe_C6-lwEoNr4e\n",
    "\n",
    "다운받은 gif 파일을 아래와 같은 과정을 통해 각 프레임(이미지)을 불러올 수 있습니다. frames이란 리스트 안에 각각의 프레임이 들어 있습니다."
   ]
  },
  {
   "cell_type": "code",
   "execution_count": null,
   "id": "expensive-glasgow",
   "metadata": {},
   "outputs": [],
   "source": [
    "import cv2\n",
    "\n",
    "# 다운받은 파일의 경로를 설정해 주세요.\n",
    "gif = cv2.VideoCapture(\"저해상도.gif\")\n",
    "\n",
    "isTrue = True\n",
    "frames = []\n",
    "while isTrue:\n",
    "    isTrue, frame = gif.read()\n",
    "    if isTrue:\n",
    "        frame = cv2.cvtColor(frame, cv2.COLOR_BGR2RGB)\n",
    "        frames.append(frame)\n",
    "\n",
    "print(\"frame 수 :\", len(frames))\n",
    "print(\"frame 크기 :\", (frames[0].shape))"
   ]
  },
  {
   "cell_type": "markdown",
   "id": "quick-bruce",
   "metadata": {},
   "source": [
    "### 2.프레임별 Super Resolution 진행하기\n",
    "\n",
    "Bicubic interpolation과 SRGAN을 이용해 각각의 가로, 세로 픽셀 수를 4배로 늘려봅시다. Super Resolution이 완료된 각각의 결과를 frames_sr이라는 리스트에 넣어주세요."
   ]
  },
  {
   "cell_type": "markdown",
   "id": "alpine-virgin",
   "metadata": {},
   "source": [
    "### 3.프레임을 합쳐 gif 만들기\n",
    "\n",
    "위에서 frame_sr을 만들었다면 아래 코드와 같이 gif 파일을 생성할 수 있습니다. Bicubic 및 SRGAN의 결과를 각각 저장하여 2개 파일을 만들어 주세요."
   ]
  },
  {
   "cell_type": "code",
   "execution_count": null,
   "id": "governmental-reach",
   "metadata": {},
   "outputs": [],
   "source": [
    "import imageio\n",
    "\n",
    "imageio.mimsave(\"고해상도.gif\", frames_sr)"
   ]
  },
  {
   "cell_type": "markdown",
   "id": "prescription-protocol",
   "metadata": {},
   "source": [
    "### 4.Jupyter notebook에 gif 표시하기\n",
    "아래와 같이 다운받은 저해상도 gif 파일과 고해상도 gif 파일을 각각 jupyter 내에 출력하여 최종 제출해 주시면 됩니다. jupyter 내에 출력이 어려운 경우, GitHub에 저해상도, 고해상도 gif파일을 업로드 후 링크를 첨부해주시기바랍니다. Super Resolution이 잘 적용되었는지 시각적으로 확인하기 위해 아래의 width 옵션을 적당히 크게 해주세요. 저해상도 및 고해상도 시각화의 width 값은 같도록 설정해주세요."
   ]
  },
  {
   "cell_type": "code",
   "execution_count": null,
   "id": "falling-equality",
   "metadata": {},
   "outputs": [],
   "source": [
    "from IPython.display import Image as show_gif\n",
    "\n",
    "show_gif(\"저해상도.gif\", width=800) # width 는 적당히 큰 값으로 설정해주세요\n",
    "show_gif(\"고해상도.gif\", width=800) # 위에서 설정한 width와 같은 값으로 설정해주세요"
   ]
  },
  {
   "cell_type": "code",
   "execution_count": null,
   "id": "entitled-acceptance",
   "metadata": {},
   "outputs": [],
   "source": []
  },
  {
   "cell_type": "code",
   "execution_count": null,
   "id": "above-metadata",
   "metadata": {},
   "outputs": [],
   "source": []
  },
  {
   "cell_type": "markdown",
   "id": "consolidated-military",
   "metadata": {},
   "source": [
    "# 루브릭\n",
    "1.SRGAN을 이용해 고해상도의 이미지를 생성하였다.\n",
    "- SRGAN을 통해 생성된 이미지를 제출하였다.\n",
    "\n",
    "2.다양한 해상도의 이미지에 대해 시각화를 통해 원본, SRGAN생성본, interpolation생성본을 비교분석하였다.\n",
    "- 이미지의 특성과 super resolution 방법을 관련지어 생성 결과를 체계적으로 분석하였다.\n",
    "\n",
    "3.저해상도 gif 동영상을 고해상도 동영상으로 성공적으로 변환하였다."
   ]
  }
 ],
 "metadata": {
  "kernelspec": {
   "display_name": "Python 3",
   "language": "python",
   "name": "python3"
  },
  "language_info": {
   "codemirror_mode": {
    "name": "ipython",
    "version": 3
   },
   "file_extension": ".py",
   "mimetype": "text/x-python",
   "name": "python",
   "nbconvert_exporter": "python",
   "pygments_lexer": "ipython3",
   "version": "3.7.9"
  }
 },
 "nbformat": 4,
 "nbformat_minor": 5
}
