{
  "nbformat": 4,
  "nbformat_minor": 0,
  "metadata": {
    "colab": {
      "name": "[E-06]Kaggle집값예측경진대회_프로젝트.ipynb",
      "provenance": [],
      "collapsed_sections": [
        "u3aNJKaL6EZx"
      ],
      "toc_visible": true,
      "include_colab_link": true
    },
    "kernelspec": {
      "name": "python3",
      "display_name": "Python 3"
    },
    "language_info": {
      "name": "python"
    }
  },
  "cells": [
    {
      "cell_type": "markdown",
      "metadata": {
        "id": "view-in-github",
        "colab_type": "text"
      },
      "source": [
        "<a href=\"https://colab.research.google.com/github/Beatriz-Yun/AIFFEL_LMS/blob/main/Exploration/%5BE-06%5DKaggle%EC%A7%91%EA%B0%92%EC%98%88%EC%B8%A1%EA%B2%BD%EC%A7%84%EB%8C%80%ED%9A%8C_%ED%94%84%EB%A1%9C%EC%A0%9D%ED%8A%B8.ipynb\" target=\"_parent\"><img src=\"https://colab.research.google.com/assets/colab-badge.svg\" alt=\"Open In Colab\"/></a>"
      ]
    },
    {
      "cell_type": "markdown",
      "metadata": {
        "id": "ca3daMw9peEA"
      },
      "source": [
        "# [캐글 코리아와 함께하는 2nd ML 대회 - House Price Prediction](https://www.kaggle.com/c/2019-2nd-ml-month-with-kakr/overview)"
      ]
    },
    {
      "cell_type": "code",
      "metadata": {
        "colab": {
          "base_uri": "https://localhost:8080/"
        },
        "id": "ylFYTR2xgvPW",
        "outputId": "4ba909fc-ffd9-4b82-a182-6ccfb14b8f91"
      },
      "source": [
        "from google.colab import drive\n",
        "drive.mount('/content/drive')"
      ],
      "execution_count": 7,
      "outputs": [
        {
          "output_type": "stream",
          "text": [
            "Drive already mounted at /content/drive; to attempt to forcibly remount, call drive.mount(\"/content/drive\", force_remount=True).\n"
          ],
          "name": "stdout"
        }
      ]
    },
    {
      "cell_type": "markdown",
      "metadata": {
        "id": "KH1gtoUut5zS"
      },
      "source": [
        "모델의 성능을 최대화하기 위해서는 이전에 진행한 하이퍼파라미터 튜닝 뿐아니라<br>\n",
        "**EDA과정을 통한 feature engineering**으로 데이터를 정제하는 것도 매우 중요하다.\n",
        "\n",
        "<br>\n",
        "\n",
        "튜닝은 다양한 최적화 방법론 중 하나라는 것을 알아둬야 한다."
      ]
    },
    {
      "cell_type": "markdown",
      "metadata": {
        "id": "u3aNJKaL6EZx"
      },
      "source": [
        "# 목차 \n",
        "### 1. 데이터 탐색\n",
        "    - 문제 정의\n",
        "    - 변수 설명\n",
        "    - 시각화 \n",
        "    - 이상치 및 결측치 확인\n",
        "    - 유니크 갯수\n",
        "### 2. 데이터 전처리\n",
        "    - 이상치 및 결측치 처리\n",
        "    - 정규화\n",
        "### 3. 변수 생성\n",
        "### 4. 모델링 \n",
        "    - 회귀\n",
        "    - GBM ( LGB/XGB )\n",
        "    - 앙생블 \n",
        "### 5. 잔차분석 \n",
        "\n",
        "<br><br>\n",
        "\n",
        "---\n",
        "\n"
      ]
    },
    {
      "cell_type": "markdown",
      "metadata": {
        "id": "mizIALi56Ecv"
      },
      "source": [
        "# 1.데이터 탐색"
      ]
    },
    {
      "cell_type": "markdown",
      "metadata": {
        "id": "uBtckcEo8iLR"
      },
      "source": [
        "## 1.1 문제 정의 \n",
        "이번 데이터의 목적은 집의 정보를 가지고 가격을 예측하는 회귀문제 입니다. \n",
        "\n",
        "평가로는 RMSE를 사용합니다. "
      ]
    },
    {
      "cell_type": "code",
      "metadata": {
        "id": "W0tW5-bXKq_n"
      },
      "source": [
        "import pandas as pd                     # Analysis \n",
        "import matplotlib.pyplot as plt         # Visulization\n",
        "import seaborn as sns                   # Visulization\n",
        "import numpy as np                      # Analysis \n",
        "from scipy.stats import norm            # Analysis \n",
        "from sklearn.preprocessing import StandardScaler # Analysis \n",
        "from scipy import stats                 # Analysis \n",
        "import warnings \n",
        "warnings.filterwarnings('ignore')\n",
        "%matplotlib inline\n",
        "import gc\n",
        "\n",
        "\n",
        "import os\n",
        "from os.path import join\n",
        "import missingno as msno\n",
        "from xgboost import XGBRegressor\n",
        "from lightgbm import LGBMRegressor\n",
        "from sklearn.ensemble import GradientBoostingRegressor, RandomForestRegressor\n",
        "from sklearn.model_selection import KFold, cross_val_score, train_test_split\n",
        "from sklearn.metrics import mean_squared_error\n",
        "import xgboost as xgb\n",
        "import lightgbm as lgb\n",
        "from sklearn.model_selection import GridSearchCV"
      ],
      "execution_count": 8,
      "outputs": []
    },
    {
      "cell_type": "code",
      "metadata": {
        "id": "ZReyqvfu7L1Q",
        "colab": {
          "base_uri": "https://localhost:8080/"
        },
        "outputId": "f5f3a878-b8bf-46c7-ac7f-a4dc82f5a111"
      },
      "source": [
        "base_path = '/content/drive/MyDrive/Colab Notebooks/AIFFEL_LMS/data'\n",
        "train_data_path = join(base_path, 'train.csv')\n",
        "test_data_path = join(base_path, 'test.csv')\n",
        "\n",
        "data = pd.read_csv(train_data_path)\n",
        "test = pd.read_csv(test_data_path)\n",
        "\n",
        "print('train data dim : {}'.format(data.shape))\n",
        "print('test data dim : {}'.format(test.shape))"
      ],
      "execution_count": 12,
      "outputs": [
        {
          "output_type": "stream",
          "text": [
            "train data dim : (15035, 21)\n",
            "test data dim : (6468, 20)\n"
          ],
          "name": "stdout"
        }
      ]
    },
    {
      "cell_type": "markdown",
      "metadata": {
        "id": "Zsf6FNay0YYc"
      },
      "source": [
        "## 1.2 변수 정의\n",
        "\n",
        "**Data fields**\n",
        "1. ID : 집을 구분하는 번호\n",
        "2. date : 집을 구매한 날짜\n",
        "3. price : 집의 가격(Target variable)\n",
        "4. bedrooms : 침실의 수\n",
        "5. bathrooms : 화장실의 수\n",
        "6. sqft_living : 주거 공간의 평방 피트(면적)\n",
        "7. sqft_lot : 부지의 평방 피트(면적)\n",
        "8. floors : 집의 층 수\n",
        "9. waterfront : 집의 전방에 강이 흐르는지 유무 (a.k.a. 리버뷰)\n",
        "10. view : 집이 얼마나 좋아 보이는지의 정도\n",
        "11. condition : 집의 전반적인 상태\n",
        "12. grade : King County grading 시스템 기준으로 매긴 집의 등급\n",
        "13. sqft_above : 지하실을 제외한 평방 피트(면적)\n",
        "14. sqft_basement : 지하실의 평방 피트(면적)\n",
        "15. yr_built : 지어진 년도\n",
        "16. yr_renovated : 집을 재건축한 년도\n",
        "17. zipcode : 우편번호\n",
        "18. lat : 위도\n",
        "19. long : 경도\n",
        "20. sqft_living15 : 2015년 기준 주거 공간의 평방 피트(면적, 집을 재건축했다면, 변화가 있을 수 있음)\n",
        "21. sqft_lot15 : 2015년 기준 부지의 평방 피트(면적, 집을 재건축했다면, 변화가 있을 수 있음)\n",
        "\n",
        "👉 우리가 예측해야 되는 값은 'price'이다."
      ]
    },
    {
      "cell_type": "code",
      "metadata": {
        "colab": {
          "base_uri": "https://localhost:8080/",
          "height": 224
        },
        "id": "DJUEPoozm_0S",
        "outputId": "e09f9608-f885-4920-dd60-e5ff040d581f"
      },
      "source": [
        "data.head()"
      ],
      "execution_count": 13,
      "outputs": [
        {
          "output_type": "execute_result",
          "data": {
            "text/html": [
              "<div>\n",
              "<style scoped>\n",
              "    .dataframe tbody tr th:only-of-type {\n",
              "        vertical-align: middle;\n",
              "    }\n",
              "\n",
              "    .dataframe tbody tr th {\n",
              "        vertical-align: top;\n",
              "    }\n",
              "\n",
              "    .dataframe thead th {\n",
              "        text-align: right;\n",
              "    }\n",
              "</style>\n",
              "<table border=\"1\" class=\"dataframe\">\n",
              "  <thead>\n",
              "    <tr style=\"text-align: right;\">\n",
              "      <th></th>\n",
              "      <th>id</th>\n",
              "      <th>date</th>\n",
              "      <th>price</th>\n",
              "      <th>bedrooms</th>\n",
              "      <th>bathrooms</th>\n",
              "      <th>sqft_living</th>\n",
              "      <th>sqft_lot</th>\n",
              "      <th>floors</th>\n",
              "      <th>waterfront</th>\n",
              "      <th>view</th>\n",
              "      <th>condition</th>\n",
              "      <th>grade</th>\n",
              "      <th>sqft_above</th>\n",
              "      <th>sqft_basement</th>\n",
              "      <th>yr_built</th>\n",
              "      <th>yr_renovated</th>\n",
              "      <th>zipcode</th>\n",
              "      <th>lat</th>\n",
              "      <th>long</th>\n",
              "      <th>sqft_living15</th>\n",
              "      <th>sqft_lot15</th>\n",
              "    </tr>\n",
              "  </thead>\n",
              "  <tbody>\n",
              "    <tr>\n",
              "      <th>0</th>\n",
              "      <td>0</td>\n",
              "      <td>20141013T000000</td>\n",
              "      <td>221900.0</td>\n",
              "      <td>3</td>\n",
              "      <td>1.00</td>\n",
              "      <td>1180</td>\n",
              "      <td>5650</td>\n",
              "      <td>1.0</td>\n",
              "      <td>0</td>\n",
              "      <td>0</td>\n",
              "      <td>3</td>\n",
              "      <td>7</td>\n",
              "      <td>1180</td>\n",
              "      <td>0</td>\n",
              "      <td>1955</td>\n",
              "      <td>0</td>\n",
              "      <td>98178</td>\n",
              "      <td>47.5112</td>\n",
              "      <td>-122.257</td>\n",
              "      <td>1340</td>\n",
              "      <td>5650</td>\n",
              "    </tr>\n",
              "    <tr>\n",
              "      <th>1</th>\n",
              "      <td>1</td>\n",
              "      <td>20150225T000000</td>\n",
              "      <td>180000.0</td>\n",
              "      <td>2</td>\n",
              "      <td>1.00</td>\n",
              "      <td>770</td>\n",
              "      <td>10000</td>\n",
              "      <td>1.0</td>\n",
              "      <td>0</td>\n",
              "      <td>0</td>\n",
              "      <td>3</td>\n",
              "      <td>6</td>\n",
              "      <td>770</td>\n",
              "      <td>0</td>\n",
              "      <td>1933</td>\n",
              "      <td>0</td>\n",
              "      <td>98028</td>\n",
              "      <td>47.7379</td>\n",
              "      <td>-122.233</td>\n",
              "      <td>2720</td>\n",
              "      <td>8062</td>\n",
              "    </tr>\n",
              "    <tr>\n",
              "      <th>2</th>\n",
              "      <td>2</td>\n",
              "      <td>20150218T000000</td>\n",
              "      <td>510000.0</td>\n",
              "      <td>3</td>\n",
              "      <td>2.00</td>\n",
              "      <td>1680</td>\n",
              "      <td>8080</td>\n",
              "      <td>1.0</td>\n",
              "      <td>0</td>\n",
              "      <td>0</td>\n",
              "      <td>3</td>\n",
              "      <td>8</td>\n",
              "      <td>1680</td>\n",
              "      <td>0</td>\n",
              "      <td>1987</td>\n",
              "      <td>0</td>\n",
              "      <td>98074</td>\n",
              "      <td>47.6168</td>\n",
              "      <td>-122.045</td>\n",
              "      <td>1800</td>\n",
              "      <td>7503</td>\n",
              "    </tr>\n",
              "    <tr>\n",
              "      <th>3</th>\n",
              "      <td>3</td>\n",
              "      <td>20140627T000000</td>\n",
              "      <td>257500.0</td>\n",
              "      <td>3</td>\n",
              "      <td>2.25</td>\n",
              "      <td>1715</td>\n",
              "      <td>6819</td>\n",
              "      <td>2.0</td>\n",
              "      <td>0</td>\n",
              "      <td>0</td>\n",
              "      <td>3</td>\n",
              "      <td>7</td>\n",
              "      <td>1715</td>\n",
              "      <td>0</td>\n",
              "      <td>1995</td>\n",
              "      <td>0</td>\n",
              "      <td>98003</td>\n",
              "      <td>47.3097</td>\n",
              "      <td>-122.327</td>\n",
              "      <td>2238</td>\n",
              "      <td>6819</td>\n",
              "    </tr>\n",
              "    <tr>\n",
              "      <th>4</th>\n",
              "      <td>4</td>\n",
              "      <td>20150115T000000</td>\n",
              "      <td>291850.0</td>\n",
              "      <td>3</td>\n",
              "      <td>1.50</td>\n",
              "      <td>1060</td>\n",
              "      <td>9711</td>\n",
              "      <td>1.0</td>\n",
              "      <td>0</td>\n",
              "      <td>0</td>\n",
              "      <td>3</td>\n",
              "      <td>7</td>\n",
              "      <td>1060</td>\n",
              "      <td>0</td>\n",
              "      <td>1963</td>\n",
              "      <td>0</td>\n",
              "      <td>98198</td>\n",
              "      <td>47.4095</td>\n",
              "      <td>-122.315</td>\n",
              "      <td>1650</td>\n",
              "      <td>9711</td>\n",
              "    </tr>\n",
              "  </tbody>\n",
              "</table>\n",
              "</div>"
            ],
            "text/plain": [
              "   id             date     price  ...     long  sqft_living15  sqft_lot15\n",
              "0   0  20141013T000000  221900.0  ... -122.257           1340        5650\n",
              "1   1  20150225T000000  180000.0  ... -122.233           2720        8062\n",
              "2   2  20150218T000000  510000.0  ... -122.045           1800        7503\n",
              "3   3  20140627T000000  257500.0  ... -122.327           2238        6819\n",
              "4   4  20150115T000000  291850.0  ... -122.315           1650        9711\n",
              "\n",
              "[5 rows x 21 columns]"
            ]
          },
          "metadata": {
            "tags": []
          },
          "execution_count": 13
        }
      ]
    },
    {
      "cell_type": "markdown",
      "metadata": {
        "id": "IBuErauinPTW"
      },
      "source": [
        "- date의 경우 yyyy-mm-dd + T000000의 형태로 저희가 필요한 부분은 앞의 8자리 입니다. \n",
        "- bathrooms의 경우 소숫점의 값이 보이는데, 이는 미국의 기준에 따른 것입니다. 자세한 내용은 아래 부분에 나옵니다. \n",
        "- yr_renovated의 경우 0의 값이 보이는데, 0년도에 재건축이 되었다는 의미가 아니라 재건축을 하지 않았다는 의미입니다. \n",
        "- sqft_living 과 sqft_living15처럼 비슷한 값이 보입니다. 둘은 15년도를 기준으로 크기 계산의 기준에 따라 다른 값을 보입니다. 둘의 차이가 꽤 큰 부분도 있어서 이를 잘 활용해야 할 것 같습니다. \n",
        "\n",
        "head를 통해서는 이 정도로 가볍게 변수를 이해해보고 하나하나 변수를 살펴보면서 전처리해야 할 부분과 피쳐 엔지니어링을 할 아이디어를 고민해보겠습니다. "
      ]
    },
    {
      "cell_type": "markdown",
      "metadata": {
        "id": "63mkv0Qy6Enj"
      },
      "source": [
        "## 1.3 시각화"
      ]
    },
    {
      "cell_type": "markdown",
      "metadata": {
        "id": "oHMVly2QoBqW"
      },
      "source": [
        "### 1) 목적 변수(price) 시각화"
      ]
    },
    {
      "cell_type": "code",
      "metadata": {
        "colab": {
          "base_uri": "https://localhost:8080/"
        },
        "id": "rXNWCzB5nXzz",
        "outputId": "49f0512e-78b9-42c9-adcb-adc6e04f8088"
      },
      "source": [
        "# 통계 수치\n",
        "data['price'].describe()"
      ],
      "execution_count": 14,
      "outputs": [
        {
          "output_type": "execute_result",
          "data": {
            "text/plain": [
              "count    1.503500e+04\n",
              "mean     5.406827e+05\n",
              "std      3.715247e+05\n",
              "min      7.800000e+04\n",
              "25%      3.220000e+05\n",
              "50%      4.500000e+05\n",
              "75%      6.450000e+05\n",
              "max      7.700000e+06\n",
              "Name: price, dtype: float64"
            ]
          },
          "metadata": {
            "tags": []
          },
          "execution_count": 14
        }
      ]
    },
    {
      "cell_type": "markdown",
      "metadata": {
        "id": "jpO9EUxxoqmp"
      },
      "source": [
        "목적변수의 경우 min과 max의 차이가 크고, std가 굉장히 큰 편입니다.<br>\n",
        "아래의 히스토그램을 보면 더 명확하겠지만 **왼쪽으로 분포가 굉장히 치우친 것**을 알 수 있습니다."
      ]
    },
    {
      "cell_type": "code",
      "metadata": {
        "colab": {
          "base_uri": "https://localhost:8080/",
          "height": 417
        },
        "id": "N6zn5UrDoOKG",
        "outputId": "cf4e9bfe-80dd-47a9-fad6-2ce2e5b38b6a"
      },
      "source": [
        "#histogram\n",
        "f, ax = plt.subplots(figsize=(8, 6))\n",
        "sns.distplot(data['price'])"
      ],
      "execution_count": 15,
      "outputs": [
        {
          "output_type": "execute_result",
          "data": {
            "text/plain": [
              "<matplotlib.axes._subplots.AxesSubplot at 0x7f50edf2d4d0>"
            ]
          },
          "metadata": {
            "tags": []
          },
          "execution_count": 15
        },
        {
          "output_type": "display_data",
          "data": {
            "image/png": "[encoded data removed]",
            "text/plain": [
              "<Figure size 576x432 with 1 Axes>"
            ]
          },
          "metadata": {
            "tags": [],
            "needs_background": "light"
          }
        }
      ]
    },
    {
      "cell_type": "markdown",
      "metadata": {
        "id": "z4gOMoBFo86k"
      },
      "source": [
        "- 왜도 : 오른쪽 꼬리가 길수록 값이 더 큽니다. \n",
        "- 첨도 (kurtosis / kurtosis) : 첨도 값 (K)이 3에 가까울 경우, scatter은 정규 분포에 가깝습니다. (K <3), 분포가 정규 분포보다 더 평탄하게 평탄하다고 판단 할 수 있으며, 첨도가 3보다 큰 양수인 경우 (K> 3), 분포가보다 뾰족한 분포로 간주 할 수 있습니다. "
      ]
    },
    {
      "cell_type": "code",
      "metadata": {
        "colab": {
          "base_uri": "https://localhost:8080/"
        },
        "id": "rfahXdw9pAXE",
        "outputId": "100ad5cc-d398-4a91-f075-2790f452ccb6"
      },
      "source": [
        "#왜도와 첨도\n",
        "print(\"Skewness(왜도): %f\" % data['price'].skew())\n",
        "print(\"Kurtosis(첨도): %f\" % data['price'].kurt())"
      ],
      "execution_count": 16,
      "outputs": [
        {
          "output_type": "stream",
          "text": [
            "Skewness(왜도): 4.290252\n",
            "Kurtosis(첨도): 40.154919\n"
          ],
          "name": "stdout"
        }
      ]
    },
    {
      "cell_type": "markdown",
      "metadata": {
        "id": "JlSt24Dvq2oj"
      },
      "source": [
        "target 변수인 'price'의 경우 첨도, 왜도도 굉장히 정규분포를 따르지않고, 분산 또한 매우 큰 것을 확인할 수 있었습니다. <br>\n",
        "저는 회귀모델을 사용할 것이기 때문에 Normalize를 통해 price의 분포가 정규분포를 가지도록 만들어 주겠습니다."
      ]
    },
    {
      "cell_type": "code",
      "metadata": {
        "colab": {
          "base_uri": "https://localhost:8080/",
          "height": 621
        },
        "id": "uj9ntpm6piJH",
        "outputId": "96c84beb-b569-49f7-deeb-e97b2a1b8efb"
      },
      "source": [
        "fig = plt.figure(figsize = (15,10))\n",
        "\n",
        "fig.add_subplot(1,2,1)\n",
        "res = stats.probplot(data['price'], plot=plt)\n",
        "\n",
        "fig.add_subplot(1,2,2)\n",
        "res = stats.probplot(np.log1p(data['price']), plot=plt)"
      ],
      "execution_count": 17,
      "outputs": [
        {
          "output_type": "display_data",
          "data": {
            "image/png": "[encoded data removed]",
            "text/plain": [
              "<Figure size 1080x720 with 2 Axes>"
            ]
          },
          "metadata": {
            "tags": [],
            "needs_background": "light"
          }
        }
      ]
    },
    {
      "cell_type": "markdown",
      "metadata": {
        "id": "k6nEorok2wz9"
      },
      "source": [
        "로그변환 적용 후의 분포"
      ]
    },
    {
      "cell_type": "code",
      "metadata": {
        "colab": {
          "base_uri": "https://localhost:8080/",
          "height": 406
        },
        "id": "GDaWVhrVroXM",
        "outputId": "3e08071c-3182-4f94-d9fc-099e8efc786a"
      },
      "source": [
        "data['price'] = np.log1p(data['price'])\n",
        "\n",
        "#histogram\n",
        "f, ax = plt.subplots(figsize=(8, 6))\n",
        "sns.distplot(data['price'])"
      ],
      "execution_count": 18,
      "outputs": [
        {
          "output_type": "execute_result",
          "data": {
            "text/plain": [
              "<matplotlib.axes._subplots.AxesSubplot at 0x7f50e24ac390>"
            ]
          },
          "metadata": {
            "tags": []
          },
          "execution_count": 18
        },
        {
          "output_type": "display_data",
          "data": {
            "image/png": "[encoded data removed]",
            "text/plain": [
              "<Figure size 576x432 with 1 Axes>"
            ]
          },
          "metadata": {
            "tags": [],
            "needs_background": "light"
          }
        }
      ]
    },
    {
      "cell_type": "markdown",
      "metadata": {
        "id": "lis_1IY5rwvb"
      },
      "source": [
        "### 2) 반응 변수 시각화\n",
        "- 피어슨 상관관계 : 연속형 변수에 사용\n",
        "- 스피어만 순위 상관관계 : 범주형 변수도 포함되었을 경우에 사용 \n",
        "\n",
        "<br><br>\n",
        "\n",
        "목적변수인 가격과 가장 상관관계가 높은 순서대로 스피어만 순위 상관관계를 본 히트맵입니다. 전부 보는 것이 아니라 분석의 편의를 위해 상관도가 높은 상위 10개의 값만 보도록 하겠습니다.\n",
        "\n",
        "=> 목적변수와 상관도가 높은 변수는 **집의 등급 - 주거공간의 크기 - 전체 크기** 순이고 lat이라는 위도 값이 들어있습니다."
      ]
    },
    {
      "cell_type": "code",
      "metadata": {
        "colab": {
          "base_uri": "https://localhost:8080/",
          "height": 683
        },
        "id": "mTd1RHu1sBSF",
        "outputId": "3c4ad527-38fc-43d5-f207-a8ad1c07be01"
      },
      "source": [
        "# correlation이 높은 상위 10개의 heatmap\n",
        "# continuous + sequential variables --> spearman\n",
        "# abs는 반비례관계도 고려하기 위함\n",
        "import scipy as sp\n",
        "\n",
        "cor_abs = abs(data.corr(method='spearman')) \n",
        "cor_cols = cor_abs.nlargest(n=10, columns='price').index # price과 correlation이 높은 column 10개 뽑기(내림차순)\n",
        "# spearman coefficient matrix\n",
        "cor = np.array(sp.stats.spearmanr(data[cor_cols].values))[0] # 10 x 10\n",
        "print(cor_cols.values)\n",
        "plt.figure(figsize=(10,10))\n",
        "sns.set(font_scale=1.25)\n",
        "sns.heatmap(cor, fmt='.2f', annot=True, square=True , annot_kws={'size' : 8} ,xticklabels=cor_cols.values, yticklabels=cor_cols.values)"
      ],
      "execution_count": 19,
      "outputs": [
        {
          "output_type": "stream",
          "text": [
            "['price' 'grade' 'sqft_living' 'sqft_living15' 'sqft_above' 'bathrooms'\n",
            " 'lat' 'bedrooms' 'floors' 'view']\n"
          ],
          "name": "stdout"
        },
        {
          "output_type": "execute_result",
          "data": {
            "text/plain": [
              "<matplotlib.axes._subplots.AxesSubplot at 0x7f50e2543290>"
            ]
          },
          "metadata": {
            "tags": []
          },
          "execution_count": 19
        },
        {
          "output_type": "display_data",
          "data": {
            "image/png": "[encoded data removed]",
            "text/plain": [
              "<Figure size 720x720 with 2 Axes>"
            ]
          },
          "metadata": {
            "tags": [],
            "needs_background": "light"
          }
        }
      ]
    },
    {
      "cell_type": "markdown",
      "metadata": {
        "id": "QrsI9IK-t2LQ"
      },
      "source": [
        "grade의 경우 *\"1-3은 건물 건축 및 디자인에 미치지 못하고 7은 평균 수준의 건축 및 디자인을, 11-13은 높은 수준의 건축 및 디자인을 지니고 있습니다.\" * 라고 합니다.\n",
        "\n",
        "집의 등급이 높으면 가격이 좋아지는 것은 위의 히트맵에서도 봤듯이 당연합니다. 그리고 전반적으로 상승곡선의 형태도 보이고 있습니다. 하지만\n",
        "\n",
        "- 등급 3의 경우 값이 큰 이유\n",
        "- 등급 7,8,9에서 이상치가 많은 이유\n",
        "- 등급 8과 11에서 차이가 큰 이상치가 나타나는 이유\n",
        "\n",
        "위의 3가지는 좀 더 자세히 살펴봐야 합니다."
      ]
    },
    {
      "cell_type": "code",
      "metadata": {
        "colab": {
          "base_uri": "https://localhost:8080/",
          "height": 400
        },
        "id": "hqsR4v4nt3Jv",
        "outputId": "846ae82e-c61f-465a-ba6a-08a02f9b90ca"
      },
      "source": [
        "df = pd.concat([data['price'], data['grade']], axis=1)\n",
        "\n",
        "f, ax = plt.subplots(figsize=(8, 6))\n",
        "fig = sns.boxplot(x='grade', y=\"price\", data=df)"
      ],
      "execution_count": 20,
      "outputs": [
        {
          "output_type": "display_data",
          "data": {
            "image/png": "[encoded data removed]",
            "text/plain": [
              "<Figure size 576x432 with 1 Axes>"
            ]
          },
          "metadata": {
            "tags": []
          }
        }
      ]
    },
    {
      "cell_type": "markdown",
      "metadata": {
        "id": "iOCLcjqjvNmw"
      },
      "source": [
        "### sqlf_living / sqlf_lot\n",
        "(주거 평방 피트 / 부지 평방 피트)\n",
        "\n",
        "1sqlf는 0.0281평입니다. sqlf_lot는 부지 평방 피트인데, 흔히 우리나라의 경우, 32평형 아파트는 일반적으로 실제로 쓰는 전용 면적은 25.7평 정도입니다. \n",
        "\n",
        "*즉, sqlf_living은 실제 사용 면적 / sqlf_lot는 총 부지의 면적으로 생각하면 됩니다.*"
      ]
    },
    {
      "cell_type": "code",
      "metadata": {
        "colab": {
          "base_uri": "https://localhost:8080/",
          "height": 405
        },
        "id": "ZPdc5X01uNe7",
        "outputId": "ba02e3ce-2686-4fdf-ea28-2c5d7c0b27ca"
      },
      "source": [
        "df = pd.concat([data['price'], data['sqft_living']], axis=1)\n",
        "\n",
        "f, ax = plt.subplots(figsize=(8, 6))\n",
        "fig = sns.regplot(x='sqft_living', y=\"price\", data=df)"
      ],
      "execution_count": 21,
      "outputs": [
        {
          "output_type": "display_data",
          "data": {
            "image/png": "[encoded data removed]",
            "text/plain": [
              "<Figure size 576x432 with 1 Axes>"
            ]
          },
          "metadata": {
            "tags": []
          }
        }
      ]
    },
    {
      "cell_type": "markdown",
      "metadata": {
        "id": "0wT-BUTNvzvB"
      },
      "source": [
        "전반적으로 선형성을 보이지만 가격이 14~15사이에 sqft_living이 14000에 가까운 값은 꽤나 이상한 값(이상치)으로 생각되어집니다. <br>\n",
        "제거할지 말지는 저 값을 확인해보고 결정하겠습니다. \n",
        "\n",
        "<br>\n",
        "\n",
        "\n",
        "---\n",
        "\n",
        "<br>\n",
        "\n",
        "sqft_living15의 경우 15년도를 기준으로 했다보니 sqft_living에 비해 가격의 분산이 큽니다. 아무래도 재건축으로 인한 영향일 것으로 생각되어지고 sqft_living15 그 자체를 사용하기보다는 적절한 FE이 필요해 보입니다. "
      ]
    },
    {
      "cell_type": "code",
      "metadata": {
        "colab": {
          "base_uri": "https://localhost:8080/",
          "height": 401
        },
        "id": "NFwjEgCusBZ5",
        "outputId": "3d338baf-fafe-41df-e75c-e74ed22a720c"
      },
      "source": [
        "df = pd.concat([data['price'], data['sqft_living15']], axis=1)\n",
        "\n",
        "f, ax = plt.subplots(figsize=(8, 6))\n",
        "fig = sns.regplot(x='sqft_living15', y=\"price\", data=df)"
      ],
      "execution_count": 22,
      "outputs": [
        {
          "output_type": "display_data",
          "data": {
            "image/png": "[encoded data removed]",
            "text/plain": [
              "<Figure size 576x432 with 1 Axes>"
            ]
          },
          "metadata": {
            "tags": []
          }
        }
      ]
    },
    {
      "cell_type": "markdown",
      "metadata": {
        "id": "Tp08QGtUwVcK"
      },
      "source": [
        "bathrooms같은경우 소숫점이 있어서 많이 헷갈릴 수 있습니다. <br>\n",
        "각각의 값이 의미하는것은 아래와 같고 위의 값만을 가지고 각각의 값이 몇개있는지는 구분하기 힘들어 보입니다. \n",
        "- 0.5 : 세면대, 화장실 \n",
        "- 0.75 : 세면대, 화장실, 샤워실\n",
        "- 1 : 세면대, 화장실, 샤워실, 욕조 "
      ]
    },
    {
      "cell_type": "code",
      "metadata": {
        "colab": {
          "base_uri": "https://localhost:8080/",
          "height": 400
        },
        "id": "6uRiDYdZwX-S",
        "outputId": "4aafbc86-b351-4b8e-c2e8-84133f59bf49"
      },
      "source": [
        "df = pd.concat([data['price'], data['bathrooms']], axis=1)\n",
        "\n",
        "f, ax = plt.subplots(figsize=(18, 6))\n",
        "fig = sns.boxplot(x='bathrooms', y=\"price\", data=df)"
      ],
      "execution_count": 23,
      "outputs": [
        {
          "output_type": "display_data",
          "data": {
            "image/png": "[encoded data removed]",
            "text/plain": [
              "<Figure size 1296x432 with 1 Axes>"
            ]
          },
          "metadata": {
            "tags": []
          }
        }
      ]
    },
    {
      "cell_type": "markdown",
      "metadata": {
        "id": "qHSLxBeuwt2o"
      },
      "source": [
        "방의 경우 median 값을 중심으로 살펴보면 어느정도 선형관계를 띄는것을 볼 수 있습니다. <br>\n",
        "그리고 방의 갯수가 2~6의 경우 방이 적음에도 값이 큰 값들이 많습니다. <br>\n",
        "이는 우리나라의 경우처럼 방의 크기는 작아도 강남처럼 비싼 지역일 가능성이 높습니다.  "
      ]
    },
    {
      "cell_type": "code",
      "metadata": {
        "colab": {
          "base_uri": "https://localhost:8080/",
          "height": 400
        },
        "id": "sqxmL5BYsBjd",
        "outputId": "f7d40067-2e08-4f92-8e56-9b7f2fa698e3"
      },
      "source": [
        "df = pd.concat([data['price'], data['bedrooms']], axis=1)\n",
        "\n",
        "f, ax = plt.subplots(figsize=(18, 6))\n",
        "fig = sns.boxplot(x='bedrooms', y=\"price\", data=df)"
      ],
      "execution_count": 24,
      "outputs": [
        {
          "output_type": "display_data",
          "data": {
            "image/png": "[encoded data removed]",
            "text/plain": [
              "<Figure size 1296x432 with 1 Axes>"
            ]
          },
          "metadata": {
            "tags": []
          }
        }
      ]
    },
    {
      "cell_type": "markdown",
      "metadata": {
        "id": "Uo-EAUNmGg4B"
      },
      "source": [
        "## 1.4 이상치 및 결측치 확인"
      ]
    },
    {
      "cell_type": "markdown",
      "metadata": {
        "id": "7YI1mQzexLmw"
      },
      "source": [
        "### 결측치 확인\n",
        "=> 결측치는 없다."
      ]
    },
    {
      "cell_type": "code",
      "metadata": {
        "colab": {
          "base_uri": "https://localhost:8080/",
          "height": 708
        },
        "id": "0jmNC_7oOMMn",
        "outputId": "e462ce06-1bb2-4796-9a4c-f43ed0e3a2bd"
      },
      "source": [
        "msno.matrix(data)"
      ],
      "execution_count": 25,
      "outputs": [
        {
          "output_type": "execute_result",
          "data": {
            "text/plain": [
              "<matplotlib.axes._subplots.AxesSubplot at 0x7f50e0474d10>"
            ]
          },
          "metadata": {
            "tags": []
          },
          "execution_count": 25
        },
        {
          "output_type": "display_data",
          "data": {
            "image/png": "[encoded data removed]",
            "text/plain": [
              "<Figure size 1800x720 with 2 Axes>"
            ]
          },
          "metadata": {
            "tags": []
          }
        }
      ]
    },
    {
      "cell_type": "markdown",
      "metadata": {
        "id": "J38w_SYQxRof"
      },
      "source": [
        "## 1.5 유니크한 데이터 수\n",
        "\n",
        "view의 유니크갯수가 5인걸로 보니 grade같이 순위형변수로 여겨지며, <br>\n",
        "waterfront의 경우는 있다/없다 2가지를 상징하는 것으로 보인다."
      ]
    },
    {
      "cell_type": "code",
      "metadata": {
        "colab": {
          "base_uri": "https://localhost:8080/",
          "height": 400
        },
        "id": "bfff7N6Uw9nx",
        "outputId": "b2de0471-e942-4e41-bacb-0374a5d5c3af"
      },
      "source": [
        "### 유니크 갯수 계산\n",
        "\n",
        "train_unique = []\n",
        "columns = ['bedrooms','bathrooms','floors','waterfront','view','condition','grade']\n",
        "\n",
        "for i in columns:\n",
        "    train_unique.append(len(data[i].unique()))\n",
        "unique_train = pd.DataFrame()\n",
        "unique_train['Columns'] = columns\n",
        "unique_train['Unique_value'] = train_unique\n",
        "\n",
        "\n",
        "f, ax = plt.subplots(figsize=(18, 6))\n",
        "fig = sns.barplot(\n",
        "    data= unique_train,\n",
        "    x = \"Columns\",\n",
        "    y = \"Unique_value\"\n",
        ")"
      ],
      "execution_count": 26,
      "outputs": [
        {
          "output_type": "display_data",
          "data": {
            "image/png": "[encoded data removed]",
            "text/plain": [
              "<Figure size 1296x432 with 1 Axes>"
            ]
          },
          "metadata": {
            "tags": []
          }
        }
      ]
    },
    {
      "cell_type": "markdown",
      "metadata": {
        "id": "6Eazcepx0j-i"
      },
      "source": [
        "층수의 경우 1.5, 2.5, 3.5와 같이 소숫점을 가집니다. <br>\n",
        "이는 미국에서 흔히 볼 수 있는 형태로 다락방을 끼고 있는 형태로 생각하면 된다."
      ]
    },
    {
      "cell_type": "code",
      "metadata": {
        "colab": {
          "base_uri": "https://localhost:8080/"
        },
        "id": "Q5YlMxe-0gjN",
        "outputId": "c8190ca2-4a13-4565-d665-a46bc1489a76"
      },
      "source": [
        "data['floors'].unique()"
      ],
      "execution_count": 27,
      "outputs": [
        {
          "output_type": "execute_result",
          "data": {
            "text/plain": [
              "array([1. , 2. , 1.5, 3. , 2.5, 3.5])"
            ]
          },
          "metadata": {
            "tags": []
          },
          "execution_count": 27
        }
      ]
    },
    {
      "cell_type": "markdown",
      "metadata": {
        "id": "t9VlogVqGkMj"
      },
      "source": [
        "# 2.데이터 전처리"
      ]
    },
    {
      "cell_type": "markdown",
      "metadata": {
        "id": "ljKycJWNGnGM"
      },
      "source": [
        "## 2.1 이상치 처리\n",
        "위에서 중요한 변수들에 대해 시각화를 해봤을때, 다음의 변수들에 대해 이상치가 있는 것을 확인할 수 있었습니다. \n",
        "- sqft_living, grade, bedrooms "
      ]
    },
    {
      "cell_type": "markdown",
      "metadata": {
        "id": "Grk18xuz0w9N"
      },
      "source": [
        "### 1) sqft_living 처리\n",
        "- 분포 다시 확인"
      ]
    },
    {
      "cell_type": "code",
      "metadata": {
        "colab": {
          "base_uri": "https://localhost:8080/",
          "height": 404
        },
        "id": "-gGqO21J00Fq",
        "outputId": "db60d011-fdac-434d-a975-6b62ed909864"
      },
      "source": [
        "df = pd.concat([data['price'], data['sqft_living']], axis=1)\n",
        "\n",
        "f, ax = plt.subplots(figsize=(8, 6))\n",
        "fig = sns.regplot(x='sqft_living', y=\"price\", data=df)"
      ],
      "execution_count": 28,
      "outputs": [
        {
          "output_type": "display_data",
          "data": {
            "image/png": "[encoded data removed]",
            "text/plain": [
              "<Figure size 576x432 with 1 Axes>"
            ]
          },
          "metadata": {
            "tags": []
          }
        }
      ]
    },
    {
      "cell_type": "markdown",
      "metadata": {
        "id": "9iMLsBWB1Ox6"
      },
      "source": [
        "- 13000을 벗어나는 값을 확인해보자."
      ]
    },
    {
      "cell_type": "code",
      "metadata": {
        "colab": {
          "base_uri": "https://localhost:8080/",
          "height": 100
        },
        "id": "aLdwbVx600NH",
        "outputId": "d2a8b7b5-9394-4662-927c-1d9c213d19fb"
      },
      "source": [
        "data.loc[data['sqft_living'] > 13000]"
      ],
      "execution_count": 29,
      "outputs": [
        {
          "output_type": "execute_result",
          "data": {
            "text/html": [
              "<div>\n",
              "<style scoped>\n",
              "    .dataframe tbody tr th:only-of-type {\n",
              "        vertical-align: middle;\n",
              "    }\n",
              "\n",
              "    .dataframe tbody tr th {\n",
              "        vertical-align: top;\n",
              "    }\n",
              "\n",
              "    .dataframe thead th {\n",
              "        text-align: right;\n",
              "    }\n",
              "</style>\n",
              "<table border=\"1\" class=\"dataframe\">\n",
              "  <thead>\n",
              "    <tr style=\"text-align: right;\">\n",
              "      <th></th>\n",
              "      <th>id</th>\n",
              "      <th>date</th>\n",
              "      <th>price</th>\n",
              "      <th>bedrooms</th>\n",
              "      <th>bathrooms</th>\n",
              "      <th>sqft_living</th>\n",
              "      <th>sqft_lot</th>\n",
              "      <th>floors</th>\n",
              "      <th>waterfront</th>\n",
              "      <th>view</th>\n",
              "      <th>condition</th>\n",
              "      <th>grade</th>\n",
              "      <th>sqft_above</th>\n",
              "      <th>sqft_basement</th>\n",
              "      <th>yr_built</th>\n",
              "      <th>yr_renovated</th>\n",
              "      <th>zipcode</th>\n",
              "      <th>lat</th>\n",
              "      <th>long</th>\n",
              "      <th>sqft_living15</th>\n",
              "      <th>sqft_lot15</th>\n",
              "    </tr>\n",
              "  </thead>\n",
              "  <tbody>\n",
              "    <tr>\n",
              "      <th>8912</th>\n",
              "      <td>8912</td>\n",
              "      <td>20140505T000000</td>\n",
              "      <td>14.639686</td>\n",
              "      <td>7</td>\n",
              "      <td>8.0</td>\n",
              "      <td>13540</td>\n",
              "      <td>307752</td>\n",
              "      <td>3.0</td>\n",
              "      <td>0</td>\n",
              "      <td>4</td>\n",
              "      <td>3</td>\n",
              "      <td>12</td>\n",
              "      <td>9410</td>\n",
              "      <td>4130</td>\n",
              "      <td>1999</td>\n",
              "      <td>0</td>\n",
              "      <td>98053</td>\n",
              "      <td>47.6675</td>\n",
              "      <td>-121.986</td>\n",
              "      <td>4850</td>\n",
              "      <td>217800</td>\n",
              "    </tr>\n",
              "  </tbody>\n",
              "</table>\n",
              "</div>"
            ],
            "text/plain": [
              "        id             date      price  ...     long  sqft_living15  sqft_lot15\n",
              "8912  8912  20140505T000000  14.639686  ... -121.986           4850      217800\n",
              "\n",
              "[1 rows x 21 columns]"
            ]
          },
          "metadata": {
            "tags": []
          },
          "execution_count": 29
        }
      ]
    },
    {
      "cell_type": "markdown",
      "metadata": {
        "id": "moX3eTEl2CgX"
      },
      "source": [
        "- 이상치에 해당하는 데이터를 제외시킨다."
      ]
    },
    {
      "cell_type": "code",
      "metadata": {
        "colab": {
          "base_uri": "https://localhost:8080/",
          "height": 439
        },
        "id": "HpH7540r00Pw",
        "outputId": "86fda695-0fa0-4b8c-af5d-965e7abb8cf9"
      },
      "source": [
        "data = data.loc[data['sqft_living'] <= 13000]\n",
        "data"
      ],
      "execution_count": 30,
      "outputs": [
        {
          "output_type": "execute_result",
          "data": {
            "text/html": [
              "<div>\n",
              "<style scoped>\n",
              "    .dataframe tbody tr th:only-of-type {\n",
              "        vertical-align: middle;\n",
              "    }\n",
              "\n",
              "    .dataframe tbody tr th {\n",
              "        vertical-align: top;\n",
              "    }\n",
              "\n",
              "    .dataframe thead th {\n",
              "        text-align: right;\n",
              "    }\n",
              "</style>\n",
              "<table border=\"1\" class=\"dataframe\">\n",
              "  <thead>\n",
              "    <tr style=\"text-align: right;\">\n",
              "      <th></th>\n",
              "      <th>id</th>\n",
              "      <th>date</th>\n",
              "      <th>price</th>\n",
              "      <th>bedrooms</th>\n",
              "      <th>bathrooms</th>\n",
              "      <th>sqft_living</th>\n",
              "      <th>sqft_lot</th>\n",
              "      <th>floors</th>\n",
              "      <th>waterfront</th>\n",
              "      <th>view</th>\n",
              "      <th>condition</th>\n",
              "      <th>grade</th>\n",
              "      <th>sqft_above</th>\n",
              "      <th>sqft_basement</th>\n",
              "      <th>yr_built</th>\n",
              "      <th>yr_renovated</th>\n",
              "      <th>zipcode</th>\n",
              "      <th>lat</th>\n",
              "      <th>long</th>\n",
              "      <th>sqft_living15</th>\n",
              "      <th>sqft_lot15</th>\n",
              "    </tr>\n",
              "  </thead>\n",
              "  <tbody>\n",
              "    <tr>\n",
              "      <th>0</th>\n",
              "      <td>0</td>\n",
              "      <td>20141013T000000</td>\n",
              "      <td>12.309987</td>\n",
              "      <td>3</td>\n",
              "      <td>1.00</td>\n",
              "      <td>1180</td>\n",
              "      <td>5650</td>\n",
              "      <td>1.0</td>\n",
              "      <td>0</td>\n",
              "      <td>0</td>\n",
              "      <td>3</td>\n",
              "      <td>7</td>\n",
              "      <td>1180</td>\n",
              "      <td>0</td>\n",
              "      <td>1955</td>\n",
              "      <td>0</td>\n",
              "      <td>98178</td>\n",
              "      <td>47.5112</td>\n",
              "      <td>-122.257</td>\n",
              "      <td>1340</td>\n",
              "      <td>5650</td>\n",
              "    </tr>\n",
              "    <tr>\n",
              "      <th>1</th>\n",
              "      <td>1</td>\n",
              "      <td>20150225T000000</td>\n",
              "      <td>12.100718</td>\n",
              "      <td>2</td>\n",
              "      <td>1.00</td>\n",
              "      <td>770</td>\n",
              "      <td>10000</td>\n",
              "      <td>1.0</td>\n",
              "      <td>0</td>\n",
              "      <td>0</td>\n",
              "      <td>3</td>\n",
              "      <td>6</td>\n",
              "      <td>770</td>\n",
              "      <td>0</td>\n",
              "      <td>1933</td>\n",
              "      <td>0</td>\n",
              "      <td>98028</td>\n",
              "      <td>47.7379</td>\n",
              "      <td>-122.233</td>\n",
              "      <td>2720</td>\n",
              "      <td>8062</td>\n",
              "    </tr>\n",
              "    <tr>\n",
              "      <th>2</th>\n",
              "      <td>2</td>\n",
              "      <td>20150218T000000</td>\n",
              "      <td>13.142168</td>\n",
              "      <td>3</td>\n",
              "      <td>2.00</td>\n",
              "      <td>1680</td>\n",
              "      <td>8080</td>\n",
              "      <td>1.0</td>\n",
              "      <td>0</td>\n",
              "      <td>0</td>\n",
              "      <td>3</td>\n",
              "      <td>8</td>\n",
              "      <td>1680</td>\n",
              "      <td>0</td>\n",
              "      <td>1987</td>\n",
              "      <td>0</td>\n",
              "      <td>98074</td>\n",
              "      <td>47.6168</td>\n",
              "      <td>-122.045</td>\n",
              "      <td>1800</td>\n",
              "      <td>7503</td>\n",
              "    </tr>\n",
              "    <tr>\n",
              "      <th>3</th>\n",
              "      <td>3</td>\n",
              "      <td>20140627T000000</td>\n",
              "      <td>12.458779</td>\n",
              "      <td>3</td>\n",
              "      <td>2.25</td>\n",
              "      <td>1715</td>\n",
              "      <td>6819</td>\n",
              "      <td>2.0</td>\n",
              "      <td>0</td>\n",
              "      <td>0</td>\n",
              "      <td>3</td>\n",
              "      <td>7</td>\n",
              "      <td>1715</td>\n",
              "      <td>0</td>\n",
              "      <td>1995</td>\n",
              "      <td>0</td>\n",
              "      <td>98003</td>\n",
              "      <td>47.3097</td>\n",
              "      <td>-122.327</td>\n",
              "      <td>2238</td>\n",
              "      <td>6819</td>\n",
              "    </tr>\n",
              "    <tr>\n",
              "      <th>4</th>\n",
              "      <td>4</td>\n",
              "      <td>20150115T000000</td>\n",
              "      <td>12.583999</td>\n",
              "      <td>3</td>\n",
              "      <td>1.50</td>\n",
              "      <td>1060</td>\n",
              "      <td>9711</td>\n",
              "      <td>1.0</td>\n",
              "      <td>0</td>\n",
              "      <td>0</td>\n",
              "      <td>3</td>\n",
              "      <td>7</td>\n",
              "      <td>1060</td>\n",
              "      <td>0</td>\n",
              "      <td>1963</td>\n",
              "      <td>0</td>\n",
              "      <td>98198</td>\n",
              "      <td>47.4095</td>\n",
              "      <td>-122.315</td>\n",
              "      <td>1650</td>\n",
              "      <td>9711</td>\n",
              "    </tr>\n",
              "    <tr>\n",
              "      <th>...</th>\n",
              "      <td>...</td>\n",
              "      <td>...</td>\n",
              "      <td>...</td>\n",
              "      <td>...</td>\n",
              "      <td>...</td>\n",
              "      <td>...</td>\n",
              "      <td>...</td>\n",
              "      <td>...</td>\n",
              "      <td>...</td>\n",
              "      <td>...</td>\n",
              "      <td>...</td>\n",
              "      <td>...</td>\n",
              "      <td>...</td>\n",
              "      <td>...</td>\n",
              "      <td>...</td>\n",
              "      <td>...</td>\n",
              "      <td>...</td>\n",
              "      <td>...</td>\n",
              "      <td>...</td>\n",
              "      <td>...</td>\n",
              "      <td>...</td>\n",
              "    </tr>\n",
              "    <tr>\n",
              "      <th>15030</th>\n",
              "      <td>15030</td>\n",
              "      <td>20141014T000000</td>\n",
              "      <td>13.322338</td>\n",
              "      <td>4</td>\n",
              "      <td>2.50</td>\n",
              "      <td>2520</td>\n",
              "      <td>6023</td>\n",
              "      <td>2.0</td>\n",
              "      <td>0</td>\n",
              "      <td>0</td>\n",
              "      <td>3</td>\n",
              "      <td>9</td>\n",
              "      <td>2520</td>\n",
              "      <td>0</td>\n",
              "      <td>2014</td>\n",
              "      <td>0</td>\n",
              "      <td>98056</td>\n",
              "      <td>47.5137</td>\n",
              "      <td>-122.167</td>\n",
              "      <td>2520</td>\n",
              "      <td>6023</td>\n",
              "    </tr>\n",
              "    <tr>\n",
              "      <th>15031</th>\n",
              "      <td>15031</td>\n",
              "      <td>20150326T000000</td>\n",
              "      <td>13.822984</td>\n",
              "      <td>4</td>\n",
              "      <td>3.50</td>\n",
              "      <td>3510</td>\n",
              "      <td>7200</td>\n",
              "      <td>2.0</td>\n",
              "      <td>0</td>\n",
              "      <td>0</td>\n",
              "      <td>3</td>\n",
              "      <td>9</td>\n",
              "      <td>2600</td>\n",
              "      <td>910</td>\n",
              "      <td>2009</td>\n",
              "      <td>0</td>\n",
              "      <td>98136</td>\n",
              "      <td>47.5537</td>\n",
              "      <td>-122.398</td>\n",
              "      <td>2050</td>\n",
              "      <td>6200</td>\n",
              "    </tr>\n",
              "    <tr>\n",
              "      <th>15032</th>\n",
              "      <td>15032</td>\n",
              "      <td>20140521T000000</td>\n",
              "      <td>12.793862</td>\n",
              "      <td>3</td>\n",
              "      <td>2.50</td>\n",
              "      <td>1530</td>\n",
              "      <td>1131</td>\n",
              "      <td>3.0</td>\n",
              "      <td>0</td>\n",
              "      <td>0</td>\n",
              "      <td>3</td>\n",
              "      <td>8</td>\n",
              "      <td>1530</td>\n",
              "      <td>0</td>\n",
              "      <td>2009</td>\n",
              "      <td>0</td>\n",
              "      <td>98103</td>\n",
              "      <td>47.6993</td>\n",
              "      <td>-122.346</td>\n",
              "      <td>1530</td>\n",
              "      <td>1509</td>\n",
              "    </tr>\n",
              "    <tr>\n",
              "      <th>15033</th>\n",
              "      <td>15033</td>\n",
              "      <td>20150223T000000</td>\n",
              "      <td>12.899222</td>\n",
              "      <td>4</td>\n",
              "      <td>2.50</td>\n",
              "      <td>2310</td>\n",
              "      <td>5813</td>\n",
              "      <td>2.0</td>\n",
              "      <td>0</td>\n",
              "      <td>0</td>\n",
              "      <td>3</td>\n",
              "      <td>8</td>\n",
              "      <td>2310</td>\n",
              "      <td>0</td>\n",
              "      <td>2014</td>\n",
              "      <td>0</td>\n",
              "      <td>98146</td>\n",
              "      <td>47.5107</td>\n",
              "      <td>-122.362</td>\n",
              "      <td>1830</td>\n",
              "      <td>7200</td>\n",
              "    </tr>\n",
              "    <tr>\n",
              "      <th>15034</th>\n",
              "      <td>15034</td>\n",
              "      <td>20141015T000000</td>\n",
              "      <td>12.691584</td>\n",
              "      <td>2</td>\n",
              "      <td>0.75</td>\n",
              "      <td>1020</td>\n",
              "      <td>1076</td>\n",
              "      <td>2.0</td>\n",
              "      <td>0</td>\n",
              "      <td>0</td>\n",
              "      <td>3</td>\n",
              "      <td>7</td>\n",
              "      <td>1020</td>\n",
              "      <td>0</td>\n",
              "      <td>2008</td>\n",
              "      <td>0</td>\n",
              "      <td>98144</td>\n",
              "      <td>47.5941</td>\n",
              "      <td>-122.299</td>\n",
              "      <td>1020</td>\n",
              "      <td>1357</td>\n",
              "    </tr>\n",
              "  </tbody>\n",
              "</table>\n",
              "<p>15034 rows × 21 columns</p>\n",
              "</div>"
            ],
            "text/plain": [
              "          id             date      price  ...     long  sqft_living15  sqft_lot15\n",
              "0          0  20141013T000000  12.309987  ... -122.257           1340        5650\n",
              "1          1  20150225T000000  12.100718  ... -122.233           2720        8062\n",
              "2          2  20150218T000000  13.142168  ... -122.045           1800        7503\n",
              "3          3  20140627T000000  12.458779  ... -122.327           2238        6819\n",
              "4          4  20150115T000000  12.583999  ... -122.315           1650        9711\n",
              "...      ...              ...        ...  ...      ...            ...         ...\n",
              "15030  15030  20141014T000000  13.322338  ... -122.167           2520        6023\n",
              "15031  15031  20150326T000000  13.822984  ... -122.398           2050        6200\n",
              "15032  15032  20140521T000000  12.793862  ... -122.346           1530        1509\n",
              "15033  15033  20150223T000000  12.899222  ... -122.362           1830        7200\n",
              "15034  15034  20141015T000000  12.691584  ... -122.299           1020        1357\n",
              "\n",
              "[15034 rows x 21 columns]"
            ]
          },
          "metadata": {
            "tags": []
          },
          "execution_count": 30
        }
      ]
    },
    {
      "cell_type": "markdown",
      "metadata": {
        "id": "tcE8KCxq3iYt"
      },
      "source": [
        "### 2) grade 처리\n",
        "- 분포 다시 확인"
      ]
    },
    {
      "cell_type": "code",
      "metadata": {
        "colab": {
          "base_uri": "https://localhost:8080/",
          "height": 400
        },
        "id": "PKN07ols00WQ",
        "outputId": "db34b323-1c7f-4195-a756-562fee8d0d38"
      },
      "source": [
        "df = pd.concat([data['price'], data['grade']], axis=1)\n",
        "\n",
        "f, ax = plt.subplots(figsize=(8, 6))\n",
        "fig = sns.boxplot(x='grade', y=\"price\", data=df)"
      ],
      "execution_count": 31,
      "outputs": [
        {
          "output_type": "display_data",
          "data": {
            "image/png": "[encoded data removed]",
            "text/plain": [
              "<Figure size 576x432 with 1 Axes>"
            ]
          },
          "metadata": {
            "tags": []
          }
        }
      ]
    },
    {
      "cell_type": "markdown",
      "metadata": {
        "id": "NE8mKJvW5Yvp"
      },
      "source": [
        "가장 중요한 변수인 grade, sqft_ 모두 낮은 것을 볼 수 있습니다.<br>\n",
        "그래서 두 값 모두 이상치로 규정하고 제거하도록 하겠습니다. "
      ]
    },
    {
      "cell_type": "code",
      "metadata": {
        "colab": {
          "base_uri": "https://localhost:8080/",
          "height": 131
        },
        "id": "ORJwoxKK00d4",
        "outputId": "45aa550e-ddf4-4c3e-f8fb-ff7a2831c438"
      },
      "source": [
        "data.loc[(data['price']>12) & (data['grade'] == 3)]"
      ],
      "execution_count": 32,
      "outputs": [
        {
          "output_type": "execute_result",
          "data": {
            "text/html": [
              "<div>\n",
              "<style scoped>\n",
              "    .dataframe tbody tr th:only-of-type {\n",
              "        vertical-align: middle;\n",
              "    }\n",
              "\n",
              "    .dataframe tbody tr th {\n",
              "        vertical-align: top;\n",
              "    }\n",
              "\n",
              "    .dataframe thead th {\n",
              "        text-align: right;\n",
              "    }\n",
              "</style>\n",
              "<table border=\"1\" class=\"dataframe\">\n",
              "  <thead>\n",
              "    <tr style=\"text-align: right;\">\n",
              "      <th></th>\n",
              "      <th>id</th>\n",
              "      <th>date</th>\n",
              "      <th>price</th>\n",
              "      <th>bedrooms</th>\n",
              "      <th>bathrooms</th>\n",
              "      <th>sqft_living</th>\n",
              "      <th>sqft_lot</th>\n",
              "      <th>floors</th>\n",
              "      <th>waterfront</th>\n",
              "      <th>view</th>\n",
              "      <th>condition</th>\n",
              "      <th>grade</th>\n",
              "      <th>sqft_above</th>\n",
              "      <th>sqft_basement</th>\n",
              "      <th>yr_built</th>\n",
              "      <th>yr_renovated</th>\n",
              "      <th>zipcode</th>\n",
              "      <th>lat</th>\n",
              "      <th>long</th>\n",
              "      <th>sqft_living15</th>\n",
              "      <th>sqft_lot15</th>\n",
              "    </tr>\n",
              "  </thead>\n",
              "  <tbody>\n",
              "    <tr>\n",
              "      <th>2302</th>\n",
              "      <td>2302</td>\n",
              "      <td>20150225T000000</td>\n",
              "      <td>12.476104</td>\n",
              "      <td>1</td>\n",
              "      <td>0.75</td>\n",
              "      <td>520</td>\n",
              "      <td>12981</td>\n",
              "      <td>1.0</td>\n",
              "      <td>0</td>\n",
              "      <td>0</td>\n",
              "      <td>5</td>\n",
              "      <td>3</td>\n",
              "      <td>520</td>\n",
              "      <td>0</td>\n",
              "      <td>1920</td>\n",
              "      <td>0</td>\n",
              "      <td>98022</td>\n",
              "      <td>47.2082</td>\n",
              "      <td>-121.995</td>\n",
              "      <td>1340</td>\n",
              "      <td>12233</td>\n",
              "    </tr>\n",
              "    <tr>\n",
              "      <th>4123</th>\n",
              "      <td>4123</td>\n",
              "      <td>20141104T000000</td>\n",
              "      <td>12.542548</td>\n",
              "      <td>1</td>\n",
              "      <td>0.00</td>\n",
              "      <td>600</td>\n",
              "      <td>24501</td>\n",
              "      <td>1.0</td>\n",
              "      <td>0</td>\n",
              "      <td>0</td>\n",
              "      <td>2</td>\n",
              "      <td>3</td>\n",
              "      <td>600</td>\n",
              "      <td>0</td>\n",
              "      <td>1950</td>\n",
              "      <td>0</td>\n",
              "      <td>98045</td>\n",
              "      <td>47.5316</td>\n",
              "      <td>-121.749</td>\n",
              "      <td>990</td>\n",
              "      <td>22549</td>\n",
              "    </tr>\n",
              "  </tbody>\n",
              "</table>\n",
              "</div>"
            ],
            "text/plain": [
              "        id             date      price  ...     long  sqft_living15  sqft_lot15\n",
              "2302  2302  20150225T000000  12.476104  ... -121.995           1340       12233\n",
              "4123  4123  20141104T000000  12.542548  ... -121.749            990       22549\n",
              "\n",
              "[2 rows x 21 columns]"
            ]
          },
          "metadata": {
            "tags": []
          },
          "execution_count": 32
        }
      ]
    },
    {
      "cell_type": "code",
      "metadata": {
        "colab": {
          "base_uri": "https://localhost:8080/",
          "height": 100
        },
        "id": "Y44f4m9iHl4S",
        "outputId": "4e10c5a7-25ae-4115-8b65-9fbe98f5ff4a"
      },
      "source": [
        "data.loc[(data['price']>14.5) & (data['grade'] == 7)]"
      ],
      "execution_count": 33,
      "outputs": [
        {
          "output_type": "execute_result",
          "data": {
            "text/html": [
              "<div>\n",
              "<style scoped>\n",
              "    .dataframe tbody tr th:only-of-type {\n",
              "        vertical-align: middle;\n",
              "    }\n",
              "\n",
              "    .dataframe tbody tr th {\n",
              "        vertical-align: top;\n",
              "    }\n",
              "\n",
              "    .dataframe thead th {\n",
              "        text-align: right;\n",
              "    }\n",
              "</style>\n",
              "<table border=\"1\" class=\"dataframe\">\n",
              "  <thead>\n",
              "    <tr style=\"text-align: right;\">\n",
              "      <th></th>\n",
              "      <th>id</th>\n",
              "      <th>date</th>\n",
              "      <th>price</th>\n",
              "      <th>bedrooms</th>\n",
              "      <th>bathrooms</th>\n",
              "      <th>sqft_living</th>\n",
              "      <th>sqft_lot</th>\n",
              "      <th>floors</th>\n",
              "      <th>waterfront</th>\n",
              "      <th>view</th>\n",
              "      <th>condition</th>\n",
              "      <th>grade</th>\n",
              "      <th>sqft_above</th>\n",
              "      <th>sqft_basement</th>\n",
              "      <th>yr_built</th>\n",
              "      <th>yr_renovated</th>\n",
              "      <th>zipcode</th>\n",
              "      <th>lat</th>\n",
              "      <th>long</th>\n",
              "      <th>sqft_living15</th>\n",
              "      <th>sqft_lot15</th>\n",
              "    </tr>\n",
              "  </thead>\n",
              "  <tbody>\n",
              "    <tr>\n",
              "      <th>12346</th>\n",
              "      <td>12346</td>\n",
              "      <td>20150115T000000</td>\n",
              "      <td>14.533351</td>\n",
              "      <td>4</td>\n",
              "      <td>3.25</td>\n",
              "      <td>3580</td>\n",
              "      <td>19989</td>\n",
              "      <td>1.5</td>\n",
              "      <td>1</td>\n",
              "      <td>4</td>\n",
              "      <td>4</td>\n",
              "      <td>7</td>\n",
              "      <td>3480</td>\n",
              "      <td>100</td>\n",
              "      <td>1915</td>\n",
              "      <td>1965</td>\n",
              "      <td>98125</td>\n",
              "      <td>47.7087</td>\n",
              "      <td>-122.276</td>\n",
              "      <td>2410</td>\n",
              "      <td>6389</td>\n",
              "    </tr>\n",
              "  </tbody>\n",
              "</table>\n",
              "</div>"
            ],
            "text/plain": [
              "          id             date      price  ...     long  sqft_living15  sqft_lot15\n",
              "12346  12346  20150115T000000  14.533351  ... -122.276           2410        6389\n",
              "\n",
              "[1 rows x 21 columns]"
            ]
          },
          "metadata": {
            "tags": []
          },
          "execution_count": 33
        }
      ]
    },
    {
      "cell_type": "code",
      "metadata": {
        "colab": {
          "base_uri": "https://localhost:8080/",
          "height": 100
        },
        "id": "YV-INzUgDCL1",
        "outputId": "cd5a1bfa-2392-4f32-ecea-46002a3e7369"
      },
      "source": [
        "data.loc[(data['price']>14.7) & (data['grade'] == 8)]"
      ],
      "execution_count": 34,
      "outputs": [
        {
          "output_type": "execute_result",
          "data": {
            "text/html": [
              "<div>\n",
              "<style scoped>\n",
              "    .dataframe tbody tr th:only-of-type {\n",
              "        vertical-align: middle;\n",
              "    }\n",
              "\n",
              "    .dataframe tbody tr th {\n",
              "        vertical-align: top;\n",
              "    }\n",
              "\n",
              "    .dataframe thead th {\n",
              "        text-align: right;\n",
              "    }\n",
              "</style>\n",
              "<table border=\"1\" class=\"dataframe\">\n",
              "  <thead>\n",
              "    <tr style=\"text-align: right;\">\n",
              "      <th></th>\n",
              "      <th>id</th>\n",
              "      <th>date</th>\n",
              "      <th>price</th>\n",
              "      <th>bedrooms</th>\n",
              "      <th>bathrooms</th>\n",
              "      <th>sqft_living</th>\n",
              "      <th>sqft_lot</th>\n",
              "      <th>floors</th>\n",
              "      <th>waterfront</th>\n",
              "      <th>view</th>\n",
              "      <th>condition</th>\n",
              "      <th>grade</th>\n",
              "      <th>sqft_above</th>\n",
              "      <th>sqft_basement</th>\n",
              "      <th>yr_built</th>\n",
              "      <th>yr_renovated</th>\n",
              "      <th>zipcode</th>\n",
              "      <th>lat</th>\n",
              "      <th>long</th>\n",
              "      <th>sqft_living15</th>\n",
              "      <th>sqft_lot15</th>\n",
              "    </tr>\n",
              "  </thead>\n",
              "  <tbody>\n",
              "    <tr>\n",
              "      <th>7173</th>\n",
              "      <td>7173</td>\n",
              "      <td>20140813T000000</td>\n",
              "      <td>14.808763</td>\n",
              "      <td>5</td>\n",
              "      <td>4.0</td>\n",
              "      <td>4230</td>\n",
              "      <td>27295</td>\n",
              "      <td>2.0</td>\n",
              "      <td>1</td>\n",
              "      <td>4</td>\n",
              "      <td>3</td>\n",
              "      <td>8</td>\n",
              "      <td>3230</td>\n",
              "      <td>1000</td>\n",
              "      <td>1949</td>\n",
              "      <td>1985</td>\n",
              "      <td>98033</td>\n",
              "      <td>47.6803</td>\n",
              "      <td>-122.214</td>\n",
              "      <td>2660</td>\n",
              "      <td>27295</td>\n",
              "    </tr>\n",
              "  </tbody>\n",
              "</table>\n",
              "</div>"
            ],
            "text/plain": [
              "        id             date      price  ...     long  sqft_living15  sqft_lot15\n",
              "7173  7173  20140813T000000  14.808763  ... -122.214           2660       27295\n",
              "\n",
              "[1 rows x 21 columns]"
            ]
          },
          "metadata": {
            "tags": []
          },
          "execution_count": 34
        }
      ]
    },
    {
      "cell_type": "code",
      "metadata": {
        "colab": {
          "base_uri": "https://localhost:8080/",
          "height": 100
        },
        "id": "fGrQQmmcGT9c",
        "outputId": "241bf4d0-da58-4c72-8d1e-8f7fdd6bd084"
      },
      "source": [
        "data.loc[(data['price']>15.5) & (data['grade'] == 11)]"
      ],
      "execution_count": 35,
      "outputs": [
        {
          "output_type": "execute_result",
          "data": {
            "text/html": [
              "<div>\n",
              "<style scoped>\n",
              "    .dataframe tbody tr th:only-of-type {\n",
              "        vertical-align: middle;\n",
              "    }\n",
              "\n",
              "    .dataframe tbody tr th {\n",
              "        vertical-align: top;\n",
              "    }\n",
              "\n",
              "    .dataframe thead th {\n",
              "        text-align: right;\n",
              "    }\n",
              "</style>\n",
              "<table border=\"1\" class=\"dataframe\">\n",
              "  <thead>\n",
              "    <tr style=\"text-align: right;\">\n",
              "      <th></th>\n",
              "      <th>id</th>\n",
              "      <th>date</th>\n",
              "      <th>price</th>\n",
              "      <th>bedrooms</th>\n",
              "      <th>bathrooms</th>\n",
              "      <th>sqft_living</th>\n",
              "      <th>sqft_lot</th>\n",
              "      <th>floors</th>\n",
              "      <th>waterfront</th>\n",
              "      <th>view</th>\n",
              "      <th>condition</th>\n",
              "      <th>grade</th>\n",
              "      <th>sqft_above</th>\n",
              "      <th>sqft_basement</th>\n",
              "      <th>yr_built</th>\n",
              "      <th>yr_renovated</th>\n",
              "      <th>zipcode</th>\n",
              "      <th>lat</th>\n",
              "      <th>long</th>\n",
              "      <th>sqft_living15</th>\n",
              "      <th>sqft_lot15</th>\n",
              "    </tr>\n",
              "  </thead>\n",
              "  <tbody>\n",
              "    <tr>\n",
              "      <th>2775</th>\n",
              "      <td>2775</td>\n",
              "      <td>20140611T000000</td>\n",
              "      <td>15.77031</td>\n",
              "      <td>5</td>\n",
              "      <td>4.5</td>\n",
              "      <td>10040</td>\n",
              "      <td>37325</td>\n",
              "      <td>2.0</td>\n",
              "      <td>1</td>\n",
              "      <td>2</td>\n",
              "      <td>3</td>\n",
              "      <td>11</td>\n",
              "      <td>7680</td>\n",
              "      <td>2360</td>\n",
              "      <td>1940</td>\n",
              "      <td>2001</td>\n",
              "      <td>98004</td>\n",
              "      <td>47.65</td>\n",
              "      <td>-122.214</td>\n",
              "      <td>3930</td>\n",
              "      <td>25449</td>\n",
              "    </tr>\n",
              "  </tbody>\n",
              "</table>\n",
              "</div>"
            ],
            "text/plain": [
              "        id             date     price  ...     long  sqft_living15  sqft_lot15\n",
              "2775  2775  20140611T000000  15.77031  ... -122.214           3930       25449\n",
              "\n",
              "[1 rows x 21 columns]"
            ]
          },
          "metadata": {
            "tags": []
          },
          "execution_count": 35
        }
      ]
    },
    {
      "cell_type": "markdown",
      "metadata": {
        "id": "gxAHglv8HHnh"
      },
      "source": [
        "특별한 이유가 없이 가격이 높아 보이므로 이상치로 규정하고 제거하도록 하겠습니다."
      ]
    },
    {
      "cell_type": "code",
      "metadata": {
        "id": "-Rim4T_oHRhI"
      },
      "source": [
        "data = data.loc[data['id']!=2302]\n",
        "data = data.loc[data['id']!=12346]\n",
        "data = data.loc[data['id']!=4123]\n",
        "data = data.loc[data['id']!=7259]\n",
        "data = data.loc[data['id']!=2777]"
      ],
      "execution_count": 36,
      "outputs": []
    },
    {
      "cell_type": "markdown",
      "metadata": {
        "id": "pFk-qzgvIL0I"
      },
      "source": [
        "### 3) bedrooms 처리\n",
        "- 침실의 수를 보면 위에서 한 얘기와 마찬가지로 median이 양의 상관관계를 띄고 있습니다. 그리고 bedrooms가 2 ~ 6은 분산이 매우 큰 것을 확인할 수 있습니다. 가운데의 저 값들은 다른 변수들의 영향이 크므로 위의 정보만을 보고 제거하지는 않도록 하겠습니다."
      ]
    },
    {
      "cell_type": "code",
      "metadata": {
        "colab": {
          "base_uri": "https://localhost:8080/",
          "height": 400
        },
        "id": "njXnnxX1IOPa",
        "outputId": "2b92ba95-4983-4047-aab1-828ee3011c55"
      },
      "source": [
        "df = pd.concat([data['price'], data['bedrooms']], axis=1)\n",
        "\n",
        "f, ax = plt.subplots(figsize=(18, 6))\n",
        "fig = sns.boxplot(x='bedrooms', y=\"price\", data=df)"
      ],
      "execution_count": 37,
      "outputs": [
        {
          "output_type": "display_data",
          "data": {
            "image/png": "[encoded data removed]",
            "text/plain": [
              "<Figure size 1296x432 with 1 Axes>"
            ]
          },
          "metadata": {
            "tags": []
          }
        }
      ]
    },
    {
      "cell_type": "markdown",
      "metadata": {
        "id": "ZGdxtwFAGrEU"
      },
      "source": [
        "## 2.2 정규화"
      ]
    },
    {
      "cell_type": "code",
      "metadata": {
        "id": "CkC3-v5MIhac"
      },
      "source": [
        "skew_columns = ['sqft_living', 'sqft_lot', 'sqft_above', 'sqft_basement']    # 로그 변환 적용할 칼럼\n",
        "\n",
        "for c in skew_columns:\n",
        "    data[c] = np.log1p(data[c].values)\n",
        "    test[c] = np.log1p(test[c].values)"
      ],
      "execution_count": 38,
      "outputs": []
    },
    {
      "cell_type": "markdown",
      "metadata": {
        "id": "bON9blTCInCZ"
      },
      "source": [
        "## 2.3 변수 수정"
      ]
    },
    {
      "cell_type": "code",
      "metadata": {
        "id": "HJbP3j1uIhiB"
      },
      "source": [
        "for df in [data, test]:\n",
        "    df['date'] = df['date'].apply(lambda x: x[0:8])\n",
        "    df['yr_renovated'] = df['yr_renovated'].apply(lambda x: np.nan if x == 0 else x)\n",
        "    df['yr_renovated'] = df['yr_renovated'].fillna(df['yr_built'])"
      ],
      "execution_count": 39,
      "outputs": []
    },
    {
      "cell_type": "markdown",
      "metadata": {
        "id": "UHvAylMkGt6G"
      },
      "source": [
        "# 3.변수 생성"
      ]
    },
    {
      "cell_type": "code",
      "metadata": {
        "colab": {
          "base_uri": "https://localhost:8080/",
          "height": 224
        },
        "id": "XhwV-CoNIhlg",
        "outputId": "d8e8c8fc-8f25-4597-9fa3-77f94a32e464"
      },
      "source": [
        "data.head()"
      ],
      "execution_count": 40,
      "outputs": [
        {
          "output_type": "execute_result",
          "data": {
            "text/html": [
              "<div>\n",
              "<style scoped>\n",
              "    .dataframe tbody tr th:only-of-type {\n",
              "        vertical-align: middle;\n",
              "    }\n",
              "\n",
              "    .dataframe tbody tr th {\n",
              "        vertical-align: top;\n",
              "    }\n",
              "\n",
              "    .dataframe thead th {\n",
              "        text-align: right;\n",
              "    }\n",
              "</style>\n",
              "<table border=\"1\" class=\"dataframe\">\n",
              "  <thead>\n",
              "    <tr style=\"text-align: right;\">\n",
              "      <th></th>\n",
              "      <th>id</th>\n",
              "      <th>date</th>\n",
              "      <th>price</th>\n",
              "      <th>bedrooms</th>\n",
              "      <th>bathrooms</th>\n",
              "      <th>sqft_living</th>\n",
              "      <th>sqft_lot</th>\n",
              "      <th>floors</th>\n",
              "      <th>waterfront</th>\n",
              "      <th>view</th>\n",
              "      <th>condition</th>\n",
              "      <th>grade</th>\n",
              "      <th>sqft_above</th>\n",
              "      <th>sqft_basement</th>\n",
              "      <th>yr_built</th>\n",
              "      <th>yr_renovated</th>\n",
              "      <th>zipcode</th>\n",
              "      <th>lat</th>\n",
              "      <th>long</th>\n",
              "      <th>sqft_living15</th>\n",
              "      <th>sqft_lot15</th>\n",
              "    </tr>\n",
              "  </thead>\n",
              "  <tbody>\n",
              "    <tr>\n",
              "      <th>0</th>\n",
              "      <td>0</td>\n",
              "      <td>20141013</td>\n",
              "      <td>12.309987</td>\n",
              "      <td>3</td>\n",
              "      <td>1.00</td>\n",
              "      <td>7.074117</td>\n",
              "      <td>8.639588</td>\n",
              "      <td>1.0</td>\n",
              "      <td>0</td>\n",
              "      <td>0</td>\n",
              "      <td>3</td>\n",
              "      <td>7</td>\n",
              "      <td>7.074117</td>\n",
              "      <td>0.0</td>\n",
              "      <td>1955</td>\n",
              "      <td>1955.0</td>\n",
              "      <td>98178</td>\n",
              "      <td>47.5112</td>\n",
              "      <td>-122.257</td>\n",
              "      <td>1340</td>\n",
              "      <td>5650</td>\n",
              "    </tr>\n",
              "    <tr>\n",
              "      <th>1</th>\n",
              "      <td>1</td>\n",
              "      <td>20150225</td>\n",
              "      <td>12.100718</td>\n",
              "      <td>2</td>\n",
              "      <td>1.00</td>\n",
              "      <td>6.647688</td>\n",
              "      <td>9.210440</td>\n",
              "      <td>1.0</td>\n",
              "      <td>0</td>\n",
              "      <td>0</td>\n",
              "      <td>3</td>\n",
              "      <td>6</td>\n",
              "      <td>6.647688</td>\n",
              "      <td>0.0</td>\n",
              "      <td>1933</td>\n",
              "      <td>1933.0</td>\n",
              "      <td>98028</td>\n",
              "      <td>47.7379</td>\n",
              "      <td>-122.233</td>\n",
              "      <td>2720</td>\n",
              "      <td>8062</td>\n",
              "    </tr>\n",
              "    <tr>\n",
              "      <th>2</th>\n",
              "      <td>2</td>\n",
              "      <td>20150218</td>\n",
              "      <td>13.142168</td>\n",
              "      <td>3</td>\n",
              "      <td>2.00</td>\n",
              "      <td>7.427144</td>\n",
              "      <td>8.997271</td>\n",
              "      <td>1.0</td>\n",
              "      <td>0</td>\n",
              "      <td>0</td>\n",
              "      <td>3</td>\n",
              "      <td>8</td>\n",
              "      <td>7.427144</td>\n",
              "      <td>0.0</td>\n",
              "      <td>1987</td>\n",
              "      <td>1987.0</td>\n",
              "      <td>98074</td>\n",
              "      <td>47.6168</td>\n",
              "      <td>-122.045</td>\n",
              "      <td>1800</td>\n",
              "      <td>7503</td>\n",
              "    </tr>\n",
              "    <tr>\n",
              "      <th>3</th>\n",
              "      <td>3</td>\n",
              "      <td>20140627</td>\n",
              "      <td>12.458779</td>\n",
              "      <td>3</td>\n",
              "      <td>2.25</td>\n",
              "      <td>7.447751</td>\n",
              "      <td>8.827615</td>\n",
              "      <td>2.0</td>\n",
              "      <td>0</td>\n",
              "      <td>0</td>\n",
              "      <td>3</td>\n",
              "      <td>7</td>\n",
              "      <td>7.447751</td>\n",
              "      <td>0.0</td>\n",
              "      <td>1995</td>\n",
              "      <td>1995.0</td>\n",
              "      <td>98003</td>\n",
              "      <td>47.3097</td>\n",
              "      <td>-122.327</td>\n",
              "      <td>2238</td>\n",
              "      <td>6819</td>\n",
              "    </tr>\n",
              "    <tr>\n",
              "      <th>4</th>\n",
              "      <td>4</td>\n",
              "      <td>20150115</td>\n",
              "      <td>12.583999</td>\n",
              "      <td>3</td>\n",
              "      <td>1.50</td>\n",
              "      <td>6.966967</td>\n",
              "      <td>9.181118</td>\n",
              "      <td>1.0</td>\n",
              "      <td>0</td>\n",
              "      <td>0</td>\n",
              "      <td>3</td>\n",
              "      <td>7</td>\n",
              "      <td>6.966967</td>\n",
              "      <td>0.0</td>\n",
              "      <td>1963</td>\n",
              "      <td>1963.0</td>\n",
              "      <td>98198</td>\n",
              "      <td>47.4095</td>\n",
              "      <td>-122.315</td>\n",
              "      <td>1650</td>\n",
              "      <td>9711</td>\n",
              "    </tr>\n",
              "  </tbody>\n",
              "</table>\n",
              "</div>"
            ],
            "text/plain": [
              "   id      date      price  ...     long  sqft_living15  sqft_lot15\n",
              "0   0  20141013  12.309987  ... -122.257           1340        5650\n",
              "1   1  20150225  12.100718  ... -122.233           2720        8062\n",
              "2   2  20150218  13.142168  ... -122.045           1800        7503\n",
              "3   3  20140627  12.458779  ... -122.327           2238        6819\n",
              "4   4  20150115  12.583999  ... -122.315           1650        9711\n",
              "\n",
              "[5 rows x 21 columns]"
            ]
          },
          "metadata": {
            "tags": []
          },
          "execution_count": 40
        }
      ]
    },
    {
      "cell_type": "code",
      "metadata": {
        "id": "EbfFAtzRIhon"
      },
      "source": [
        "for df in [data, test]:\n",
        "    # 방의 전체 갯수 \n",
        "    df['total_rooms'] = df['bedrooms'] + df['bathrooms']\n",
        "    \n",
        "    # 거실의 비율 \n",
        "    df['sqft_ratio'] = df['sqft_living'] / df['sqft_lot']\n",
        "    \n",
        "    df['sqft_total_size'] = df['sqft_above'] + df['sqft_basement']\n",
        "    \n",
        "    # 면적 대비 거실의 비율 \n",
        "    df['sqft_ratio_1'] = df['sqft_living'] / df['sqft_total_size']\n",
        "    \n",
        "    df['sqft_ratio15'] = df['sqft_living15'] / df['sqft_lot15'] \n",
        "    \n",
        "    # 재건축 여부 \n",
        "    df['is_renovated'] = df['yr_renovated'] - df['yr_built']\n",
        "    df['is_renovated'] = df['is_renovated'].apply(lambda x: 0 if x == 0 else 1)\n",
        "    df['date'] = df['date'].astype('int')"
      ],
      "execution_count": 41,
      "outputs": []
    },
    {
      "cell_type": "code",
      "metadata": {
        "colab": {
          "base_uri": "https://localhost:8080/",
          "height": 224
        },
        "id": "5P93q36NLQFY",
        "outputId": "866e7dee-a4e5-465f-d8e1-832352484d24"
      },
      "source": [
        "data.head()"
      ],
      "execution_count": 42,
      "outputs": [
        {
          "output_type": "execute_result",
          "data": {
            "text/html": [
              "<div>\n",
              "<style scoped>\n",
              "    .dataframe tbody tr th:only-of-type {\n",
              "        vertical-align: middle;\n",
              "    }\n",
              "\n",
              "    .dataframe tbody tr th {\n",
              "        vertical-align: top;\n",
              "    }\n",
              "\n",
              "    .dataframe thead th {\n",
              "        text-align: right;\n",
              "    }\n",
              "</style>\n",
              "<table border=\"1\" class=\"dataframe\">\n",
              "  <thead>\n",
              "    <tr style=\"text-align: right;\">\n",
              "      <th></th>\n",
              "      <th>id</th>\n",
              "      <th>date</th>\n",
              "      <th>price</th>\n",
              "      <th>bedrooms</th>\n",
              "      <th>bathrooms</th>\n",
              "      <th>sqft_living</th>\n",
              "      <th>sqft_lot</th>\n",
              "      <th>floors</th>\n",
              "      <th>waterfront</th>\n",
              "      <th>view</th>\n",
              "      <th>condition</th>\n",
              "      <th>grade</th>\n",
              "      <th>sqft_above</th>\n",
              "      <th>sqft_basement</th>\n",
              "      <th>yr_built</th>\n",
              "      <th>yr_renovated</th>\n",
              "      <th>zipcode</th>\n",
              "      <th>lat</th>\n",
              "      <th>long</th>\n",
              "      <th>sqft_living15</th>\n",
              "      <th>sqft_lot15</th>\n",
              "      <th>total_rooms</th>\n",
              "      <th>sqft_ratio</th>\n",
              "      <th>sqft_total_size</th>\n",
              "      <th>sqft_ratio_1</th>\n",
              "      <th>sqft_ratio15</th>\n",
              "      <th>is_renovated</th>\n",
              "    </tr>\n",
              "  </thead>\n",
              "  <tbody>\n",
              "    <tr>\n",
              "      <th>0</th>\n",
              "      <td>0</td>\n",
              "      <td>20141013</td>\n",
              "      <td>12.309987</td>\n",
              "      <td>3</td>\n",
              "      <td>1.00</td>\n",
              "      <td>7.074117</td>\n",
              "      <td>8.639588</td>\n",
              "      <td>1.0</td>\n",
              "      <td>0</td>\n",
              "      <td>0</td>\n",
              "      <td>3</td>\n",
              "      <td>7</td>\n",
              "      <td>7.074117</td>\n",
              "      <td>0.0</td>\n",
              "      <td>1955</td>\n",
              "      <td>1955.0</td>\n",
              "      <td>98178</td>\n",
              "      <td>47.5112</td>\n",
              "      <td>-122.257</td>\n",
              "      <td>1340</td>\n",
              "      <td>5650</td>\n",
              "      <td>4.00</td>\n",
              "      <td>0.818803</td>\n",
              "      <td>7.074117</td>\n",
              "      <td>1.0</td>\n",
              "      <td>0.237168</td>\n",
              "      <td>0</td>\n",
              "    </tr>\n",
              "    <tr>\n",
              "      <th>1</th>\n",
              "      <td>1</td>\n",
              "      <td>20150225</td>\n",
              "      <td>12.100718</td>\n",
              "      <td>2</td>\n",
              "      <td>1.00</td>\n",
              "      <td>6.647688</td>\n",
              "      <td>9.210440</td>\n",
              "      <td>1.0</td>\n",
              "      <td>0</td>\n",
              "      <td>0</td>\n",
              "      <td>3</td>\n",
              "      <td>6</td>\n",
              "      <td>6.647688</td>\n",
              "      <td>0.0</td>\n",
              "      <td>1933</td>\n",
              "      <td>1933.0</td>\n",
              "      <td>98028</td>\n",
              "      <td>47.7379</td>\n",
              "      <td>-122.233</td>\n",
              "      <td>2720</td>\n",
              "      <td>8062</td>\n",
              "      <td>3.00</td>\n",
              "      <td>0.721756</td>\n",
              "      <td>6.647688</td>\n",
              "      <td>1.0</td>\n",
              "      <td>0.337385</td>\n",
              "      <td>0</td>\n",
              "    </tr>\n",
              "    <tr>\n",
              "      <th>2</th>\n",
              "      <td>2</td>\n",
              "      <td>20150218</td>\n",
              "      <td>13.142168</td>\n",
              "      <td>3</td>\n",
              "      <td>2.00</td>\n",
              "      <td>7.427144</td>\n",
              "      <td>8.997271</td>\n",
              "      <td>1.0</td>\n",
              "      <td>0</td>\n",
              "      <td>0</td>\n",
              "      <td>3</td>\n",
              "      <td>8</td>\n",
              "      <td>7.427144</td>\n",
              "      <td>0.0</td>\n",
              "      <td>1987</td>\n",
              "      <td>1987.0</td>\n",
              "      <td>98074</td>\n",
              "      <td>47.6168</td>\n",
              "      <td>-122.045</td>\n",
              "      <td>1800</td>\n",
              "      <td>7503</td>\n",
              "      <td>5.00</td>\n",
              "      <td>0.825489</td>\n",
              "      <td>7.427144</td>\n",
              "      <td>1.0</td>\n",
              "      <td>0.239904</td>\n",
              "      <td>0</td>\n",
              "    </tr>\n",
              "    <tr>\n",
              "      <th>3</th>\n",
              "      <td>3</td>\n",
              "      <td>20140627</td>\n",
              "      <td>12.458779</td>\n",
              "      <td>3</td>\n",
              "      <td>2.25</td>\n",
              "      <td>7.447751</td>\n",
              "      <td>8.827615</td>\n",
              "      <td>2.0</td>\n",
              "      <td>0</td>\n",
              "      <td>0</td>\n",
              "      <td>3</td>\n",
              "      <td>7</td>\n",
              "      <td>7.447751</td>\n",
              "      <td>0.0</td>\n",
              "      <td>1995</td>\n",
              "      <td>1995.0</td>\n",
              "      <td>98003</td>\n",
              "      <td>47.3097</td>\n",
              "      <td>-122.327</td>\n",
              "      <td>2238</td>\n",
              "      <td>6819</td>\n",
              "      <td>5.25</td>\n",
              "      <td>0.843688</td>\n",
              "      <td>7.447751</td>\n",
              "      <td>1.0</td>\n",
              "      <td>0.328201</td>\n",
              "      <td>0</td>\n",
              "    </tr>\n",
              "    <tr>\n",
              "      <th>4</th>\n",
              "      <td>4</td>\n",
              "      <td>20150115</td>\n",
              "      <td>12.583999</td>\n",
              "      <td>3</td>\n",
              "      <td>1.50</td>\n",
              "      <td>6.966967</td>\n",
              "      <td>9.181118</td>\n",
              "      <td>1.0</td>\n",
              "      <td>0</td>\n",
              "      <td>0</td>\n",
              "      <td>3</td>\n",
              "      <td>7</td>\n",
              "      <td>6.966967</td>\n",
              "      <td>0.0</td>\n",
              "      <td>1963</td>\n",
              "      <td>1963.0</td>\n",
              "      <td>98198</td>\n",
              "      <td>47.4095</td>\n",
              "      <td>-122.315</td>\n",
              "      <td>1650</td>\n",
              "      <td>9711</td>\n",
              "      <td>4.50</td>\n",
              "      <td>0.758837</td>\n",
              "      <td>6.966967</td>\n",
              "      <td>1.0</td>\n",
              "      <td>0.169910</td>\n",
              "      <td>0</td>\n",
              "    </tr>\n",
              "  </tbody>\n",
              "</table>\n",
              "</div>"
            ],
            "text/plain": [
              "   id      date      price  ...  sqft_ratio_1  sqft_ratio15  is_renovated\n",
              "0   0  20141013  12.309987  ...           1.0      0.237168             0\n",
              "1   1  20150225  12.100718  ...           1.0      0.337385             0\n",
              "2   2  20150218  13.142168  ...           1.0      0.239904             0\n",
              "3   3  20140627  12.458779  ...           1.0      0.328201             0\n",
              "4   4  20150115  12.583999  ...           1.0      0.169910             0\n",
              "\n",
              "[5 rows x 27 columns]"
            ]
          },
          "metadata": {
            "tags": []
          },
          "execution_count": 42
        }
      ]
    },
    {
      "cell_type": "code",
      "metadata": {
        "id": "nZR7Rd7tLAnS"
      },
      "source": [
        "# 평당 가격\n",
        "data['per_price'] = data['price']/data['sqft_total_size']\n",
        "zipcode_price = data.groupby(['zipcode'])['per_price'].agg({'mean','var'}).reset_index()\n",
        "data = pd.merge(data,zipcode_price,how='left',on='zipcode')\n",
        "test = pd.merge(test,zipcode_price,how='left',on='zipcode')\n",
        "\n",
        "for df in [data, test]:\n",
        "    df['zipcode_mean'] = df['mean'] * df['sqft_total_size']\n",
        "    df['zipcode_var'] = df['var'] * df['sqft_total_size']\n",
        "    del df['mean']; del df['var']\n",
        "\n",
        "del data['per_price']"
      ],
      "execution_count": 43,
      "outputs": []
    },
    {
      "cell_type": "code",
      "metadata": {
        "colab": {
          "base_uri": "https://localhost:8080/",
          "height": 224
        },
        "id": "W8R5JTjnLYcS",
        "outputId": "60219621-4117-4ea6-d7d8-00f7a02c72fa"
      },
      "source": [
        "data.head()"
      ],
      "execution_count": 44,
      "outputs": [
        {
          "output_type": "execute_result",
          "data": {
            "text/html": [
              "<div>\n",
              "<style scoped>\n",
              "    .dataframe tbody tr th:only-of-type {\n",
              "        vertical-align: middle;\n",
              "    }\n",
              "\n",
              "    .dataframe tbody tr th {\n",
              "        vertical-align: top;\n",
              "    }\n",
              "\n",
              "    .dataframe thead th {\n",
              "        text-align: right;\n",
              "    }\n",
              "</style>\n",
              "<table border=\"1\" class=\"dataframe\">\n",
              "  <thead>\n",
              "    <tr style=\"text-align: right;\">\n",
              "      <th></th>\n",
              "      <th>id</th>\n",
              "      <th>date</th>\n",
              "      <th>price</th>\n",
              "      <th>bedrooms</th>\n",
              "      <th>bathrooms</th>\n",
              "      <th>sqft_living</th>\n",
              "      <th>sqft_lot</th>\n",
              "      <th>floors</th>\n",
              "      <th>waterfront</th>\n",
              "      <th>view</th>\n",
              "      <th>condition</th>\n",
              "      <th>grade</th>\n",
              "      <th>sqft_above</th>\n",
              "      <th>sqft_basement</th>\n",
              "      <th>yr_built</th>\n",
              "      <th>yr_renovated</th>\n",
              "      <th>zipcode</th>\n",
              "      <th>lat</th>\n",
              "      <th>long</th>\n",
              "      <th>sqft_living15</th>\n",
              "      <th>sqft_lot15</th>\n",
              "      <th>total_rooms</th>\n",
              "      <th>sqft_ratio</th>\n",
              "      <th>sqft_total_size</th>\n",
              "      <th>sqft_ratio_1</th>\n",
              "      <th>sqft_ratio15</th>\n",
              "      <th>is_renovated</th>\n",
              "      <th>zipcode_mean</th>\n",
              "      <th>zipcode_var</th>\n",
              "    </tr>\n",
              "  </thead>\n",
              "  <tbody>\n",
              "    <tr>\n",
              "      <th>0</th>\n",
              "      <td>0</td>\n",
              "      <td>20141013</td>\n",
              "      <td>12.309987</td>\n",
              "      <td>3</td>\n",
              "      <td>1.00</td>\n",
              "      <td>7.074117</td>\n",
              "      <td>8.639588</td>\n",
              "      <td>1.0</td>\n",
              "      <td>0</td>\n",
              "      <td>0</td>\n",
              "      <td>3</td>\n",
              "      <td>7</td>\n",
              "      <td>7.074117</td>\n",
              "      <td>0.0</td>\n",
              "      <td>1955</td>\n",
              "      <td>1955.0</td>\n",
              "      <td>98178</td>\n",
              "      <td>47.5112</td>\n",
              "      <td>-122.257</td>\n",
              "      <td>1340</td>\n",
              "      <td>5650</td>\n",
              "      <td>4.00</td>\n",
              "      <td>0.818803</td>\n",
              "      <td>7.074117</td>\n",
              "      <td>1.0</td>\n",
              "      <td>0.237168</td>\n",
              "      <td>0</td>\n",
              "      <td>9.368147</td>\n",
              "      <td>1.214207</td>\n",
              "    </tr>\n",
              "    <tr>\n",
              "      <th>1</th>\n",
              "      <td>1</td>\n",
              "      <td>20150225</td>\n",
              "      <td>12.100718</td>\n",
              "      <td>2</td>\n",
              "      <td>1.00</td>\n",
              "      <td>6.647688</td>\n",
              "      <td>9.210440</td>\n",
              "      <td>1.0</td>\n",
              "      <td>0</td>\n",
              "      <td>0</td>\n",
              "      <td>3</td>\n",
              "      <td>6</td>\n",
              "      <td>6.647688</td>\n",
              "      <td>0.0</td>\n",
              "      <td>1933</td>\n",
              "      <td>1933.0</td>\n",
              "      <td>98028</td>\n",
              "      <td>47.7379</td>\n",
              "      <td>-122.233</td>\n",
              "      <td>2720</td>\n",
              "      <td>8062</td>\n",
              "      <td>3.00</td>\n",
              "      <td>0.721756</td>\n",
              "      <td>6.647688</td>\n",
              "      <td>1.0</td>\n",
              "      <td>0.337385</td>\n",
              "      <td>0</td>\n",
              "      <td>9.257745</td>\n",
              "      <td>1.023549</td>\n",
              "    </tr>\n",
              "    <tr>\n",
              "      <th>2</th>\n",
              "      <td>2</td>\n",
              "      <td>20150218</td>\n",
              "      <td>13.142168</td>\n",
              "      <td>3</td>\n",
              "      <td>2.00</td>\n",
              "      <td>7.427144</td>\n",
              "      <td>8.997271</td>\n",
              "      <td>1.0</td>\n",
              "      <td>0</td>\n",
              "      <td>0</td>\n",
              "      <td>3</td>\n",
              "      <td>8</td>\n",
              "      <td>7.427144</td>\n",
              "      <td>0.0</td>\n",
              "      <td>1987</td>\n",
              "      <td>1987.0</td>\n",
              "      <td>98074</td>\n",
              "      <td>47.6168</td>\n",
              "      <td>-122.045</td>\n",
              "      <td>1800</td>\n",
              "      <td>7503</td>\n",
              "      <td>5.00</td>\n",
              "      <td>0.825489</td>\n",
              "      <td>7.427144</td>\n",
              "      <td>1.0</td>\n",
              "      <td>0.239904</td>\n",
              "      <td>0</td>\n",
              "      <td>11.307711</td>\n",
              "      <td>0.826257</td>\n",
              "    </tr>\n",
              "    <tr>\n",
              "      <th>3</th>\n",
              "      <td>3</td>\n",
              "      <td>20140627</td>\n",
              "      <td>12.458779</td>\n",
              "      <td>3</td>\n",
              "      <td>2.25</td>\n",
              "      <td>7.447751</td>\n",
              "      <td>8.827615</td>\n",
              "      <td>2.0</td>\n",
              "      <td>0</td>\n",
              "      <td>0</td>\n",
              "      <td>3</td>\n",
              "      <td>7</td>\n",
              "      <td>7.447751</td>\n",
              "      <td>0.0</td>\n",
              "      <td>1995</td>\n",
              "      <td>1995.0</td>\n",
              "      <td>98003</td>\n",
              "      <td>47.3097</td>\n",
              "      <td>-122.327</td>\n",
              "      <td>2238</td>\n",
              "      <td>6819</td>\n",
              "      <td>5.25</td>\n",
              "      <td>0.843688</td>\n",
              "      <td>7.447751</td>\n",
              "      <td>1.0</td>\n",
              "      <td>0.328201</td>\n",
              "      <td>0</td>\n",
              "      <td>10.626177</td>\n",
              "      <td>1.012780</td>\n",
              "    </tr>\n",
              "    <tr>\n",
              "      <th>4</th>\n",
              "      <td>4</td>\n",
              "      <td>20150115</td>\n",
              "      <td>12.583999</td>\n",
              "      <td>3</td>\n",
              "      <td>1.50</td>\n",
              "      <td>6.966967</td>\n",
              "      <td>9.181118</td>\n",
              "      <td>1.0</td>\n",
              "      <td>0</td>\n",
              "      <td>0</td>\n",
              "      <td>3</td>\n",
              "      <td>7</td>\n",
              "      <td>6.966967</td>\n",
              "      <td>0.0</td>\n",
              "      <td>1963</td>\n",
              "      <td>1963.0</td>\n",
              "      <td>98198</td>\n",
              "      <td>47.4095</td>\n",
              "      <td>-122.315</td>\n",
              "      <td>1650</td>\n",
              "      <td>9711</td>\n",
              "      <td>4.50</td>\n",
              "      <td>0.758837</td>\n",
              "      <td>6.966967</td>\n",
              "      <td>1.0</td>\n",
              "      <td>0.169910</td>\n",
              "      <td>0</td>\n",
              "      <td>10.032009</td>\n",
              "      <td>1.002206</td>\n",
              "    </tr>\n",
              "  </tbody>\n",
              "</table>\n",
              "</div>"
            ],
            "text/plain": [
              "   id      date      price  ...  is_renovated  zipcode_mean  zipcode_var\n",
              "0   0  20141013  12.309987  ...             0      9.368147     1.214207\n",
              "1   1  20150225  12.100718  ...             0      9.257745     1.023549\n",
              "2   2  20150218  13.142168  ...             0     11.307711     0.826257\n",
              "3   3  20140627  12.458779  ...             0     10.626177     1.012780\n",
              "4   4  20150115  12.583999  ...             0     10.032009     1.002206\n",
              "\n",
              "[5 rows x 29 columns]"
            ]
          },
          "metadata": {
            "tags": []
          },
          "execution_count": 44
        }
      ]
    },
    {
      "cell_type": "markdown",
      "metadata": {
        "id": "SDv6F0_US-Af"
      },
      "source": [
        "### train데이터와 target데이터 분리"
      ]
    },
    {
      "cell_type": "code",
      "metadata": {
        "colab": {
          "base_uri": "https://localhost:8080/"
        },
        "id": "YTVMmZIvTFUQ",
        "outputId": "6ef5e904-af94-4d79-ebc9-a023ddb6aea4"
      },
      "source": [
        "y = data['price']\n",
        "del data['price']\n",
        "\n",
        "y"
      ],
      "execution_count": 45,
      "outputs": [
        {
          "output_type": "execute_result",
          "data": {
            "text/plain": [
              "0        12.309987\n",
              "1        12.100718\n",
              "2        13.142168\n",
              "3        12.458779\n",
              "4        12.583999\n",
              "           ...    \n",
              "15024    13.322338\n",
              "15025    13.822984\n",
              "15026    12.793862\n",
              "15027    12.899222\n",
              "15028    12.691584\n",
              "Name: price, Length: 15029, dtype: float64"
            ]
          },
          "metadata": {
            "tags": []
          },
          "execution_count": 45
        }
      ]
    },
    {
      "cell_type": "markdown",
      "metadata": {
        "id": "zCj88g5LGwQa"
      },
      "source": [
        "#4.모델링"
      ]
    },
    {
      "cell_type": "markdown",
      "metadata": {
        "id": "cphJP9aMwaMC"
      },
      "source": [
        "## ✓ 튜닝해볼 수 있는 모델 클래스 인자\n",
        "\n",
        "대표적으로 자주 튜닝하는 lightgbm 라이브러리의 인자는 다음과 같다.\n",
        "\n",
        "- max_depth : 의사 결정 나무의 깊이, 정수 사용\n",
        "- learning_rate : 한 스텝에 이동하는 양을 결정하는 파라미터, 보통 0.0001\\~0.1 사이의 실수 사용\n",
        "- n_estimators : 사용하는 개별 모델의 개수, 보통 50~100 이상의 정수 사용\n",
        "- num_leaves : 하나의 LightGBM 트리가 가질 수 있는 최대 잎의 수\n",
        "- boosting_type : 부스팅 방식, gbdt, rf 등의 문자열 입력"
      ]
    },
    {
      "cell_type": "markdown",
      "metadata": {
        "id": "bmSMgXUvTkVb"
      },
      "source": [
        "파라미터 조합과 score, RMSLE가 담긴 DataFrame을 반환한다."
      ]
    },
    {
      "cell_type": "code",
      "metadata": {
        "id": "C_8GBB_WRDgO"
      },
      "source": [
        "def rmse(y_test, y_pred):\n",
        "    return np.sqrt(mean_squared_error(np.expm1(y_test), np.expm1(y_pred)))"
      ],
      "execution_count": 46,
      "outputs": []
    },
    {
      "cell_type": "code",
      "metadata": {
        "id": "6qAodFnSPw5Z"
      },
      "source": [
        "random_state=2021         # 시드값 고정\n",
        "\n",
        "gboost = GradientBoostingRegressor(random_state=random_state)\n",
        "xgboost = XGBRegressor(random_state=random_state)\n",
        "lightgbm = LGBMRegressor(random_state=random_state)\n",
        "rdforest = RandomForestRegressor(random_state=random_state)\n",
        "\n",
        "models = [gboost, xgboost, lightgbm, rdforest]"
      ],
      "execution_count": 47,
      "outputs": []
    },
    {
      "cell_type": "code",
      "metadata": {
        "id": "jdi6yzQnQ56O"
      },
      "source": [
        "def get_scores(models, train, y):\n",
        "    df = {}\n",
        "    \n",
        "    for model in models:\n",
        "        model_name = model.__class__.__name__\n",
        "        \n",
        "        X_train, X_test, y_train, y_test = train_test_split(train, y, random_state=random_state, test_size=0.2)\n",
        "        model.fit(X_train, y_train)\n",
        "        y_pred = model.predict(X_test)\n",
        "        \n",
        "        df[model_name] = rmse(y_test, y_pred)\n",
        "        score_df = pd.DataFrame(df, index=['RMSE']).T.sort_values('RMSE', ascending=False)\n",
        "            \n",
        "    return score_df"
      ],
      "execution_count": 48,
      "outputs": []
    },
    {
      "cell_type": "code",
      "metadata": {
        "id": "FI_DYdDQSwOQ"
      },
      "source": [
        "def my_GridSearch(model, train, y, param_grid, verbose=2, n_jobs=5):\n",
        "    # GridSearchCV 모델로 초기화\n",
        "    grid_model = GridSearchCV(model, param_grid=param_grid, scoring='neg_mean_squared_error', \\\n",
        "                              cv=5, verbose=verbose, n_jobs=n_jobs)\n",
        "    \n",
        "    # 모델 fitting\n",
        "    grid_model.fit(train, y)\n",
        "\n",
        "    # 결과값 저장\n",
        "    params = grid_model.cv_results_['params']\n",
        "    score = grid_model.cv_results_['mean_test_score']\n",
        "    \n",
        "    # 데이터 프레임 생성\n",
        "    results = pd.DataFrame(params)\n",
        "    results['score'] = score\n",
        "    \n",
        "    # RMSLE 값 계산 후 정렬\n",
        "    results['RMSLE'] = np.sqrt(-1 * results['score'])\n",
        "    results = results.sort_values('RMSLE')\n",
        "\n",
        "    return results"
      ],
      "execution_count": 49,
      "outputs": []
    },
    {
      "cell_type": "code",
      "metadata": {
        "colab": {
          "base_uri": "https://localhost:8080/",
          "height": 227
        },
        "id": "eZu54ZsETxQW",
        "outputId": "359504af-f2be-41a6-d602-96ad67137744"
      },
      "source": [
        "# 하이퍼파라미터 값 설정\n",
        "param_grid = {\n",
        "    'n_estimators': [50, 100],\n",
        "    'max_depth': [1, 10],\n",
        "}\n",
        "\n",
        "# 모델 초기화\n",
        "model = LGBMRegressor(random_state=random_state)\n",
        "\n",
        "# 직접 작성한 '그리드 탐색' 함수\n",
        "my_GridSearch(model, data, y, param_grid, verbose=2, n_jobs=5)"
      ],
      "execution_count": 50,
      "outputs": [
        {
          "output_type": "stream",
          "text": [
            "Fitting 5 folds for each of 4 candidates, totalling 20 fits\n"
          ],
          "name": "stdout"
        },
        {
          "output_type": "stream",
          "text": [
            "[Parallel(n_jobs=5)]: Using backend LokyBackend with 5 concurrent workers.\n",
            "[Parallel(n_jobs=5)]: Done  20 out of  20 | elapsed:    9.2s finished\n"
          ],
          "name": "stderr"
        },
        {
          "output_type": "execute_result",
          "data": {
            "text/html": [
              "<div>\n",
              "<style scoped>\n",
              "    .dataframe tbody tr th:only-of-type {\n",
              "        vertical-align: middle;\n",
              "    }\n",
              "\n",
              "    .dataframe tbody tr th {\n",
              "        vertical-align: top;\n",
              "    }\n",
              "\n",
              "    .dataframe thead th {\n",
              "        text-align: right;\n",
              "    }\n",
              "</style>\n",
              "<table border=\"1\" class=\"dataframe\">\n",
              "  <thead>\n",
              "    <tr style=\"text-align: right;\">\n",
              "      <th></th>\n",
              "      <th>max_depth</th>\n",
              "      <th>n_estimators</th>\n",
              "      <th>score</th>\n",
              "      <th>RMSLE</th>\n",
              "    </tr>\n",
              "  </thead>\n",
              "  <tbody>\n",
              "    <tr>\n",
              "      <th>3</th>\n",
              "      <td>10</td>\n",
              "      <td>100</td>\n",
              "      <td>-0.027253</td>\n",
              "      <td>0.165083</td>\n",
              "    </tr>\n",
              "    <tr>\n",
              "      <th>2</th>\n",
              "      <td>10</td>\n",
              "      <td>50</td>\n",
              "      <td>-0.029324</td>\n",
              "      <td>0.171243</td>\n",
              "    </tr>\n",
              "    <tr>\n",
              "      <th>1</th>\n",
              "      <td>1</td>\n",
              "      <td>100</td>\n",
              "      <td>-0.054841</td>\n",
              "      <td>0.234181</td>\n",
              "    </tr>\n",
              "    <tr>\n",
              "      <th>0</th>\n",
              "      <td>1</td>\n",
              "      <td>50</td>\n",
              "      <td>-0.073244</td>\n",
              "      <td>0.270637</td>\n",
              "    </tr>\n",
              "  </tbody>\n",
              "</table>\n",
              "</div>"
            ],
            "text/plain": [
              "   max_depth  n_estimators     score     RMSLE\n",
              "3         10           100 -0.027253  0.165083\n",
              "2         10            50 -0.029324  0.171243\n",
              "1          1           100 -0.054841  0.234181\n",
              "0          1            50 -0.073244  0.270637"
            ]
          },
          "metadata": {
            "tags": []
          },
          "execution_count": 50
        }
      ]
    },
    {
      "cell_type": "code",
      "metadata": {
        "colab": {
          "base_uri": "https://localhost:8080/",
          "height": 439
        },
        "id": "Wu8tIvzaVUX3",
        "outputId": "14ff4526-6960-415f-ad87-f98967cf2399"
      },
      "source": [
        "data"
      ],
      "execution_count": 51,
      "outputs": [
        {
          "output_type": "execute_result",
          "data": {
            "text/html": [
              "<div>\n",
              "<style scoped>\n",
              "    .dataframe tbody tr th:only-of-type {\n",
              "        vertical-align: middle;\n",
              "    }\n",
              "\n",
              "    .dataframe tbody tr th {\n",
              "        vertical-align: top;\n",
              "    }\n",
              "\n",
              "    .dataframe thead th {\n",
              "        text-align: right;\n",
              "    }\n",
              "</style>\n",
              "<table border=\"1\" class=\"dataframe\">\n",
              "  <thead>\n",
              "    <tr style=\"text-align: right;\">\n",
              "      <th></th>\n",
              "      <th>id</th>\n",
              "      <th>date</th>\n",
              "      <th>bedrooms</th>\n",
              "      <th>bathrooms</th>\n",
              "      <th>sqft_living</th>\n",
              "      <th>sqft_lot</th>\n",
              "      <th>floors</th>\n",
              "      <th>waterfront</th>\n",
              "      <th>view</th>\n",
              "      <th>condition</th>\n",
              "      <th>grade</th>\n",
              "      <th>sqft_above</th>\n",
              "      <th>sqft_basement</th>\n",
              "      <th>yr_built</th>\n",
              "      <th>yr_renovated</th>\n",
              "      <th>zipcode</th>\n",
              "      <th>lat</th>\n",
              "      <th>long</th>\n",
              "      <th>sqft_living15</th>\n",
              "      <th>sqft_lot15</th>\n",
              "      <th>total_rooms</th>\n",
              "      <th>sqft_ratio</th>\n",
              "      <th>sqft_total_size</th>\n",
              "      <th>sqft_ratio_1</th>\n",
              "      <th>sqft_ratio15</th>\n",
              "      <th>is_renovated</th>\n",
              "      <th>zipcode_mean</th>\n",
              "      <th>zipcode_var</th>\n",
              "    </tr>\n",
              "  </thead>\n",
              "  <tbody>\n",
              "    <tr>\n",
              "      <th>0</th>\n",
              "      <td>0</td>\n",
              "      <td>20141013</td>\n",
              "      <td>3</td>\n",
              "      <td>1.00</td>\n",
              "      <td>7.074117</td>\n",
              "      <td>8.639588</td>\n",
              "      <td>1.0</td>\n",
              "      <td>0</td>\n",
              "      <td>0</td>\n",
              "      <td>3</td>\n",
              "      <td>7</td>\n",
              "      <td>7.074117</td>\n",
              "      <td>0.000000</td>\n",
              "      <td>1955</td>\n",
              "      <td>1955.0</td>\n",
              "      <td>98178</td>\n",
              "      <td>47.5112</td>\n",
              "      <td>-122.257</td>\n",
              "      <td>1340</td>\n",
              "      <td>5650</td>\n",
              "      <td>4.00</td>\n",
              "      <td>0.818803</td>\n",
              "      <td>7.074117</td>\n",
              "      <td>1.000000</td>\n",
              "      <td>0.237168</td>\n",
              "      <td>0</td>\n",
              "      <td>9.368147</td>\n",
              "      <td>1.214207</td>\n",
              "    </tr>\n",
              "    <tr>\n",
              "      <th>1</th>\n",
              "      <td>1</td>\n",
              "      <td>20150225</td>\n",
              "      <td>2</td>\n",
              "      <td>1.00</td>\n",
              "      <td>6.647688</td>\n",
              "      <td>9.210440</td>\n",
              "      <td>1.0</td>\n",
              "      <td>0</td>\n",
              "      <td>0</td>\n",
              "      <td>3</td>\n",
              "      <td>6</td>\n",
              "      <td>6.647688</td>\n",
              "      <td>0.000000</td>\n",
              "      <td>1933</td>\n",
              "      <td>1933.0</td>\n",
              "      <td>98028</td>\n",
              "      <td>47.7379</td>\n",
              "      <td>-122.233</td>\n",
              "      <td>2720</td>\n",
              "      <td>8062</td>\n",
              "      <td>3.00</td>\n",
              "      <td>0.721756</td>\n",
              "      <td>6.647688</td>\n",
              "      <td>1.000000</td>\n",
              "      <td>0.337385</td>\n",
              "      <td>0</td>\n",
              "      <td>9.257745</td>\n",
              "      <td>1.023549</td>\n",
              "    </tr>\n",
              "    <tr>\n",
              "      <th>2</th>\n",
              "      <td>2</td>\n",
              "      <td>20150218</td>\n",
              "      <td>3</td>\n",
              "      <td>2.00</td>\n",
              "      <td>7.427144</td>\n",
              "      <td>8.997271</td>\n",
              "      <td>1.0</td>\n",
              "      <td>0</td>\n",
              "      <td>0</td>\n",
              "      <td>3</td>\n",
              "      <td>8</td>\n",
              "      <td>7.427144</td>\n",
              "      <td>0.000000</td>\n",
              "      <td>1987</td>\n",
              "      <td>1987.0</td>\n",
              "      <td>98074</td>\n",
              "      <td>47.6168</td>\n",
              "      <td>-122.045</td>\n",
              "      <td>1800</td>\n",
              "      <td>7503</td>\n",
              "      <td>5.00</td>\n",
              "      <td>0.825489</td>\n",
              "      <td>7.427144</td>\n",
              "      <td>1.000000</td>\n",
              "      <td>0.239904</td>\n",
              "      <td>0</td>\n",
              "      <td>11.307711</td>\n",
              "      <td>0.826257</td>\n",
              "    </tr>\n",
              "    <tr>\n",
              "      <th>3</th>\n",
              "      <td>3</td>\n",
              "      <td>20140627</td>\n",
              "      <td>3</td>\n",
              "      <td>2.25</td>\n",
              "      <td>7.447751</td>\n",
              "      <td>8.827615</td>\n",
              "      <td>2.0</td>\n",
              "      <td>0</td>\n",
              "      <td>0</td>\n",
              "      <td>3</td>\n",
              "      <td>7</td>\n",
              "      <td>7.447751</td>\n",
              "      <td>0.000000</td>\n",
              "      <td>1995</td>\n",
              "      <td>1995.0</td>\n",
              "      <td>98003</td>\n",
              "      <td>47.3097</td>\n",
              "      <td>-122.327</td>\n",
              "      <td>2238</td>\n",
              "      <td>6819</td>\n",
              "      <td>5.25</td>\n",
              "      <td>0.843688</td>\n",
              "      <td>7.447751</td>\n",
              "      <td>1.000000</td>\n",
              "      <td>0.328201</td>\n",
              "      <td>0</td>\n",
              "      <td>10.626177</td>\n",
              "      <td>1.012780</td>\n",
              "    </tr>\n",
              "    <tr>\n",
              "      <th>4</th>\n",
              "      <td>4</td>\n",
              "      <td>20150115</td>\n",
              "      <td>3</td>\n",
              "      <td>1.50</td>\n",
              "      <td>6.966967</td>\n",
              "      <td>9.181118</td>\n",
              "      <td>1.0</td>\n",
              "      <td>0</td>\n",
              "      <td>0</td>\n",
              "      <td>3</td>\n",
              "      <td>7</td>\n",
              "      <td>6.966967</td>\n",
              "      <td>0.000000</td>\n",
              "      <td>1963</td>\n",
              "      <td>1963.0</td>\n",
              "      <td>98198</td>\n",
              "      <td>47.4095</td>\n",
              "      <td>-122.315</td>\n",
              "      <td>1650</td>\n",
              "      <td>9711</td>\n",
              "      <td>4.50</td>\n",
              "      <td>0.758837</td>\n",
              "      <td>6.966967</td>\n",
              "      <td>1.000000</td>\n",
              "      <td>0.169910</td>\n",
              "      <td>0</td>\n",
              "      <td>10.032009</td>\n",
              "      <td>1.002206</td>\n",
              "    </tr>\n",
              "    <tr>\n",
              "      <th>...</th>\n",
              "      <td>...</td>\n",
              "      <td>...</td>\n",
              "      <td>...</td>\n",
              "      <td>...</td>\n",
              "      <td>...</td>\n",
              "      <td>...</td>\n",
              "      <td>...</td>\n",
              "      <td>...</td>\n",
              "      <td>...</td>\n",
              "      <td>...</td>\n",
              "      <td>...</td>\n",
              "      <td>...</td>\n",
              "      <td>...</td>\n",
              "      <td>...</td>\n",
              "      <td>...</td>\n",
              "      <td>...</td>\n",
              "      <td>...</td>\n",
              "      <td>...</td>\n",
              "      <td>...</td>\n",
              "      <td>...</td>\n",
              "      <td>...</td>\n",
              "      <td>...</td>\n",
              "      <td>...</td>\n",
              "      <td>...</td>\n",
              "      <td>...</td>\n",
              "      <td>...</td>\n",
              "      <td>...</td>\n",
              "      <td>...</td>\n",
              "    </tr>\n",
              "    <tr>\n",
              "      <th>15024</th>\n",
              "      <td>15030</td>\n",
              "      <td>20141014</td>\n",
              "      <td>4</td>\n",
              "      <td>2.50</td>\n",
              "      <td>7.832411</td>\n",
              "      <td>8.703507</td>\n",
              "      <td>2.0</td>\n",
              "      <td>0</td>\n",
              "      <td>0</td>\n",
              "      <td>3</td>\n",
              "      <td>9</td>\n",
              "      <td>7.832411</td>\n",
              "      <td>0.000000</td>\n",
              "      <td>2014</td>\n",
              "      <td>2014.0</td>\n",
              "      <td>98056</td>\n",
              "      <td>47.5137</td>\n",
              "      <td>-122.167</td>\n",
              "      <td>2520</td>\n",
              "      <td>6023</td>\n",
              "      <td>6.50</td>\n",
              "      <td>0.899914</td>\n",
              "      <td>7.832411</td>\n",
              "      <td>1.000000</td>\n",
              "      <td>0.418396</td>\n",
              "      <td>0</td>\n",
              "      <td>11.842391</td>\n",
              "      <td>0.975946</td>\n",
              "    </tr>\n",
              "    <tr>\n",
              "      <th>15025</th>\n",
              "      <td>15031</td>\n",
              "      <td>20150326</td>\n",
              "      <td>4</td>\n",
              "      <td>3.50</td>\n",
              "      <td>8.163656</td>\n",
              "      <td>8.881975</td>\n",
              "      <td>2.0</td>\n",
              "      <td>0</td>\n",
              "      <td>0</td>\n",
              "      <td>3</td>\n",
              "      <td>9</td>\n",
              "      <td>7.863651</td>\n",
              "      <td>6.814543</td>\n",
              "      <td>2009</td>\n",
              "      <td>2009.0</td>\n",
              "      <td>98136</td>\n",
              "      <td>47.5537</td>\n",
              "      <td>-122.398</td>\n",
              "      <td>2050</td>\n",
              "      <td>6200</td>\n",
              "      <td>7.50</td>\n",
              "      <td>0.919126</td>\n",
              "      <td>14.678194</td>\n",
              "      <td>0.556176</td>\n",
              "      <td>0.330645</td>\n",
              "      <td>0</td>\n",
              "      <td>19.305049</td>\n",
              "      <td>2.547057</td>\n",
              "    </tr>\n",
              "    <tr>\n",
              "      <th>15026</th>\n",
              "      <td>15032</td>\n",
              "      <td>20140521</td>\n",
              "      <td>3</td>\n",
              "      <td>2.50</td>\n",
              "      <td>7.333676</td>\n",
              "      <td>7.031741</td>\n",
              "      <td>3.0</td>\n",
              "      <td>0</td>\n",
              "      <td>0</td>\n",
              "      <td>3</td>\n",
              "      <td>8</td>\n",
              "      <td>7.333676</td>\n",
              "      <td>0.000000</td>\n",
              "      <td>2009</td>\n",
              "      <td>2009.0</td>\n",
              "      <td>98103</td>\n",
              "      <td>47.6993</td>\n",
              "      <td>-122.346</td>\n",
              "      <td>1530</td>\n",
              "      <td>1509</td>\n",
              "      <td>5.50</td>\n",
              "      <td>1.042939</td>\n",
              "      <td>7.333676</td>\n",
              "      <td>1.000000</td>\n",
              "      <td>1.013917</td>\n",
              "      <td>0</td>\n",
              "      <td>11.038663</td>\n",
              "      <td>1.202774</td>\n",
              "    </tr>\n",
              "    <tr>\n",
              "      <th>15027</th>\n",
              "      <td>15033</td>\n",
              "      <td>20150223</td>\n",
              "      <td>4</td>\n",
              "      <td>2.50</td>\n",
              "      <td>7.745436</td>\n",
              "      <td>8.668024</td>\n",
              "      <td>2.0</td>\n",
              "      <td>0</td>\n",
              "      <td>0</td>\n",
              "      <td>3</td>\n",
              "      <td>8</td>\n",
              "      <td>7.745436</td>\n",
              "      <td>0.000000</td>\n",
              "      <td>2014</td>\n",
              "      <td>2014.0</td>\n",
              "      <td>98146</td>\n",
              "      <td>47.5107</td>\n",
              "      <td>-122.362</td>\n",
              "      <td>1830</td>\n",
              "      <td>7200</td>\n",
              "      <td>6.50</td>\n",
              "      <td>0.893564</td>\n",
              "      <td>7.745436</td>\n",
              "      <td>1.000000</td>\n",
              "      <td>0.254167</td>\n",
              "      <td>0</td>\n",
              "      <td>11.293382</td>\n",
              "      <td>1.173477</td>\n",
              "    </tr>\n",
              "    <tr>\n",
              "      <th>15028</th>\n",
              "      <td>15034</td>\n",
              "      <td>20141015</td>\n",
              "      <td>2</td>\n",
              "      <td>0.75</td>\n",
              "      <td>6.928538</td>\n",
              "      <td>6.981935</td>\n",
              "      <td>2.0</td>\n",
              "      <td>0</td>\n",
              "      <td>0</td>\n",
              "      <td>3</td>\n",
              "      <td>7</td>\n",
              "      <td>6.928538</td>\n",
              "      <td>0.000000</td>\n",
              "      <td>2008</td>\n",
              "      <td>2008.0</td>\n",
              "      <td>98144</td>\n",
              "      <td>47.5941</td>\n",
              "      <td>-122.299</td>\n",
              "      <td>1020</td>\n",
              "      <td>1357</td>\n",
              "      <td>2.75</td>\n",
              "      <td>0.992352</td>\n",
              "      <td>6.928538</td>\n",
              "      <td>1.000000</td>\n",
              "      <td>0.751658</td>\n",
              "      <td>0</td>\n",
              "      <td>8.778314</td>\n",
              "      <td>1.097460</td>\n",
              "    </tr>\n",
              "  </tbody>\n",
              "</table>\n",
              "<p>15029 rows × 28 columns</p>\n",
              "</div>"
            ],
            "text/plain": [
              "          id      date  bedrooms  ...  is_renovated  zipcode_mean  zipcode_var\n",
              "0          0  20141013         3  ...             0      9.368147     1.214207\n",
              "1          1  20150225         2  ...             0      9.257745     1.023549\n",
              "2          2  20150218         3  ...             0     11.307711     0.826257\n",
              "3          3  20140627         3  ...             0     10.626177     1.012780\n",
              "4          4  20150115         3  ...             0     10.032009     1.002206\n",
              "...      ...       ...       ...  ...           ...           ...          ...\n",
              "15024  15030  20141014         4  ...             0     11.842391     0.975946\n",
              "15025  15031  20150326         4  ...             0     19.305049     2.547057\n",
              "15026  15032  20140521         3  ...             0     11.038663     1.202774\n",
              "15027  15033  20150223         4  ...             0     11.293382     1.173477\n",
              "15028  15034  20141015         2  ...             0      8.778314     1.097460\n",
              "\n",
              "[15029 rows x 28 columns]"
            ]
          },
          "metadata": {
            "tags": []
          },
          "execution_count": 51
        }
      ]
    },
    {
      "cell_type": "code",
      "metadata": {
        "colab": {
          "base_uri": "https://localhost:8080/",
          "height": 439
        },
        "id": "v_Rvs6duVW8T",
        "outputId": "d0f90273-d714-45e7-f508-8d7ed0935885"
      },
      "source": [
        "test"
      ],
      "execution_count": 52,
      "outputs": [
        {
          "output_type": "execute_result",
          "data": {
            "text/html": [
              "<div>\n",
              "<style scoped>\n",
              "    .dataframe tbody tr th:only-of-type {\n",
              "        vertical-align: middle;\n",
              "    }\n",
              "\n",
              "    .dataframe tbody tr th {\n",
              "        vertical-align: top;\n",
              "    }\n",
              "\n",
              "    .dataframe thead th {\n",
              "        text-align: right;\n",
              "    }\n",
              "</style>\n",
              "<table border=\"1\" class=\"dataframe\">\n",
              "  <thead>\n",
              "    <tr style=\"text-align: right;\">\n",
              "      <th></th>\n",
              "      <th>id</th>\n",
              "      <th>date</th>\n",
              "      <th>bedrooms</th>\n",
              "      <th>bathrooms</th>\n",
              "      <th>sqft_living</th>\n",
              "      <th>sqft_lot</th>\n",
              "      <th>floors</th>\n",
              "      <th>waterfront</th>\n",
              "      <th>view</th>\n",
              "      <th>condition</th>\n",
              "      <th>grade</th>\n",
              "      <th>sqft_above</th>\n",
              "      <th>sqft_basement</th>\n",
              "      <th>yr_built</th>\n",
              "      <th>yr_renovated</th>\n",
              "      <th>zipcode</th>\n",
              "      <th>lat</th>\n",
              "      <th>long</th>\n",
              "      <th>sqft_living15</th>\n",
              "      <th>sqft_lot15</th>\n",
              "      <th>total_rooms</th>\n",
              "      <th>sqft_ratio</th>\n",
              "      <th>sqft_total_size</th>\n",
              "      <th>sqft_ratio_1</th>\n",
              "      <th>sqft_ratio15</th>\n",
              "      <th>is_renovated</th>\n",
              "      <th>zipcode_mean</th>\n",
              "      <th>zipcode_var</th>\n",
              "    </tr>\n",
              "  </thead>\n",
              "  <tbody>\n",
              "    <tr>\n",
              "      <th>0</th>\n",
              "      <td>15035</td>\n",
              "      <td>20141209</td>\n",
              "      <td>3</td>\n",
              "      <td>2.25</td>\n",
              "      <td>7.852050</td>\n",
              "      <td>8.887791</td>\n",
              "      <td>2.0</td>\n",
              "      <td>0</td>\n",
              "      <td>0</td>\n",
              "      <td>3</td>\n",
              "      <td>7</td>\n",
              "      <td>7.682943</td>\n",
              "      <td>5.993961</td>\n",
              "      <td>1951</td>\n",
              "      <td>1991.0</td>\n",
              "      <td>98125</td>\n",
              "      <td>47.7210</td>\n",
              "      <td>-122.319</td>\n",
              "      <td>1690</td>\n",
              "      <td>7639</td>\n",
              "      <td>5.25</td>\n",
              "      <td>0.883465</td>\n",
              "      <td>13.676905</td>\n",
              "      <td>0.574110</td>\n",
              "      <td>0.221233</td>\n",
              "      <td>1</td>\n",
              "      <td>19.255794</td>\n",
              "      <td>2.321564</td>\n",
              "    </tr>\n",
              "    <tr>\n",
              "      <th>1</th>\n",
              "      <td>15036</td>\n",
              "      <td>20141209</td>\n",
              "      <td>4</td>\n",
              "      <td>3.00</td>\n",
              "      <td>7.581210</td>\n",
              "      <td>8.517393</td>\n",
              "      <td>1.0</td>\n",
              "      <td>0</td>\n",
              "      <td>0</td>\n",
              "      <td>5</td>\n",
              "      <td>7</td>\n",
              "      <td>6.957497</td>\n",
              "      <td>6.814543</td>\n",
              "      <td>1965</td>\n",
              "      <td>1965.0</td>\n",
              "      <td>98136</td>\n",
              "      <td>47.5208</td>\n",
              "      <td>-122.393</td>\n",
              "      <td>1360</td>\n",
              "      <td>5000</td>\n",
              "      <td>7.00</td>\n",
              "      <td>0.890086</td>\n",
              "      <td>13.772040</td>\n",
              "      <td>0.550478</td>\n",
              "      <td>0.272000</td>\n",
              "      <td>0</td>\n",
              "      <td>18.113257</td>\n",
              "      <td>2.389816</td>\n",
              "    </tr>\n",
              "    <tr>\n",
              "      <th>2</th>\n",
              "      <td>15037</td>\n",
              "      <td>20140512</td>\n",
              "      <td>4</td>\n",
              "      <td>4.50</td>\n",
              "      <td>8.598036</td>\n",
              "      <td>11.532051</td>\n",
              "      <td>1.0</td>\n",
              "      <td>0</td>\n",
              "      <td>0</td>\n",
              "      <td>3</td>\n",
              "      <td>11</td>\n",
              "      <td>8.266421</td>\n",
              "      <td>7.333676</td>\n",
              "      <td>2001</td>\n",
              "      <td>2001.0</td>\n",
              "      <td>98053</td>\n",
              "      <td>47.6561</td>\n",
              "      <td>-122.005</td>\n",
              "      <td>4760</td>\n",
              "      <td>101930</td>\n",
              "      <td>8.50</td>\n",
              "      <td>0.745577</td>\n",
              "      <td>15.600098</td>\n",
              "      <td>0.551153</td>\n",
              "      <td>0.046699</td>\n",
              "      <td>0</td>\n",
              "      <td>25.917920</td>\n",
              "      <td>0.737584</td>\n",
              "    </tr>\n",
              "    <tr>\n",
              "      <th>3</th>\n",
              "      <td>15038</td>\n",
              "      <td>20150415</td>\n",
              "      <td>3</td>\n",
              "      <td>1.00</td>\n",
              "      <td>7.484930</td>\n",
              "      <td>8.918784</td>\n",
              "      <td>1.0</td>\n",
              "      <td>0</td>\n",
              "      <td>0</td>\n",
              "      <td>3</td>\n",
              "      <td>7</td>\n",
              "      <td>6.957497</td>\n",
              "      <td>6.594413</td>\n",
              "      <td>1960</td>\n",
              "      <td>1960.0</td>\n",
              "      <td>98146</td>\n",
              "      <td>47.5123</td>\n",
              "      <td>-122.337</td>\n",
              "      <td>1780</td>\n",
              "      <td>8113</td>\n",
              "      <td>4.00</td>\n",
              "      <td>0.839232</td>\n",
              "      <td>13.551911</td>\n",
              "      <td>0.552315</td>\n",
              "      <td>0.219401</td>\n",
              "      <td>0</td>\n",
              "      <td>19.759625</td>\n",
              "      <td>2.053191</td>\n",
              "    </tr>\n",
              "    <tr>\n",
              "      <th>4</th>\n",
              "      <td>15039</td>\n",
              "      <td>20150312</td>\n",
              "      <td>3</td>\n",
              "      <td>2.50</td>\n",
              "      <td>7.544861</td>\n",
              "      <td>8.788898</td>\n",
              "      <td>2.0</td>\n",
              "      <td>0</td>\n",
              "      <td>0</td>\n",
              "      <td>3</td>\n",
              "      <td>7</td>\n",
              "      <td>7.544861</td>\n",
              "      <td>0.000000</td>\n",
              "      <td>2003</td>\n",
              "      <td>2003.0</td>\n",
              "      <td>98038</td>\n",
              "      <td>47.3684</td>\n",
              "      <td>-122.031</td>\n",
              "      <td>2390</td>\n",
              "      <td>7570</td>\n",
              "      <td>5.50</td>\n",
              "      <td>0.858454</td>\n",
              "      <td>7.544861</td>\n",
              "      <td>1.000000</td>\n",
              "      <td>0.315720</td>\n",
              "      <td>0</td>\n",
              "      <td>11.947244</td>\n",
              "      <td>0.477170</td>\n",
              "    </tr>\n",
              "    <tr>\n",
              "      <th>...</th>\n",
              "      <td>...</td>\n",
              "      <td>...</td>\n",
              "      <td>...</td>\n",
              "      <td>...</td>\n",
              "      <td>...</td>\n",
              "      <td>...</td>\n",
              "      <td>...</td>\n",
              "      <td>...</td>\n",
              "      <td>...</td>\n",
              "      <td>...</td>\n",
              "      <td>...</td>\n",
              "      <td>...</td>\n",
              "      <td>...</td>\n",
              "      <td>...</td>\n",
              "      <td>...</td>\n",
              "      <td>...</td>\n",
              "      <td>...</td>\n",
              "      <td>...</td>\n",
              "      <td>...</td>\n",
              "      <td>...</td>\n",
              "      <td>...</td>\n",
              "      <td>...</td>\n",
              "      <td>...</td>\n",
              "      <td>...</td>\n",
              "      <td>...</td>\n",
              "      <td>...</td>\n",
              "      <td>...</td>\n",
              "      <td>...</td>\n",
              "    </tr>\n",
              "    <tr>\n",
              "      <th>6463</th>\n",
              "      <td>21498</td>\n",
              "      <td>20140626</td>\n",
              "      <td>3</td>\n",
              "      <td>1.75</td>\n",
              "      <td>7.313887</td>\n",
              "      <td>9.390075</td>\n",
              "      <td>1.0</td>\n",
              "      <td>0</td>\n",
              "      <td>0</td>\n",
              "      <td>3</td>\n",
              "      <td>6</td>\n",
              "      <td>7.313887</td>\n",
              "      <td>0.000000</td>\n",
              "      <td>2014</td>\n",
              "      <td>2014.0</td>\n",
              "      <td>98010</td>\n",
              "      <td>47.3095</td>\n",
              "      <td>-122.002</td>\n",
              "      <td>1320</td>\n",
              "      <td>11303</td>\n",
              "      <td>4.75</td>\n",
              "      <td>0.778895</td>\n",
              "      <td>7.313887</td>\n",
              "      <td>1.000000</td>\n",
              "      <td>0.116783</td>\n",
              "      <td>0</td>\n",
              "      <td>11.526568</td>\n",
              "      <td>0.619162</td>\n",
              "    </tr>\n",
              "    <tr>\n",
              "      <th>6464</th>\n",
              "      <td>21499</td>\n",
              "      <td>20150126</td>\n",
              "      <td>3</td>\n",
              "      <td>2.00</td>\n",
              "      <td>7.307202</td>\n",
              "      <td>7.027315</td>\n",
              "      <td>3.0</td>\n",
              "      <td>0</td>\n",
              "      <td>0</td>\n",
              "      <td>3</td>\n",
              "      <td>8</td>\n",
              "      <td>7.307202</td>\n",
              "      <td>0.000000</td>\n",
              "      <td>2014</td>\n",
              "      <td>2014.0</td>\n",
              "      <td>98144</td>\n",
              "      <td>47.5699</td>\n",
              "      <td>-122.288</td>\n",
              "      <td>1400</td>\n",
              "      <td>1230</td>\n",
              "      <td>5.00</td>\n",
              "      <td>1.039829</td>\n",
              "      <td>7.307202</td>\n",
              "      <td>1.000000</td>\n",
              "      <td>1.138211</td>\n",
              "      <td>0</td>\n",
              "      <td>9.258074</td>\n",
              "      <td>1.157439</td>\n",
              "    </tr>\n",
              "    <tr>\n",
              "      <th>6465</th>\n",
              "      <td>21500</td>\n",
              "      <td>20150219</td>\n",
              "      <td>3</td>\n",
              "      <td>2.50</td>\n",
              "      <td>7.178545</td>\n",
              "      <td>7.166266</td>\n",
              "      <td>2.0</td>\n",
              "      <td>0</td>\n",
              "      <td>0</td>\n",
              "      <td>3</td>\n",
              "      <td>8</td>\n",
              "      <td>7.074117</td>\n",
              "      <td>4.875197</td>\n",
              "      <td>2008</td>\n",
              "      <td>2008.0</td>\n",
              "      <td>98116</td>\n",
              "      <td>47.5773</td>\n",
              "      <td>-122.409</td>\n",
              "      <td>1330</td>\n",
              "      <td>1265</td>\n",
              "      <td>5.50</td>\n",
              "      <td>1.001714</td>\n",
              "      <td>11.949314</td>\n",
              "      <td>0.600750</td>\n",
              "      <td>1.051383</td>\n",
              "      <td>0</td>\n",
              "      <td>15.373075</td>\n",
              "      <td>1.947537</td>\n",
              "    </tr>\n",
              "    <tr>\n",
              "      <th>6466</th>\n",
              "      <td>21501</td>\n",
              "      <td>20140623</td>\n",
              "      <td>2</td>\n",
              "      <td>0.75</td>\n",
              "      <td>6.928538</td>\n",
              "      <td>7.208600</td>\n",
              "      <td>2.0</td>\n",
              "      <td>0</td>\n",
              "      <td>0</td>\n",
              "      <td>3</td>\n",
              "      <td>7</td>\n",
              "      <td>6.928538</td>\n",
              "      <td>0.000000</td>\n",
              "      <td>2009</td>\n",
              "      <td>2009.0</td>\n",
              "      <td>98144</td>\n",
              "      <td>47.5944</td>\n",
              "      <td>-122.299</td>\n",
              "      <td>1020</td>\n",
              "      <td>2007</td>\n",
              "      <td>2.75</td>\n",
              "      <td>0.961149</td>\n",
              "      <td>6.928538</td>\n",
              "      <td>1.000000</td>\n",
              "      <td>0.508221</td>\n",
              "      <td>0</td>\n",
              "      <td>8.778314</td>\n",
              "      <td>1.097460</td>\n",
              "    </tr>\n",
              "    <tr>\n",
              "      <th>6467</th>\n",
              "      <td>21502</td>\n",
              "      <td>20150116</td>\n",
              "      <td>3</td>\n",
              "      <td>2.50</td>\n",
              "      <td>7.378384</td>\n",
              "      <td>7.778630</td>\n",
              "      <td>2.0</td>\n",
              "      <td>0</td>\n",
              "      <td>0</td>\n",
              "      <td>3</td>\n",
              "      <td>8</td>\n",
              "      <td>7.378384</td>\n",
              "      <td>0.000000</td>\n",
              "      <td>2004</td>\n",
              "      <td>2004.0</td>\n",
              "      <td>98027</td>\n",
              "      <td>47.5345</td>\n",
              "      <td>-122.069</td>\n",
              "      <td>1410</td>\n",
              "      <td>1287</td>\n",
              "      <td>5.50</td>\n",
              "      <td>0.948545</td>\n",
              "      <td>7.378384</td>\n",
              "      <td>1.000000</td>\n",
              "      <td>1.095571</td>\n",
              "      <td>0</td>\n",
              "      <td>9.724217</td>\n",
              "      <td>1.121004</td>\n",
              "    </tr>\n",
              "  </tbody>\n",
              "</table>\n",
              "<p>6468 rows × 28 columns</p>\n",
              "</div>"
            ],
            "text/plain": [
              "         id      date  bedrooms  ...  is_renovated  zipcode_mean  zipcode_var\n",
              "0     15035  20141209         3  ...             1     19.255794     2.321564\n",
              "1     15036  20141209         4  ...             0     18.113257     2.389816\n",
              "2     15037  20140512         4  ...             0     25.917920     0.737584\n",
              "3     15038  20150415         3  ...             0     19.759625     2.053191\n",
              "4     15039  20150312         3  ...             0     11.947244     0.477170\n",
              "...     ...       ...       ...  ...           ...           ...          ...\n",
              "6463  21498  20140626         3  ...             0     11.526568     0.619162\n",
              "6464  21499  20150126         3  ...             0      9.258074     1.157439\n",
              "6465  21500  20150219         3  ...             0     15.373075     1.947537\n",
              "6466  21501  20140623         2  ...             0      8.778314     1.097460\n",
              "6467  21502  20150116         3  ...             0      9.724217     1.121004\n",
              "\n",
              "[6468 rows x 28 columns]"
            ]
          },
          "metadata": {
            "tags": []
          },
          "execution_count": 52
        }
      ]
    },
    {
      "cell_type": "code",
      "metadata": {
        "colab": {
          "base_uri": "https://localhost:8080/"
        },
        "id": "kwwaWo2RT80J",
        "outputId": "4003de65-6d1c-4a76-fbd1-d241108e3fa3"
      },
      "source": [
        "model = LGBMRegressor(max_depth=10, n_estimators=100, random_state=random_state)\n",
        "\n",
        "model.fit(data, y)\n",
        "\n",
        "prediction = model.predict(test)\n",
        "\n",
        "prediction"
      ],
      "execution_count": 53,
      "outputs": [
        {
          "output_type": "execute_result",
          "data": {
            "text/plain": [
              "array([13.09459515, 13.06965684, 14.18402904, ..., 13.01867515,\n",
              "       12.68246663, 12.97494731])"
            ]
          },
          "metadata": {
            "tags": []
          },
          "execution_count": 53
        }
      ]
    },
    {
      "cell_type": "code",
      "metadata": {
        "colab": {
          "base_uri": "https://localhost:8080/"
        },
        "id": "kxTb4CJbZRdo",
        "outputId": "4a338891-b4eb-4377-9a64-fe94e1dc5b44"
      },
      "source": [
        "prediction = np.expm1(prediction)\n",
        "\n",
        "prediction"
      ],
      "execution_count": 54,
      "outputs": [
        {
          "output_type": "execute_result",
          "data": {
            "text/plain": [
              "array([ 486305.88450845,  474328.18564671, 1445590.35981185, ...,\n",
              "        450752.16035355,  322050.46229685,  431466.43223842])"
            ]
          },
          "metadata": {
            "tags": []
          },
          "execution_count": 54
        }
      ]
    },
    {
      "cell_type": "code",
      "metadata": {
        "id": "UU9edJI4ZXq1"
      },
      "source": [
        "def save_submission(model, train, y, test, model_name, rmsle=None):\n",
        "    model.fit(train, y)\n",
        "    prediction = model.predict(test)\n",
        "    prediction = np.expm1(prediction)\n",
        "    data_dir = '/content/drive/MyDrive/Colab Notebooks/AIFFEL_LMS/data'\n",
        "    submission_path = join(data_dir, 'sample_submission.csv')\n",
        "    submission = pd.read_csv(submission_path)\n",
        "    submission['price'] = prediction\n",
        "    submission_csv_path = '{}/submission_{}_RMSLE_{}.csv'.format(data_dir, model_name, rmsle)\n",
        "    submission.to_csv(submission_csv_path, index=False)\n",
        "    print('{} saved!'.format(submission_csv_path))"
      ],
      "execution_count": 55,
      "outputs": []
    },
    {
      "cell_type": "code",
      "metadata": {
        "colab": {
          "base_uri": "https://localhost:8080/"
        },
        "id": "ZMYgIM0JZ4VO",
        "outputId": "e029d628-a3ad-4de2-cb41-9bc260c4b089"
      },
      "source": [
        "save_submission(model, data, y, test, 'lgbm', rmsle='1')"
      ],
      "execution_count": 58,
      "outputs": [
        {
          "output_type": "stream",
          "text": [
            "/content/drive/MyDrive/Colab Notebooks/AIFFEL_LMS/data/submission_lgbm_RMSLE_1.csv saved!\n"
          ],
          "name": "stdout"
        }
      ]
    },
    {
      "cell_type": "markdown",
      "metadata": {
        "id": "zF9g33_az3cf"
      },
      "source": [
        "# 프로젝트 루브릭 (평가 기준)\n",
        "- 데이터 전처리, 모델학습, 예측의 전체 과정을 거쳐 캐글 submission까지 전과정이 성공적으로 진행되었는가?\n",
        "- 제출된 노트북이 캐글 커널로 사용될 수 있을 만큼 전처리, 학습, 최적화 진행 과정이 체계적으로 기술되었는가?\n",
        "- 다양한 피처 엔지니어링과 하이퍼 파라미터 튜닝 등의 최적화 기법을 통해 캐글 리더보드의 Private score 기준 110000 이하의 점수를 얻었는가?"
      ]
    },
    {
      "cell_type": "markdown",
      "metadata": {
        "id": "7PCDiCj4jBJw"
      },
      "source": [
        "# 회고\n",
        "\n",
        "평소에 주로 함수로 구현하지 않았었는데 이번 프로젝트를 통해 다양한 시도가 필요한 머신러닝 훈련을 위해서는 함수로 구현해놓는 것이 훨씬 유용하다는 것을 직접 깨달았다.\n",
        "\n",
        "<br>\n",
        "\n",
        "그리고 그리드탐색이라는 하이퍼파라미터 튜닝 방법을 알게 되어서 앞으로도 유용하게 사용할 것 같다."
      ]
    }
  ]
}