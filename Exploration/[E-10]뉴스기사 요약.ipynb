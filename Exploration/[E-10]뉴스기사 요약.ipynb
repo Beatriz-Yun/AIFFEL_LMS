{
  "nbformat": 4,
  "nbformat_minor": 0,
  "metadata": {
    "colab": {
      "name": "[E-10]뉴스기사 요약.ipynb",
      "provenance": [],
      "toc_visible": true,
      "include_colab_link": true
    },
    "kernelspec": {
      "display_name": "Python 3",
      "language": "python",
      "name": "python3"
    },
    "language_info": {
      "codemirror_mode": {
        "name": "ipython",
        "version": 3
      },
      "file_extension": ".py",
      "mimetype": "text/x-python",
      "name": "python",
      "nbconvert_exporter": "python",
      "pygments_lexer": "ipython3",
      "version": "3.7.9"
    }
  },
  "cells": [
    {
      "cell_type": "markdown",
      "metadata": {
        "id": "view-in-github",
        "colab_type": "text"
      },
      "source": [
        "<a href=\"https://colab.research.google.com/github/Beatriz-Yun/AIFFEL_LMS/blob/main/Exploration/%5BE-10%5D%EB%89%B4%EC%8A%A4%EA%B8%B0%EC%82%AC%20%EC%9A%94%EC%95%BD.ipynb\" target=\"_parent\"><img src=\"https://colab.research.google.com/assets/colab-badge.svg\" alt=\"Open In Colab\"/></a>"
      ]
    },
    {
      "cell_type": "markdown",
      "metadata": {
        "id": "s4fxo-OdFOi6"
      },
      "source": [
        "# Step 1. 데이터 수집하기\n",
        "데이터는 아래 링크에 있는 뉴스 기사 데이터(news_summary_more.csv)를 사용한다.\n",
        "- [sunnysai12345/News_Summary](https://github.com/sunnysai12345/News_Summary)\n",
        "\n",
        "<br>\n",
        "\n",
        "urllib.request를 이용하여 깃허브링크를 통해 파일을 다운받을 수 있다."
      ]
    },
    {
      "cell_type": "code",
      "metadata": {
        "id": "CqFRX18UhVaS",
        "outputId": "e4b61087-c1ec-41e9-ecca-b2705e72b764"
      },
      "source": [
        "import nltk\n",
        "nltk.download('stopwords')\n",
        "\n",
        "import numpy as np\n",
        "import pandas as pd\n",
        "import os\n",
        "import re\n",
        "import matplotlib.pyplot as plt\n",
        "from nltk.corpus import stopwords\n",
        "from bs4 import BeautifulSoup \n",
        "from tensorflow.keras.preprocessing.text import Tokenizer \n",
        "from tensorflow.keras.preprocessing.sequence import pad_sequences\n",
        "import urllib.request"
      ],
      "execution_count": null,
      "outputs": [
        {
          "name": "stderr",
          "output_type": "stream",
          "text": [
            "[nltk_data] Downloading package stopwords to /aiffel/nltk_data...\n",
            "[nltk_data]   Package stopwords is already up-to-date!\n"
          ]
        }
      ]
    },
    {
      "cell_type": "code",
      "metadata": {
        "id": "SzA7B06GxgxJ"
      },
      "source": [
        "import pandas as pd\n",
        "import urllib.request\n",
        "\n",
        "urllib.request.urlretrieve(\"https://raw.githubusercontent.com/sunnysai12345/News_Summary/master/news_summary_more.csv\", filename=\"news_summary_more.csv\")\n",
        "data = pd.read_csv('news_summary_more.csv', encoding='iso-8859-1')"
      ],
      "execution_count": null,
      "outputs": []
    },
    {
      "cell_type": "markdown",
      "metadata": {
        "id": "uXo3zmPAFuKa"
      },
      "source": [
        "데이터를 살펴보면, 기사의 본문에 해당되는 text와 headlines 두 가지 열로 구성되어져 있다.\n",
        "\n",
        "- 추상적 요약을 하는 경우에는 text를 본문, **headlines를 이미 요약된 데이터로 삼아서** 모델을 학습할 수 있다.\n",
        "- 추출적 요약을 하는 경우에는 오직 text열만을 사용한다."
      ]
    },
    {
      "cell_type": "code",
      "metadata": {
        "colab": {
          "base_uri": "https://localhost:8080/",
          "height": 362
        },
        "id": "6Yp49ixmFpuv",
        "scrolled": true,
        "outputId": "5f5e19df-3742-47dc-b812-cdfe2a17f370"
      },
      "source": [
        "data.sample(10)"
      ],
      "execution_count": null,
      "outputs": [
        {
          "data": {
            "text/html": [
              "<div>\n",
              "<style scoped>\n",
              "    .dataframe tbody tr th:only-of-type {\n",
              "        vertical-align: middle;\n",
              "    }\n",
              "\n",
              "    .dataframe tbody tr th {\n",
              "        vertical-align: top;\n",
              "    }\n",
              "\n",
              "    .dataframe thead th {\n",
              "        text-align: right;\n",
              "    }\n",
              "</style>\n",
              "<table border=\"1\" class=\"dataframe\">\n",
              "  <thead>\n",
              "    <tr style=\"text-align: right;\">\n",
              "      <th></th>\n",
              "      <th>headlines</th>\n",
              "      <th>text</th>\n",
              "    </tr>\n",
              "  </thead>\n",
              "  <tbody>\n",
              "    <tr>\n",
              "      <th>70319</th>\n",
              "      <td>Patanjali accused of giving expired products a...</td>\n",
              "      <td>Baba Ramdev's Patanjali has been accused of di...</td>\n",
              "    </tr>\n",
              "    <tr>\n",
              "      <th>65862</th>\n",
              "      <td>Cops made dog's breakfast of Aarushi murder ca...</td>\n",
              "      <td>Former Jammu and Kashmir Chief Minister Omar A...</td>\n",
              "    </tr>\n",
              "    <tr>\n",
              "      <th>26986</th>\n",
              "      <td>Hardik, Jignesh booked for anti-liquor raid at...</td>\n",
              "      <td>The Gujarat Police has booked Patidar leader H...</td>\n",
              "    </tr>\n",
              "    <tr>\n",
              "      <th>5497</th>\n",
              "      <td>Kerala HC rejects actor Dileep's plea for actr...</td>\n",
              "      <td>Kerala High Court rejected a plea by Malayalam...</td>\n",
              "    </tr>\n",
              "    <tr>\n",
              "      <th>95096</th>\n",
              "      <td>Woman drowns newborn in bucket of water minute...</td>\n",
              "      <td>A 22-year-old woman allegedly drowned her newl...</td>\n",
              "    </tr>\n",
              "    <tr>\n",
              "      <th>44710</th>\n",
              "      <td>Jharkhand school teaches kids Nehru was 'PM of...</td>\n",
              "      <td>A government school in Jharkhand's Khunti has ...</td>\n",
              "    </tr>\n",
              "    <tr>\n",
              "      <th>92519</th>\n",
              "      <td>Marriage called off due to fight over rasgulla</td>\n",
              "      <td>A marriage in Kurmapur, UP was called off due ...</td>\n",
              "    </tr>\n",
              "    <tr>\n",
              "      <th>87309</th>\n",
              "      <td>Food chain Chipotle says hackers stole custome...</td>\n",
              "      <td>Fast-food chain Chipotle has warned customers ...</td>\n",
              "    </tr>\n",
              "    <tr>\n",
              "      <th>21573</th>\n",
              "      <td>July trade deficit widens to 5-year high of $1...</td>\n",
              "      <td>India's trade deficit widened to a more than f...</td>\n",
              "    </tr>\n",
              "    <tr>\n",
              "      <th>53347</th>\n",
              "      <td>UIDAI slammed over FIR on Tribune over Aadhaar...</td>\n",
              "      <td>Reacting to UIDAI registering an FIR against T...</td>\n",
              "    </tr>\n",
              "  </tbody>\n",
              "</table>\n",
              "</div>"
            ],
            "text/plain": [
              "                                               headlines  \\\n",
              "70319  Patanjali accused of giving expired products a...   \n",
              "65862  Cops made dog's breakfast of Aarushi murder ca...   \n",
              "26986  Hardik, Jignesh booked for anti-liquor raid at...   \n",
              "5497   Kerala HC rejects actor Dileep's plea for actr...   \n",
              "95096  Woman drowns newborn in bucket of water minute...   \n",
              "44710  Jharkhand school teaches kids Nehru was 'PM of...   \n",
              "92519     Marriage called off due to fight over rasgulla   \n",
              "87309  Food chain Chipotle says hackers stole custome...   \n",
              "21573  July trade deficit widens to 5-year high of $1...   \n",
              "53347  UIDAI slammed over FIR on Tribune over Aadhaar...   \n",
              "\n",
              "                                                    text  \n",
              "70319  Baba Ramdev's Patanjali has been accused of di...  \n",
              "65862  Former Jammu and Kashmir Chief Minister Omar A...  \n",
              "26986  The Gujarat Police has booked Patidar leader H...  \n",
              "5497   Kerala High Court rejected a plea by Malayalam...  \n",
              "95096  A 22-year-old woman allegedly drowned her newl...  \n",
              "44710  A government school in Jharkhand's Khunti has ...  \n",
              "92519  A marriage in Kurmapur, UP was called off due ...  \n",
              "87309  Fast-food chain Chipotle has warned customers ...  \n",
              "21573  India's trade deficit widened to a more than f...  \n",
              "53347  Reacting to UIDAI registering an FIR against T...  "
            ]
          },
          "execution_count": 44,
          "metadata": {},
          "output_type": "execute_result"
        }
      ]
    },
    {
      "cell_type": "markdown",
      "metadata": {
        "id": "fWA1jYgEF53j"
      },
      "source": [
        "# Step 2. 데이터 전처리하기 (추상적 요약)\n",
        "텍스트를 정규화 또는 정제해 보세요. 만약, 불용어 제거를 선택한다면 상대적으로 길이가 짧은 요약 데이터에 대해서도 불용어를 제거하는 것이 좋을지 고민해 보세요."
      ]
    },
    {
      "cell_type": "code",
      "metadata": {
        "id": "1zzfAG05hVae",
        "outputId": "fc8eeec3-ff43-4653-c1bf-8dafea49157b"
      },
      "source": [
        "data.rename(columns={'headlines':'Summary', 'text':'Text'}, inplace = True)\n",
        "\n",
        "print('Text 열에서 중복을 배제한 유일한 샘플의 수 :', data['Text'].nunique())\n",
        "print('Summary 열에서 중복을 배제한 유일한 샘플의 수 :', data['Summary'].nunique())"
      ],
      "execution_count": null,
      "outputs": [
        {
          "name": "stdout",
          "output_type": "stream",
          "text": [
            "Text 열에서 중복을 배제한 유일한 샘플의 수 : 98360\n",
            "Summary 열에서 중복을 배제한 유일한 샘플의 수 : 98280\n"
          ]
        }
      ]
    },
    {
      "cell_type": "markdown",
      "metadata": {
        "id": "DS0atcFBhVae"
      },
      "source": [
        "### 중복제거"
      ]
    },
    {
      "cell_type": "code",
      "metadata": {
        "id": "35IQD26ZhVaf",
        "outputId": "b8ac55b3-5a14-4129-d973-1b290d657dff"
      },
      "source": [
        "# inplace=True 를 설정하면 DataFrame 타입 값을 return 하지 않고 data 내부를 직접적으로 바꿉니다\n",
        "data.drop_duplicates(subset = ['Text'], inplace=True)\n",
        "print('전체 샘플수 :', (len(data)))"
      ],
      "execution_count": null,
      "outputs": [
        {
          "name": "stdout",
          "output_type": "stream",
          "text": [
            "전체 샘플수 : 98360\n"
          ]
        }
      ]
    },
    {
      "cell_type": "markdown",
      "metadata": {
        "id": "RargJZcOhVag"
      },
      "source": [
        "### 결측치 확인"
      ]
    },
    {
      "cell_type": "code",
      "metadata": {
        "id": "wNtluYYOhVah",
        "outputId": "d7fd81c8-877f-451a-cd8e-d8c905a5c48c"
      },
      "source": [
        "print(data.isnull().sum())    # 결측치 개수 확인"
      ],
      "execution_count": null,
      "outputs": [
        {
          "name": "stdout",
          "output_type": "stream",
          "text": [
            "Summary    0\n",
            "Text       0\n",
            "dtype: int64\n"
          ]
        }
      ]
    },
    {
      "cell_type": "markdown",
      "metadata": {
        "id": "Hrg295WzhVah"
      },
      "source": [
        "### 텍스트 정규화사전"
      ]
    },
    {
      "cell_type": "code",
      "metadata": {
        "scrolled": true,
        "id": "ZUWZg_AJhVai",
        "outputId": "14f1eda7-bb7c-435d-86d4-21bc92e7f9b2"
      },
      "source": [
        "# 정규화 사전\n",
        "contractions = {\"ain't\": \"is not\", \"aren't\": \"are not\",\"can't\": \"cannot\", \"'cause\": \"because\", \"could've\": \"could have\", \"couldn't\": \"could not\",\n",
        "                           \"didn't\": \"did not\",  \"doesn't\": \"does not\", \"don't\": \"do not\", \"hadn't\": \"had not\", \"hasn't\": \"has not\", \"haven't\": \"have not\",\n",
        "                           \"he'd\": \"he would\",\"he'll\": \"he will\", \"he's\": \"he is\", \"how'd\": \"how did\", \"how'd'y\": \"how do you\", \"how'll\": \"how will\", \"how's\": \"how is\",\n",
        "                           \"I'd\": \"I would\", \"I'd've\": \"I would have\", \"I'll\": \"I will\", \"I'll've\": \"I will have\",\"I'm\": \"I am\", \"I've\": \"I have\", \"i'd\": \"i would\",\n",
        "                           \"i'd've\": \"i would have\", \"i'll\": \"i will\",  \"i'll've\": \"i will have\",\"i'm\": \"i am\", \"i've\": \"i have\", \"isn't\": \"is not\", \"it'd\": \"it would\",\n",
        "                           \"it'd've\": \"it would have\", \"it'll\": \"it will\", \"it'll've\": \"it will have\",\"it's\": \"it is\", \"let's\": \"let us\", \"ma'am\": \"madam\",\n",
        "                           \"mayn't\": \"may not\", \"might've\": \"might have\",\"mightn't\": \"might not\",\"mightn't've\": \"might not have\", \"must've\": \"must have\",\n",
        "                           \"mustn't\": \"must not\", \"mustn't've\": \"must not have\", \"needn't\": \"need not\", \"needn't've\": \"need not have\",\"o'clock\": \"of the clock\",\n",
        "                           \"oughtn't\": \"ought not\", \"oughtn't've\": \"ought not have\", \"shan't\": \"shall not\", \"sha'n't\": \"shall not\", \"shan't've\": \"shall not have\",\n",
        "                           \"she'd\": \"she would\", \"she'd've\": \"she would have\", \"she'll\": \"she will\", \"she'll've\": \"she will have\", \"she's\": \"she is\",\n",
        "                           \"should've\": \"should have\", \"shouldn't\": \"should not\", \"shouldn't've\": \"should not have\", \"so've\": \"so have\",\"so's\": \"so as\",\n",
        "                           \"this's\": \"this is\",\"that'd\": \"that would\", \"that'd've\": \"that would have\", \"that's\": \"that is\", \"there'd\": \"there would\",\n",
        "                           \"there'd've\": \"there would have\", \"there's\": \"there is\", \"here's\": \"here is\",\"they'd\": \"they would\", \"they'd've\": \"they would have\",\n",
        "                           \"they'll\": \"they will\", \"they'll've\": \"they will have\", \"they're\": \"they are\", \"they've\": \"they have\", \"to've\": \"to have\",\n",
        "                           \"wasn't\": \"was not\", \"we'd\": \"we would\", \"we'd've\": \"we would have\", \"we'll\": \"we will\", \"we'll've\": \"we will have\", \"we're\": \"we are\",\n",
        "                           \"we've\": \"we have\", \"weren't\": \"were not\", \"what'll\": \"what will\", \"what'll've\": \"what will have\", \"what're\": \"what are\",\n",
        "                           \"what's\": \"what is\", \"what've\": \"what have\", \"when's\": \"when is\", \"when've\": \"when have\", \"where'd\": \"where did\", \"where's\": \"where is\",\n",
        "                           \"where've\": \"where have\", \"who'll\": \"who will\", \"who'll've\": \"who will have\", \"who's\": \"who is\", \"who've\": \"who have\",\n",
        "                           \"why's\": \"why is\", \"why've\": \"why have\", \"will've\": \"will have\", \"won't\": \"will not\", \"won't've\": \"will not have\",\n",
        "                           \"would've\": \"would have\", \"wouldn't\": \"would not\", \"wouldn't've\": \"would not have\", \"y'all\": \"you all\",\n",
        "                           \"y'all'd\": \"you all would\",\"y'all'd've\": \"you all would have\",\"y'all're\": \"you all are\",\"y'all've\": \"you all have\",\n",
        "                           \"you'd\": \"you would\", \"you'd've\": \"you would have\", \"you'll\": \"you will\", \"you'll've\": \"you will have\",\n",
        "                           \"you're\": \"you are\", \"you've\": \"you have\"}\n",
        "\n",
        "print(\"정규화 사전의 수: \", len(contractions))"
      ],
      "execution_count": null,
      "outputs": [
        {
          "name": "stdout",
          "output_type": "stream",
          "text": [
            "정규화 사전의 수:  120\n"
          ]
        }
      ]
    },
    {
      "cell_type": "markdown",
      "metadata": {
        "id": "PboaUzDUhVal"
      },
      "source": [
        "### 불용어"
      ]
    },
    {
      "cell_type": "code",
      "metadata": {
        "id": "ifrLqjLfhVam",
        "outputId": "c36d0a64-2189-4e4c-bc39-511663575f25"
      },
      "source": [
        "print('불용어 개수 :', len(stopwords.words('english') ))\n",
        "print(stopwords.words('english'))"
      ],
      "execution_count": null,
      "outputs": [
        {
          "name": "stdout",
          "output_type": "stream",
          "text": [
            "불용어 개수 : 179\n",
            "['i', 'me', 'my', 'myself', 'we', 'our', 'ours', 'ourselves', 'you', \"you're\", \"you've\", \"you'll\", \"you'd\", 'your', 'yours', 'yourself', 'yourselves', 'he', 'him', 'his', 'himself', 'she', \"she's\", 'her', 'hers', 'herself', 'it', \"it's\", 'its', 'itself', 'they', 'them', 'their', 'theirs', 'themselves', 'what', 'which', 'who', 'whom', 'this', 'that', \"that'll\", 'these', 'those', 'am', 'is', 'are', 'was', 'were', 'be', 'been', 'being', 'have', 'has', 'had', 'having', 'do', 'does', 'did', 'doing', 'a', 'an', 'the', 'and', 'but', 'if', 'or', 'because', 'as', 'until', 'while', 'of', 'at', 'by', 'for', 'with', 'about', 'against', 'between', 'into', 'through', 'during', 'before', 'after', 'above', 'below', 'to', 'from', 'up', 'down', 'in', 'out', 'on', 'off', 'over', 'under', 'again', 'further', 'then', 'once', 'here', 'there', 'when', 'where', 'why', 'how', 'all', 'any', 'both', 'each', 'few', 'more', 'most', 'other', 'some', 'such', 'no', 'nor', 'not', 'only', 'own', 'same', 'so', 'than', 'too', 'very', 's', 't', 'can', 'will', 'just', 'don', \"don't\", 'should', \"should've\", 'now', 'd', 'll', 'm', 'o', 're', 've', 'y', 'ain', 'aren', \"aren't\", 'couldn', \"couldn't\", 'didn', \"didn't\", 'doesn', \"doesn't\", 'hadn', \"hadn't\", 'hasn', \"hasn't\", 'haven', \"haven't\", 'isn', \"isn't\", 'ma', 'mightn', \"mightn't\", 'mustn', \"mustn't\", 'needn', \"needn't\", 'shan', \"shan't\", 'shouldn', \"shouldn't\", 'wasn', \"wasn't\", 'weren', \"weren't\", 'won', \"won't\", 'wouldn', \"wouldn't\"]\n"
          ]
        }
      ]
    },
    {
      "cell_type": "markdown",
      "metadata": {
        "id": "61O9CFTvhVao"
      },
      "source": [
        "### 텍스트 전처리함수"
      ]
    },
    {
      "cell_type": "code",
      "metadata": {
        "id": "128yy6xbhVap"
      },
      "source": [
        "# 데이터 전처리 함수\n",
        "def preprocess_sentence(sentence, remove_stopwords=True):\n",
        "    sentence = sentence.lower() # 텍스트 소문자화\n",
        "    sentence = BeautifulSoup(sentence, \"lxml\").text # <br />, <a href = ...> 등의 html 태그 제거\n",
        "    sentence = re.sub(r'\\([^)]*\\)', '', sentence) # 괄호로 닫힌 문자열 (...) 제거 Ex) my husband (and myself!) for => my husband for\n",
        "    sentence = re.sub('\"','', sentence) # 쌍따옴표 \" 제거\n",
        "    sentence = ' '.join([contractions[t] if t in contractions else t for t in sentence.split(\" \")]) # 약어 정규화\n",
        "    sentence = re.sub(r\"'s\\b\",\"\", sentence) # 소유격 제거. Ex) roland's -> roland\n",
        "    sentence = re.sub(\"[^a-zA-Z]\", \" \", sentence) # 영어 외 문자(숫자, 특수문자 등) 공백으로 변환\n",
        "    sentence = re.sub('[m]{2,}', 'mm', sentence) # m이 3개 이상이면 2개로 변경. Ex) ummmmmmm yeah -> umm yeah\n",
        "    \n",
        "    # 불용어 제거 (Text)\n",
        "    if remove_stopwords:\n",
        "        tokens = ' '.join(word for word in sentence.split() if not word in stopwords.words('english') if len(word) > 1)\n",
        "    # 불용어 미제거 (Summary)\n",
        "    else:\n",
        "        tokens = ' '.join(word for word in sentence.split() if len(word) > 1)\n",
        "    return tokens"
      ],
      "execution_count": null,
      "outputs": []
    },
    {
      "cell_type": "code",
      "metadata": {
        "id": "_VHedSk0hVar",
        "outputId": "8345b131-36a7-45df-d4b9-20863148adaf"
      },
      "source": [
        "import multiprocessing as mp\n",
        "mp.cpu_count()"
      ],
      "execution_count": null,
      "outputs": [
        {
          "data": {
            "text/plain": [
              "6"
            ]
          },
          "execution_count": 51,
          "metadata": {},
          "output_type": "execute_result"
        }
      ]
    },
    {
      "cell_type": "code",
      "metadata": {
        "scrolled": true,
        "id": "6Z_sDGsxhVas",
        "outputId": "e1d0bd9e-06a2-43b7-e8f4-9bdee9f33eb0"
      },
      "source": [
        "import multiprocessing as mp   # 멀티 프로세싱으로 전처리 속도를 획기적으로 줄여봅시다\n",
        "from multiprocessing import Pool\n",
        "import numpy as np\n",
        "import time\n",
        "from functools import partial  # map을 할 때 함수에 여러 인자를 넣어줄 수 있도록 합니다\n",
        "\n",
        "start = time.time()\n",
        "\n",
        "# num_cores 만큼 쪼개진 데이터를 전처리하여 반환합니다\n",
        "def appendTexts(sentences, remove_stopwords):\n",
        "    texts = []\n",
        "    for s in sentences:\n",
        "        texts += preprocess_sentence(s, remove_stopwords),\n",
        "    return texts\n",
        "\n",
        "def preprocess_data(data, remove_stopwords=True):\n",
        "    start_time = time.time()\n",
        "    num_cores = mp.cpu_count()  # 컴퓨터의 코어 수를 구합니다\n",
        "\n",
        "    text_data_split = np.array_split(data, num_cores)  # 코어 수만큼 데이터를 배분하여 병렬적으로 처리할 수 있게 합니다\n",
        "    pool = Pool(num_cores)\n",
        "\n",
        "    processed_data = np.concatenate(pool.map(partial(appendTexts, remove_stopwords=remove_stopwords), text_data_split))  # 각자 작업한 데이터를 하나로 합쳐줍니다\n",
        "    pool.close()\n",
        "    pool.join()\n",
        "    print(time.time() - start_time, \" seconds\")\n",
        "    return processed_data\n",
        "\n",
        "clean_text = preprocess_data(data['Text'])  # 클라우드 기준으로 3~4분 정도 소요 됩니다\n",
        "print(clean_text)\n",
        "\n",
        "clean_summary = preprocess_data(data['Summary'], remove_stopwords=False) # 클라우드 기준 1분정도 소요됩니다.\n",
        "print(clean_summary)"
      ],
      "execution_count": null,
      "outputs": [
        {
          "name": "stdout",
          "output_type": "stream",
          "text": [
            "186.58132886886597  seconds\n",
            "['saurav kant alumnus upgrad iiit pg program machine learning artificial intelligence sr systems engineer infosys almost years work experience program upgrad degree career support helped transition data scientist tech mahindra salary hike upgrad online power learning powered lakh careers'\n",
            " 'kunal shah credit card bill payment platform cred gave users chance win free food swiggy one year pranav kaushik delhi techie bagged reward spending cred coins users get one cred coin per rupee bill paid used avail rewards brands like ixigo bookmyshow ubereats cult fit'\n",
            " 'new zealand defeated india wickets fourth odi hamilton thursday win first match five match odi series india lost international match rohit sharma captaincy consecutive victories dating back march match witnessed india getting seventh lowest total odi cricket history'\n",
            " ...\n",
            " 'according reports new version science fiction film matrix development michael jordan reportedly play lead role film screenwriter zak penn talks write script film reports added actor keanu reeves starred original film followed two sequels'\n",
            " 'new music video shows rapper snoop dogg aiming toy gun clown character parodying us president donald trump video also shows tv airing news conference headline ronald klump wants deport doggs airing live clown house video remixed version song lavender'\n",
            " 'madhesi morcha alliance seven political parties withdrawn support pm pushpa kamal dahal led nepal government failed meet seven day ultimatum fulfil demands including endorsement revised constitution amendment bill morcha seats parliament despite withdrawal support immediate threat government']\n",
            "5.9703662395477295  seconds\n",
            "['upgrad learner switches to career in ml al with salary hike'\n",
            " 'delhi techie wins free food from swiggy for one year on cred'\n",
            " 'new zealand end rohit sharma led india match winning streak' ...\n",
            " 'the matrix film to get reboot reports'\n",
            " 'snoop dogg aims gun at clown dressed as trump in new video'\n",
            " 'madhesi morcha withdraws support to nepalese government']\n"
          ]
        }
      ]
    },
    {
      "cell_type": "markdown",
      "metadata": {
        "id": "jxN51uFIhVas"
      },
      "source": [
        "### 전처리 후 결측치 다시 제거"
      ]
    },
    {
      "cell_type": "code",
      "metadata": {
        "id": "ACwiPtR0hVat"
      },
      "source": [
        "data['Text'] = clean_text\n",
        "data['Summary'] = clean_summary\n",
        "\n",
        "# 빈 값을 Null 값으로 변환\n",
        "data.replace('', np.nan, inplace=True)"
      ],
      "execution_count": null,
      "outputs": []
    },
    {
      "cell_type": "code",
      "metadata": {
        "scrolled": true,
        "id": "D7Hw374hhVat",
        "outputId": "2da65ef3-502e-46ae-fb40-b80ba2c6e30a"
      },
      "source": [
        "data.isnull().sum()"
      ],
      "execution_count": null,
      "outputs": [
        {
          "data": {
            "text/plain": [
              "Summary    0\n",
              "Text       0\n",
              "dtype: int64"
            ]
          },
          "execution_count": 54,
          "metadata": {},
          "output_type": "execute_result"
        }
      ]
    },
    {
      "cell_type": "code",
      "metadata": {
        "id": "uiRHaFnzhVat",
        "outputId": "147586e7-e49f-4a60-cced-aa9110b702da"
      },
      "source": [
        "data.dropna(axis=0, inplace=True)\n",
        "print('전체 샘플수 :', (len(data)))"
      ],
      "execution_count": null,
      "outputs": [
        {
          "name": "stdout",
          "output_type": "stream",
          "text": [
            "전체 샘플수 : 98360\n"
          ]
        }
      ]
    },
    {
      "cell_type": "markdown",
      "metadata": {
        "id": "roH4u0mGhVav"
      },
      "source": [
        "## 샘플의 최대 길이 정하기"
      ]
    },
    {
      "cell_type": "markdown",
      "metadata": {
        "id": "6pjGuwuFhVav"
      },
      "source": [
        "### 텍스트의 길이 분포"
      ]
    },
    {
      "cell_type": "code",
      "metadata": {
        "scrolled": true,
        "id": "414nh1vVhVaw",
        "outputId": "14af6fb3-088e-4e38-ae1c-4675faf0ccf9"
      },
      "source": [
        "# 길이 분포 출력\n",
        "import matplotlib.pyplot as plt\n",
        "\n",
        "text_len = [len(s.split()) for s in data['Text']]\n",
        "summary_len = [len(s.split()) for s in data['Summary']]\n",
        "\n",
        "print('텍스트의 최소 길이 : {}'.format(np.min(text_len)))\n",
        "print('텍스트의 최대 길이 : {}'.format(np.max(text_len)))\n",
        "print('텍스트의 평균 길이 : {}'.format(np.mean(text_len)))\n",
        "print('요약의 최소 길이 : {}'.format(np.min(summary_len)))\n",
        "print('요약의 최대 길이 : {}'.format(np.max(summary_len)))\n",
        "print('요약의 평균 길이 : {}'.format(np.mean(summary_len)))\n",
        "\n",
        "plt.subplot(1,2,1)\n",
        "plt.boxplot(summary_len)\n",
        "plt.title('Summary')\n",
        "plt.subplot(1,2,2)\n",
        "plt.boxplot(text_len)\n",
        "plt.title('Text')\n",
        "plt.tight_layout()\n",
        "plt.show()\n",
        "\n",
        "plt.title('Summary')\n",
        "plt.hist(summary_len, bins = 40)\n",
        "plt.xlabel('length of samples')\n",
        "plt.ylabel('number of samples')\n",
        "plt.show()\n",
        "\n",
        "plt.title('Text')\n",
        "plt.hist(text_len, bins = 40)\n",
        "plt.xlabel('length of samples')\n",
        "plt.ylabel('number of samples')\n",
        "plt.show()"
      ],
      "execution_count": null,
      "outputs": [
        {
          "name": "stdout",
          "output_type": "stream",
          "text": [
            "텍스트의 최소 길이 : 1\n",
            "텍스트의 최대 길이 : 60\n",
            "텍스트의 평균 길이 : 35.09968483123221\n",
            "요약의 최소 길이 : 1\n",
            "요약의 최대 길이 : 16\n",
            "요약의 평균 길이 : 9.299532330215534\n"
          ]
        },
        {
          "data": {
            "image/png": "[encoded data removed]",
            "text/plain": [
              "<Figure size 432x288 with 2 Axes>"
            ]
          },
          "metadata": {
            "needs_background": "light"
          },
          "output_type": "display_data"
        },
        {
          "data": {
            "image/png": "[encoded data removed]",
            "text/plain": [
              "<Figure size 432x288 with 1 Axes>"
            ]
          },
          "metadata": {
            "needs_background": "light"
          },
          "output_type": "display_data"
        },
        {
          "data": {
            "image/png": "[encoded data removed]",
            "text/plain": [
              "<Figure size 432x288 with 1 Axes>"
            ]
          },
          "metadata": {
            "needs_background": "light"
          },
          "output_type": "display_data"
        }
      ]
    },
    {
      "cell_type": "markdown",
      "metadata": {
        "id": "C0eIR-HShVa9"
      },
      "source": [
        "### 최대길이조건을 만족하는 샘플 비율 확인"
      ]
    },
    {
      "cell_type": "code",
      "metadata": {
        "id": "Stai6msFhVa9"
      },
      "source": [
        "def below_threshold_len(max_len, nested_list):\n",
        "    cnt = 0\n",
        "    for s in nested_list:\n",
        "        if (len(s.split()) <= max_len):\n",
        "            cnt = cnt + 1\n",
        "    print('전체 샘플 중 길이가 %s 이하인 샘플의 비율: %s'%(max_len, (cnt / len(nested_list))))"
      ],
      "execution_count": null,
      "outputs": []
    },
    {
      "cell_type": "code",
      "metadata": {
        "scrolled": true,
        "id": "2aXQY_hehVbB",
        "outputId": "3ee64a67-ccc8-40a6-d6c1-7c41ed5e2dcb"
      },
      "source": [
        "text_max_len = 40\n",
        "summary_max_len = 14\n",
        "\n",
        "# 이렇게 만든 함수를 Text와 Summary에 적용해 우리가 결정한 임의의 길이가 몇%의 샘플까지 포함하는지 볼 수 있다.\n",
        "below_threshold_len(text_max_len, data['Text'])\n",
        "below_threshold_len(summary_max_len,  data['Summary'])"
      ],
      "execution_count": null,
      "outputs": [
        {
          "name": "stdout",
          "output_type": "stream",
          "text": [
            "전체 샘플 중 길이가 40 이하인 샘플의 비율: 0.9238714924766165\n",
            "전체 샘플 중 길이가 14 이하인 샘플의 비율: 0.9997763318422123\n"
          ]
        }
      ]
    },
    {
      "cell_type": "code",
      "metadata": {
        "scrolled": true,
        "id": "WQeDGOBQhVbC",
        "outputId": "80674ad1-823a-42b4-ab7e-e478512f80f7"
      },
      "source": [
        "data = data[data['Text'].apply(lambda x: len(x.split()) <= text_max_len)]\n",
        "data = data[data['Summary'].apply(lambda x: len(x.split()) <= summary_max_len)]\n",
        "print('전체 샘플수 :', (len(data)))"
      ],
      "execution_count": null,
      "outputs": [
        {
          "name": "stdout",
          "output_type": "stream",
          "text": [
            "전체 샘플수 : 90852\n"
          ]
        }
      ]
    },
    {
      "cell_type": "markdown",
      "metadata": {
        "id": "tf1hAR2jhVbD"
      },
      "source": [
        "## 훈련데이터, 테스트데이터 분리"
      ]
    },
    {
      "cell_type": "markdown",
      "metadata": {
        "id": "P4GtFezQhVbE"
      },
      "source": [
        "### target데이터에 시작 토큰, 종료 토큰 추가"
      ]
    },
    {
      "cell_type": "code",
      "metadata": {
        "scrolled": true,
        "id": "jYDdoTZfhVbF",
        "outputId": "958b218c-0888-446f-fe92-e3cbaa3a3d1f"
      },
      "source": [
        "# 요약 데이터에는 시작 토큰과 종료 토큰을 추가한다.\n",
        "data['decoder_input'] = data['Summary'].apply(lambda x : 'sostoken '+ x)\n",
        "data['decoder_target'] = data['Summary'].apply(lambda x : x + ' eostoken')\n",
        "data.head()"
      ],
      "execution_count": null,
      "outputs": [
        {
          "data": {
            "text/html": [
              "<div>\n",
              "<style scoped>\n",
              "    .dataframe tbody tr th:only-of-type {\n",
              "        vertical-align: middle;\n",
              "    }\n",
              "\n",
              "    .dataframe tbody tr th {\n",
              "        vertical-align: top;\n",
              "    }\n",
              "\n",
              "    .dataframe thead th {\n",
              "        text-align: right;\n",
              "    }\n",
              "</style>\n",
              "<table border=\"1\" class=\"dataframe\">\n",
              "  <thead>\n",
              "    <tr style=\"text-align: right;\">\n",
              "      <th></th>\n",
              "      <th>Summary</th>\n",
              "      <th>Text</th>\n",
              "      <th>decoder_input</th>\n",
              "      <th>decoder_target</th>\n",
              "    </tr>\n",
              "  </thead>\n",
              "  <tbody>\n",
              "    <tr>\n",
              "      <th>0</th>\n",
              "      <td>upgrad learner switches to career in ml al wit...</td>\n",
              "      <td>saurav kant alumnus upgrad iiit pg program mac...</td>\n",
              "      <td>sostoken upgrad learner switches to career in ...</td>\n",
              "      <td>upgrad learner switches to career in ml al wit...</td>\n",
              "    </tr>\n",
              "    <tr>\n",
              "      <th>2</th>\n",
              "      <td>new zealand end rohit sharma led india match w...</td>\n",
              "      <td>new zealand defeated india wickets fourth odi ...</td>\n",
              "      <td>sostoken new zealand end rohit sharma led indi...</td>\n",
              "      <td>new zealand end rohit sharma led india match w...</td>\n",
              "    </tr>\n",
              "    <tr>\n",
              "      <th>3</th>\n",
              "      <td>aegon life iterm insurance plan helps customer...</td>\n",
              "      <td>aegon life iterm insurance plan customers enjo...</td>\n",
              "      <td>sostoken aegon life iterm insurance plan helps...</td>\n",
              "      <td>aegon life iterm insurance plan helps customer...</td>\n",
              "    </tr>\n",
              "    <tr>\n",
              "      <th>4</th>\n",
              "      <td>have known hirani for yrs what if metoo claims...</td>\n",
              "      <td>speaking sexual harassment allegations rajkuma...</td>\n",
              "      <td>sostoken have known hirani for yrs what if met...</td>\n",
              "      <td>have known hirani for yrs what if metoo claims...</td>\n",
              "    </tr>\n",
              "    <tr>\n",
              "      <th>5</th>\n",
              "      <td>rahat fateh ali khan denies getting notice for...</td>\n",
              "      <td>pakistani singer rahat fateh ali khan denied r...</td>\n",
              "      <td>sostoken rahat fateh ali khan denies getting n...</td>\n",
              "      <td>rahat fateh ali khan denies getting notice for...</td>\n",
              "    </tr>\n",
              "  </tbody>\n",
              "</table>\n",
              "</div>"
            ],
            "text/plain": [
              "                                             Summary  \\\n",
              "0  upgrad learner switches to career in ml al wit...   \n",
              "2  new zealand end rohit sharma led india match w...   \n",
              "3  aegon life iterm insurance plan helps customer...   \n",
              "4  have known hirani for yrs what if metoo claims...   \n",
              "5  rahat fateh ali khan denies getting notice for...   \n",
              "\n",
              "                                                Text  \\\n",
              "0  saurav kant alumnus upgrad iiit pg program mac...   \n",
              "2  new zealand defeated india wickets fourth odi ...   \n",
              "3  aegon life iterm insurance plan customers enjo...   \n",
              "4  speaking sexual harassment allegations rajkuma...   \n",
              "5  pakistani singer rahat fateh ali khan denied r...   \n",
              "\n",
              "                                       decoder_input  \\\n",
              "0  sostoken upgrad learner switches to career in ...   \n",
              "2  sostoken new zealand end rohit sharma led indi...   \n",
              "3  sostoken aegon life iterm insurance plan helps...   \n",
              "4  sostoken have known hirani for yrs what if met...   \n",
              "5  sostoken rahat fateh ali khan denies getting n...   \n",
              "\n",
              "                                      decoder_target  \n",
              "0  upgrad learner switches to career in ml al wit...  \n",
              "2  new zealand end rohit sharma led india match w...  \n",
              "3  aegon life iterm insurance plan helps customer...  \n",
              "4  have known hirani for yrs what if metoo claims...  \n",
              "5  rahat fateh ali khan denies getting notice for...  "
            ]
          },
          "execution_count": 67,
          "metadata": {},
          "output_type": "execute_result"
        }
      ]
    },
    {
      "cell_type": "markdown",
      "metadata": {
        "id": "Qx9eSktNhVbG"
      },
      "source": [
        "ndarray 타입으로 저장"
      ]
    },
    {
      "cell_type": "code",
      "metadata": {
        "id": "9O8GN9syhVbH"
      },
      "source": [
        "encoder_input = np.array(data['Text']) # 인코더의 입력\n",
        "decoder_input = np.array(data['decoder_input']) # 디코더의 입력\n",
        "decoder_target = np.array(data['decoder_target']) # 디코더의 레이블"
      ],
      "execution_count": null,
      "outputs": []
    },
    {
      "cell_type": "code",
      "metadata": {
        "id": "ju16tKT4hVbH",
        "outputId": "613dc5f8-1104-4483-e03e-b3259ef96908"
      },
      "source": [
        "indices = np.arange(encoder_input.shape[0])\n",
        "np.random.shuffle(indices)\n",
        "print(indices)"
      ],
      "execution_count": null,
      "outputs": [
        {
          "name": "stdout",
          "output_type": "stream",
          "text": [
            "[15854  6440 80006 ... 71542  8963 48693]\n"
          ]
        }
      ]
    },
    {
      "cell_type": "code",
      "metadata": {
        "id": "B98s4JblhVbH"
      },
      "source": [
        "encoder_input = encoder_input[indices]\n",
        "decoder_input = decoder_input[indices]\n",
        "decoder_target = decoder_target[indices]"
      ],
      "execution_count": null,
      "outputs": []
    },
    {
      "cell_type": "markdown",
      "metadata": {
        "id": "1xfrx_FOhVbI"
      },
      "source": [
        "훈렌데이터와 테스트데이터를 8:2비율로 분리함."
      ]
    },
    {
      "cell_type": "code",
      "metadata": {
        "scrolled": true,
        "id": "CVl3VGlLhVbJ",
        "outputId": "1f036c14-dff9-4c66-9b3e-72abdaf23ae0"
      },
      "source": [
        "n_of_val = int(len(encoder_input)*0.2)\n",
        "print('테스트 데이터의 수 :', n_of_val)"
      ],
      "execution_count": null,
      "outputs": [
        {
          "name": "stdout",
          "output_type": "stream",
          "text": [
            "테스트 데이터의 수 : 18170\n"
          ]
        }
      ]
    },
    {
      "cell_type": "code",
      "metadata": {
        "scrolled": true,
        "id": "zU_6ZtTbhVbK",
        "outputId": "37ac8dbb-c08b-4a03-b9b6-73fe2c6c6499"
      },
      "source": [
        "encoder_input_train = encoder_input[:-n_of_val]\n",
        "decoder_input_train = decoder_input[:-n_of_val]\n",
        "decoder_target_train = decoder_target[:-n_of_val]\n",
        "\n",
        "encoder_input_test = encoder_input[-n_of_val:]\n",
        "decoder_input_test = decoder_input[-n_of_val:]\n",
        "decoder_target_test = decoder_target[-n_of_val:]\n",
        "\n",
        "print('훈련 데이터의 개수 :', len(encoder_input_train))\n",
        "print('훈련 레이블의 개수 :', len(decoder_input_train))\n",
        "print('테스트 데이터의 개수 :', len(encoder_input_test))\n",
        "print('테스트 레이블의 개수 :', len(decoder_input_test))"
      ],
      "execution_count": null,
      "outputs": [
        {
          "name": "stdout",
          "output_type": "stream",
          "text": [
            "훈련 데이터의 개수 : 72682\n",
            "훈련 레이블의 개수 : 72682\n",
            "테스트 데이터의 개수 : 18170\n",
            "테스트 레이블의 개수 : 18170\n"
          ]
        }
      ]
    },
    {
      "cell_type": "markdown",
      "metadata": {
        "id": "jEoUP4j1hVbL"
      },
      "source": [
        "## 정수인코딩"
      ]
    },
    {
      "cell_type": "markdown",
      "metadata": {
        "id": "dcLSBXJ1hVbM"
      },
      "source": [
        "### 빈도수가 낮은 단어들은 데이터에서 제외"
      ]
    },
    {
      "cell_type": "code",
      "metadata": {
        "id": "HHH0noghhVbM"
      },
      "source": [
        "src_tokenizer = Tokenizer() # 토크나이저 정의\n",
        "src_tokenizer.fit_on_texts(encoder_input_train) # 입력된 데이터로부터 단어 집합 생성"
      ],
      "execution_count": null,
      "outputs": []
    },
    {
      "cell_type": "code",
      "metadata": {
        "id": "laeAp3mvhVbM",
        "outputId": "a078cc4a-e2e0-4f4e-9a94-ec6d099659ef"
      },
      "source": [
        "threshold = 7\n",
        "total_cnt = len(src_tokenizer.word_index) # 단어의 수\n",
        "rare_cnt = 0 # 등장 빈도수가 threshold보다 작은 단어의 개수를 카운트\n",
        "total_freq = 0 # 훈련 데이터의 전체 단어 빈도수 총 합\n",
        "rare_freq = 0 # 등장 빈도수가 threshold보다 작은 단어의 등장 빈도수의 총 합\n",
        "\n",
        "# 단어와 빈도수의 쌍(pair)을 key와 value로 받는다.\n",
        "for key, value in src_tokenizer.word_counts.items():\n",
        "    total_freq = total_freq + value\n",
        "\n",
        "    # 단어의 등장 빈도수가 threshold보다 작으면\n",
        "    if(value < threshold):\n",
        "        rare_cnt = rare_cnt + 1\n",
        "        rare_freq = rare_freq + value\n",
        "\n",
        "print('단어 집합(vocabulary)의 크기 :', total_cnt)\n",
        "print('등장 빈도가 %s번 이하인 희귀 단어의 수: %s'%(threshold - 1, rare_cnt))\n",
        "print('단어 집합에서 희귀 단어를 제외시킬 경우의 단어 집합의 크기 %s'%(total_cnt - rare_cnt))\n",
        "print(\"단어 집합에서 희귀 단어의 비율:\", (rare_cnt / total_cnt)*100)\n",
        "print(\"전체 등장 빈도에서 희귀 단어 등장 빈도 비율:\", (rare_freq / total_freq)*100)"
      ],
      "execution_count": null,
      "outputs": [
        {
          "name": "stdout",
          "output_type": "stream",
          "text": [
            "단어 집합(vocabulary)의 크기 : 65802\n",
            "등장 빈도가 6번 이하인 희귀 단어의 수: 44774\n",
            "단어 집합에서 희귀 단어를 제외시킬 경우의 단어 집합의 크기 21028\n",
            "단어 집합에서 희귀 단어의 비율: 68.04352451293273\n",
            "전체 등장 빈도에서 희귀 단어 등장 빈도 비율: 3.6314314948158866\n"
          ]
        }
      ]
    },
    {
      "cell_type": "code",
      "metadata": {
        "id": "aCG8VhsUhVbN"
      },
      "source": [
        "src_vocab = 20000\n",
        "src_tokenizer = Tokenizer(num_words=src_vocab) # 단어 집합의 크기 제한\n",
        "src_tokenizer.fit_on_texts(encoder_input_train) # 단어 집합 재생성."
      ],
      "execution_count": null,
      "outputs": []
    },
    {
      "cell_type": "code",
      "metadata": {
        "id": "VGTAkJlYhVbN",
        "outputId": "6c3d7c10-196d-48f6-a093-1d7df84fa29b"
      },
      "source": [
        "# 텍스트 시퀀스를 정수 시퀀스로 변환\n",
        "encoder_input_train = src_tokenizer.texts_to_sequences(encoder_input_train) \n",
        "encoder_input_test = src_tokenizer.texts_to_sequences(encoder_input_test)\n",
        "\n",
        "# 잘 진행되었는지 샘플 출력\n",
        "print(encoder_input_train[:3])"
      ],
      "execution_count": null,
      "outputs": [
        {
          "name": "stdout",
          "output_type": "stream",
          "text": [
            "[[1776, 669, 2539, 3574, 3291, 4137, 547, 8937, 10334, 10335, 11834, 6897, 5026, 89, 493, 6809, 206, 3, 1, 10594, 13, 776, 4107, 19603, 2062, 206, 65, 3934, 1593, 2234], [3, 25, 48, 797, 4171, 8612, 2772, 5652, 3443, 5770, 3123, 31, 8193, 48, 5280, 704, 713, 3123, 6, 5652, 521, 2772, 2772, 4211, 9292, 5652, 488, 5168, 286, 4426, 5653, 175, 358, 3123, 337, 2211], [407, 9110, 340, 2084, 630, 9293, 136, 4919, 1552, 111, 345, 2055, 9668, 1, 614, 3371, 24, 1135, 2008, 34, 10595, 2852, 332, 14491, 363, 1193, 138, 9110, 4919, 447, 985, 1198, 5126, 24, 1543, 19, 636]]\n"
          ]
        }
      ]
    },
    {
      "cell_type": "code",
      "metadata": {
        "id": "7GS26_gOhVbN"
      },
      "source": [
        "tar_tokenizer = Tokenizer()\n",
        "tar_tokenizer.fit_on_texts(decoder_input_train)"
      ],
      "execution_count": null,
      "outputs": []
    },
    {
      "cell_type": "code",
      "metadata": {
        "id": "X0NaKr5ShVbO",
        "outputId": "567661df-2d44-4fc6-9441-9ef2f0091916"
      },
      "source": [
        "threshold = 6\n",
        "total_cnt = len(tar_tokenizer.word_index) # 단어의 수\n",
        "rare_cnt = 0 # 등장 빈도수가 threshold보다 작은 단어의 개수를 카운트\n",
        "total_freq = 0 # 훈련 데이터의 전체 단어 빈도수 총 합\n",
        "rare_freq = 0 # 등장 빈도수가 threshold보다 작은 단어의 등장 빈도수의 총 합\n",
        "\n",
        "# 단어와 빈도수의 쌍(pair)을 key와 value로 받는다.\n",
        "for key, value in tar_tokenizer.word_counts.items():\n",
        "    total_freq = total_freq + value\n",
        "\n",
        "    # 단어의 등장 빈도수가 threshold보다 작으면\n",
        "    if(value < threshold):\n",
        "        rare_cnt = rare_cnt + 1\n",
        "        rare_freq = rare_freq + value\n",
        "\n",
        "print('단어 집합(vocabulary)의 크기 :', total_cnt)\n",
        "print('등장 빈도가 %s번 이하인 희귀 단어의 수: %s'%(threshold - 1, rare_cnt))\n",
        "print('단어 집합에서 희귀 단어를 제외시킬 경우의 단어 집합의 크기 %s'%(total_cnt - rare_cnt))\n",
        "print(\"단어 집합에서 희귀 단어의 비율:\", (rare_cnt / total_cnt)*100)\n",
        "print(\"전체 등장 빈도에서 희귀 단어 등장 빈도 비율:\", (rare_freq / total_freq)*100)"
      ],
      "execution_count": null,
      "outputs": [
        {
          "name": "stdout",
          "output_type": "stream",
          "text": [
            "단어 집합(vocabulary)의 크기 : 28828\n",
            "등장 빈도가 5번 이하인 희귀 단어의 수: 18861\n",
            "단어 집합에서 희귀 단어를 제외시킬 경우의 단어 집합의 크기 9967\n",
            "단어 집합에서 희귀 단어의 비율: 65.42597474677397\n",
            "전체 등장 빈도에서 희귀 단어 등장 빈도 비율: 4.834393466320904\n"
          ]
        }
      ]
    },
    {
      "cell_type": "code",
      "metadata": {
        "id": "SPtyk8qNhVbO",
        "outputId": "125267d0-d02f-4ccc-ff84-e885e71fe205"
      },
      "source": [
        "tar_vocab = 10000\n",
        "tar_tokenizer = Tokenizer(num_words=tar_vocab) \n",
        "tar_tokenizer.fit_on_texts(decoder_input_train)\n",
        "tar_tokenizer.fit_on_texts(decoder_target_train)\n",
        "\n",
        "# 텍스트 시퀀스를 정수 시퀀스로 변환\n",
        "decoder_input_train = tar_tokenizer.texts_to_sequences(decoder_input_train) \n",
        "decoder_target_train = tar_tokenizer.texts_to_sequences(decoder_target_train)\n",
        "decoder_input_test = tar_tokenizer.texts_to_sequences(decoder_input_test)\n",
        "decoder_target_test = tar_tokenizer.texts_to_sequences(decoder_target_test)\n",
        "\n",
        "# 잘 변환되었는지 확인\n",
        "print('input')\n",
        "print(decoder_input_train[:5])\n",
        "print('target')\n",
        "print(decoder_target_train[:5])"
      ],
      "execution_count": null,
      "outputs": [
        {
          "name": "stdout",
          "output_type": "stream",
          "text": [
            "input\n",
            "[[1, 1448, 1314, 385, 5851, 190, 627], [1, 9, 42, 5122, 148, 4291, 189, 18, 2515, 6, 4440, 1703], [1, 44, 351, 6, 5349, 188, 3, 5579, 4754, 87, 523], [1, 613, 3, 2317, 3, 10, 2563, 311, 2564, 9087, 2161], [1, 3217, 6, 1138, 6482, 2267, 5350, 3292, 4, 834, 2997]]\n",
            "target\n",
            "[[1448, 1314, 385, 5851, 190, 627, 2], [9, 42, 5122, 148, 4291, 189, 18, 2515, 6, 4440, 1703, 2], [44, 351, 6, 5349, 188, 3, 5579, 4754, 87, 523, 2], [613, 3, 2317, 3, 10, 2563, 311, 2564, 9087, 2161, 2], [3217, 6, 1138, 6482, 2267, 5350, 3292, 4, 834, 2997, 2]]\n"
          ]
        }
      ]
    },
    {
      "cell_type": "code",
      "metadata": {
        "id": "O1YvQT3shVbO",
        "outputId": "cd25c879-9020-4266-efdd-c6070bf2d552"
      },
      "source": [
        "drop_train = [index for index, sentence in enumerate(decoder_input_train) if len(sentence) == 1]\n",
        "drop_test = [index for index, sentence in enumerate(decoder_input_test) if len(sentence) == 1]\n",
        "\n",
        "print('삭제할 훈련 데이터의 개수 :', len(drop_train))\n",
        "print('삭제할 테스트 데이터의 개수 :', len(drop_test))\n",
        "\n",
        "encoder_input_train = np.delete(encoder_input_train, drop_train, axis=0)\n",
        "decoder_input_train = np.delete(decoder_input_train, drop_train, axis=0)\n",
        "decoder_target_train = np.delete(decoder_target_train, drop_train, axis=0)\n",
        "\n",
        "encoder_input_test = np.delete(encoder_input_test, drop_test, axis=0)\n",
        "decoder_input_test = np.delete(decoder_input_test, drop_test, axis=0)\n",
        "decoder_target_test = np.delete(decoder_target_test, drop_test, axis=0)\n",
        "\n",
        "print('훈련 데이터의 개수 :', len(encoder_input_train))\n",
        "print('훈련 레이블의 개수 :', len(decoder_input_train))\n",
        "print('테스트 데이터의 개수 :', len(encoder_input_test))\n",
        "print('테스트 레이블의 개수 :', len(decoder_input_test))"
      ],
      "execution_count": null,
      "outputs": [
        {
          "name": "stdout",
          "output_type": "stream",
          "text": [
            "삭제할 훈련 데이터의 개수 : 1\n",
            "삭제할 테스트 데이터의 개수 : 0\n",
            "훈련 데이터의 개수 : 72681\n",
            "훈련 레이블의 개수 : 72681\n",
            "테스트 데이터의 개수 : 18170\n",
            "테스트 레이블의 개수 : 18170\n"
          ]
        },
        {
          "name": "stderr",
          "output_type": "stream",
          "text": [
            "/opt/conda/lib/python3.7/site-packages/numpy/core/_asarray.py:83: VisibleDeprecationWarning: Creating an ndarray from ragged nested sequences (which is a list-or-tuple of lists-or-tuples-or ndarrays with different lengths or shapes) is deprecated. If you meant to do this, you must specify 'dtype=object' when creating the ndarray\n",
            "  return array(a, dtype, copy=False, order=order)\n"
          ]
        }
      ]
    },
    {
      "cell_type": "markdown",
      "metadata": {
        "id": "8c-B8yFshVbP"
      },
      "source": [
        "## 패딩하기"
      ]
    },
    {
      "cell_type": "code",
      "metadata": {
        "id": "FrxXwMbfhVbQ"
      },
      "source": [
        "encoder_input_train = pad_sequences(encoder_input_train, maxlen=text_max_len, padding='post')\n",
        "encoder_input_test = pad_sequences(encoder_input_test, maxlen=text_max_len, padding='post')\n",
        "decoder_input_train = pad_sequences(decoder_input_train, maxlen=summary_max_len, padding='post')\n",
        "decoder_target_train = pad_sequences(decoder_target_train, maxlen=summary_max_len, padding='post')\n",
        "decoder_input_test = pad_sequences(decoder_input_test, maxlen=summary_max_len, padding='post')\n",
        "decoder_target_test = pad_sequences(decoder_target_test, maxlen=summary_max_len, padding='post')"
      ],
      "execution_count": null,
      "outputs": []
    },
    {
      "cell_type": "markdown",
      "metadata": {
        "id": "K-DRd044F8-0"
      },
      "source": [
        "# Step 3. 어텐션 메커니즘 사용하기 (추상적 요약)\n",
        "일반적인 seq2seq보다는 어텐션 메커니즘을 사용한 seq2seq를 사용하는 것이 더 나은 성능을 얻을 수 있어요. 실습 내용을 참고하여 어텐션 메커니즘을 사용한 seq2seq를 설계해 보세요."
      ]
    },
    {
      "cell_type": "markdown",
      "metadata": {
        "id": "O6xP65a_hVbR"
      },
      "source": [
        "## 인코더 설계"
      ]
    },
    {
      "cell_type": "code",
      "metadata": {
        "id": "qSMfDskuhVbR",
        "outputId": "da27dff2-f0a4-4eac-cc8c-bf9c4d0d9fd3"
      },
      "source": [
        "from tensorflow.keras.layers import Input, LSTM, Embedding, Dense, Concatenate\n",
        "from tensorflow.keras.models import Model\n",
        "from tensorflow.keras.callbacks import EarlyStopping, ModelCheckpoint\n",
        "\n",
        "\n",
        "# 인코더 설계 시작\n",
        "embedding_dim = 128\n",
        "hidden_size = 256\n",
        "\n",
        "# 인코더\n",
        "encoder_inputs = Input(shape=(text_max_len,))\n",
        "\n",
        "# 인코더의 임베딩 층\n",
        "enc_emb = Embedding(src_vocab, embedding_dim)(encoder_inputs)\n",
        "\n",
        "# 인코더의 LSTM 1\n",
        "encoder_lstm1 = LSTM(hidden_size, return_sequences=True, return_state=True ,dropout = 0.4, recurrent_dropout = 0.4)\n",
        "encoder_output1, state_h1, state_c1 = encoder_lstm1(enc_emb)\n",
        "\n",
        "# 인코더의 LSTM 2\n",
        "encoder_lstm2 = LSTM(hidden_size, return_sequences=True, return_state=True, dropout=0.4, recurrent_dropout=0.4)\n",
        "encoder_output2, state_h2, state_c2 = encoder_lstm2(encoder_output1)\n",
        "\n",
        "# 인코더의 LSTM 3\n",
        "encoder_lstm3 = LSTM(hidden_size, return_state=True, return_sequences=True, dropout=0.4, recurrent_dropout=0.4)\n",
        "encoder_outputs, state_h, state_c= encoder_lstm3(encoder_output2)"
      ],
      "execution_count": null,
      "outputs": [
        {
          "name": "stdout",
          "output_type": "stream",
          "text": [
            "WARNING:tensorflow:Layer lstm_4 will not use cuDNN kernel since it doesn't meet the cuDNN kernel criteria. It will use generic GPU kernel as fallback when running on GPU\n",
            "WARNING:tensorflow:Layer lstm_5 will not use cuDNN kernel since it doesn't meet the cuDNN kernel criteria. It will use generic GPU kernel as fallback when running on GPU\n",
            "WARNING:tensorflow:Layer lstm_6 will not use cuDNN kernel since it doesn't meet the cuDNN kernel criteria. It will use generic GPU kernel as fallback when running on GPU\n"
          ]
        }
      ]
    },
    {
      "cell_type": "markdown",
      "metadata": {
        "id": "BA1-JrvFhVbS"
      },
      "source": [
        "## 디코더 설계"
      ]
    },
    {
      "cell_type": "code",
      "metadata": {
        "id": "hvq0j8XIhVbS",
        "outputId": "0f19ea9c-8d40-4886-94e6-694ac5afeb0a"
      },
      "source": [
        "# 디코더 설계\n",
        "decoder_inputs = Input(shape=(None,))\n",
        "\n",
        "# 디코더의 임베딩 층\n",
        "dec_emb_layer = Embedding(tar_vocab, embedding_dim)\n",
        "dec_emb = dec_emb_layer(decoder_inputs)\n",
        "\n",
        "# 디코더의 LSTM\n",
        "decoder_lstm = LSTM(hidden_size, return_sequences=True, return_state=True, dropout=0.4, recurrent_dropout=0.2)\n",
        "decoder_outputs, _, _ = decoder_lstm(dec_emb, initial_state=[state_h, state_c])"
      ],
      "execution_count": null,
      "outputs": [
        {
          "name": "stdout",
          "output_type": "stream",
          "text": [
            "WARNING:tensorflow:Layer lstm_7 will not use cuDNN kernel since it doesn't meet the cuDNN kernel criteria. It will use generic GPU kernel as fallback when running on GPU\n"
          ]
        }
      ]
    },
    {
      "cell_type": "markdown",
      "metadata": {
        "id": "y_yXwHKNhVbS"
      },
      "source": [
        "## 어텐션 메커니즘 적용"
      ]
    },
    {
      "cell_type": "code",
      "metadata": {
        "id": "WB_sFbTLhVbS"
      },
      "source": [
        "urllib.request.urlretrieve(\"https://raw.githubusercontent.com/thushv89/attention_keras/master/src/layers/attention.py\", filename=\"attention.py\")\n",
        "from attention import AttentionLayer"
      ],
      "execution_count": null,
      "outputs": []
    },
    {
      "cell_type": "code",
      "metadata": {
        "id": "rmxM3kcthVbT",
        "outputId": "5fc92b7e-acd7-4176-abd7-1d095dab2a3c"
      },
      "source": [
        "# 어텐션 층(어텐션 함수)\n",
        "attn_layer = AttentionLayer(name='attention_layer')\n",
        "# 인코더와 디코더의 모든 time step의 hidden state를 어텐션 층에 전달하고 결과를 리턴\n",
        "attn_out, attn_states = attn_layer([encoder_outputs, decoder_outputs])\n",
        "\n",
        "# 어텐션의 결과와 디코더의 hidden state들을 연결\n",
        "decoder_concat_input = Concatenate(axis=-1, name='concat_layer')([decoder_outputs, attn_out])\n",
        "\n",
        "# 디코더의 출력층\n",
        "decoder_softmax_layer = Dense(tar_vocab, activation='softmax')\n",
        "decoder_softmax_outputs = decoder_softmax_layer(decoder_concat_input)\n",
        "\n",
        "# 모델 정의\n",
        "model = Model([encoder_inputs, decoder_inputs], decoder_softmax_outputs)\n",
        "model.summary()"
      ],
      "execution_count": null,
      "outputs": [
        {
          "name": "stdout",
          "output_type": "stream",
          "text": [
            "Model: \"model_1\"\n",
            "__________________________________________________________________________________________________\n",
            "Layer (type)                    Output Shape         Param #     Connected to                     \n",
            "==================================================================================================\n",
            "input_3 (InputLayer)            [(None, 40)]         0                                            \n",
            "__________________________________________________________________________________________________\n",
            "embedding_2 (Embedding)         (None, 40, 128)      2560000     input_3[0][0]                    \n",
            "__________________________________________________________________________________________________\n",
            "lstm_4 (LSTM)                   [(None, 40, 256), (N 394240      embedding_2[0][0]                \n",
            "__________________________________________________________________________________________________\n",
            "input_4 (InputLayer)            [(None, None)]       0                                            \n",
            "__________________________________________________________________________________________________\n",
            "lstm_5 (LSTM)                   [(None, 40, 256), (N 525312      lstm_4[0][0]                     \n",
            "__________________________________________________________________________________________________\n",
            "embedding_3 (Embedding)         (None, None, 128)    1280000     input_4[0][0]                    \n",
            "__________________________________________________________________________________________________\n",
            "lstm_6 (LSTM)                   [(None, 40, 256), (N 525312      lstm_5[0][0]                     \n",
            "__________________________________________________________________________________________________\n",
            "lstm_7 (LSTM)                   [(None, None, 256),  394240      embedding_3[0][0]                \n",
            "                                                                 lstm_6[0][1]                     \n",
            "                                                                 lstm_6[0][2]                     \n",
            "__________________________________________________________________________________________________\n",
            "attention_layer (AttentionLayer ((None, None, 256),  131328      lstm_6[0][0]                     \n",
            "                                                                 lstm_7[0][0]                     \n",
            "__________________________________________________________________________________________________\n",
            "concat_layer (Concatenate)      (None, None, 512)    0           lstm_7[0][0]                     \n",
            "                                                                 attention_layer[0][0]            \n",
            "__________________________________________________________________________________________________\n",
            "dense_1 (Dense)                 (None, None, 10000)  5130000     concat_layer[0][0]               \n",
            "==================================================================================================\n",
            "Total params: 10,940,432\n",
            "Trainable params: 10,940,432\n",
            "Non-trainable params: 0\n",
            "__________________________________________________________________________________________________\n"
          ]
        }
      ]
    },
    {
      "cell_type": "code",
      "metadata": {
        "id": "Z2du1Ld7hVbT",
        "outputId": "0f3c6b7a-1803-4c7f-c010-85f4196a0c13"
      },
      "source": [
        "from tensorflow.keras.utils import plot_model\n",
        "plot_model(model, show_shapes=True)"
      ],
      "execution_count": null,
      "outputs": [
        {
          "data": {
            "image/png": "[encoded data removed]",
            "text/plain": [
              "<IPython.core.display.Image object>"
            ]
          },
          "execution_count": 88,
          "metadata": {},
          "output_type": "execute_result"
        }
      ]
    },
    {
      "cell_type": "markdown",
      "metadata": {
        "id": "Xr4hez73hVbT"
      },
      "source": [
        "## 모델 훈련"
      ]
    },
    {
      "cell_type": "code",
      "metadata": {
        "scrolled": false,
        "id": "5z_6B33DhVbU",
        "outputId": "3efacc6a-8072-4318-e4d7-f01f716aac83"
      },
      "source": [
        "model.compile(optimizer='rmsprop', loss='sparse_categorical_crossentropy')\n",
        "es = EarlyStopping(monitor='val_loss', patience=2, verbose=1)\n",
        "history = model.fit(x=[encoder_input_train, decoder_input_train], y=decoder_target_train, \\\n",
        "          validation_data=([encoder_input_test, decoder_input_test], decoder_target_test), \\\n",
        "          batch_size=256, callbacks=[es], epochs=50)"
      ],
      "execution_count": null,
      "outputs": [
        {
          "name": "stdout",
          "output_type": "stream",
          "text": [
            "Epoch 1/50\n",
            "284/284 [==============================] - 218s 728ms/step - loss: 5.3128 - val_loss: 4.5140\n",
            "Epoch 2/50\n",
            "284/284 [==============================] - 204s 717ms/step - loss: 4.4681 - val_loss: 4.1790\n",
            "Epoch 3/50\n",
            "284/284 [==============================] - 203s 716ms/step - loss: 4.1408 - val_loss: 3.9492\n",
            "Epoch 4/50\n",
            "284/284 [==============================] - 203s 716ms/step - loss: 3.8945 - val_loss: 3.7944\n",
            "Epoch 5/50\n",
            "284/284 [==============================] - 201s 710ms/step - loss: 3.7012 - val_loss: 3.6680\n",
            "Epoch 6/50\n",
            "284/284 [==============================] - 203s 717ms/step - loss: 3.5440 - val_loss: 3.5732\n",
            "Epoch 7/50\n",
            "284/284 [==============================] - 205s 722ms/step - loss: 3.4146 - val_loss: 3.5012\n",
            "Epoch 8/50\n",
            "284/284 [==============================] - 204s 717ms/step - loss: 3.3033 - val_loss: 3.4338\n",
            "Epoch 9/50\n",
            "284/284 [==============================] - 201s 709ms/step - loss: 3.1960 - val_loss: 3.3775\n",
            "Epoch 10/50\n",
            "284/284 [==============================] - 201s 706ms/step - loss: 3.1025 - val_loss: 3.3306\n",
            "Epoch 11/50\n",
            "284/284 [==============================] - 203s 714ms/step - loss: 3.0302 - val_loss: 3.2988\n",
            "Epoch 12/50\n",
            "284/284 [==============================] - 201s 709ms/step - loss: 2.9603 - val_loss: 3.2678\n",
            "Epoch 13/50\n",
            "284/284 [==============================] - 205s 722ms/step - loss: 2.8928 - val_loss: 3.2376\n",
            "Epoch 14/50\n",
            "284/284 [==============================] - 204s 718ms/step - loss: 2.8256 - val_loss: 3.2219\n",
            "Epoch 15/50\n",
            "284/284 [==============================] - 199s 702ms/step - loss: 2.7731 - val_loss: 3.2024\n",
            "Epoch 16/50\n",
            "284/284 [==============================] - 203s 714ms/step - loss: 2.7218 - val_loss: 3.1819\n",
            "Epoch 17/50\n",
            "284/284 [==============================] - 202s 711ms/step - loss: 2.6697 - val_loss: 3.1652\n",
            "Epoch 18/50\n",
            "284/284 [==============================] - 205s 721ms/step - loss: 2.6266 - val_loss: 3.1530\n",
            "Epoch 19/50\n",
            "284/284 [==============================] - 202s 711ms/step - loss: 2.5865 - val_loss: 3.1456\n",
            "Epoch 20/50\n",
            "284/284 [==============================] - 202s 713ms/step - loss: 2.5434 - val_loss: 3.1400\n",
            "Epoch 21/50\n",
            "284/284 [==============================] - 202s 712ms/step - loss: 2.5104 - val_loss: 3.1278\n",
            "Epoch 22/50\n",
            "284/284 [==============================] - 205s 721ms/step - loss: 2.4718 - val_loss: 3.1228\n",
            "Epoch 23/50\n",
            "284/284 [==============================] - 205s 723ms/step - loss: 2.4437 - val_loss: 3.1173\n",
            "Epoch 24/50\n",
            "284/284 [==============================] - 201s 709ms/step - loss: 2.4121 - val_loss: 3.1147\n",
            "Epoch 25/50\n",
            "284/284 [==============================] - 202s 710ms/step - loss: 2.3807 - val_loss: 3.1105\n",
            "Epoch 26/50\n",
            "284/284 [==============================] - 205s 722ms/step - loss: 2.3510 - val_loss: 3.1007\n",
            "Epoch 27/50\n",
            "284/284 [==============================] - 203s 716ms/step - loss: 2.3218 - val_loss: 3.0988\n",
            "Epoch 28/50\n",
            "284/284 [==============================] - 202s 710ms/step - loss: 2.3014 - val_loss: 3.1002\n",
            "Epoch 29/50\n",
            "284/284 [==============================] - 204s 717ms/step - loss: 2.2780 - val_loss: 3.0994\n",
            "Epoch 00029: early stopping\n"
          ]
        }
      ]
    },
    {
      "cell_type": "code",
      "metadata": {
        "id": "C-rzRyoehVbU",
        "outputId": "bf89fa0b-8ae7-4dd5-9a36-1d9b67c88e67"
      },
      "source": [
        "plt.plot(history.history['loss'], label='train')\n",
        "plt.plot(history.history['val_loss'], label='test')\n",
        "plt.legend()\n",
        "plt.show()"
      ],
      "execution_count": null,
      "outputs": [
        {
          "data": {
            "image/png": "[encoded data removed]",
            "text/plain": [
              "<Figure size 432x288 with 1 Axes>"
            ]
          },
          "metadata": {
            "needs_background": "light"
          },
          "output_type": "display_data"
        }
      ]
    },
    {
      "cell_type": "markdown",
      "metadata": {
        "id": "0Ke8AgYOGCYC"
      },
      "source": [
        "# Step 4. 실제 결과와 요약문 비교하기 (추상적 요약)\n",
        "원래의 요약문(headlines 열)과 학습을 통해 얻은 추상적 요약의 결과를 비교해 보세요."
      ]
    },
    {
      "cell_type": "markdown",
      "metadata": {
        "id": "AfE0lgmohVbU"
      },
      "source": [
        "## 인퍼런스 모델 구현"
      ]
    },
    {
      "cell_type": "markdown",
      "metadata": {
        "id": "9qGJ4inwhVbV"
      },
      "source": [
        "텍스트 복원을 위해 필요한 단어사전들"
      ]
    },
    {
      "cell_type": "code",
      "metadata": {
        "id": "eU0-6NROhVbV"
      },
      "source": [
        "src_index_to_word = src_tokenizer.index_word # 원문 단어 집합에서 정수 -> 단어를 얻음\n",
        "tar_word_to_index = tar_tokenizer.word_index # 요약 단어 집합에서 단어 -> 정수를 얻음\n",
        "tar_index_to_word = tar_tokenizer.index_word # 요약 단어 집합에서 정수 -> 단어를 얻음"
      ],
      "execution_count": null,
      "outputs": []
    },
    {
      "cell_type": "code",
      "metadata": {
        "id": "wKPSUwLQhVbW"
      },
      "source": [
        "# 인코더 설계\n",
        "encoder_model = Model(inputs=encoder_inputs, outputs=[encoder_outputs, state_h, state_c])\n",
        "\n",
        "# 이전 시점의 상태들을 저장하는 텐서\n",
        "decoder_state_input_h = Input(shape=(hidden_size,))\n",
        "decoder_state_input_c = Input(shape=(hidden_size,))\n",
        "\n",
        "dec_emb2 = dec_emb_layer(decoder_inputs)\n",
        "\n",
        "# 문장의 다음 단어를 예측하기 위해서 초기 상태(initial_state)를 이전 시점의 상태로 사용. 이는 뒤의 함수 decode_sequence()에 구현\n",
        "# 훈련 과정에서와 달리 LSTM의 리턴하는 은닉 상태와 셀 상태인 state_h와 state_c를 버리지 않음.\n",
        "decoder_outputs2, state_h2, state_c2 = decoder_lstm(dec_emb2, initial_state=[decoder_state_input_h, decoder_state_input_c])"
      ],
      "execution_count": null,
      "outputs": []
    },
    {
      "cell_type": "code",
      "metadata": {
        "id": "6RI4D1LbhVbW"
      },
      "source": [
        "# 어텐션 함수\n",
        "decoder_hidden_state_input = Input(shape=(text_max_len, hidden_size))\n",
        "attn_out_inf, attn_states_inf = attn_layer([decoder_hidden_state_input, decoder_outputs2])\n",
        "decoder_inf_concat = Concatenate(axis=-1, name='concat')([decoder_outputs2, attn_out_inf])\n",
        "\n",
        "# 디코더의 출력층\n",
        "decoder_outputs2 = decoder_softmax_layer(decoder_inf_concat) \n",
        "\n",
        "# 최종 디코더 모델\n",
        "decoder_model = Model(\n",
        "    [decoder_inputs] + [decoder_hidden_state_input,decoder_state_input_h, decoder_state_input_c],\n",
        "    [decoder_outputs2] + [state_h2, state_c2])"
      ],
      "execution_count": null,
      "outputs": []
    },
    {
      "cell_type": "code",
      "metadata": {
        "id": "9bCnKsB1hVbX"
      },
      "source": [
        "def decode_sequence(input_seq):\n",
        "    # 입력으로부터 인코더의 상태를 얻음\n",
        "    e_out, e_h, e_c = encoder_model.predict(input_seq)\n",
        "\n",
        "     # <SOS>에 해당하는 토큰 생성\n",
        "    target_seq = np.zeros((1,1))\n",
        "    target_seq[0, 0] = tar_word_to_index['sostoken']\n",
        "\n",
        "    stop_condition = False\n",
        "    decoded_sentence = ''\n",
        "    while not stop_condition: # stop_condition이 True가 될 때까지 루프 반복\n",
        "\n",
        "        output_tokens, h, c = decoder_model.predict([target_seq] + [e_out, e_h, e_c])\n",
        "        sampled_token_index = np.argmax(output_tokens[0, -1, :])\n",
        "        sampled_token = tar_index_to_word[sampled_token_index]\n",
        "\n",
        "        if (sampled_token!='eostoken'):\n",
        "            decoded_sentence += ' '+sampled_token\n",
        "\n",
        "        #  <eos>에 도달하거나 최대 길이를 넘으면 중단.\n",
        "        if (sampled_token == 'eostoken'  or len(decoded_sentence.split()) >= (summary_max_len-1)):\n",
        "            stop_condition = True\n",
        "\n",
        "        # 길이가 1인 타겟 시퀀스를 업데이트\n",
        "        target_seq = np.zeros((1,1))\n",
        "        target_seq[0, 0] = sampled_token_index\n",
        "\n",
        "        # 상태를 업데이트 합니다.\n",
        "        e_h, e_c = h, c\n",
        "\n",
        "    return decoded_sentence"
      ],
      "execution_count": null,
      "outputs": []
    },
    {
      "cell_type": "markdown",
      "metadata": {
        "id": "mL8d3Kh-hVbX"
      },
      "source": [
        "## 모델 테스트"
      ]
    },
    {
      "cell_type": "code",
      "metadata": {
        "id": "pvuTVe5yhVbY"
      },
      "source": [
        "# 원문의 정수 시퀀스를 텍스트 시퀀스로 변환\n",
        "def seq2text(input_seq):\n",
        "    temp=''\n",
        "    for i in input_seq:\n",
        "        if (i!=0):\n",
        "            temp = temp + src_index_to_word[i]+' '\n",
        "    return temp\n",
        "\n",
        "# 요약문의 정수 시퀀스를 텍스트 시퀀스로 변환\n",
        "def seq2summary(input_seq):\n",
        "    temp=''\n",
        "    for i in input_seq:\n",
        "        if ((i!=0 and i!=tar_word_to_index['sostoken']) and i!=tar_word_to_index['eostoken']):\n",
        "            temp = temp + tar_index_to_word[i] + ' '\n",
        "    return temp"
      ],
      "execution_count": null,
      "outputs": []
    },
    {
      "cell_type": "code",
      "metadata": {
        "id": "kDOfewHIhVbZ",
        "outputId": "a2bd8375-8f8f-4539-bb0e-ee971146dedc"
      },
      "source": [
        "for i in range(50, 100):\n",
        "    print(\"원문 :\", seq2text(encoder_input_test[i]))\n",
        "    print(\"실제 요약 :\", seq2summary(decoder_input_test[i]))\n",
        "    print(\"예측 요약 :\", decode_sequence(encoder_input_test[i].reshape(1, text_max_len)))\n",
        "    print(\"\\n\")"
      ],
      "execution_count": null,
      "outputs": [
        {
          "name": "stdout",
          "output_type": "stream",
          "text": [
            "원문 : prime minister narendra modi monday criticised naveen patnaik led bjd government odisha saying demon corruption various sectors become strong state addressing rally odisha pm also criticised state government adopting centre mega health scheme ayushman bharat said truth odisha development hidden \n",
            "실제 요약 : demon of corruption becoming strong in odisha pm modi \n",
            "예측 요약 :  odisha govt to join corruption cases against pm modi\n",
            "\n",
            "\n",
            "원문 : bihar deputy chief minister sushil kumar modi said rjd chief lalu prasad yadav turning bihar biggest said talking land spanning acres lalu purchased year period annual charge per current rates charges lakh added \n",
            "실제 요약 : lalu turning out to be biggest bihar deputy cm \n",
            "예측 요약 :  lalu yadav will lalu yadav from lalu yadav\n",
            "\n",
            "\n",
            "원문 : lucknow central producer advani talking excessive marketing culture said got call marketing person saying kangana scandal going tell farhan create scandal advani said actual conversation farhan scandal otherwise buzz go like scandal need \n",
            "실제 요약 : farhan told to make scandal over ranaut row for film maker \n",
            "예측 요약 :  am not received by an media on tv show\n",
            "\n",
            "\n",
            "원문 : president rule imposed former cm omar abdullah asked pm narendra modi ensure assembly polls held within stipulated six months following house stating elected government return end may omar added look forward personal commitment keeping schedule pm sahib \n",
            "실제 요약 : ensure gets new govt by may omar to pm modi \n",
            "예측 요약 :  pm modi to be pm modi in corruption in yrs\n",
            "\n",
            "\n",
            "원문 : fake calvin underwear worth crore seized uk intellectual property regulator border officials ahead christmas season seized fake items include blades apple chargers nike shoes authority said revealed information alert customers dangers buying fake items \n",
            "실제 요약 : fake underwear worth crore seized \n",
            "예측 요약 :  fake fake apps worth crore seized in delhi\n",
            "\n",
            "\n",
            "원문 : cricket legend sachin tendulkar recent interview revealed identified captain ms dhoni fielding slips fielding slips would constantly ask dhoni field setting bowler would try interact added realised discussions dhoni thinking differently added \n",
            "실제 요약 : identified captain in dhoni while fielding at slips sachin \n",
            "예측 요약 :  sachin tendulkar reveals how he had tendulkar\n",
            "\n",
            "\n",
            "원문 : pm narendra modi inaugurate country first india institute ayurveda new delhi ayurveda day october set crore budget acre campus houses bed hospital academic block apex ayurveda institute bring traditional wisdom ayurveda modern technology said ministry ayush \n",
            "실제 요약 : pm modi to launch first ever all india institute of \n",
            "예측 요약 :  pm modi inaugurates india st rail projects in mumbai\n",
            "\n",
            "\n",
            "원문 : alibaba announced sell several healthcare units healthcare subsidiary alibaba health information technology exchange alibaba receive billion newly issued shares alibaba health increase equity stake deal enable firm create best healthcare ecosystem china alibaba group ceo daniel zhang said \n",
            "실제 요약 : alibaba to pharmacy assets in health unit for bn \n",
            "예측 요약 :  alibaba founders may sell stake in series report\n",
            "\n",
            "\n",
            "원문 : meghan markle father thomas markle compared uk royal family secret cult like secretive hear anybody say anything lock doors need speak added thomas earlier said meghan terrified living pressure marriage \n",
            "실제 요약 : meghan markle dad compares uk royal family to secret cult \n",
            "예측 요약 :  prince charles calls uk prince charles\n",
            "\n",
            "\n",
            "원문 : commerce giant amazon posted net income billion fourth quarter ended december largest history net sales also increased billion quarter compared billion fourth quarter amazon also posted net income billion full year \n",
            "실제 요약 : amazon posts its largest quarterly profit at billion \n",
            "예측 요약 :  amazon revenue rises to billion in june quarter\n",
            "\n",
            "\n",
            "원문 : nasa preparing land billion insight mars probe today calls seven minutes terror probe expected enter martian atmosphere kmph array attempts slow kmph safe touchdown probe travelling space six months \n",
            "실제 요약 : minutes of terror nasa spacecraft to land on mars today \n",
            "예측 요약 :  nasa to probe into space for satellites\n",
            "\n",
            "\n",
            "원문 : election commission issued notice gandhinagar archbishop thomas wrote letter catholic community warning nationalist forces stating gujarat assembly elections could make difference alleging democratic fabric india stake letter claimed growing sense insecurity among minorities \n",
            "실제 요약 : ec notice to guj bishop over letter on nationalist forces \n",
            "예측 요약 :  ec rejects ec evm evm evm evm\n",
            "\n",
            "\n",
            "원문 : india council announced bounty free haj trip anyone brings shia central waqf board chief waseem rizvi head muslim outfit claimed rizvi hurt religious sentiments madrasas breed terrorists remark bjp leader also burnt rizvi effigy held demonstration \n",
            "실제 요약 : free haj trip and bounty set on shia board chief head \n",
            "예측 요약 :  free free to be renamed as new political party\n",
            "\n",
            "\n",
            "원문 : modi government planning launch crackdown corrupt officials reportedly august letters dispatched various departments paramilitary forces finalise list corrupt officials august list sent central bureau investigation central vigilance commission keep close watch recommend necessary actions \n",
            "실제 요약 : govt to take action against corrupt officials from aug \n",
            "예측 요약 :  modi to launch new year in hyderabad\n",
            "\n",
            "\n",
            "원문 : mohamed hadid father models gigi bella hadid accused date rape year old model model wrote thought professional meeting date raped apartment claimed forced sign non disclosure agreement however mohamed denied claims calling model \n",
            "실제 요약 : gigi bella father accused of date rape by yr old model \n",
            "예측 요약 :  harvey daughter to launch model for rape accused of rape\n",
            "\n",
            "\n",
            "원문 : suspected militants barged inside police post guarding court complex jammu kashmir shopian district tuesday five service rifles stolen guns include four rifles ak assault rifle notably second incident week ak rifle policeman stolen rajouri \n",
            "실제 요약 : terrorists into police post steal rifles in \n",
            "예측 요약 :  militants suspect in raid at police station\n",
            "\n",
            "\n",
            "원문 : apple coo jeff williams said qualcomm refused provide chips iphones apple sued chipmaker williams added qualcomm royalty fee per iphone high us sued qualcomm alleging company used dominant position force customers use products charge high patent licensing fees \n",
            "실제 요약 : qualcomm refused to provide chips for iphones apple coo \n",
            "예측 요약 :  apple co founder tim cook to sue apple over bn\n",
            "\n",
            "\n",
            "원문 : nashik man killed another man faked death get insurance cover crore three different companies taken insurance policies ramdas wagah killed waiter leaving face left wallet atm card near body however post mortem revealed cause death \n",
            "실제 요약 : man fakes death kills another for crore insurance cover \n",
            "예측 요약 :  man who killed man insurance for years\n",
            "\n",
            "\n",
            "원문 : apple introduced latest version desktop operating system called macos features include dark mode desktop colour scheme automatically files groups group facetime allow users video chat multiple people time \n",
            "실제 요약 : apple unveils latest operating system \n",
            "예측 요약 :  apple confirms ios is like\n",
            "\n",
            "\n",
            "원문 : manoj goyal wife tv actor manoj goyal known serials like mat allegedly committed suicide hanging bedroom ceiling fan per reports depressed left note said one held responsible suicide couple eight year old daughter \n",
            "실제 요약 : tv actor manoj goyal wife commits suicide \n",
            "예측 요약 :  husband of husband found dead in hospital in suicide\n",
            "\n",
            "\n",
            "원문 : karnataka dgp rao directed go forced leave leaked report accused taking crore bribe provide special treatment aiadmk leader vk sasikala bengaluru central jail dgp also vacate office due retirement july end reportedly retire without post \n",
            "실제 요약 : dgp put on forced leave after leaked sasikala report \n",
            "예측 요약 :  taka govt orders probe into vacate official office\n",
            "\n",
            "\n",
            "원문 : six indian nationals arrested district nepal allegedly duping local villagers said media report friday six accused hail bihar promised locals would shape ornaments polish gold jewellery however allegedly exchanged ornaments jewellery fake gold \n",
            "실제 요약 : indians arrested in nepal for duping locals with fake gold \n",
            "예측 요약 :  indian held for stealing fake fake news in mumbai\n",
            "\n",
            "\n",
            "원문 : cbi sp balaji accused transferred interim cbi director nageswara rao complained rao misconduct director march balaji recently transferred delhi anti corruption branch ghaziabad cbi academy balaji also approached supreme court petition challenging transfer report said \n",
            "실제 요약 : transferred as about rao misconduct cbi sp balaji \n",
            "예측 요약 :  cbi files chargesheet against rao over alleged bribe\n",
            "\n",
            "\n",
            "원문 : students tata institute social sciences protesting management decision withdraw fee waivers provided students government pre scholarship scheme protests started february across campuses including mumbai hyderabad give demands met student leaders said \n",
            "실제 요약 : students protest as varsity withdraws fee waiver \n",
            "예측 요약 :  medical colleges to be held in maharashtra schools\n",
            "\n",
            "\n",
            "원문 : letter addressed indian president ram nath kovind prime minister narendra modi russian president vladimir putin expressed condolences casualties caused floods kerala russia shares grief people india hopes speedy recovery injured natural disaster wrote \n",
            "실제 요약 : putin expresses over kerala flood deaths \n",
            "예측 요약 :  pm modi prez kovind to be in mexico\n",
            "\n",
            "\n",
            "원문 : doctors india institute medical sciences delhi reportedly assess whether possible perform surgery separate pair two year old twins joined head condition one lakh children per cent die either birth within hours one doctors said \n",
            "실제 요약 : aiims docs to try separating twins joined at the head \n",
            "예측 요약 :  aiims doctors remove doctors from aiims aiims to aiims\n",
            "\n",
            "\n",
            "원문 : song calling uk pm theresa may liar reportedly surged number one position uk itunes charts however political protest song banned mainstream radio political content notably song comes two weeks ahead country general election may contesting elected pm \n",
            "실제 요약 : song calling pm theresa may liar tops uk \n",
            "예측 요약 :  uk pm may change brexit campaign as brexit campaign\n",
            "\n",
            "\n",
            "원문 : finance minister arun jaitley sunday said congress president rahul gandhi idea single tax slab goods services tax flawed single slab gst function countries entire population similar higher level paying capacity jaitley added current gst structure five tax slabs \n",
            "실제 요약 : rahul idea of single gst slab is flawed fm arun jaitley \n",
            "예측 요약 :  rahul tax on tax on gst rate fm\n",
            "\n",
            "\n",
            "원문 : two government school teachers principal arrested bihar buxar district consuming alcohol principal chamber following independence day celebrations school police team acting tip said medical tests confirmed presence alcohol blood notably bihar became dry state april \n",
            "실제 요약 : school principal teachers held for drinking in dry bihar \n",
            "예측 요약 :  bihar teacher allegedly teachers in up for hours\n",
            "\n",
            "\n",
            "원문 : tamil nadu police filed sedition case sidelined aiadmk leader ttv dhinakaran supporters allegedly distributing pamphlets neet reports said pamphlets distributed allegedly blamed centre state government death medical aspirant anitha committed suicide failing secure mbbs seat owing poor neet score \n",
            "실제 요약 : sedition case against dhinakaran over anti neet \n",
            "예측 요약 :  sasikala group to not jail for tn police murder\n",
            "\n",
            "\n",
            "원문 : delhi cm arvind kejriwal thursday questioned behind centre note ban move termed self inflicted deep wound indian economy alleged list financial scams pm narendra modi government endless second anniversary demonetisation kejriwal questioned country pushed disaster \n",
            "실제 요약 : reason behind demonetisation still mystery kejriwal \n",
            "예측 요약 :  kejriwal calls kejriwal for tax on delhi cm\n",
            "\n",
            "\n",
            "원문 : kerala cpi government withdrawn case six left mlas vandalising state assembly legislators damaged property disrupted assembly proceedings finance minister km mani accused scam presented budget opposition parties slammed withdrawal arguing incident caused lot shame state \n",
            "실제 요약 : kerala withdraws case against mlas who vandalised assembly \n",
            "예측 요약 :  kerala mlas mlas protest over cases of sabarimala mlas\n",
            "\n",
            "\n",
            "원문 : south africa captain faf du plessis took instagram share picture kissing pacer kagiso rabada forehead match get become number fast bowler world massive kiss du plessis wrote commenting picture pacer wrote girlfriend complaining \n",
            "실제 요약 : sa captain posts pic kissing rabada after pacer becomes no \n",
            "예측 요약 :  sa captain sa captain to marry girlfriend in sa\n",
            "\n",
            "\n",
            "원문 : union water resources minister uma bharti said take ten years completely clean ganga would done phased manner bharti added mass awareness needed maintain river cleanliness cleaned undertake ganga sagar \n",
            "실제 요약 : will take years to completely clean ganga uma bharti \n",
            "예측 요약 :  people are clean ganga as ganga uma bharti\n",
            "\n",
            "\n",
            "원문 : board wrote message answer sheet request help clear exam sir girl getting married june please pass otherwise family upset read message past students reportedly attached money answer sheets clear exam \n",
            "실제 요약 : don fail me am getting married up girl writes in exam \n",
            "예측 요약 :  no one of my parents to get married to girl\n",
            "\n",
            "\n",
            "원문 : ibm unveiled prototype claims world smallest computer measuring one square millimetre size costing less manufacture computer smaller grain salt contains one million cell power communications unit uses photo detector connect outside world \n",
            "실제 요약 : ibm unveils world smallest computer that can be made in \n",
            "예측 요약 :  ibm unveils world largest robots with\n",
            "\n",
            "\n",
            "원문 : group russian princeton university scientists claim revived pair frozen years old found buried siberia around worms brought surrounded food weeks cultivation two reportedly showed signs life starting move eat \n",
            "실제 요약 : scientists claim to revive year old frozen \n",
            "예측 요약 :  year old human discovered in egypt\n",
            "\n",
            "\n",
            "원문 : actor sidharth malhotra seen playing kargil martyr vikram batra upcoming biopic latter said feel emotional responsibility play character family vikram batra felt play role added sidharth said toughest role career far \n",
            "실제 요약 : emotional responsibility to play kargil martyr vikram sidharth \n",
            "예측 요약 :  sidharth to play sidharth in biopic on october\n",
            "\n",
            "\n",
            "원문 : suzuki year old baseball player side seattle scaled height wall jump rob opposition home run fielded cleveland indians jose returned seattle six years sides new york miami \n",
            "실제 요약 : year old baseball player scales wall to stop home run \n",
            "예측 요약 :  player who left in the match in australia\n",
            "\n",
            "\n",
            "원문 : google doodle tuesday honoured sake dean man opened first indian restaurant england restaurant coffee house described media reports place enjoy hookah indian dishes highest perfection also first indian author publish book english \n",
            "실제 요약 : google doodle honours man behind st indian restaurant in uk \n",
            "예측 요약 :  google engineer who got his own restaurant in restaurant\n",
            "\n",
            "\n",
            "원문 : shortfall release central funds assam flood management according comptroller auditor general report centre supposed release crore provided crore added state government released allocated budget flood management \n",
            "실제 요약 : in releasing central funds for assam floods \n",
            "예측 요약 :  over cr assistance in india since\n",
            "\n",
            "\n",
            "원문 : stamping hand baggage stopped delhi mumbai kolkata bengaluru hyderabad ahmedabad cochin airports april hand baggage rubber security personnel put security scanners airports notably plan implemented earlier stopped due lack required security equipment \n",
            "실제 요약 : stamping of hand baggage to end at airports from april \n",
            "예측 요약 :  new airport to be allowed to be held in delhi\n",
            "\n",
            "\n",
            "원문 : snake catcher rescued python attached swimming pool australia brisbane water trying catcher said doubt would survived taken gotten treatment catcher added saying snake well \n",
            "실제 요약 : python covered with more than rescued in australia \n",
            "예측 요약 :  swimming pool in pool in australia\n",
            "\n",
            "\n",
            "원문 : year old woman mumbai killed year old husband hitting block asleep woman suspected extra marital affairs woman slept next husband body morning avoid suspicion later admitted crime couple reportedly heated argument incident \n",
            "실제 요약 : wife kills yr old man over affair sleeps with dead body \n",
            "예측 요약 :  mumbai woman kills woman for not wearing\n",
            "\n",
            "\n",
            "원문 : order keep check regional transport offices yogi adityanath government planning introduce system challans payment road taxes set deadline days confident attaining objective within time said uttar pradesh transport minister dev singh \n",
            "실제 요약 : up govt to introduce for payment of road taxes \n",
            "예측 요약 :  yogi adityanath stations to be used to curb pollution\n",
            "\n",
            "\n",
            "원문 : actor star opposite deepika padukone filmmaker meghna gulzar upcoming film based life acid attack survivor laxmi agarwal glad got opportunity suitable character film deepika partner meghna said deepika play role laxmi co producing film \n",
            "실제 요약 : to star with deepika in film on acid attack survivor \n",
            "예측 요약 :  new poster of deepika film with acid attack\n",
            "\n",
            "\n",
            "원문 : jammu kashmir cm mehbooba mufti friday said one hold tricolour kashmiri citizens privileges altered let clear targeting separatists mufti said agenda different totally weakening powers trust india added \n",
            "실제 요약 : no one will hold tricolour if special status cm \n",
            "예측 요약 :  will not be able to celebrate eid with rajnath\n",
            "\n",
            "\n",
            "원문 : picture iulia vantur posing rumoured boyfriend actor salman khan family maldives emerged online picture also shows salman brothers arbaaz sohail sister arpita husband aayush sharma khan family maldives celebrate first birthday arpita aayush son ahil \n",
            "실제 요약 : pic shows iulia with salman and his family in maldives \n",
            "예측 요약 :  pic shows salman khan salman khan father father\n",
            "\n",
            "\n",
            "원문 : iit kanpur wednesday denied reports claimed institute placed ban late night students order prevent falling prey like drug addiction decision never taken stage institute registrar kk tiwari said earlier reports quoted tiwari confirming ban \n",
            "실제 요약 : iit kanpur denies banning late night by students \n",
            "예측 요약 :  iit bombay graduate gets notice for smoking in schools\n",
            "\n",
            "\n",
            "원문 : striking section indian penal code supreme court judge dy chandrachud said section destroys women dignity stating law treated woman property husband justice chandrachud added section founded concept woman loses married \n",
            "실제 요약 : adultery law woman of dignity supreme court judge \n",
            "예측 요약 :  women must be in the name of women supreme court\n",
            "\n",
            "\n"
          ]
        }
      ]
    },
    {
      "cell_type": "markdown",
      "metadata": {
        "id": "crQzeqS9GF2t"
      },
      "source": [
        "# Step 5. Summa을 이용해서 추출적 요약해보기\n",
        "추상적 요약은 추출적 요약과는 달리 문장의 표현력을 다양하게 가져갈 수 있지만, 추출적 요약에 비해서 난이도가 높아요. 반대로 말하면 추출적 요약은 추상적 요약에 비해 난이도가 낮고 기존 문장에서 문장을 꺼내오는 것이므로 잘못된 요약이 나올 가능성이 낮아요.\n",
        "\n",
        "Summa의 summarize를 사용하여 추출적 요약을 해보세요."
      ]
    },
    {
      "cell_type": "code",
      "metadata": {
        "id": "Y5DJK1YThVbb",
        "outputId": "66ba8fae-affc-4f5b-9f2f-99495324ac48"
      },
      "source": [
        "!pip list | grep summa"
      ],
      "execution_count": null,
      "outputs": [
        {
          "name": "stdout",
          "output_type": "stream",
          "text": [
            "summa                         1.2.0\n",
            "\u001b[33mWARNING: You are using pip version 20.3.3; however, version 21.2.4 is available.\n",
            "You should consider upgrading via the '/opt/conda/bin/python3.7 -m pip install --upgrade pip' command.\u001b[0m\n"
          ]
        }
      ]
    },
    {
      "cell_type": "code",
      "metadata": {
        "id": "j6zBzHNJhVbc",
        "outputId": "39a06f22-7b30-4770-d9b6-4f9103ac17b9"
      },
      "source": [
        "import requests\n",
        "from summa.summarizer import summarize\n",
        "\n",
        "text = data['Text'].values\n",
        "len(text)"
      ],
      "execution_count": null,
      "outputs": [
        {
          "data": {
            "text/plain": [
              "27105"
            ]
          },
          "execution_count": 62,
          "metadata": {},
          "output_type": "execute_result"
        }
      ]
    },
    {
      "cell_type": "markdown",
      "metadata": {
        "id": "vQMpQY2shVbd"
      },
      "source": [
        "### summarize 사용해서 요약\n",
        "Summa의 summarize()의 인자로 사용되는 값들에 대해서 알아볼게요.\n",
        "\n",
        "- text (str) : 요약할 텍스트.\n",
        "- ratio (float, optional) – 요약문에서 원본에서 선택되는 문장 비율. 0~1 사이값\n",
        "- words (int or None, optional) – 출력에 포함할 단어 수.\n",
        "만약, ratio와 함께 두 파라미터가 모두 제공되는 경우 ratio는 무시한다.\n",
        "- split (bool, optional) – True면 문장 list / False는 조인(join)된 문자열을 반환\n",
        "\n",
        "Summa의 summarize는 문장 토큰화를 별도로 하지 않더라도 내부적으로 문장 토큰화를 수행해요. 그렇기 때문에 문장 구분이 되어있지 않은 원문을 바로 입력으로 넣을 수 있어요. 비율을 적게 주어서 요약문으로 선택되는 문장의 개수를 줄여볼게요."
      ]
    },
    {
      "cell_type": "code",
      "metadata": {
        "scrolled": true,
        "id": "B7rfnw1ShVbd"
      },
      "source": [
        "# 원본 데이터 로드\n",
        "urllib.request.urlretrieve(\"https://raw.githubusercontent.com/sunnysai12345/News_Summary/master/news_summary_more.csv\", filename=\"news_summary_more.csv\")\n",
        "data2 = pd.read_csv('news_summary_more.csv', encoding='iso-8859-1')\n",
        "\n",
        "sum = []\n",
        "text = data2['text'].values\n",
        "\n",
        "for i in range(len(text)):\n",
        "    sum.append(summarize(text[i], ratio=0.5))"
      ],
      "execution_count": null,
      "outputs": []
    },
    {
      "cell_type": "code",
      "metadata": {
        "id": "-VeC-IgYhVbd",
        "outputId": "1b976042-9350-420c-e711-96e22bd328d9"
      },
      "source": [
        "print('Text:')\n",
        "print(text[0])\n",
        "print()\n",
        "print('Summary:')\n",
        "print(sum[0])"
      ],
      "execution_count": null,
      "outputs": [
        {
          "name": "stdout",
          "output_type": "stream",
          "text": [
            "Text:\n",
            "Saurav Kant, an alumnus of upGrad and IIIT-B's PG Program in Machine learning and Artificial Intelligence, was a Sr Systems Engineer at Infosys with almost 5 years of work experience. The program and upGrad's 360-degree career support helped him transition to a Data Scientist at Tech Mahindra with 90% salary hike. upGrad's Online Power Learning has powered 3 lakh+ careers.\n",
            "\n",
            "Summary:\n",
            "upGrad's Online Power Learning has powered 3 lakh+ careers.\n"
          ]
        }
      ]
    },
    {
      "cell_type": "markdown",
      "metadata": {
        "id": "crPRyTvHhVbd"
      },
      "source": [
        "내가 학습시킨 모델은 loss가 많이 개선되지 않아서 성능이 그닥 좋지 않다.<br>\n",
        "이런 상황에서는 추출적 요약이 구현도 쉽고 성능도 괜찮은 것같다."
      ]
    },
    {
      "cell_type": "markdown",
      "metadata": {
        "id": "nq-EhOzcGKl6"
      },
      "source": [
        "# 루브릭\n",
        "**평가문항과 상세기준**\n",
        "\n",
        "1.Abstractive 모델 구성을 위한 텍스트 전처리 단계가 체계적으로 진행되었다.\n",
        "- 분석단계, 정제단계, 정규화와 불용어 제거, 데이터셋 분리, 인코딩 과정이 빠짐없이 체계적으로 진행되었다.\n",
        "\n",
        "2.텍스트 요약모델이 성공적으로 학습되었음을 확인하였다.\n",
        "- 모델학습이 안정적으로 수렴되었음을 그래프를 통해 확인하였으며, 실제 요약문과 유사한 요약문장을 얻을 수 있었다.\n",
        "\n",
        "3.Extractive 요약을 시도해 보고 Abstractive 요약 결과과 함께 비교해 보았다.\n",
        "- 두 요약 결과를 문법완성도 측면과 핵심단어 포함 측면으로 나누어 비교분석 결과를 제시하였다."
      ]
    },
    {
      "cell_type": "markdown",
      "metadata": {
        "id": "CE-33pgGhVbe"
      },
      "source": [
        "# 회고\n",
        "이전에 추상요약 데이터를 구하는 것이 어려워서 추출요약으로 프로젝트를 진행한 적이 있는데 뉴스의 헤드라인을 target으로 하고 학습해도 좋은 결과가 나온다는 것이 신기했다."
      ]
    }
  ]
}