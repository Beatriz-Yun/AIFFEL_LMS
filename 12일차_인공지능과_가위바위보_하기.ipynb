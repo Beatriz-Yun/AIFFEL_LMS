{
  "nbformat": 4,
  "nbformat_minor": 0,
  "metadata": {
    "colab": {
      "name": "12일차_인공지능과_가위바위보_하기.ipynb",
      "provenance": [],
      "toc_visible": true,
      "authorship_tag": "ABX9TyPc1X33hxdoGNMWqr12PyZl",
      "include_colab_link": true
    },
    "kernelspec": {
      "name": "python3",
      "display_name": "Python 3"
    },
    "language_info": {
      "name": "python"
    },
    "accelerator": "GPU"
  },
  "cells": [
    {
      "cell_type": "markdown",
      "metadata": {
        "id": "view-in-github",
        "colab_type": "text"
      },
      "source": [
        "<a href=\"https://colab.research.google.com/github/Beatriz-Yun/AIFFEL_LMS/blob/main/12%EC%9D%BC%EC%B0%A8_%EC%9D%B8%EA%B3%B5%EC%A7%80%EB%8A%A5%EA%B3%BC_%EA%B0%80%EC%9C%84%EB%B0%94%EC%9C%84%EB%B3%B4_%ED%95%98%EA%B8%B0.ipynb\" target=\"_parent\"><img src=\"https://colab.research.google.com/assets/colab-badge.svg\" alt=\"Open In Colab\"/></a>"
      ]
    },
    {
      "cell_type": "markdown",
      "metadata": {
        "id": "0b2mcmNdUg_2"
      },
      "source": [
        "## 미니 프로젝트: 가위바위보 분류기 만들기"
      ]
    },
    {
      "cell_type": "markdown",
      "metadata": {
        "id": "n8LYvvp0itkF"
      },
      "source": [
        "### 0. colab환경에서 학습하기 위한 구글 드라이브에 데이터 준비"
      ]
    },
    {
      "cell_type": "code",
      "metadata": {
        "colab": {
          "base_uri": "https://localhost:8080/"
        },
        "id": "hZREetpRW-VF",
        "outputId": "423ff69a-15da-4a4f-b29b-0750b0470671"
      },
      "source": [
        "from google.colab import drive\n",
        "drive.mount('/content/drive')"
      ],
      "execution_count": 2,
      "outputs": [
        {
          "output_type": "stream",
          "text": [
            "Mounted at /content/drive\n"
          ],
          "name": "stdout"
        }
      ]
    },
    {
      "cell_type": "code",
      "metadata": {
        "colab": {
          "base_uri": "https://localhost:8080/"
        },
        "id": "yKzR_DVMegLu",
        "outputId": "0614463a-894c-4af8-ea64-146a6cce4c49"
      },
      "source": [
        "import os\n",
        "\n",
        "print(os.getenv(\"HOME\"))"
      ],
      "execution_count": 8,
      "outputs": [
        {
          "output_type": "stream",
          "text": [
            "/root\n"
          ],
          "name": "stdout"
        }
      ]
    },
    {
      "cell_type": "markdown",
      "metadata": {
        "id": "33LSBNvAg-kY"
      },
      "source": [
        "[!cd로 디렉토리를 이동했을 때 동작하지 않는 문제 해결](https://stackoverflow.com/questions/53854159/accessing-files-on-google-colab)\n",
        "- %cd로 실행하면 잘 동작하는 것을 확인할 수 있다."
      ]
    },
    {
      "cell_type": "code",
      "metadata": {
        "colab": {
          "base_uri": "https://localhost:8080/"
        },
        "id": "eP9rijNqdYwt",
        "outputId": "2fe93da9-1767-4b15-ed35-f15db30508d3"
      },
      "source": [
        "%cd \"/content/drive/MyDrive/Colab Notebooks/AIFFEL_LMS/data/rock\""
      ],
      "execution_count": 23,
      "outputs": [
        {
          "output_type": "stream",
          "text": [
            "/content/drive/MyDrive/Colab Notebooks/AIFFEL_LMS/data/rock\n"
          ],
          "name": "stdout"
        }
      ]
    },
    {
      "cell_type": "code",
      "metadata": {
        "colab": {
          "base_uri": "https://localhost:8080/"
        },
        "id": "IcmyoxC3g3hQ",
        "outputId": "19b4ebad-b759-431d-d1fc-ffda79f21171"
      },
      "source": [
        "%ls"
      ],
      "execution_count": 24,
      "outputs": [
        {
          "output_type": "stream",
          "text": [
            "rock_all.zip\n"
          ],
          "name": "stdout"
        }
      ]
    },
    {
      "cell_type": "code",
      "metadata": {
        "id": "Ujl8kIU5gIqW"
      },
      "source": [
        "# !unzip rock_all.zip\n",
        "\n",
        "# 가위 이미지 데이터는 직접 구글 드라이브에 업로드 함.\n",
        "# %cd /content/drive/MyDrive/Colab Notebooks/AIFFEL_LMS/data/scissor\n",
        "# !unzip scissor_all.zip\n",
        "\n",
        "# %cd \"/content/drive/MyDrive/Colab Notebooks/AIFFEL_LMS/data/paper\"\n",
        "# !unzip paper_all.zip"
      ],
      "execution_count": 60,
      "outputs": []
    },
    {
      "cell_type": "markdown",
      "metadata": {
        "id": "ojjlE1jTUsJ2"
      },
      "source": [
        "### 1. 데이터 불러오기 + Resize 하기"
      ]
    },
    {
      "cell_type": "code",
      "metadata": {
        "colab": {
          "base_uri": "https://localhost:8080/"
        },
        "id": "lhjeIIAbUkhi",
        "outputId": "0cb9a544-c456-4b50-ea5f-e3153faa41cd"
      },
      "source": [
        "from PIL import Image\n",
        "import os, glob\n",
        "\n",
        "def resize_images(img_path):\n",
        "\timages=glob.glob(img_path + \"/*.jpg\")  \n",
        "    \n",
        "\tprint(len(images), \" images to be resized.\")\n",
        "\n",
        "  # 파일마다 모두 28x28 사이즈로 바꾸어 저장합니다.\n",
        "\ttarget_size=(28,28)\n",
        "\tfor img in images:\n",
        "\t\told_img=Image.open(img)\n",
        "\t\tnew_img=old_img.resize(target_size,Image.ANTIALIAS)\n",
        "\t\tnew_img.save(img, \"JPEG\")\n",
        "    \n",
        "\tprint(len(images), \" images resized.\")\n",
        "\t\n",
        "# 가위, 바위, 보 이미지가 저장된 디렉토리 아래의 모든 jpg 파일을 읽어들여서\n",
        "# 파일마다 모두 28x28 사이즈로 바꾸어 저장합니다.\n",
        "path_base = \"/content/drive/MyDrive/Colab Notebooks/AIFFEL_LMS/data/\"\n",
        "\n",
        "image_dir_path = path_base + \"scissor\"\n",
        "print(image_dir_path)\n",
        "resize_images(image_dir_path)\n",
        "print(\"가위 이미지 resize 완료!\")\n",
        "\n",
        "image_dir_path = path_base + \"rock\"\n",
        "resize_images(image_dir_path)\n",
        "print(\"바위 이미지 resize 완료!\")\n",
        "\n",
        "image_dir_path = path_base + \"paper\"\n",
        "resize_images(image_dir_path)\n",
        "print(\"보 이미지 resize 완료!\")"
      ],
      "execution_count": 33,
      "outputs": [
        {
          "output_type": "stream",
          "text": [
            "/content/drive/MyDrive/Colab Notebooks/AIFFEL_LMS/data/scissor\n",
            "1000  images to be resized.\n",
            "1000  images resized.\n",
            "가위 이미지 resize 완료!\n",
            "1000  images to be resized.\n",
            "1000  images resized.\n",
            "바위 이미지 resize 완료!\n",
            "1000  images to be resized.\n",
            "1000  images resized.\n",
            "보 이미지 resize 완료!\n"
          ],
          "name": "stdout"
        }
      ]
    },
    {
      "cell_type": "code",
      "metadata": {
        "colab": {
          "base_uri": "https://localhost:8080/"
        },
        "id": "jpOcPfN6VVC4",
        "outputId": "947ac69c-ef32-422f-dc32-a10cb113af64"
      },
      "source": [
        "import numpy as np\n",
        "from sklearn.model_selection import train_test_split\n",
        "\n",
        "def load_data(img_path, number_of_data=3000):  # 가위바위보 이미지 총 개수\n",
        "    # 레이블) 가위 : 0, 바위 : 1, 보 : 2\n",
        "    img_size=28\n",
        "    color=3\n",
        "    # 이미지 데이터와 레이블 데이터를 담을 행렬(matrix) 영역을 생성한다.\n",
        "    # number_of_data와 img_size*img_size와 color(채널수)를 모두 곱한 크기의 0행렬이 생성된다.\n",
        "    # 이 행렬을 우리가 원하는 크기인 (데이터수, 이미지크기x, 이미지크기y, 채널수)로 reshape해주는 과정이다.\n",
        "    imgs = np.zeros(number_of_data*img_size*img_size*color,dtype=np.int32).reshape(number_of_data,img_size,img_size,color)\n",
        "    labels = np.zeros(number_of_data,dtype=np.int32)\n",
        "\n",
        "    # 가위, 바위, 보 순으로 이미지데이터를 imgs행렬에 저장한다.\n",
        "    idx=0\n",
        "    for file in glob.iglob(img_path+'/scissor/*.jpg'):\n",
        "        img = np.array(Image.open(file),dtype=np.int32)    # 이미지파일을 ndarray로 저장\n",
        "        imgs[idx,:,:,:]=img                                # 데이터 영역에 가위 이미지 행렬을 복사\n",
        "        labels[idx]=0                                      # 가위의 레이블 0을 저장\n",
        "        idx=idx+1\n",
        "\n",
        "    for file in glob.iglob(img_path+'/rock/*.jpg'):\n",
        "        img = np.array(Image.open(file),dtype=np.int32)\n",
        "        imgs[idx,:,:,:]=img                                # 데이터 영역에 바위 이미지 행렬을 복사\n",
        "        labels[idx]=1                                      # 바위의 레이블 1을 저장\n",
        "        idx=idx+1  \n",
        "    \n",
        "    for file in glob.iglob(img_path+'/paper/*.jpg'):\n",
        "        img = np.array(Image.open(file),dtype=np.int32)\n",
        "        imgs[idx,:,:,:]=img                                # 데이터 영역에 보 이미지 행렬을 복사\n",
        "        labels[idx]=2                                      # 보의 레이블 2를 저장\n",
        "        idx=idx+1\n",
        "        \n",
        "    print(\"학습데이터(x_train)의 이미지 개수는\", idx,\"입니다.\")\n",
        "    return imgs, labels\n",
        "\n",
        "# resize 처리 후, 저장된 이미지 다시 불어오기\n",
        "# path_base는 \"/content/drive/MyDrive/Colab Notebooks/AIFFEL_LMS/data/\"\n",
        "# 이미지 행렬과 레이블 행렬이 각각 x, y에 저장된다.\n",
        "(x, y)=load_data(path_base)\n",
        "\n",
        "# 입력 이미지 데이터를  0~1 사이의 값으로 정규화\n",
        "x_norm = x/255.0\n",
        "\n",
        "x_train, x_test, y_train, y_test = train_test_split(x_norm, y, random_state=66, test_size=0.3)\n",
        "print(\"x_train shape: {}\".format(x_train.shape))\n",
        "print(\"y_train shape: {}\".format(y_train.shape))\n",
        "\n",
        "print(\"x_test shape: {}\".format(x_test.shape))\n",
        "print(\"y_test shape: {}\".format(y_test.shape))"
      ],
      "execution_count": 39,
      "outputs": [
        {
          "output_type": "stream",
          "text": [
            "학습데이터(x_train)의 이미지 개수는 3000 입니다.\n",
            "x_train shape: (2100, 28, 28, 3)\n",
            "y_train shape: (2100,)\n",
            "x_test shape: (900, 28, 28, 3)\n",
            "y_test shape: (900,)\n"
          ],
          "name": "stdout"
        }
      ]
    },
    {
      "cell_type": "markdown",
      "metadata": {
        "id": "7D4an-u3s_Bl"
      },
      "source": [
        "전처리 된 tran set 이미지 출력해보기"
      ]
    },
    {
      "cell_type": "code",
      "metadata": {
        "colab": {
          "base_uri": "https://localhost:8080/",
          "height": 283
        },
        "id": "m5yriq9EWlg-",
        "outputId": "36f60f8b-8025-4240-a608-41a40f062044"
      },
      "source": [
        "import matplotlib.pyplot as plt\n",
        "\n",
        "plt.imshow(x_train[0])\n",
        "print('라벨: ', y_train[0])"
      ],
      "execution_count": 40,
      "outputs": [
        {
          "output_type": "stream",
          "text": [
            "라벨:  0\n"
          ],
          "name": "stdout"
        },
        {
          "output_type": "display_data",
          "data": {
            "image/png": "[encoded data removed]",
            "text/plain": [
              "<Figure size 432x288 with 1 Axes>"
            ]
          },
          "metadata": {
            "tags": [],
            "needs_background": "light"
          }
        }
      ]
    },
    {
      "cell_type": "markdown",
      "metadata": {
        "id": "Sy4h1s3xtrKx"
      },
      "source": [
        "### 2. 딥러닝 네트워크 설계하기"
      ]
    },
    {
      "cell_type": "code",
      "metadata": {
        "colab": {
          "base_uri": "https://localhost:8080/"
        },
        "id": "OR4lvo9qWrx0",
        "outputId": "5d6576e6-728f-4886-9ac1-60358d00bb9d"
      },
      "source": [
        "import tensorflow as tf\n",
        "from tensorflow import keras\n",
        "import numpy as np\n",
        "\n",
        "# 하이퍼파라미터\n",
        "n_channel_1=32\n",
        "n_channel_2=64\n",
        "n_dense=64\n",
        "\n",
        "# model 구성\n",
        "model=keras.models.Sequential()\n",
        "model.add(keras.layers.Conv2D(n_channel_1, (3,3), activation='relu', input_shape=(28,28,3)))\n",
        "model.add(keras.layers.MaxPool2D(2,2))\n",
        "model.add(keras.layers.Conv2D(n_channel_2, (3,3), activation='relu'))\n",
        "model.add(keras.layers.MaxPooling2D((2,2)))\n",
        "model.add(keras.layers.Flatten())\n",
        "model.add(keras.layers.Dense(n_dense, activation='relu'))\n",
        "model.add(keras.layers.Dense(3, activation='softmax'))\n",
        "\n",
        "print('Model에 추가된 Layer 개수: ', len(model.layers))\n",
        "\n",
        "model.summary()"
      ],
      "execution_count": 41,
      "outputs": [
        {
          "output_type": "stream",
          "text": [
            "Model에 추가된 Layer 개수:  7\n",
            "Model: \"sequential\"\n",
            "_________________________________________________________________\n",
            "Layer (type)                 Output Shape              Param #   \n",
            "=================================================================\n",
            "conv2d (Conv2D)              (None, 26, 26, 32)        896       \n",
            "_________________________________________________________________\n",
            "max_pooling2d (MaxPooling2D) (None, 13, 13, 32)        0         \n",
            "_________________________________________________________________\n",
            "conv2d_1 (Conv2D)            (None, 11, 11, 64)        18496     \n",
            "_________________________________________________________________\n",
            "max_pooling2d_1 (MaxPooling2 (None, 5, 5, 64)          0         \n",
            "_________________________________________________________________\n",
            "flatten (Flatten)            (None, 1600)              0         \n",
            "_________________________________________________________________\n",
            "dense (Dense)                (None, 64)                102464    \n",
            "_________________________________________________________________\n",
            "dense_1 (Dense)              (None, 3)                 195       \n",
            "=================================================================\n",
            "Total params: 122,051\n",
            "Trainable params: 122,051\n",
            "Non-trainable params: 0\n",
            "_________________________________________________________________\n"
          ],
          "name": "stdout"
        }
      ]
    },
    {
      "cell_type": "markdown",
      "metadata": {
        "id": "ib5kVWKttvsD"
      },
      "source": [
        "### 3. 딥러닝 네트워크 학습시키기"
      ]
    },
    {
      "cell_type": "code",
      "metadata": {
        "colab": {
          "base_uri": "https://localhost:8080/"
        },
        "id": "8-P0eK2XWtfd",
        "outputId": "845deb8f-e04a-4ca9-f1c0-bd189dd20fc2"
      },
      "source": [
        "# model을 학습시키는 코드를 직접 작성해 보세요.\n",
        "# Hint! model.compile()과 model.fit()을 사용해 봅시다.\n",
        "\n",
        "print(x_train.shape)\n",
        "print(x_test.shape)\n",
        "\n",
        "model.compile(optimizer='adam',\n",
        "             loss='sparse_categorical_crossentropy',\n",
        "             metrics=['accuracy'])\n",
        "\n",
        "n_train_epoch=20\n",
        "# 모델 훈련\n",
        "model.fit(x_train, y_train, epochs=n_train_epoch)\n",
        "\n",
        "# 모델 테스트\n",
        "test_loss, test_accuracy = model.evaluate(x_test, y_test, verbose=2)\n",
        "print(\"test_loss: {} \".format(test_loss))\n",
        "print(\"test_accuracy: {}\".format(test_accuracy))"
      ],
      "execution_count": 42,
      "outputs": [
        {
          "output_type": "stream",
          "text": [
            "(2100, 28, 28, 3)\n",
            "(900, 28, 28, 3)\n",
            "Epoch 1/20\n",
            "66/66 [==============================] - 32s 4ms/step - loss: 1.0984 - accuracy: 0.3657\n",
            "Epoch 2/20\n",
            "66/66 [==============================] - 0s 3ms/step - loss: 0.9658 - accuracy: 0.5200\n",
            "Epoch 3/20\n",
            "66/66 [==============================] - 0s 3ms/step - loss: 0.7897 - accuracy: 0.6152\n",
            "Epoch 4/20\n",
            "66/66 [==============================] - 0s 3ms/step - loss: 0.6341 - accuracy: 0.7319\n",
            "Epoch 5/20\n",
            "66/66 [==============================] - 0s 3ms/step - loss: 0.5108 - accuracy: 0.7905\n",
            "Epoch 6/20\n",
            "66/66 [==============================] - 0s 3ms/step - loss: 0.4152 - accuracy: 0.8467\n",
            "Epoch 7/20\n",
            "66/66 [==============================] - 0s 3ms/step - loss: 0.3323 - accuracy: 0.8876\n",
            "Epoch 8/20\n",
            "66/66 [==============================] - 0s 3ms/step - loss: 0.2724 - accuracy: 0.9105\n",
            "Epoch 9/20\n",
            "66/66 [==============================] - 0s 3ms/step - loss: 0.2192 - accuracy: 0.9333\n",
            "Epoch 10/20\n",
            "66/66 [==============================] - 0s 3ms/step - loss: 0.1738 - accuracy: 0.9424\n",
            "Epoch 11/20\n",
            "66/66 [==============================] - 0s 3ms/step - loss: 0.1301 - accuracy: 0.9619\n",
            "Epoch 12/20\n",
            "66/66 [==============================] - 0s 3ms/step - loss: 0.1252 - accuracy: 0.9633\n",
            "Epoch 13/20\n",
            "66/66 [==============================] - 0s 3ms/step - loss: 0.1103 - accuracy: 0.9657\n",
            "Epoch 14/20\n",
            "66/66 [==============================] - 0s 3ms/step - loss: 0.0752 - accuracy: 0.9819\n",
            "Epoch 15/20\n",
            "66/66 [==============================] - 0s 3ms/step - loss: 0.0617 - accuracy: 0.9838\n",
            "Epoch 16/20\n",
            "66/66 [==============================] - 0s 3ms/step - loss: 0.0618 - accuracy: 0.9824\n",
            "Epoch 17/20\n",
            "66/66 [==============================] - 0s 3ms/step - loss: 0.0534 - accuracy: 0.9829\n",
            "Epoch 18/20\n",
            "66/66 [==============================] - 0s 3ms/step - loss: 0.0431 - accuracy: 0.9881\n",
            "Epoch 19/20\n",
            "66/66 [==============================] - 0s 3ms/step - loss: 0.0264 - accuracy: 0.9948\n",
            "Epoch 20/20\n",
            "66/66 [==============================] - 0s 3ms/step - loss: 0.0241 - accuracy: 0.9938\n",
            "29/29 - 0s - loss: 0.0964 - accuracy: 0.9689\n",
            "test_loss: 0.09637278318405151 \n",
            "test_accuracy: 0.9688888788223267\n"
          ],
          "name": "stdout"
        }
      ]
    },
    {
      "cell_type": "markdown",
      "metadata": {
        "id": "7Ob2Mf1RtcpY"
      },
      "source": [
        ""
      ]
    },
    {
      "cell_type": "markdown",
      "metadata": {
        "id": "5WT3Y-yjtcyo"
      },
      "source": [
        "### [아예 새로운 데이터로 test set 구성후, 다시 테스트 해보기]\n",
        "- train set은 총 10명이 찍은 데이터로, test set은 총 3명이 찍은 데이터로 구성해보았다.\n",
        "- 위에서 unzip하는 과정을 새롭게 만든 test set으로 다시 해준다."
      ]
    },
    {
      "cell_type": "code",
      "metadata": {
        "id": "PB7Dzej0uIqt"
      },
      "source": [
        "# %cd /content/drive/MyDrive/Colab Notebooks/AIFFEL_LMS/data/rock_test\n",
        "# !ls\n",
        "# !unzip rock_all_test.zip\n",
        "\n",
        "# %cd /content/drive/MyDrive/Colab Notebooks/AIFFEL_LMS/data/scissor_test\n",
        "# !unzip scissor_all_test.zip\n",
        "\n",
        "# %cd /content/drive/MyDrive/Colab Notebooks/AIFFEL_LMS/data/paper_test\n",
        "# !unzip paper_all_test.zip"
      ],
      "execution_count": 61,
      "outputs": []
    },
    {
      "cell_type": "code",
      "metadata": {
        "colab": {
          "base_uri": "https://localhost:8080/"
        },
        "id": "JsKAnwIPy55P",
        "outputId": "6af0adb2-bb55-4433-d3a4-874ca6e57a6e"
      },
      "source": [
        "from PIL import Image\n",
        "import os, glob\n",
        "\n",
        "def resize_images(img_path):\n",
        "\timages=glob.glob(img_path + \"/*.jpg\")  \n",
        "    \n",
        "\tprint(len(images), \" images to be resized.\")\n",
        "\n",
        "  # 파일마다 모두 28x28 사이즈로 바꾸어 저장합니다.\n",
        "\ttarget_size=(28,28)\n",
        "\tfor img in images:\n",
        "\t\told_img=Image.open(img)\n",
        "\t\tnew_img=old_img.resize(target_size,Image.ANTIALIAS)\n",
        "\t\tnew_img.save(img, \"JPEG\")\n",
        "    \n",
        "\tprint(len(images), \" images resized.\")\n",
        "\t\n",
        "# 가위, 바위, 보 이미지가 저장된 디렉토리 아래의 모든 jpg 파일을 읽어들여서\n",
        "# 파일마다 모두 28x28 사이즈로 바꾸어 저장합니다.\n",
        "path_base = \"/content/drive/MyDrive/Colab Notebooks/AIFFEL_LMS/data/\"\n",
        "\n",
        "image_dir_path = path_base + \"scissor_test\"\n",
        "print(image_dir_path)\n",
        "resize_images(image_dir_path)\n",
        "print(\"가위 이미지 resize 완료!\")\n",
        "\n",
        "image_dir_path = path_base + \"rock_test\"\n",
        "resize_images(image_dir_path)\n",
        "print(\"바위 이미지 resize 완료!\")\n",
        "\n",
        "image_dir_path = path_base + \"paper_test\"\n",
        "resize_images(image_dir_path)\n",
        "print(\"보 이미지 resize 완료!\")"
      ],
      "execution_count": 51,
      "outputs": [
        {
          "output_type": "stream",
          "text": [
            "/content/drive/MyDrive/Colab Notebooks/AIFFEL_LMS/data/scissor_test\n",
            "300  images to be resized.\n",
            "300  images resized.\n",
            "가위 이미지 resize 완료!\n",
            "300  images to be resized.\n",
            "300  images resized.\n",
            "바위 이미지 resize 완료!\n",
            "300  images to be resized.\n",
            "300  images resized.\n",
            "보 이미지 resize 완료!\n"
          ],
          "name": "stdout"
        }
      ]
    },
    {
      "cell_type": "code",
      "metadata": {
        "colab": {
          "base_uri": "https://localhost:8080/"
        },
        "id": "gDGHMEt9zGT2",
        "outputId": "2e7543c7-702d-4c06-98c2-0c3cbbdc9da6"
      },
      "source": [
        "import numpy as np\n",
        "from sklearn.model_selection import train_test_split\n",
        "\n",
        "def load_data(img_path, number_of_data=900):  # 가위바위보 이미지 총 개수\n",
        "    # 레이블) 가위 : 0, 바위 : 1, 보 : 2\n",
        "    img_size=28\n",
        "    color=3\n",
        "    # 이미지 데이터와 레이블 데이터를 담을 행렬(matrix) 영역을 생성한다.\n",
        "    imgs = np.zeros(number_of_data*img_size*img_size*color,dtype=np.int32).reshape(number_of_data,img_size,img_size,color)\n",
        "    labels = np.zeros(number_of_data,dtype=np.int32)\n",
        "\n",
        "    # 가위, 바위, 보 순으로 이미지데이터를 imgs행렬에 저장한다.\n",
        "    idx=0\n",
        "    for file in glob.iglob(img_path+'/scissor_test/*.jpg'):\n",
        "        img = np.array(Image.open(file),dtype=np.int32)    # 이미지파일을 ndarray로 저장\n",
        "        imgs[idx,:,:,:]=img                                # 데이터 영역에 가위 이미지 행렬을 복사\n",
        "        labels[idx]=0                                      # 가위의 레이블 0을 저장\n",
        "        idx=idx+1\n",
        "\n",
        "    for file in glob.iglob(img_path+'/rock_test/*.jpg'):\n",
        "        img = np.array(Image.open(file),dtype=np.int32)\n",
        "        imgs[idx,:,:,:]=img                                # 데이터 영역에 바위 이미지 행렬을 복사\n",
        "        labels[idx]=1                                      # 바위의 레이블 1을 저장\n",
        "        idx=idx+1  \n",
        "    \n",
        "    for file in glob.iglob(img_path+'/paper_test/*.jpg'):\n",
        "        img = np.array(Image.open(file),dtype=np.int32)\n",
        "        imgs[idx,:,:,:]=img                                # 데이터 영역에 보 이미지 행렬을 복사\n",
        "        labels[idx]=2                                      # 보의 레이블 2를 저장\n",
        "        idx=idx+1\n",
        "        \n",
        "    print(\"test set 데이터(x_test)의 이미지 개수는\", idx,\"입니다.\")\n",
        "    return imgs, labels\n",
        "\n",
        "# resize 처리 후, 저장된 이미지 다시 불어오기\n",
        "# path_base는 \"/content/drive/MyDrive/Colab Notebooks/AIFFEL_LMS/data/\"\n",
        "# 이미지 행렬과 레이블 행렬이 각각 x, y에 저장된다.\n",
        "(x_test, y_test)=load_data(path_base)\n",
        "\n",
        "# 입력 이미지 데이터를  0~1 사이의 값으로 정규화\n",
        "x_test = x_test/255.0\n",
        "\n",
        "print(\"x_test shape: {}\".format(x_test.shape))\n",
        "print(\"y_test shape: {}\".format(y_test.shape))"
      ],
      "execution_count": 58,
      "outputs": [
        {
          "output_type": "stream",
          "text": [
            "test set 데이터(x_test)의 이미지 개수는 900 입니다.\n",
            "x_test shape: (900, 28, 28, 3)\n",
            "y_test shape: (900,)\n"
          ],
          "name": "stdout"
        }
      ]
    },
    {
      "cell_type": "code",
      "metadata": {
        "colab": {
          "base_uri": "https://localhost:8080/"
        },
        "id": "QYQonVl51vkX",
        "outputId": "9455ef77-abe9-4bfa-cc41-b79fa724cb3a"
      },
      "source": [
        "# 모델 테스트\n",
        "test_loss, test_accuracy = model.evaluate(x_test, y_test, verbose=2)\n",
        "print(\"test_loss: {} \".format(test_loss))\n",
        "print(\"test_accuracy: {}\".format(test_accuracy))"
      ],
      "execution_count": 59,
      "outputs": [
        {
          "output_type": "stream",
          "text": [
            "29/29 - 0s - loss: 3.3764 - accuracy: 0.4311\n",
            "test_loss: 3.3764359951019287 \n",
            "test_accuracy: 0.43111109733581543\n"
          ],
          "name": "stdout"
        }
      ]
    }
  ]
}