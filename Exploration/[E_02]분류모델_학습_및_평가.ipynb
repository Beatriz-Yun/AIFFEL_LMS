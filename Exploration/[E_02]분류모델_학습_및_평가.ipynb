{
  "nbformat": 4,
  "nbformat_minor": 0,
  "metadata": {
    "colab": {
      "name": "[E-02]분류모델 학습 및 평가.ipynb",
      "provenance": [],
      "collapsed_sections": [],
      "authorship_tag": "ABX9TyMbD5GeqmluqBVxQcg09VqD",
      "include_colab_link": true
    },
    "kernelspec": {
      "name": "python3",
      "display_name": "Python 3"
    },
    "language_info": {
      "name": "python"
    }
  },
  "cells": [
    {
      "cell_type": "markdown",
      "metadata": {
        "id": "view-in-github",
        "colab_type": "text"
      },
      "source": [
        "<a href=\"https://colab.research.google.com/github/Beatriz-Yun/AIFFEL_LMS/blob/main/Exploration/%5BE_02%5D%EB%B6%84%EB%A5%98%EB%AA%A8%EB%8D%B8_%ED%95%99%EC%8A%B5_%EB%B0%8F_%ED%8F%89%EA%B0%80.ipynb\" target=\"_parent\"><img src=\"https://colab.research.google.com/assets/colab-badge.svg\" alt=\"Open In Colab\"/></a>"
      ]
    },
    {
      "cell_type": "markdown",
      "metadata": {
        "id": "WhZyURpPrpGE"
      },
      "source": [
        "## 데이터 살펴보기"
      ]
    },
    {
      "cell_type": "code",
      "metadata": {
        "colab": {
          "base_uri": "https://localhost:8080/"
        },
        "id": "C0vImihAqgeO",
        "outputId": "6d374ce1-0a53-40e2-b969-d7a2d33c6338"
      },
      "source": [
        "from sklearn.datasets import load_digits\n",
        "from sklearn.datasets import load_wine\n",
        "from sklearn.datasets import load_breast_cancer\n",
        "\n",
        "# feature data 지정\n",
        "digits = load_digits()\n",
        "wine = load_wine()\n",
        "cancer = load_breast_cancer()\n",
        "\n",
        "print(dir(digits))\n",
        "print(dir(wine))\n",
        "print(dir(cancer))"
      ],
      "execution_count": null,
      "outputs": [
        {
          "output_type": "stream",
          "text": [
            "['DESCR', 'data', 'images', 'target', 'target_names']\n",
            "['DESCR', 'data', 'feature_names', 'target', 'target_names']\n",
            "['DESCR', 'data', 'feature_names', 'filename', 'target', 'target_names']\n"
          ],
          "name": "stdout"
        }
      ]
    },
    {
      "cell_type": "code",
      "metadata": {
        "colab": {
          "base_uri": "https://localhost:8080/"
        },
        "id": "DiPaV52Tqrrx",
        "outputId": "1e585746-b640-4a5b-e6ba-bbe073efa6c4"
      },
      "source": [
        "# 데이터는 총 1797개, feature는 64개의 픽셀값 (8x8 이미지), label은 0~9 사이의 숫자\n",
        "print(digits.data.shape, digits.target_names)\n",
        "print(digits.target.shape)\n",
        "print()\n",
        "\n",
        "# 데이터는 총 178개, feature는 총 13개로, Alcohol, Malic acid, Color intensity 등 와인의 특성값이고,\n",
        "# label은 class 0, 1, 2의 세 가지 카테고리가 있다.\n",
        "print(wine.data.shape, wine.feature_names)\n",
        "print(wine.target.shape, wine.target_names)\n",
        "print()\n",
        "\n",
        "# 데이터는 총 569개, feature는 총 30개로, 'mean radius' 'mean texture' 'mean perimeter' 등 유방암의 특성값이고,\n",
        "# label은 malignant(악성)와 benign(양성) 2가지이다.\n",
        "print(cancer.data.shape, cancer.feature_names)\n",
        "print(len(cancer.feature_names))\n",
        "print(cancer.target.shape, cancer.target_names)"
      ],
      "execution_count": null,
      "outputs": [
        {
          "output_type": "stream",
          "text": [
            "(1797, 64) [0 1 2 3 4 5 6 7 8 9]\n",
            "(1797,)\n",
            "\n",
            "(178, 13) ['alcohol', 'malic_acid', 'ash', 'alcalinity_of_ash', 'magnesium', 'total_phenols', 'flavanoids', 'nonflavanoid_phenols', 'proanthocyanins', 'color_intensity', 'hue', 'od280/od315_of_diluted_wines', 'proline']\n",
            "(178,) ['class_0' 'class_1' 'class_2']\n",
            "\n",
            "(569, 30) ['mean radius' 'mean texture' 'mean perimeter' 'mean area'\n",
            " 'mean smoothness' 'mean compactness' 'mean concavity'\n",
            " 'mean concave points' 'mean symmetry' 'mean fractal dimension'\n",
            " 'radius error' 'texture error' 'perimeter error' 'area error'\n",
            " 'smoothness error' 'compactness error' 'concavity error'\n",
            " 'concave points error' 'symmetry error' 'fractal dimension error'\n",
            " 'worst radius' 'worst texture' 'worst perimeter' 'worst area'\n",
            " 'worst smoothness' 'worst compactness' 'worst concavity'\n",
            " 'worst concave points' 'worst symmetry' 'worst fractal dimension']\n",
            "30\n",
            "(569,) ['malignant' 'benign']\n"
          ],
          "name": "stdout"
        }
      ]
    },
    {
      "cell_type": "markdown",
      "metadata": {
        "id": "OwdnGj9ZtmcK"
      },
      "source": [
        "## 실습1. 손글씨 분류"
      ]
    },
    {
      "cell_type": "code",
      "metadata": {
        "colab": {
          "base_uri": "https://localhost:8080/"
        },
        "id": "b25wYHmVz9Gu",
        "outputId": "d8d6aa7a-4839-48bd-de99-1f32409015d2"
      },
      "source": [
        "print(digits.DESCR)"
      ],
      "execution_count": null,
      "outputs": [
        {
          "output_type": "stream",
          "text": [
            ".. _digits_dataset:\n",
            "\n",
            "Optical recognition of handwritten digits dataset\n",
            "--------------------------------------------------\n",
            "\n",
            "**Data Set Characteristics:**\n",
            "\n",
            "    :Number of Instances: 5620\n",
            "    :Number of Attributes: 64\n",
            "    :Attribute Information: 8x8 image of integer pixels in the range 0..16.\n",
            "    :Missing Attribute Values: None\n",
            "    :Creator: E. Alpaydin (alpaydin '@' boun.edu.tr)\n",
            "    :Date: July; 1998\n",
            "\n",
            "This is a copy of the test set of the UCI ML hand-written digits datasets\n",
            "https://archive.ics.uci.edu/ml/datasets/Optical+Recognition+of+Handwritten+Digits\n",
            "\n",
            "The data set contains images of hand-written digits: 10 classes where\n",
            "each class refers to a digit.\n",
            "\n",
            "Preprocessing programs made available by NIST were used to extract\n",
            "normalized bitmaps of handwritten digits from a preprinted form. From a\n",
            "total of 43 people, 30 contributed to the training set and different 13\n",
            "to the test set. 32x32 bitmaps are divided into nonoverlapping blocks of\n",
            "4x4 and the number of on pixels are counted in each block. This generates\n",
            "an input matrix of 8x8 where each element is an integer in the range\n",
            "0..16. This reduces dimensionality and gives invariance to small\n",
            "distortions.\n",
            "\n",
            "For info on NIST preprocessing routines, see M. D. Garris, J. L. Blue, G.\n",
            "T. Candela, D. L. Dimmick, J. Geist, P. J. Grother, S. A. Janet, and C.\n",
            "L. Wilson, NIST Form-Based Handprint Recognition System, NISTIR 5469,\n",
            "1994.\n",
            "\n",
            ".. topic:: References\n",
            "\n",
            "  - C. Kaynak (1995) Methods of Combining Multiple Classifiers and Their\n",
            "    Applications to Handwritten Digit Recognition, MSc Thesis, Institute of\n",
            "    Graduate Studies in Science and Engineering, Bogazici University.\n",
            "  - E. Alpaydin, C. Kaynak (1998) Cascading Classifiers, Kybernetika.\n",
            "  - Ken Tang and Ponnuthurai N. Suganthan and Xi Yao and A. Kai Qin.\n",
            "    Linear dimensionalityreduction using relevance weighted LDA. School of\n",
            "    Electrical and Electronic Engineering Nanyang Technological University.\n",
            "    2005.\n",
            "  - Claudio Gentile. A New Approximate Maximal Margin Classification\n",
            "    Algorithm. NIPS. 2000.\n"
          ],
          "name": "stdout"
        }
      ]
    },
    {
      "cell_type": "code",
      "metadata": {
        "colab": {
          "base_uri": "https://localhost:8080/"
        },
        "id": "6mcVZitgtKh3",
        "outputId": "52c1f1d3-bbee-421a-9c37-ac30e64bc3d7"
      },
      "source": [
        "# label data 지정\n",
        "digits_label = digits.target\n",
        "print(digits.target)\n",
        "digits.target.shape"
      ],
      "execution_count": null,
      "outputs": [
        {
          "output_type": "stream",
          "text": [
            "[0 1 2 ... 8 9 8]\n"
          ],
          "name": "stdout"
        },
        {
          "output_type": "execute_result",
          "data": {
            "text/plain": [
              "(1797,)"
            ]
          },
          "metadata": {
            "tags": []
          },
          "execution_count": 4
        }
      ]
    },
    {
      "cell_type": "code",
      "metadata": {
        "colab": {
          "base_uri": "https://localhost:8080/"
        },
        "id": "_yKaf80xv89W",
        "outputId": "e728a7cd-2a4e-498d-ace7-220086857444"
      },
      "source": [
        "from sklearn.model_selection import train_test_split\n",
        "from sklearn.metrics import classification_report\n",
        "\n",
        "# 데이터셋 분리 (8:2비율)\n",
        "X_train, X_test, y_train, y_test = train_test_split(digits.data, digits_label, test_size=0.2, random_state=15)\n",
        "\n",
        "print(X_train.shape, y_train.shape)\n",
        "print(X_test.shape, y_test.shape)"
      ],
      "execution_count": null,
      "outputs": [
        {
          "output_type": "stream",
          "text": [
            "(1437, 64) (1437,)\n",
            "(360, 64) (360,)\n"
          ],
          "name": "stdout"
        }
      ]
    },
    {
      "cell_type": "markdown",
      "metadata": {
        "id": "OWwhrPh8hNtK"
      },
      "source": [
        "### 오차행렬 (confusion matrix)\n",
        "- 예측결과: TN(True Negative), FP(False Positive), FN(False Negative), TP(True Positive)\n",
        "- 성능 지표: Precision, Negative Predictive Value, Sensitivity, Specificity(Recall), Accuracy\n",
        "\n",
        "> TP는 **사실과 예측결과가 Positive-Positive**여서 제대로 예측했으므로 True<br>\n",
        "FP는 사실은 Negative인데 **예측결과가 Positive**여서 잘못 예측했으므로 False<br>\n",
        "TN은 **사실과 예측결과 모두 Negative-Negative**여서 제대로 예측했으므로 True<br>\n",
        "FN는 사실은 Positive인데 **예측결과가 Negative**여서 잘못 예측했으므로 False\n",
        "\n",
        "<br>\n",
        "\n",
        "> Precision(정밀도): Positive라고 예측한 데이터(FP+TP) 중 진짜 Positive(TP)인 비율<br>\n",
        "Recall: 실제 Positive인 데이터(TP+FN) 중 Positive라고 예측 성공(TP)한 비율<br>\n",
        "\n",
        "예시)\n",
        "- 정상 메일을 스팸으로 분류하면 안된다.\n",
        "= Negative를 Positive로 판단(FP)하면 안된다.\n",
        "= precision이 중요하다.\n",
        "- 암인데 정상이라고 판단하면 안된다.\n",
        "= Positive인데 Negative라고 예측(FN)하면 안된다.\n",
        "= FN이 중요하다.\n",
        "= recall이 중요하다.\n",
        "\n",
        "[참고](https://manisha-sirsat.blogspot.com/2019/04/confusion-matrix.html)"
      ]
    },
    {
      "cell_type": "markdown",
      "metadata": {
        "id": "36l7Qg9uvc_4"
      },
      "source": [
        "### 1-1. Decision Tree"
      ]
    },
    {
      "cell_type": "code",
      "metadata": {
        "colab": {
          "base_uri": "https://localhost:8080/"
        },
        "id": "vrO278ZIxNXd",
        "outputId": "887e0d47-b1ad-41ad-c742-24b53d65972f"
      },
      "source": [
        "from sklearn.tree import DecisionTreeClassifier\n",
        "from sklearn.metrics import confusion_matrix\n",
        "import numpy as np\n",
        "\n",
        "decision_tree = DecisionTreeClassifier(random_state=32)    # 모델 로드\n",
        "\n",
        "decision_tree.fit(X_train, y_train)                        # 모델 학습\n",
        "\n",
        "y_pred = decision_tree.predict(X_test)                     # 모델 예측(테스트)\n",
        "\n",
        "print(classification_report(y_test, y_pred))               # 성능 평가\n",
        "\n",
        "cm = confusion_matrix(y_test, y_pred)                      # 왼쪽 위부터 순서대로 TP, FN, FP, TN의 개수를 나타낸다.\n",
        "cm.sum() - np.diag(cm).sum()                               # 오차행렬의 총합에서 대각에 있는 값들을 제외 ( = False인 총 경우의 수)"
      ],
      "execution_count": null,
      "outputs": [
        {
          "output_type": "stream",
          "text": [
            "              precision    recall  f1-score   support\n",
            "\n",
            "           0       1.00      0.94      0.97        31\n",
            "           1       0.82      0.82      0.82        38\n",
            "           2       0.72      0.87      0.79        38\n",
            "           3       0.85      0.81      0.83        27\n",
            "           4       0.97      0.78      0.86        41\n",
            "           5       0.82      0.89      0.85        35\n",
            "           6       0.85      0.89      0.87        38\n",
            "           7       0.91      0.91      0.91        34\n",
            "           8       0.74      0.74      0.74        35\n",
            "           9       0.83      0.79      0.81        43\n",
            "\n",
            "    accuracy                           0.84       360\n",
            "   macro avg       0.85      0.84      0.84       360\n",
            "weighted avg       0.85      0.84      0.84       360\n",
            "\n"
          ],
          "name": "stdout"
        },
        {
          "output_type": "execute_result",
          "data": {
            "text/plain": [
              "57"
            ]
          },
          "metadata": {
            "tags": []
          },
          "execution_count": 6
        }
      ]
    },
    {
      "cell_type": "markdown",
      "metadata": {
        "id": "vn9OoZMXyHfn"
      },
      "source": [
        "### 1-2. Random forest"
      ]
    },
    {
      "cell_type": "code",
      "metadata": {
        "colab": {
          "base_uri": "https://localhost:8080/"
        },
        "id": "xeAPLy6BySG4",
        "outputId": "9a1c239c-d9f9-4c61-883b-ce9f6e7791d4"
      },
      "source": [
        "from sklearn.ensemble import RandomForestClassifier\n",
        "\n",
        "random_forest = RandomForestClassifier(random_state=32)    # 모델 로드\n",
        "\n",
        "random_forest.fit(X_train, y_train)                        # 모델 학습\n",
        "\n",
        "y_pred = random_forest.predict(X_test)                     # 모델 예측(테스트)\n",
        "\n",
        "print(classification_report(y_test, y_pred))               # 성능 평가\n",
        "\n",
        "cm = confusion_matrix(y_test, y_pred)                      # 오차행렬\n",
        "cm.sum() - np.diag(cm).sum()                               # False인 총 경우의 수"
      ],
      "execution_count": null,
      "outputs": [
        {
          "output_type": "stream",
          "text": [
            "              precision    recall  f1-score   support\n",
            "\n",
            "           0       0.97      0.94      0.95        31\n",
            "           1       0.95      0.97      0.96        38\n",
            "           2       1.00      1.00      1.00        38\n",
            "           3       1.00      0.96      0.98        27\n",
            "           4       0.95      1.00      0.98        41\n",
            "           5       0.97      1.00      0.99        35\n",
            "           6       1.00      0.95      0.97        38\n",
            "           7       1.00      1.00      1.00        34\n",
            "           8       0.94      0.97      0.96        35\n",
            "           9       1.00      0.98      0.99        43\n",
            "\n",
            "    accuracy                           0.98       360\n",
            "   macro avg       0.98      0.98      0.98       360\n",
            "weighted avg       0.98      0.98      0.98       360\n",
            "\n"
          ],
          "name": "stdout"
        },
        {
          "output_type": "execute_result",
          "data": {
            "text/plain": [
              "8"
            ]
          },
          "metadata": {
            "tags": []
          },
          "execution_count": 7
        }
      ]
    },
    {
      "cell_type": "markdown",
      "metadata": {
        "id": "L9_ck0UaywGh"
      },
      "source": [
        "### 1-3. SVM"
      ]
    },
    {
      "cell_type": "code",
      "metadata": {
        "colab": {
          "base_uri": "https://localhost:8080/"
        },
        "id": "GjlF4wQXyyXO",
        "outputId": "073e54a4-bc98-4fd5-9b5a-2246584423ff"
      },
      "source": [
        "from sklearn import svm\n",
        "\n",
        "svm_model = svm.SVC()    # SVM모델 로드\n",
        "\n",
        "svm_model.fit(X_train, y_train)               # SVM모델 학습시키기\n",
        "\n",
        "y_pred = svm_model.predict(X_test)            # 모델 예측(테스트)\n",
        "\n",
        "print(classification_report(y_test, y_pred))  # 모델 성능 평가\n",
        "\n",
        "cm = confusion_matrix(y_test, y_pred)         # 오차행렬\n",
        "cm.sum() - np.diag(cm).sum()                  # False인 총 경우의 수"
      ],
      "execution_count": null,
      "outputs": [
        {
          "output_type": "stream",
          "text": [
            "              precision    recall  f1-score   support\n",
            "\n",
            "           0       1.00      0.97      0.98        31\n",
            "           1       0.95      1.00      0.97        38\n",
            "           2       1.00      1.00      1.00        38\n",
            "           3       0.96      0.96      0.96        27\n",
            "           4       0.98      0.98      0.98        41\n",
            "           5       1.00      1.00      1.00        35\n",
            "           6       1.00      1.00      1.00        38\n",
            "           7       1.00      1.00      1.00        34\n",
            "           8       0.97      0.94      0.96        35\n",
            "           9       0.98      0.98      0.98        43\n",
            "\n",
            "    accuracy                           0.98       360\n",
            "   macro avg       0.98      0.98      0.98       360\n",
            "weighted avg       0.98      0.98      0.98       360\n",
            "\n"
          ],
          "name": "stdout"
        },
        {
          "output_type": "execute_result",
          "data": {
            "text/plain": [
              "6"
            ]
          },
          "metadata": {
            "tags": []
          },
          "execution_count": 8
        }
      ]
    },
    {
      "cell_type": "markdown",
      "metadata": {
        "id": "F2IC9a6ezEQV"
      },
      "source": [
        "### 1-4. SGD Classifier"
      ]
    },
    {
      "cell_type": "code",
      "metadata": {
        "colab": {
          "base_uri": "https://localhost:8080/"
        },
        "id": "z26jLIOLzHTa",
        "outputId": "10d2c16a-b5e2-4180-bcd2-66a745c8e8f2"
      },
      "source": [
        "from sklearn.linear_model import SGDClassifier\n",
        "\n",
        "sgd_model = SGDClassifier()    # 모델 로드\n",
        "\n",
        "sgd_model.fit(X_train, y_train)                # 모델 학습\n",
        "\n",
        "y_pred = sgd_model.predict(X_test)             # 모델 예측(테스트)\n",
        "\n",
        "print(classification_report(y_test, y_pred))   # 모델 성능 평가\n",
        "\n",
        "cm = confusion_matrix(y_test, y_pred)          # 오차행렬\n",
        "cm.sum() - np.diag(cm).sum()                   # False인 총 경우의 수"
      ],
      "execution_count": null,
      "outputs": [
        {
          "output_type": "stream",
          "text": [
            "              precision    recall  f1-score   support\n",
            "\n",
            "           0       1.00      0.97      0.98        31\n",
            "           1       0.97      0.89      0.93        38\n",
            "           2       0.97      0.95      0.96        38\n",
            "           3       0.96      0.85      0.90        27\n",
            "           4       0.95      0.98      0.96        41\n",
            "           5       0.97      0.94      0.96        35\n",
            "           6       1.00      0.95      0.97        38\n",
            "           7       0.97      1.00      0.99        34\n",
            "           8       0.80      0.91      0.85        35\n",
            "           9       0.87      0.95      0.91        43\n",
            "\n",
            "    accuracy                           0.94       360\n",
            "   macro avg       0.95      0.94      0.94       360\n",
            "weighted avg       0.95      0.94      0.94       360\n",
            "\n"
          ],
          "name": "stdout"
        },
        {
          "output_type": "execute_result",
          "data": {
            "text/plain": [
              "21"
            ]
          },
          "metadata": {
            "tags": []
          },
          "execution_count": 9
        }
      ]
    },
    {
      "cell_type": "markdown",
      "metadata": {
        "id": "Scikk2YkzYaS"
      },
      "source": [
        "### 1-5. Logistic Regression"
      ]
    },
    {
      "cell_type": "code",
      "metadata": {
        "colab": {
          "base_uri": "https://localhost:8080/"
        },
        "id": "brBeonzdzbHJ",
        "outputId": "6fc6197b-3d0b-4614-fbcd-4accc1c0d8e8"
      },
      "source": [
        "from sklearn.linear_model import LogisticRegression\n",
        "\n",
        "logistic_model = LogisticRegression()         # 모델 로드\n",
        "\n",
        "logistic_model.fit(X_train, y_train)          # 모델 학습\n",
        "\n",
        "y_pred = logistic_model.predict(X_test)       # 모델 예측(테스트)\n",
        "\n",
        "print(classification_report(y_test, y_pred))  # 모델 성능 평가\n",
        "\n",
        "cm = confusion_matrix(y_test, y_pred)         # 오차행렬\n",
        "cm.sum() - np.diag(cm).sum()                  # False인 총 경우의 수"
      ],
      "execution_count": null,
      "outputs": [
        {
          "output_type": "stream",
          "text": [
            "              precision    recall  f1-score   support\n",
            "\n",
            "           0       1.00      1.00      1.00        31\n",
            "           1       0.95      0.97      0.96        38\n",
            "           2       1.00      0.97      0.99        38\n",
            "           3       0.96      0.93      0.94        27\n",
            "           4       0.98      1.00      0.99        41\n",
            "           5       0.97      0.97      0.97        35\n",
            "           6       1.00      0.97      0.99        38\n",
            "           7       1.00      1.00      1.00        34\n",
            "           8       0.92      0.97      0.94        35\n",
            "           9       0.98      0.95      0.96        43\n",
            "\n",
            "    accuracy                           0.97       360\n",
            "   macro avg       0.98      0.97      0.97       360\n",
            "weighted avg       0.98      0.97      0.98       360\n",
            "\n"
          ],
          "name": "stdout"
        },
        {
          "output_type": "stream",
          "text": [
            "/usr/local/lib/python3.7/dist-packages/sklearn/linear_model/_logistic.py:940: ConvergenceWarning: lbfgs failed to converge (status=1):\n",
            "STOP: TOTAL NO. of ITERATIONS REACHED LIMIT.\n",
            "\n",
            "Increase the number of iterations (max_iter) or scale the data as shown in:\n",
            "    https://scikit-learn.org/stable/modules/preprocessing.html\n",
            "Please also refer to the documentation for alternative solver options:\n",
            "    https://scikit-learn.org/stable/modules/linear_model.html#logistic-regression\n",
            "  extra_warning_msg=_LOGISTIC_SOLVER_CONVERGENCE_MSG)\n"
          ],
          "name": "stderr"
        },
        {
          "output_type": "execute_result",
          "data": {
            "text/plain": [
              "9"
            ]
          },
          "metadata": {
            "tags": []
          },
          "execution_count": 10
        }
      ]
    },
    {
      "cell_type": "markdown",
      "metadata": {
        "id": "nRYYpK2wzpwR"
      },
      "source": [
        "### 손글씨 분류 모델 성능 평가\n",
        "\n",
        "손글씨 분류에서 중요한 것은 잘못 인식하는 것을 줄이는 것이다.\n",
        "그래서 FN과 FP인 경우(False)가 제일 적은 모델을 선택한다.\n",
        "\n",
        "![이미지](https://drive.google.com/uc?export=view&id=1J9cvlvhc_AFebfq_K7KKY86l7MPJK-Ls)\n",
        "\n",
        "skelarn.metrics를 사용하여 confusion matrix을 생성하면\n",
        "**confusion matrix의 대각은 True**인 경우이므로,<br>\n",
        "행렬의 총합에서 대각을 제외하면 **False인 총 경우의 수를 서로 비교**할 수 있다.\n",
        "\n",
        "decision tree, random forest, SVM, SGD Classifier, Logistic Regression에서 예측결과가 False인 경우는 각각 57, 8, 6, 21, 9이다.<br>\n",
        "따라서 손글씨 분류모델은 **SVM모델**을 사용하였을 때 성능이 제일 좋다."
      ]
    },
    {
      "cell_type": "markdown",
      "metadata": {
        "id": "xO82bhlXztTW"
      },
      "source": [
        "## 실습2. 와인 분류"
      ]
    },
    {
      "cell_type": "code",
      "metadata": {
        "colab": {
          "base_uri": "https://localhost:8080/"
        },
        "id": "cah6ASOWz0f6",
        "outputId": "8a267d8a-d150-4064-8038-c511c3d9e865"
      },
      "source": [
        "print(wine.DESCR)"
      ],
      "execution_count": null,
      "outputs": [
        {
          "output_type": "stream",
          "text": [
            ".. _wine_dataset:\n",
            "\n",
            "Wine recognition dataset\n",
            "------------------------\n",
            "\n",
            "**Data Set Characteristics:**\n",
            "\n",
            "    :Number of Instances: 178 (50 in each of three classes)\n",
            "    :Number of Attributes: 13 numeric, predictive attributes and the class\n",
            "    :Attribute Information:\n",
            " \t\t- Alcohol\n",
            " \t\t- Malic acid\n",
            " \t\t- Ash\n",
            "\t\t- Alcalinity of ash  \n",
            " \t\t- Magnesium\n",
            "\t\t- Total phenols\n",
            " \t\t- Flavanoids\n",
            " \t\t- Nonflavanoid phenols\n",
            " \t\t- Proanthocyanins\n",
            "\t\t- Color intensity\n",
            " \t\t- Hue\n",
            " \t\t- OD280/OD315 of diluted wines\n",
            " \t\t- Proline\n",
            "\n",
            "    - class:\n",
            "            - class_0\n",
            "            - class_1\n",
            "            - class_2\n",
            "\t\t\n",
            "    :Summary Statistics:\n",
            "    \n",
            "    ============================= ==== ===== ======= =====\n",
            "                                   Min   Max   Mean     SD\n",
            "    ============================= ==== ===== ======= =====\n",
            "    Alcohol:                      11.0  14.8    13.0   0.8\n",
            "    Malic Acid:                   0.74  5.80    2.34  1.12\n",
            "    Ash:                          1.36  3.23    2.36  0.27\n",
            "    Alcalinity of Ash:            10.6  30.0    19.5   3.3\n",
            "    Magnesium:                    70.0 162.0    99.7  14.3\n",
            "    Total Phenols:                0.98  3.88    2.29  0.63\n",
            "    Flavanoids:                   0.34  5.08    2.03  1.00\n",
            "    Nonflavanoid Phenols:         0.13  0.66    0.36  0.12\n",
            "    Proanthocyanins:              0.41  3.58    1.59  0.57\n",
            "    Colour Intensity:              1.3  13.0     5.1   2.3\n",
            "    Hue:                          0.48  1.71    0.96  0.23\n",
            "    OD280/OD315 of diluted wines: 1.27  4.00    2.61  0.71\n",
            "    Proline:                       278  1680     746   315\n",
            "    ============================= ==== ===== ======= =====\n",
            "\n",
            "    :Missing Attribute Values: None\n",
            "    :Class Distribution: class_0 (59), class_1 (71), class_2 (48)\n",
            "    :Creator: R.A. Fisher\n",
            "    :Donor: Michael Marshall (MARSHALL%PLU@io.arc.nasa.gov)\n",
            "    :Date: July, 1988\n",
            "\n",
            "This is a copy of UCI ML Wine recognition datasets.\n",
            "https://archive.ics.uci.edu/ml/machine-learning-databases/wine/wine.data\n",
            "\n",
            "The data is the results of a chemical analysis of wines grown in the same\n",
            "region in Italy by three different cultivators. There are thirteen different\n",
            "measurements taken for different constituents found in the three types of\n",
            "wine.\n",
            "\n",
            "Original Owners: \n",
            "\n",
            "Forina, M. et al, PARVUS - \n",
            "An Extendible Package for Data Exploration, Classification and Correlation. \n",
            "Institute of Pharmaceutical and Food Analysis and Technologies,\n",
            "Via Brigata Salerno, 16147 Genoa, Italy.\n",
            "\n",
            "Citation:\n",
            "\n",
            "Lichman, M. (2013). UCI Machine Learning Repository\n",
            "[https://archive.ics.uci.edu/ml]. Irvine, CA: University of California,\n",
            "School of Information and Computer Science. \n",
            "\n",
            ".. topic:: References\n",
            "\n",
            "  (1) S. Aeberhard, D. Coomans and O. de Vel, \n",
            "  Comparison of Classifiers in High Dimensional Settings, \n",
            "  Tech. Rep. no. 92-02, (1992), Dept. of Computer Science and Dept. of  \n",
            "  Mathematics and Statistics, James Cook University of North Queensland. \n",
            "  (Also submitted to Technometrics). \n",
            "\n",
            "  The data was used with many others for comparing various \n",
            "  classifiers. The classes are separable, though only RDA \n",
            "  has achieved 100% correct classification. \n",
            "  (RDA : 100%, QDA 99.4%, LDA 98.9%, 1NN 96.1% (z-transformed data)) \n",
            "  (All results using the leave-one-out technique) \n",
            "\n",
            "  (2) S. Aeberhard, D. Coomans and O. de Vel, \n",
            "  \"THE CLASSIFICATION PERFORMANCE OF RDA\" \n",
            "  Tech. Rep. no. 92-01, (1992), Dept. of Computer Science and Dept. of \n",
            "  Mathematics and Statistics, James Cook University of North Queensland. \n",
            "  (Also submitted to Journal of Chemometrics).\n",
            "\n"
          ],
          "name": "stdout"
        }
      ]
    },
    {
      "cell_type": "code",
      "metadata": {
        "colab": {
          "base_uri": "https://localhost:8080/"
        },
        "id": "4l3p_9kP2eeI",
        "outputId": "bd0b00a7-0d21-4720-adf1-51d7d3d1fe0b"
      },
      "source": [
        "# label data 지정\n",
        "wine_label = wine.target\n",
        "\n",
        "print(wine_label)\n",
        "print(wine_label.shape)"
      ],
      "execution_count": null,
      "outputs": [
        {
          "output_type": "stream",
          "text": [
            "[0 0 0 0 0 0 0 0 0 0 0 0 0 0 0 0 0 0 0 0 0 0 0 0 0 0 0 0 0 0 0 0 0 0 0 0 0\n",
            " 0 0 0 0 0 0 0 0 0 0 0 0 0 0 0 0 0 0 0 0 0 0 1 1 1 1 1 1 1 1 1 1 1 1 1 1 1\n",
            " 1 1 1 1 1 1 1 1 1 1 1 1 1 1 1 1 1 1 1 1 1 1 1 1 1 1 1 1 1 1 1 1 1 1 1 1 1\n",
            " 1 1 1 1 1 1 1 1 1 1 1 1 1 1 1 1 1 1 1 2 2 2 2 2 2 2 2 2 2 2 2 2 2 2 2 2 2\n",
            " 2 2 2 2 2 2 2 2 2 2 2 2 2 2 2 2 2 2 2 2 2 2 2 2 2 2 2 2 2 2]\n",
            "(178,)\n"
          ],
          "name": "stdout"
        }
      ]
    },
    {
      "cell_type": "code",
      "metadata": {
        "colab": {
          "base_uri": "https://localhost:8080/"
        },
        "id": "B_9K8JwA2UnA",
        "outputId": "8021ee06-aeca-4f45-8818-8f1d05be5fdd"
      },
      "source": [
        "from sklearn.model_selection import train_test_split\n",
        "from sklearn.metrics import classification_report\n",
        "\n",
        "\n",
        "# 데이터셋 분리\n",
        "X_train, X_test, y_train, y_test = train_test_split(wine.data, wine_label, test_size=0.2, random_state=15)\n",
        "\n",
        "print(X_train.shape, y_train.shape)\n",
        "print(X_test.shape, y_test.shape)"
      ],
      "execution_count": null,
      "outputs": [
        {
          "output_type": "stream",
          "text": [
            "(142, 13) (142,)\n",
            "(36, 13) (36,)\n"
          ],
          "name": "stdout"
        }
      ]
    },
    {
      "cell_type": "markdown",
      "metadata": {
        "id": "O8PEcWN32KT5"
      },
      "source": [
        "### 2-1. Decision Tree"
      ]
    },
    {
      "cell_type": "code",
      "metadata": {
        "colab": {
          "base_uri": "https://localhost:8080/"
        },
        "id": "zpCqmx0d2KT6",
        "outputId": "380cdf23-3826-45a0-dc7f-2f1dc417e4b6"
      },
      "source": [
        "from sklearn.tree import DecisionTreeClassifier\n",
        "\n",
        "decision_tree = DecisionTreeClassifier(random_state=32)    # 모델 로드\n",
        "\n",
        "decision_tree.fit(X_train, y_train)                        # 모델 학습\n",
        "\n",
        "y_pred = decision_tree.predict(X_test)                     # 모델 예측(테스트)\n",
        "\n",
        "print(classification_report(y_test, y_pred))               # 성능 평가\n",
        "\n",
        "cm = confusion_matrix(y_test, y_pred)         # 오차행렬\n",
        "cm.sum() - np.diag(cm).sum()                  # False인 총 경우의 수"
      ],
      "execution_count": null,
      "outputs": [
        {
          "output_type": "stream",
          "text": [
            "              precision    recall  f1-score   support\n",
            "\n",
            "           0       1.00      1.00      1.00        12\n",
            "           1       0.85      0.92      0.88        12\n",
            "           2       0.91      0.83      0.87        12\n",
            "\n",
            "    accuracy                           0.92        36\n",
            "   macro avg       0.92      0.92      0.92        36\n",
            "weighted avg       0.92      0.92      0.92        36\n",
            "\n"
          ],
          "name": "stdout"
        },
        {
          "output_type": "execute_result",
          "data": {
            "text/plain": [
              "3"
            ]
          },
          "metadata": {
            "tags": []
          },
          "execution_count": 14
        }
      ]
    },
    {
      "cell_type": "markdown",
      "metadata": {
        "id": "7yjE22IK2KT7"
      },
      "source": [
        "### 2-2. Random forest"
      ]
    },
    {
      "cell_type": "code",
      "metadata": {
        "colab": {
          "base_uri": "https://localhost:8080/"
        },
        "id": "FBrB3fud2KT7",
        "outputId": "f19dc007-c30c-4db0-c4eb-423c5faab547"
      },
      "source": [
        "from sklearn.ensemble import RandomForestClassifier\n",
        "\n",
        "random_forest = RandomForestClassifier(random_state=32)    # 모델 로드\n",
        "\n",
        "random_forest.fit(X_train, y_train)                        # 모델 학습\n",
        "\n",
        "y_pred = random_forest.predict(X_test)                     # 모델 예측(테스트)\n",
        "\n",
        "print(classification_report(y_test, y_pred))               # 성능 평가\n",
        "\n",
        "cm = confusion_matrix(y_test, y_pred)         # 오차행렬\n",
        "cm.sum() - np.diag(cm).sum()                  # False인 총 경우의 수"
      ],
      "execution_count": null,
      "outputs": [
        {
          "output_type": "stream",
          "text": [
            "              precision    recall  f1-score   support\n",
            "\n",
            "           0       1.00      1.00      1.00        12\n",
            "           1       1.00      1.00      1.00        12\n",
            "           2       1.00      1.00      1.00        12\n",
            "\n",
            "    accuracy                           1.00        36\n",
            "   macro avg       1.00      1.00      1.00        36\n",
            "weighted avg       1.00      1.00      1.00        36\n",
            "\n"
          ],
          "name": "stdout"
        },
        {
          "output_type": "execute_result",
          "data": {
            "text/plain": [
              "0"
            ]
          },
          "metadata": {
            "tags": []
          },
          "execution_count": 16
        }
      ]
    },
    {
      "cell_type": "markdown",
      "metadata": {
        "id": "iPm40nLb2KT7"
      },
      "source": [
        "### 2-3. SVM"
      ]
    },
    {
      "cell_type": "code",
      "metadata": {
        "colab": {
          "base_uri": "https://localhost:8080/"
        },
        "id": "r7zqmw6I2KT7",
        "outputId": "e6fc6252-f46d-47ee-976e-08d3c25fb1d7"
      },
      "source": [
        "from sklearn import svm\n",
        "\n",
        "svm_model = svm.SVC()    # SVM모델 로드\n",
        "\n",
        "svm_model.fit(X_train, y_train)               # SVM모델 학습시키기\n",
        "\n",
        "y_pred = svm_model.predict(X_test)            # 모델 예측(테스트)\n",
        "\n",
        "print(classification_report(y_test, y_pred))  # 모델 성능 평가\n",
        "\n",
        "cm = confusion_matrix(y_test, y_pred)         # 오차행렬\n",
        "cm.sum() - np.diag(cm).sum()                  # False인 총 경우의 수"
      ],
      "execution_count": null,
      "outputs": [
        {
          "output_type": "stream",
          "text": [
            "              precision    recall  f1-score   support\n",
            "\n",
            "           0       0.79      0.92      0.85        12\n",
            "           1       0.50      0.92      0.65        12\n",
            "           2       0.00      0.00      0.00        12\n",
            "\n",
            "    accuracy                           0.61        36\n",
            "   macro avg       0.43      0.61      0.50        36\n",
            "weighted avg       0.43      0.61      0.50        36\n",
            "\n"
          ],
          "name": "stdout"
        },
        {
          "output_type": "stream",
          "text": [
            "/usr/local/lib/python3.7/dist-packages/sklearn/metrics/_classification.py:1272: UndefinedMetricWarning: Precision and F-score are ill-defined and being set to 0.0 in labels with no predicted samples. Use `zero_division` parameter to control this behavior.\n",
            "  _warn_prf(average, modifier, msg_start, len(result))\n"
          ],
          "name": "stderr"
        },
        {
          "output_type": "execute_result",
          "data": {
            "text/plain": [
              "14"
            ]
          },
          "metadata": {
            "tags": []
          },
          "execution_count": 18
        }
      ]
    },
    {
      "cell_type": "markdown",
      "metadata": {
        "id": "y5174vLN2KT8"
      },
      "source": [
        "### 2-4. SGD Classifier"
      ]
    },
    {
      "cell_type": "code",
      "metadata": {
        "colab": {
          "base_uri": "https://localhost:8080/"
        },
        "id": "iAW3fHRE2KT8",
        "outputId": "df8aad19-2a09-4a60-c2bd-4855adc36db1"
      },
      "source": [
        "from sklearn.linear_model import SGDClassifier\n",
        "\n",
        "sgd_model = SGDClassifier()    # 모델 로드\n",
        "\n",
        "sgd_model.fit(X_train, y_train)                # 모델 학습\n",
        "\n",
        "y_pred = sgd_model.predict(X_test)             # 모델 예측(테스트)\n",
        "\n",
        "print(classification_report(y_test, y_pred))   # 모델 성능 평가\n",
        "\n",
        "cm = confusion_matrix(y_test, y_pred)         # 오차행렬\n",
        "cm.sum() - np.diag(cm).sum()                  # False인 총 경우의 수"
      ],
      "execution_count": null,
      "outputs": [
        {
          "output_type": "stream",
          "text": [
            "              precision    recall  f1-score   support\n",
            "\n",
            "           0       0.77      0.83      0.80        12\n",
            "           1       0.43      0.83      0.57        12\n",
            "           2       0.00      0.00      0.00        12\n",
            "\n",
            "    accuracy                           0.56        36\n",
            "   macro avg       0.40      0.56      0.46        36\n",
            "weighted avg       0.40      0.56      0.46        36\n",
            "\n"
          ],
          "name": "stdout"
        },
        {
          "output_type": "stream",
          "text": [
            "/usr/local/lib/python3.7/dist-packages/sklearn/metrics/_classification.py:1272: UndefinedMetricWarning: Precision and F-score are ill-defined and being set to 0.0 in labels with no predicted samples. Use `zero_division` parameter to control this behavior.\n",
            "  _warn_prf(average, modifier, msg_start, len(result))\n"
          ],
          "name": "stderr"
        },
        {
          "output_type": "execute_result",
          "data": {
            "text/plain": [
              "16"
            ]
          },
          "metadata": {
            "tags": []
          },
          "execution_count": 19
        }
      ]
    },
    {
      "cell_type": "markdown",
      "metadata": {
        "id": "WbO_hsOO2KT8"
      },
      "source": [
        "### 2-5. Logistic Regression"
      ]
    },
    {
      "cell_type": "code",
      "metadata": {
        "colab": {
          "base_uri": "https://localhost:8080/"
        },
        "id": "g0kqTWy82KT8",
        "outputId": "e3cd0390-351f-4eee-895b-c11cc25df4bf"
      },
      "source": [
        "from sklearn.linear_model import LogisticRegression\n",
        "\n",
        "logistic_model = LogisticRegression()         # 모델 로드\n",
        "\n",
        "logistic_model.fit(X_train, y_train)          # 모델 학습\n",
        "\n",
        "y_pred = logistic_model.predict(X_test)       # 모델 예측(테스트)\n",
        "\n",
        "print(classification_report(y_test, y_pred))  # 모델 성능 평가\n",
        "\n",
        "cm = confusion_matrix(y_test, y_pred)         # 오차행렬\n",
        "cm.sum() - np.diag(cm).sum()                  # False인 총 경우의 수"
      ],
      "execution_count": null,
      "outputs": [
        {
          "output_type": "stream",
          "text": [
            "              precision    recall  f1-score   support\n",
            "\n",
            "           0       1.00      0.92      0.96        12\n",
            "           1       0.86      1.00      0.92        12\n",
            "           2       1.00      0.92      0.96        12\n",
            "\n",
            "    accuracy                           0.94        36\n",
            "   macro avg       0.95      0.94      0.95        36\n",
            "weighted avg       0.95      0.94      0.95        36\n",
            "\n"
          ],
          "name": "stdout"
        },
        {
          "output_type": "stream",
          "text": [
            "/usr/local/lib/python3.7/dist-packages/sklearn/linear_model/_logistic.py:940: ConvergenceWarning: lbfgs failed to converge (status=1):\n",
            "STOP: TOTAL NO. of ITERATIONS REACHED LIMIT.\n",
            "\n",
            "Increase the number of iterations (max_iter) or scale the data as shown in:\n",
            "    https://scikit-learn.org/stable/modules/preprocessing.html\n",
            "Please also refer to the documentation for alternative solver options:\n",
            "    https://scikit-learn.org/stable/modules/linear_model.html#logistic-regression\n",
            "  extra_warning_msg=_LOGISTIC_SOLVER_CONVERGENCE_MSG)\n"
          ],
          "name": "stderr"
        },
        {
          "output_type": "execute_result",
          "data": {
            "text/plain": [
              "2"
            ]
          },
          "metadata": {
            "tags": []
          },
          "execution_count": 20
        }
      ]
    },
    {
      "cell_type": "markdown",
      "metadata": {
        "id": "JbeWkLec3DPN"
      },
      "source": [
        "학습된 모델들의 테스트데이터 예측 결과를 어떻게 해석해야 할까요? 모델의 성능을 평가하는 지표로는 무엇이 좋을까요? sklearn.metrics 에서 제공하는 평가지표 중 적절한 것을 선택해 보세요. 선택하신 이유도 설명해 주세요.\n",
        "\n",
        "\n",
        "### 와인 분류 모델 성능 평가\n",
        "\n",
        "와인 분류에서 중요한 것은 False인 경우를 줄이는 것이라고 생각했다.<br>\n",
        "그래서 confusion matrix의 요소를 직접 더하며 계산해보았을 때 False가 0이었던, 즉 정확도가 100%인 Random Forest모델이 성능이 제일 좋다."
      ]
    },
    {
      "cell_type": "markdown",
      "metadata": {
        "id": "dpW5JKYb3GPl"
      },
      "source": [
        "## 실습3. 유방암 여부 진단"
      ]
    },
    {
      "cell_type": "code",
      "metadata": {
        "colab": {
          "base_uri": "https://localhost:8080/"
        },
        "id": "K59h503Y3QoC",
        "outputId": "8ef1b578-2eb2-49f9-f013-79ed98f08d20"
      },
      "source": [
        "print(cancer.DESCR)"
      ],
      "execution_count": null,
      "outputs": [
        {
          "output_type": "stream",
          "text": [
            ".. _breast_cancer_dataset:\n",
            "\n",
            "Breast cancer wisconsin (diagnostic) dataset\n",
            "--------------------------------------------\n",
            "\n",
            "**Data Set Characteristics:**\n",
            "\n",
            "    :Number of Instances: 569\n",
            "\n",
            "    :Number of Attributes: 30 numeric, predictive attributes and the class\n",
            "\n",
            "    :Attribute Information:\n",
            "        - radius (mean of distances from center to points on the perimeter)\n",
            "        - texture (standard deviation of gray-scale values)\n",
            "        - perimeter\n",
            "        - area\n",
            "        - smoothness (local variation in radius lengths)\n",
            "        - compactness (perimeter^2 / area - 1.0)\n",
            "        - concavity (severity of concave portions of the contour)\n",
            "        - concave points (number of concave portions of the contour)\n",
            "        - symmetry \n",
            "        - fractal dimension (\"coastline approximation\" - 1)\n",
            "\n",
            "        The mean, standard error, and \"worst\" or largest (mean of the three\n",
            "        largest values) of these features were computed for each image,\n",
            "        resulting in 30 features.  For instance, field 3 is Mean Radius, field\n",
            "        13 is Radius SE, field 23 is Worst Radius.\n",
            "\n",
            "        - class:\n",
            "                - WDBC-Malignant\n",
            "                - WDBC-Benign\n",
            "\n",
            "    :Summary Statistics:\n",
            "\n",
            "    ===================================== ====== ======\n",
            "                                           Min    Max\n",
            "    ===================================== ====== ======\n",
            "    radius (mean):                        6.981  28.11\n",
            "    texture (mean):                       9.71   39.28\n",
            "    perimeter (mean):                     43.79  188.5\n",
            "    area (mean):                          143.5  2501.0\n",
            "    smoothness (mean):                    0.053  0.163\n",
            "    compactness (mean):                   0.019  0.345\n",
            "    concavity (mean):                     0.0    0.427\n",
            "    concave points (mean):                0.0    0.201\n",
            "    symmetry (mean):                      0.106  0.304\n",
            "    fractal dimension (mean):             0.05   0.097\n",
            "    radius (standard error):              0.112  2.873\n",
            "    texture (standard error):             0.36   4.885\n",
            "    perimeter (standard error):           0.757  21.98\n",
            "    area (standard error):                6.802  542.2\n",
            "    smoothness (standard error):          0.002  0.031\n",
            "    compactness (standard error):         0.002  0.135\n",
            "    concavity (standard error):           0.0    0.396\n",
            "    concave points (standard error):      0.0    0.053\n",
            "    symmetry (standard error):            0.008  0.079\n",
            "    fractal dimension (standard error):   0.001  0.03\n",
            "    radius (worst):                       7.93   36.04\n",
            "    texture (worst):                      12.02  49.54\n",
            "    perimeter (worst):                    50.41  251.2\n",
            "    area (worst):                         185.2  4254.0\n",
            "    smoothness (worst):                   0.071  0.223\n",
            "    compactness (worst):                  0.027  1.058\n",
            "    concavity (worst):                    0.0    1.252\n",
            "    concave points (worst):               0.0    0.291\n",
            "    symmetry (worst):                     0.156  0.664\n",
            "    fractal dimension (worst):            0.055  0.208\n",
            "    ===================================== ====== ======\n",
            "\n",
            "    :Missing Attribute Values: None\n",
            "\n",
            "    :Class Distribution: 212 - Malignant, 357 - Benign\n",
            "\n",
            "    :Creator:  Dr. William H. Wolberg, W. Nick Street, Olvi L. Mangasarian\n",
            "\n",
            "    :Donor: Nick Street\n",
            "\n",
            "    :Date: November, 1995\n",
            "\n",
            "This is a copy of UCI ML Breast Cancer Wisconsin (Diagnostic) datasets.\n",
            "https://goo.gl/U2Uwz2\n",
            "\n",
            "Features are computed from a digitized image of a fine needle\n",
            "aspirate (FNA) of a breast mass.  They describe\n",
            "characteristics of the cell nuclei present in the image.\n",
            "\n",
            "Separating plane described above was obtained using\n",
            "Multisurface Method-Tree (MSM-T) [K. P. Bennett, \"Decision Tree\n",
            "Construction Via Linear Programming.\" Proceedings of the 4th\n",
            "Midwest Artificial Intelligence and Cognitive Science Society,\n",
            "pp. 97-101, 1992], a classification method which uses linear\n",
            "programming to construct a decision tree.  Relevant features\n",
            "were selected using an exhaustive search in the space of 1-4\n",
            "features and 1-3 separating planes.\n",
            "\n",
            "The actual linear program used to obtain the separating plane\n",
            "in the 3-dimensional space is that described in:\n",
            "[K. P. Bennett and O. L. Mangasarian: \"Robust Linear\n",
            "Programming Discrimination of Two Linearly Inseparable Sets\",\n",
            "Optimization Methods and Software 1, 1992, 23-34].\n",
            "\n",
            "This database is also available through the UW CS ftp server:\n",
            "\n",
            "ftp ftp.cs.wisc.edu\n",
            "cd math-prog/cpo-dataset/machine-learn/WDBC/\n",
            "\n",
            ".. topic:: References\n",
            "\n",
            "   - W.N. Street, W.H. Wolberg and O.L. Mangasarian. Nuclear feature extraction \n",
            "     for breast tumor diagnosis. IS&T/SPIE 1993 International Symposium on \n",
            "     Electronic Imaging: Science and Technology, volume 1905, pages 861-870,\n",
            "     San Jose, CA, 1993.\n",
            "   - O.L. Mangasarian, W.N. Street and W.H. Wolberg. Breast cancer diagnosis and \n",
            "     prognosis via linear programming. Operations Research, 43(4), pages 570-577, \n",
            "     July-August 1995.\n",
            "   - W.H. Wolberg, W.N. Street, and O.L. Mangasarian. Machine learning techniques\n",
            "     to diagnose breast cancer from fine-needle aspirates. Cancer Letters 77 (1994) \n",
            "     163-171.\n"
          ],
          "name": "stdout"
        }
      ]
    },
    {
      "cell_type": "code",
      "metadata": {
        "colab": {
          "base_uri": "https://localhost:8080/"
        },
        "id": "gIRngZP_3QoD",
        "outputId": "d28c3a99-4753-41a6-f456-6ed2e048faab"
      },
      "source": [
        "# label data 지정\n",
        "cancer_label = cancer.target\n",
        "\n",
        "print(cancer_label)\n",
        "print(cancer_label.shape)"
      ],
      "execution_count": null,
      "outputs": [
        {
          "output_type": "stream",
          "text": [
            "[0 0 0 0 0 0 0 0 0 0 0 0 0 0 0 0 0 0 0 1 1 1 0 0 0 0 0 0 0 0 0 0 0 0 0 0 0\n",
            " 1 0 0 0 0 0 0 0 0 1 0 1 1 1 1 1 0 0 1 0 0 1 1 1 1 0 1 0 0 1 1 1 1 0 1 0 0\n",
            " 1 0 1 0 0 1 1 1 0 0 1 0 0 0 1 1 1 0 1 1 0 0 1 1 1 0 0 1 1 1 1 0 1 1 0 1 1\n",
            " 1 1 1 1 1 1 0 0 0 1 0 0 1 1 1 0 0 1 0 1 0 0 1 0 0 1 1 0 1 1 0 1 1 1 1 0 1\n",
            " 1 1 1 1 1 1 1 1 0 1 1 1 1 0 0 1 0 1 1 0 0 1 1 0 0 1 1 1 1 0 1 1 0 0 0 1 0\n",
            " 1 0 1 1 1 0 1 1 0 0 1 0 0 0 0 1 0 0 0 1 0 1 0 1 1 0 1 0 0 0 0 1 1 0 0 1 1\n",
            " 1 0 1 1 1 1 1 0 0 1 1 0 1 1 0 0 1 0 1 1 1 1 0 1 1 1 1 1 0 1 0 0 0 0 0 0 0\n",
            " 0 0 0 0 0 0 0 1 1 1 1 1 1 0 1 0 1 1 0 1 1 0 1 0 0 1 1 1 1 1 1 1 1 1 1 1 1\n",
            " 1 0 1 1 0 1 0 1 1 1 1 1 1 1 1 1 1 1 1 1 1 0 1 1 1 0 1 0 1 1 1 1 0 0 0 1 1\n",
            " 1 1 0 1 0 1 0 1 1 1 0 1 1 1 1 1 1 1 0 0 0 1 1 1 1 1 1 1 1 1 1 1 0 0 1 0 0\n",
            " 0 1 0 0 1 1 1 1 1 0 1 1 1 1 1 0 1 1 1 0 1 1 0 0 1 1 1 1 1 1 0 1 1 1 1 1 1\n",
            " 1 0 1 1 1 1 1 0 1 1 0 1 1 1 1 1 1 1 1 1 1 1 1 0 1 0 0 1 0 1 1 1 1 1 0 1 1\n",
            " 0 1 0 1 1 0 1 0 1 1 1 1 1 1 1 1 0 0 1 1 1 1 1 1 0 1 1 1 1 1 1 1 1 1 1 0 1\n",
            " 1 1 1 1 1 1 0 1 0 1 1 0 1 1 1 1 1 0 0 1 0 1 0 1 1 1 1 1 0 1 1 0 1 0 1 0 0\n",
            " 1 1 1 0 1 1 1 1 1 1 1 1 1 1 1 0 1 0 0 1 1 1 1 1 1 1 1 1 1 1 1 1 1 1 1 1 1\n",
            " 1 1 1 1 1 1 1 0 0 0 0 0 0 1]\n",
            "(569,)\n"
          ],
          "name": "stdout"
        }
      ]
    },
    {
      "cell_type": "code",
      "metadata": {
        "colab": {
          "base_uri": "https://localhost:8080/"
        },
        "id": "jUE2IYaF3QoD",
        "outputId": "ca354b4e-9575-423d-a758-978cff7c578d"
      },
      "source": [
        "from sklearn.model_selection import train_test_split\n",
        "from sklearn.metrics import classification_report\n",
        "\n",
        "\n",
        "# 데이터셋 분리\n",
        "X_train, X_test, y_train, y_test = train_test_split(cancer.data, cancer_label, test_size=0.2, random_state=15)\n",
        "\n",
        "print(X_train.shape, y_train.shape)\n",
        "print(X_test.shape, y_test.shape)"
      ],
      "execution_count": null,
      "outputs": [
        {
          "output_type": "stream",
          "text": [
            "(455, 30) (455,)\n",
            "(114, 30) (114,)\n"
          ],
          "name": "stdout"
        }
      ]
    },
    {
      "cell_type": "markdown",
      "metadata": {
        "id": "VN6S0MtI3QoE"
      },
      "source": [
        "### 3-1. Decision Tree"
      ]
    },
    {
      "cell_type": "code",
      "metadata": {
        "colab": {
          "base_uri": "https://localhost:8080/"
        },
        "id": "cPdbxZqM3QoE",
        "outputId": "da9f7c12-074e-4a41-d958-9b7b6fb0d580"
      },
      "source": [
        "from sklearn.tree import DecisionTreeClassifier\n",
        "\n",
        "decision_tree = DecisionTreeClassifier(random_state=32)    # 모델 로드\n",
        "\n",
        "decision_tree.fit(X_train, y_train)                        # 모델 학습\n",
        "\n",
        "y_pred = decision_tree.predict(X_test)                     # 모델 예측(테스트)\n",
        "\n",
        "print(classification_report(y_test, y_pred))               # 성능 평가"
      ],
      "execution_count": null,
      "outputs": [
        {
          "output_type": "stream",
          "text": [
            "              precision    recall  f1-score   support\n",
            "\n",
            "           0       0.97      0.87      0.92        39\n",
            "           1       0.94      0.99      0.96        75\n",
            "\n",
            "    accuracy                           0.95       114\n",
            "   macro avg       0.95      0.93      0.94       114\n",
            "weighted avg       0.95      0.95      0.95       114\n",
            "\n"
          ],
          "name": "stdout"
        }
      ]
    },
    {
      "cell_type": "markdown",
      "metadata": {
        "id": "dFvOasAT3QoF"
      },
      "source": [
        "### 3-2. Random forest"
      ]
    },
    {
      "cell_type": "code",
      "metadata": {
        "colab": {
          "base_uri": "https://localhost:8080/"
        },
        "id": "Yn51zDCX3QoF",
        "outputId": "1f8a52c6-9e41-40a1-d232-abbbdac655a7"
      },
      "source": [
        "from sklearn.ensemble import RandomForestClassifier\n",
        "\n",
        "random_forest = RandomForestClassifier(random_state=32)    # 모델 로드\n",
        "\n",
        "random_forest.fit(X_train, y_train)                        # 모델 학습\n",
        "\n",
        "y_pred = random_forest.predict(X_test)                     # 모델 예측(테스트)\n",
        "\n",
        "print(classification_report(y_test, y_pred))               # 성능 평가"
      ],
      "execution_count": null,
      "outputs": [
        {
          "output_type": "stream",
          "text": [
            "              precision    recall  f1-score   support\n",
            "\n",
            "           0       0.94      0.87      0.91        39\n",
            "           1       0.94      0.97      0.95        75\n",
            "\n",
            "    accuracy                           0.94       114\n",
            "   macro avg       0.94      0.92      0.93       114\n",
            "weighted avg       0.94      0.94      0.94       114\n",
            "\n"
          ],
          "name": "stdout"
        }
      ]
    },
    {
      "cell_type": "markdown",
      "metadata": {
        "id": "SPZuQq7s3QoF"
      },
      "source": [
        "### 3-3. SVM"
      ]
    },
    {
      "cell_type": "code",
      "metadata": {
        "colab": {
          "base_uri": "https://localhost:8080/"
        },
        "id": "1Z24-oeL3QoG",
        "outputId": "ffcaeb87-f22e-4053-dcfc-3a955b1f45bb"
      },
      "source": [
        "from sklearn import svm\n",
        "\n",
        "svm_model = svm.SVC()    # SVM모델 로드\n",
        "\n",
        "svm_model.fit(X_train, y_train)               # SVM모델 학습시키기\n",
        "\n",
        "y_pred = svm_model.predict(X_test)            # 모델 예측(테스트)\n",
        "\n",
        "print(classification_report(y_test, y_pred))  # 모델 성능 평가"
      ],
      "execution_count": null,
      "outputs": [
        {
          "output_type": "stream",
          "text": [
            "              precision    recall  f1-score   support\n",
            "\n",
            "           0       0.93      0.67      0.78        39\n",
            "           1       0.85      0.97      0.91        75\n",
            "\n",
            "    accuracy                           0.87       114\n",
            "   macro avg       0.89      0.82      0.84       114\n",
            "weighted avg       0.88      0.87      0.86       114\n",
            "\n"
          ],
          "name": "stdout"
        }
      ]
    },
    {
      "cell_type": "markdown",
      "metadata": {
        "id": "sbzeGep-3QoG"
      },
      "source": [
        "### 3-4. SGD Classifier"
      ]
    },
    {
      "cell_type": "code",
      "metadata": {
        "colab": {
          "base_uri": "https://localhost:8080/"
        },
        "id": "3MbjYGpr3QoH",
        "outputId": "139f639b-6fbe-4dab-a721-116501c2ea6e"
      },
      "source": [
        "from sklearn.linear_model import SGDClassifier\n",
        "\n",
        "sgd_model = SGDClassifier()    # 모델 로드\n",
        "\n",
        "sgd_model.fit(X_train, y_train)                # 모델 학습\n",
        "\n",
        "y_pred = sgd_model.predict(X_test)             # 모델 예측(테스트)\n",
        "\n",
        "print(classification_report(y_test, y_pred))   # 모델 성능 평가"
      ],
      "execution_count": null,
      "outputs": [
        {
          "output_type": "stream",
          "text": [
            "              precision    recall  f1-score   support\n",
            "\n",
            "           0       1.00      0.36      0.53        39\n",
            "           1       0.75      1.00      0.86        75\n",
            "\n",
            "    accuracy                           0.78       114\n",
            "   macro avg       0.88      0.68      0.69       114\n",
            "weighted avg       0.84      0.78      0.74       114\n",
            "\n"
          ],
          "name": "stdout"
        }
      ]
    },
    {
      "cell_type": "markdown",
      "metadata": {
        "id": "PHdPTq7k3QoH"
      },
      "source": [
        "### 3-5. Logistic Regression"
      ]
    },
    {
      "cell_type": "code",
      "metadata": {
        "colab": {
          "base_uri": "https://localhost:8080/"
        },
        "id": "_a6PaTx33QoH",
        "outputId": "b02a3e48-258b-4940-9c19-92483ed8404f"
      },
      "source": [
        "from sklearn.linear_model import LogisticRegression\n",
        "\n",
        "logistic_model = LogisticRegression()         # 모델 로드\n",
        "\n",
        "logistic_model.fit(X_train, y_train)          # 모델 학습\n",
        "\n",
        "y_pred = logistic_model.predict(X_test)       # 모델 예측(테스트)\n",
        "\n",
        "print(classification_report(y_test, y_pred))  # 모델 성능 평가"
      ],
      "execution_count": null,
      "outputs": [
        {
          "output_type": "stream",
          "text": [
            "              precision    recall  f1-score   support\n",
            "\n",
            "           0       0.85      0.85      0.85        39\n",
            "           1       0.92      0.92      0.92        75\n",
            "\n",
            "    accuracy                           0.89       114\n",
            "   macro avg       0.88      0.88      0.88       114\n",
            "weighted avg       0.89      0.89      0.89       114\n",
            "\n"
          ],
          "name": "stdout"
        },
        {
          "output_type": "stream",
          "text": [
            "/usr/local/lib/python3.7/dist-packages/sklearn/linear_model/_logistic.py:940: ConvergenceWarning: lbfgs failed to converge (status=1):\n",
            "STOP: TOTAL NO. of ITERATIONS REACHED LIMIT.\n",
            "\n",
            "Increase the number of iterations (max_iter) or scale the data as shown in:\n",
            "    https://scikit-learn.org/stable/modules/preprocessing.html\n",
            "Please also refer to the documentation for alternative solver options:\n",
            "    https://scikit-learn.org/stable/modules/linear_model.html#logistic-regression\n",
            "  extra_warning_msg=_LOGISTIC_SOLVER_CONVERGENCE_MSG)\n"
          ],
          "name": "stderr"
        }
      ]
    },
    {
      "cell_type": "markdown",
      "metadata": {
        "id": "CkcJLQOD3QoH"
      },
      "source": [
        "학습된 모델들의 테스트데이터 예측 결과를 어떻게 해석해야 할까요? 모델의 성능을 평가하는 지표로는 무엇이 좋을까요? sklearn.metrics 에서 제공하는 평가지표 중 적절한 것을 선택해 보세요. 선택하신 이유도 설명해 주세요.\n",
        "\n",
        "\n",
        "### 유방암 여부 진단 모델 성능 평가\n",
        "\n",
        "유방암 진단에서 중요한 것은 유방암 환자를 정상인으로 판단하는 오류(FP)를 줄이는 것이다.<br>\n",
        "FP가 작을수록 커지는 precision척도를 사용해서 모델의 성능을 비교해보자.<br>\n",
        "\n",
        "decision tree, random forest, SVM, SGD Classifier, Logistic Regression  중 precision의 avg값이 제일 큰 **decision tree 모델**을 선택하는 것이 좋다."
      ]
    },
    {
      "cell_type": "markdown",
      "metadata": {
        "id": "cVH3pWHz-8aN"
      },
      "source": [
        "이번 기회에 decision tree, SVM, random forest에 대해 어느정도 이해하게 되었고, 데이터의 특성마다 평가방식을 달리해야한다는 것과 각 데이터마다 성능이 좋은 모델이 다른 것이 흥미로웠다. 단지 sklearn에서 제공하는 모델을 학습시킬 때 내부적으로 어떻게 동작하는 지 더 알아보고 싶다."
      ]
    }
  ]
}