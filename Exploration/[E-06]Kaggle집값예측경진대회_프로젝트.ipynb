{
  "nbformat": 4,
  "nbformat_minor": 0,
  "metadata": {
    "colab": {
      "name": "[E-06]Kaggle집값예측경진대회_프로젝트.ipynb",
      "provenance": [],
      "collapsed_sections": [
        "u3aNJKaL6EZx"
      ],
      "toc_visible": true,
      "include_colab_link": true
    },
    "kernelspec": {
      "name": "python3",
      "display_name": "Python 3"
    },
    "language_info": {
      "name": "python"
    }
  },
  "cells": [
    {
      "cell_type": "markdown",
      "metadata": {
        "id": "view-in-github",
        "colab_type": "text"
      },
      "source": [
        "<a href=\"https://colab.research.google.com/github/Beatriz-Yun/AIFFEL_LMS/blob/main/Exploration/%5BE-06%5DKaggle%EC%A7%91%EA%B0%92%EC%98%88%EC%B8%A1%EA%B2%BD%EC%A7%84%EB%8C%80%ED%9A%8C_%ED%94%84%EB%A1%9C%EC%A0%9D%ED%8A%B8.ipynb\" target=\"_parent\"><img src=\"https://colab.research.google.com/assets/colab-badge.svg\" alt=\"Open In Colab\"/></a>"
      ]
    },
    {
      "cell_type": "markdown",
      "metadata": {
        "id": "ca3daMw9peEA"
      },
      "source": [
        "# [캐글 코리아와 함께하는 2nd ML 대회 - House Price Prediction](https://www.kaggle.com/c/2019-2nd-ml-month-with-kakr/overview)"
      ]
    },
    {
      "cell_type": "code",
      "metadata": {
        "colab": {
          "base_uri": "https://localhost:8080/"
        },
        "id": "ylFYTR2xgvPW",
        "outputId": "d4d77c12-10c1-4867-b9a1-ae44927f35c8"
      },
      "source": [
        "from google.colab import drive\n",
        "drive.mount('/content/drive')"
      ],
      "execution_count": 59,
      "outputs": [
        {
          "output_type": "stream",
          "text": [
            "Drive already mounted at /content/drive; to attempt to forcibly remount, call drive.mount(\"/content/drive\", force_remount=True).\n"
          ],
          "name": "stdout"
        }
      ]
    },
    {
      "cell_type": "markdown",
      "metadata": {
        "id": "KH1gtoUut5zS"
      },
      "source": [
        "모델의 성능을 최대화하기 위해서는 이전에 진행한 하이퍼파라미터 튜닝 뿐아니라<br>\n",
        "**EDA과정을 통한 feature engineering**으로 데이터를 정제하는 것도 매우 중요하다.\n",
        "\n",
        "<br>\n",
        "\n",
        "튜닝은 다양한 최적화 방법론 중 하나라는 것을 알아둬야 한다."
      ]
    },
    {
      "cell_type": "markdown",
      "metadata": {
        "id": "u3aNJKaL6EZx"
      },
      "source": [
        "# 목차 \n",
        "### 1. 데이터 탐색\n",
        "    - 문제 정의\n",
        "    - 변수 설명\n",
        "    - 시각화 \n",
        "    - 이상치 및 결측치 확인\n",
        "    - 유니크 갯수\n",
        "### 2. 데이터 전처리\n",
        "    - 이상치 및 결측치 처리\n",
        "    - 정규화\n",
        "### 3. 변수 생성\n",
        "### 4. 모델링 \n",
        "    - 회귀\n",
        "    - GBM ( LGB/XGB )\n",
        "    - 앙생블 \n",
        "### 5. 잔차분석 \n",
        "\n",
        "<br><br>\n",
        "\n",
        "---\n",
        "\n"
      ]
    },
    {
      "cell_type": "markdown",
      "metadata": {
        "id": "mizIALi56Ecv"
      },
      "source": [
        "# 1.데이터 탐색"
      ]
    },
    {
      "cell_type": "markdown",
      "metadata": {
        "id": "uBtckcEo8iLR"
      },
      "source": [
        "## 1.1 문제 정의 \n",
        "이번 데이터의 목적은 집의 정보를 가지고 가격을 예측하는 회귀문제 입니다. \n",
        "\n",
        "평가로는 RMSE를 사용합니다. "
      ]
    },
    {
      "cell_type": "code",
      "metadata": {
        "id": "W0tW5-bXKq_n"
      },
      "source": [
        "import pandas as pd                     # Analysis \n",
        "import matplotlib.pyplot as plt         # Visulization\n",
        "import seaborn as sns                   # Visulization\n",
        "import numpy as np                      # Analysis \n",
        "from scipy.stats import norm            # Analysis \n",
        "from sklearn.preprocessing import StandardScaler # Analysis \n",
        "from scipy import stats                 # Analysis \n",
        "import warnings \n",
        "warnings.filterwarnings('ignore')\n",
        "%matplotlib inline\n",
        "import gc\n",
        "\n",
        "\n",
        "import os\n",
        "from os.path import join\n",
        "import missingno as msno\n",
        "from xgboost import XGBRegressor\n",
        "from lightgbm import LGBMRegressor\n",
        "from sklearn.ensemble import GradientBoostingRegressor, RandomForestRegressor\n",
        "from sklearn.model_selection import KFold, cross_val_score, train_test_split\n",
        "from sklearn.metrics import mean_squared_error\n",
        "import xgboost as xgb\n",
        "import lightgbm as lgb\n",
        "from sklearn.model_selection import GridSearchCV"
      ],
      "execution_count": 60,
      "outputs": []
    },
    {
      "cell_type": "code",
      "metadata": {
        "id": "ZReyqvfu7L1Q",
        "colab": {
          "base_uri": "https://localhost:8080/"
        },
        "outputId": "e360fdab-44bd-473c-ce14-0e005296e4b1"
      },
      "source": [
        "base_path = '/content/drive/MyDrive/Colab Notebooks/AIFFEL_LMS/data'\n",
        "train_data_path = join(base_path, 'train.csv')\n",
        "test_data_path = join(base_path, 'test.csv')\n",
        "\n",
        "data = pd.read_csv(train_data_path)\n",
        "test = pd.read_csv(test_data_path)\n",
        "\n",
        "print('train data dim : {}'.format(data.shape))\n",
        "print('test data dim : {}'.format(test.shape))"
      ],
      "execution_count": 61,
      "outputs": [
        {
          "output_type": "stream",
          "text": [
            "train data dim : (15035, 21)\n",
            "test data dim : (6468, 20)\n"
          ],
          "name": "stdout"
        }
      ]
    },
    {
      "cell_type": "markdown",
      "metadata": {
        "id": "Zsf6FNay0YYc"
      },
      "source": [
        "## 1.2 변수 정의\n",
        "\n",
        "**Data fields**\n",
        "1. ID : 집을 구분하는 번호\n",
        "2. date : 집을 구매한 날짜\n",
        "3. price : 집의 가격(Target variable)\n",
        "4. bedrooms : 침실의 수\n",
        "5. bathrooms : 화장실의 수\n",
        "6. sqft_living : 주거 공간의 평방 피트(면적)\n",
        "7. sqft_lot : 부지의 평방 피트(면적)\n",
        "8. floors : 집의 층 수\n",
        "9. waterfront : 집의 전방에 강이 흐르는지 유무 (a.k.a. 리버뷰)\n",
        "10. view : 집이 얼마나 좋아 보이는지의 정도\n",
        "11. condition : 집의 전반적인 상태\n",
        "12. grade : King County grading 시스템 기준으로 매긴 집의 등급\n",
        "13. sqft_above : 지하실을 제외한 평방 피트(면적)\n",
        "14. sqft_basement : 지하실의 평방 피트(면적)\n",
        "15. yr_built : 지어진 년도\n",
        "16. yr_renovated : 집을 재건축한 년도\n",
        "17. zipcode : 우편번호\n",
        "18. lat : 위도\n",
        "19. long : 경도\n",
        "20. sqft_living15 : 2015년 기준 주거 공간의 평방 피트(면적, 집을 재건축했다면, 변화가 있을 수 있음)\n",
        "21. sqft_lot15 : 2015년 기준 부지의 평방 피트(면적, 집을 재건축했다면, 변화가 있을 수 있음)\n",
        "\n",
        "👉 우리가 예측해야 되는 값은 'price'이다."
      ]
    },
    {
      "cell_type": "code",
      "metadata": {
        "colab": {
          "base_uri": "https://localhost:8080/",
          "height": 224
        },
        "id": "DJUEPoozm_0S",
        "outputId": "51025c4f-d1f9-459c-ef1e-94fab54793c5"
      },
      "source": [
        "data.head()"
      ],
      "execution_count": 62,
      "outputs": [
        {
          "output_type": "execute_result",
          "data": {
            "text/html": [
              "<div>\n",
              "<style scoped>\n",
              "    .dataframe tbody tr th:only-of-type {\n",
              "        vertical-align: middle;\n",
              "    }\n",
              "\n",
              "    .dataframe tbody tr th {\n",
              "        vertical-align: top;\n",
              "    }\n",
              "\n",
              "    .dataframe thead th {\n",
              "        text-align: right;\n",
              "    }\n",
              "</style>\n",
              "<table border=\"1\" class=\"dataframe\">\n",
              "  <thead>\n",
              "    <tr style=\"text-align: right;\">\n",
              "      <th></th>\n",
              "      <th>id</th>\n",
              "      <th>date</th>\n",
              "      <th>price</th>\n",
              "      <th>bedrooms</th>\n",
              "      <th>bathrooms</th>\n",
              "      <th>sqft_living</th>\n",
              "      <th>sqft_lot</th>\n",
              "      <th>floors</th>\n",
              "      <th>waterfront</th>\n",
              "      <th>view</th>\n",
              "      <th>condition</th>\n",
              "      <th>grade</th>\n",
              "      <th>sqft_above</th>\n",
              "      <th>sqft_basement</th>\n",
              "      <th>yr_built</th>\n",
              "      <th>yr_renovated</th>\n",
              "      <th>zipcode</th>\n",
              "      <th>lat</th>\n",
              "      <th>long</th>\n",
              "      <th>sqft_living15</th>\n",
              "      <th>sqft_lot15</th>\n",
              "    </tr>\n",
              "  </thead>\n",
              "  <tbody>\n",
              "    <tr>\n",
              "      <th>0</th>\n",
              "      <td>0</td>\n",
              "      <td>20141013T000000</td>\n",
              "      <td>221900.0</td>\n",
              "      <td>3</td>\n",
              "      <td>1.00</td>\n",
              "      <td>1180</td>\n",
              "      <td>5650</td>\n",
              "      <td>1.0</td>\n",
              "      <td>0</td>\n",
              "      <td>0</td>\n",
              "      <td>3</td>\n",
              "      <td>7</td>\n",
              "      <td>1180</td>\n",
              "      <td>0</td>\n",
              "      <td>1955</td>\n",
              "      <td>0</td>\n",
              "      <td>98178</td>\n",
              "      <td>47.5112</td>\n",
              "      <td>-122.257</td>\n",
              "      <td>1340</td>\n",
              "      <td>5650</td>\n",
              "    </tr>\n",
              "    <tr>\n",
              "      <th>1</th>\n",
              "      <td>1</td>\n",
              "      <td>20150225T000000</td>\n",
              "      <td>180000.0</td>\n",
              "      <td>2</td>\n",
              "      <td>1.00</td>\n",
              "      <td>770</td>\n",
              "      <td>10000</td>\n",
              "      <td>1.0</td>\n",
              "      <td>0</td>\n",
              "      <td>0</td>\n",
              "      <td>3</td>\n",
              "      <td>6</td>\n",
              "      <td>770</td>\n",
              "      <td>0</td>\n",
              "      <td>1933</td>\n",
              "      <td>0</td>\n",
              "      <td>98028</td>\n",
              "      <td>47.7379</td>\n",
              "      <td>-122.233</td>\n",
              "      <td>2720</td>\n",
              "      <td>8062</td>\n",
              "    </tr>\n",
              "    <tr>\n",
              "      <th>2</th>\n",
              "      <td>2</td>\n",
              "      <td>20150218T000000</td>\n",
              "      <td>510000.0</td>\n",
              "      <td>3</td>\n",
              "      <td>2.00</td>\n",
              "      <td>1680</td>\n",
              "      <td>8080</td>\n",
              "      <td>1.0</td>\n",
              "      <td>0</td>\n",
              "      <td>0</td>\n",
              "      <td>3</td>\n",
              "      <td>8</td>\n",
              "      <td>1680</td>\n",
              "      <td>0</td>\n",
              "      <td>1987</td>\n",
              "      <td>0</td>\n",
              "      <td>98074</td>\n",
              "      <td>47.6168</td>\n",
              "      <td>-122.045</td>\n",
              "      <td>1800</td>\n",
              "      <td>7503</td>\n",
              "    </tr>\n",
              "    <tr>\n",
              "      <th>3</th>\n",
              "      <td>3</td>\n",
              "      <td>20140627T000000</td>\n",
              "      <td>257500.0</td>\n",
              "      <td>3</td>\n",
              "      <td>2.25</td>\n",
              "      <td>1715</td>\n",
              "      <td>6819</td>\n",
              "      <td>2.0</td>\n",
              "      <td>0</td>\n",
              "      <td>0</td>\n",
              "      <td>3</td>\n",
              "      <td>7</td>\n",
              "      <td>1715</td>\n",
              "      <td>0</td>\n",
              "      <td>1995</td>\n",
              "      <td>0</td>\n",
              "      <td>98003</td>\n",
              "      <td>47.3097</td>\n",
              "      <td>-122.327</td>\n",
              "      <td>2238</td>\n",
              "      <td>6819</td>\n",
              "    </tr>\n",
              "    <tr>\n",
              "      <th>4</th>\n",
              "      <td>4</td>\n",
              "      <td>20150115T000000</td>\n",
              "      <td>291850.0</td>\n",
              "      <td>3</td>\n",
              "      <td>1.50</td>\n",
              "      <td>1060</td>\n",
              "      <td>9711</td>\n",
              "      <td>1.0</td>\n",
              "      <td>0</td>\n",
              "      <td>0</td>\n",
              "      <td>3</td>\n",
              "      <td>7</td>\n",
              "      <td>1060</td>\n",
              "      <td>0</td>\n",
              "      <td>1963</td>\n",
              "      <td>0</td>\n",
              "      <td>98198</td>\n",
              "      <td>47.4095</td>\n",
              "      <td>-122.315</td>\n",
              "      <td>1650</td>\n",
              "      <td>9711</td>\n",
              "    </tr>\n",
              "  </tbody>\n",
              "</table>\n",
              "</div>"
            ],
            "text/plain": [
              "   id             date     price  ...     long  sqft_living15  sqft_lot15\n",
              "0   0  20141013T000000  221900.0  ... -122.257           1340        5650\n",
              "1   1  20150225T000000  180000.0  ... -122.233           2720        8062\n",
              "2   2  20150218T000000  510000.0  ... -122.045           1800        7503\n",
              "3   3  20140627T000000  257500.0  ... -122.327           2238        6819\n",
              "4   4  20150115T000000  291850.0  ... -122.315           1650        9711\n",
              "\n",
              "[5 rows x 21 columns]"
            ]
          },
          "metadata": {
            "tags": []
          },
          "execution_count": 62
        }
      ]
    },
    {
      "cell_type": "markdown",
      "metadata": {
        "id": "IBuErauinPTW"
      },
      "source": [
        "- date의 경우 yyyy-mm-dd + T000000의 형태로 저희가 필요한 부분은 앞의 8자리 입니다. \n",
        "- bathrooms의 경우 소숫점의 값이 보이는데, 이는 미국의 기준에 따른 것입니다. 자세한 내용은 아래 부분에 나옵니다. \n",
        "- yr_renovated의 경우 0의 값이 보이는데, 0년도에 재건축이 되었다는 의미가 아니라 재건축을 하지 않았다는 의미입니다. \n",
        "- sqft_living 과 sqft_living15처럼 비슷한 값이 보입니다. 둘은 15년도를 기준으로 크기 계산의 기준에 따라 다른 값을 보입니다. 둘의 차이가 꽤 큰 부분도 있어서 이를 잘 활용해야 할 것 같습니다. \n",
        "\n",
        "head를 통해서는 이 정도로 가볍게 변수를 이해해보고 하나하나 변수를 살펴보면서 전처리해야 할 부분과 피쳐 엔지니어링을 할 아이디어를 고민해보겠습니다. "
      ]
    },
    {
      "cell_type": "markdown",
      "metadata": {
        "id": "63mkv0Qy6Enj"
      },
      "source": [
        "## 1.3 시각화"
      ]
    },
    {
      "cell_type": "markdown",
      "metadata": {
        "id": "oHMVly2QoBqW"
      },
      "source": [
        "### 1) 목적 변수(price) 시각화"
      ]
    },
    {
      "cell_type": "code",
      "metadata": {
        "colab": {
          "base_uri": "https://localhost:8080/"
        },
        "id": "rXNWCzB5nXzz",
        "outputId": "bf499c8e-a80b-4db4-f54e-67701032aa37"
      },
      "source": [
        "# 통계 수치\n",
        "data['price'].describe()"
      ],
      "execution_count": 63,
      "outputs": [
        {
          "output_type": "execute_result",
          "data": {
            "text/plain": [
              "count    1.503500e+04\n",
              "mean     5.406827e+05\n",
              "std      3.715247e+05\n",
              "min      7.800000e+04\n",
              "25%      3.220000e+05\n",
              "50%      4.500000e+05\n",
              "75%      6.450000e+05\n",
              "max      7.700000e+06\n",
              "Name: price, dtype: float64"
            ]
          },
          "metadata": {
            "tags": []
          },
          "execution_count": 63
        }
      ]
    },
    {
      "cell_type": "markdown",
      "metadata": {
        "id": "jpO9EUxxoqmp"
      },
      "source": [
        "목적변수의 경우 min과 max의 차이가 크고, std가 굉장히 큰 편입니다.<br>\n",
        "아래의 히스토그램을 보면 더 명확하겠지만 **왼쪽으로 분포가 굉장히 치우친 것**을 알 수 있습니다."
      ]
    },
    {
      "cell_type": "code",
      "metadata": {
        "colab": {
          "base_uri": "https://localhost:8080/",
          "height": 432
        },
        "id": "N6zn5UrDoOKG",
        "outputId": "0896c175-f814-4e3b-d88f-a4df243443e0"
      },
      "source": [
        "#histogram\n",
        "f, ax = plt.subplots(figsize=(8, 6))\n",
        "sns.distplot(data['price'])"
      ],
      "execution_count": 64,
      "outputs": [
        {
          "output_type": "execute_result",
          "data": {
            "text/plain": [
              "<matplotlib.axes._subplots.AxesSubplot at 0x7f50e0565210>"
            ]
          },
          "metadata": {
            "tags": []
          },
          "execution_count": 64
        },
        {
          "output_type": "display_data",
          "data": {
            "image/png": "[encoded data removed]",
            "text/plain": [
              "<Figure size 576x432 with 1 Axes>"
            ]
          },
          "metadata": {
            "tags": [],
            "needs_background": "light"
          }
        }
      ]
    },
    {
      "cell_type": "markdown",
      "metadata": {
        "id": "z4gOMoBFo86k"
      },
      "source": [
        "- 왜도 : 오른쪽 꼬리가 길수록 값이 더 큽니다. \n",
        "- 첨도 (kurtosis / kurtosis) : 첨도 값 (K)이 3에 가까울 경우, scatter은 정규 분포에 가깝습니다. (K <3), 분포가 정규 분포보다 더 평탄하게 평탄하다고 판단 할 수 있으며, 첨도가 3보다 큰 양수인 경우 (K> 3), 분포가보다 뾰족한 분포로 간주 할 수 있습니다. "
      ]
    },
    {
      "cell_type": "code",
      "metadata": {
        "colab": {
          "base_uri": "https://localhost:8080/"
        },
        "id": "rfahXdw9pAXE",
        "outputId": "cc216ef9-2af7-45a9-afdf-51e1cef2654b"
      },
      "source": [
        "#왜도와 첨도\n",
        "print(\"Skewness(왜도): %f\" % data['price'].skew())\n",
        "print(\"Kurtosis(첨도): %f\" % data['price'].kurt())"
      ],
      "execution_count": 65,
      "outputs": [
        {
          "output_type": "stream",
          "text": [
            "Skewness(왜도): 4.290252\n",
            "Kurtosis(첨도): 40.154919\n"
          ],
          "name": "stdout"
        }
      ]
    },
    {
      "cell_type": "markdown",
      "metadata": {
        "id": "JlSt24Dvq2oj"
      },
      "source": [
        "target 변수인 'price'의 경우 첨도, 왜도도 굉장히 정규분포를 따르지않고, 분산 또한 매우 큰 것을 확인할 수 있었습니다. <br>\n",
        "저는 회귀모델을 사용할 것이기 때문에 Normalize를 통해 price의 분포가 정규분포를 가지도록 만들어 주겠습니다."
      ]
    },
    {
      "cell_type": "code",
      "metadata": {
        "colab": {
          "base_uri": "https://localhost:8080/",
          "height": 635
        },
        "id": "uj9ntpm6piJH",
        "outputId": "3d08d6b9-0a27-4003-a7cc-6a46756b2a79"
      },
      "source": [
        "fig = plt.figure(figsize = (15,10))\n",
        "\n",
        "fig.add_subplot(1,2,1)\n",
        "res = stats.probplot(data['price'], plot=plt)\n",
        "\n",
        "fig.add_subplot(1,2,2)\n",
        "res = stats.probplot(np.log1p(data['price']), plot=plt)"
      ],
      "execution_count": 66,
      "outputs": [
        {
          "output_type": "display_data",
          "data": {
            "image/png": "[encoded data removed]",
            "text/plain": [
              "<Figure size 1080x720 with 2 Axes>"
            ]
          },
          "metadata": {
            "tags": [],
            "needs_background": "light"
          }
        }
      ]
    },
    {
      "cell_type": "markdown",
      "metadata": {
        "id": "k6nEorok2wz9"
      },
      "source": [
        "로그변환 적용 후의 분포"
      ]
    },
    {
      "cell_type": "code",
      "metadata": {
        "colab": {
          "base_uri": "https://localhost:8080/",
          "height": 418
        },
        "id": "GDaWVhrVroXM",
        "outputId": "3314050b-b3fc-48f5-aed9-b6dc152ee0ad"
      },
      "source": [
        "data['price'] = np.log1p(data['price'])\n",
        "\n",
        "#histogram\n",
        "f, ax = plt.subplots(figsize=(8, 6))\n",
        "sns.distplot(data['price'])"
      ],
      "execution_count": 67,
      "outputs": [
        {
          "output_type": "execute_result",
          "data": {
            "text/plain": [
              "<matplotlib.axes._subplots.AxesSubplot at 0x7f50e0971c10>"
            ]
          },
          "metadata": {
            "tags": []
          },
          "execution_count": 67
        },
        {
          "output_type": "display_data",
          "data": {
            "image/png": "[encoded data removed]",
            "text/plain": [
              "<Figure size 576x432 with 1 Axes>"
            ]
          },
          "metadata": {
            "tags": [],
            "needs_background": "light"
          }
        }
      ]
    },
    {
      "cell_type": "markdown",
      "metadata": {
        "id": "lis_1IY5rwvb"
      },
      "source": [
        "### 2) 반응 변수 시각화\n",
        "- 피어슨 상관관계 : 연속형 변수에 사용\n",
        "- 스피어만 순위 상관관계 : 범주형 변수도 포함되었을 경우에 사용 \n",
        "\n",
        "<br><br>\n",
        "\n",
        "목적변수인 가격과 가장 상관관계가 높은 순서대로 스피어만 순위 상관관계를 본 히트맵입니다. 전부 보는 것이 아니라 분석의 편의를 위해 상관도가 높은 상위 10개의 값만 보도록 하겠습니다.\n",
        "\n",
        "=> 목적변수와 상관도가 높은 변수는 **집의 등급 - 주거공간의 크기 - 전체 크기** 순이고 lat이라는 위도 값이 들어있습니다."
      ]
    },
    {
      "cell_type": "code",
      "metadata": {
        "colab": {
          "base_uri": "https://localhost:8080/",
          "height": 683
        },
        "id": "mTd1RHu1sBSF",
        "outputId": "16e3ae1b-2f6d-453a-f4a0-22a6f920799c"
      },
      "source": [
        "# correlation이 높은 상위 10개의 heatmap\n",
        "# continuous + sequential variables --> spearman\n",
        "# abs는 반비례관계도 고려하기 위함\n",
        "import scipy as sp\n",
        "\n",
        "cor_abs = abs(data.corr(method='spearman')) \n",
        "cor_cols = cor_abs.nlargest(n=10, columns='price').index # price과 correlation이 높은 column 10개 뽑기(내림차순)\n",
        "# spearman coefficient matrix\n",
        "cor = np.array(sp.stats.spearmanr(data[cor_cols].values))[0] # 10 x 10\n",
        "print(cor_cols.values)\n",
        "plt.figure(figsize=(10,10))\n",
        "sns.set(font_scale=1.25)\n",
        "sns.heatmap(cor, fmt='.2f', annot=True, square=True , annot_kws={'size' : 8} ,xticklabels=cor_cols.values, yticklabels=cor_cols.values)"
      ],
      "execution_count": 68,
      "outputs": [
        {
          "output_type": "stream",
          "text": [
            "['price' 'grade' 'sqft_living' 'sqft_living15' 'sqft_above' 'bathrooms'\n",
            " 'lat' 'bedrooms' 'floors' 'view']\n"
          ],
          "name": "stdout"
        },
        {
          "output_type": "execute_result",
          "data": {
            "text/plain": [
              "<matplotlib.axes._subplots.AxesSubplot at 0x7f50e239b610>"
            ]
          },
          "metadata": {
            "tags": []
          },
          "execution_count": 68
        },
        {
          "output_type": "display_data",
          "data": {
            "image/png": "[encoded data removed]",
            "text/plain": [
              "<Figure size 720x720 with 2 Axes>"
            ]
          },
          "metadata": {
            "tags": [],
            "needs_background": "light"
          }
        }
      ]
    },
    {
      "cell_type": "markdown",
      "metadata": {
        "id": "QrsI9IK-t2LQ"
      },
      "source": [
        "grade의 경우 *\"1-3은 건물 건축 및 디자인에 미치지 못하고 7은 평균 수준의 건축 및 디자인을, 11-13은 높은 수준의 건축 및 디자인을 지니고 있습니다.\" * 라고 합니다.\n",
        "\n",
        "집의 등급이 높으면 가격이 좋아지는 것은 위의 히트맵에서도 봤듯이 당연합니다. 그리고 전반적으로 상승곡선의 형태도 보이고 있습니다. 하지만\n",
        "\n",
        "- 등급 3의 경우 값이 큰 이유\n",
        "- 등급 7,8,9에서 이상치가 많은 이유\n",
        "- 등급 8과 11에서 차이가 큰 이상치가 나타나는 이유\n",
        "\n",
        "위의 3가지는 좀 더 자세히 살펴봐야 합니다."
      ]
    },
    {
      "cell_type": "code",
      "metadata": {
        "colab": {
          "base_uri": "https://localhost:8080/",
          "height": 400
        },
        "id": "hqsR4v4nt3Jv",
        "outputId": "391fe016-4026-46f0-9de5-261292a0f322"
      },
      "source": [
        "df = pd.concat([data['price'], data['grade']], axis=1)\n",
        "\n",
        "f, ax = plt.subplots(figsize=(8, 6))\n",
        "fig = sns.boxplot(x='grade', y=\"price\", data=df)"
      ],
      "execution_count": 69,
      "outputs": [
        {
          "output_type": "display_data",
          "data": {
            "image/png": "[encoded data removed]",
            "text/plain": [
              "<Figure size 576x432 with 1 Axes>"
            ]
          },
          "metadata": {
            "tags": []
          }
        }
      ]
    },
    {
      "cell_type": "markdown",
      "metadata": {
        "id": "iOCLcjqjvNmw"
      },
      "source": [
        "### sqlf_living / sqlf_lot\n",
        "(주거 평방 피트 / 부지 평방 피트)\n",
        "\n",
        "1sqlf는 0.0281평입니다. sqlf_lot는 부지 평방 피트인데, 흔히 우리나라의 경우, 32평형 아파트는 일반적으로 실제로 쓰는 전용 면적은 25.7평 정도입니다. \n",
        "\n",
        "*즉, sqlf_living은 실제 사용 면적 / sqlf_lot는 총 부지의 면적으로 생각하면 됩니다.*"
      ]
    },
    {
      "cell_type": "code",
      "metadata": {
        "colab": {
          "base_uri": "https://localhost:8080/",
          "height": 404
        },
        "id": "ZPdc5X01uNe7",
        "outputId": "347939bf-89f1-4aed-8355-be60048db301"
      },
      "source": [
        "df = pd.concat([data['price'], data['sqft_living']], axis=1)\n",
        "\n",
        "f, ax = plt.subplots(figsize=(8, 6))\n",
        "fig = sns.regplot(x='sqft_living', y=\"price\", data=df)"
      ],
      "execution_count": 70,
      "outputs": [
        {
          "output_type": "display_data",
          "data": {
            "image/png": "[encoded data removed]",
            "text/plain": [
              "<Figure size 576x432 with 1 Axes>"
            ]
          },
          "metadata": {
            "tags": []
          }
        }
      ]
    },
    {
      "cell_type": "markdown",
      "metadata": {
        "id": "0wT-BUTNvzvB"
      },
      "source": [
        "전반적으로 선형성을 보이지만 가격이 14~15사이에 sqft_living이 14000에 가까운 값은 꽤나 이상한 값(이상치)으로 생각되어집니다. <br>\n",
        "제거할지 말지는 저 값을 확인해보고 결정하겠습니다. \n",
        "\n",
        "<br>\n",
        "\n",
        "\n",
        "---\n",
        "\n",
        "<br>\n",
        "\n",
        "sqft_living15의 경우 15년도를 기준으로 했다보니 sqft_living에 비해 가격의 분산이 큽니다. 아무래도 재건축으로 인한 영향일 것으로 생각되어지고 sqft_living15 그 자체를 사용하기보다는 적절한 FE이 필요해 보입니다. "
      ]
    },
    {
      "cell_type": "code",
      "metadata": {
        "colab": {
          "base_uri": "https://localhost:8080/",
          "height": 401
        },
        "id": "NFwjEgCusBZ5",
        "outputId": "dfe2a4e8-af40-49d1-cd1b-8b902028fb08"
      },
      "source": [
        "df = pd.concat([data['price'], data['sqft_living15']], axis=1)\n",
        "\n",
        "f, ax = plt.subplots(figsize=(8, 6))\n",
        "fig = sns.regplot(x='sqft_living15', y=\"price\", data=df)"
      ],
      "execution_count": 71,
      "outputs": [
        {
          "output_type": "display_data",
          "data": {
            "image/png": "[encoded data removed]",
            "text/plain": [
              "<Figure size 576x432 with 1 Axes>"
            ]
          },
          "metadata": {
            "tags": []
          }
        }
      ]
    },
    {
      "cell_type": "markdown",
      "metadata": {
        "id": "Tp08QGtUwVcK"
      },
      "source": [
        "bathrooms같은경우 소숫점이 있어서 많이 헷갈릴 수 있습니다. <br>\n",
        "각각의 값이 의미하는것은 아래와 같고 위의 값만을 가지고 각각의 값이 몇개있는지는 구분하기 힘들어 보입니다. \n",
        "- 0.5 : 세면대, 화장실 \n",
        "- 0.75 : 세면대, 화장실, 샤워실\n",
        "- 1 : 세면대, 화장실, 샤워실, 욕조 "
      ]
    },
    {
      "cell_type": "code",
      "metadata": {
        "colab": {
          "base_uri": "https://localhost:8080/",
          "height": 400
        },
        "id": "6uRiDYdZwX-S",
        "outputId": "2827f9de-ad15-46a1-d737-71d7b155f635"
      },
      "source": [
        "df = pd.concat([data['price'], data['bathrooms']], axis=1)\n",
        "\n",
        "f, ax = plt.subplots(figsize=(18, 6))\n",
        "fig = sns.boxplot(x='bathrooms', y=\"price\", data=df)"
      ],
      "execution_count": 72,
      "outputs": [
        {
          "output_type": "display_data",
          "data": {
            "image/png": "[encoded data removed]",
            "text/plain": [
              "<Figure size 1296x432 with 1 Axes>"
            ]
          },
          "metadata": {
            "tags": []
          }
        }
      ]
    },
    {
      "cell_type": "markdown",
      "metadata": {
        "id": "qHSLxBeuwt2o"
      },
      "source": [
        "방의 경우 median 값을 중심으로 살펴보면 어느정도 선형관계를 띄는것을 볼 수 있습니다. <br>\n",
        "그리고 방의 갯수가 2~6의 경우 방이 적음에도 값이 큰 값들이 많습니다. <br>\n",
        "이는 우리나라의 경우처럼 방의 크기는 작아도 강남처럼 비싼 지역일 가능성이 높습니다.  "
      ]
    },
    {
      "cell_type": "code",
      "metadata": {
        "colab": {
          "base_uri": "https://localhost:8080/",
          "height": 400
        },
        "id": "sqxmL5BYsBjd",
        "outputId": "0667639f-71ac-4cc3-b301-d199e1681835"
      },
      "source": [
        "df = pd.concat([data['price'], data['bedrooms']], axis=1)\n",
        "\n",
        "f, ax = plt.subplots(figsize=(18, 6))\n",
        "fig = sns.boxplot(x='bedrooms', y=\"price\", data=df)"
      ],
      "execution_count": 73,
      "outputs": [
        {
          "output_type": "display_data",
          "data": {
            "image/png": "[encoded data removed]",
            "text/plain": [
              "<Figure size 1296x432 with 1 Axes>"
            ]
          },
          "metadata": {
            "tags": []
          }
        }
      ]
    },
    {
      "cell_type": "markdown",
      "metadata": {
        "id": "Uo-EAUNmGg4B"
      },
      "source": [
        "## 1.4 이상치 및 결측치 확인"
      ]
    },
    {
      "cell_type": "markdown",
      "metadata": {
        "id": "7YI1mQzexLmw"
      },
      "source": [
        "### 결측치 확인\n",
        "=> 결측치는 없다."
      ]
    },
    {
      "cell_type": "code",
      "metadata": {
        "colab": {
          "base_uri": "https://localhost:8080/",
          "height": 708
        },
        "id": "0jmNC_7oOMMn",
        "outputId": "711d4306-073e-459c-968c-9fa7b3a6049b"
      },
      "source": [
        "msno.matrix(data)"
      ],
      "execution_count": 74,
      "outputs": [
        {
          "output_type": "execute_result",
          "data": {
            "text/plain": [
              "<matplotlib.axes._subplots.AxesSubplot at 0x7f50e01ccc90>"
            ]
          },
          "metadata": {
            "tags": []
          },
          "execution_count": 74
        },
        {
          "output_type": "display_data",
          "data": {
            "image/png": "[encoded data removed]",
            "text/plain": [
              "<Figure size 1800x720 with 2 Axes>"
            ]
          },
          "metadata": {
            "tags": []
          }
        }
      ]
    },
    {
      "cell_type": "markdown",
      "metadata": {
        "id": "J38w_SYQxRof"
      },
      "source": [
        "## 1.5 유니크한 데이터 수\n",
        "\n",
        "view의 유니크갯수가 5인걸로 보니 grade같이 순위형변수로 여겨지며, <br>\n",
        "waterfront의 경우는 있다/없다 2가지를 상징하는 것으로 보인다."
      ]
    },
    {
      "cell_type": "code",
      "metadata": {
        "colab": {
          "base_uri": "https://localhost:8080/",
          "height": 400
        },
        "id": "bfff7N6Uw9nx",
        "outputId": "2b9e3bc6-96a6-4787-dd1e-f3cd025ca50c"
      },
      "source": [
        "### 유니크 갯수 계산\n",
        "\n",
        "train_unique = []\n",
        "columns = ['bedrooms','bathrooms','floors','waterfront','view','condition','grade']\n",
        "\n",
        "for i in columns:\n",
        "    train_unique.append(len(data[i].unique()))\n",
        "unique_train = pd.DataFrame()\n",
        "unique_train['Columns'] = columns\n",
        "unique_train['Unique_value'] = train_unique\n",
        "\n",
        "\n",
        "f, ax = plt.subplots(figsize=(18, 6))\n",
        "fig = sns.barplot(\n",
        "    data= unique_train,\n",
        "    x = \"Columns\",\n",
        "    y = \"Unique_value\"\n",
        ")"
      ],
      "execution_count": 75,
      "outputs": [
        {
          "output_type": "display_data",
          "data": {
            "image/png": "[encoded data removed]",
            "text/plain": [
              "<Figure size 1296x432 with 1 Axes>"
            ]
          },
          "metadata": {
            "tags": []
          }
        }
      ]
    },
    {
      "cell_type": "markdown",
      "metadata": {
        "id": "6Eazcepx0j-i"
      },
      "source": [
        "층수의 경우 1.5, 2.5, 3.5와 같이 소숫점을 가집니다. <br>\n",
        "이는 미국에서 흔히 볼 수 있는 형태로 다락방을 끼고 있는 형태로 생각하면 된다."
      ]
    },
    {
      "cell_type": "code",
      "metadata": {
        "colab": {
          "base_uri": "https://localhost:8080/"
        },
        "id": "Q5YlMxe-0gjN",
        "outputId": "c3579e04-302b-455b-e873-0ce85c103d69"
      },
      "source": [
        "data['floors'].unique()"
      ],
      "execution_count": 76,
      "outputs": [
        {
          "output_type": "execute_result",
          "data": {
            "text/plain": [
              "array([1. , 2. , 1.5, 3. , 2.5, 3.5])"
            ]
          },
          "metadata": {
            "tags": []
          },
          "execution_count": 76
        }
      ]
    },
    {
      "cell_type": "markdown",
      "metadata": {
        "id": "t9VlogVqGkMj"
      },
      "source": [
        "# 2.데이터 전처리"
      ]
    },
    {
      "cell_type": "markdown",
      "metadata": {
        "id": "ljKycJWNGnGM"
      },
      "source": [
        "## 2.1 이상치 처리\n",
        "위에서 중요한 변수들에 대해 시각화를 해봤을때, 다음의 변수들에 대해 이상치가 있는 것을 확인할 수 있었습니다. \n",
        "- sqft_living, grade, bedrooms "
      ]
    },
    {
      "cell_type": "markdown",
      "metadata": {
        "id": "Grk18xuz0w9N"
      },
      "source": [
        "### 1) sqft_living 처리\n",
        "- 분포 다시 확인"
      ]
    },
    {
      "cell_type": "code",
      "metadata": {
        "colab": {
          "base_uri": "https://localhost:8080/",
          "height": 404
        },
        "id": "-gGqO21J00Fq",
        "outputId": "875ba0b1-66a5-4bc9-cb6a-deee7a6f60c2"
      },
      "source": [
        "df = pd.concat([data['price'], data['sqft_living']], axis=1)\n",
        "\n",
        "f, ax = plt.subplots(figsize=(8, 6))\n",
        "fig = sns.regplot(x='sqft_living', y=\"price\", data=df)"
      ],
      "execution_count": 77,
      "outputs": [
        {
          "output_type": "display_data",
          "data": {
            "image/png": "[encoded data removed]",
            "text/plain": [
              "<Figure size 576x432 with 1 Axes>"
            ]
          },
          "metadata": {
            "tags": []
          }
        }
      ]
    },
    {
      "cell_type": "markdown",
      "metadata": {
        "id": "9iMLsBWB1Ox6"
      },
      "source": [
        "- 13000을 벗어나는 값을 확인해보자."
      ]
    },
    {
      "cell_type": "code",
      "metadata": {
        "colab": {
          "base_uri": "https://localhost:8080/",
          "height": 100
        },
        "id": "aLdwbVx600NH",
        "outputId": "70089ae7-64e4-4301-c48c-722a9fc428e5"
      },
      "source": [
        "data.loc[data['sqft_living'] > 13000]"
      ],
      "execution_count": 78,
      "outputs": [
        {
          "output_type": "execute_result",
          "data": {
            "text/html": [
              "<div>\n",
              "<style scoped>\n",
              "    .dataframe tbody tr th:only-of-type {\n",
              "        vertical-align: middle;\n",
              "    }\n",
              "\n",
              "    .dataframe tbody tr th {\n",
              "        vertical-align: top;\n",
              "    }\n",
              "\n",
              "    .dataframe thead th {\n",
              "        text-align: right;\n",
              "    }\n",
              "</style>\n",
              "<table border=\"1\" class=\"dataframe\">\n",
              "  <thead>\n",
              "    <tr style=\"text-align: right;\">\n",
              "      <th></th>\n",
              "      <th>id</th>\n",
              "      <th>date</th>\n",
              "      <th>price</th>\n",
              "      <th>bedrooms</th>\n",
              "      <th>bathrooms</th>\n",
              "      <th>sqft_living</th>\n",
              "      <th>sqft_lot</th>\n",
              "      <th>floors</th>\n",
              "      <th>waterfront</th>\n",
              "      <th>view</th>\n",
              "      <th>condition</th>\n",
              "      <th>grade</th>\n",
              "      <th>sqft_above</th>\n",
              "      <th>sqft_basement</th>\n",
              "      <th>yr_built</th>\n",
              "      <th>yr_renovated</th>\n",
              "      <th>zipcode</th>\n",
              "      <th>lat</th>\n",
              "      <th>long</th>\n",
              "      <th>sqft_living15</th>\n",
              "      <th>sqft_lot15</th>\n",
              "    </tr>\n",
              "  </thead>\n",
              "  <tbody>\n",
              "    <tr>\n",
              "      <th>8912</th>\n",
              "      <td>8912</td>\n",
              "      <td>20140505T000000</td>\n",
              "      <td>14.639686</td>\n",
              "      <td>7</td>\n",
              "      <td>8.0</td>\n",
              "      <td>13540</td>\n",
              "      <td>307752</td>\n",
              "      <td>3.0</td>\n",
              "      <td>0</td>\n",
              "      <td>4</td>\n",
              "      <td>3</td>\n",
              "      <td>12</td>\n",
              "      <td>9410</td>\n",
              "      <td>4130</td>\n",
              "      <td>1999</td>\n",
              "      <td>0</td>\n",
              "      <td>98053</td>\n",
              "      <td>47.6675</td>\n",
              "      <td>-121.986</td>\n",
              "      <td>4850</td>\n",
              "      <td>217800</td>\n",
              "    </tr>\n",
              "  </tbody>\n",
              "</table>\n",
              "</div>"
            ],
            "text/plain": [
              "        id             date      price  ...     long  sqft_living15  sqft_lot15\n",
              "8912  8912  20140505T000000  14.639686  ... -121.986           4850      217800\n",
              "\n",
              "[1 rows x 21 columns]"
            ]
          },
          "metadata": {
            "tags": []
          },
          "execution_count": 78
        }
      ]
    },
    {
      "cell_type": "markdown",
      "metadata": {
        "id": "moX3eTEl2CgX"
      },
      "source": [
        "- 이상치에 해당하는 데이터를 제외시킨다."
      ]
    },
    {
      "cell_type": "code",
      "metadata": {
        "colab": {
          "base_uri": "https://localhost:8080/",
          "height": 439
        },
        "id": "HpH7540r00Pw",
        "outputId": "f946645e-075f-4621-f559-ac80a0c21b7f"
      },
      "source": [
        "data = data.loc[data['sqft_living'] <= 13000]\n",
        "data"
      ],
      "execution_count": 79,
      "outputs": [
        {
          "output_type": "execute_result",
          "data": {
            "text/html": [
              "<div>\n",
              "<style scoped>\n",
              "    .dataframe tbody tr th:only-of-type {\n",
              "        vertical-align: middle;\n",
              "    }\n",
              "\n",
              "    .dataframe tbody tr th {\n",
              "        vertical-align: top;\n",
              "    }\n",
              "\n",
              "    .dataframe thead th {\n",
              "        text-align: right;\n",
              "    }\n",
              "</style>\n",
              "<table border=\"1\" class=\"dataframe\">\n",
              "  <thead>\n",
              "    <tr style=\"text-align: right;\">\n",
              "      <th></th>\n",
              "      <th>id</th>\n",
              "      <th>date</th>\n",
              "      <th>price</th>\n",
              "      <th>bedrooms</th>\n",
              "      <th>bathrooms</th>\n",
              "      <th>sqft_living</th>\n",
              "      <th>sqft_lot</th>\n",
              "      <th>floors</th>\n",
              "      <th>waterfront</th>\n",
              "      <th>view</th>\n",
              "      <th>condition</th>\n",
              "      <th>grade</th>\n",
              "      <th>sqft_above</th>\n",
              "      <th>sqft_basement</th>\n",
              "      <th>yr_built</th>\n",
              "      <th>yr_renovated</th>\n",
              "      <th>zipcode</th>\n",
              "      <th>lat</th>\n",
              "      <th>long</th>\n",
              "      <th>sqft_living15</th>\n",
              "      <th>sqft_lot15</th>\n",
              "    </tr>\n",
              "  </thead>\n",
              "  <tbody>\n",
              "    <tr>\n",
              "      <th>0</th>\n",
              "      <td>0</td>\n",
              "      <td>20141013T000000</td>\n",
              "      <td>12.309987</td>\n",
              "      <td>3</td>\n",
              "      <td>1.00</td>\n",
              "      <td>1180</td>\n",
              "      <td>5650</td>\n",
              "      <td>1.0</td>\n",
              "      <td>0</td>\n",
              "      <td>0</td>\n",
              "      <td>3</td>\n",
              "      <td>7</td>\n",
              "      <td>1180</td>\n",
              "      <td>0</td>\n",
              "      <td>1955</td>\n",
              "      <td>0</td>\n",
              "      <td>98178</td>\n",
              "      <td>47.5112</td>\n",
              "      <td>-122.257</td>\n",
              "      <td>1340</td>\n",
              "      <td>5650</td>\n",
              "    </tr>\n",
              "    <tr>\n",
              "      <th>1</th>\n",
              "      <td>1</td>\n",
              "      <td>20150225T000000</td>\n",
              "      <td>12.100718</td>\n",
              "      <td>2</td>\n",
              "      <td>1.00</td>\n",
              "      <td>770</td>\n",
              "      <td>10000</td>\n",
              "      <td>1.0</td>\n",
              "      <td>0</td>\n",
              "      <td>0</td>\n",
              "      <td>3</td>\n",
              "      <td>6</td>\n",
              "      <td>770</td>\n",
              "      <td>0</td>\n",
              "      <td>1933</td>\n",
              "      <td>0</td>\n",
              "      <td>98028</td>\n",
              "      <td>47.7379</td>\n",
              "      <td>-122.233</td>\n",
              "      <td>2720</td>\n",
              "      <td>8062</td>\n",
              "    </tr>\n",
              "    <tr>\n",
              "      <th>2</th>\n",
              "      <td>2</td>\n",
              "      <td>20150218T000000</td>\n",
              "      <td>13.142168</td>\n",
              "      <td>3</td>\n",
              "      <td>2.00</td>\n",
              "      <td>1680</td>\n",
              "      <td>8080</td>\n",
              "      <td>1.0</td>\n",
              "      <td>0</td>\n",
              "      <td>0</td>\n",
              "      <td>3</td>\n",
              "      <td>8</td>\n",
              "      <td>1680</td>\n",
              "      <td>0</td>\n",
              "      <td>1987</td>\n",
              "      <td>0</td>\n",
              "      <td>98074</td>\n",
              "      <td>47.6168</td>\n",
              "      <td>-122.045</td>\n",
              "      <td>1800</td>\n",
              "      <td>7503</td>\n",
              "    </tr>\n",
              "    <tr>\n",
              "      <th>3</th>\n",
              "      <td>3</td>\n",
              "      <td>20140627T000000</td>\n",
              "      <td>12.458779</td>\n",
              "      <td>3</td>\n",
              "      <td>2.25</td>\n",
              "      <td>1715</td>\n",
              "      <td>6819</td>\n",
              "      <td>2.0</td>\n",
              "      <td>0</td>\n",
              "      <td>0</td>\n",
              "      <td>3</td>\n",
              "      <td>7</td>\n",
              "      <td>1715</td>\n",
              "      <td>0</td>\n",
              "      <td>1995</td>\n",
              "      <td>0</td>\n",
              "      <td>98003</td>\n",
              "      <td>47.3097</td>\n",
              "      <td>-122.327</td>\n",
              "      <td>2238</td>\n",
              "      <td>6819</td>\n",
              "    </tr>\n",
              "    <tr>\n",
              "      <th>4</th>\n",
              "      <td>4</td>\n",
              "      <td>20150115T000000</td>\n",
              "      <td>12.583999</td>\n",
              "      <td>3</td>\n",
              "      <td>1.50</td>\n",
              "      <td>1060</td>\n",
              "      <td>9711</td>\n",
              "      <td>1.0</td>\n",
              "      <td>0</td>\n",
              "      <td>0</td>\n",
              "      <td>3</td>\n",
              "      <td>7</td>\n",
              "      <td>1060</td>\n",
              "      <td>0</td>\n",
              "      <td>1963</td>\n",
              "      <td>0</td>\n",
              "      <td>98198</td>\n",
              "      <td>47.4095</td>\n",
              "      <td>-122.315</td>\n",
              "      <td>1650</td>\n",
              "      <td>9711</td>\n",
              "    </tr>\n",
              "    <tr>\n",
              "      <th>...</th>\n",
              "      <td>...</td>\n",
              "      <td>...</td>\n",
              "      <td>...</td>\n",
              "      <td>...</td>\n",
              "      <td>...</td>\n",
              "      <td>...</td>\n",
              "      <td>...</td>\n",
              "      <td>...</td>\n",
              "      <td>...</td>\n",
              "      <td>...</td>\n",
              "      <td>...</td>\n",
              "      <td>...</td>\n",
              "      <td>...</td>\n",
              "      <td>...</td>\n",
              "      <td>...</td>\n",
              "      <td>...</td>\n",
              "      <td>...</td>\n",
              "      <td>...</td>\n",
              "      <td>...</td>\n",
              "      <td>...</td>\n",
              "      <td>...</td>\n",
              "    </tr>\n",
              "    <tr>\n",
              "      <th>15030</th>\n",
              "      <td>15030</td>\n",
              "      <td>20141014T000000</td>\n",
              "      <td>13.322338</td>\n",
              "      <td>4</td>\n",
              "      <td>2.50</td>\n",
              "      <td>2520</td>\n",
              "      <td>6023</td>\n",
              "      <td>2.0</td>\n",
              "      <td>0</td>\n",
              "      <td>0</td>\n",
              "      <td>3</td>\n",
              "      <td>9</td>\n",
              "      <td>2520</td>\n",
              "      <td>0</td>\n",
              "      <td>2014</td>\n",
              "      <td>0</td>\n",
              "      <td>98056</td>\n",
              "      <td>47.5137</td>\n",
              "      <td>-122.167</td>\n",
              "      <td>2520</td>\n",
              "      <td>6023</td>\n",
              "    </tr>\n",
              "    <tr>\n",
              "      <th>15031</th>\n",
              "      <td>15031</td>\n",
              "      <td>20150326T000000</td>\n",
              "      <td>13.822984</td>\n",
              "      <td>4</td>\n",
              "      <td>3.50</td>\n",
              "      <td>3510</td>\n",
              "      <td>7200</td>\n",
              "      <td>2.0</td>\n",
              "      <td>0</td>\n",
              "      <td>0</td>\n",
              "      <td>3</td>\n",
              "      <td>9</td>\n",
              "      <td>2600</td>\n",
              "      <td>910</td>\n",
              "      <td>2009</td>\n",
              "      <td>0</td>\n",
              "      <td>98136</td>\n",
              "      <td>47.5537</td>\n",
              "      <td>-122.398</td>\n",
              "      <td>2050</td>\n",
              "      <td>6200</td>\n",
              "    </tr>\n",
              "    <tr>\n",
              "      <th>15032</th>\n",
              "      <td>15032</td>\n",
              "      <td>20140521T000000</td>\n",
              "      <td>12.793862</td>\n",
              "      <td>3</td>\n",
              "      <td>2.50</td>\n",
              "      <td>1530</td>\n",
              "      <td>1131</td>\n",
              "      <td>3.0</td>\n",
              "      <td>0</td>\n",
              "      <td>0</td>\n",
              "      <td>3</td>\n",
              "      <td>8</td>\n",
              "      <td>1530</td>\n",
              "      <td>0</td>\n",
              "      <td>2009</td>\n",
              "      <td>0</td>\n",
              "      <td>98103</td>\n",
              "      <td>47.6993</td>\n",
              "      <td>-122.346</td>\n",
              "      <td>1530</td>\n",
              "      <td>1509</td>\n",
              "    </tr>\n",
              "    <tr>\n",
              "      <th>15033</th>\n",
              "      <td>15033</td>\n",
              "      <td>20150223T000000</td>\n",
              "      <td>12.899222</td>\n",
              "      <td>4</td>\n",
              "      <td>2.50</td>\n",
              "      <td>2310</td>\n",
              "      <td>5813</td>\n",
              "      <td>2.0</td>\n",
              "      <td>0</td>\n",
              "      <td>0</td>\n",
              "      <td>3</td>\n",
              "      <td>8</td>\n",
              "      <td>2310</td>\n",
              "      <td>0</td>\n",
              "      <td>2014</td>\n",
              "      <td>0</td>\n",
              "      <td>98146</td>\n",
              "      <td>47.5107</td>\n",
              "      <td>-122.362</td>\n",
              "      <td>1830</td>\n",
              "      <td>7200</td>\n",
              "    </tr>\n",
              "    <tr>\n",
              "      <th>15034</th>\n",
              "      <td>15034</td>\n",
              "      <td>20141015T000000</td>\n",
              "      <td>12.691584</td>\n",
              "      <td>2</td>\n",
              "      <td>0.75</td>\n",
              "      <td>1020</td>\n",
              "      <td>1076</td>\n",
              "      <td>2.0</td>\n",
              "      <td>0</td>\n",
              "      <td>0</td>\n",
              "      <td>3</td>\n",
              "      <td>7</td>\n",
              "      <td>1020</td>\n",
              "      <td>0</td>\n",
              "      <td>2008</td>\n",
              "      <td>0</td>\n",
              "      <td>98144</td>\n",
              "      <td>47.5941</td>\n",
              "      <td>-122.299</td>\n",
              "      <td>1020</td>\n",
              "      <td>1357</td>\n",
              "    </tr>\n",
              "  </tbody>\n",
              "</table>\n",
              "<p>15034 rows × 21 columns</p>\n",
              "</div>"
            ],
            "text/plain": [
              "          id             date      price  ...     long  sqft_living15  sqft_lot15\n",
              "0          0  20141013T000000  12.309987  ... -122.257           1340        5650\n",
              "1          1  20150225T000000  12.100718  ... -122.233           2720        8062\n",
              "2          2  20150218T000000  13.142168  ... -122.045           1800        7503\n",
              "3          3  20140627T000000  12.458779  ... -122.327           2238        6819\n",
              "4          4  20150115T000000  12.583999  ... -122.315           1650        9711\n",
              "...      ...              ...        ...  ...      ...            ...         ...\n",
              "15030  15030  20141014T000000  13.322338  ... -122.167           2520        6023\n",
              "15031  15031  20150326T000000  13.822984  ... -122.398           2050        6200\n",
              "15032  15032  20140521T000000  12.793862  ... -122.346           1530        1509\n",
              "15033  15033  20150223T000000  12.899222  ... -122.362           1830        7200\n",
              "15034  15034  20141015T000000  12.691584  ... -122.299           1020        1357\n",
              "\n",
              "[15034 rows x 21 columns]"
            ]
          },
          "metadata": {
            "tags": []
          },
          "execution_count": 79
        }
      ]
    },
    {
      "cell_type": "markdown",
      "metadata": {
        "id": "tcE8KCxq3iYt"
      },
      "source": [
        "### 2) grade 처리\n",
        "- 분포 다시 확인"
      ]
    },
    {
      "cell_type": "code",
      "metadata": {
        "colab": {
          "base_uri": "https://localhost:8080/",
          "height": 400
        },
        "id": "PKN07ols00WQ",
        "outputId": "bfa076f2-f806-49a3-da28-91e724c69d84"
      },
      "source": [
        "df = pd.concat([data['price'], data['grade']], axis=1)\n",
        "\n",
        "f, ax = plt.subplots(figsize=(8, 6))\n",
        "fig = sns.boxplot(x='grade', y=\"price\", data=df)"
      ],
      "execution_count": 80,
      "outputs": [
        {
          "output_type": "display_data",
          "data": {
            "image/png": "[encoded data removed]",
            "text/plain": [
              "<Figure size 576x432 with 1 Axes>"
            ]
          },
          "metadata": {
            "tags": []
          }
        }
      ]
    },
    {
      "cell_type": "markdown",
      "metadata": {
        "id": "NE8mKJvW5Yvp"
      },
      "source": [
        "가장 중요한 변수인 grade, sqft_ 모두 낮은 것을 볼 수 있습니다.<br>\n",
        "그래서 두 값 모두 이상치로 규정하고 제거하도록 하겠습니다. "
      ]
    },
    {
      "cell_type": "code",
      "metadata": {
        "colab": {
          "base_uri": "https://localhost:8080/",
          "height": 131
        },
        "id": "ORJwoxKK00d4",
        "outputId": "379afd6f-9858-4fc4-ccbd-ba2c76a5db83"
      },
      "source": [
        "data.loc[(data['price']>12) & (data['grade'] == 3)]"
      ],
      "execution_count": 81,
      "outputs": [
        {
          "output_type": "execute_result",
          "data": {
            "text/html": [
              "<div>\n",
              "<style scoped>\n",
              "    .dataframe tbody tr th:only-of-type {\n",
              "        vertical-align: middle;\n",
              "    }\n",
              "\n",
              "    .dataframe tbody tr th {\n",
              "        vertical-align: top;\n",
              "    }\n",
              "\n",
              "    .dataframe thead th {\n",
              "        text-align: right;\n",
              "    }\n",
              "</style>\n",
              "<table border=\"1\" class=\"dataframe\">\n",
              "  <thead>\n",
              "    <tr style=\"text-align: right;\">\n",
              "      <th></th>\n",
              "      <th>id</th>\n",
              "      <th>date</th>\n",
              "      <th>price</th>\n",
              "      <th>bedrooms</th>\n",
              "      <th>bathrooms</th>\n",
              "      <th>sqft_living</th>\n",
              "      <th>sqft_lot</th>\n",
              "      <th>floors</th>\n",
              "      <th>waterfront</th>\n",
              "      <th>view</th>\n",
              "      <th>condition</th>\n",
              "      <th>grade</th>\n",
              "      <th>sqft_above</th>\n",
              "      <th>sqft_basement</th>\n",
              "      <th>yr_built</th>\n",
              "      <th>yr_renovated</th>\n",
              "      <th>zipcode</th>\n",
              "      <th>lat</th>\n",
              "      <th>long</th>\n",
              "      <th>sqft_living15</th>\n",
              "      <th>sqft_lot15</th>\n",
              "    </tr>\n",
              "  </thead>\n",
              "  <tbody>\n",
              "    <tr>\n",
              "      <th>2302</th>\n",
              "      <td>2302</td>\n",
              "      <td>20150225T000000</td>\n",
              "      <td>12.476104</td>\n",
              "      <td>1</td>\n",
              "      <td>0.75</td>\n",
              "      <td>520</td>\n",
              "      <td>12981</td>\n",
              "      <td>1.0</td>\n",
              "      <td>0</td>\n",
              "      <td>0</td>\n",
              "      <td>5</td>\n",
              "      <td>3</td>\n",
              "      <td>520</td>\n",
              "      <td>0</td>\n",
              "      <td>1920</td>\n",
              "      <td>0</td>\n",
              "      <td>98022</td>\n",
              "      <td>47.2082</td>\n",
              "      <td>-121.995</td>\n",
              "      <td>1340</td>\n",
              "      <td>12233</td>\n",
              "    </tr>\n",
              "    <tr>\n",
              "      <th>4123</th>\n",
              "      <td>4123</td>\n",
              "      <td>20141104T000000</td>\n",
              "      <td>12.542548</td>\n",
              "      <td>1</td>\n",
              "      <td>0.00</td>\n",
              "      <td>600</td>\n",
              "      <td>24501</td>\n",
              "      <td>1.0</td>\n",
              "      <td>0</td>\n",
              "      <td>0</td>\n",
              "      <td>2</td>\n",
              "      <td>3</td>\n",
              "      <td>600</td>\n",
              "      <td>0</td>\n",
              "      <td>1950</td>\n",
              "      <td>0</td>\n",
              "      <td>98045</td>\n",
              "      <td>47.5316</td>\n",
              "      <td>-121.749</td>\n",
              "      <td>990</td>\n",
              "      <td>22549</td>\n",
              "    </tr>\n",
              "  </tbody>\n",
              "</table>\n",
              "</div>"
            ],
            "text/plain": [
              "        id             date      price  ...     long  sqft_living15  sqft_lot15\n",
              "2302  2302  20150225T000000  12.476104  ... -121.995           1340       12233\n",
              "4123  4123  20141104T000000  12.542548  ... -121.749            990       22549\n",
              "\n",
              "[2 rows x 21 columns]"
            ]
          },
          "metadata": {
            "tags": []
          },
          "execution_count": 81
        }
      ]
    },
    {
      "cell_type": "code",
      "metadata": {
        "colab": {
          "base_uri": "https://localhost:8080/",
          "height": 100
        },
        "id": "Y44f4m9iHl4S",
        "outputId": "e18a531e-3584-4e67-b565-95a383b62d61"
      },
      "source": [
        "data.loc[(data['price']>14.5) & (data['grade'] == 7)]"
      ],
      "execution_count": 82,
      "outputs": [
        {
          "output_type": "execute_result",
          "data": {
            "text/html": [
              "<div>\n",
              "<style scoped>\n",
              "    .dataframe tbody tr th:only-of-type {\n",
              "        vertical-align: middle;\n",
              "    }\n",
              "\n",
              "    .dataframe tbody tr th {\n",
              "        vertical-align: top;\n",
              "    }\n",
              "\n",
              "    .dataframe thead th {\n",
              "        text-align: right;\n",
              "    }\n",
              "</style>\n",
              "<table border=\"1\" class=\"dataframe\">\n",
              "  <thead>\n",
              "    <tr style=\"text-align: right;\">\n",
              "      <th></th>\n",
              "      <th>id</th>\n",
              "      <th>date</th>\n",
              "      <th>price</th>\n",
              "      <th>bedrooms</th>\n",
              "      <th>bathrooms</th>\n",
              "      <th>sqft_living</th>\n",
              "      <th>sqft_lot</th>\n",
              "      <th>floors</th>\n",
              "      <th>waterfront</th>\n",
              "      <th>view</th>\n",
              "      <th>condition</th>\n",
              "      <th>grade</th>\n",
              "      <th>sqft_above</th>\n",
              "      <th>sqft_basement</th>\n",
              "      <th>yr_built</th>\n",
              "      <th>yr_renovated</th>\n",
              "      <th>zipcode</th>\n",
              "      <th>lat</th>\n",
              "      <th>long</th>\n",
              "      <th>sqft_living15</th>\n",
              "      <th>sqft_lot15</th>\n",
              "    </tr>\n",
              "  </thead>\n",
              "  <tbody>\n",
              "    <tr>\n",
              "      <th>12346</th>\n",
              "      <td>12346</td>\n",
              "      <td>20150115T000000</td>\n",
              "      <td>14.533351</td>\n",
              "      <td>4</td>\n",
              "      <td>3.25</td>\n",
              "      <td>3580</td>\n",
              "      <td>19989</td>\n",
              "      <td>1.5</td>\n",
              "      <td>1</td>\n",
              "      <td>4</td>\n",
              "      <td>4</td>\n",
              "      <td>7</td>\n",
              "      <td>3480</td>\n",
              "      <td>100</td>\n",
              "      <td>1915</td>\n",
              "      <td>1965</td>\n",
              "      <td>98125</td>\n",
              "      <td>47.7087</td>\n",
              "      <td>-122.276</td>\n",
              "      <td>2410</td>\n",
              "      <td>6389</td>\n",
              "    </tr>\n",
              "  </tbody>\n",
              "</table>\n",
              "</div>"
            ],
            "text/plain": [
              "          id             date      price  ...     long  sqft_living15  sqft_lot15\n",
              "12346  12346  20150115T000000  14.533351  ... -122.276           2410        6389\n",
              "\n",
              "[1 rows x 21 columns]"
            ]
          },
          "metadata": {
            "tags": []
          },
          "execution_count": 82
        }
      ]
    },
    {
      "cell_type": "code",
      "metadata": {
        "colab": {
          "base_uri": "https://localhost:8080/",
          "height": 100
        },
        "id": "YV-INzUgDCL1",
        "outputId": "4b8a2bc8-c1e9-4baa-ac23-0fc505c3b463"
      },
      "source": [
        "data.loc[(data['price']>14.7) & (data['grade'] == 8)]"
      ],
      "execution_count": 83,
      "outputs": [
        {
          "output_type": "execute_result",
          "data": {
            "text/html": [
              "<div>\n",
              "<style scoped>\n",
              "    .dataframe tbody tr th:only-of-type {\n",
              "        vertical-align: middle;\n",
              "    }\n",
              "\n",
              "    .dataframe tbody tr th {\n",
              "        vertical-align: top;\n",
              "    }\n",
              "\n",
              "    .dataframe thead th {\n",
              "        text-align: right;\n",
              "    }\n",
              "</style>\n",
              "<table border=\"1\" class=\"dataframe\">\n",
              "  <thead>\n",
              "    <tr style=\"text-align: right;\">\n",
              "      <th></th>\n",
              "      <th>id</th>\n",
              "      <th>date</th>\n",
              "      <th>price</th>\n",
              "      <th>bedrooms</th>\n",
              "      <th>bathrooms</th>\n",
              "      <th>sqft_living</th>\n",
              "      <th>sqft_lot</th>\n",
              "      <th>floors</th>\n",
              "      <th>waterfront</th>\n",
              "      <th>view</th>\n",
              "      <th>condition</th>\n",
              "      <th>grade</th>\n",
              "      <th>sqft_above</th>\n",
              "      <th>sqft_basement</th>\n",
              "      <th>yr_built</th>\n",
              "      <th>yr_renovated</th>\n",
              "      <th>zipcode</th>\n",
              "      <th>lat</th>\n",
              "      <th>long</th>\n",
              "      <th>sqft_living15</th>\n",
              "      <th>sqft_lot15</th>\n",
              "    </tr>\n",
              "  </thead>\n",
              "  <tbody>\n",
              "    <tr>\n",
              "      <th>7173</th>\n",
              "      <td>7173</td>\n",
              "      <td>20140813T000000</td>\n",
              "      <td>14.808763</td>\n",
              "      <td>5</td>\n",
              "      <td>4.0</td>\n",
              "      <td>4230</td>\n",
              "      <td>27295</td>\n",
              "      <td>2.0</td>\n",
              "      <td>1</td>\n",
              "      <td>4</td>\n",
              "      <td>3</td>\n",
              "      <td>8</td>\n",
              "      <td>3230</td>\n",
              "      <td>1000</td>\n",
              "      <td>1949</td>\n",
              "      <td>1985</td>\n",
              "      <td>98033</td>\n",
              "      <td>47.6803</td>\n",
              "      <td>-122.214</td>\n",
              "      <td>2660</td>\n",
              "      <td>27295</td>\n",
              "    </tr>\n",
              "  </tbody>\n",
              "</table>\n",
              "</div>"
            ],
            "text/plain": [
              "        id             date      price  ...     long  sqft_living15  sqft_lot15\n",
              "7173  7173  20140813T000000  14.808763  ... -122.214           2660       27295\n",
              "\n",
              "[1 rows x 21 columns]"
            ]
          },
          "metadata": {
            "tags": []
          },
          "execution_count": 83
        }
      ]
    },
    {
      "cell_type": "code",
      "metadata": {
        "colab": {
          "base_uri": "https://localhost:8080/",
          "height": 100
        },
        "id": "fGrQQmmcGT9c",
        "outputId": "6cf79ccb-c8b4-4df3-f85c-85be5357d339"
      },
      "source": [
        "data.loc[(data['price']>15.5) & (data['grade'] == 11)]"
      ],
      "execution_count": 84,
      "outputs": [
        {
          "output_type": "execute_result",
          "data": {
            "text/html": [
              "<div>\n",
              "<style scoped>\n",
              "    .dataframe tbody tr th:only-of-type {\n",
              "        vertical-align: middle;\n",
              "    }\n",
              "\n",
              "    .dataframe tbody tr th {\n",
              "        vertical-align: top;\n",
              "    }\n",
              "\n",
              "    .dataframe thead th {\n",
              "        text-align: right;\n",
              "    }\n",
              "</style>\n",
              "<table border=\"1\" class=\"dataframe\">\n",
              "  <thead>\n",
              "    <tr style=\"text-align: right;\">\n",
              "      <th></th>\n",
              "      <th>id</th>\n",
              "      <th>date</th>\n",
              "      <th>price</th>\n",
              "      <th>bedrooms</th>\n",
              "      <th>bathrooms</th>\n",
              "      <th>sqft_living</th>\n",
              "      <th>sqft_lot</th>\n",
              "      <th>floors</th>\n",
              "      <th>waterfront</th>\n",
              "      <th>view</th>\n",
              "      <th>condition</th>\n",
              "      <th>grade</th>\n",
              "      <th>sqft_above</th>\n",
              "      <th>sqft_basement</th>\n",
              "      <th>yr_built</th>\n",
              "      <th>yr_renovated</th>\n",
              "      <th>zipcode</th>\n",
              "      <th>lat</th>\n",
              "      <th>long</th>\n",
              "      <th>sqft_living15</th>\n",
              "      <th>sqft_lot15</th>\n",
              "    </tr>\n",
              "  </thead>\n",
              "  <tbody>\n",
              "    <tr>\n",
              "      <th>2775</th>\n",
              "      <td>2775</td>\n",
              "      <td>20140611T000000</td>\n",
              "      <td>15.77031</td>\n",
              "      <td>5</td>\n",
              "      <td>4.5</td>\n",
              "      <td>10040</td>\n",
              "      <td>37325</td>\n",
              "      <td>2.0</td>\n",
              "      <td>1</td>\n",
              "      <td>2</td>\n",
              "      <td>3</td>\n",
              "      <td>11</td>\n",
              "      <td>7680</td>\n",
              "      <td>2360</td>\n",
              "      <td>1940</td>\n",
              "      <td>2001</td>\n",
              "      <td>98004</td>\n",
              "      <td>47.65</td>\n",
              "      <td>-122.214</td>\n",
              "      <td>3930</td>\n",
              "      <td>25449</td>\n",
              "    </tr>\n",
              "  </tbody>\n",
              "</table>\n",
              "</div>"
            ],
            "text/plain": [
              "        id             date     price  ...     long  sqft_living15  sqft_lot15\n",
              "2775  2775  20140611T000000  15.77031  ... -122.214           3930       25449\n",
              "\n",
              "[1 rows x 21 columns]"
            ]
          },
          "metadata": {
            "tags": []
          },
          "execution_count": 84
        }
      ]
    },
    {
      "cell_type": "markdown",
      "metadata": {
        "id": "gxAHglv8HHnh"
      },
      "source": [
        "특별한 이유가 없이 가격이 높아 보이므로 이상치로 규정하고 제거하도록 하겠습니다."
      ]
    },
    {
      "cell_type": "code",
      "metadata": {
        "id": "-Rim4T_oHRhI"
      },
      "source": [
        "data = data.loc[data['id']!=2302]\n",
        "data = data.loc[data['id']!=12346]\n",
        "data = data.loc[data['id']!=4123]\n",
        "data = data.loc[data['id']!=7259]\n",
        "data = data.loc[data['id']!=2777]"
      ],
      "execution_count": 85,
      "outputs": []
    },
    {
      "cell_type": "markdown",
      "metadata": {
        "id": "pFk-qzgvIL0I"
      },
      "source": [
        "### 3) bedrooms 처리\n",
        "- 침실의 수를 보면 위에서 한 얘기와 마찬가지로 median이 양의 상관관계를 띄고 있습니다. 그리고 bedrooms가 2 ~ 6은 분산이 매우 큰 것을 확인할 수 있습니다. 가운데의 저 값들은 다른 변수들의 영향이 크므로 위의 정보만을 보고 제거하지는 않도록 하겠습니다."
      ]
    },
    {
      "cell_type": "code",
      "metadata": {
        "colab": {
          "base_uri": "https://localhost:8080/",
          "height": 400
        },
        "id": "njXnnxX1IOPa",
        "outputId": "1f241a99-79f5-464c-e82a-843790eba435"
      },
      "source": [
        "df = pd.concat([data['price'], data['bedrooms']], axis=1)\n",
        "\n",
        "f, ax = plt.subplots(figsize=(18, 6))\n",
        "fig = sns.boxplot(x='bedrooms', y=\"price\", data=df)"
      ],
      "execution_count": 86,
      "outputs": [
        {
          "output_type": "display_data",
          "data": {
            "image/png": "[encoded data removed]",
            "text/plain": [
              "<Figure size 1296x432 with 1 Axes>"
            ]
          },
          "metadata": {
            "tags": []
          }
        }
      ]
    },
    {
      "cell_type": "markdown",
      "metadata": {
        "id": "ZGdxtwFAGrEU"
      },
      "source": [
        "## 2.2 정규화"
      ]
    },
    {
      "cell_type": "code",
      "metadata": {
        "id": "CkC3-v5MIhac"
      },
      "source": [
        "skew_columns = ['sqft_living', 'sqft_lot', 'sqft_above', 'sqft_basement']    # 로그 변환 적용할 칼럼\n",
        "\n",
        "for c in skew_columns:\n",
        "    data[c] = np.log1p(data[c].values)\n",
        "    test[c] = np.log1p(test[c].values)"
      ],
      "execution_count": 87,
      "outputs": []
    },
    {
      "cell_type": "markdown",
      "metadata": {
        "id": "bON9blTCInCZ"
      },
      "source": [
        "## 2.3 변수 수정"
      ]
    },
    {
      "cell_type": "code",
      "metadata": {
        "id": "HJbP3j1uIhiB"
      },
      "source": [
        "for df in [data, test]:\n",
        "    df['date'] = df['date'].apply(lambda x: x[0:8])\n",
        "    df['yr_renovated'] = df['yr_renovated'].apply(lambda x: np.nan if x == 0 else x)\n",
        "    df['yr_renovated'] = df['yr_renovated'].fillna(df['yr_built'])"
      ],
      "execution_count": 88,
      "outputs": []
    },
    {
      "cell_type": "markdown",
      "metadata": {
        "id": "UHvAylMkGt6G"
      },
      "source": [
        "# 3.변수 생성"
      ]
    },
    {
      "cell_type": "code",
      "metadata": {
        "colab": {
          "base_uri": "https://localhost:8080/",
          "height": 224
        },
        "id": "XhwV-CoNIhlg",
        "outputId": "042f5801-981c-4fda-a46e-55f3a83ef372"
      },
      "source": [
        "data.head()"
      ],
      "execution_count": 89,
      "outputs": [
        {
          "output_type": "execute_result",
          "data": {
            "text/html": [
              "<div>\n",
              "<style scoped>\n",
              "    .dataframe tbody tr th:only-of-type {\n",
              "        vertical-align: middle;\n",
              "    }\n",
              "\n",
              "    .dataframe tbody tr th {\n",
              "        vertical-align: top;\n",
              "    }\n",
              "\n",
              "    .dataframe thead th {\n",
              "        text-align: right;\n",
              "    }\n",
              "</style>\n",
              "<table border=\"1\" class=\"dataframe\">\n",
              "  <thead>\n",
              "    <tr style=\"text-align: right;\">\n",
              "      <th></th>\n",
              "      <th>id</th>\n",
              "      <th>date</th>\n",
              "      <th>price</th>\n",
              "      <th>bedrooms</th>\n",
              "      <th>bathrooms</th>\n",
              "      <th>sqft_living</th>\n",
              "      <th>sqft_lot</th>\n",
              "      <th>floors</th>\n",
              "      <th>waterfront</th>\n",
              "      <th>view</th>\n",
              "      <th>condition</th>\n",
              "      <th>grade</th>\n",
              "      <th>sqft_above</th>\n",
              "      <th>sqft_basement</th>\n",
              "      <th>yr_built</th>\n",
              "      <th>yr_renovated</th>\n",
              "      <th>zipcode</th>\n",
              "      <th>lat</th>\n",
              "      <th>long</th>\n",
              "      <th>sqft_living15</th>\n",
              "      <th>sqft_lot15</th>\n",
              "    </tr>\n",
              "  </thead>\n",
              "  <tbody>\n",
              "    <tr>\n",
              "      <th>0</th>\n",
              "      <td>0</td>\n",
              "      <td>20141013</td>\n",
              "      <td>12.309987</td>\n",
              "      <td>3</td>\n",
              "      <td>1.00</td>\n",
              "      <td>7.074117</td>\n",
              "      <td>8.639588</td>\n",
              "      <td>1.0</td>\n",
              "      <td>0</td>\n",
              "      <td>0</td>\n",
              "      <td>3</td>\n",
              "      <td>7</td>\n",
              "      <td>7.074117</td>\n",
              "      <td>0.0</td>\n",
              "      <td>1955</td>\n",
              "      <td>1955.0</td>\n",
              "      <td>98178</td>\n",
              "      <td>47.5112</td>\n",
              "      <td>-122.257</td>\n",
              "      <td>1340</td>\n",
              "      <td>5650</td>\n",
              "    </tr>\n",
              "    <tr>\n",
              "      <th>1</th>\n",
              "      <td>1</td>\n",
              "      <td>20150225</td>\n",
              "      <td>12.100718</td>\n",
              "      <td>2</td>\n",
              "      <td>1.00</td>\n",
              "      <td>6.647688</td>\n",
              "      <td>9.210440</td>\n",
              "      <td>1.0</td>\n",
              "      <td>0</td>\n",
              "      <td>0</td>\n",
              "      <td>3</td>\n",
              "      <td>6</td>\n",
              "      <td>6.647688</td>\n",
              "      <td>0.0</td>\n",
              "      <td>1933</td>\n",
              "      <td>1933.0</td>\n",
              "      <td>98028</td>\n",
              "      <td>47.7379</td>\n",
              "      <td>-122.233</td>\n",
              "      <td>2720</td>\n",
              "      <td>8062</td>\n",
              "    </tr>\n",
              "    <tr>\n",
              "      <th>2</th>\n",
              "      <td>2</td>\n",
              "      <td>20150218</td>\n",
              "      <td>13.142168</td>\n",
              "      <td>3</td>\n",
              "      <td>2.00</td>\n",
              "      <td>7.427144</td>\n",
              "      <td>8.997271</td>\n",
              "      <td>1.0</td>\n",
              "      <td>0</td>\n",
              "      <td>0</td>\n",
              "      <td>3</td>\n",
              "      <td>8</td>\n",
              "      <td>7.427144</td>\n",
              "      <td>0.0</td>\n",
              "      <td>1987</td>\n",
              "      <td>1987.0</td>\n",
              "      <td>98074</td>\n",
              "      <td>47.6168</td>\n",
              "      <td>-122.045</td>\n",
              "      <td>1800</td>\n",
              "      <td>7503</td>\n",
              "    </tr>\n",
              "    <tr>\n",
              "      <th>3</th>\n",
              "      <td>3</td>\n",
              "      <td>20140627</td>\n",
              "      <td>12.458779</td>\n",
              "      <td>3</td>\n",
              "      <td>2.25</td>\n",
              "      <td>7.447751</td>\n",
              "      <td>8.827615</td>\n",
              "      <td>2.0</td>\n",
              "      <td>0</td>\n",
              "      <td>0</td>\n",
              "      <td>3</td>\n",
              "      <td>7</td>\n",
              "      <td>7.447751</td>\n",
              "      <td>0.0</td>\n",
              "      <td>1995</td>\n",
              "      <td>1995.0</td>\n",
              "      <td>98003</td>\n",
              "      <td>47.3097</td>\n",
              "      <td>-122.327</td>\n",
              "      <td>2238</td>\n",
              "      <td>6819</td>\n",
              "    </tr>\n",
              "    <tr>\n",
              "      <th>4</th>\n",
              "      <td>4</td>\n",
              "      <td>20150115</td>\n",
              "      <td>12.583999</td>\n",
              "      <td>3</td>\n",
              "      <td>1.50</td>\n",
              "      <td>6.966967</td>\n",
              "      <td>9.181118</td>\n",
              "      <td>1.0</td>\n",
              "      <td>0</td>\n",
              "      <td>0</td>\n",
              "      <td>3</td>\n",
              "      <td>7</td>\n",
              "      <td>6.966967</td>\n",
              "      <td>0.0</td>\n",
              "      <td>1963</td>\n",
              "      <td>1963.0</td>\n",
              "      <td>98198</td>\n",
              "      <td>47.4095</td>\n",
              "      <td>-122.315</td>\n",
              "      <td>1650</td>\n",
              "      <td>9711</td>\n",
              "    </tr>\n",
              "  </tbody>\n",
              "</table>\n",
              "</div>"
            ],
            "text/plain": [
              "   id      date      price  ...     long  sqft_living15  sqft_lot15\n",
              "0   0  20141013  12.309987  ... -122.257           1340        5650\n",
              "1   1  20150225  12.100718  ... -122.233           2720        8062\n",
              "2   2  20150218  13.142168  ... -122.045           1800        7503\n",
              "3   3  20140627  12.458779  ... -122.327           2238        6819\n",
              "4   4  20150115  12.583999  ... -122.315           1650        9711\n",
              "\n",
              "[5 rows x 21 columns]"
            ]
          },
          "metadata": {
            "tags": []
          },
          "execution_count": 89
        }
      ]
    },
    {
      "cell_type": "code",
      "metadata": {
        "id": "EbfFAtzRIhon"
      },
      "source": [
        "for df in [data, test]:\n",
        "    # 방의 전체 갯수 \n",
        "    df['total_rooms'] = df['bedrooms'] + df['bathrooms']\n",
        "    \n",
        "    # 거실의 비율 \n",
        "    df['sqft_ratio'] = df['sqft_living'] / df['sqft_lot']\n",
        "    \n",
        "    df['sqft_total_size'] = df['sqft_above'] + df['sqft_basement']\n",
        "    \n",
        "    # 면적 대비 거실의 비율 \n",
        "    df['sqft_ratio_1'] = df['sqft_living'] / df['sqft_total_size']\n",
        "    \n",
        "    df['sqft_ratio15'] = df['sqft_living15'] / df['sqft_lot15'] \n",
        "    \n",
        "    # 재건축 여부 \n",
        "    df['is_renovated'] = df['yr_renovated'] - df['yr_built']\n",
        "    df['is_renovated'] = df['is_renovated'].apply(lambda x: 0 if x == 0 else 1)\n",
        "    df['date'] = df['date'].astype('int')"
      ],
      "execution_count": 90,
      "outputs": []
    },
    {
      "cell_type": "code",
      "metadata": {
        "colab": {
          "base_uri": "https://localhost:8080/",
          "height": 224
        },
        "id": "5P93q36NLQFY",
        "outputId": "9c7918a3-f3d1-4324-e11b-d22fa8cc5cf1"
      },
      "source": [
        "data.head()"
      ],
      "execution_count": 91,
      "outputs": [
        {
          "output_type": "execute_result",
          "data": {
            "text/html": [
              "<div>\n",
              "<style scoped>\n",
              "    .dataframe tbody tr th:only-of-type {\n",
              "        vertical-align: middle;\n",
              "    }\n",
              "\n",
              "    .dataframe tbody tr th {\n",
              "        vertical-align: top;\n",
              "    }\n",
              "\n",
              "    .dataframe thead th {\n",
              "        text-align: right;\n",
              "    }\n",
              "</style>\n",
              "<table border=\"1\" class=\"dataframe\">\n",
              "  <thead>\n",
              "    <tr style=\"text-align: right;\">\n",
              "      <th></th>\n",
              "      <th>id</th>\n",
              "      <th>date</th>\n",
              "      <th>price</th>\n",
              "      <th>bedrooms</th>\n",
              "      <th>bathrooms</th>\n",
              "      <th>sqft_living</th>\n",
              "      <th>sqft_lot</th>\n",
              "      <th>floors</th>\n",
              "      <th>waterfront</th>\n",
              "      <th>view</th>\n",
              "      <th>condition</th>\n",
              "      <th>grade</th>\n",
              "      <th>sqft_above</th>\n",
              "      <th>sqft_basement</th>\n",
              "      <th>yr_built</th>\n",
              "      <th>yr_renovated</th>\n",
              "      <th>zipcode</th>\n",
              "      <th>lat</th>\n",
              "      <th>long</th>\n",
              "      <th>sqft_living15</th>\n",
              "      <th>sqft_lot15</th>\n",
              "      <th>total_rooms</th>\n",
              "      <th>sqft_ratio</th>\n",
              "      <th>sqft_total_size</th>\n",
              "      <th>sqft_ratio_1</th>\n",
              "      <th>sqft_ratio15</th>\n",
              "      <th>is_renovated</th>\n",
              "    </tr>\n",
              "  </thead>\n",
              "  <tbody>\n",
              "    <tr>\n",
              "      <th>0</th>\n",
              "      <td>0</td>\n",
              "      <td>20141013</td>\n",
              "      <td>12.309987</td>\n",
              "      <td>3</td>\n",
              "      <td>1.00</td>\n",
              "      <td>7.074117</td>\n",
              "      <td>8.639588</td>\n",
              "      <td>1.0</td>\n",
              "      <td>0</td>\n",
              "      <td>0</td>\n",
              "      <td>3</td>\n",
              "      <td>7</td>\n",
              "      <td>7.074117</td>\n",
              "      <td>0.0</td>\n",
              "      <td>1955</td>\n",
              "      <td>1955.0</td>\n",
              "      <td>98178</td>\n",
              "      <td>47.5112</td>\n",
              "      <td>-122.257</td>\n",
              "      <td>1340</td>\n",
              "      <td>5650</td>\n",
              "      <td>4.00</td>\n",
              "      <td>0.818803</td>\n",
              "      <td>7.074117</td>\n",
              "      <td>1.0</td>\n",
              "      <td>0.237168</td>\n",
              "      <td>0</td>\n",
              "    </tr>\n",
              "    <tr>\n",
              "      <th>1</th>\n",
              "      <td>1</td>\n",
              "      <td>20150225</td>\n",
              "      <td>12.100718</td>\n",
              "      <td>2</td>\n",
              "      <td>1.00</td>\n",
              "      <td>6.647688</td>\n",
              "      <td>9.210440</td>\n",
              "      <td>1.0</td>\n",
              "      <td>0</td>\n",
              "      <td>0</td>\n",
              "      <td>3</td>\n",
              "      <td>6</td>\n",
              "      <td>6.647688</td>\n",
              "      <td>0.0</td>\n",
              "      <td>1933</td>\n",
              "      <td>1933.0</td>\n",
              "      <td>98028</td>\n",
              "      <td>47.7379</td>\n",
              "      <td>-122.233</td>\n",
              "      <td>2720</td>\n",
              "      <td>8062</td>\n",
              "      <td>3.00</td>\n",
              "      <td>0.721756</td>\n",
              "      <td>6.647688</td>\n",
              "      <td>1.0</td>\n",
              "      <td>0.337385</td>\n",
              "      <td>0</td>\n",
              "    </tr>\n",
              "    <tr>\n",
              "      <th>2</th>\n",
              "      <td>2</td>\n",
              "      <td>20150218</td>\n",
              "      <td>13.142168</td>\n",
              "      <td>3</td>\n",
              "      <td>2.00</td>\n",
              "      <td>7.427144</td>\n",
              "      <td>8.997271</td>\n",
              "      <td>1.0</td>\n",
              "      <td>0</td>\n",
              "      <td>0</td>\n",
              "      <td>3</td>\n",
              "      <td>8</td>\n",
              "      <td>7.427144</td>\n",
              "      <td>0.0</td>\n",
              "      <td>1987</td>\n",
              "      <td>1987.0</td>\n",
              "      <td>98074</td>\n",
              "      <td>47.6168</td>\n",
              "      <td>-122.045</td>\n",
              "      <td>1800</td>\n",
              "      <td>7503</td>\n",
              "      <td>5.00</td>\n",
              "      <td>0.825489</td>\n",
              "      <td>7.427144</td>\n",
              "      <td>1.0</td>\n",
              "      <td>0.239904</td>\n",
              "      <td>0</td>\n",
              "    </tr>\n",
              "    <tr>\n",
              "      <th>3</th>\n",
              "      <td>3</td>\n",
              "      <td>20140627</td>\n",
              "      <td>12.458779</td>\n",
              "      <td>3</td>\n",
              "      <td>2.25</td>\n",
              "      <td>7.447751</td>\n",
              "      <td>8.827615</td>\n",
              "      <td>2.0</td>\n",
              "      <td>0</td>\n",
              "      <td>0</td>\n",
              "      <td>3</td>\n",
              "      <td>7</td>\n",
              "      <td>7.447751</td>\n",
              "      <td>0.0</td>\n",
              "      <td>1995</td>\n",
              "      <td>1995.0</td>\n",
              "      <td>98003</td>\n",
              "      <td>47.3097</td>\n",
              "      <td>-122.327</td>\n",
              "      <td>2238</td>\n",
              "      <td>6819</td>\n",
              "      <td>5.25</td>\n",
              "      <td>0.843688</td>\n",
              "      <td>7.447751</td>\n",
              "      <td>1.0</td>\n",
              "      <td>0.328201</td>\n",
              "      <td>0</td>\n",
              "    </tr>\n",
              "    <tr>\n",
              "      <th>4</th>\n",
              "      <td>4</td>\n",
              "      <td>20150115</td>\n",
              "      <td>12.583999</td>\n",
              "      <td>3</td>\n",
              "      <td>1.50</td>\n",
              "      <td>6.966967</td>\n",
              "      <td>9.181118</td>\n",
              "      <td>1.0</td>\n",
              "      <td>0</td>\n",
              "      <td>0</td>\n",
              "      <td>3</td>\n",
              "      <td>7</td>\n",
              "      <td>6.966967</td>\n",
              "      <td>0.0</td>\n",
              "      <td>1963</td>\n",
              "      <td>1963.0</td>\n",
              "      <td>98198</td>\n",
              "      <td>47.4095</td>\n",
              "      <td>-122.315</td>\n",
              "      <td>1650</td>\n",
              "      <td>9711</td>\n",
              "      <td>4.50</td>\n",
              "      <td>0.758837</td>\n",
              "      <td>6.966967</td>\n",
              "      <td>1.0</td>\n",
              "      <td>0.169910</td>\n",
              "      <td>0</td>\n",
              "    </tr>\n",
              "  </tbody>\n",
              "</table>\n",
              "</div>"
            ],
            "text/plain": [
              "   id      date      price  ...  sqft_ratio_1  sqft_ratio15  is_renovated\n",
              "0   0  20141013  12.309987  ...           1.0      0.237168             0\n",
              "1   1  20150225  12.100718  ...           1.0      0.337385             0\n",
              "2   2  20150218  13.142168  ...           1.0      0.239904             0\n",
              "3   3  20140627  12.458779  ...           1.0      0.328201             0\n",
              "4   4  20150115  12.583999  ...           1.0      0.169910             0\n",
              "\n",
              "[5 rows x 27 columns]"
            ]
          },
          "metadata": {
            "tags": []
          },
          "execution_count": 91
        }
      ]
    },
    {
      "cell_type": "code",
      "metadata": {
        "id": "nZR7Rd7tLAnS"
      },
      "source": [
        "# 평당 가격\n",
        "data['per_price'] = data['price']/data['sqft_total_size']\n",
        "zipcode_price = data.groupby(['zipcode'])['per_price'].agg({'mean','var'}).reset_index()\n",
        "data = pd.merge(data,zipcode_price,how='left',on='zipcode')\n",
        "test = pd.merge(test,zipcode_price,how='left',on='zipcode')\n",
        "\n",
        "for df in [data, test]:\n",
        "    df['zipcode_mean'] = df['mean'] * df['sqft_total_size']\n",
        "    df['zipcode_var'] = df['var'] * df['sqft_total_size']\n",
        "    del df['mean']; del df['var']\n",
        "\n",
        "del data['per_price']"
      ],
      "execution_count": 92,
      "outputs": []
    },
    {
      "cell_type": "code",
      "metadata": {
        "colab": {
          "base_uri": "https://localhost:8080/",
          "height": 224
        },
        "id": "W8R5JTjnLYcS",
        "outputId": "70a92cb8-ca2f-4645-b5a6-4304e2b9a3a1"
      },
      "source": [
        "data.head()"
      ],
      "execution_count": 93,
      "outputs": [
        {
          "output_type": "execute_result",
          "data": {
            "text/html": [
              "<div>\n",
              "<style scoped>\n",
              "    .dataframe tbody tr th:only-of-type {\n",
              "        vertical-align: middle;\n",
              "    }\n",
              "\n",
              "    .dataframe tbody tr th {\n",
              "        vertical-align: top;\n",
              "    }\n",
              "\n",
              "    .dataframe thead th {\n",
              "        text-align: right;\n",
              "    }\n",
              "</style>\n",
              "<table border=\"1\" class=\"dataframe\">\n",
              "  <thead>\n",
              "    <tr style=\"text-align: right;\">\n",
              "      <th></th>\n",
              "      <th>id</th>\n",
              "      <th>date</th>\n",
              "      <th>price</th>\n",
              "      <th>bedrooms</th>\n",
              "      <th>bathrooms</th>\n",
              "      <th>sqft_living</th>\n",
              "      <th>sqft_lot</th>\n",
              "      <th>floors</th>\n",
              "      <th>waterfront</th>\n",
              "      <th>view</th>\n",
              "      <th>condition</th>\n",
              "      <th>grade</th>\n",
              "      <th>sqft_above</th>\n",
              "      <th>sqft_basement</th>\n",
              "      <th>yr_built</th>\n",
              "      <th>yr_renovated</th>\n",
              "      <th>zipcode</th>\n",
              "      <th>lat</th>\n",
              "      <th>long</th>\n",
              "      <th>sqft_living15</th>\n",
              "      <th>sqft_lot15</th>\n",
              "      <th>total_rooms</th>\n",
              "      <th>sqft_ratio</th>\n",
              "      <th>sqft_total_size</th>\n",
              "      <th>sqft_ratio_1</th>\n",
              "      <th>sqft_ratio15</th>\n",
              "      <th>is_renovated</th>\n",
              "      <th>zipcode_mean</th>\n",
              "      <th>zipcode_var</th>\n",
              "    </tr>\n",
              "  </thead>\n",
              "  <tbody>\n",
              "    <tr>\n",
              "      <th>0</th>\n",
              "      <td>0</td>\n",
              "      <td>20141013</td>\n",
              "      <td>12.309987</td>\n",
              "      <td>3</td>\n",
              "      <td>1.00</td>\n",
              "      <td>7.074117</td>\n",
              "      <td>8.639588</td>\n",
              "      <td>1.0</td>\n",
              "      <td>0</td>\n",
              "      <td>0</td>\n",
              "      <td>3</td>\n",
              "      <td>7</td>\n",
              "      <td>7.074117</td>\n",
              "      <td>0.0</td>\n",
              "      <td>1955</td>\n",
              "      <td>1955.0</td>\n",
              "      <td>98178</td>\n",
              "      <td>47.5112</td>\n",
              "      <td>-122.257</td>\n",
              "      <td>1340</td>\n",
              "      <td>5650</td>\n",
              "      <td>4.00</td>\n",
              "      <td>0.818803</td>\n",
              "      <td>7.074117</td>\n",
              "      <td>1.0</td>\n",
              "      <td>0.237168</td>\n",
              "      <td>0</td>\n",
              "      <td>9.368147</td>\n",
              "      <td>1.214207</td>\n",
              "    </tr>\n",
              "    <tr>\n",
              "      <th>1</th>\n",
              "      <td>1</td>\n",
              "      <td>20150225</td>\n",
              "      <td>12.100718</td>\n",
              "      <td>2</td>\n",
              "      <td>1.00</td>\n",
              "      <td>6.647688</td>\n",
              "      <td>9.210440</td>\n",
              "      <td>1.0</td>\n",
              "      <td>0</td>\n",
              "      <td>0</td>\n",
              "      <td>3</td>\n",
              "      <td>6</td>\n",
              "      <td>6.647688</td>\n",
              "      <td>0.0</td>\n",
              "      <td>1933</td>\n",
              "      <td>1933.0</td>\n",
              "      <td>98028</td>\n",
              "      <td>47.7379</td>\n",
              "      <td>-122.233</td>\n",
              "      <td>2720</td>\n",
              "      <td>8062</td>\n",
              "      <td>3.00</td>\n",
              "      <td>0.721756</td>\n",
              "      <td>6.647688</td>\n",
              "      <td>1.0</td>\n",
              "      <td>0.337385</td>\n",
              "      <td>0</td>\n",
              "      <td>9.257745</td>\n",
              "      <td>1.023549</td>\n",
              "    </tr>\n",
              "    <tr>\n",
              "      <th>2</th>\n",
              "      <td>2</td>\n",
              "      <td>20150218</td>\n",
              "      <td>13.142168</td>\n",
              "      <td>3</td>\n",
              "      <td>2.00</td>\n",
              "      <td>7.427144</td>\n",
              "      <td>8.997271</td>\n",
              "      <td>1.0</td>\n",
              "      <td>0</td>\n",
              "      <td>0</td>\n",
              "      <td>3</td>\n",
              "      <td>8</td>\n",
              "      <td>7.427144</td>\n",
              "      <td>0.0</td>\n",
              "      <td>1987</td>\n",
              "      <td>1987.0</td>\n",
              "      <td>98074</td>\n",
              "      <td>47.6168</td>\n",
              "      <td>-122.045</td>\n",
              "      <td>1800</td>\n",
              "      <td>7503</td>\n",
              "      <td>5.00</td>\n",
              "      <td>0.825489</td>\n",
              "      <td>7.427144</td>\n",
              "      <td>1.0</td>\n",
              "      <td>0.239904</td>\n",
              "      <td>0</td>\n",
              "      <td>11.307711</td>\n",
              "      <td>0.826257</td>\n",
              "    </tr>\n",
              "    <tr>\n",
              "      <th>3</th>\n",
              "      <td>3</td>\n",
              "      <td>20140627</td>\n",
              "      <td>12.458779</td>\n",
              "      <td>3</td>\n",
              "      <td>2.25</td>\n",
              "      <td>7.447751</td>\n",
              "      <td>8.827615</td>\n",
              "      <td>2.0</td>\n",
              "      <td>0</td>\n",
              "      <td>0</td>\n",
              "      <td>3</td>\n",
              "      <td>7</td>\n",
              "      <td>7.447751</td>\n",
              "      <td>0.0</td>\n",
              "      <td>1995</td>\n",
              "      <td>1995.0</td>\n",
              "      <td>98003</td>\n",
              "      <td>47.3097</td>\n",
              "      <td>-122.327</td>\n",
              "      <td>2238</td>\n",
              "      <td>6819</td>\n",
              "      <td>5.25</td>\n",
              "      <td>0.843688</td>\n",
              "      <td>7.447751</td>\n",
              "      <td>1.0</td>\n",
              "      <td>0.328201</td>\n",
              "      <td>0</td>\n",
              "      <td>10.626177</td>\n",
              "      <td>1.012780</td>\n",
              "    </tr>\n",
              "    <tr>\n",
              "      <th>4</th>\n",
              "      <td>4</td>\n",
              "      <td>20150115</td>\n",
              "      <td>12.583999</td>\n",
              "      <td>3</td>\n",
              "      <td>1.50</td>\n",
              "      <td>6.966967</td>\n",
              "      <td>9.181118</td>\n",
              "      <td>1.0</td>\n",
              "      <td>0</td>\n",
              "      <td>0</td>\n",
              "      <td>3</td>\n",
              "      <td>7</td>\n",
              "      <td>6.966967</td>\n",
              "      <td>0.0</td>\n",
              "      <td>1963</td>\n",
              "      <td>1963.0</td>\n",
              "      <td>98198</td>\n",
              "      <td>47.4095</td>\n",
              "      <td>-122.315</td>\n",
              "      <td>1650</td>\n",
              "      <td>9711</td>\n",
              "      <td>4.50</td>\n",
              "      <td>0.758837</td>\n",
              "      <td>6.966967</td>\n",
              "      <td>1.0</td>\n",
              "      <td>0.169910</td>\n",
              "      <td>0</td>\n",
              "      <td>10.032009</td>\n",
              "      <td>1.002206</td>\n",
              "    </tr>\n",
              "  </tbody>\n",
              "</table>\n",
              "</div>"
            ],
            "text/plain": [
              "   id      date      price  ...  is_renovated  zipcode_mean  zipcode_var\n",
              "0   0  20141013  12.309987  ...             0      9.368147     1.214207\n",
              "1   1  20150225  12.100718  ...             0      9.257745     1.023549\n",
              "2   2  20150218  13.142168  ...             0     11.307711     0.826257\n",
              "3   3  20140627  12.458779  ...             0     10.626177     1.012780\n",
              "4   4  20150115  12.583999  ...             0     10.032009     1.002206\n",
              "\n",
              "[5 rows x 29 columns]"
            ]
          },
          "metadata": {
            "tags": []
          },
          "execution_count": 93
        }
      ]
    },
    {
      "cell_type": "markdown",
      "metadata": {
        "id": "SDv6F0_US-Af"
      },
      "source": [
        "### train데이터와 target데이터 분리"
      ]
    },
    {
      "cell_type": "code",
      "metadata": {
        "colab": {
          "base_uri": "https://localhost:8080/"
        },
        "id": "YTVMmZIvTFUQ",
        "outputId": "604f9e85-6329-4588-ba7e-6ff738efeb82"
      },
      "source": [
        "y = data['price']\n",
        "del data['price']\n",
        "\n",
        "y"
      ],
      "execution_count": 94,
      "outputs": [
        {
          "output_type": "execute_result",
          "data": {
            "text/plain": [
              "0        12.309987\n",
              "1        12.100718\n",
              "2        13.142168\n",
              "3        12.458779\n",
              "4        12.583999\n",
              "           ...    \n",
              "15024    13.322338\n",
              "15025    13.822984\n",
              "15026    12.793862\n",
              "15027    12.899222\n",
              "15028    12.691584\n",
              "Name: price, Length: 15029, dtype: float64"
            ]
          },
          "metadata": {
            "tags": []
          },
          "execution_count": 94
        }
      ]
    },
    {
      "cell_type": "markdown",
      "metadata": {
        "id": "zCj88g5LGwQa"
      },
      "source": [
        "#4.모델링"
      ]
    },
    {
      "cell_type": "markdown",
      "metadata": {
        "id": "WapxBS-Slm5k"
      },
      "source": [
        "로그변환된 데이터를 가져와서 RMSE 점수를 계산하는 함수\n",
        "- y_test나 y_pred는 위에서 *np.log1p( )*로 변환이 된 값이기 때문에 **원래 데이터의 단위에 맞게 되돌리기 위해** *np.expm1( )*을 추가해야 한다.\n",
        "\n",
        "- exp로 다시 변환해서 mean_squared_error를 계산한 값에 *np.sqrt( )*를 취하면 RMSE 값을 얻을 수 있다.\n"
      ]
    },
    {
      "cell_type": "code",
      "metadata": {
        "id": "C_8GBB_WRDgO"
      },
      "source": [
        "def rmse(y_test, y_pred):\n",
        "    return np.sqrt(mean_squared_error(np.expm1(y_test), np.expm1(y_pred)))"
      ],
      "execution_count": 95,
      "outputs": []
    },
    {
      "cell_type": "code",
      "metadata": {
        "id": "6qAodFnSPw5Z"
      },
      "source": [
        "random_state=2021         # 시드값 고정\n",
        "\n",
        "gboost = GradientBoostingRegressor(random_state=random_state)\n",
        "xgboost = XGBRegressor(random_state=random_state)\n",
        "lightgbm = LGBMRegressor(random_state=random_state)\n",
        "rdforest = RandomForestRegressor(random_state=random_state)\n",
        "\n",
        "models = [gboost, xgboost, lightgbm, rdforest]"
      ],
      "execution_count": 121,
      "outputs": []
    },
    {
      "cell_type": "markdown",
      "metadata": {
        "id": "bmSMgXUvTkVb"
      },
      "source": [
        "모델과 데이터셋이 있다면 RMSE 결과값을 반환하는 함수$get\\_scores$를 작성한다."
      ]
    },
    {
      "cell_type": "code",
      "metadata": {
        "id": "jdi6yzQnQ56O"
      },
      "source": [
        "def get_scores(models, train, y):\n",
        "    df = {}\n",
        "    \n",
        "    for model in models:\n",
        "        model_name = model.__class__.__name__\n",
        "        \n",
        "        X_train, X_test, y_train, y_test = train_test_split(train, y, random_state=random_state, test_size=0.2)\n",
        "        model.fit(X_train, y_train)\n",
        "        y_pred = model.predict(X_test)\n",
        "        \n",
        "        df[model_name] = rmse(y_test, y_pred)\n",
        "        score_df = pd.DataFrame(df, index=['RMSE']).T.sort_values('RMSE', ascending=False)\n",
        "            \n",
        "    return score_df"
      ],
      "execution_count": 97,
      "outputs": []
    },
    {
      "cell_type": "markdown",
      "metadata": {
        "id": "Tmk-TEMvhZ96"
      },
      "source": [
        "### 그리드 탐색 과정을 함수로 작성\n",
        "- 파라미터 조합과 score, RMSLE가 담긴 DataFrame을 반환한다.\n",
        "\n",
        "<br>\n",
        "\n",
        "**'그리드 탐색'**은 사람이 먼저 **탐색할 하이퍼 파라미터의 값들을 정해두고,** 그 값들로 만들어질 수 있는 모든 조합을 탐색한다. 특정 값에 대한 하이퍼 파라미터 조합을 모두 탐색하고자 할 때 유리하다.\n",
        "\n",
        "$sklearn.model\\_selection$ 라이브러리 안에 있는 $GridSearchCV$ 클래스를 활용할 것이다.\n",
        "\n",
        "<br>\n",
        "\n",
        "먼저 $GridSearchCV$에 입력되는 인자들은 다음과 같다.\n",
        "\n",
        "- **param_grid** : 탐색할 파라미터의 종류 (딕셔너리로 입력)\n",
        "- **scoring** : 모델의 성능을 평가할 지표\n",
        "- **cv** : cross validation을 수행하기 위해 train 데이터셋을 나누는 조각의 개수\n",
        "- **verbose** : 그리드 탐색을 진행하면서 진행 과정을 출력해서 보여줄 메세지의 양 (숫자가 클수록 더 많은 메세지를 출력합니다.)\n",
        "- **n_jobs** : 그리드 탐색을 진행하면서 사용할 CPU의 개수"
      ]
    },
    {
      "cell_type": "code",
      "metadata": {
        "id": "FI_DYdDQSwOQ"
      },
      "source": [
        "def my_GridSearch(model, train, y, param_grid, verbose=2, n_jobs=5):\n",
        "    # GridSearchCV 모델로 초기화\n",
        "    grid_model = GridSearchCV(model, param_grid=param_grid, scoring='neg_mean_squared_error', \\\n",
        "                              cv=5, verbose=verbose, n_jobs=n_jobs)\n",
        "    \n",
        "    # 모델 fitting\n",
        "    grid_model.fit(train, y)\n",
        "\n",
        "    # 결과값 저장\n",
        "    params = grid_model.cv_results_['params']\n",
        "    score = grid_model.cv_results_['mean_test_score']\n",
        "    \n",
        "    # 데이터 프레임 생성\n",
        "    results = pd.DataFrame(params)\n",
        "    results['score'] = score\n",
        "    \n",
        "    # RMSLE 값 계산 후 정렬\n",
        "    results['RMSLE'] = np.sqrt(-1 * results['score'])\n",
        "    results = results.sort_values('RMSLE')\n",
        "\n",
        "    return results"
      ],
      "execution_count": 98,
      "outputs": []
    },
    {
      "cell_type": "markdown",
      "metadata": {
        "id": "cphJP9aMwaMC"
      },
      "source": [
        "### ✓ 튜닝해볼 수 있는 모델 클래스 인자\n",
        "\n",
        "**1) lightbm**\n",
        "![이미지](https://drive.google.com/uc?export=view&id=1tQFHB_oY2HJwBYlp9nssCZ0c7ki1lq4G)\n",
        "\n",
        "대표적으로 자주 튜닝하는 lightgbm 라이브러리의 인자는 다음과 같다.\n",
        "\n",
        "- max_depth : 의사 결정 나무의 깊이, 정수 사용\n",
        "- learning_rate : 한 스텝에 이동하는 양을 결정하는 파라미터, 보통 0.0001\\~0.1 사이의 실수 사용\n",
        "- n_estimators : 사용하는 개별 모델의 개수, 보통 50~100 이상의 정수 사용\n",
        "- num_leaves : 하나의 LightGBM 트리가 가질 수 있는 최대 잎의 수\n",
        "- boosting_type : 부스팅 방식, gbdt, rf 등의 문자열 입력"
      ]
    },
    {
      "cell_type": "code",
      "metadata": {
        "colab": {
          "base_uri": "https://localhost:8080/",
          "height": 1000
        },
        "id": "eZu54ZsETxQW",
        "outputId": "ba6f4eb2-6684-43c6-9a60-5b89cf0dd66e"
      },
      "source": [
        "# 하이퍼파라미터 값 설정\n",
        "param_grid = {\n",
        "    'n_estimators': [50, 100, 50],\n",
        "    'max_depth': [1, 10, 15],\n",
        "    'min_child_samples': [10, 15, 20],\n",
        "    'subsample':[0.8,1]\n",
        "    #'learning_rate': [0.01, 0.03, 0.05]\n",
        "}\n",
        "\n",
        "# 모델 초기화\n",
        "model = LGBMRegressor(random_state=random_state)\n",
        "\n",
        "# 직접 작성한 '그리드 탐색' 함수\n",
        "my_GridSearch(model, data, y, param_grid, verbose=2, n_jobs=5)"
      ],
      "execution_count": 112,
      "outputs": [
        {
          "output_type": "stream",
          "text": [
            "Fitting 5 folds for each of 45 candidates, totalling 225 fits\n"
          ],
          "name": "stdout"
        },
        {
          "output_type": "stream",
          "text": [
            "[Parallel(n_jobs=5)]: Using backend LokyBackend with 5 concurrent workers.\n",
            "[Parallel(n_jobs=5)]: Done  31 tasks      | elapsed:    6.7s\n",
            "[Parallel(n_jobs=5)]: Done 152 tasks      | elapsed:   56.3s\n",
            "[Parallel(n_jobs=5)]: Done 225 out of 225 | elapsed:  1.6min finished\n"
          ],
          "name": "stderr"
        },
        {
          "output_type": "execute_result",
          "data": {
            "text/html": [
              "<div>\n",
              "<style scoped>\n",
              "    .dataframe tbody tr th:only-of-type {\n",
              "        vertical-align: middle;\n",
              "    }\n",
              "\n",
              "    .dataframe tbody tr th {\n",
              "        vertical-align: top;\n",
              "    }\n",
              "\n",
              "    .dataframe thead th {\n",
              "        text-align: right;\n",
              "    }\n",
              "</style>\n",
              "<table border=\"1\" class=\"dataframe\">\n",
              "  <thead>\n",
              "    <tr style=\"text-align: right;\">\n",
              "      <th></th>\n",
              "      <th>max_depth</th>\n",
              "      <th>min_child_samples</th>\n",
              "      <th>n_estimators</th>\n",
              "      <th>score</th>\n",
              "      <th>RMSLE</th>\n",
              "    </tr>\n",
              "  </thead>\n",
              "  <tbody>\n",
              "    <tr>\n",
              "      <th>39</th>\n",
              "      <td>15</td>\n",
              "      <td>10</td>\n",
              "      <td>150</td>\n",
              "      <td>-0.026798</td>\n",
              "      <td>0.163700</td>\n",
              "    </tr>\n",
              "    <tr>\n",
              "      <th>24</th>\n",
              "      <td>10</td>\n",
              "      <td>10</td>\n",
              "      <td>150</td>\n",
              "      <td>-0.026919</td>\n",
              "      <td>0.164070</td>\n",
              "    </tr>\n",
              "    <tr>\n",
              "      <th>29</th>\n",
              "      <td>10</td>\n",
              "      <td>15</td>\n",
              "      <td>150</td>\n",
              "      <td>-0.026965</td>\n",
              "      <td>0.164209</td>\n",
              "    </tr>\n",
              "    <tr>\n",
              "      <th>44</th>\n",
              "      <td>15</td>\n",
              "      <td>15</td>\n",
              "      <td>150</td>\n",
              "      <td>-0.026977</td>\n",
              "      <td>0.164248</td>\n",
              "    </tr>\n",
              "    <tr>\n",
              "      <th>38</th>\n",
              "      <td>15</td>\n",
              "      <td>10</td>\n",
              "      <td>125</td>\n",
              "      <td>-0.026980</td>\n",
              "      <td>0.164256</td>\n",
              "    </tr>\n",
              "    <tr>\n",
              "      <th>23</th>\n",
              "      <td>10</td>\n",
              "      <td>10</td>\n",
              "      <td>125</td>\n",
              "      <td>-0.027052</td>\n",
              "      <td>0.164476</td>\n",
              "    </tr>\n",
              "    <tr>\n",
              "      <th>19</th>\n",
              "      <td>10</td>\n",
              "      <td>5</td>\n",
              "      <td>150</td>\n",
              "      <td>-0.027063</td>\n",
              "      <td>0.164509</td>\n",
              "    </tr>\n",
              "    <tr>\n",
              "      <th>28</th>\n",
              "      <td>10</td>\n",
              "      <td>15</td>\n",
              "      <td>125</td>\n",
              "      <td>-0.027136</td>\n",
              "      <td>0.164731</td>\n",
              "    </tr>\n",
              "    <tr>\n",
              "      <th>43</th>\n",
              "      <td>15</td>\n",
              "      <td>15</td>\n",
              "      <td>125</td>\n",
              "      <td>-0.027150</td>\n",
              "      <td>0.164773</td>\n",
              "    </tr>\n",
              "    <tr>\n",
              "      <th>34</th>\n",
              "      <td>15</td>\n",
              "      <td>5</td>\n",
              "      <td>150</td>\n",
              "      <td>-0.027150</td>\n",
              "      <td>0.164773</td>\n",
              "    </tr>\n",
              "    <tr>\n",
              "      <th>18</th>\n",
              "      <td>10</td>\n",
              "      <td>5</td>\n",
              "      <td>125</td>\n",
              "      <td>-0.027201</td>\n",
              "      <td>0.164926</td>\n",
              "    </tr>\n",
              "    <tr>\n",
              "      <th>33</th>\n",
              "      <td>15</td>\n",
              "      <td>5</td>\n",
              "      <td>125</td>\n",
              "      <td>-0.027267</td>\n",
              "      <td>0.165128</td>\n",
              "    </tr>\n",
              "    <tr>\n",
              "      <th>22</th>\n",
              "      <td>10</td>\n",
              "      <td>10</td>\n",
              "      <td>100</td>\n",
              "      <td>-0.027301</td>\n",
              "      <td>0.165230</td>\n",
              "    </tr>\n",
              "    <tr>\n",
              "      <th>42</th>\n",
              "      <td>15</td>\n",
              "      <td>15</td>\n",
              "      <td>100</td>\n",
              "      <td>-0.027310</td>\n",
              "      <td>0.165256</td>\n",
              "    </tr>\n",
              "    <tr>\n",
              "      <th>37</th>\n",
              "      <td>15</td>\n",
              "      <td>10</td>\n",
              "      <td>100</td>\n",
              "      <td>-0.027340</td>\n",
              "      <td>0.165348</td>\n",
              "    </tr>\n",
              "    <tr>\n",
              "      <th>27</th>\n",
              "      <td>10</td>\n",
              "      <td>15</td>\n",
              "      <td>100</td>\n",
              "      <td>-0.027344</td>\n",
              "      <td>0.165361</td>\n",
              "    </tr>\n",
              "    <tr>\n",
              "      <th>17</th>\n",
              "      <td>10</td>\n",
              "      <td>5</td>\n",
              "      <td>100</td>\n",
              "      <td>-0.027414</td>\n",
              "      <td>0.165573</td>\n",
              "    </tr>\n",
              "    <tr>\n",
              "      <th>32</th>\n",
              "      <td>15</td>\n",
              "      <td>5</td>\n",
              "      <td>100</td>\n",
              "      <td>-0.027510</td>\n",
              "      <td>0.165861</td>\n",
              "    </tr>\n",
              "    <tr>\n",
              "      <th>41</th>\n",
              "      <td>15</td>\n",
              "      <td>15</td>\n",
              "      <td>75</td>\n",
              "      <td>-0.027684</td>\n",
              "      <td>0.166386</td>\n",
              "    </tr>\n",
              "    <tr>\n",
              "      <th>21</th>\n",
              "      <td>10</td>\n",
              "      <td>10</td>\n",
              "      <td>75</td>\n",
              "      <td>-0.027725</td>\n",
              "      <td>0.166507</td>\n",
              "    </tr>\n",
              "    <tr>\n",
              "      <th>26</th>\n",
              "      <td>10</td>\n",
              "      <td>15</td>\n",
              "      <td>75</td>\n",
              "      <td>-0.027787</td>\n",
              "      <td>0.166694</td>\n",
              "    </tr>\n",
              "    <tr>\n",
              "      <th>36</th>\n",
              "      <td>15</td>\n",
              "      <td>10</td>\n",
              "      <td>75</td>\n",
              "      <td>-0.027792</td>\n",
              "      <td>0.166708</td>\n",
              "    </tr>\n",
              "    <tr>\n",
              "      <th>16</th>\n",
              "      <td>10</td>\n",
              "      <td>5</td>\n",
              "      <td>75</td>\n",
              "      <td>-0.027867</td>\n",
              "      <td>0.166935</td>\n",
              "    </tr>\n",
              "    <tr>\n",
              "      <th>31</th>\n",
              "      <td>15</td>\n",
              "      <td>5</td>\n",
              "      <td>75</td>\n",
              "      <td>-0.027905</td>\n",
              "      <td>0.167048</td>\n",
              "    </tr>\n",
              "    <tr>\n",
              "      <th>40</th>\n",
              "      <td>15</td>\n",
              "      <td>15</td>\n",
              "      <td>50</td>\n",
              "      <td>-0.029125</td>\n",
              "      <td>0.170660</td>\n",
              "    </tr>\n",
              "    <tr>\n",
              "      <th>35</th>\n",
              "      <td>15</td>\n",
              "      <td>10</td>\n",
              "      <td>50</td>\n",
              "      <td>-0.029136</td>\n",
              "      <td>0.170693</td>\n",
              "    </tr>\n",
              "    <tr>\n",
              "      <th>20</th>\n",
              "      <td>10</td>\n",
              "      <td>10</td>\n",
              "      <td>50</td>\n",
              "      <td>-0.029305</td>\n",
              "      <td>0.171188</td>\n",
              "    </tr>\n",
              "    <tr>\n",
              "      <th>15</th>\n",
              "      <td>10</td>\n",
              "      <td>5</td>\n",
              "      <td>50</td>\n",
              "      <td>-0.029313</td>\n",
              "      <td>0.171211</td>\n",
              "    </tr>\n",
              "    <tr>\n",
              "      <th>25</th>\n",
              "      <td>10</td>\n",
              "      <td>15</td>\n",
              "      <td>50</td>\n",
              "      <td>-0.029316</td>\n",
              "      <td>0.171220</td>\n",
              "    </tr>\n",
              "    <tr>\n",
              "      <th>30</th>\n",
              "      <td>15</td>\n",
              "      <td>5</td>\n",
              "      <td>50</td>\n",
              "      <td>-0.029392</td>\n",
              "      <td>0.171442</td>\n",
              "    </tr>\n",
              "    <tr>\n",
              "      <th>9</th>\n",
              "      <td>1</td>\n",
              "      <td>10</td>\n",
              "      <td>150</td>\n",
              "      <td>-0.048330</td>\n",
              "      <td>0.219841</td>\n",
              "    </tr>\n",
              "    <tr>\n",
              "      <th>14</th>\n",
              "      <td>1</td>\n",
              "      <td>15</td>\n",
              "      <td>150</td>\n",
              "      <td>-0.048330</td>\n",
              "      <td>0.219841</td>\n",
              "    </tr>\n",
              "    <tr>\n",
              "      <th>4</th>\n",
              "      <td>1</td>\n",
              "      <td>5</td>\n",
              "      <td>150</td>\n",
              "      <td>-0.048330</td>\n",
              "      <td>0.219841</td>\n",
              "    </tr>\n",
              "    <tr>\n",
              "      <th>3</th>\n",
              "      <td>1</td>\n",
              "      <td>5</td>\n",
              "      <td>125</td>\n",
              "      <td>-0.050990</td>\n",
              "      <td>0.225811</td>\n",
              "    </tr>\n",
              "    <tr>\n",
              "      <th>13</th>\n",
              "      <td>1</td>\n",
              "      <td>15</td>\n",
              "      <td>125</td>\n",
              "      <td>-0.050990</td>\n",
              "      <td>0.225811</td>\n",
              "    </tr>\n",
              "    <tr>\n",
              "      <th>8</th>\n",
              "      <td>1</td>\n",
              "      <td>10</td>\n",
              "      <td>125</td>\n",
              "      <td>-0.050990</td>\n",
              "      <td>0.225811</td>\n",
              "    </tr>\n",
              "    <tr>\n",
              "      <th>7</th>\n",
              "      <td>1</td>\n",
              "      <td>10</td>\n",
              "      <td>100</td>\n",
              "      <td>-0.054841</td>\n",
              "      <td>0.234181</td>\n",
              "    </tr>\n",
              "    <tr>\n",
              "      <th>12</th>\n",
              "      <td>1</td>\n",
              "      <td>15</td>\n",
              "      <td>100</td>\n",
              "      <td>-0.054841</td>\n",
              "      <td>0.234181</td>\n",
              "    </tr>\n",
              "    <tr>\n",
              "      <th>2</th>\n",
              "      <td>1</td>\n",
              "      <td>5</td>\n",
              "      <td>100</td>\n",
              "      <td>-0.054841</td>\n",
              "      <td>0.234181</td>\n",
              "    </tr>\n",
              "    <tr>\n",
              "      <th>6</th>\n",
              "      <td>1</td>\n",
              "      <td>10</td>\n",
              "      <td>75</td>\n",
              "      <td>-0.061289</td>\n",
              "      <td>0.247565</td>\n",
              "    </tr>\n",
              "    <tr>\n",
              "      <th>11</th>\n",
              "      <td>1</td>\n",
              "      <td>15</td>\n",
              "      <td>75</td>\n",
              "      <td>-0.061289</td>\n",
              "      <td>0.247565</td>\n",
              "    </tr>\n",
              "    <tr>\n",
              "      <th>1</th>\n",
              "      <td>1</td>\n",
              "      <td>5</td>\n",
              "      <td>75</td>\n",
              "      <td>-0.061289</td>\n",
              "      <td>0.247565</td>\n",
              "    </tr>\n",
              "    <tr>\n",
              "      <th>5</th>\n",
              "      <td>1</td>\n",
              "      <td>10</td>\n",
              "      <td>50</td>\n",
              "      <td>-0.073244</td>\n",
              "      <td>0.270637</td>\n",
              "    </tr>\n",
              "    <tr>\n",
              "      <th>10</th>\n",
              "      <td>1</td>\n",
              "      <td>15</td>\n",
              "      <td>50</td>\n",
              "      <td>-0.073244</td>\n",
              "      <td>0.270637</td>\n",
              "    </tr>\n",
              "    <tr>\n",
              "      <th>0</th>\n",
              "      <td>1</td>\n",
              "      <td>5</td>\n",
              "      <td>50</td>\n",
              "      <td>-0.073244</td>\n",
              "      <td>0.270637</td>\n",
              "    </tr>\n",
              "  </tbody>\n",
              "</table>\n",
              "</div>"
            ],
            "text/plain": [
              "    max_depth  min_child_samples  n_estimators     score     RMSLE\n",
              "39         15                 10           150 -0.026798  0.163700\n",
              "24         10                 10           150 -0.026919  0.164070\n",
              "29         10                 15           150 -0.026965  0.164209\n",
              "44         15                 15           150 -0.026977  0.164248\n",
              "38         15                 10           125 -0.026980  0.164256\n",
              "23         10                 10           125 -0.027052  0.164476\n",
              "19         10                  5           150 -0.027063  0.164509\n",
              "28         10                 15           125 -0.027136  0.164731\n",
              "43         15                 15           125 -0.027150  0.164773\n",
              "34         15                  5           150 -0.027150  0.164773\n",
              "18         10                  5           125 -0.027201  0.164926\n",
              "33         15                  5           125 -0.027267  0.165128\n",
              "22         10                 10           100 -0.027301  0.165230\n",
              "42         15                 15           100 -0.027310  0.165256\n",
              "37         15                 10           100 -0.027340  0.165348\n",
              "27         10                 15           100 -0.027344  0.165361\n",
              "17         10                  5           100 -0.027414  0.165573\n",
              "32         15                  5           100 -0.027510  0.165861\n",
              "41         15                 15            75 -0.027684  0.166386\n",
              "21         10                 10            75 -0.027725  0.166507\n",
              "26         10                 15            75 -0.027787  0.166694\n",
              "36         15                 10            75 -0.027792  0.166708\n",
              "16         10                  5            75 -0.027867  0.166935\n",
              "31         15                  5            75 -0.027905  0.167048\n",
              "40         15                 15            50 -0.029125  0.170660\n",
              "35         15                 10            50 -0.029136  0.170693\n",
              "20         10                 10            50 -0.029305  0.171188\n",
              "15         10                  5            50 -0.029313  0.171211\n",
              "25         10                 15            50 -0.029316  0.171220\n",
              "30         15                  5            50 -0.029392  0.171442\n",
              "9           1                 10           150 -0.048330  0.219841\n",
              "14          1                 15           150 -0.048330  0.219841\n",
              "4           1                  5           150 -0.048330  0.219841\n",
              "3           1                  5           125 -0.050990  0.225811\n",
              "13          1                 15           125 -0.050990  0.225811\n",
              "8           1                 10           125 -0.050990  0.225811\n",
              "7           1                 10           100 -0.054841  0.234181\n",
              "12          1                 15           100 -0.054841  0.234181\n",
              "2           1                  5           100 -0.054841  0.234181\n",
              "6           1                 10            75 -0.061289  0.247565\n",
              "11          1                 15            75 -0.061289  0.247565\n",
              "1           1                  5            75 -0.061289  0.247565\n",
              "5           1                 10            50 -0.073244  0.270637\n",
              "10          1                 15            50 -0.073244  0.270637\n",
              "0           1                  5            50 -0.073244  0.270637"
            ]
          },
          "metadata": {
            "tags": []
          },
          "execution_count": 112
        }
      ]
    },
    {
      "cell_type": "markdown",
      "metadata": {
        "id": "6fuu1KnqqMJB"
      },
      "source": [
        "**2) xgboost**\n",
        "\n",
        "![이미지](https://drive.google.com/uc?export=view&id=1Jrh-IBuq5o_aP9TJTvNo48bwF98FTajK)\n",
        "\n",
        "[출처](https://assaeunji.github.io/ml/2021-01-07-xgboost/)"
      ]
    },
    {
      "cell_type": "code",
      "metadata": {
        "colab": {
          "base_uri": "https://localhost:8080/",
          "height": 1000
        },
        "id": "I_idLTJ8qt0i",
        "outputId": "fa731029-1569-448f-bf13-5fb473d5eb91"
      },
      "source": [
        "# 하이퍼파라미터 값 설정\n",
        "param_grid2 = {\n",
        "    'n_estimators': [50, 100, 150],\n",
        "    'max_depth': [5, 10],\n",
        "    'min_child_weight': [1, 5, 10],\n",
        "    'learning_rate': [0.01, 0.03]\n",
        "}\n",
        "\n",
        "# params_grid2 = {\n",
        "#     'max_depth':[5, 7, 10],\n",
        "#     'min_child_weight':[1,3],\n",
        "#     'colsample_bytree':[0.5, 0.75]\n",
        "# }\n",
        "\n",
        "# 모델 초기화\n",
        "model2 = XGBRegressor(random_state=random_state)\n",
        "\n",
        "# 직접 작성한 '그리드 탐색' 함수\n",
        "my_GridSearch(model2, data, y, param_grid2, verbose=2, n_jobs=5)"
      ],
      "execution_count": 122,
      "outputs": [
        {
          "output_type": "stream",
          "text": [
            "Fitting 5 folds for each of 36 candidates, totalling 180 fits\n"
          ],
          "name": "stdout"
        },
        {
          "output_type": "stream",
          "text": [
            "[Parallel(n_jobs=5)]: Using backend LokyBackend with 5 concurrent workers.\n",
            "[Parallel(n_jobs=5)]: Done  31 tasks      | elapsed:   50.9s\n",
            "[Parallel(n_jobs=5)]: Done 152 tasks      | elapsed:  4.4min\n",
            "[Parallel(n_jobs=5)]: Done 180 out of 180 | elapsed:  5.7min finished\n"
          ],
          "name": "stderr"
        },
        {
          "output_type": "stream",
          "text": [
            "[01:29:47] WARNING: /workspace/src/objective/regression_obj.cu:152: reg:linear is now deprecated in favor of reg:squarederror.\n"
          ],
          "name": "stdout"
        },
        {
          "output_type": "execute_result",
          "data": {
            "text/html": [
              "<div>\n",
              "<style scoped>\n",
              "    .dataframe tbody tr th:only-of-type {\n",
              "        vertical-align: middle;\n",
              "    }\n",
              "\n",
              "    .dataframe tbody tr th {\n",
              "        vertical-align: top;\n",
              "    }\n",
              "\n",
              "    .dataframe thead th {\n",
              "        text-align: right;\n",
              "    }\n",
              "</style>\n",
              "<table border=\"1\" class=\"dataframe\">\n",
              "  <thead>\n",
              "    <tr style=\"text-align: right;\">\n",
              "      <th></th>\n",
              "      <th>learning_rate</th>\n",
              "      <th>max_depth</th>\n",
              "      <th>min_child_weight</th>\n",
              "      <th>n_estimators</th>\n",
              "      <th>score</th>\n",
              "      <th>RMSLE</th>\n",
              "    </tr>\n",
              "  </thead>\n",
              "  <tbody>\n",
              "    <tr>\n",
              "      <th>35</th>\n",
              "      <td>0.03</td>\n",
              "      <td>10</td>\n",
              "      <td>10</td>\n",
              "      <td>150</td>\n",
              "      <td>-0.047615</td>\n",
              "      <td>0.218208</td>\n",
              "    </tr>\n",
              "    <tr>\n",
              "      <th>32</th>\n",
              "      <td>0.03</td>\n",
              "      <td>10</td>\n",
              "      <td>5</td>\n",
              "      <td>150</td>\n",
              "      <td>-0.048102</td>\n",
              "      <td>0.219321</td>\n",
              "    </tr>\n",
              "    <tr>\n",
              "      <th>29</th>\n",
              "      <td>0.03</td>\n",
              "      <td>10</td>\n",
              "      <td>1</td>\n",
              "      <td>150</td>\n",
              "      <td>-0.051009</td>\n",
              "      <td>0.225853</td>\n",
              "    </tr>\n",
              "    <tr>\n",
              "      <th>23</th>\n",
              "      <td>0.03</td>\n",
              "      <td>5</td>\n",
              "      <td>5</td>\n",
              "      <td>150</td>\n",
              "      <td>-0.051753</td>\n",
              "      <td>0.227493</td>\n",
              "    </tr>\n",
              "    <tr>\n",
              "      <th>26</th>\n",
              "      <td>0.03</td>\n",
              "      <td>5</td>\n",
              "      <td>10</td>\n",
              "      <td>150</td>\n",
              "      <td>-0.051816</td>\n",
              "      <td>0.227632</td>\n",
              "    </tr>\n",
              "    <tr>\n",
              "      <th>20</th>\n",
              "      <td>0.03</td>\n",
              "      <td>5</td>\n",
              "      <td>1</td>\n",
              "      <td>150</td>\n",
              "      <td>-0.052237</td>\n",
              "      <td>0.228554</td>\n",
              "    </tr>\n",
              "    <tr>\n",
              "      <th>34</th>\n",
              "      <td>0.03</td>\n",
              "      <td>10</td>\n",
              "      <td>10</td>\n",
              "      <td>100</td>\n",
              "      <td>-0.398239</td>\n",
              "      <td>0.631062</td>\n",
              "    </tr>\n",
              "    <tr>\n",
              "      <th>31</th>\n",
              "      <td>0.03</td>\n",
              "      <td>10</td>\n",
              "      <td>5</td>\n",
              "      <td>100</td>\n",
              "      <td>-0.398927</td>\n",
              "      <td>0.631607</td>\n",
              "    </tr>\n",
              "    <tr>\n",
              "      <th>25</th>\n",
              "      <td>0.03</td>\n",
              "      <td>5</td>\n",
              "      <td>10</td>\n",
              "      <td>100</td>\n",
              "      <td>-0.400771</td>\n",
              "      <td>0.633065</td>\n",
              "    </tr>\n",
              "    <tr>\n",
              "      <th>22</th>\n",
              "      <td>0.03</td>\n",
              "      <td>5</td>\n",
              "      <td>5</td>\n",
              "      <td>100</td>\n",
              "      <td>-0.400819</td>\n",
              "      <td>0.633103</td>\n",
              "    </tr>\n",
              "    <tr>\n",
              "      <th>19</th>\n",
              "      <td>0.03</td>\n",
              "      <td>5</td>\n",
              "      <td>1</td>\n",
              "      <td>100</td>\n",
              "      <td>-0.401808</td>\n",
              "      <td>0.633884</td>\n",
              "    </tr>\n",
              "    <tr>\n",
              "      <th>28</th>\n",
              "      <td>0.03</td>\n",
              "      <td>10</td>\n",
              "      <td>1</td>\n",
              "      <td>100</td>\n",
              "      <td>-0.404084</td>\n",
              "      <td>0.635676</td>\n",
              "    </tr>\n",
              "    <tr>\n",
              "      <th>33</th>\n",
              "      <td>0.03</td>\n",
              "      <td>10</td>\n",
              "      <td>10</td>\n",
              "      <td>50</td>\n",
              "      <td>-7.574918</td>\n",
              "      <td>2.752257</td>\n",
              "    </tr>\n",
              "    <tr>\n",
              "      <th>30</th>\n",
              "      <td>0.03</td>\n",
              "      <td>10</td>\n",
              "      <td>5</td>\n",
              "      <td>50</td>\n",
              "      <td>-7.574919</td>\n",
              "      <td>2.752257</td>\n",
              "    </tr>\n",
              "    <tr>\n",
              "      <th>27</th>\n",
              "      <td>0.03</td>\n",
              "      <td>10</td>\n",
              "      <td>1</td>\n",
              "      <td>50</td>\n",
              "      <td>-7.574999</td>\n",
              "      <td>2.752272</td>\n",
              "    </tr>\n",
              "    <tr>\n",
              "      <th>18</th>\n",
              "      <td>0.03</td>\n",
              "      <td>5</td>\n",
              "      <td>1</td>\n",
              "      <td>50</td>\n",
              "      <td>-7.575546</td>\n",
              "      <td>2.752371</td>\n",
              "    </tr>\n",
              "    <tr>\n",
              "      <th>21</th>\n",
              "      <td>0.03</td>\n",
              "      <td>5</td>\n",
              "      <td>5</td>\n",
              "      <td>50</td>\n",
              "      <td>-7.575741</td>\n",
              "      <td>2.752406</td>\n",
              "    </tr>\n",
              "    <tr>\n",
              "      <th>24</th>\n",
              "      <td>0.03</td>\n",
              "      <td>5</td>\n",
              "      <td>10</td>\n",
              "      <td>50</td>\n",
              "      <td>-7.575745</td>\n",
              "      <td>2.752407</td>\n",
              "    </tr>\n",
              "    <tr>\n",
              "      <th>17</th>\n",
              "      <td>0.01</td>\n",
              "      <td>10</td>\n",
              "      <td>10</td>\n",
              "      <td>150</td>\n",
              "      <td>-7.810045</td>\n",
              "      <td>2.794646</td>\n",
              "    </tr>\n",
              "    <tr>\n",
              "      <th>14</th>\n",
              "      <td>0.01</td>\n",
              "      <td>10</td>\n",
              "      <td>5</td>\n",
              "      <td>150</td>\n",
              "      <td>-7.810075</td>\n",
              "      <td>2.794651</td>\n",
              "    </tr>\n",
              "    <tr>\n",
              "      <th>11</th>\n",
              "      <td>0.01</td>\n",
              "      <td>10</td>\n",
              "      <td>1</td>\n",
              "      <td>150</td>\n",
              "      <td>-7.810229</td>\n",
              "      <td>2.794679</td>\n",
              "    </tr>\n",
              "    <tr>\n",
              "      <th>8</th>\n",
              "      <td>0.01</td>\n",
              "      <td>5</td>\n",
              "      <td>10</td>\n",
              "      <td>150</td>\n",
              "      <td>-7.810816</td>\n",
              "      <td>2.794784</td>\n",
              "    </tr>\n",
              "    <tr>\n",
              "      <th>5</th>\n",
              "      <td>0.01</td>\n",
              "      <td>5</td>\n",
              "      <td>5</td>\n",
              "      <td>150</td>\n",
              "      <td>-7.810841</td>\n",
              "      <td>2.794788</td>\n",
              "    </tr>\n",
              "    <tr>\n",
              "      <th>2</th>\n",
              "      <td>0.01</td>\n",
              "      <td>5</td>\n",
              "      <td>1</td>\n",
              "      <td>150</td>\n",
              "      <td>-7.810982</td>\n",
              "      <td>2.794813</td>\n",
              "    </tr>\n",
              "    <tr>\n",
              "      <th>7</th>\n",
              "      <td>0.01</td>\n",
              "      <td>5</td>\n",
              "      <td>10</td>\n",
              "      <td>100</td>\n",
              "      <td>-21.218067</td>\n",
              "      <td>4.606307</td>\n",
              "    </tr>\n",
              "    <tr>\n",
              "      <th>1</th>\n",
              "      <td>0.01</td>\n",
              "      <td>5</td>\n",
              "      <td>1</td>\n",
              "      <td>100</td>\n",
              "      <td>-21.218067</td>\n",
              "      <td>4.606307</td>\n",
              "    </tr>\n",
              "    <tr>\n",
              "      <th>4</th>\n",
              "      <td>0.01</td>\n",
              "      <td>5</td>\n",
              "      <td>5</td>\n",
              "      <td>100</td>\n",
              "      <td>-21.218067</td>\n",
              "      <td>4.606307</td>\n",
              "    </tr>\n",
              "    <tr>\n",
              "      <th>13</th>\n",
              "      <td>0.01</td>\n",
              "      <td>10</td>\n",
              "      <td>5</td>\n",
              "      <td>100</td>\n",
              "      <td>-21.218094</td>\n",
              "      <td>4.606310</td>\n",
              "    </tr>\n",
              "    <tr>\n",
              "      <th>10</th>\n",
              "      <td>0.01</td>\n",
              "      <td>10</td>\n",
              "      <td>1</td>\n",
              "      <td>100</td>\n",
              "      <td>-21.218094</td>\n",
              "      <td>4.606310</td>\n",
              "    </tr>\n",
              "    <tr>\n",
              "      <th>16</th>\n",
              "      <td>0.01</td>\n",
              "      <td>10</td>\n",
              "      <td>10</td>\n",
              "      <td>100</td>\n",
              "      <td>-21.218094</td>\n",
              "      <td>4.606310</td>\n",
              "    </tr>\n",
              "    <tr>\n",
              "      <th>3</th>\n",
              "      <td>0.01</td>\n",
              "      <td>5</td>\n",
              "      <td>5</td>\n",
              "      <td>50</td>\n",
              "      <td>-57.811035</td>\n",
              "      <td>7.603357</td>\n",
              "    </tr>\n",
              "    <tr>\n",
              "      <th>15</th>\n",
              "      <td>0.01</td>\n",
              "      <td>10</td>\n",
              "      <td>10</td>\n",
              "      <td>50</td>\n",
              "      <td>-57.811035</td>\n",
              "      <td>7.603357</td>\n",
              "    </tr>\n",
              "    <tr>\n",
              "      <th>9</th>\n",
              "      <td>0.01</td>\n",
              "      <td>10</td>\n",
              "      <td>1</td>\n",
              "      <td>50</td>\n",
              "      <td>-57.811035</td>\n",
              "      <td>7.603357</td>\n",
              "    </tr>\n",
              "    <tr>\n",
              "      <th>12</th>\n",
              "      <td>0.01</td>\n",
              "      <td>10</td>\n",
              "      <td>5</td>\n",
              "      <td>50</td>\n",
              "      <td>-57.811035</td>\n",
              "      <td>7.603357</td>\n",
              "    </tr>\n",
              "    <tr>\n",
              "      <th>6</th>\n",
              "      <td>0.01</td>\n",
              "      <td>5</td>\n",
              "      <td>10</td>\n",
              "      <td>50</td>\n",
              "      <td>-57.811035</td>\n",
              "      <td>7.603357</td>\n",
              "    </tr>\n",
              "    <tr>\n",
              "      <th>0</th>\n",
              "      <td>0.01</td>\n",
              "      <td>5</td>\n",
              "      <td>1</td>\n",
              "      <td>50</td>\n",
              "      <td>-57.811035</td>\n",
              "      <td>7.603357</td>\n",
              "    </tr>\n",
              "  </tbody>\n",
              "</table>\n",
              "</div>"
            ],
            "text/plain": [
              "    learning_rate  max_depth  ...      score     RMSLE\n",
              "35           0.03         10  ...  -0.047615  0.218208\n",
              "32           0.03         10  ...  -0.048102  0.219321\n",
              "29           0.03         10  ...  -0.051009  0.225853\n",
              "23           0.03          5  ...  -0.051753  0.227493\n",
              "26           0.03          5  ...  -0.051816  0.227632\n",
              "20           0.03          5  ...  -0.052237  0.228554\n",
              "34           0.03         10  ...  -0.398239  0.631062\n",
              "31           0.03         10  ...  -0.398927  0.631607\n",
              "25           0.03          5  ...  -0.400771  0.633065\n",
              "22           0.03          5  ...  -0.400819  0.633103\n",
              "19           0.03          5  ...  -0.401808  0.633884\n",
              "28           0.03         10  ...  -0.404084  0.635676\n",
              "33           0.03         10  ...  -7.574918  2.752257\n",
              "30           0.03         10  ...  -7.574919  2.752257\n",
              "27           0.03         10  ...  -7.574999  2.752272\n",
              "18           0.03          5  ...  -7.575546  2.752371\n",
              "21           0.03          5  ...  -7.575741  2.752406\n",
              "24           0.03          5  ...  -7.575745  2.752407\n",
              "17           0.01         10  ...  -7.810045  2.794646\n",
              "14           0.01         10  ...  -7.810075  2.794651\n",
              "11           0.01         10  ...  -7.810229  2.794679\n",
              "8            0.01          5  ...  -7.810816  2.794784\n",
              "5            0.01          5  ...  -7.810841  2.794788\n",
              "2            0.01          5  ...  -7.810982  2.794813\n",
              "7            0.01          5  ... -21.218067  4.606307\n",
              "1            0.01          5  ... -21.218067  4.606307\n",
              "4            0.01          5  ... -21.218067  4.606307\n",
              "13           0.01         10  ... -21.218094  4.606310\n",
              "10           0.01         10  ... -21.218094  4.606310\n",
              "16           0.01         10  ... -21.218094  4.606310\n",
              "3            0.01          5  ... -57.811035  7.603357\n",
              "15           0.01         10  ... -57.811035  7.603357\n",
              "9            0.01         10  ... -57.811035  7.603357\n",
              "12           0.01         10  ... -57.811035  7.603357\n",
              "6            0.01          5  ... -57.811035  7.603357\n",
              "0            0.01          5  ... -57.811035  7.603357\n",
              "\n",
              "[36 rows x 6 columns]"
            ]
          },
          "metadata": {
            "tags": []
          },
          "execution_count": 122
        }
      ]
    },
    {
      "cell_type": "markdown",
      "metadata": {
        "id": "vrKnk34Kn7pF"
      },
      "source": [
        "그리드 탐색을 통해 최적의 하이퍼파라미터 조합을 확인했다.\n",
        "\n",
        "해당 모델로 학습을 해서 예측값인 csv파일을 만들어서 제출하면 된다."
      ]
    },
    {
      "cell_type": "code",
      "metadata": {
        "colab": {
          "base_uri": "https://localhost:8080/"
        },
        "id": "kwwaWo2RT80J",
        "outputId": "5e967239-1231-4635-8539-e70467d6f4ce"
      },
      "source": [
        "model = LGBMRegressor(max_depth=15, n_estimators=150, min_child_samples=10, random_state=random_state)\n",
        "\n",
        "model.fit(data, y)\n",
        "\n",
        "prediction = model.predict(test)\n",
        "\n",
        "prediction"
      ],
      "execution_count": 113,
      "outputs": [
        {
          "output_type": "execute_result",
          "data": {
            "text/plain": [
              "array([13.11552044, 13.07728432, 14.16718538, ..., 13.07593972,\n",
              "       12.68668764, 12.94346686])"
            ]
          },
          "metadata": {
            "tags": []
          },
          "execution_count": 113
        }
      ]
    },
    {
      "cell_type": "code",
      "metadata": {
        "colab": {
          "base_uri": "https://localhost:8080/"
        },
        "id": "12klzUQtr8vt",
        "outputId": "64ada457-d162-4239-9d01-678b26af764c"
      },
      "source": [
        "model2 = XGBRegressor(max_depth=10, n_estimators=150, min_child_weight=10, learning_rate=0.3, random_state=random_state)\n",
        "\n",
        "model2.fit(data, y)\n",
        "\n",
        "prediction2 = model2.predict(test)\n",
        "\n",
        "prediction2"
      ],
      "execution_count": 124,
      "outputs": [
        {
          "output_type": "stream",
          "text": [
            "[01:31:07] WARNING: /workspace/src/objective/regression_obj.cu:152: reg:linear is now deprecated in favor of reg:squarederror.\n"
          ],
          "name": "stdout"
        },
        {
          "output_type": "execute_result",
          "data": {
            "text/plain": [
              "array([13.2160845, 13.121464 , 14.05269  , ..., 13.077212 , 12.583752 ,\n",
              "       12.955976 ], dtype=float32)"
            ]
          },
          "metadata": {
            "tags": []
          },
          "execution_count": 124
        }
      ]
    },
    {
      "cell_type": "markdown",
      "metadata": {
        "id": "TctBMjg0oLzf"
      },
      "source": [
        "예측결과에 np.expm1( )를 씌워서 원래 스케일로 되돌려야 한다. <br>\n",
        "=> RMSLE를 RMSE로 변환."
      ]
    },
    {
      "cell_type": "code",
      "metadata": {
        "colab": {
          "base_uri": "https://localhost:8080/"
        },
        "id": "kxTb4CJbZRdo",
        "outputId": "cd2f4821-296c-4354-ec01-76524526bbde"
      },
      "source": [
        "prediction = np.expm1(prediction)\n",
        "\n",
        "prediction"
      ],
      "execution_count": 114,
      "outputs": [
        {
          "output_type": "execute_result",
          "data": {
            "text/plain": [
              "array([ 496589.20968271,  477959.95390782, 1421445.21878954, ...,\n",
              "        477317.71998033,  323412.71784149,  418095.21358217])"
            ]
          },
          "metadata": {
            "tags": []
          },
          "execution_count": 114
        }
      ]
    },
    {
      "cell_type": "markdown",
      "metadata": {
        "id": "8Zo4EA-7nV5c"
      },
      "source": [
        "### 모델 학습~csv파일저장 과정을 함수로 구현"
      ]
    },
    {
      "cell_type": "code",
      "metadata": {
        "id": "UU9edJI4ZXq1"
      },
      "source": [
        "def save_submission(model, train, y, test, model_name, rmsle=None):\n",
        "    model.fit(train, y)\n",
        "    prediction = model.predict(test)\n",
        "    prediction = np.expm1(prediction)\n",
        "    data_dir = '/content/drive/MyDrive/Colab Notebooks/AIFFEL_LMS/data'\n",
        "    submission_path = join(data_dir, 'sample_submission.csv')\n",
        "    submission = pd.read_csv(submission_path)\n",
        "    submission['price'] = prediction\n",
        "    submission_csv_path = '{}/submission_{}_RMSLE_{}.csv'.format(data_dir, model_name, rmsle)\n",
        "    submission.to_csv(submission_csv_path, index=False)\n",
        "    print('{} saved!'.format(submission_csv_path))"
      ],
      "execution_count": 102,
      "outputs": []
    },
    {
      "cell_type": "code",
      "metadata": {
        "colab": {
          "base_uri": "https://localhost:8080/"
        },
        "id": "ZMYgIM0JZ4VO",
        "outputId": "b13622e2-c9d6-4b7d-de6f-9ebf49dac22a"
      },
      "source": [
        "save_submission(model, data, y, test, 'lgbm', rmsle='3')"
      ],
      "execution_count": 115,
      "outputs": [
        {
          "output_type": "stream",
          "text": [
            "/content/drive/MyDrive/Colab Notebooks/AIFFEL_LMS/data/submission_lgbm_RMSLE_3.csv saved!\n"
          ],
          "name": "stdout"
        }
      ]
    },
    {
      "cell_type": "code",
      "metadata": {
        "colab": {
          "base_uri": "https://localhost:8080/"
        },
        "id": "Ans7i6fLtaD7",
        "outputId": "c72768ce-00aa-4b6e-dfd2-4624f756fce9"
      },
      "source": [
        "save_submission(model2, data, y, test, 'xgboost', rmsle='2')"
      ],
      "execution_count": 125,
      "outputs": [
        {
          "output_type": "stream",
          "text": [
            "[01:31:30] WARNING: /workspace/src/objective/regression_obj.cu:152: reg:linear is now deprecated in favor of reg:squarederror.\n",
            "/content/drive/MyDrive/Colab Notebooks/AIFFEL_LMS/data/submission_xgboost_RMSLE_2.csv saved!\n"
          ],
          "name": "stdout"
        }
      ]
    },
    {
      "cell_type": "markdown",
      "metadata": {
        "id": "zF9g33_az3cf"
      },
      "source": [
        "# 프로젝트 루브릭 (평가 기준)\n",
        "- 데이터 전처리, 모델학습, 예측의 전체 과정을 거쳐 캐글 submission까지 전과정이 성공적으로 진행되었는가?\n",
        "- 제출된 노트북이 캐글 커널로 사용될 수 있을 만큼 전처리, 학습, 최적화 진행 과정이 체계적으로 기술되었는가?\n",
        "- 다양한 피처 엔지니어링과 하이퍼 파라미터 튜닝 등의 최적화 기법을 통해 캐글 리더보드의 Private score 기준 110000 이하의 점수를 얻었는가?"
      ]
    },
    {
      "cell_type": "markdown",
      "metadata": {
        "id": "7PCDiCj4jBJw"
      },
      "source": [
        "# 회고\n",
        "\n",
        "![이미지](https://drive.google.com/uc?export=view&id=1gaAvpi4GFnlpaV7j6vFP1YTHiGZ6L18B)\n",
        "\n",
        "평소에 주로 함수로 구현하지 않았었는데 이번 프로젝트를 통해 다양한 시도가 필요한 머신러닝 훈련을 위해서는 함수로 구현해놓는 것이 훨씬 유용하다는 것을 직접 깨달았다.\n",
        "\n",
        "<br>\n",
        "\n",
        "그리고 그리드탐색이라는 하이퍼파라미터 튜닝 방법을 알게 되어서 앞으로도 유용하게 사용할 것 같다."
      ]
    }
  ]
}