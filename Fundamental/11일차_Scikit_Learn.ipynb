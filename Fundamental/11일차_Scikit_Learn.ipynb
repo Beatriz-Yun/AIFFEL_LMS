{
  "nbformat": 4,
  "nbformat_minor": 0,
  "metadata": {
    "colab": {
      "name": "11일차_Scikit-Learn.ipynb",
      "provenance": [],
      "collapsed_sections": [],
      "authorship_tag": "ABX9TyOFejoFOfWeaaTVs0TpS+vs",
      "include_colab_link": true
    },
    "kernelspec": {
      "name": "python3",
      "display_name": "Python 3"
    },
    "language_info": {
      "name": "python"
    }
  },
  "cells": [
    {
      "cell_type": "markdown",
      "metadata": {
        "id": "view-in-github",
        "colab_type": "text"
      },
      "source": [
        "<a href=\"https://colab.research.google.com/github/Beatriz-Yun/AIFFEL_LMS/blob/main/11%EC%9D%BC%EC%B0%A8_Scikit_Learn.ipynb\" target=\"_parent\"><img src=\"https://colab.research.google.com/assets/colab-badge.svg\" alt=\"Open In Colab\"/></a>"
      ]
    },
    {
      "cell_type": "markdown",
      "metadata": {
        "id": "UM6LpK5MMHOO"
      },
      "source": [
        "### 학습목표\n",
        "- 머신러닝의 다양한 알고리즘을 소개합니다.\n",
        "- 사이킷런 라이브러리의 사용법을 익힙니다.\n",
        "- 사이킷런에서 데이터를 표현하는 방법에 대해 이해하고 - 훈련용 데이터셋과 테스트용 데이터셋으로 데이터를 나누는 방법을 이해합니다.\n",
        "\n",
        "### 목차\n",
        "1. 다양한 머신러닝 알고리즘\n",
        "\n",
        "2. 사이킷런에서 가이드하는 머신러닝 알고리즘\n",
        "\n",
        "3. Hello Scikit-learn\n",
        "\n",
        "4. 사이킷런의 주요 모듈\n",
        " * 4.1. 데이터 표현법\n",
        " * 4.2. 회귀모델 실습\n",
        " * 4.3. datasets 모듈\n",
        " * 4.4. 사이킷런 데이터셋을 이용한 분류 문제 실습\n",
        " * 4.5. Estimator\n",
        "\n",
        "5. 훈련 데이터와 테스트 데이터 분리하기"
      ]
    },
    {
      "cell_type": "markdown",
      "metadata": {
        "id": "VQoPZfh0Pdhb"
      },
      "source": [
        "## 11.2 머신러닝 알고리즘\n",
        "\n",
        "머신러닝 알고리즘의 유형\n",
        "- 지도학습\n",
        "- 비지도학습\n",
        "- 준지도학습\n",
        "- 강화학습\n",
        "\n",
        "[강화학습 더 공부](https://github.com/aikorea/awesome-rl)\n",
        "\n",
        "<br>\n",
        "\n",
        "[어떤 알고리즘을 선택해야 할까? / 알고리즘 치트시트 사용법](https://blogs.sas.com/content/saskorea/2017/08/22/%EC%B5%9C%EC%A0%81%EC%9D%98-%EB%A8%B8%EC%8B%A0%EB%9F%AC%EB%8B%9D-%EC%95%8C%EA%B3%A0%EB%A6%AC%EC%A6%98%EC%9D%84-%EA%B3%A0%EB%A5%B4%EA%B8%B0-%EC%9C%84%ED%95%9C-%EC%B9%98%ED%8A%B8/)\n",
        "- 데이터의 크기, 품질, 특성\n",
        "- 가용 연산 시간\n",
        "- 작업의 긴급성\n",
        "- 데이터를 이용해 하고 싶은 것"
      ]
    },
    {
      "cell_type": "markdown",
      "metadata": {
        "id": "58We1jLOSf7u"
      },
      "source": [
        "## 11.3 사이킷런에서 가이드하는 머신러닝 알고리즘\n",
        "\n",
        "[Scikit-Learn: Choosing the right estimator](https://scikit-learn.org/stable/tutorial/machine_learning_map/index.html)\n",
        "- 크게 데이터의 레이블 유무, 데이터의 양, 데이터의 종류(quantity: 수치형, category: 범주형) 등을 기준으로 나눈다.\n",
        "\n",
        "\n"
      ]
    },
    {
      "cell_type": "markdown",
      "metadata": {
        "id": "kH6-RteVUl3e"
      },
      "source": [
        "## 11-4. Scikit-Learn 라이브러리\n",
        "\n",
        "\n",
        "사이킷런은 파이썬 기반 머신러닝 라이브러리로 Scipy 및 NumPy 와 비슷한 데이터 표현과 수학 관련 함수를 갖고 있다.<br>\n",
        "따라서 사이킷런은 다음과 같은 파이썬, 파이썬 라이브러리에 의존성을 갖는다.\n",
        "\n",
        "<br>\n",
        "\n",
        "현재 최신 버전인 0.23를 사용하기 위해선 다음과 같은 사양이 요구된다.\n",
        "- Python (>= 3.6)\n",
        "- NumPy (>= 1.13.3)\n",
        "- SciPy (>= 0.19.1)\n",
        "- joblib (>= 0.11)\n",
        "\n",
        "<br>\n",
        "\n",
        "[Learning Scikit-Learn](https://www.youtube.com/watch?v=rvVkVsG49uU&ab_channel=GoogleCloudTech)\n",
        "- scikit-learn의 scikit은 <u>Sci</u>py와 Tool<u>kit</u>을 합친 말이다.\n",
        "- scikit-learn에서 가장 놀라운 부분은 모든 머신러닝 알고리즘의 방대한 콜렉션이라고 생각한다. <br>따라서 코드를 조금만 수정하여 시도해 볼 수 있다. 이것은 다양한 종류의 모델들을 파악하거나, 주어진 모델의 수많은 파라미터들이 어떻게 동작하는지 직관력을 얻고자 할 때 매우 좋은 방법이다.\n",
        "- sklearn.model_selection에 tran_test_split이라는 함수가 있다. 이 함수는 훈련 데이터와 테스트 데이터를 나누는 기능을 제공한다.\n",
        "\n",
        "<br>\n",
        "\n",
        "[Software Library APIs: Lessons Learned from scikit-learn](https://www.youtube.com/watch?v=WCEXYvv-T5Q&ab_channel=PyCon2018)\n",
        "- transformer(): ETL(Extract Transform Load(데이터가공)) 기능을 수행하는 함수\n",
        "- Estimator: 사이킷런에서 모델로 표현되는 클래스\n",
        "- fit(), predict() 등: Estimator클래스의 메소드\n",
        "- Pipeline 또는 meta-estimator: Estimator와 transformer()의 기능을 수행하는 사이킷런의 API\n",
        "\n",
        "요약)\n",
        "> 일반적으로 머신러닝에서 데이터 가공(ETL)을 거쳐 모델을 훈련하고 예측하는 과정을 거치는데 ETL부분은 ScikitLearn의 transformer()를 제공하고, 모델의 훈련과 예측은 Estimator 객체를 통해 수행되며, Estimator에는 각각 fit()(훈련), predict()(예측)을 행하는 메소드가 있습니다. 모델의 훈련과 예측이 끝나면 이 2가지는 작업을 Pipeline()으로 묶어 검증을 수행합니다.\n"
      ]
    },
    {
      "cell_type": "markdown",
      "metadata": {
        "id": "45M_XhHwbZA4"
      },
      "source": [
        "## 11-5. 사이킷런의 주요 모듈\n",
        "## (1) 데이터 표현법\n",
        "\n",
        "- 사이킷런의 알고리즘은 파이썬 클래스로 구현되어 있다.\n",
        "- 데이터셋은 **NumPy의 ndarray, Pandas의 DataFrame, SciPy의 Sparse Matrix**를 이용해 나타낼 수 있다.\n",
        "- 훈련과 예측 등 머신러닝 모델을 다룰 때는 CoreAPI라고 불리는 **fit(), transfomer(), predict()**과 같은 함수들을 이용합니다.\n",
        "- [사이킷런의 모듈들](https://scikit-learn.org/stable/modules/classes.html)\n",
        "\n",
        "주로 사용하는 모듈:\n",
        "\n",
        "![이미지1](https://drive.google.com/uc?export=view&id=18O_x2B2QklumpJni7jvj6Klsbb_YT5vs)\n",
        "\n",
        "<br>\n",
        "\n",
        "사이킷런에서는 데이터를 2가지 방식으로 표현한다.\n",
        "1. 특성행렬(Feature Matrix)\n",
        " - 입력데이터를 표현하는 방식이다.\n",
        " - 특성(feature): 데이터에서 수치 값, 이산 값, 불리언 값으로 표현되는 개별 관측치를 의미합니다. 특성 행렬에서는 열에 해당하는 값입니다.\n",
        " - 표본(sample): 각 입력 데이터, 특성 행렬에서는 행에 해당하는 값입니다.\n",
        " - n_samples: 행의 개수(표본의 개수)\n",
        " - n_features: 열의 개수(특성의 개수)\n",
        " - X: 통상 특성 행렬은 변수명 X로 표기합니다.\n",
        " - [n_samples, n_features]은 [행, 열]형태의 2차원 배열 구조를 사용하며 이는 NumPy의 ndarray, Pandas의 DataFrame, SciPy의 Sparse Matrix를 사용하여 나타낼 수 있습니다.\n",
        "\n",
        "2. 타겟벡터(Target Vector)\n",
        " - 입력 데이터의 레이블을 표현하는 방식이다.\n",
        " - 목표(Target): 라벨, 타겟값, 목표값이라고도 부르며 특성 행렬(Feature Matrix)로부터 예측하고자 하는 것을 말합니다.\n",
        " - n_samples: 벡터의 길이(라벨의 개수)\n",
        " - 타겟 벡터에서 n_features는 없습니다.\n",
        " - y: 통상 타겟 벡터는 변수명 y로 표기합니다.\n",
        " - 타겟 벡터는 보통 1차원 벡터로 나타내며, 이는 NumPy의 ndarray, Pandas의 Series를 사용하여 나타낼 수 있습니다.\n",
        " - (단, 타겟 벡터는 경우에 따라 1차원으로 나타내지 않을 수도 있습니다. 이 노드에서 사용되는 예제는 모두 1차원 벡터입니다.)\n",
        "\n",
        "> 특성행렬 X의 n_samples와 타겟벡터 y의 n_samples는 동일해야 한다!!\n",
        "\n"
      ]
    },
    {
      "cell_type": "markdown",
      "metadata": {
        "id": "LtAWSOH9jBUs"
      },
      "source": [
        "## 11-6. 사이킷런의 주요 모듈\n",
        "## (2) 회귀 모델 실습"
      ]
    },
    {
      "cell_type": "markdown",
      "metadata": {
        "id": "n_N7r_bqjIMP"
      },
      "source": [
        "## 11-7. 사이킷런의 주요 모듈\n",
        "## (3) datasets 모듈"
      ]
    },
    {
      "cell_type": "markdown",
      "metadata": {
        "id": "8tvKkX8sjMfq"
      },
      "source": [
        "## 11-8. 사이킷런의 주요 모듈\n",
        "## (4) 사이킷런 데이터셋을 이용한 분류 문제 실습"
      ]
    },
    {
      "cell_type": "markdown",
      "metadata": {
        "id": "RpshOjCqjTwX"
      },
      "source": [
        "## 11-9. 사이킷런의 주요 모듈\n",
        "## (5) Estimator"
      ]
    },
    {
      "cell_type": "markdown",
      "metadata": {
        "id": "az1iUe5bjXIv"
      },
      "source": [
        "## 11-10. 훈련 데이터와 테스트 데이터 분리하기"
      ]
    },
    {
      "cell_type": "code",
      "metadata": {
        "colab": {
          "base_uri": "https://localhost:8080/"
        },
        "id": "JKDVI5r1ND8A",
        "outputId": "a9fad730-a2f7-410b-e77b-af2d80b7ef53"
      },
      "source": [
        "from google.colab import drive\n",
        "drive.mount('/content/drive')"
      ],
      "execution_count": null,
      "outputs": [
        {
          "output_type": "stream",
          "text": [
            "Mounted at /content/drive\n"
          ],
          "name": "stdout"
        }
      ]
    },
    {
      "cell_type": "code",
      "metadata": {
        "id": "547ogN0TPdCS"
      },
      "source": [
        ""
      ],
      "execution_count": null,
      "outputs": []
    },
    {
      "cell_type": "markdown",
      "metadata": {
        "id": "hAZ_wCUxje7W"
      },
      "source": [
        "## 새로 알게 된 팁\n",
        "\n",
        "colab에서 드라이브에 업로드한 이미지를 마크다운으로 보이기"
      ]
    },
    {
      "cell_type": "code",
      "metadata": {
        "id": "pa-AtQEgMGEZ"
      },
      "source": [
        ""
      ],
      "execution_count": null,
      "outputs": []
    }
  ]
}
